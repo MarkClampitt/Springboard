{
 "cells": [
  {
   "cell_type": "markdown",
   "id": "38a8acf7",
   "metadata": {},
   "source": [
    "# Data Cleaning & Wrangling"
   ]
  },
  {
   "cell_type": "code",
   "execution_count": 1,
   "id": "7dba732d",
   "metadata": {},
   "outputs": [],
   "source": [
    "import pandas as pd\n",
    "import numpy as np\n"
   ]
  },
  {
   "cell_type": "code",
   "execution_count": 2,
   "id": "0c78c5a5",
   "metadata": {},
   "outputs": [],
   "source": [
    "df = pd.read_csv(r'/Users/markclampitt/Documents/Jan Sem 2022/617-Predictive Strategy/Predictive_Proj/BikeRentalData.csv')"
   ]
  },
  {
   "cell_type": "markdown",
   "id": "4ea717ba",
   "metadata": {},
   "source": [
    "# Initial Look at Dataset"
   ]
  },
  {
   "cell_type": "code",
   "execution_count": 3,
   "id": "27c990b1",
   "metadata": {},
   "outputs": [
    {
     "data": {
      "text/plain": [
       "(9601139, 26)"
      ]
     },
     "execution_count": 3,
     "metadata": {},
     "output_type": "execute_result"
    }
   ],
   "source": [
    "df.shape"
   ]
  },
  {
   "cell_type": "code",
   "execution_count": 4,
   "id": "0b9c97ef",
   "metadata": {},
   "outputs": [
    {
     "data": {
      "text/html": [
       "<div>\n",
       "<style scoped>\n",
       "    .dataframe tbody tr th:only-of-type {\n",
       "        vertical-align: middle;\n",
       "    }\n",
       "\n",
       "    .dataframe tbody tr th {\n",
       "        vertical-align: top;\n",
       "    }\n",
       "\n",
       "    .dataframe thead th {\n",
       "        text-align: right;\n",
       "    }\n",
       "</style>\n",
       "<table border=\"1\" class=\"dataframe\">\n",
       "  <thead>\n",
       "    <tr style=\"text-align: right;\">\n",
       "      <th></th>\n",
       "      <th>Unnamed: 0</th>\n",
       "      <th>Duration</th>\n",
       "      <th>Distance</th>\n",
       "      <th>PLong</th>\n",
       "      <th>PLatd</th>\n",
       "      <th>DLong</th>\n",
       "      <th>DLatd</th>\n",
       "      <th>Haversine</th>\n",
       "      <th>Pmonth</th>\n",
       "      <th>Pday</th>\n",
       "      <th>...</th>\n",
       "      <th>Dmin</th>\n",
       "      <th>DDweek</th>\n",
       "      <th>Temp</th>\n",
       "      <th>Precip</th>\n",
       "      <th>Wind</th>\n",
       "      <th>Humid</th>\n",
       "      <th>Solar</th>\n",
       "      <th>Snow</th>\n",
       "      <th>GroundTemp</th>\n",
       "      <th>Dust</th>\n",
       "    </tr>\n",
       "  </thead>\n",
       "  <tbody>\n",
       "    <tr>\n",
       "      <th>0</th>\n",
       "      <td>0</td>\n",
       "      <td>3</td>\n",
       "      <td>50</td>\n",
       "      <td>37.544666</td>\n",
       "      <td>126.888359</td>\n",
       "      <td>37.544666</td>\n",
       "      <td>126.888359</td>\n",
       "      <td>0.000000</td>\n",
       "      <td>1</td>\n",
       "      <td>1</td>\n",
       "      <td>...</td>\n",
       "      <td>4</td>\n",
       "      <td>0</td>\n",
       "      <td>-3.2</td>\n",
       "      <td>0.0</td>\n",
       "      <td>0.5</td>\n",
       "      <td>40.0</td>\n",
       "      <td>0.0</td>\n",
       "      <td>0.0</td>\n",
       "      <td>-2.2</td>\n",
       "      <td>25.0</td>\n",
       "    </tr>\n",
       "    <tr>\n",
       "      <th>1</th>\n",
       "      <td>1</td>\n",
       "      <td>24</td>\n",
       "      <td>7670</td>\n",
       "      <td>37.506199</td>\n",
       "      <td>127.003944</td>\n",
       "      <td>37.551250</td>\n",
       "      <td>127.035103</td>\n",
       "      <td>5.713529</td>\n",
       "      <td>1</td>\n",
       "      <td>1</td>\n",
       "      <td>...</td>\n",
       "      <td>25</td>\n",
       "      <td>0</td>\n",
       "      <td>-3.2</td>\n",
       "      <td>0.0</td>\n",
       "      <td>0.5</td>\n",
       "      <td>40.0</td>\n",
       "      <td>0.0</td>\n",
       "      <td>0.0</td>\n",
       "      <td>-2.2</td>\n",
       "      <td>25.0</td>\n",
       "    </tr>\n",
       "    <tr>\n",
       "      <th>2</th>\n",
       "      <td>2</td>\n",
       "      <td>8</td>\n",
       "      <td>1390</td>\n",
       "      <td>37.544590</td>\n",
       "      <td>127.057083</td>\n",
       "      <td>37.537014</td>\n",
       "      <td>127.061096</td>\n",
       "      <td>0.913702</td>\n",
       "      <td>1</td>\n",
       "      <td>1</td>\n",
       "      <td>...</td>\n",
       "      <td>9</td>\n",
       "      <td>0</td>\n",
       "      <td>-3.2</td>\n",
       "      <td>0.0</td>\n",
       "      <td>0.5</td>\n",
       "      <td>40.0</td>\n",
       "      <td>0.0</td>\n",
       "      <td>0.0</td>\n",
       "      <td>-2.2</td>\n",
       "      <td>25.0</td>\n",
       "    </tr>\n",
       "    <tr>\n",
       "      <th>3</th>\n",
       "      <td>3</td>\n",
       "      <td>8</td>\n",
       "      <td>1820</td>\n",
       "      <td>37.571102</td>\n",
       "      <td>127.023560</td>\n",
       "      <td>37.561447</td>\n",
       "      <td>127.034920</td>\n",
       "      <td>1.468027</td>\n",
       "      <td>1</td>\n",
       "      <td>1</td>\n",
       "      <td>...</td>\n",
       "      <td>10</td>\n",
       "      <td>0</td>\n",
       "      <td>-3.2</td>\n",
       "      <td>0.0</td>\n",
       "      <td>0.5</td>\n",
       "      <td>40.0</td>\n",
       "      <td>0.0</td>\n",
       "      <td>0.0</td>\n",
       "      <td>-2.2</td>\n",
       "      <td>25.0</td>\n",
       "    </tr>\n",
       "    <tr>\n",
       "      <th>4</th>\n",
       "      <td>4</td>\n",
       "      <td>4</td>\n",
       "      <td>850</td>\n",
       "      <td>37.573242</td>\n",
       "      <td>127.015907</td>\n",
       "      <td>37.565849</td>\n",
       "      <td>127.016403</td>\n",
       "      <td>0.823227</td>\n",
       "      <td>1</td>\n",
       "      <td>1</td>\n",
       "      <td>...</td>\n",
       "      <td>6</td>\n",
       "      <td>0</td>\n",
       "      <td>-3.2</td>\n",
       "      <td>0.0</td>\n",
       "      <td>0.5</td>\n",
       "      <td>40.0</td>\n",
       "      <td>0.0</td>\n",
       "      <td>0.0</td>\n",
       "      <td>-2.2</td>\n",
       "      <td>25.0</td>\n",
       "    </tr>\n",
       "  </tbody>\n",
       "</table>\n",
       "<p>5 rows × 26 columns</p>\n",
       "</div>"
      ],
      "text/plain": [
       "   Unnamed: 0  Duration  Distance      PLong       PLatd      DLong  \\\n",
       "0           0         3        50  37.544666  126.888359  37.544666   \n",
       "1           1        24      7670  37.506199  127.003944  37.551250   \n",
       "2           2         8      1390  37.544590  127.057083  37.537014   \n",
       "3           3         8      1820  37.571102  127.023560  37.561447   \n",
       "4           4         4       850  37.573242  127.015907  37.565849   \n",
       "\n",
       "        DLatd  Haversine  Pmonth  Pday  ...  Dmin  DDweek  Temp  Precip  Wind  \\\n",
       "0  126.888359   0.000000       1     1  ...     4       0  -3.2     0.0   0.5   \n",
       "1  127.035103   5.713529       1     1  ...    25       0  -3.2     0.0   0.5   \n",
       "2  127.061096   0.913702       1     1  ...     9       0  -3.2     0.0   0.5   \n",
       "3  127.034920   1.468027       1     1  ...    10       0  -3.2     0.0   0.5   \n",
       "4  127.016403   0.823227       1     1  ...     6       0  -3.2     0.0   0.5   \n",
       "\n",
       "   Humid  Solar  Snow  GroundTemp  Dust  \n",
       "0   40.0    0.0   0.0        -2.2  25.0  \n",
       "1   40.0    0.0   0.0        -2.2  25.0  \n",
       "2   40.0    0.0   0.0        -2.2  25.0  \n",
       "3   40.0    0.0   0.0        -2.2  25.0  \n",
       "4   40.0    0.0   0.0        -2.2  25.0  \n",
       "\n",
       "[5 rows x 26 columns]"
      ]
     },
     "execution_count": 4,
     "metadata": {},
     "output_type": "execute_result"
    }
   ],
   "source": [
    "df.head()"
   ]
  },
  {
   "cell_type": "code",
   "execution_count": 5,
   "id": "e7c08fe8",
   "metadata": {},
   "outputs": [
    {
     "data": {
      "text/html": [
       "<div>\n",
       "<style scoped>\n",
       "    .dataframe tbody tr th:only-of-type {\n",
       "        vertical-align: middle;\n",
       "    }\n",
       "\n",
       "    .dataframe tbody tr th {\n",
       "        vertical-align: top;\n",
       "    }\n",
       "\n",
       "    .dataframe thead th {\n",
       "        text-align: right;\n",
       "    }\n",
       "</style>\n",
       "<table border=\"1\" class=\"dataframe\">\n",
       "  <thead>\n",
       "    <tr style=\"text-align: right;\">\n",
       "      <th></th>\n",
       "      <th>Unnamed: 0</th>\n",
       "      <th>Duration</th>\n",
       "      <th>Distance</th>\n",
       "      <th>PLong</th>\n",
       "      <th>PLatd</th>\n",
       "      <th>DLong</th>\n",
       "      <th>DLatd</th>\n",
       "      <th>Haversine</th>\n",
       "      <th>Pmonth</th>\n",
       "      <th>Pday</th>\n",
       "      <th>...</th>\n",
       "      <th>Dmin</th>\n",
       "      <th>DDweek</th>\n",
       "      <th>Temp</th>\n",
       "      <th>Precip</th>\n",
       "      <th>Wind</th>\n",
       "      <th>Humid</th>\n",
       "      <th>Solar</th>\n",
       "      <th>Snow</th>\n",
       "      <th>GroundTemp</th>\n",
       "      <th>Dust</th>\n",
       "    </tr>\n",
       "  </thead>\n",
       "  <tbody>\n",
       "    <tr>\n",
       "      <th>count</th>\n",
       "      <td>9.601139e+06</td>\n",
       "      <td>9.601139e+06</td>\n",
       "      <td>9.601139e+06</td>\n",
       "      <td>9.601139e+06</td>\n",
       "      <td>9.601139e+06</td>\n",
       "      <td>9.601139e+06</td>\n",
       "      <td>9.601139e+06</td>\n",
       "      <td>9.601139e+06</td>\n",
       "      <td>9.601139e+06</td>\n",
       "      <td>9.601139e+06</td>\n",
       "      <td>...</td>\n",
       "      <td>9.601139e+06</td>\n",
       "      <td>9.601139e+06</td>\n",
       "      <td>9.601139e+06</td>\n",
       "      <td>9.601139e+06</td>\n",
       "      <td>9.601139e+06</td>\n",
       "      <td>9.601139e+06</td>\n",
       "      <td>9.601139e+06</td>\n",
       "      <td>9.601139e+06</td>\n",
       "      <td>9.601139e+06</td>\n",
       "      <td>9.601139e+06</td>\n",
       "    </tr>\n",
       "    <tr>\n",
       "      <th>mean</th>\n",
       "      <td>4.923152e+06</td>\n",
       "      <td>2.580294e+01</td>\n",
       "      <td>3.713519e+03</td>\n",
       "      <td>3.754761e+01</td>\n",
       "      <td>1.269908e+02</td>\n",
       "      <td>3.754770e+01</td>\n",
       "      <td>1.269907e+02</td>\n",
       "      <td>1.870315e+00</td>\n",
       "      <td>7.578754e+00</td>\n",
       "      <td>1.576714e+01</td>\n",
       "      <td>...</td>\n",
       "      <td>2.999278e+01</td>\n",
       "      <td>2.945771e+00</td>\n",
       "      <td>1.856201e+01</td>\n",
       "      <td>1.784856e-02</td>\n",
       "      <td>1.819274e+00</td>\n",
       "      <td>5.397565e+01</td>\n",
       "      <td>7.300679e-01</td>\n",
       "      <td>9.948924e-03</td>\n",
       "      <td>2.072376e+01</td>\n",
       "      <td>3.245798e+01</td>\n",
       "    </tr>\n",
       "    <tr>\n",
       "      <th>std</th>\n",
       "      <td>2.841734e+06</td>\n",
       "      <td>2.504333e+01</td>\n",
       "      <td>3.956611e+03</td>\n",
       "      <td>4.441376e-02</td>\n",
       "      <td>8.257065e-02</td>\n",
       "      <td>4.445305e-02</td>\n",
       "      <td>8.323726e-02</td>\n",
       "      <td>1.995361e+00</td>\n",
       "      <td>2.696797e+00</td>\n",
       "      <td>8.748012e+00</td>\n",
       "      <td>...</td>\n",
       "      <td>1.730960e+01</td>\n",
       "      <td>1.977624e+00</td>\n",
       "      <td>9.498075e+00</td>\n",
       "      <td>3.736282e-01</td>\n",
       "      <td>9.710258e-01</td>\n",
       "      <td>1.742159e+01</td>\n",
       "      <td>9.175004e-01</td>\n",
       "      <td>1.628091e-01</td>\n",
       "      <td>1.265221e+01</td>\n",
       "      <td>2.407264e+01</td>\n",
       "    </tr>\n",
       "    <tr>\n",
       "      <th>min</th>\n",
       "      <td>0.000000e+00</td>\n",
       "      <td>1.000000e+00</td>\n",
       "      <td>1.000000e+00</td>\n",
       "      <td>3.743727e+01</td>\n",
       "      <td>1.267986e+02</td>\n",
       "      <td>3.743727e+01</td>\n",
       "      <td>1.267986e+02</td>\n",
       "      <td>0.000000e+00</td>\n",
       "      <td>1.000000e+00</td>\n",
       "      <td>1.000000e+00</td>\n",
       "      <td>...</td>\n",
       "      <td>0.000000e+00</td>\n",
       "      <td>0.000000e+00</td>\n",
       "      <td>-1.780000e+01</td>\n",
       "      <td>0.000000e+00</td>\n",
       "      <td>0.000000e+00</td>\n",
       "      <td>1.000000e+01</td>\n",
       "      <td>0.000000e+00</td>\n",
       "      <td>0.000000e+00</td>\n",
       "      <td>-1.360000e+01</td>\n",
       "      <td>0.000000e+00</td>\n",
       "    </tr>\n",
       "    <tr>\n",
       "      <th>25%</th>\n",
       "      <td>2.466320e+06</td>\n",
       "      <td>8.000000e+00</td>\n",
       "      <td>1.230000e+03</td>\n",
       "      <td>3.751424e+01</td>\n",
       "      <td>1.269200e+02</td>\n",
       "      <td>3.751424e+01</td>\n",
       "      <td>1.269194e+02</td>\n",
       "      <td>6.758669e-01</td>\n",
       "      <td>6.000000e+00</td>\n",
       "      <td>8.000000e+00</td>\n",
       "      <td>...</td>\n",
       "      <td>1.500000e+01</td>\n",
       "      <td>1.000000e+00</td>\n",
       "      <td>1.220000e+01</td>\n",
       "      <td>0.000000e+00</td>\n",
       "      <td>1.100000e+00</td>\n",
       "      <td>4.100000e+01</td>\n",
       "      <td>0.000000e+00</td>\n",
       "      <td>0.000000e+00</td>\n",
       "      <td>1.160000e+01</td>\n",
       "      <td>1.600000e+01</td>\n",
       "    </tr>\n",
       "    <tr>\n",
       "      <th>50%</th>\n",
       "      <td>4.921318e+06</td>\n",
       "      <td>1.600000e+01</td>\n",
       "      <td>2.280000e+03</td>\n",
       "      <td>3.754693e+01</td>\n",
       "      <td>1.269943e+02</td>\n",
       "      <td>3.754655e+01</td>\n",
       "      <td>1.269947e+02</td>\n",
       "      <td>1.257498e+00</td>\n",
       "      <td>8.000000e+00</td>\n",
       "      <td>1.600000e+01</td>\n",
       "      <td>...</td>\n",
       "      <td>3.000000e+01</td>\n",
       "      <td>3.000000e+00</td>\n",
       "      <td>2.010000e+01</td>\n",
       "      <td>0.000000e+00</td>\n",
       "      <td>1.700000e+00</td>\n",
       "      <td>5.300000e+01</td>\n",
       "      <td>2.700000e-01</td>\n",
       "      <td>0.000000e+00</td>\n",
       "      <td>2.110000e+01</td>\n",
       "      <td>2.700000e+01</td>\n",
       "    </tr>\n",
       "    <tr>\n",
       "      <th>75%</th>\n",
       "      <td>7.389176e+06</td>\n",
       "      <td>3.600000e+01</td>\n",
       "      <td>4.620000e+03</td>\n",
       "      <td>3.757324e+01</td>\n",
       "      <td>1.270618e+02</td>\n",
       "      <td>3.757324e+01</td>\n",
       "      <td>1.270624e+02</td>\n",
       "      <td>2.363812e+00</td>\n",
       "      <td>1.000000e+01</td>\n",
       "      <td>2.300000e+01</td>\n",
       "      <td>...</td>\n",
       "      <td>4.500000e+01</td>\n",
       "      <td>5.000000e+00</td>\n",
       "      <td>2.550000e+01</td>\n",
       "      <td>0.000000e+00</td>\n",
       "      <td>2.400000e+00</td>\n",
       "      <td>6.700000e+01</td>\n",
       "      <td>1.260000e+00</td>\n",
       "      <td>0.000000e+00</td>\n",
       "      <td>2.850000e+01</td>\n",
       "      <td>4.200000e+01</td>\n",
       "    </tr>\n",
       "    <tr>\n",
       "      <th>max</th>\n",
       "      <td>9.830310e+06</td>\n",
       "      <td>1.190000e+02</td>\n",
       "      <td>3.329000e+04</td>\n",
       "      <td>3.768972e+01</td>\n",
       "      <td>1.271803e+02</td>\n",
       "      <td>3.768972e+01</td>\n",
       "      <td>1.271803e+02</td>\n",
       "      <td>2.863448e+01</td>\n",
       "      <td>1.200000e+01</td>\n",
       "      <td>3.100000e+01</td>\n",
       "      <td>...</td>\n",
       "      <td>5.900000e+01</td>\n",
       "      <td>6.000000e+00</td>\n",
       "      <td>3.940000e+01</td>\n",
       "      <td>3.500000e+01</td>\n",
       "      <td>7.400000e+00</td>\n",
       "      <td>9.800000e+01</td>\n",
       "      <td>3.520000e+00</td>\n",
       "      <td>8.800000e+00</td>\n",
       "      <td>6.220000e+01</td>\n",
       "      <td>3.040000e+02</td>\n",
       "    </tr>\n",
       "  </tbody>\n",
       "</table>\n",
       "<p>8 rows × 26 columns</p>\n",
       "</div>"
      ],
      "text/plain": [
       "         Unnamed: 0      Duration      Distance         PLong         PLatd  \\\n",
       "count  9.601139e+06  9.601139e+06  9.601139e+06  9.601139e+06  9.601139e+06   \n",
       "mean   4.923152e+06  2.580294e+01  3.713519e+03  3.754761e+01  1.269908e+02   \n",
       "std    2.841734e+06  2.504333e+01  3.956611e+03  4.441376e-02  8.257065e-02   \n",
       "min    0.000000e+00  1.000000e+00  1.000000e+00  3.743727e+01  1.267986e+02   \n",
       "25%    2.466320e+06  8.000000e+00  1.230000e+03  3.751424e+01  1.269200e+02   \n",
       "50%    4.921318e+06  1.600000e+01  2.280000e+03  3.754693e+01  1.269943e+02   \n",
       "75%    7.389176e+06  3.600000e+01  4.620000e+03  3.757324e+01  1.270618e+02   \n",
       "max    9.830310e+06  1.190000e+02  3.329000e+04  3.768972e+01  1.271803e+02   \n",
       "\n",
       "              DLong         DLatd     Haversine        Pmonth          Pday  \\\n",
       "count  9.601139e+06  9.601139e+06  9.601139e+06  9.601139e+06  9.601139e+06   \n",
       "mean   3.754770e+01  1.269907e+02  1.870315e+00  7.578754e+00  1.576714e+01   \n",
       "std    4.445305e-02  8.323726e-02  1.995361e+00  2.696797e+00  8.748012e+00   \n",
       "min    3.743727e+01  1.267986e+02  0.000000e+00  1.000000e+00  1.000000e+00   \n",
       "25%    3.751424e+01  1.269194e+02  6.758669e-01  6.000000e+00  8.000000e+00   \n",
       "50%    3.754655e+01  1.269947e+02  1.257498e+00  8.000000e+00  1.600000e+01   \n",
       "75%    3.757324e+01  1.270624e+02  2.363812e+00  1.000000e+01  2.300000e+01   \n",
       "max    3.768972e+01  1.271803e+02  2.863448e+01  1.200000e+01  3.100000e+01   \n",
       "\n",
       "       ...          Dmin        DDweek          Temp        Precip  \\\n",
       "count  ...  9.601139e+06  9.601139e+06  9.601139e+06  9.601139e+06   \n",
       "mean   ...  2.999278e+01  2.945771e+00  1.856201e+01  1.784856e-02   \n",
       "std    ...  1.730960e+01  1.977624e+00  9.498075e+00  3.736282e-01   \n",
       "min    ...  0.000000e+00  0.000000e+00 -1.780000e+01  0.000000e+00   \n",
       "25%    ...  1.500000e+01  1.000000e+00  1.220000e+01  0.000000e+00   \n",
       "50%    ...  3.000000e+01  3.000000e+00  2.010000e+01  0.000000e+00   \n",
       "75%    ...  4.500000e+01  5.000000e+00  2.550000e+01  0.000000e+00   \n",
       "max    ...  5.900000e+01  6.000000e+00  3.940000e+01  3.500000e+01   \n",
       "\n",
       "               Wind         Humid         Solar          Snow    GroundTemp  \\\n",
       "count  9.601139e+06  9.601139e+06  9.601139e+06  9.601139e+06  9.601139e+06   \n",
       "mean   1.819274e+00  5.397565e+01  7.300679e-01  9.948924e-03  2.072376e+01   \n",
       "std    9.710258e-01  1.742159e+01  9.175004e-01  1.628091e-01  1.265221e+01   \n",
       "min    0.000000e+00  1.000000e+01  0.000000e+00  0.000000e+00 -1.360000e+01   \n",
       "25%    1.100000e+00  4.100000e+01  0.000000e+00  0.000000e+00  1.160000e+01   \n",
       "50%    1.700000e+00  5.300000e+01  2.700000e-01  0.000000e+00  2.110000e+01   \n",
       "75%    2.400000e+00  6.700000e+01  1.260000e+00  0.000000e+00  2.850000e+01   \n",
       "max    7.400000e+00  9.800000e+01  3.520000e+00  8.800000e+00  6.220000e+01   \n",
       "\n",
       "               Dust  \n",
       "count  9.601139e+06  \n",
       "mean   3.245798e+01  \n",
       "std    2.407264e+01  \n",
       "min    0.000000e+00  \n",
       "25%    1.600000e+01  \n",
       "50%    2.700000e+01  \n",
       "75%    4.200000e+01  \n",
       "max    3.040000e+02  \n",
       "\n",
       "[8 rows x 26 columns]"
      ]
     },
     "execution_count": 5,
     "metadata": {},
     "output_type": "execute_result"
    }
   ],
   "source": [
    "df.describe()"
   ]
  },
  {
   "cell_type": "code",
   "execution_count": 6,
   "id": "3cc56924",
   "metadata": {},
   "outputs": [
    {
     "data": {
      "text/plain": [
       "Unnamed: 0    9601139\n",
       "Duration      9601139\n",
       "Distance      9601139\n",
       "PLong         9601139\n",
       "PLatd         9601139\n",
       "DLong         9601139\n",
       "DLatd         9601139\n",
       "Haversine     9601139\n",
       "Pmonth        9601139\n",
       "Pday          9601139\n",
       "Phour         9601139\n",
       "Pmin          9601139\n",
       "PDweek        9601139\n",
       "Dmonth        9601139\n",
       "Dday          9601139\n",
       "Dhour         9601139\n",
       "Dmin          9601139\n",
       "DDweek        9601139\n",
       "Temp          9601139\n",
       "Precip        9601139\n",
       "Wind          9601139\n",
       "Humid         9601139\n",
       "Solar         9601139\n",
       "Snow          9601139\n",
       "GroundTemp    9601139\n",
       "Dust          9601139\n",
       "dtype: int64"
      ]
     },
     "execution_count": 6,
     "metadata": {},
     "output_type": "execute_result"
    }
   ],
   "source": [
    "df.isnull().count()"
   ]
  },
  {
   "cell_type": "code",
   "execution_count": 7,
   "id": "2ac3d70f",
   "metadata": {},
   "outputs": [
    {
     "data": {
      "text/plain": [
       "<bound method DataFrame.info of          Unnamed: 0  Duration  Distance      PLong       PLatd      DLong  \\\n",
       "0                 0         3        50  37.544666  126.888359  37.544666   \n",
       "1                 1        24      7670  37.506199  127.003944  37.551250   \n",
       "2                 2         8      1390  37.544590  127.057083  37.537014   \n",
       "3                 3         8      1820  37.571102  127.023560  37.561447   \n",
       "4                 4         4       850  37.573242  127.015907  37.565849   \n",
       "...             ...       ...       ...        ...         ...        ...   \n",
       "9601134     9830306        67      6930  37.562607  127.051308  37.562607   \n",
       "9601135     9830307        58      8320  37.511982  127.085052  37.476028   \n",
       "9601136     9830308       118      2730  37.506199  127.003944  37.514870   \n",
       "9601137     9830309        90     17170  37.489750  126.927467  37.565903   \n",
       "9601138     9830310       116      1410  37.585655  127.075050  37.585655   \n",
       "\n",
       "              DLatd  Haversine  Pmonth  Pday  ...  Dmin  DDweek  Temp  Precip  \\\n",
       "0        126.888359   0.000000       1     1  ...     4       0  -3.2     0.0   \n",
       "1        127.035103   5.713529       1     1  ...    25       0  -3.2     0.0   \n",
       "2        127.061096   0.913702       1     1  ...     9       0  -3.2     0.0   \n",
       "3        127.034920   1.468027       1     1  ...    10       0  -3.2     0.0   \n",
       "4        127.016403   0.823227       1     1  ...     6       0  -3.2     0.0   \n",
       "...             ...        ...     ...   ...  ...   ...     ...   ...     ...   \n",
       "9601134  127.051308   0.000000      12    31  ...    51       1  -5.2     0.0   \n",
       "9601135  127.105942   4.402263      12    31  ...    53       1  -5.2     0.0   \n",
       "9601136  127.015282   1.389156      12    31  ...    58       1  -5.4     0.0   \n",
       "9601137  126.901184   8.779307      12    31  ...    26       1  -5.2     0.0   \n",
       "9601138  127.075050   0.000000      12    31  ...    30       1  -5.2     0.0   \n",
       "\n",
       "         Wind  Humid  Solar  Snow  GroundTemp  Dust  \n",
       "0         0.5   40.0    0.0   0.0        -2.2  25.0  \n",
       "1         0.5   40.0    0.0   0.0        -2.2  25.0  \n",
       "2         0.5   40.0    0.0   0.0        -2.2  25.0  \n",
       "3         0.5   40.0    0.0   0.0        -2.2  25.0  \n",
       "4         0.5   40.0    0.0   0.0        -2.2  25.0  \n",
       "...       ...    ...    ...   ...         ...   ...  \n",
       "9601134   1.6   47.0    0.0   0.0        -5.1  53.0  \n",
       "9601135   1.6   47.0    0.0   0.0        -5.1  53.0  \n",
       "9601136   1.3   46.0    0.0   0.0        -5.0  49.0  \n",
       "9601137   1.6   47.0    0.0   0.0        -5.1  53.0  \n",
       "9601138   1.6   47.0    0.0   0.0        -5.1  53.0  \n",
       "\n",
       "[9601139 rows x 26 columns]>"
      ]
     },
     "execution_count": 7,
     "metadata": {},
     "output_type": "execute_result"
    }
   ],
   "source": [
    "df.info"
   ]
  },
  {
   "cell_type": "markdown",
   "id": "ea9668a3",
   "metadata": {},
   "source": [
    "# Data Cleaning"
   ]
  },
  {
   "cell_type": "code",
   "execution_count": 8,
   "id": "52516e2e",
   "metadata": {},
   "outputs": [
    {
     "data": {
      "text/plain": [
       "Unnamed: 0    0\n",
       "Duration      0\n",
       "Distance      0\n",
       "PLong         0\n",
       "PLatd         0\n",
       "DLong         0\n",
       "DLatd         0\n",
       "Haversine     0\n",
       "Pmonth        0\n",
       "Pday          0\n",
       "Phour         0\n",
       "Pmin          0\n",
       "PDweek        0\n",
       "Dmonth        0\n",
       "Dday          0\n",
       "Dhour         0\n",
       "Dmin          0\n",
       "DDweek        0\n",
       "Temp          0\n",
       "Precip        0\n",
       "Wind          0\n",
       "Humid         0\n",
       "Solar         0\n",
       "Snow          0\n",
       "GroundTemp    0\n",
       "Dust          0\n",
       "dtype: int64"
      ]
     },
     "execution_count": 8,
     "metadata": {},
     "output_type": "execute_result"
    }
   ],
   "source": [
    " df.isnull().sum(axis = 0)"
   ]
  },
  {
   "cell_type": "markdown",
   "id": "8f801390",
   "metadata": {},
   "source": [
    "There were no null values"
   ]
  },
  {
   "cell_type": "code",
   "execution_count": 9,
   "id": "f6e2324c",
   "metadata": {},
   "outputs": [
    {
     "data": {
      "text/plain": [
       "(9601139, 26)"
      ]
     },
     "execution_count": 9,
     "metadata": {},
     "output_type": "execute_result"
    }
   ],
   "source": [
    "df.shape"
   ]
  },
  {
   "cell_type": "code",
   "execution_count": 10,
   "id": "5ee2750c",
   "metadata": {},
   "outputs": [],
   "source": [
    "df = df.drop_duplicates()"
   ]
  },
  {
   "cell_type": "code",
   "execution_count": 11,
   "id": "8a4f9187",
   "metadata": {},
   "outputs": [
    {
     "data": {
      "text/plain": [
       "(9601139, 26)"
      ]
     },
     "execution_count": 11,
     "metadata": {},
     "output_type": "execute_result"
    }
   ],
   "source": [
    "df.shape"
   ]
  },
  {
   "cell_type": "markdown",
   "id": "c5d42f71",
   "metadata": {},
   "source": [
    "No duplicates found"
   ]
  },
  {
   "cell_type": "markdown",
   "id": "e2d76090",
   "metadata": {},
   "source": [
    "# Removing Outlier"
   ]
  },
  {
   "cell_type": "code",
   "execution_count": 12,
   "id": "0a9bd2f4",
   "metadata": {},
   "outputs": [],
   "source": [
    "df_describeDF = df.describe().T"
   ]
  },
  {
   "cell_type": "code",
   "execution_count": 13,
   "id": "79187701",
   "metadata": {},
   "outputs": [
    {
     "name": "stdout",
     "output_type": "stream",
     "text": [
      "<class 'pandas.core.frame.DataFrame'>\n",
      "Index: 26 entries, Unnamed: 0 to Dust\n",
      "Data columns (total 8 columns):\n",
      " #   Column  Non-Null Count  Dtype  \n",
      "---  ------  --------------  -----  \n",
      " 0   count   26 non-null     float64\n",
      " 1   mean    26 non-null     float64\n",
      " 2   std     26 non-null     float64\n",
      " 3   min     26 non-null     float64\n",
      " 4   25%     26 non-null     float64\n",
      " 5   50%     26 non-null     float64\n",
      " 6   75%     26 non-null     float64\n",
      " 7   max     26 non-null     float64\n",
      "dtypes: float64(8)\n",
      "memory usage: 2.9+ KB\n"
     ]
    }
   ],
   "source": [
    "df_describeDF.info()"
   ]
  },
  {
   "cell_type": "code",
   "execution_count": 14,
   "id": "07513c5c",
   "metadata": {},
   "outputs": [],
   "source": [
    "df_describeDF['Upper Limit'] = df_describeDF['mean'] + (3* df_describeDF['std'])"
   ]
  },
  {
   "cell_type": "code",
   "execution_count": 15,
   "id": "19800e61",
   "metadata": {},
   "outputs": [
    {
     "data": {
      "text/html": [
       "<div>\n",
       "<style scoped>\n",
       "    .dataframe tbody tr th:only-of-type {\n",
       "        vertical-align: middle;\n",
       "    }\n",
       "\n",
       "    .dataframe tbody tr th {\n",
       "        vertical-align: top;\n",
       "    }\n",
       "\n",
       "    .dataframe thead th {\n",
       "        text-align: right;\n",
       "    }\n",
       "</style>\n",
       "<table border=\"1\" class=\"dataframe\">\n",
       "  <thead>\n",
       "    <tr style=\"text-align: right;\">\n",
       "      <th></th>\n",
       "      <th>count</th>\n",
       "      <th>mean</th>\n",
       "      <th>std</th>\n",
       "      <th>min</th>\n",
       "      <th>25%</th>\n",
       "      <th>50%</th>\n",
       "      <th>75%</th>\n",
       "      <th>max</th>\n",
       "      <th>Upper Limit</th>\n",
       "    </tr>\n",
       "  </thead>\n",
       "  <tbody>\n",
       "    <tr>\n",
       "      <th>Unnamed: 0</th>\n",
       "      <td>9601139.0</td>\n",
       "      <td>4.923152e+06</td>\n",
       "      <td>2.841734e+06</td>\n",
       "      <td>0.000000</td>\n",
       "      <td>2.466320e+06</td>\n",
       "      <td>4.921318e+06</td>\n",
       "      <td>7.389176e+06</td>\n",
       "      <td>9.830310e+06</td>\n",
       "      <td>1.344835e+07</td>\n",
       "    </tr>\n",
       "    <tr>\n",
       "      <th>Duration</th>\n",
       "      <td>9601139.0</td>\n",
       "      <td>2.580294e+01</td>\n",
       "      <td>2.504333e+01</td>\n",
       "      <td>1.000000</td>\n",
       "      <td>8.000000e+00</td>\n",
       "      <td>1.600000e+01</td>\n",
       "      <td>3.600000e+01</td>\n",
       "      <td>1.190000e+02</td>\n",
       "      <td>1.009329e+02</td>\n",
       "    </tr>\n",
       "    <tr>\n",
       "      <th>Distance</th>\n",
       "      <td>9601139.0</td>\n",
       "      <td>3.713519e+03</td>\n",
       "      <td>3.956611e+03</td>\n",
       "      <td>1.000000</td>\n",
       "      <td>1.230000e+03</td>\n",
       "      <td>2.280000e+03</td>\n",
       "      <td>4.620000e+03</td>\n",
       "      <td>3.329000e+04</td>\n",
       "      <td>1.558335e+04</td>\n",
       "    </tr>\n",
       "    <tr>\n",
       "      <th>PLong</th>\n",
       "      <td>9601139.0</td>\n",
       "      <td>3.754761e+01</td>\n",
       "      <td>4.441376e-02</td>\n",
       "      <td>37.437271</td>\n",
       "      <td>3.751424e+01</td>\n",
       "      <td>3.754693e+01</td>\n",
       "      <td>3.757324e+01</td>\n",
       "      <td>3.768972e+01</td>\n",
       "      <td>3.768085e+01</td>\n",
       "    </tr>\n",
       "    <tr>\n",
       "      <th>PLatd</th>\n",
       "      <td>9601139.0</td>\n",
       "      <td>1.269908e+02</td>\n",
       "      <td>8.257065e-02</td>\n",
       "      <td>126.798599</td>\n",
       "      <td>1.269200e+02</td>\n",
       "      <td>1.269943e+02</td>\n",
       "      <td>1.270618e+02</td>\n",
       "      <td>1.271803e+02</td>\n",
       "      <td>1.272385e+02</td>\n",
       "    </tr>\n",
       "    <tr>\n",
       "      <th>DLong</th>\n",
       "      <td>9601139.0</td>\n",
       "      <td>3.754770e+01</td>\n",
       "      <td>4.445305e-02</td>\n",
       "      <td>37.437271</td>\n",
       "      <td>3.751424e+01</td>\n",
       "      <td>3.754655e+01</td>\n",
       "      <td>3.757324e+01</td>\n",
       "      <td>3.768972e+01</td>\n",
       "      <td>3.768105e+01</td>\n",
       "    </tr>\n",
       "    <tr>\n",
       "      <th>DLatd</th>\n",
       "      <td>9601139.0</td>\n",
       "      <td>1.269907e+02</td>\n",
       "      <td>8.323726e-02</td>\n",
       "      <td>126.798599</td>\n",
       "      <td>1.269194e+02</td>\n",
       "      <td>1.269947e+02</td>\n",
       "      <td>1.270624e+02</td>\n",
       "      <td>1.271803e+02</td>\n",
       "      <td>1.272404e+02</td>\n",
       "    </tr>\n",
       "    <tr>\n",
       "      <th>Haversine</th>\n",
       "      <td>9601139.0</td>\n",
       "      <td>1.870315e+00</td>\n",
       "      <td>1.995361e+00</td>\n",
       "      <td>0.000000</td>\n",
       "      <td>6.758669e-01</td>\n",
       "      <td>1.257498e+00</td>\n",
       "      <td>2.363812e+00</td>\n",
       "      <td>2.863448e+01</td>\n",
       "      <td>7.856398e+00</td>\n",
       "    </tr>\n",
       "    <tr>\n",
       "      <th>Pmonth</th>\n",
       "      <td>9601139.0</td>\n",
       "      <td>7.578754e+00</td>\n",
       "      <td>2.696797e+00</td>\n",
       "      <td>1.000000</td>\n",
       "      <td>6.000000e+00</td>\n",
       "      <td>8.000000e+00</td>\n",
       "      <td>1.000000e+01</td>\n",
       "      <td>1.200000e+01</td>\n",
       "      <td>1.566915e+01</td>\n",
       "    </tr>\n",
       "    <tr>\n",
       "      <th>Pday</th>\n",
       "      <td>9601139.0</td>\n",
       "      <td>1.576714e+01</td>\n",
       "      <td>8.748012e+00</td>\n",
       "      <td>1.000000</td>\n",
       "      <td>8.000000e+00</td>\n",
       "      <td>1.600000e+01</td>\n",
       "      <td>2.300000e+01</td>\n",
       "      <td>3.100000e+01</td>\n",
       "      <td>4.201117e+01</td>\n",
       "    </tr>\n",
       "    <tr>\n",
       "      <th>Phour</th>\n",
       "      <td>9601139.0</td>\n",
       "      <td>1.437801e+01</td>\n",
       "      <td>6.249244e+00</td>\n",
       "      <td>0.000000</td>\n",
       "      <td>1.000000e+01</td>\n",
       "      <td>1.600000e+01</td>\n",
       "      <td>1.900000e+01</td>\n",
       "      <td>2.300000e+01</td>\n",
       "      <td>3.312574e+01</td>\n",
       "    </tr>\n",
       "    <tr>\n",
       "      <th>Pmin</th>\n",
       "      <td>9601139.0</td>\n",
       "      <td>2.914948e+01</td>\n",
       "      <td>1.725837e+01</td>\n",
       "      <td>0.000000</td>\n",
       "      <td>1.400000e+01</td>\n",
       "      <td>2.900000e+01</td>\n",
       "      <td>4.400000e+01</td>\n",
       "      <td>5.900000e+01</td>\n",
       "      <td>8.092458e+01</td>\n",
       "    </tr>\n",
       "    <tr>\n",
       "      <th>PDweek</th>\n",
       "      <td>9601139.0</td>\n",
       "      <td>2.943812e+00</td>\n",
       "      <td>1.976063e+00</td>\n",
       "      <td>0.000000</td>\n",
       "      <td>1.000000e+00</td>\n",
       "      <td>3.000000e+00</td>\n",
       "      <td>5.000000e+00</td>\n",
       "      <td>6.000000e+00</td>\n",
       "      <td>8.872000e+00</td>\n",
       "    </tr>\n",
       "    <tr>\n",
       "      <th>Dmonth</th>\n",
       "      <td>9601139.0</td>\n",
       "      <td>7.579198e+00</td>\n",
       "      <td>2.696781e+00</td>\n",
       "      <td>1.000000</td>\n",
       "      <td>6.000000e+00</td>\n",
       "      <td>8.000000e+00</td>\n",
       "      <td>1.000000e+01</td>\n",
       "      <td>1.200000e+01</td>\n",
       "      <td>1.566954e+01</td>\n",
       "    </tr>\n",
       "    <tr>\n",
       "      <th>Dday</th>\n",
       "      <td>9601139.0</td>\n",
       "      <td>1.576666e+01</td>\n",
       "      <td>8.747788e+00</td>\n",
       "      <td>1.000000</td>\n",
       "      <td>8.000000e+00</td>\n",
       "      <td>1.600000e+01</td>\n",
       "      <td>2.300000e+01</td>\n",
       "      <td>3.100000e+01</td>\n",
       "      <td>4.201002e+01</td>\n",
       "    </tr>\n",
       "    <tr>\n",
       "      <th>Dhour</th>\n",
       "      <td>9601139.0</td>\n",
       "      <td>1.442620e+01</td>\n",
       "      <td>6.484493e+00</td>\n",
       "      <td>0.000000</td>\n",
       "      <td>1.000000e+01</td>\n",
       "      <td>1.600000e+01</td>\n",
       "      <td>2.000000e+01</td>\n",
       "      <td>2.300000e+01</td>\n",
       "      <td>3.387968e+01</td>\n",
       "    </tr>\n",
       "    <tr>\n",
       "      <th>Dmin</th>\n",
       "      <td>9601139.0</td>\n",
       "      <td>2.999278e+01</td>\n",
       "      <td>1.730960e+01</td>\n",
       "      <td>0.000000</td>\n",
       "      <td>1.500000e+01</td>\n",
       "      <td>3.000000e+01</td>\n",
       "      <td>4.500000e+01</td>\n",
       "      <td>5.900000e+01</td>\n",
       "      <td>8.192158e+01</td>\n",
       "    </tr>\n",
       "    <tr>\n",
       "      <th>DDweek</th>\n",
       "      <td>9601139.0</td>\n",
       "      <td>2.945771e+00</td>\n",
       "      <td>1.977624e+00</td>\n",
       "      <td>0.000000</td>\n",
       "      <td>1.000000e+00</td>\n",
       "      <td>3.000000e+00</td>\n",
       "      <td>5.000000e+00</td>\n",
       "      <td>6.000000e+00</td>\n",
       "      <td>8.878641e+00</td>\n",
       "    </tr>\n",
       "    <tr>\n",
       "      <th>Temp</th>\n",
       "      <td>9601139.0</td>\n",
       "      <td>1.856201e+01</td>\n",
       "      <td>9.498075e+00</td>\n",
       "      <td>-17.800000</td>\n",
       "      <td>1.220000e+01</td>\n",
       "      <td>2.010000e+01</td>\n",
       "      <td>2.550000e+01</td>\n",
       "      <td>3.940000e+01</td>\n",
       "      <td>4.705623e+01</td>\n",
       "    </tr>\n",
       "    <tr>\n",
       "      <th>Precip</th>\n",
       "      <td>9601139.0</td>\n",
       "      <td>1.784856e-02</td>\n",
       "      <td>3.736282e-01</td>\n",
       "      <td>0.000000</td>\n",
       "      <td>0.000000e+00</td>\n",
       "      <td>0.000000e+00</td>\n",
       "      <td>0.000000e+00</td>\n",
       "      <td>3.500000e+01</td>\n",
       "      <td>1.138733e+00</td>\n",
       "    </tr>\n",
       "    <tr>\n",
       "      <th>Wind</th>\n",
       "      <td>9601139.0</td>\n",
       "      <td>1.819274e+00</td>\n",
       "      <td>9.710258e-01</td>\n",
       "      <td>0.000000</td>\n",
       "      <td>1.100000e+00</td>\n",
       "      <td>1.700000e+00</td>\n",
       "      <td>2.400000e+00</td>\n",
       "      <td>7.400000e+00</td>\n",
       "      <td>4.732351e+00</td>\n",
       "    </tr>\n",
       "    <tr>\n",
       "      <th>Humid</th>\n",
       "      <td>9601139.0</td>\n",
       "      <td>5.397565e+01</td>\n",
       "      <td>1.742159e+01</td>\n",
       "      <td>10.000000</td>\n",
       "      <td>4.100000e+01</td>\n",
       "      <td>5.300000e+01</td>\n",
       "      <td>6.700000e+01</td>\n",
       "      <td>9.800000e+01</td>\n",
       "      <td>1.062404e+02</td>\n",
       "    </tr>\n",
       "    <tr>\n",
       "      <th>Solar</th>\n",
       "      <td>9601139.0</td>\n",
       "      <td>7.300679e-01</td>\n",
       "      <td>9.175004e-01</td>\n",
       "      <td>0.000000</td>\n",
       "      <td>0.000000e+00</td>\n",
       "      <td>2.700000e-01</td>\n",
       "      <td>1.260000e+00</td>\n",
       "      <td>3.520000e+00</td>\n",
       "      <td>3.482569e+00</td>\n",
       "    </tr>\n",
       "    <tr>\n",
       "      <th>Snow</th>\n",
       "      <td>9601139.0</td>\n",
       "      <td>9.948924e-03</td>\n",
       "      <td>1.628091e-01</td>\n",
       "      <td>0.000000</td>\n",
       "      <td>0.000000e+00</td>\n",
       "      <td>0.000000e+00</td>\n",
       "      <td>0.000000e+00</td>\n",
       "      <td>8.800000e+00</td>\n",
       "      <td>4.983762e-01</td>\n",
       "    </tr>\n",
       "    <tr>\n",
       "      <th>GroundTemp</th>\n",
       "      <td>9601139.0</td>\n",
       "      <td>2.072376e+01</td>\n",
       "      <td>1.265221e+01</td>\n",
       "      <td>-13.600000</td>\n",
       "      <td>1.160000e+01</td>\n",
       "      <td>2.110000e+01</td>\n",
       "      <td>2.850000e+01</td>\n",
       "      <td>6.220000e+01</td>\n",
       "      <td>5.868039e+01</td>\n",
       "    </tr>\n",
       "    <tr>\n",
       "      <th>Dust</th>\n",
       "      <td>9601139.0</td>\n",
       "      <td>3.245798e+01</td>\n",
       "      <td>2.407264e+01</td>\n",
       "      <td>0.000000</td>\n",
       "      <td>1.600000e+01</td>\n",
       "      <td>2.700000e+01</td>\n",
       "      <td>4.200000e+01</td>\n",
       "      <td>3.040000e+02</td>\n",
       "      <td>1.046759e+02</td>\n",
       "    </tr>\n",
       "  </tbody>\n",
       "</table>\n",
       "</div>"
      ],
      "text/plain": [
       "                count          mean           std         min           25%  \\\n",
       "Unnamed: 0  9601139.0  4.923152e+06  2.841734e+06    0.000000  2.466320e+06   \n",
       "Duration    9601139.0  2.580294e+01  2.504333e+01    1.000000  8.000000e+00   \n",
       "Distance    9601139.0  3.713519e+03  3.956611e+03    1.000000  1.230000e+03   \n",
       "PLong       9601139.0  3.754761e+01  4.441376e-02   37.437271  3.751424e+01   \n",
       "PLatd       9601139.0  1.269908e+02  8.257065e-02  126.798599  1.269200e+02   \n",
       "DLong       9601139.0  3.754770e+01  4.445305e-02   37.437271  3.751424e+01   \n",
       "DLatd       9601139.0  1.269907e+02  8.323726e-02  126.798599  1.269194e+02   \n",
       "Haversine   9601139.0  1.870315e+00  1.995361e+00    0.000000  6.758669e-01   \n",
       "Pmonth      9601139.0  7.578754e+00  2.696797e+00    1.000000  6.000000e+00   \n",
       "Pday        9601139.0  1.576714e+01  8.748012e+00    1.000000  8.000000e+00   \n",
       "Phour       9601139.0  1.437801e+01  6.249244e+00    0.000000  1.000000e+01   \n",
       "Pmin        9601139.0  2.914948e+01  1.725837e+01    0.000000  1.400000e+01   \n",
       "PDweek      9601139.0  2.943812e+00  1.976063e+00    0.000000  1.000000e+00   \n",
       "Dmonth      9601139.0  7.579198e+00  2.696781e+00    1.000000  6.000000e+00   \n",
       "Dday        9601139.0  1.576666e+01  8.747788e+00    1.000000  8.000000e+00   \n",
       "Dhour       9601139.0  1.442620e+01  6.484493e+00    0.000000  1.000000e+01   \n",
       "Dmin        9601139.0  2.999278e+01  1.730960e+01    0.000000  1.500000e+01   \n",
       "DDweek      9601139.0  2.945771e+00  1.977624e+00    0.000000  1.000000e+00   \n",
       "Temp        9601139.0  1.856201e+01  9.498075e+00  -17.800000  1.220000e+01   \n",
       "Precip      9601139.0  1.784856e-02  3.736282e-01    0.000000  0.000000e+00   \n",
       "Wind        9601139.0  1.819274e+00  9.710258e-01    0.000000  1.100000e+00   \n",
       "Humid       9601139.0  5.397565e+01  1.742159e+01   10.000000  4.100000e+01   \n",
       "Solar       9601139.0  7.300679e-01  9.175004e-01    0.000000  0.000000e+00   \n",
       "Snow        9601139.0  9.948924e-03  1.628091e-01    0.000000  0.000000e+00   \n",
       "GroundTemp  9601139.0  2.072376e+01  1.265221e+01  -13.600000  1.160000e+01   \n",
       "Dust        9601139.0  3.245798e+01  2.407264e+01    0.000000  1.600000e+01   \n",
       "\n",
       "                     50%           75%           max   Upper Limit  \n",
       "Unnamed: 0  4.921318e+06  7.389176e+06  9.830310e+06  1.344835e+07  \n",
       "Duration    1.600000e+01  3.600000e+01  1.190000e+02  1.009329e+02  \n",
       "Distance    2.280000e+03  4.620000e+03  3.329000e+04  1.558335e+04  \n",
       "PLong       3.754693e+01  3.757324e+01  3.768972e+01  3.768085e+01  \n",
       "PLatd       1.269943e+02  1.270618e+02  1.271803e+02  1.272385e+02  \n",
       "DLong       3.754655e+01  3.757324e+01  3.768972e+01  3.768105e+01  \n",
       "DLatd       1.269947e+02  1.270624e+02  1.271803e+02  1.272404e+02  \n",
       "Haversine   1.257498e+00  2.363812e+00  2.863448e+01  7.856398e+00  \n",
       "Pmonth      8.000000e+00  1.000000e+01  1.200000e+01  1.566915e+01  \n",
       "Pday        1.600000e+01  2.300000e+01  3.100000e+01  4.201117e+01  \n",
       "Phour       1.600000e+01  1.900000e+01  2.300000e+01  3.312574e+01  \n",
       "Pmin        2.900000e+01  4.400000e+01  5.900000e+01  8.092458e+01  \n",
       "PDweek      3.000000e+00  5.000000e+00  6.000000e+00  8.872000e+00  \n",
       "Dmonth      8.000000e+00  1.000000e+01  1.200000e+01  1.566954e+01  \n",
       "Dday        1.600000e+01  2.300000e+01  3.100000e+01  4.201002e+01  \n",
       "Dhour       1.600000e+01  2.000000e+01  2.300000e+01  3.387968e+01  \n",
       "Dmin        3.000000e+01  4.500000e+01  5.900000e+01  8.192158e+01  \n",
       "DDweek      3.000000e+00  5.000000e+00  6.000000e+00  8.878641e+00  \n",
       "Temp        2.010000e+01  2.550000e+01  3.940000e+01  4.705623e+01  \n",
       "Precip      0.000000e+00  0.000000e+00  3.500000e+01  1.138733e+00  \n",
       "Wind        1.700000e+00  2.400000e+00  7.400000e+00  4.732351e+00  \n",
       "Humid       5.300000e+01  6.700000e+01  9.800000e+01  1.062404e+02  \n",
       "Solar       2.700000e-01  1.260000e+00  3.520000e+00  3.482569e+00  \n",
       "Snow        0.000000e+00  0.000000e+00  8.800000e+00  4.983762e-01  \n",
       "GroundTemp  2.110000e+01  2.850000e+01  6.220000e+01  5.868039e+01  \n",
       "Dust        2.700000e+01  4.200000e+01  3.040000e+02  1.046759e+02  "
      ]
     },
     "execution_count": 15,
     "metadata": {},
     "output_type": "execute_result"
    }
   ],
   "source": [
    "df_describeDF"
   ]
  },
  {
   "cell_type": "code",
   "execution_count": 16,
   "id": "c65ac61e",
   "metadata": {},
   "outputs": [
    {
     "data": {
      "text/plain": [
       "25.80293723484266"
      ]
     },
     "execution_count": 16,
     "metadata": {},
     "output_type": "execute_result"
    }
   ],
   "source": [
    "df['Duration'].mean()"
   ]
  },
  {
   "cell_type": "code",
   "execution_count": 17,
   "id": "0a899cfb",
   "metadata": {},
   "outputs": [],
   "source": [
    "Duration_Upper_limit = (df['Duration'].std() * 3) + df['Duration'].mean()"
   ]
  },
  {
   "cell_type": "code",
   "execution_count": 18,
   "id": "030c9012",
   "metadata": {},
   "outputs": [
    {
     "data": {
      "text/plain": [
       "100.93291746262551"
      ]
     },
     "execution_count": 18,
     "metadata": {},
     "output_type": "execute_result"
    }
   ],
   "source": [
    "Duration_Upper_limit"
   ]
  },
  {
   "cell_type": "code",
   "execution_count": 19,
   "id": "10c12ccc",
   "metadata": {},
   "outputs": [],
   "source": [
    "Duration_Outliers = df[df['Duration'] > df_describeDF.loc['Duration','Upper Limit']]"
   ]
  },
  {
   "cell_type": "code",
   "execution_count": 20,
   "id": "c73105d4",
   "metadata": {},
   "outputs": [
    {
     "data": {
      "text/html": [
       "<div>\n",
       "<style scoped>\n",
       "    .dataframe tbody tr th:only-of-type {\n",
       "        vertical-align: middle;\n",
       "    }\n",
       "\n",
       "    .dataframe tbody tr th {\n",
       "        vertical-align: top;\n",
       "    }\n",
       "\n",
       "    .dataframe thead th {\n",
       "        text-align: right;\n",
       "    }\n",
       "</style>\n",
       "<table border=\"1\" class=\"dataframe\">\n",
       "  <thead>\n",
       "    <tr style=\"text-align: right;\">\n",
       "      <th></th>\n",
       "      <th>Unnamed: 0</th>\n",
       "      <th>Duration</th>\n",
       "      <th>Distance</th>\n",
       "      <th>PLong</th>\n",
       "      <th>PLatd</th>\n",
       "      <th>DLong</th>\n",
       "      <th>DLatd</th>\n",
       "      <th>Haversine</th>\n",
       "      <th>Pmonth</th>\n",
       "      <th>Pday</th>\n",
       "      <th>...</th>\n",
       "      <th>Dmin</th>\n",
       "      <th>DDweek</th>\n",
       "      <th>Temp</th>\n",
       "      <th>Precip</th>\n",
       "      <th>Wind</th>\n",
       "      <th>Humid</th>\n",
       "      <th>Solar</th>\n",
       "      <th>Snow</th>\n",
       "      <th>GroundTemp</th>\n",
       "      <th>Dust</th>\n",
       "    </tr>\n",
       "  </thead>\n",
       "  <tbody>\n",
       "    <tr>\n",
       "      <th>4154147</th>\n",
       "      <td>4261828</td>\n",
       "      <td>104</td>\n",
       "      <td>27370</td>\n",
       "      <td>37.531860</td>\n",
       "      <td>127.067192</td>\n",
       "      <td>37.563511</td>\n",
       "      <td>127.056725</td>\n",
       "      <td>3.638399</td>\n",
       "      <td>7</td>\n",
       "      <td>22</td>\n",
       "      <td>...</td>\n",
       "      <td>48</td>\n",
       "      <td>6</td>\n",
       "      <td>25.8</td>\n",
       "      <td>0.0</td>\n",
       "      <td>0.9</td>\n",
       "      <td>67.0</td>\n",
       "      <td>0.34</td>\n",
       "      <td>0.0</td>\n",
       "      <td>24.9</td>\n",
       "      <td>17.0</td>\n",
       "    </tr>\n",
       "    <tr>\n",
       "      <th>5081309</th>\n",
       "      <td>5209588</td>\n",
       "      <td>101</td>\n",
       "      <td>7860</td>\n",
       "      <td>37.516598</td>\n",
       "      <td>127.009590</td>\n",
       "      <td>37.512989</td>\n",
       "      <td>127.011177</td>\n",
       "      <td>0.425013</td>\n",
       "      <td>8</td>\n",
       "      <td>19</td>\n",
       "      <td>...</td>\n",
       "      <td>43</td>\n",
       "      <td>6</td>\n",
       "      <td>32.7</td>\n",
       "      <td>0.0</td>\n",
       "      <td>2.5</td>\n",
       "      <td>33.0</td>\n",
       "      <td>1.18</td>\n",
       "      <td>0.0</td>\n",
       "      <td>41.7</td>\n",
       "      <td>21.0</td>\n",
       "    </tr>\n",
       "    <tr>\n",
       "      <th>792101</th>\n",
       "      <td>808356</td>\n",
       "      <td>106</td>\n",
       "      <td>27130</td>\n",
       "      <td>37.535873</td>\n",
       "      <td>126.892181</td>\n",
       "      <td>37.590382</td>\n",
       "      <td>127.017136</td>\n",
       "      <td>12.571463</td>\n",
       "      <td>4</td>\n",
       "      <td>2</td>\n",
       "      <td>...</td>\n",
       "      <td>3</td>\n",
       "      <td>0</td>\n",
       "      <td>23.0</td>\n",
       "      <td>0.0</td>\n",
       "      <td>4.1</td>\n",
       "      <td>47.0</td>\n",
       "      <td>2.00</td>\n",
       "      <td>0.0</td>\n",
       "      <td>26.7</td>\n",
       "      <td>90.0</td>\n",
       "    </tr>\n",
       "    <tr>\n",
       "      <th>1744809</th>\n",
       "      <td>1791099</td>\n",
       "      <td>113</td>\n",
       "      <td>32920</td>\n",
       "      <td>37.597141</td>\n",
       "      <td>126.909599</td>\n",
       "      <td>37.590797</td>\n",
       "      <td>126.913651</td>\n",
       "      <td>0.790615</td>\n",
       "      <td>5</td>\n",
       "      <td>13</td>\n",
       "      <td>...</td>\n",
       "      <td>15</td>\n",
       "      <td>6</td>\n",
       "      <td>19.7</td>\n",
       "      <td>0.0</td>\n",
       "      <td>2.5</td>\n",
       "      <td>63.0</td>\n",
       "      <td>2.01</td>\n",
       "      <td>0.0</td>\n",
       "      <td>27.7</td>\n",
       "      <td>53.0</td>\n",
       "    </tr>\n",
       "    <tr>\n",
       "      <th>7515212</th>\n",
       "      <td>7712367</td>\n",
       "      <td>101</td>\n",
       "      <td>7200</td>\n",
       "      <td>37.582657</td>\n",
       "      <td>126.885788</td>\n",
       "      <td>37.579399</td>\n",
       "      <td>126.889160</td>\n",
       "      <td>0.468548</td>\n",
       "      <td>10</td>\n",
       "      <td>15</td>\n",
       "      <td>...</td>\n",
       "      <td>39</td>\n",
       "      <td>0</td>\n",
       "      <td>19.3</td>\n",
       "      <td>0.0</td>\n",
       "      <td>2.8</td>\n",
       "      <td>49.0</td>\n",
       "      <td>0.55</td>\n",
       "      <td>0.0</td>\n",
       "      <td>19.2</td>\n",
       "      <td>68.0</td>\n",
       "    </tr>\n",
       "    <tr>\n",
       "      <th>1392228</th>\n",
       "      <td>1425136</td>\n",
       "      <td>117</td>\n",
       "      <td>5280</td>\n",
       "      <td>37.649212</td>\n",
       "      <td>127.061768</td>\n",
       "      <td>37.645306</td>\n",
       "      <td>127.063263</td>\n",
       "      <td>0.453834</td>\n",
       "      <td>4</td>\n",
       "      <td>30</td>\n",
       "      <td>...</td>\n",
       "      <td>40</td>\n",
       "      <td>0</td>\n",
       "      <td>24.1</td>\n",
       "      <td>0.0</td>\n",
       "      <td>2.7</td>\n",
       "      <td>48.0</td>\n",
       "      <td>2.47</td>\n",
       "      <td>0.0</td>\n",
       "      <td>39.1</td>\n",
       "      <td>81.0</td>\n",
       "    </tr>\n",
       "    <tr>\n",
       "      <th>3758685</th>\n",
       "      <td>3857379</td>\n",
       "      <td>111</td>\n",
       "      <td>27850</td>\n",
       "      <td>37.564777</td>\n",
       "      <td>126.966148</td>\n",
       "      <td>37.614738</td>\n",
       "      <td>127.076363</td>\n",
       "      <td>11.187886</td>\n",
       "      <td>7</td>\n",
       "      <td>11</td>\n",
       "      <td>...</td>\n",
       "      <td>28</td>\n",
       "      <td>2</td>\n",
       "      <td>27.7</td>\n",
       "      <td>0.0</td>\n",
       "      <td>1.8</td>\n",
       "      <td>76.0</td>\n",
       "      <td>0.04</td>\n",
       "      <td>0.0</td>\n",
       "      <td>25.6</td>\n",
       "      <td>18.0</td>\n",
       "    </tr>\n",
       "    <tr>\n",
       "      <th>7745915</th>\n",
       "      <td>7947444</td>\n",
       "      <td>117</td>\n",
       "      <td>28540</td>\n",
       "      <td>37.567970</td>\n",
       "      <td>127.046890</td>\n",
       "      <td>37.567970</td>\n",
       "      <td>127.046890</td>\n",
       "      <td>0.000000</td>\n",
       "      <td>10</td>\n",
       "      <td>20</td>\n",
       "      <td>...</td>\n",
       "      <td>58</td>\n",
       "      <td>5</td>\n",
       "      <td>20.0</td>\n",
       "      <td>0.0</td>\n",
       "      <td>1.6</td>\n",
       "      <td>22.0</td>\n",
       "      <td>2.29</td>\n",
       "      <td>0.0</td>\n",
       "      <td>33.4</td>\n",
       "      <td>43.0</td>\n",
       "    </tr>\n",
       "    <tr>\n",
       "      <th>1048601</th>\n",
       "      <td>1070754</td>\n",
       "      <td>119</td>\n",
       "      <td>9160</td>\n",
       "      <td>37.512989</td>\n",
       "      <td>127.011177</td>\n",
       "      <td>37.524120</td>\n",
       "      <td>126.936546</td>\n",
       "      <td>6.697446</td>\n",
       "      <td>4</td>\n",
       "      <td>16</td>\n",
       "      <td>...</td>\n",
       "      <td>51</td>\n",
       "      <td>0</td>\n",
       "      <td>18.5</td>\n",
       "      <td>0.0</td>\n",
       "      <td>3.0</td>\n",
       "      <td>24.0</td>\n",
       "      <td>2.27</td>\n",
       "      <td>0.0</td>\n",
       "      <td>23.4</td>\n",
       "      <td>38.0</td>\n",
       "    </tr>\n",
       "    <tr>\n",
       "      <th>1162354</th>\n",
       "      <td>1188030</td>\n",
       "      <td>117</td>\n",
       "      <td>6650</td>\n",
       "      <td>37.650127</td>\n",
       "      <td>127.035347</td>\n",
       "      <td>37.650127</td>\n",
       "      <td>127.035347</td>\n",
       "      <td>0.000000</td>\n",
       "      <td>4</td>\n",
       "      <td>21</td>\n",
       "      <td>...</td>\n",
       "      <td>39</td>\n",
       "      <td>5</td>\n",
       "      <td>20.6</td>\n",
       "      <td>0.0</td>\n",
       "      <td>2.0</td>\n",
       "      <td>24.0</td>\n",
       "      <td>2.29</td>\n",
       "      <td>0.0</td>\n",
       "      <td>31.5</td>\n",
       "      <td>100.0</td>\n",
       "    </tr>\n",
       "  </tbody>\n",
       "</table>\n",
       "<p>10 rows × 26 columns</p>\n",
       "</div>"
      ],
      "text/plain": [
       "         Unnamed: 0  Duration  Distance      PLong       PLatd      DLong  \\\n",
       "4154147     4261828       104     27370  37.531860  127.067192  37.563511   \n",
       "5081309     5209588       101      7860  37.516598  127.009590  37.512989   \n",
       "792101       808356       106     27130  37.535873  126.892181  37.590382   \n",
       "1744809     1791099       113     32920  37.597141  126.909599  37.590797   \n",
       "7515212     7712367       101      7200  37.582657  126.885788  37.579399   \n",
       "1392228     1425136       117      5280  37.649212  127.061768  37.645306   \n",
       "3758685     3857379       111     27850  37.564777  126.966148  37.614738   \n",
       "7745915     7947444       117     28540  37.567970  127.046890  37.567970   \n",
       "1048601     1070754       119      9160  37.512989  127.011177  37.524120   \n",
       "1162354     1188030       117      6650  37.650127  127.035347  37.650127   \n",
       "\n",
       "              DLatd  Haversine  Pmonth  Pday  ...  Dmin  DDweek  Temp  Precip  \\\n",
       "4154147  127.056725   3.638399       7    22  ...    48       6  25.8     0.0   \n",
       "5081309  127.011177   0.425013       8    19  ...    43       6  32.7     0.0   \n",
       "792101   127.017136  12.571463       4     2  ...     3       0  23.0     0.0   \n",
       "1744809  126.913651   0.790615       5    13  ...    15       6  19.7     0.0   \n",
       "7515212  126.889160   0.468548      10    15  ...    39       0  19.3     0.0   \n",
       "1392228  127.063263   0.453834       4    30  ...    40       0  24.1     0.0   \n",
       "3758685  127.076363  11.187886       7    11  ...    28       2  27.7     0.0   \n",
       "7745915  127.046890   0.000000      10    20  ...    58       5  20.0     0.0   \n",
       "1048601  126.936546   6.697446       4    16  ...    51       0  18.5     0.0   \n",
       "1162354  127.035347   0.000000       4    21  ...    39       5  20.6     0.0   \n",
       "\n",
       "         Wind  Humid  Solar  Snow  GroundTemp   Dust  \n",
       "4154147   0.9   67.0   0.34   0.0        24.9   17.0  \n",
       "5081309   2.5   33.0   1.18   0.0        41.7   21.0  \n",
       "792101    4.1   47.0   2.00   0.0        26.7   90.0  \n",
       "1744809   2.5   63.0   2.01   0.0        27.7   53.0  \n",
       "7515212   2.8   49.0   0.55   0.0        19.2   68.0  \n",
       "1392228   2.7   48.0   2.47   0.0        39.1   81.0  \n",
       "3758685   1.8   76.0   0.04   0.0        25.6   18.0  \n",
       "7745915   1.6   22.0   2.29   0.0        33.4   43.0  \n",
       "1048601   3.0   24.0   2.27   0.0        23.4   38.0  \n",
       "1162354   2.0   24.0   2.29   0.0        31.5  100.0  \n",
       "\n",
       "[10 rows x 26 columns]"
      ]
     },
     "execution_count": 20,
     "metadata": {},
     "output_type": "execute_result"
    }
   ],
   "source": [
    "Duration_Outliers.sample(10)"
   ]
  },
  {
   "cell_type": "code",
   "execution_count": 21,
   "id": "f872e191",
   "metadata": {},
   "outputs": [
    {
     "data": {
      "text/plain": [
       "0.023986529098266363"
      ]
     },
     "execution_count": 21,
     "metadata": {},
     "output_type": "execute_result"
    }
   ],
   "source": [
    "Duration_Outliers.shape[0]/df.shape[0]"
   ]
  },
  {
   "cell_type": "markdown",
   "id": "72d1fc1a",
   "metadata": {},
   "source": [
    "2% of rows contain Duration outliers"
   ]
  },
  {
   "cell_type": "code",
   "execution_count": 22,
   "id": "a04db00d",
   "metadata": {},
   "outputs": [
    {
     "data": {
      "text/plain": [
       "(9601139, 26)"
      ]
     },
     "execution_count": 22,
     "metadata": {},
     "output_type": "execute_result"
    }
   ],
   "source": [
    "df.shape"
   ]
  },
  {
   "cell_type": "code",
   "execution_count": 23,
   "id": "71a1f6c8",
   "metadata": {},
   "outputs": [],
   "source": [
    "df_NoOutliers = df[df['Duration'] < Duration_Upper_limit]"
   ]
  },
  {
   "cell_type": "code",
   "execution_count": 24,
   "id": "71d8adab",
   "metadata": {},
   "outputs": [
    {
     "data": {
      "text/plain": [
       "100"
      ]
     },
     "execution_count": 24,
     "metadata": {},
     "output_type": "execute_result"
    }
   ],
   "source": [
    "df_NoOutliers['Duration'].max()"
   ]
  },
  {
   "cell_type": "code",
   "execution_count": 25,
   "id": "334dc76a",
   "metadata": {},
   "outputs": [
    {
     "data": {
      "text/plain": [
       "(9370841, 26)"
      ]
     },
     "execution_count": 25,
     "metadata": {},
     "output_type": "execute_result"
    }
   ],
   "source": [
    "df_NoOutliers.shape"
   ]
  },
  {
   "cell_type": "code",
   "execution_count": 26,
   "id": "507054e1",
   "metadata": {},
   "outputs": [],
   "source": [
    "for i in df_NoOutliers.columns:\n",
    "    Upper_Limit = df[i].mean() + (df[i].std() * 3)\n",
    "    df_NoOutliers = df_NoOutliers[df_NoOutliers[i] < Upper_Limit]"
   ]
  },
  {
   "cell_type": "code",
   "execution_count": 27,
   "id": "b5ceab1d",
   "metadata": {},
   "outputs": [
    {
     "data": {
      "text/plain": [
       "(8820426, 26)"
      ]
     },
     "execution_count": 27,
     "metadata": {},
     "output_type": "execute_result"
    }
   ],
   "source": [
    "df_NoOutliers.shape"
   ]
  },
  {
   "cell_type": "code",
   "execution_count": 28,
   "id": "63481fd4",
   "metadata": {},
   "outputs": [
    {
     "data": {
      "text/plain": [
       "0.08131462319210248"
      ]
     },
     "execution_count": 28,
     "metadata": {},
     "output_type": "execute_result"
    }
   ],
   "source": [
    "1 - (df_NoOutliers.shape[0]/df.shape[0])"
   ]
  },
  {
   "cell_type": "markdown",
   "id": "6f3b460a",
   "metadata": {},
   "source": [
    "8% of rows included outliers and were removed from the df"
   ]
  },
  {
   "cell_type": "code",
   "execution_count": 29,
   "id": "158111ad",
   "metadata": {},
   "outputs": [
    {
     "name": "stdout",
     "output_type": "stream",
     "text": [
      "25.80293723484266 22.540515390072997\n"
     ]
    }
   ],
   "source": [
    "print(df['Duration'].mean(),\n",
    "df_NoOutliers['Duration'].mean())"
   ]
  },
  {
   "cell_type": "markdown",
   "id": "ac48ba3b",
   "metadata": {},
   "source": [
    "Dropping outliers reduced duration mean time by 3 minutes"
   ]
  },
  {
   "cell_type": "markdown",
   "id": "f76eedb3",
   "metadata": {},
   "source": [
    "# Pre-Processing"
   ]
  },
  {
   "cell_type": "code",
   "execution_count": 104,
   "id": "2319959d",
   "metadata": {},
   "outputs": [
    {
     "data": {
      "text/plain": [
       "(8820426, 30)"
      ]
     },
     "execution_count": 104,
     "metadata": {},
     "output_type": "execute_result"
    }
   ],
   "source": [
    "df_NoOutliers.shape"
   ]
  },
  {
   "cell_type": "code",
   "execution_count": 105,
   "id": "d8eec363",
   "metadata": {},
   "outputs": [
    {
     "data": {
      "text/plain": [
       "Index(['Duration', 'Distance', 'PLong', 'PLatd', 'DLong', 'DLatd', 'Haversine',\n",
       "       'Pmonth', 'Pday', 'Phour', 'Pmin', 'PDweek', 'Dmonth', 'Dday', 'Dhour',\n",
       "       'Dmin', 'DDweek', 'Temp', 'Precip', 'Wind', 'Humid', 'Solar', 'Snow',\n",
       "       'GroundTemp', 'Dust', 'Duration_per_Distance', 'Pickup Location',\n",
       "       'Dropoff Location', 'P_D', 'Diff P_D Locations'],\n",
       "      dtype='object')"
      ]
     },
     "execution_count": 105,
     "metadata": {},
     "output_type": "execute_result"
    }
   ],
   "source": [
    "df_NoOutliers.columns"
   ]
  },
  {
   "cell_type": "code",
   "execution_count": 106,
   "id": "e133b2d1",
   "metadata": {},
   "outputs": [],
   "source": [
    "df_NoOutliers.drop(['Dropoff Location','Pickup Location','P_D','Diff P_D Locations'],inplace=True,axis=1)"
   ]
  },
  {
   "cell_type": "code",
   "execution_count": 107,
   "id": "fcc0c835",
   "metadata": {},
   "outputs": [],
   "source": [
    "df_NoOutliers.drop('Duration_per_Distance',axis=1,inplace=True)"
   ]
  },
  {
   "cell_type": "code",
   "execution_count": 108,
   "id": "af40b772",
   "metadata": {},
   "outputs": [],
   "source": []
  },
  {
   "cell_type": "code",
   "execution_count": 111,
   "id": "a6a16a2b",
   "metadata": {},
   "outputs": [],
   "source": [
    "from sklearn.preprocessing import StandardScaler"
   ]
  },
  {
   "cell_type": "code",
   "execution_count": 113,
   "id": "bf75f057",
   "metadata": {},
   "outputs": [],
   "source": [
    "from sklearn.model_selection import train_test_split, cross_validate, GridSearchCV, learning_curve"
   ]
  },
  {
   "cell_type": "code",
   "execution_count": 115,
   "id": "5b9c6234",
   "metadata": {},
   "outputs": [],
   "source": [
    "X_train, X_test, y_train, y_test = train_test_split(df_NoOutliers.drop('Duration',axis=1), \n",
    "                                                    df_NoOutliers['Duration'], test_size=0.3, \n",
    "                                                    random_state=47)"
   ]
  },
  {
   "cell_type": "code",
   "execution_count": 116,
   "id": "dbe6d710",
   "metadata": {},
   "outputs": [],
   "source": [
    "X_tr = X_train\n",
    "X_te = X_test"
   ]
  },
  {
   "cell_type": "code",
   "execution_count": 117,
   "id": "1cc9505c",
   "metadata": {},
   "outputs": [],
   "source": [
    "scaler = StandardScaler()\n",
    "scaler.fit(X_tr)\n",
    "X_tr_scaled = scaler.transform(X_tr)\n",
    "X_te_scaled = scaler.transform(X_te)"
   ]
  },
  {
   "cell_type": "markdown",
   "id": "57fa077c",
   "metadata": {},
   "source": [
    "# Modeling"
   ]
  },
  {
   "cell_type": "code",
   "execution_count": 118,
   "id": "3635a202",
   "metadata": {},
   "outputs": [],
   "source": [
    "from sklearn.dummy import DummyRegressor\n",
    "from sklearn.linear_model import LinearRegression\n",
    "from sklearn.ensemble import RandomForestRegressor\n",
    "from sklearn.metrics import r2_score, mean_squared_error, mean_absolute_error\n",
    "from sklearn.pipeline import make_pipeline"
   ]
  },
  {
   "cell_type": "markdown",
   "id": "aaaaac6a",
   "metadata": {},
   "source": [
    "# Linear Regression"
   ]
  },
  {
   "cell_type": "code",
   "execution_count": 119,
   "id": "8468d252",
   "metadata": {},
   "outputs": [],
   "source": [
    "lm = LinearRegression().fit(X_tr_scaled, y_train)"
   ]
  },
  {
   "cell_type": "code",
   "execution_count": 120,
   "id": "849cab5f",
   "metadata": {},
   "outputs": [],
   "source": [
    "y_tr_pred = lm.predict(X_tr_scaled)\n",
    "y_te_pred = lm.predict(X_te_scaled)"
   ]
  },
  {
   "cell_type": "code",
   "execution_count": 121,
   "id": "01e5dff4",
   "metadata": {},
   "outputs": [
    {
     "data": {
      "text/plain": [
       "(0.6103976740326787, 0.6093373475777006)"
      ]
     },
     "execution_count": 121,
     "metadata": {},
     "output_type": "execute_result"
    }
   ],
   "source": [
    "median_r2 = r2_score(y_train, y_tr_pred), r2_score(y_test, y_te_pred)\n",
    "median_r2"
   ]
  },
  {
   "cell_type": "code",
   "execution_count": 122,
   "id": "1117ec1e",
   "metadata": {},
   "outputs": [
    {
     "data": {
      "text/plain": [
       "(7.973621274269766, 7.980483330438312)"
      ]
     },
     "execution_count": 122,
     "metadata": {},
     "output_type": "execute_result"
    }
   ],
   "source": [
    "median_mae = mean_absolute_error(y_train, y_tr_pred), mean_absolute_error(y_test, y_te_pred)\n",
    "median_mae"
   ]
  },
  {
   "cell_type": "code",
   "execution_count": 123,
   "id": "272ded00",
   "metadata": {},
   "outputs": [
    {
     "data": {
      "text/plain": [
       "(159.66278225088286, 160.23047337551412)"
      ]
     },
     "execution_count": 123,
     "metadata": {},
     "output_type": "execute_result"
    }
   ],
   "source": [
    "median_mse = mean_squared_error(y_train, y_tr_pred), mean_squared_error(y_test, y_te_pred)\n",
    "median_mse"
   ]
  },
  {
   "cell_type": "markdown",
   "id": "aacfae88",
   "metadata": {},
   "source": [
    "# Random Forest"
   ]
  },
  {
   "cell_type": "code",
   "execution_count": 127,
   "id": "bff55bbd",
   "metadata": {},
   "outputs": [],
   "source": [
    "rf = RandomForestRegressor().fit(X_tr_scaled,y_train)"
   ]
  },
  {
   "cell_type": "code",
   "execution_count": 128,
   "id": "a0eff083",
   "metadata": {},
   "outputs": [],
   "source": [
    "y_tr_pred = rf.predict(X_tr_scaled)\n",
    "y_te_pred = rf.predict(X_te_scaled)"
   ]
  },
  {
   "cell_type": "code",
   "execution_count": 129,
   "id": "384a1e32",
   "metadata": {},
   "outputs": [
    {
     "data": {
      "text/plain": [
       "(0.9887434732695594, 0.9212392442136994)"
      ]
     },
     "execution_count": 129,
     "metadata": {},
     "output_type": "execute_result"
    }
   ],
   "source": [
    "median_r2 = r2_score(y_train, y_tr_pred), r2_score(y_test, y_te_pred)\n",
    "median_r2"
   ]
  },
  {
   "cell_type": "code",
   "execution_count": 130,
   "id": "f77a6752",
   "metadata": {},
   "outputs": [
    {
     "data": {
      "text/plain": [
       "(1.0503976079034352, 2.781955263678443)"
      ]
     },
     "execution_count": 130,
     "metadata": {},
     "output_type": "execute_result"
    }
   ],
   "source": [
    "median_mae = mean_absolute_error(y_train, y_tr_pred), mean_absolute_error(y_test, y_te_pred)\n",
    "median_mae"
   ]
  },
  {
   "cell_type": "code",
   "execution_count": 131,
   "id": "6d4d10d4",
   "metadata": {},
   "outputs": [
    {
     "data": {
      "text/plain": [
       "(4.613032973561703, 32.30376158253888)"
      ]
     },
     "execution_count": 131,
     "metadata": {},
     "output_type": "execute_result"
    }
   ],
   "source": [
    "median_mse = mean_squared_error(y_train, y_tr_pred), mean_squared_error(y_test, y_te_pred)\n",
    "median_mse"
   ]
  },
  {
   "cell_type": "markdown",
   "id": "eacaa67c",
   "metadata": {},
   "source": [
    "# KNN"
   ]
  },
  {
   "cell_type": "code",
   "execution_count": 133,
   "id": "87e55002",
   "metadata": {},
   "outputs": [],
   "source": [
    "from sklearn.neighbors import KNeighborsRegressor"
   ]
  },
  {
   "cell_type": "code",
   "execution_count": 134,
   "id": "496f670f",
   "metadata": {},
   "outputs": [],
   "source": [
    "KNN = KNeighborsRegressor().fit(X_tr_scaled,y_train)"
   ]
  },
  {
   "cell_type": "code",
   "execution_count": 137,
   "id": "5143b335",
   "metadata": {},
   "outputs": [
    {
     "ename": "KeyboardInterrupt",
     "evalue": "",
     "output_type": "error",
     "traceback": [
      "\u001b[0;31m---------------------------------------------------------------------------\u001b[0m",
      "\u001b[0;31mKeyboardInterrupt\u001b[0m                         Traceback (most recent call last)",
      "\u001b[0;32m<ipython-input-137-419f9a49b4ab>\u001b[0m in \u001b[0;36m<module>\u001b[0;34m\u001b[0m\n\u001b[0;32m----> 1\u001b[0;31m \u001b[0my_tr_pred\u001b[0m \u001b[0;34m=\u001b[0m \u001b[0mKNN\u001b[0m\u001b[0;34m.\u001b[0m\u001b[0mpredict\u001b[0m\u001b[0;34m(\u001b[0m\u001b[0mX_tr_scaled\u001b[0m\u001b[0;34m)\u001b[0m\u001b[0;34m\u001b[0m\u001b[0;34m\u001b[0m\u001b[0m\n\u001b[0m\u001b[1;32m      2\u001b[0m \u001b[0my_te_pred\u001b[0m \u001b[0;34m=\u001b[0m \u001b[0mKNN\u001b[0m\u001b[0;34m.\u001b[0m\u001b[0mpredict\u001b[0m\u001b[0;34m(\u001b[0m\u001b[0mX_te_scaled\u001b[0m\u001b[0;34m)\u001b[0m\u001b[0;34m\u001b[0m\u001b[0;34m\u001b[0m\u001b[0m\n",
      "\u001b[0;32m/opt/anaconda3/lib/python3.8/site-packages/sklearn/neighbors/_regression.py\u001b[0m in \u001b[0;36mpredict\u001b[0;34m(self, X)\u001b[0m\n\u001b[1;32m    206\u001b[0m         \u001b[0mX\u001b[0m \u001b[0;34m=\u001b[0m \u001b[0mcheck_array\u001b[0m\u001b[0;34m(\u001b[0m\u001b[0mX\u001b[0m\u001b[0;34m,\u001b[0m \u001b[0maccept_sparse\u001b[0m\u001b[0;34m=\u001b[0m\u001b[0;34m'csr'\u001b[0m\u001b[0;34m)\u001b[0m\u001b[0;34m\u001b[0m\u001b[0;34m\u001b[0m\u001b[0m\n\u001b[1;32m    207\u001b[0m \u001b[0;34m\u001b[0m\u001b[0m\n\u001b[0;32m--> 208\u001b[0;31m         \u001b[0mneigh_dist\u001b[0m\u001b[0;34m,\u001b[0m \u001b[0mneigh_ind\u001b[0m \u001b[0;34m=\u001b[0m \u001b[0mself\u001b[0m\u001b[0;34m.\u001b[0m\u001b[0mkneighbors\u001b[0m\u001b[0;34m(\u001b[0m\u001b[0mX\u001b[0m\u001b[0;34m)\u001b[0m\u001b[0;34m\u001b[0m\u001b[0;34m\u001b[0m\u001b[0m\n\u001b[0m\u001b[1;32m    209\u001b[0m \u001b[0;34m\u001b[0m\u001b[0m\n\u001b[1;32m    210\u001b[0m         \u001b[0mweights\u001b[0m \u001b[0;34m=\u001b[0m \u001b[0m_get_weights\u001b[0m\u001b[0;34m(\u001b[0m\u001b[0mneigh_dist\u001b[0m\u001b[0;34m,\u001b[0m \u001b[0mself\u001b[0m\u001b[0;34m.\u001b[0m\u001b[0mweights\u001b[0m\u001b[0;34m)\u001b[0m\u001b[0;34m\u001b[0m\u001b[0;34m\u001b[0m\u001b[0m\n",
      "\u001b[0;32m/opt/anaconda3/lib/python3.8/site-packages/sklearn/neighbors/_base.py\u001b[0m in \u001b[0;36mkneighbors\u001b[0;34m(self, X, n_neighbors, return_distance)\u001b[0m\n\u001b[1;32m    703\u001b[0m                 \u001b[0mkwds\u001b[0m \u001b[0;34m=\u001b[0m \u001b[0mself\u001b[0m\u001b[0;34m.\u001b[0m\u001b[0meffective_metric_params_\u001b[0m\u001b[0;34m\u001b[0m\u001b[0;34m\u001b[0m\u001b[0m\n\u001b[1;32m    704\u001b[0m \u001b[0;34m\u001b[0m\u001b[0m\n\u001b[0;32m--> 705\u001b[0;31m             chunked_results = list(pairwise_distances_chunked(\n\u001b[0m\u001b[1;32m    706\u001b[0m                 \u001b[0mX\u001b[0m\u001b[0;34m,\u001b[0m \u001b[0mself\u001b[0m\u001b[0;34m.\u001b[0m\u001b[0m_fit_X\u001b[0m\u001b[0;34m,\u001b[0m \u001b[0mreduce_func\u001b[0m\u001b[0;34m=\u001b[0m\u001b[0mreduce_func\u001b[0m\u001b[0;34m,\u001b[0m\u001b[0;34m\u001b[0m\u001b[0;34m\u001b[0m\u001b[0m\n\u001b[1;32m    707\u001b[0m                 \u001b[0mmetric\u001b[0m\u001b[0;34m=\u001b[0m\u001b[0mself\u001b[0m\u001b[0;34m.\u001b[0m\u001b[0meffective_metric_\u001b[0m\u001b[0;34m,\u001b[0m \u001b[0mn_jobs\u001b[0m\u001b[0;34m=\u001b[0m\u001b[0mn_jobs\u001b[0m\u001b[0;34m,\u001b[0m\u001b[0;34m\u001b[0m\u001b[0;34m\u001b[0m\u001b[0m\n",
      "\u001b[0;32m/opt/anaconda3/lib/python3.8/site-packages/sklearn/metrics/pairwise.py\u001b[0m in \u001b[0;36mpairwise_distances_chunked\u001b[0;34m(X, Y, reduce_func, metric, n_jobs, working_memory, **kwds)\u001b[0m\n\u001b[1;32m   1631\u001b[0m         \u001b[0;32mif\u001b[0m \u001b[0mreduce_func\u001b[0m \u001b[0;32mis\u001b[0m \u001b[0;32mnot\u001b[0m \u001b[0;32mNone\u001b[0m\u001b[0;34m:\u001b[0m\u001b[0;34m\u001b[0m\u001b[0;34m\u001b[0m\u001b[0m\n\u001b[1;32m   1632\u001b[0m             \u001b[0mchunk_size\u001b[0m \u001b[0;34m=\u001b[0m \u001b[0mD_chunk\u001b[0m\u001b[0;34m.\u001b[0m\u001b[0mshape\u001b[0m\u001b[0;34m[\u001b[0m\u001b[0;36m0\u001b[0m\u001b[0;34m]\u001b[0m\u001b[0;34m\u001b[0m\u001b[0;34m\u001b[0m\u001b[0m\n\u001b[0;32m-> 1633\u001b[0;31m             \u001b[0mD_chunk\u001b[0m \u001b[0;34m=\u001b[0m \u001b[0mreduce_func\u001b[0m\u001b[0;34m(\u001b[0m\u001b[0mD_chunk\u001b[0m\u001b[0;34m,\u001b[0m \u001b[0msl\u001b[0m\u001b[0;34m.\u001b[0m\u001b[0mstart\u001b[0m\u001b[0;34m)\u001b[0m\u001b[0;34m\u001b[0m\u001b[0;34m\u001b[0m\u001b[0m\n\u001b[0m\u001b[1;32m   1634\u001b[0m             \u001b[0m_check_chunk_size\u001b[0m\u001b[0;34m(\u001b[0m\u001b[0mD_chunk\u001b[0m\u001b[0;34m,\u001b[0m \u001b[0mchunk_size\u001b[0m\u001b[0;34m)\u001b[0m\u001b[0;34m\u001b[0m\u001b[0;34m\u001b[0m\u001b[0m\n\u001b[1;32m   1635\u001b[0m         \u001b[0;32myield\u001b[0m \u001b[0mD_chunk\u001b[0m\u001b[0;34m\u001b[0m\u001b[0;34m\u001b[0m\u001b[0m\n",
      "\u001b[0;32m/opt/anaconda3/lib/python3.8/site-packages/sklearn/neighbors/_base.py\u001b[0m in \u001b[0;36m_kneighbors_reduce_func\u001b[0;34m(self, dist, start, n_neighbors, return_distance)\u001b[0m\n\u001b[1;32m    580\u001b[0m         \"\"\"\n\u001b[1;32m    581\u001b[0m         \u001b[0msample_range\u001b[0m \u001b[0;34m=\u001b[0m \u001b[0mnp\u001b[0m\u001b[0;34m.\u001b[0m\u001b[0marange\u001b[0m\u001b[0;34m(\u001b[0m\u001b[0mdist\u001b[0m\u001b[0;34m.\u001b[0m\u001b[0mshape\u001b[0m\u001b[0;34m[\u001b[0m\u001b[0;36m0\u001b[0m\u001b[0;34m]\u001b[0m\u001b[0;34m)\u001b[0m\u001b[0;34m[\u001b[0m\u001b[0;34m:\u001b[0m\u001b[0;34m,\u001b[0m \u001b[0;32mNone\u001b[0m\u001b[0;34m]\u001b[0m\u001b[0;34m\u001b[0m\u001b[0;34m\u001b[0m\u001b[0m\n\u001b[0;32m--> 582\u001b[0;31m         \u001b[0mneigh_ind\u001b[0m \u001b[0;34m=\u001b[0m \u001b[0mnp\u001b[0m\u001b[0;34m.\u001b[0m\u001b[0margpartition\u001b[0m\u001b[0;34m(\u001b[0m\u001b[0mdist\u001b[0m\u001b[0;34m,\u001b[0m \u001b[0mn_neighbors\u001b[0m \u001b[0;34m-\u001b[0m \u001b[0;36m1\u001b[0m\u001b[0;34m,\u001b[0m \u001b[0maxis\u001b[0m\u001b[0;34m=\u001b[0m\u001b[0;36m1\u001b[0m\u001b[0;34m)\u001b[0m\u001b[0;34m\u001b[0m\u001b[0;34m\u001b[0m\u001b[0m\n\u001b[0m\u001b[1;32m    583\u001b[0m         \u001b[0mneigh_ind\u001b[0m \u001b[0;34m=\u001b[0m \u001b[0mneigh_ind\u001b[0m\u001b[0;34m[\u001b[0m\u001b[0;34m:\u001b[0m\u001b[0;34m,\u001b[0m \u001b[0;34m:\u001b[0m\u001b[0mn_neighbors\u001b[0m\u001b[0;34m]\u001b[0m\u001b[0;34m\u001b[0m\u001b[0;34m\u001b[0m\u001b[0m\n\u001b[1;32m    584\u001b[0m         \u001b[0;31m# argpartition doesn't guarantee sorted order, so we sort again\u001b[0m\u001b[0;34m\u001b[0m\u001b[0;34m\u001b[0m\u001b[0;34m\u001b[0m\u001b[0m\n",
      "\u001b[0;32m/opt/anaconda3/lib/python3.8/site-packages/numpy/core/overrides.py\u001b[0m in \u001b[0;36margpartition\u001b[0;34m(*args, **kwargs)\u001b[0m\n",
      "\u001b[0;32m/opt/anaconda3/lib/python3.8/site-packages/numpy/core/fromnumeric.py\u001b[0m in \u001b[0;36margpartition\u001b[0;34m(a, kth, axis, kind, order)\u001b[0m\n\u001b[1;32m    843\u001b[0m \u001b[0;34m\u001b[0m\u001b[0m\n\u001b[1;32m    844\u001b[0m     \"\"\"\n\u001b[0;32m--> 845\u001b[0;31m     \u001b[0;32mreturn\u001b[0m \u001b[0m_wrapfunc\u001b[0m\u001b[0;34m(\u001b[0m\u001b[0ma\u001b[0m\u001b[0;34m,\u001b[0m \u001b[0;34m'argpartition'\u001b[0m\u001b[0;34m,\u001b[0m \u001b[0mkth\u001b[0m\u001b[0;34m,\u001b[0m \u001b[0maxis\u001b[0m\u001b[0;34m=\u001b[0m\u001b[0maxis\u001b[0m\u001b[0;34m,\u001b[0m \u001b[0mkind\u001b[0m\u001b[0;34m=\u001b[0m\u001b[0mkind\u001b[0m\u001b[0;34m,\u001b[0m \u001b[0morder\u001b[0m\u001b[0;34m=\u001b[0m\u001b[0morder\u001b[0m\u001b[0;34m)\u001b[0m\u001b[0;34m\u001b[0m\u001b[0;34m\u001b[0m\u001b[0m\n\u001b[0m\u001b[1;32m    846\u001b[0m \u001b[0;34m\u001b[0m\u001b[0m\n\u001b[1;32m    847\u001b[0m \u001b[0;34m\u001b[0m\u001b[0m\n",
      "\u001b[0;32m/opt/anaconda3/lib/python3.8/site-packages/numpy/core/fromnumeric.py\u001b[0m in \u001b[0;36m_wrapfunc\u001b[0;34m(obj, method, *args, **kwds)\u001b[0m\n\u001b[1;32m     55\u001b[0m \u001b[0;34m\u001b[0m\u001b[0m\n\u001b[1;32m     56\u001b[0m     \u001b[0;32mtry\u001b[0m\u001b[0;34m:\u001b[0m\u001b[0;34m\u001b[0m\u001b[0;34m\u001b[0m\u001b[0m\n\u001b[0;32m---> 57\u001b[0;31m         \u001b[0;32mreturn\u001b[0m \u001b[0mbound\u001b[0m\u001b[0;34m(\u001b[0m\u001b[0;34m*\u001b[0m\u001b[0margs\u001b[0m\u001b[0;34m,\u001b[0m \u001b[0;34m**\u001b[0m\u001b[0mkwds\u001b[0m\u001b[0;34m)\u001b[0m\u001b[0;34m\u001b[0m\u001b[0;34m\u001b[0m\u001b[0m\n\u001b[0m\u001b[1;32m     58\u001b[0m     \u001b[0;32mexcept\u001b[0m \u001b[0mTypeError\u001b[0m\u001b[0;34m:\u001b[0m\u001b[0;34m\u001b[0m\u001b[0;34m\u001b[0m\u001b[0m\n\u001b[1;32m     59\u001b[0m         \u001b[0;31m# A TypeError occurs if the object does have such a method in its\u001b[0m\u001b[0;34m\u001b[0m\u001b[0;34m\u001b[0m\u001b[0;34m\u001b[0m\u001b[0m\n",
      "\u001b[0;31mKeyboardInterrupt\u001b[0m: "
     ]
    }
   ],
   "source": [
    "y_tr_pred = KNN.predict(X_tr_scaled)\n",
    "y_te_pred = KNN.predict(X_te_scaled)"
   ]
  },
  {
   "cell_type": "code",
   "execution_count": null,
   "id": "a8912a2e",
   "metadata": {},
   "outputs": [],
   "source": []
  }
 ],
 "metadata": {
  "kernelspec": {
   "display_name": "Python 3",
   "language": "python",
   "name": "python3"
  }
 },
 "nbformat": 4,
 "nbformat_minor": 5
}
