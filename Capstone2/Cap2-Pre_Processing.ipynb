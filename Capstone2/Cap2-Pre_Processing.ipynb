{
 "cells": [
  {
   "cell_type": "code",
   "execution_count": 1,
   "id": "5988c04b",
   "metadata": {},
   "outputs": [],
   "source": [
    "import pandas as pd\n",
    "import numpy as np"
   ]
  },
  {
   "cell_type": "code",
   "execution_count": 2,
   "id": "5e0c8420",
   "metadata": {},
   "outputs": [],
   "source": [
    "from sklearn.preprocessing import StandardScaler\n",
    "scaler = StandardScaler()"
   ]
  },
  {
   "cell_type": "code",
   "execution_count": null,
   "id": "6683dd9d",
   "metadata": {},
   "outputs": [],
   "source": [
    "\n"
   ]
  },
  {
   "cell_type": "code",
   "execution_count": 3,
   "id": "ff209823",
   "metadata": {},
   "outputs": [],
   "source": [
    "df=pd.read_excel(r'/Users/markclampitt/Documents/Springboard/Capstone2/Data\\Final_Game_df.xlsx')"
   ]
  },
  {
   "cell_type": "code",
   "execution_count": 4,
   "id": "fda6d0d0",
   "metadata": {},
   "outputs": [
    {
     "data": {
      "text/plain": [
       "Date                                           datetime64[ns]\n",
       "Year                                                    int64\n",
       "Home Team                                              object\n",
       "Home Team Ranking_x                                     int64\n",
       "Away Team                                              object\n",
       "                                                    ...      \n",
       "Rolling 3 Past H&A Push Odds_Away_Team                  int64\n",
       "Rolling 3 Past H&A Push Oddss Avg_Away_Team           float64\n",
       "Rolling 3 Past H&A Push OddsMax_Away_Team               int64\n",
       "Rolling 3 Past H&A Push Odds Min_Away_Team              int64\n",
       "Previous H&A Push Odds_Away_Team                        int64\n",
       "Length: 1591, dtype: object"
      ]
     },
     "execution_count": 4,
     "metadata": {},
     "output_type": "execute_result"
    }
   ],
   "source": [
    "df.dtypes"
   ]
  },
  {
   "cell_type": "markdown",
   "id": "e82c3c57",
   "metadata": {},
   "source": [
    "# Using Get_dummies for team names"
   ]
  },
  {
   "cell_type": "code",
   "execution_count": 5,
   "id": "38d5fa29",
   "metadata": {},
   "outputs": [],
   "source": [
    "df = pd.get_dummies(df,columns=['Home Team'],drop_first=True,prefix='H')"
   ]
  },
  {
   "cell_type": "code",
   "execution_count": 6,
   "id": "9ac82400",
   "metadata": {},
   "outputs": [],
   "source": [
    "df = pd.get_dummies(df,columns=['Away Team'],drop_first=True,prefix='A')"
   ]
  },
  {
   "cell_type": "code",
   "execution_count": 7,
   "id": "23fe6409",
   "metadata": {},
   "outputs": [],
   "source": [
    "H_dummy_cols = [col for col in df.columns if 'H_' in col]\n",
    "A_dummy_cols = [col for col in df.columns if 'A_' in col]"
   ]
  },
  {
   "cell_type": "code",
   "execution_count": 8,
   "id": "7c6adf21",
   "metadata": {},
   "outputs": [
    {
     "data": {
      "text/plain": [
       "['H_Arkansas',\n",
       " 'H_Auburn',\n",
       " 'H_Florida',\n",
       " 'H_Georgia',\n",
       " 'H_Kentucky',\n",
       " 'H_LSU',\n",
       " 'H_Mississippi State',\n",
       " 'H_Missouri',\n",
       " 'H_Ole Miss',\n",
       " 'H_South Carolina',\n",
       " 'H_Tennessee',\n",
       " 'H_Texas A&M',\n",
       " 'H_Vanderbilt']"
      ]
     },
     "execution_count": 8,
     "metadata": {},
     "output_type": "execute_result"
    }
   ],
   "source": [
    "H_dummy_cols"
   ]
  },
  {
   "cell_type": "code",
   "execution_count": 9,
   "id": "446b4428",
   "metadata": {},
   "outputs": [
    {
     "data": {
      "text/plain": [
       "['A_Arkansas',\n",
       " 'A_Auburn',\n",
       " 'A_Florida',\n",
       " 'A_Georgia',\n",
       " 'A_Kentucky',\n",
       " 'A_LSU',\n",
       " 'A_Mississippi State',\n",
       " 'A_Missouri',\n",
       " 'A_Ole Miss',\n",
       " 'A_South Carolina',\n",
       " 'A_Tennessee',\n",
       " 'A_Texas A&M',\n",
       " 'A_Vanderbilt']"
      ]
     },
     "execution_count": 9,
     "metadata": {},
     "output_type": "execute_result"
    }
   ],
   "source": [
    "A_dummy_cols"
   ]
  },
  {
   "cell_type": "code",
   "execution_count": null,
   "id": "bad9b0d4",
   "metadata": {},
   "outputs": [],
   "source": [
    "A_dummy_cols = ['A_Arkansas',\n",
    " 'A_Auburn',\n",
    " 'A_Florida',\n",
    " 'A_Georgia',\n",
    " 'A_Kentucky',\n",
    " 'A_LSU',\n",
    " 'A_Mississippi State',\n",
    " 'A_Missouri',\n",
    " 'A_Ole Miss',\n",
    " 'A_South Carolina',\n",
    " 'A_Tennessee',\n",
    " 'A_Texas A&M',\n",
    " 'A_Vanderbilt']"
   ]
  },
  {
   "cell_type": "code",
   "execution_count": null,
   "id": "5f12d8f7",
   "metadata": {},
   "outputs": [],
   "source": [
    "H_dummy_cols = "
   ]
  },
  {
   "cell_type": "markdown",
   "id": "21c517f2",
   "metadata": {},
   "source": [
    "# Binning Ranking"
   ]
  },
  {
   "cell_type": "code",
   "execution_count": 10,
   "id": "fbf51dee",
   "metadata": {},
   "outputs": [],
   "source": [
    "df['H_Ranking Bin_Group'] = pd.cut(df['Home Team Ranking_x'],bins=[-np.inf,5,10,15,20,25,np.inf],labels=[1,2,3,4,5,6])\n"
   ]
  },
  {
   "cell_type": "code",
   "execution_count": 11,
   "id": "4870b5ef",
   "metadata": {},
   "outputs": [
    {
     "data": {
      "text/html": [
       "<div>\n",
       "<style scoped>\n",
       "    .dataframe tbody tr th:only-of-type {\n",
       "        vertical-align: middle;\n",
       "    }\n",
       "\n",
       "    .dataframe tbody tr th {\n",
       "        vertical-align: top;\n",
       "    }\n",
       "\n",
       "    .dataframe thead th {\n",
       "        text-align: right;\n",
       "    }\n",
       "</style>\n",
       "<table border=\"1\" class=\"dataframe\">\n",
       "  <thead>\n",
       "    <tr style=\"text-align: right;\">\n",
       "      <th></th>\n",
       "      <th>Date</th>\n",
       "      <th>Year</th>\n",
       "      <th>Home Team Ranking_x</th>\n",
       "      <th>Away Team Ranking_x</th>\n",
       "      <th>Home Team Spread_x</th>\n",
       "      <th>Away Team Spread_x</th>\n",
       "      <th>Total_x</th>\n",
       "      <th>Rolling 5 Past Away Score</th>\n",
       "      <th>Rolling 5 Past Away Score Avg</th>\n",
       "      <th>Rolling 5 Past Away Score Max</th>\n",
       "      <th>...</th>\n",
       "      <th>A_Kentucky</th>\n",
       "      <th>A_LSU</th>\n",
       "      <th>A_Mississippi State</th>\n",
       "      <th>A_Missouri</th>\n",
       "      <th>A_Ole Miss</th>\n",
       "      <th>A_South Carolina</th>\n",
       "      <th>A_Tennessee</th>\n",
       "      <th>A_Texas A&amp;M</th>\n",
       "      <th>A_Vanderbilt</th>\n",
       "      <th>H_Ranking Bin_Group</th>\n",
       "    </tr>\n",
       "  </thead>\n",
       "  <tbody>\n",
       "    <tr>\n",
       "      <th>0</th>\n",
       "      <td>2021-10-09</td>\n",
       "      <td>2021</td>\n",
       "      <td>17</td>\n",
       "      <td>13</td>\n",
       "      <td>-5.0</td>\n",
       "      <td>5.0</td>\n",
       "      <td>66.5</td>\n",
       "      <td>142</td>\n",
       "      <td>28.4</td>\n",
       "      <td>48</td>\n",
       "      <td>...</td>\n",
       "      <td>0</td>\n",
       "      <td>0</td>\n",
       "      <td>0</td>\n",
       "      <td>0</td>\n",
       "      <td>0</td>\n",
       "      <td>0</td>\n",
       "      <td>0</td>\n",
       "      <td>0</td>\n",
       "      <td>0</td>\n",
       "      <td>4</td>\n",
       "    </tr>\n",
       "    <tr>\n",
       "      <th>1</th>\n",
       "      <td>2021-10-09</td>\n",
       "      <td>2021</td>\n",
       "      <td>18</td>\n",
       "      <td>2</td>\n",
       "      <td>14.5</td>\n",
       "      <td>-14.5</td>\n",
       "      <td>45.5</td>\n",
       "      <td>194</td>\n",
       "      <td>38.8</td>\n",
       "      <td>62</td>\n",
       "      <td>...</td>\n",
       "      <td>0</td>\n",
       "      <td>0</td>\n",
       "      <td>0</td>\n",
       "      <td>0</td>\n",
       "      <td>0</td>\n",
       "      <td>0</td>\n",
       "      <td>0</td>\n",
       "      <td>0</td>\n",
       "      <td>0</td>\n",
       "      <td>4</td>\n",
       "    </tr>\n",
       "    <tr>\n",
       "      <th>2</th>\n",
       "      <td>2021-10-09</td>\n",
       "      <td>2021</td>\n",
       "      <td>16</td>\n",
       "      <td>99</td>\n",
       "      <td>-2.0</td>\n",
       "      <td>2.0</td>\n",
       "      <td>50.5</td>\n",
       "      <td>110</td>\n",
       "      <td>22.0</td>\n",
       "      <td>37</td>\n",
       "      <td>...</td>\n",
       "      <td>0</td>\n",
       "      <td>1</td>\n",
       "      <td>0</td>\n",
       "      <td>0</td>\n",
       "      <td>0</td>\n",
       "      <td>0</td>\n",
       "      <td>0</td>\n",
       "      <td>0</td>\n",
       "      <td>0</td>\n",
       "      <td>4</td>\n",
       "    </tr>\n",
       "    <tr>\n",
       "      <th>3</th>\n",
       "      <td>2021-10-09</td>\n",
       "      <td>2021</td>\n",
       "      <td>99</td>\n",
       "      <td>1</td>\n",
       "      <td>18.5</td>\n",
       "      <td>-18.5</td>\n",
       "      <td>50.5</td>\n",
       "      <td>249</td>\n",
       "      <td>49.8</td>\n",
       "      <td>63</td>\n",
       "      <td>...</td>\n",
       "      <td>0</td>\n",
       "      <td>0</td>\n",
       "      <td>0</td>\n",
       "      <td>0</td>\n",
       "      <td>0</td>\n",
       "      <td>0</td>\n",
       "      <td>0</td>\n",
       "      <td>0</td>\n",
       "      <td>0</td>\n",
       "      <td>6</td>\n",
       "    </tr>\n",
       "    <tr>\n",
       "      <th>4</th>\n",
       "      <td>2021-10-09</td>\n",
       "      <td>2021</td>\n",
       "      <td>20</td>\n",
       "      <td>99</td>\n",
       "      <td>-39.0</td>\n",
       "      <td>39.0</td>\n",
       "      <td>60.0</td>\n",
       "      <td>74</td>\n",
       "      <td>14.8</td>\n",
       "      <td>35</td>\n",
       "      <td>...</td>\n",
       "      <td>0</td>\n",
       "      <td>0</td>\n",
       "      <td>0</td>\n",
       "      <td>0</td>\n",
       "      <td>0</td>\n",
       "      <td>0</td>\n",
       "      <td>0</td>\n",
       "      <td>0</td>\n",
       "      <td>1</td>\n",
       "      <td>4</td>\n",
       "    </tr>\n",
       "    <tr>\n",
       "      <th>5</th>\n",
       "      <td>2021-10-02</td>\n",
       "      <td>2021</td>\n",
       "      <td>1</td>\n",
       "      <td>12</td>\n",
       "      <td>-15.0</td>\n",
       "      <td>15.0</td>\n",
       "      <td>79.5</td>\n",
       "      <td>185</td>\n",
       "      <td>37.0</td>\n",
       "      <td>54</td>\n",
       "      <td>...</td>\n",
       "      <td>0</td>\n",
       "      <td>0</td>\n",
       "      <td>0</td>\n",
       "      <td>0</td>\n",
       "      <td>1</td>\n",
       "      <td>0</td>\n",
       "      <td>0</td>\n",
       "      <td>0</td>\n",
       "      <td>0</td>\n",
       "      <td>1</td>\n",
       "    </tr>\n",
       "    <tr>\n",
       "      <th>6</th>\n",
       "      <td>2021-10-02</td>\n",
       "      <td>2021</td>\n",
       "      <td>2</td>\n",
       "      <td>8</td>\n",
       "      <td>-16.5</td>\n",
       "      <td>16.5</td>\n",
       "      <td>49.0</td>\n",
       "      <td>163</td>\n",
       "      <td>32.6</td>\n",
       "      <td>48</td>\n",
       "      <td>...</td>\n",
       "      <td>0</td>\n",
       "      <td>0</td>\n",
       "      <td>0</td>\n",
       "      <td>0</td>\n",
       "      <td>0</td>\n",
       "      <td>0</td>\n",
       "      <td>0</td>\n",
       "      <td>0</td>\n",
       "      <td>0</td>\n",
       "      <td>1</td>\n",
       "    </tr>\n",
       "    <tr>\n",
       "      <th>7</th>\n",
       "      <td>2021-10-02</td>\n",
       "      <td>2021</td>\n",
       "      <td>99</td>\n",
       "      <td>22</td>\n",
       "      <td>-3.0</td>\n",
       "      <td>3.0</td>\n",
       "      <td>57.0</td>\n",
       "      <td>100</td>\n",
       "      <td>20.0</td>\n",
       "      <td>35</td>\n",
       "      <td>...</td>\n",
       "      <td>0</td>\n",
       "      <td>0</td>\n",
       "      <td>0</td>\n",
       "      <td>0</td>\n",
       "      <td>0</td>\n",
       "      <td>0</td>\n",
       "      <td>0</td>\n",
       "      <td>0</td>\n",
       "      <td>0</td>\n",
       "      <td>6</td>\n",
       "    </tr>\n",
       "    <tr>\n",
       "      <th>8</th>\n",
       "      <td>2021-10-02</td>\n",
       "      <td>2021</td>\n",
       "      <td>99</td>\n",
       "      <td>10</td>\n",
       "      <td>7.5</td>\n",
       "      <td>-7.5</td>\n",
       "      <td>56.5</td>\n",
       "      <td>181</td>\n",
       "      <td>36.2</td>\n",
       "      <td>51</td>\n",
       "      <td>...</td>\n",
       "      <td>0</td>\n",
       "      <td>0</td>\n",
       "      <td>0</td>\n",
       "      <td>0</td>\n",
       "      <td>0</td>\n",
       "      <td>0</td>\n",
       "      <td>0</td>\n",
       "      <td>0</td>\n",
       "      <td>0</td>\n",
       "      <td>6</td>\n",
       "    </tr>\n",
       "    <tr>\n",
       "      <th>9</th>\n",
       "      <td>2021-10-02</td>\n",
       "      <td>2021</td>\n",
       "      <td>15</td>\n",
       "      <td>99</td>\n",
       "      <td>-7.0</td>\n",
       "      <td>7.0</td>\n",
       "      <td>45.5</td>\n",
       "      <td>94</td>\n",
       "      <td>18.8</td>\n",
       "      <td>44</td>\n",
       "      <td>...</td>\n",
       "      <td>0</td>\n",
       "      <td>0</td>\n",
       "      <td>1</td>\n",
       "      <td>0</td>\n",
       "      <td>0</td>\n",
       "      <td>0</td>\n",
       "      <td>0</td>\n",
       "      <td>0</td>\n",
       "      <td>0</td>\n",
       "      <td>3</td>\n",
       "    </tr>\n",
       "  </tbody>\n",
       "</table>\n",
       "<p>10 rows × 1616 columns</p>\n",
       "</div>"
      ],
      "text/plain": [
       "        Date  Year  Home Team Ranking_x  Away Team Ranking_x  \\\n",
       "0 2021-10-09  2021                   17                   13   \n",
       "1 2021-10-09  2021                   18                    2   \n",
       "2 2021-10-09  2021                   16                   99   \n",
       "3 2021-10-09  2021                   99                    1   \n",
       "4 2021-10-09  2021                   20                   99   \n",
       "5 2021-10-02  2021                    1                   12   \n",
       "6 2021-10-02  2021                    2                    8   \n",
       "7 2021-10-02  2021                   99                   22   \n",
       "8 2021-10-02  2021                   99                   10   \n",
       "9 2021-10-02  2021                   15                   99   \n",
       "\n",
       "   Home Team Spread_x  Away Team Spread_x  Total_x  Rolling 5 Past Away Score  \\\n",
       "0                -5.0                 5.0     66.5                        142   \n",
       "1                14.5               -14.5     45.5                        194   \n",
       "2                -2.0                 2.0     50.5                        110   \n",
       "3                18.5               -18.5     50.5                        249   \n",
       "4               -39.0                39.0     60.0                         74   \n",
       "5               -15.0                15.0     79.5                        185   \n",
       "6               -16.5                16.5     49.0                        163   \n",
       "7                -3.0                 3.0     57.0                        100   \n",
       "8                 7.5                -7.5     56.5                        181   \n",
       "9                -7.0                 7.0     45.5                         94   \n",
       "\n",
       "   Rolling 5 Past Away Score Avg  Rolling 5 Past Away Score Max  ...  \\\n",
       "0                           28.4                             48  ...   \n",
       "1                           38.8                             62  ...   \n",
       "2                           22.0                             37  ...   \n",
       "3                           49.8                             63  ...   \n",
       "4                           14.8                             35  ...   \n",
       "5                           37.0                             54  ...   \n",
       "6                           32.6                             48  ...   \n",
       "7                           20.0                             35  ...   \n",
       "8                           36.2                             51  ...   \n",
       "9                           18.8                             44  ...   \n",
       "\n",
       "   A_Kentucky  A_LSU  A_Mississippi State  A_Missouri  A_Ole Miss  \\\n",
       "0           0      0                    0           0           0   \n",
       "1           0      0                    0           0           0   \n",
       "2           0      1                    0           0           0   \n",
       "3           0      0                    0           0           0   \n",
       "4           0      0                    0           0           0   \n",
       "5           0      0                    0           0           1   \n",
       "6           0      0                    0           0           0   \n",
       "7           0      0                    0           0           0   \n",
       "8           0      0                    0           0           0   \n",
       "9           0      0                    1           0           0   \n",
       "\n",
       "   A_South Carolina  A_Tennessee  A_Texas A&M  A_Vanderbilt  \\\n",
       "0                 0            0            0             0   \n",
       "1                 0            0            0             0   \n",
       "2                 0            0            0             0   \n",
       "3                 0            0            0             0   \n",
       "4                 0            0            0             1   \n",
       "5                 0            0            0             0   \n",
       "6                 0            0            0             0   \n",
       "7                 0            0            0             0   \n",
       "8                 0            0            0             0   \n",
       "9                 0            0            0             0   \n",
       "\n",
       "   H_Ranking Bin_Group  \n",
       "0                    4  \n",
       "1                    4  \n",
       "2                    4  \n",
       "3                    6  \n",
       "4                    4  \n",
       "5                    1  \n",
       "6                    1  \n",
       "7                    6  \n",
       "8                    6  \n",
       "9                    3  \n",
       "\n",
       "[10 rows x 1616 columns]"
      ]
     },
     "execution_count": 11,
     "metadata": {},
     "output_type": "execute_result"
    }
   ],
   "source": [
    "df.head(10)"
   ]
  },
  {
   "cell_type": "code",
   "execution_count": 12,
   "id": "09a19397",
   "metadata": {},
   "outputs": [],
   "source": [
    "df['A_Ranking Bin_Group'] = pd.cut(df['Away Team Ranking_x'],bins=[-np.inf,5,10,15,20,25,np.inf],labels=[1,2,3,4,5,6])\n"
   ]
  },
  {
   "cell_type": "code",
   "execution_count": 13,
   "id": "acc49578",
   "metadata": {},
   "outputs": [
    {
     "data": {
      "text/plain": [
       "0"
      ]
     },
     "execution_count": 13,
     "metadata": {},
     "output_type": "execute_result"
    }
   ],
   "source": [
    "df.isnull().sum().max()"
   ]
  },
  {
   "cell_type": "code",
   "execution_count": 14,
   "id": "b6f3d18d",
   "metadata": {},
   "outputs": [],
   "source": [
    "#Removing Team rankings as they are now binned (Left the rolling ranking data for now, but may decide to remove later)"
   ]
  },
  {
   "cell_type": "code",
   "execution_count": 15,
   "id": "eb02533a",
   "metadata": {},
   "outputs": [],
   "source": [
    "df.drop('Home Team Ranking_x', axis=1, inplace=True)\n",
    "df.drop('Away Team Ranking_x', axis=1, inplace=True)"
   ]
  },
  {
   "cell_type": "code",
   "execution_count": 16,
   "id": "510278d5",
   "metadata": {},
   "outputs": [],
   "source": [
    "#fourth_cols = [col for col in df.columns if '4th' in col]\n",
    "#Min_cols = [col for col in df.columns if 'Min' in col]\n",
    "#Max_cols = [col for col in df.columns if 'Max' in col]\n",
    "#Avg_cols = [col for col in df.columns if 'Avg' in col]\n",
    "#five_cols = [col for col in df.columns if '5' in col]\n",
    "#Push_cols = [col for col in df.columns if 'Push' in col]\n",
    "#push_cols = [col for col in df.columns if 'push' in col]\n",
    "prev_cols = [col for col in df.columns if 'Previous' in col]"
   ]
  },
  {
   "cell_type": "code",
   "execution_count": null,
   "id": "77155a9e",
   "metadata": {},
   "outputs": [],
   "source": []
  },
  {
   "cell_type": "code",
   "execution_count": 17,
   "id": "80a17c06",
   "metadata": {},
   "outputs": [],
   "source": [
    "#fourth_cols"
   ]
  },
  {
   "cell_type": "code",
   "execution_count": 18,
   "id": "51268d4a",
   "metadata": {},
   "outputs": [],
   "source": [
    "#df.drop(fourth_cols,axis=1,inplace = True)\n",
    "#df.drop(Min_cols,axis=1,inplace = True)\n",
    "#df.drop(Max_cols,axis=1,inplace = True)\n",
    "#df.drop(Avg_cols,axis=1,inplace = True)\n",
    "#df.drop(five_cols,axis=1,inplace = True)\n",
    "#df.drop(push_cols,axis=1,inplace = True)\n",
    "#df.drop(Push_cols,axis=1,inplace = True)"
   ]
  },
  {
   "cell_type": "code",
   "execution_count": 19,
   "id": "08ae7222",
   "metadata": {},
   "outputs": [],
   "source": [
    "#df = df.iloc[:, 0:500]"
   ]
  },
  {
   "cell_type": "code",
   "execution_count": 20,
   "id": "82a0c967",
   "metadata": {},
   "outputs": [],
   "source": [
    "#df.describe()"
   ]
  },
  {
   "cell_type": "code",
   "execution_count": 21,
   "id": "7db9ec5e",
   "metadata": {},
   "outputs": [],
   "source": [
    "pd.set_option('Max_columns',None)"
   ]
  },
  {
   "cell_type": "code",
   "execution_count": 22,
   "id": "b4de7cf5",
   "metadata": {},
   "outputs": [],
   "source": [
    "#df.describe()"
   ]
  },
  {
   "cell_type": "markdown",
   "id": "de583c71",
   "metadata": {},
   "source": [
    "# Scaling Df"
   ]
  },
  {
   "cell_type": "code",
   "execution_count": 23,
   "id": "67acd3d8",
   "metadata": {},
   "outputs": [],
   "source": [
    "column_list=prev_cols\n",
    "column_list.append('Rolling 5 Past H&A Score_Home_Team')\n",
    "column_list.append('Rolling 5 Past H&A Score_Away_Team')\n",
    "column_list.append('Rolling 5 Past H&A Conf T Losses_Away_Team')\n",
    "column_list.append('Rolling 5 Past H&A Conf T Losses_Home_Team')\n",
    "column_list.append('Rolling 5 Past H&A Conf T Wins_Away_Team')\n",
    "column_list.append('Rolling 5 Past H&A Conf T Wins_Home_Team')\n",
    "column_list.append('Rolling 5 Past H&A Possession Time_Home_Team')\n",
    "column_list.append('Rolling 5 Past H&A Possession Time_Away_Team')\n",
    "column_list.append('Rolling 5 Past H&A Total Yards_Home_Team')\n",
    "column_list.append('Rolling 5 Past H&A Total Yards_Away_Team')\n",
    "column_list.append('Rolling 5 Past H&A Penalties_Home_Team')\n",
    "column_list.append('Rolling 5 Past H&A Penalties_Away_Team')\n",
    "column_list.append('Rolling 5 Past H&A Turnovers_Home_Team')\n",
    "column_list.append('Rolling 5 Past H&A Turnovers_Away_Team')\n",
    "column_list.conc(H_dummy_cols)\n",
    "column_list.append(A_dummy_cols)\n",
    "\n",
    "#column_list = df.columns.values.tolist()\n"
   ]
  },
  {
   "cell_type": "code",
   "execution_count": 27,
   "id": "f879e778",
   "metadata": {},
   "outputs": [
    {
     "data": {
      "text/plain": [
       "['Previous Away HI Pass yrds',\n",
       " 'Previous Away HI Rush yrds',\n",
       " 'Previous Away HI REC yrds',\n",
       " 'Previous Away Season T Wins',\n",
       " 'Previous Away Season Losses',\n",
       " 'Previous Away Conf Losses',\n",
       " 'Previous Away Conf Wins',\n",
       " 'Previous Away 1st Downs',\n",
       " 'Previous Away 3rd Down Conversions',\n",
       " 'Previous Away 3rd Down Conversions Attempts',\n",
       " 'Previous Away 3rd Down Conversions %',\n",
       " 'Previous Away 4th Down Conversions',\n",
       " 'Previous Away 4th Down Conversions Attempts',\n",
       " 'Previous Away 4th Down Conversions %',\n",
       " 'Previous Away Completions',\n",
       " 'Previous Away Completion Attempts',\n",
       " 'Previous Away Completion %',\n",
       " 'Previous Away Total Yards',\n",
       " 'Previous Away Passing',\n",
       " 'Previous Away Yards per Pass',\n",
       " 'Previous Away Rushing',\n",
       " 'Previous Away Rushing Attempts',\n",
       " 'Previous Away Yards per Rush',\n",
       " 'Previous Away Penalties',\n",
       " 'Previous Away Penalty Yards',\n",
       " 'Previous Away Yards per Penalty',\n",
       " 'Previous Away Turnovers',\n",
       " 'Previous Away Fumbles Lost',\n",
       " 'Previous Away Interceptions Thrown',\n",
       " 'Previous Away Possession Time',\n",
       " 'Previous Away Q1 Score',\n",
       " 'Previous Away Q2 Score',\n",
       " 'Previous Away Q3 Score',\n",
       " 'Previous Away Q4 Score',\n",
       " 'Previous Away Spread',\n",
       " 'Previous Away Ranking',\n",
       " 'Previous Away ATS Win',\n",
       " 'Previous Away ATS Loss',\n",
       " 'Previous Away ATS Push',\n",
       " 'Previous Away Over Odds',\n",
       " 'Previous Away Under Odds',\n",
       " 'Previous Away Push Odds',\n",
       " 'Previous Away Total Odds',\n",
       " 'Previous Home HI Pass yrds',\n",
       " 'Previous Home HI Rush yrds',\n",
       " 'Previous Home HI REC yrds',\n",
       " 'Previous Home Season T Wins',\n",
       " 'Previous Home Season Losses',\n",
       " 'Previous Home Conf Losses',\n",
       " 'Previous Home Conf Wins',\n",
       " 'Previous Home 1st Downs',\n",
       " 'Previous Home 3rd Down Conversions',\n",
       " 'Previous Home 3rd Down Conversions Attempts',\n",
       " 'Previous Home 3rd Down Conversions %',\n",
       " 'Previous Home 4th Down Conversions',\n",
       " 'Previous Home 4th Down Conversions Attempts',\n",
       " 'Previous Home 4th Down Conversions %',\n",
       " 'Previous Home Completions',\n",
       " 'Previous Home Completion Attempts',\n",
       " 'Previous Home Completion %',\n",
       " 'Previous Home Total Yards',\n",
       " 'Previous Home Yards per Pass',\n",
       " 'Previous Home Rushing',\n",
       " 'Previous Home Rushing Attempts',\n",
       " 'Previous Home Yards per Rush',\n",
       " 'Previous Home Penalties',\n",
       " 'Previous Home Penalty Yards',\n",
       " 'Previous Home Yards per Penalty',\n",
       " 'Previous Home Turnovers',\n",
       " 'Previous Home Fumbles Lost',\n",
       " 'Previous Home Interceptions Thrown',\n",
       " 'Previous Home Possession Time',\n",
       " 'Previous Home Q1 Score',\n",
       " 'Previous Home Q2 Score',\n",
       " 'Previous Home Q3 Score',\n",
       " 'Previous Home Q4 Score',\n",
       " 'Previous Home Total Odds',\n",
       " 'Previous Home Spread',\n",
       " 'Previous Home Ranking',\n",
       " 'Previous Home ATS Win',\n",
       " 'Previous Home ATS Push',\n",
       " 'Previous Home ATS Loss',\n",
       " 'Previous Home Over Odds',\n",
       " 'Previous Home Under Odds',\n",
       " 'Previous Home Push Odds',\n",
       " 'Previous H&A HI Pass yrds_Home_Team',\n",
       " 'Previous H&A HI Rush yrds_Home_Team',\n",
       " 'Previous H&A HI REC yrds_Home_Team',\n",
       " 'Previous H&A Season T Wins_Home_Team',\n",
       " 'Previous H&A Season Losses_Home_Team',\n",
       " 'Previous H&A Conf Wins_Home_Team',\n",
       " 'Previous H&A Conf Losses_Home_Team',\n",
       " 'Previous H&A 1st Downs_Home_Team',\n",
       " 'Previous H&A 3rd Down Conversions_Home_Team',\n",
       " 'Previous H&A 3rd Down Conversions Attempts_Home_Team',\n",
       " 'Previous H&A 3rd Down Conversions %_Home_Team',\n",
       " 'Previous H&A 4th Down Conversions_Home_Team',\n",
       " 'Previous H&A 4th Down Conversions Attempts_Home_Team',\n",
       " 'Previous H&A 4th Down Conversions %_Home_Team',\n",
       " 'Previous H&A Completions_Home_Team',\n",
       " 'Previous H&A Completion Attempts_Home_Team',\n",
       " 'Previous H&A Completion %_Home_Team',\n",
       " 'Previous H&A Total Yards_Home_Team',\n",
       " 'Previous H&A Passing_Home_Team',\n",
       " 'Previous H&A Yards per Pass_Home_Team',\n",
       " 'Previous H&A Rushing_Home_Team',\n",
       " 'Previous H&A Rushing Attempts_Home_Team',\n",
       " 'Previous H&A Yards per Rush_Home_Team',\n",
       " 'Previous H&A Penalties_Home_Team',\n",
       " 'Previous H&A Penalty Yards_Home_Team',\n",
       " 'Previous H&A Yards per Penalty_Home_Team',\n",
       " 'Previous H&A Turnovers_Home_Team',\n",
       " 'Previous H&A Fumbles Lost_Home_Team',\n",
       " 'Previous H&A Interceptions Thrown_Home_Team',\n",
       " 'Previous H&A Possession Time_Home_Team',\n",
       " 'Previous H&A Q1 Score_Home_Team',\n",
       " 'Previous H&A Q2 Score_Home_Team',\n",
       " 'Previous H&A Q3 Score_Home_Team',\n",
       " 'Previous H&A Q4 Score_Home_Team',\n",
       " 'Previous H&A Total Odds_Home_Team',\n",
       " 'Previous H&A Spread_Home_Team',\n",
       " 'Previous H&A Ranking_Home_Team',\n",
       " 'Previous H&A ATS Win_Home_Team',\n",
       " 'Previous H&A ATS Loss_Home_Team',\n",
       " 'Previous H&A ATS Push_Home_Team',\n",
       " 'Previous H&A Over Odds_Home_Team',\n",
       " 'Previous H&A Under Odds_Home_Team',\n",
       " 'Previous H&A HI Pass yrds_Away_Team',\n",
       " 'Previous H&A HI Rush yrds_Away_Team',\n",
       " 'Previous H&A HI REC yrds_Away_Team',\n",
       " 'Previous H&A Season T Wins_Away_Team',\n",
       " 'Previous H&A Season Losses_Away_Team',\n",
       " 'Previous H&A Conf Wins_Away_Team',\n",
       " 'Previous H&A Conf Losses_Away_Team',\n",
       " 'Previous H&A 1st Downs_Away_Team',\n",
       " 'Previous H&A 3rd Down Conversions_Away_Team',\n",
       " 'Previous H&A 3rd Down Conversions Attempts_Away_Team',\n",
       " 'Previous H&A 3rd Down Conversions %_Away_Team',\n",
       " 'Previous H&A 4th Down Conversions_Away_Team',\n",
       " 'Previous H&A 4th Down Conversions Attempts_Away_Team',\n",
       " 'Previous H&A 4th Down Conversions %_Away_Team',\n",
       " 'Previous H&A Completions_Away_Team',\n",
       " 'Previous H&A Completion Attempts_Away_Team',\n",
       " 'Previous H&A Completion %_Away_Team',\n",
       " 'Previous H&A Total Yards_Away_Team',\n",
       " 'Previous H&A Passing_Away_Team',\n",
       " 'Previous H&A Yards per Pass_Away_Team',\n",
       " 'Previous H&A Rushing_Away_Team',\n",
       " 'Previous H&A Rushing Attempts_Away_Team',\n",
       " 'Previous H&A Yards per Rush_Away_Team',\n",
       " 'Previous H&A Penalties_Away_Team',\n",
       " 'Previous H&A Penalty Yards_Away_Team',\n",
       " 'Previous H&A Yards per Penalty_Away_Team',\n",
       " 'Previous H&A Turnovers_Away_Team',\n",
       " 'Previous H&A Fumbles Lost_Away_Team',\n",
       " 'Previous H&A Interceptions Thrown_Away_Team',\n",
       " 'Previous H&A Possession Time_Away_Team',\n",
       " 'Previous H&A Q1 Score_Away_Team',\n",
       " 'Previous H&A Q2 Score_Away_Team',\n",
       " 'Previous H&A Q3 Score_Away_Team',\n",
       " 'Previous H&A Q4 Score_Away_Team',\n",
       " 'Previous H&A Total Odds_Away_Team',\n",
       " 'Previous H&A Spread_Away_Team',\n",
       " 'Previous H&A Ranking_Away_Team',\n",
       " 'Previous H&A ATS Win_Away_Team',\n",
       " 'Previous H&A ATS Loss_Away_Team',\n",
       " 'Previous H&A ATS Push_Away_Team',\n",
       " 'Previous H&A Over Odds_Away_Team',\n",
       " 'Previous H&A Under Odds_Away_Team',\n",
       " 'Previous H&A Push Odds_Away_Team',\n",
       " 'Rolling 5 Past H&A Score_Home_Team',\n",
       " 'Rolling 5 Past H&A Score_Away_Team',\n",
       " 'Rolling 5 Past H&A Conf T Losses_Away_Team',\n",
       " 'Rolling 5 Past H&A Conf T Losses_Home_Team',\n",
       " 'Rolling 5 Past H&A Conf T Wins_Away_Team',\n",
       " 'Rolling 5 Past H&A Conf T Wins_Home_Team',\n",
       " 'Rolling 5 Past H&A Possession Time_Home_Team',\n",
       " 'Rolling 5 Past H&A Possession Time_Away_Team',\n",
       " 'Rolling 5 Past H&A Total Yards_Home_Team',\n",
       " 'Rolling 5 Past H&A Total Yards_Away_Team',\n",
       " 'Rolling 5 Past H&A Penalties_Home_Team',\n",
       " 'Rolling 5 Past H&A Penalties_Away_Team',\n",
       " 'Rolling 5 Past H&A Turnovers_Home_Team',\n",
       " 'Rolling 5 Past H&A Turnovers_Away_Team',\n",
       " ['H_Arkansas',\n",
       "  'H_Auburn',\n",
       "  'H_Florida',\n",
       "  'H_Georgia',\n",
       "  'H_Kentucky',\n",
       "  'H_LSU',\n",
       "  'H_Mississippi State',\n",
       "  'H_Missouri',\n",
       "  'H_Ole Miss',\n",
       "  'H_South Carolina',\n",
       "  'H_Tennessee',\n",
       "  'H_Texas A&M',\n",
       "  'H_Vanderbilt'],\n",
       " ['A_Arkansas',\n",
       "  'A_Auburn',\n",
       "  'A_Florida',\n",
       "  'A_Georgia',\n",
       "  'A_Kentucky',\n",
       "  'A_LSU',\n",
       "  'A_Mississippi State',\n",
       "  'A_Missouri',\n",
       "  'A_Ole Miss',\n",
       "  'A_South Carolina',\n",
       "  'A_Tennessee',\n",
       "  'A_Texas A&M',\n",
       "  'A_Vanderbilt']]"
      ]
     },
     "execution_count": 27,
     "metadata": {},
     "output_type": "execute_result"
    }
   ],
   "source": [
    "column_list"
   ]
  },
  {
   "cell_type": "code",
   "execution_count": 24,
   "id": "ef86ae7a",
   "metadata": {},
   "outputs": [],
   "source": [
    "#column_list.remove('Date')\n",
    "#column_list.remove('Year')\n",
    "#column_list.remove('Home Team')\n",
    "#column_list.remove('Away Team')\n",
    "#column_lis.remove('H_ArkansasH_Auburn','H_Florida','H_Georgia','H_Kentucky','H_LSU','H_Mississippi State','H_Missouri','H_Ole Miss','H_South Carolina','H_Tennessee','H_Texas A&M','H_Vanderbilt','A_Arkansas','A_Auburn','A_Florida','A_Georgia','A_Kentucky','A_LSU','A_Mississippi State','A_Missouri','A_Ole Miss','A_South Carolina','A_Tennessee','A_Texas A&M','A_Vanderbilt','H_Ranking Bin_Group','A_Ranking Bin_Group')"
   ]
  },
  {
   "cell_type": "code",
   "execution_count": 25,
   "id": "d4289d74",
   "metadata": {},
   "outputs": [],
   "source": [
    "#print(column_list)"
   ]
  },
  {
   "cell_type": "code",
   "execution_count": 26,
   "id": "be5aaa74",
   "metadata": {},
   "outputs": [
    {
     "name": "stderr",
     "output_type": "stream",
     "text": [
      "/opt/anaconda3/lib/python3.8/site-packages/numpy/core/_asarray.py:102: VisibleDeprecationWarning: Creating an ndarray from ragged nested sequences (which is a list-or-tuple of lists-or-tuples-or ndarrays with different lengths or shapes) is deprecated. If you meant to do this, you must specify 'dtype=object' when creating the ndarray.\n",
      "  return array(a, dtype, copy=False, order=order)\n"
     ]
    },
    {
     "ename": "TypeError",
     "evalue": "unhashable type: 'list'",
     "output_type": "error",
     "traceback": [
      "\u001b[0;31m---------------------------------------------------------------------------\u001b[0m",
      "\u001b[0;31mTypeError\u001b[0m                                 Traceback (most recent call last)",
      "\u001b[0;32m<ipython-input-26-74e87e688cb1>\u001b[0m in \u001b[0;36m<module>\u001b[0;34m\u001b[0m\n\u001b[0;32m----> 1\u001b[0;31m \u001b[0mfeatures\u001b[0m \u001b[0;34m=\u001b[0m \u001b[0mdf\u001b[0m\u001b[0;34m[\u001b[0m\u001b[0mcolumn_list\u001b[0m\u001b[0;34m]\u001b[0m\u001b[0;34m\u001b[0m\u001b[0;34m\u001b[0m\u001b[0m\n\u001b[0m",
      "\u001b[0;32m/opt/anaconda3/lib/python3.8/site-packages/pandas/core/frame.py\u001b[0m in \u001b[0;36m__getitem__\u001b[0;34m(self, key)\u001b[0m\n\u001b[1;32m   3028\u001b[0m             \u001b[0;32mif\u001b[0m \u001b[0mis_iterator\u001b[0m\u001b[0;34m(\u001b[0m\u001b[0mkey\u001b[0m\u001b[0;34m)\u001b[0m\u001b[0;34m:\u001b[0m\u001b[0;34m\u001b[0m\u001b[0;34m\u001b[0m\u001b[0m\n\u001b[1;32m   3029\u001b[0m                 \u001b[0mkey\u001b[0m \u001b[0;34m=\u001b[0m \u001b[0mlist\u001b[0m\u001b[0;34m(\u001b[0m\u001b[0mkey\u001b[0m\u001b[0;34m)\u001b[0m\u001b[0;34m\u001b[0m\u001b[0;34m\u001b[0m\u001b[0m\n\u001b[0;32m-> 3030\u001b[0;31m             \u001b[0mindexer\u001b[0m \u001b[0;34m=\u001b[0m \u001b[0mself\u001b[0m\u001b[0;34m.\u001b[0m\u001b[0mloc\u001b[0m\u001b[0;34m.\u001b[0m\u001b[0m_get_listlike_indexer\u001b[0m\u001b[0;34m(\u001b[0m\u001b[0mkey\u001b[0m\u001b[0;34m,\u001b[0m \u001b[0maxis\u001b[0m\u001b[0;34m=\u001b[0m\u001b[0;36m1\u001b[0m\u001b[0;34m,\u001b[0m \u001b[0mraise_missing\u001b[0m\u001b[0;34m=\u001b[0m\u001b[0;32mTrue\u001b[0m\u001b[0;34m)\u001b[0m\u001b[0;34m[\u001b[0m\u001b[0;36m1\u001b[0m\u001b[0;34m]\u001b[0m\u001b[0;34m\u001b[0m\u001b[0;34m\u001b[0m\u001b[0m\n\u001b[0m\u001b[1;32m   3031\u001b[0m \u001b[0;34m\u001b[0m\u001b[0m\n\u001b[1;32m   3032\u001b[0m         \u001b[0;31m# take() does not accept boolean indexers\u001b[0m\u001b[0;34m\u001b[0m\u001b[0;34m\u001b[0m\u001b[0;34m\u001b[0m\u001b[0m\n",
      "\u001b[0;32m/opt/anaconda3/lib/python3.8/site-packages/pandas/core/indexing.py\u001b[0m in \u001b[0;36m_get_listlike_indexer\u001b[0;34m(self, key, axis, raise_missing)\u001b[0m\n\u001b[1;32m   1259\u001b[0m \u001b[0;34m\u001b[0m\u001b[0m\n\u001b[1;32m   1260\u001b[0m         \u001b[0;32mif\u001b[0m \u001b[0max\u001b[0m\u001b[0;34m.\u001b[0m\u001b[0m_index_as_unique\u001b[0m\u001b[0;34m:\u001b[0m\u001b[0;34m\u001b[0m\u001b[0;34m\u001b[0m\u001b[0m\n\u001b[0;32m-> 1261\u001b[0;31m             \u001b[0mindexer\u001b[0m \u001b[0;34m=\u001b[0m \u001b[0max\u001b[0m\u001b[0;34m.\u001b[0m\u001b[0mget_indexer_for\u001b[0m\u001b[0;34m(\u001b[0m\u001b[0mkeyarr\u001b[0m\u001b[0;34m)\u001b[0m\u001b[0;34m\u001b[0m\u001b[0;34m\u001b[0m\u001b[0m\n\u001b[0m\u001b[1;32m   1262\u001b[0m             \u001b[0mkeyarr\u001b[0m \u001b[0;34m=\u001b[0m \u001b[0max\u001b[0m\u001b[0;34m.\u001b[0m\u001b[0mreindex\u001b[0m\u001b[0;34m(\u001b[0m\u001b[0mkeyarr\u001b[0m\u001b[0;34m)\u001b[0m\u001b[0;34m[\u001b[0m\u001b[0;36m0\u001b[0m\u001b[0;34m]\u001b[0m\u001b[0;34m\u001b[0m\u001b[0;34m\u001b[0m\u001b[0m\n\u001b[1;32m   1263\u001b[0m         \u001b[0;32melse\u001b[0m\u001b[0;34m:\u001b[0m\u001b[0;34m\u001b[0m\u001b[0;34m\u001b[0m\u001b[0m\n",
      "\u001b[0;32m/opt/anaconda3/lib/python3.8/site-packages/pandas/core/indexes/base.py\u001b[0m in \u001b[0;36mget_indexer_for\u001b[0;34m(self, target, **kwargs)\u001b[0m\n\u001b[1;32m   4958\u001b[0m         \"\"\"\n\u001b[1;32m   4959\u001b[0m         \u001b[0;32mif\u001b[0m \u001b[0mself\u001b[0m\u001b[0;34m.\u001b[0m\u001b[0m_index_as_unique\u001b[0m\u001b[0;34m:\u001b[0m\u001b[0;34m\u001b[0m\u001b[0;34m\u001b[0m\u001b[0m\n\u001b[0;32m-> 4960\u001b[0;31m             \u001b[0;32mreturn\u001b[0m \u001b[0mself\u001b[0m\u001b[0;34m.\u001b[0m\u001b[0mget_indexer\u001b[0m\u001b[0;34m(\u001b[0m\u001b[0mtarget\u001b[0m\u001b[0;34m,\u001b[0m \u001b[0;34m**\u001b[0m\u001b[0mkwargs\u001b[0m\u001b[0;34m)\u001b[0m\u001b[0;34m\u001b[0m\u001b[0;34m\u001b[0m\u001b[0m\n\u001b[0m\u001b[1;32m   4961\u001b[0m         \u001b[0mindexer\u001b[0m\u001b[0;34m,\u001b[0m \u001b[0m_\u001b[0m \u001b[0;34m=\u001b[0m \u001b[0mself\u001b[0m\u001b[0;34m.\u001b[0m\u001b[0mget_indexer_non_unique\u001b[0m\u001b[0;34m(\u001b[0m\u001b[0mtarget\u001b[0m\u001b[0;34m)\u001b[0m\u001b[0;34m\u001b[0m\u001b[0;34m\u001b[0m\u001b[0m\n\u001b[1;32m   4962\u001b[0m         \u001b[0;32mreturn\u001b[0m \u001b[0mindexer\u001b[0m\u001b[0;34m\u001b[0m\u001b[0;34m\u001b[0m\u001b[0m\n",
      "\u001b[0;32m/opt/anaconda3/lib/python3.8/site-packages/pandas/core/indexes/base.py\u001b[0m in \u001b[0;36mget_indexer\u001b[0;34m(self, target, method, limit, tolerance)\u001b[0m\n\u001b[1;32m   3189\u001b[0m                 )\n\u001b[1;32m   3190\u001b[0m \u001b[0;34m\u001b[0m\u001b[0m\n\u001b[0;32m-> 3191\u001b[0;31m             \u001b[0mindexer\u001b[0m \u001b[0;34m=\u001b[0m \u001b[0mself\u001b[0m\u001b[0;34m.\u001b[0m\u001b[0m_engine\u001b[0m\u001b[0;34m.\u001b[0m\u001b[0mget_indexer\u001b[0m\u001b[0;34m(\u001b[0m\u001b[0mtarget\u001b[0m\u001b[0;34m.\u001b[0m\u001b[0m_get_engine_target\u001b[0m\u001b[0;34m(\u001b[0m\u001b[0;34m)\u001b[0m\u001b[0;34m)\u001b[0m\u001b[0;34m\u001b[0m\u001b[0;34m\u001b[0m\u001b[0m\n\u001b[0m\u001b[1;32m   3192\u001b[0m \u001b[0;34m\u001b[0m\u001b[0m\n\u001b[1;32m   3193\u001b[0m         \u001b[0;32mreturn\u001b[0m \u001b[0mensure_platform_int\u001b[0m\u001b[0;34m(\u001b[0m\u001b[0mindexer\u001b[0m\u001b[0;34m)\u001b[0m\u001b[0;34m\u001b[0m\u001b[0;34m\u001b[0m\u001b[0m\n",
      "\u001b[0;32mpandas/_libs/index.pyx\u001b[0m in \u001b[0;36mpandas._libs.index.IndexEngine.get_indexer\u001b[0;34m()\u001b[0m\n",
      "\u001b[0;32mpandas/_libs/hashtable_class_helper.pxi\u001b[0m in \u001b[0;36mpandas._libs.hashtable.PyObjectHashTable.lookup\u001b[0;34m()\u001b[0m\n",
      "\u001b[0;31mTypeError\u001b[0m: unhashable type: 'list'"
     ]
    }
   ],
   "source": [
    "features = df[column_list]"
   ]
  },
  {
   "cell_type": "code",
   "execution_count": null,
   "id": "4435cb67",
   "metadata": {},
   "outputs": [],
   "source": [
    "scaler = StandardScaler().fit(features.values)\n",
    "features = scaler.transform(features.values)\n",
    "scaled_df = pd.DataFrame(features, columns = column_list)"
   ]
  },
  {
   "cell_type": "code",
   "execution_count": null,
   "id": "06a49f43",
   "metadata": {},
   "outputs": [],
   "source": [
    "scaled_df.shape"
   ]
  },
  {
   "cell_type": "code",
   "execution_count": null,
   "id": "58dd9a96",
   "metadata": {},
   "outputs": [],
   "source": []
  },
  {
   "cell_type": "markdown",
   "id": "29a6afe2",
   "metadata": {},
   "source": [
    "# Removing Outliers"
   ]
  },
  {
   "cell_type": "code",
   "execution_count": null,
   "id": "d75337ec",
   "metadata": {},
   "outputs": [],
   "source": [
    "#mean=scaled_df['Rolling 5 Past Away Score'].mean()\n",
    "#std=scaled_df['Rolling 5 Past Away Score'].std()\n",
    "#cut_off= std *3\n",
    "\n",
    "#lower,upper = mean - cut_off, mean + cut_off\n",
    "#outlier_free_scaled_df = scaled_df[(scaled_df['Rolling 5 Past Away Score'] < upper) & (scaled_df['Rolling 5 Past Away Score'] > lower)]"
   ]
  },
  {
   "cell_type": "code",
   "execution_count": null,
   "id": "cfec513c",
   "metadata": {},
   "outputs": [],
   "source": [
    "#outlier_free_scaled_df.head()"
   ]
  },
  {
   "cell_type": "code",
   "execution_count": null,
   "id": "0e2fb61a",
   "metadata": {},
   "outputs": [],
   "source": [
    "#outlier_free_scaled_df.shape"
   ]
  },
  {
   "cell_type": "code",
   "execution_count": null,
   "id": "c941c478",
   "metadata": {},
   "outputs": [],
   "source": [
    "mean=0\n",
    "std=0\n",
    "cut_off=0\n",
    "lower=0\n",
    "upper=0\n",
    "\n",
    "t=[]"
   ]
  },
  {
   "cell_type": "code",
   "execution_count": null,
   "id": "e87d5f1b",
   "metadata": {},
   "outputs": [],
   "source": [
    "for i in column_list:\n",
    "    mean = scaled_df[i].mean()\n",
    "    std  = scaled_df[i].std()\n",
    "    cut_off  = std *3\n",
    "    lower,upper = mean- cut_off, mean + cut_off\n",
    "    #scaled_df[i] = scaled_df[i].apply(lambda x: x if ((x < upper) & (x > lower)) else ('remove'))\n",
    "      \n",
    "    scaled_df = scaled_df[(scaled_df[i] < upper) & (scaled_df[i] > lower)]"
   ]
  },
  {
   "cell_type": "code",
   "execution_count": null,
   "id": "ae869b40",
   "metadata": {},
   "outputs": [],
   "source": [
    "scaled_df.shape"
   ]
  },
  {
   "cell_type": "code",
   "execution_count": null,
   "id": "53b908ef",
   "metadata": {},
   "outputs": [],
   "source": [
    "#scaled_df[scaled_df['Rolling 5 Past Away Score'] =='remove']"
   ]
  },
  {
   "cell_type": "code",
   "execution_count": null,
   "id": "2d8f4203",
   "metadata": {},
   "outputs": [],
   "source": [
    "pd.set_option('Max_rows',None)"
   ]
  },
  {
   "cell_type": "code",
   "execution_count": null,
   "id": "91442f11",
   "metadata": {},
   "outputs": [],
   "source": [
    "#for i in column_list:\n",
    "   # print(i, scaled_df[scaled_df[i] == 'remove'].shape[0])\n",
    "    \n",
    " \n",
    "   "
   ]
  },
  {
   "cell_type": "code",
   "execution_count": null,
   "id": "2646c4bf",
   "metadata": {},
   "outputs": [],
   "source": [
    "scaled_df"
   ]
  },
  {
   "cell_type": "code",
   "execution_count": null,
   "id": "aea11ac0",
   "metadata": {},
   "outputs": [],
   "source": []
  }
 ],
 "metadata": {
  "kernelspec": {
   "display_name": "Python 3",
   "language": "python",
   "name": "python3"
  },
  "language_info": {
   "codemirror_mode": {
    "name": "ipython",
    "version": 3
   },
   "file_extension": ".py",
   "mimetype": "text/x-python",
   "name": "python",
   "nbconvert_exporter": "python",
   "pygments_lexer": "ipython3",
   "version": "3.8.8"
  }
 },
 "nbformat": 4,
 "nbformat_minor": 5
}
