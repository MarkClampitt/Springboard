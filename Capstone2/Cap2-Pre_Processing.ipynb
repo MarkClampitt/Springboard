{
 "cells": [
  {
   "cell_type": "code",
   "execution_count": 1,
   "id": "d5178089",
   "metadata": {},
   "outputs": [],
   "source": [
    "import pandas as pd\n",
    "import numpy as np"
   ]
  },
  {
   "cell_type": "code",
   "execution_count": 2,
   "id": "3b8793a9",
   "metadata": {},
   "outputs": [],
   "source": [
    "from sklearn.preprocessing import StandardScaler\n",
    "scaler = StandardScaler()"
   ]
  },
  {
   "cell_type": "code",
   "execution_count": null,
   "id": "37ec3ba4",
   "metadata": {},
   "outputs": [],
   "source": [
    "\n"
   ]
  },
  {
   "cell_type": "code",
   "execution_count": 3,
   "id": "c1419c0c",
   "metadata": {},
   "outputs": [],
   "source": [
    "df=pd.read_excel(r'/Users/markclampitt/Documents/Springboard/Capstone2/Data\\Final_Game_df.xlsx')"
   ]
  },
  {
   "cell_type": "code",
   "execution_count": 4,
   "id": "f944ae9a",
   "metadata": {},
   "outputs": [
    {
     "data": {
      "text/plain": [
       "Date                                           datetime64[ns]\n",
       "Year                                                    int64\n",
       "Home Team                                              object\n",
       "Home Team Ranking_x                                     int64\n",
       "Away Team                                              object\n",
       "                                                    ...      \n",
       "Rolling 3 Past H&A Push Odds_Away_Team                  int64\n",
       "Rolling 3 Past H&A Push Oddss Avg_Away_Team           float64\n",
       "Rolling 3 Past H&A Push OddsMax_Away_Team               int64\n",
       "Rolling 3 Past H&A Push Odds Min_Away_Team              int64\n",
       "Previous H&A Push Odds_Away_Team                        int64\n",
       "Length: 1591, dtype: object"
      ]
     },
     "execution_count": 4,
     "metadata": {},
     "output_type": "execute_result"
    }
   ],
   "source": [
    "df.dtypes"
   ]
  },
  {
   "cell_type": "markdown",
   "id": "f9be9f9f",
   "metadata": {},
   "source": [
    "# Binning Ranking"
   ]
  },
  {
   "cell_type": "code",
   "execution_count": 5,
   "id": "530a5e95",
   "metadata": {},
   "outputs": [],
   "source": [
    "df['H_Ranking Bin_Group'] = pd.cut(df['Home Team Ranking_x'],bins=[-np.inf,5,10,15,20,25,np.inf],labels=[1,2,3,4,5,6])\n"
   ]
  },
  {
   "cell_type": "code",
   "execution_count": 6,
   "id": "f663a0e2",
   "metadata": {},
   "outputs": [
    {
     "data": {
      "text/html": [
       "<div>\n",
       "<style scoped>\n",
       "    .dataframe tbody tr th:only-of-type {\n",
       "        vertical-align: middle;\n",
       "    }\n",
       "\n",
       "    .dataframe tbody tr th {\n",
       "        vertical-align: top;\n",
       "    }\n",
       "\n",
       "    .dataframe thead th {\n",
       "        text-align: right;\n",
       "    }\n",
       "</style>\n",
       "<table border=\"1\" class=\"dataframe\">\n",
       "  <thead>\n",
       "    <tr style=\"text-align: right;\">\n",
       "      <th></th>\n",
       "      <th>Date</th>\n",
       "      <th>Year</th>\n",
       "      <th>Home Team</th>\n",
       "      <th>Home Team Ranking_x</th>\n",
       "      <th>Away Team</th>\n",
       "      <th>Away Team Ranking_x</th>\n",
       "      <th>Home Team Spread_x</th>\n",
       "      <th>Away Team Spread_x</th>\n",
       "      <th>Total_x</th>\n",
       "      <th>Rolling 5 Past Away Score</th>\n",
       "      <th>...</th>\n",
       "      <th>Rolling 5 Past H&amp;A Push Odds_Away_Team</th>\n",
       "      <th>Rolling 5 Past H&amp;A Push Odds Avg_Away_Team</th>\n",
       "      <th>Rolling 5 Past H&amp;A Push Odds Max_Away_Team</th>\n",
       "      <th>Rolling 5 Past H&amp;A Push Odds Min_Away_Team</th>\n",
       "      <th>Rolling 3 Past H&amp;A Push Odds_Away_Team</th>\n",
       "      <th>Rolling 3 Past H&amp;A Push Oddss Avg_Away_Team</th>\n",
       "      <th>Rolling 3 Past H&amp;A Push OddsMax_Away_Team</th>\n",
       "      <th>Rolling 3 Past H&amp;A Push Odds Min_Away_Team</th>\n",
       "      <th>Previous H&amp;A Push Odds_Away_Team</th>\n",
       "      <th>H_Ranking Bin_Group</th>\n",
       "    </tr>\n",
       "  </thead>\n",
       "  <tbody>\n",
       "    <tr>\n",
       "      <th>0</th>\n",
       "      <td>2021-10-09</td>\n",
       "      <td>2021</td>\n",
       "      <td>Ole Miss</td>\n",
       "      <td>17</td>\n",
       "      <td>Arkansas</td>\n",
       "      <td>13</td>\n",
       "      <td>-5.0</td>\n",
       "      <td>5.0</td>\n",
       "      <td>66.5</td>\n",
       "      <td>142</td>\n",
       "      <td>...</td>\n",
       "      <td>0</td>\n",
       "      <td>0.0</td>\n",
       "      <td>0</td>\n",
       "      <td>0</td>\n",
       "      <td>0</td>\n",
       "      <td>0.000000</td>\n",
       "      <td>0</td>\n",
       "      <td>0</td>\n",
       "      <td>0</td>\n",
       "      <td>4</td>\n",
       "    </tr>\n",
       "    <tr>\n",
       "      <th>1</th>\n",
       "      <td>2021-10-09</td>\n",
       "      <td>2021</td>\n",
       "      <td>Auburn</td>\n",
       "      <td>18</td>\n",
       "      <td>Georgia</td>\n",
       "      <td>2</td>\n",
       "      <td>14.5</td>\n",
       "      <td>-14.5</td>\n",
       "      <td>45.5</td>\n",
       "      <td>194</td>\n",
       "      <td>...</td>\n",
       "      <td>0</td>\n",
       "      <td>0.0</td>\n",
       "      <td>0</td>\n",
       "      <td>0</td>\n",
       "      <td>0</td>\n",
       "      <td>0.000000</td>\n",
       "      <td>0</td>\n",
       "      <td>0</td>\n",
       "      <td>0</td>\n",
       "      <td>4</td>\n",
       "    </tr>\n",
       "    <tr>\n",
       "      <th>2</th>\n",
       "      <td>2021-10-09</td>\n",
       "      <td>2021</td>\n",
       "      <td>Kentucky</td>\n",
       "      <td>16</td>\n",
       "      <td>LSU</td>\n",
       "      <td>99</td>\n",
       "      <td>-2.0</td>\n",
       "      <td>2.0</td>\n",
       "      <td>50.5</td>\n",
       "      <td>110</td>\n",
       "      <td>...</td>\n",
       "      <td>0</td>\n",
       "      <td>0.0</td>\n",
       "      <td>0</td>\n",
       "      <td>0</td>\n",
       "      <td>0</td>\n",
       "      <td>0.000000</td>\n",
       "      <td>0</td>\n",
       "      <td>0</td>\n",
       "      <td>0</td>\n",
       "      <td>4</td>\n",
       "    </tr>\n",
       "    <tr>\n",
       "      <th>3</th>\n",
       "      <td>2021-10-09</td>\n",
       "      <td>2021</td>\n",
       "      <td>Texas A&amp;M</td>\n",
       "      <td>99</td>\n",
       "      <td>Alabama</td>\n",
       "      <td>1</td>\n",
       "      <td>18.5</td>\n",
       "      <td>-18.5</td>\n",
       "      <td>50.5</td>\n",
       "      <td>249</td>\n",
       "      <td>...</td>\n",
       "      <td>1</td>\n",
       "      <td>0.2</td>\n",
       "      <td>1</td>\n",
       "      <td>0</td>\n",
       "      <td>1</td>\n",
       "      <td>0.333333</td>\n",
       "      <td>1</td>\n",
       "      <td>0</td>\n",
       "      <td>0</td>\n",
       "      <td>6</td>\n",
       "    </tr>\n",
       "    <tr>\n",
       "      <th>4</th>\n",
       "      <td>2021-10-09</td>\n",
       "      <td>2021</td>\n",
       "      <td>Florida</td>\n",
       "      <td>20</td>\n",
       "      <td>Vanderbilt</td>\n",
       "      <td>99</td>\n",
       "      <td>-39.0</td>\n",
       "      <td>39.0</td>\n",
       "      <td>60.0</td>\n",
       "      <td>74</td>\n",
       "      <td>...</td>\n",
       "      <td>0</td>\n",
       "      <td>0.0</td>\n",
       "      <td>0</td>\n",
       "      <td>0</td>\n",
       "      <td>0</td>\n",
       "      <td>0.000000</td>\n",
       "      <td>0</td>\n",
       "      <td>0</td>\n",
       "      <td>0</td>\n",
       "      <td>4</td>\n",
       "    </tr>\n",
       "    <tr>\n",
       "      <th>5</th>\n",
       "      <td>2021-10-02</td>\n",
       "      <td>2021</td>\n",
       "      <td>Alabama</td>\n",
       "      <td>1</td>\n",
       "      <td>Ole Miss</td>\n",
       "      <td>12</td>\n",
       "      <td>-15.0</td>\n",
       "      <td>15.0</td>\n",
       "      <td>79.5</td>\n",
       "      <td>185</td>\n",
       "      <td>...</td>\n",
       "      <td>0</td>\n",
       "      <td>0.0</td>\n",
       "      <td>0</td>\n",
       "      <td>0</td>\n",
       "      <td>0</td>\n",
       "      <td>0.000000</td>\n",
       "      <td>0</td>\n",
       "      <td>0</td>\n",
       "      <td>0</td>\n",
       "      <td>1</td>\n",
       "    </tr>\n",
       "    <tr>\n",
       "      <th>6</th>\n",
       "      <td>2021-10-02</td>\n",
       "      <td>2021</td>\n",
       "      <td>Georgia</td>\n",
       "      <td>2</td>\n",
       "      <td>Arkansas</td>\n",
       "      <td>8</td>\n",
       "      <td>-16.5</td>\n",
       "      <td>16.5</td>\n",
       "      <td>49.0</td>\n",
       "      <td>163</td>\n",
       "      <td>...</td>\n",
       "      <td>0</td>\n",
       "      <td>0.0</td>\n",
       "      <td>0</td>\n",
       "      <td>0</td>\n",
       "      <td>0</td>\n",
       "      <td>0.000000</td>\n",
       "      <td>0</td>\n",
       "      <td>0</td>\n",
       "      <td>0</td>\n",
       "      <td>1</td>\n",
       "    </tr>\n",
       "    <tr>\n",
       "      <th>7</th>\n",
       "      <td>2021-10-02</td>\n",
       "      <td>2021</td>\n",
       "      <td>LSU</td>\n",
       "      <td>99</td>\n",
       "      <td>Auburn</td>\n",
       "      <td>22</td>\n",
       "      <td>-3.0</td>\n",
       "      <td>3.0</td>\n",
       "      <td>57.0</td>\n",
       "      <td>100</td>\n",
       "      <td>...</td>\n",
       "      <td>0</td>\n",
       "      <td>0.0</td>\n",
       "      <td>0</td>\n",
       "      <td>0</td>\n",
       "      <td>0</td>\n",
       "      <td>0.000000</td>\n",
       "      <td>0</td>\n",
       "      <td>0</td>\n",
       "      <td>0</td>\n",
       "      <td>6</td>\n",
       "    </tr>\n",
       "    <tr>\n",
       "      <th>8</th>\n",
       "      <td>2021-10-02</td>\n",
       "      <td>2021</td>\n",
       "      <td>Kentucky</td>\n",
       "      <td>99</td>\n",
       "      <td>Florida</td>\n",
       "      <td>10</td>\n",
       "      <td>7.5</td>\n",
       "      <td>-7.5</td>\n",
       "      <td>56.5</td>\n",
       "      <td>181</td>\n",
       "      <td>...</td>\n",
       "      <td>1</td>\n",
       "      <td>0.2</td>\n",
       "      <td>1</td>\n",
       "      <td>0</td>\n",
       "      <td>1</td>\n",
       "      <td>0.333333</td>\n",
       "      <td>1</td>\n",
       "      <td>0</td>\n",
       "      <td>0</td>\n",
       "      <td>6</td>\n",
       "    </tr>\n",
       "    <tr>\n",
       "      <th>9</th>\n",
       "      <td>2021-10-02</td>\n",
       "      <td>2021</td>\n",
       "      <td>Texas A&amp;M</td>\n",
       "      <td>15</td>\n",
       "      <td>Mississippi State</td>\n",
       "      <td>99</td>\n",
       "      <td>-7.0</td>\n",
       "      <td>7.0</td>\n",
       "      <td>45.5</td>\n",
       "      <td>94</td>\n",
       "      <td>...</td>\n",
       "      <td>0</td>\n",
       "      <td>0.0</td>\n",
       "      <td>0</td>\n",
       "      <td>0</td>\n",
       "      <td>0</td>\n",
       "      <td>0.000000</td>\n",
       "      <td>0</td>\n",
       "      <td>0</td>\n",
       "      <td>0</td>\n",
       "      <td>3</td>\n",
       "    </tr>\n",
       "  </tbody>\n",
       "</table>\n",
       "<p>10 rows × 1592 columns</p>\n",
       "</div>"
      ],
      "text/plain": [
       "        Date  Year  Home Team  Home Team Ranking_x          Away Team  \\\n",
       "0 2021-10-09  2021   Ole Miss                   17           Arkansas   \n",
       "1 2021-10-09  2021     Auburn                   18            Georgia   \n",
       "2 2021-10-09  2021   Kentucky                   16                LSU   \n",
       "3 2021-10-09  2021  Texas A&M                   99            Alabama   \n",
       "4 2021-10-09  2021    Florida                   20         Vanderbilt   \n",
       "5 2021-10-02  2021    Alabama                    1           Ole Miss   \n",
       "6 2021-10-02  2021    Georgia                    2           Arkansas   \n",
       "7 2021-10-02  2021        LSU                   99             Auburn   \n",
       "8 2021-10-02  2021   Kentucky                   99            Florida   \n",
       "9 2021-10-02  2021  Texas A&M                   15  Mississippi State   \n",
       "\n",
       "   Away Team Ranking_x  Home Team Spread_x  Away Team Spread_x  Total_x  \\\n",
       "0                   13                -5.0                 5.0     66.5   \n",
       "1                    2                14.5               -14.5     45.5   \n",
       "2                   99                -2.0                 2.0     50.5   \n",
       "3                    1                18.5               -18.5     50.5   \n",
       "4                   99               -39.0                39.0     60.0   \n",
       "5                   12               -15.0                15.0     79.5   \n",
       "6                    8               -16.5                16.5     49.0   \n",
       "7                   22                -3.0                 3.0     57.0   \n",
       "8                   10                 7.5                -7.5     56.5   \n",
       "9                   99                -7.0                 7.0     45.5   \n",
       "\n",
       "   Rolling 5 Past Away Score  ...  Rolling 5 Past H&A Push Odds_Away_Team  \\\n",
       "0                        142  ...                                       0   \n",
       "1                        194  ...                                       0   \n",
       "2                        110  ...                                       0   \n",
       "3                        249  ...                                       1   \n",
       "4                         74  ...                                       0   \n",
       "5                        185  ...                                       0   \n",
       "6                        163  ...                                       0   \n",
       "7                        100  ...                                       0   \n",
       "8                        181  ...                                       1   \n",
       "9                         94  ...                                       0   \n",
       "\n",
       "   Rolling 5 Past H&A Push Odds Avg_Away_Team  \\\n",
       "0                                         0.0   \n",
       "1                                         0.0   \n",
       "2                                         0.0   \n",
       "3                                         0.2   \n",
       "4                                         0.0   \n",
       "5                                         0.0   \n",
       "6                                         0.0   \n",
       "7                                         0.0   \n",
       "8                                         0.2   \n",
       "9                                         0.0   \n",
       "\n",
       "   Rolling 5 Past H&A Push Odds Max_Away_Team  \\\n",
       "0                                           0   \n",
       "1                                           0   \n",
       "2                                           0   \n",
       "3                                           1   \n",
       "4                                           0   \n",
       "5                                           0   \n",
       "6                                           0   \n",
       "7                                           0   \n",
       "8                                           1   \n",
       "9                                           0   \n",
       "\n",
       "   Rolling 5 Past H&A Push Odds Min_Away_Team  \\\n",
       "0                                           0   \n",
       "1                                           0   \n",
       "2                                           0   \n",
       "3                                           0   \n",
       "4                                           0   \n",
       "5                                           0   \n",
       "6                                           0   \n",
       "7                                           0   \n",
       "8                                           0   \n",
       "9                                           0   \n",
       "\n",
       "   Rolling 3 Past H&A Push Odds_Away_Team  \\\n",
       "0                                       0   \n",
       "1                                       0   \n",
       "2                                       0   \n",
       "3                                       1   \n",
       "4                                       0   \n",
       "5                                       0   \n",
       "6                                       0   \n",
       "7                                       0   \n",
       "8                                       1   \n",
       "9                                       0   \n",
       "\n",
       "   Rolling 3 Past H&A Push Oddss Avg_Away_Team  \\\n",
       "0                                     0.000000   \n",
       "1                                     0.000000   \n",
       "2                                     0.000000   \n",
       "3                                     0.333333   \n",
       "4                                     0.000000   \n",
       "5                                     0.000000   \n",
       "6                                     0.000000   \n",
       "7                                     0.000000   \n",
       "8                                     0.333333   \n",
       "9                                     0.000000   \n",
       "\n",
       "   Rolling 3 Past H&A Push OddsMax_Away_Team  \\\n",
       "0                                          0   \n",
       "1                                          0   \n",
       "2                                          0   \n",
       "3                                          1   \n",
       "4                                          0   \n",
       "5                                          0   \n",
       "6                                          0   \n",
       "7                                          0   \n",
       "8                                          1   \n",
       "9                                          0   \n",
       "\n",
       "   Rolling 3 Past H&A Push Odds Min_Away_Team  \\\n",
       "0                                           0   \n",
       "1                                           0   \n",
       "2                                           0   \n",
       "3                                           0   \n",
       "4                                           0   \n",
       "5                                           0   \n",
       "6                                           0   \n",
       "7                                           0   \n",
       "8                                           0   \n",
       "9                                           0   \n",
       "\n",
       "   Previous H&A Push Odds_Away_Team  H_Ranking Bin_Group  \n",
       "0                                 0                    4  \n",
       "1                                 0                    4  \n",
       "2                                 0                    4  \n",
       "3                                 0                    6  \n",
       "4                                 0                    4  \n",
       "5                                 0                    1  \n",
       "6                                 0                    1  \n",
       "7                                 0                    6  \n",
       "8                                 0                    6  \n",
       "9                                 0                    3  \n",
       "\n",
       "[10 rows x 1592 columns]"
      ]
     },
     "execution_count": 6,
     "metadata": {},
     "output_type": "execute_result"
    }
   ],
   "source": [
    "df.head(10)"
   ]
  },
  {
   "cell_type": "code",
   "execution_count": 7,
   "id": "1ebcabfe",
   "metadata": {},
   "outputs": [],
   "source": [
    "df['A_Ranking Bin_Group'] = pd.cut(df['Away Team Ranking_x'],bins=[-np.inf,5,10,15,20,25,np.inf],labels=[1,2,3,4,5,6])\n"
   ]
  },
  {
   "cell_type": "code",
   "execution_count": 8,
   "id": "5b0207ba",
   "metadata": {},
   "outputs": [
    {
     "data": {
      "text/plain": [
       "0"
      ]
     },
     "execution_count": 8,
     "metadata": {},
     "output_type": "execute_result"
    }
   ],
   "source": [
    "df.isnull().sum().max()"
   ]
  },
  {
   "cell_type": "code",
   "execution_count": 9,
   "id": "651d0d1f",
   "metadata": {},
   "outputs": [],
   "source": [
    "#Removing Team rankings as they are now binned (Left the rolling ranking data for now, but may decide to remove later)"
   ]
  },
  {
   "cell_type": "code",
   "execution_count": 10,
   "id": "5ff5acb1",
   "metadata": {},
   "outputs": [],
   "source": [
    "df.drop('Home Team Ranking_x', axis=1, inplace=True)\n",
    "df.drop('Away Team Ranking_x', axis=1, inplace=True)"
   ]
  },
  {
   "cell_type": "code",
   "execution_count": 11,
   "id": "f0e4bd4f",
   "metadata": {},
   "outputs": [],
   "source": [
    "#df.describe()"
   ]
  },
  {
   "cell_type": "code",
   "execution_count": 12,
   "id": "b4ff797c",
   "metadata": {},
   "outputs": [],
   "source": [
    "pd.set_option('Max_columns',None)"
   ]
  },
  {
   "cell_type": "code",
   "execution_count": 13,
   "id": "dad9c2f1",
   "metadata": {},
   "outputs": [],
   "source": [
    "#df.describe()"
   ]
  },
  {
   "cell_type": "markdown",
   "id": "2491856e",
   "metadata": {},
   "source": [
    "# Scaling Df"
   ]
  },
  {
   "cell_type": "code",
   "execution_count": 14,
   "id": "dc759c1a",
   "metadata": {},
   "outputs": [],
   "source": [
    "column_list = df.columns.values.tolist()"
   ]
  },
  {
   "cell_type": "code",
   "execution_count": 15,
   "id": "9c3ce6db",
   "metadata": {},
   "outputs": [],
   "source": [
    "column_list.remove('Date')\n",
    "column_list.remove('Year')\n",
    "column_list.remove('Home Team')\n",
    "column_list.re\n",
    "#column_lis.remove('H_ArkansasH_Auburn','H_Florida','H_Georgia','H_Kentucky','H_LSU','H_Mississippi State','H_Missouri','H_Ole Miss','H_South Carolina','H_Tennessee','H_Texas A&M','H_Vanderbilt','A_Arkansas','A_Auburn','A_Florida','A_Georgia','A_Kentucky','A_LSU','A_Mississippi State','A_Missouri','A_Ole Miss','A_South Carolina','A_Tennessee','A_Texas A&M','A_Vanderbilt','H_Ranking Bin_Group','A_Ranking Bin_Group')"
   ]
  },
  {
   "cell_type": "code",
   "execution_count": 16,
   "id": "17153c39",
   "metadata": {},
   "outputs": [
    {
     "name": "stdout",
     "output_type": "stream",
     "text": [
      "['Home Team', 'Away Team', 'Home Team Spread_x', 'Away Team Spread_x', 'Total_x', 'Rolling 5 Past Away Score', 'Rolling 5 Past Away Score Avg', 'Rolling 5 Past Away Score Max', 'Rolling 5 Past Away Score Min', 'Rolling 3 Past Away Score', 'Rolling 3 Past Away Score Avg', 'Rolling 3 Past Away Score Max', 'Rolling 3 Past Away Score Min', 'Past Away Score', 'Rolling 5 Past Away HI Pass yrds', 'Rolling 5 Past Away HI Pass yrds Avg', 'Rolling 5 Past Away HI Pass yrds Max', 'Rolling 5 Past Away HI Pass yrds Min', 'Rolling 3 Past Away HI Pass yrds', 'Rolling 3 Past Away HI Pass yrds Avg', 'Rolling 3 Past Away HI Pass yrds Max', 'Rolling 3 Past Away HI Pass yrds Min', 'Previous Away HI Pass yrds', 'Rolling 5 Past Away HI Rush yrds', 'Rolling 5 Past Away HI Rush yrds Avg', 'Rolling 5 Past Away HI Rush yrds Max', 'Rolling 5 Past Away HI Rush yrds Min', 'Rolling 3 Past Away HI Rush yrds', 'Rolling 3 Past Away HI Rush yrds Avg', 'Rolling 3 Past Away HI Rush yrds Max', 'Rolling 3 Past Away HI Rush yrds Min', 'Previous Away HI Rush yrds', 'Rolling 5 Past Away HI REC yrds', 'Rolling 5 Past Away HI REC yrds Avg', 'Rolling 5 Past Away HI REC yrds Max', 'Rolling 5 Past Away HI REC yrds Min', 'Rolling 3 Past Away HI REC yrds', 'Rolling 3 Past Away HI REC yrds Avg', 'Rolling 3 Past Away HI REC yrds Max', 'Rolling 3 Past Away HI REC yrds Min', 'Previous Away HI REC yrds', 'Rolling 5 Past Away Season T Wins', 'Rolling 5 Past Away Season T Wins Avg', 'Rolling 5 Past Away Season T Wins Max', 'Rolling 5 Past Away Season T Wins Min', 'Rolling 3 Past Away Season T Wins', 'Rolling 3 Past Away Season T Wins Avg', 'Rolling 3 Past Away Season T Wins Max', 'Rolling 3 Past Away Season T Wins Min', 'Previous Away Season T Wins', 'Rolling 5 Past Away Season T Losses', 'Rolling 5 Past Away Season T Losses Avg', 'Rolling 5 Past Away Season T Losses Max', 'Rolling 5 Past Away Season T Losses Min', 'Rolling 3 Past Away Season T Losses', 'Rolling 3 Past Away Season T Losses Avg', 'Rolling 3 Past Away Season T Losses Max', 'Rolling 3 Past Away Season T Losses Min', 'Previous Away Season Losses', 'Rolling 5 Past Away Conf T Losses', 'Rolling 5 Past Away Conf T Losses Avg', 'Rolling 5 Past Away Conf T Losses Max', 'Rolling 5 Past Away Conf T Losses Min', 'Rolling 3 Past Away Conf T Losses', 'Rolling 3 Past Away Conf T Losses Avg', 'Rolling 3 Past Away Conf T Losses Max', 'Rolling 3 Past Away Conf T Losses Min', 'Previous Away Conf Losses', 'Rolling 5 Past Away Conf T Wins', 'Rolling 5 Past Away Conf T Wins Avg', 'Rolling 5 Past Away Conf T Wins Max', 'Rolling 5 Past Away Conf T Wins Min', 'Rolling 3 Past Away Conf T Wins', 'Rolling 3 Past Away Conf T Wins Avg', 'Rolling 3 Past Away Conf T Wins Max', 'Rolling 3 Past Away Conf T Wins Min', 'Previous Away Conf Wins', 'Rolling 5 Past Away 1st Downs', 'Rolling 5 Past Away 1st Downs Avg', 'Rolling 5 Past Away 1st Downs Max', 'Rolling 5 Past Away 1st Downs Min', 'Rolling 3 Past Away 1st Downs', 'Rolling 3 Past Away 1st Downs Avg', 'Rolling 3 Past Away 1st Downs Max', 'Rolling 3 Past Away 1st Downs Min', 'Previous Away 1st Downs', 'Rolling 5 Past Away 3rd Down Conversions', 'Rolling 5 Past Away 3rd Down Conversion Avg', 'Rolling 5 Past Away 3rd Down Conversion Max', 'Rolling 5 Past Away 3rd Down Conversion Min', 'Rolling 3 Past Away 3rd Down Conversion', 'Rolling 3 Past Away 3rd Down Conversion Avg', 'Rolling 3 Past Away 3rd Down Conversion Max', 'Rolling 3 Past Away 3rd Down Conversion Min', 'Previous Away 3rd Down Conversions', 'Rolling 5 Past Away 3rd Down Conversion Attempts', 'Rolling 5 Past Away 3rd Down Conversion Attempts Avg', 'Rolling 5 Past Away 3rd Down Conversion Attempts Max', 'Rolling 5 Past Away 3rd Down Conversion Attempts Min', 'Rolling 3 Past Away 3rd Down Conversion Attempts', 'Rolling 3 Past Away 3rd Down Conversion Attempts Avg', 'Rolling 3 Past Away 3rd Down Conversion Attempts Max', 'Rolling 3 Past Away 3rd Down Conversion Attempts Min', 'Previous Away 3rd Down Conversions Attempts', 'Rolling 5 Past Away 3rd Down Conversion %', 'Rolling 5 Past Away 3rd Down Conversion % Avg', 'Rolling 5 Past Away 3rd Down Conversion % Max', 'Rolling 5 Past Away 3rd Down Conversion % Min', 'Rolling 3 Past Away 3rd Down Conversion %', 'Rolling 3 Past Away 3rd Down Conversion % Avg', 'Rolling 3 Past Away 3rd Down Conversion % Max', 'Rolling 3 Past Away 3rd Down Conversion % Min', 'Previous Away 3rd Down Conversions %', 'Rolling 5 Past Away 4th Down Conversions', 'Rolling 5 Past Away 4th Down Conversions Avg', 'Rolling 5 Past Away 4th Down Conversions Max', 'Rolling 5 Past Away 4th Down Conversions Min', 'Rolling 3 Past Away 4th Down Conversions', 'Rolling 3 Past Away 4th Down Conversions Avg', 'Rolling 3 Past Away 4th Down Conversions Max', 'Rolling 3 Past Away 4th Down Conversions Min', 'Previous Away 4th Down Conversions', 'Rolling 5 Past Away 4th Down Conversion Attempts', 'Rolling 5 Past Away 4th Down Conversion Attempts Avg', 'Rolling 5 Past Away 4th Down Conversion Attempts Max', 'Rolling 5 Past Away 4th Down Conversion Attempts Min', 'Rolling 3 Past Away 4th Down Conversion Attempts', 'Rolling 3 Past Away 4th Down Conversion Attempts Avg', 'Rolling 3 Past Away 4th Down Conversion Attempts Max', 'Rolling 3 Past Away 4th Down Conversion Attempts Min', 'Previous Away 4th Down Conversions Attempts', 'Rolling 5 Past Away 4th Down Conversion %', 'Rolling 5 Past Away 4th Down Conversion % Avg', 'Rolling 5 Past Away 4th Down Conversion % Max', 'Rolling 5 Past Away 4th Down Conversion % Min', 'Rolling 3 Past Away 4th Down Conversion %', 'Rolling 3 Past Away 4th Down Conversion % Avg', 'Rolling 3 Past Away 4th Down Conversion % Max', 'Rolling 3 Past Away 4th Down Conversion % Min', 'Previous Away 4th Down Conversions %', 'Rolling 5 Past Away Completions', 'Rolling 5 Past Away Completions Avg', 'Rolling 5 Past Away Completions Max', 'Rolling 5 Past Away Completions Min', 'Rolling 3 Past Away Completions', 'Rolling 3 Past Away Completions Avg', 'Rolling 3 Past Away Completions Max', 'Rolling 3 Past Away Completions Min', 'Previous Away Completions', 'Rolling 5 Past Away Completion Attempts', 'Rolling 5 Past Away Completion Attempts Avg', 'Rolling 5 Past Away Completion Attempts Max', 'Rolling 5 Past Away Completion Attempts Min', 'Rolling 3 Past Away Completion Attempts', 'Rolling 3 Past Away Completion Attempts Avg', 'Rolling 3 Past Away Completion Attempts Max', 'Rolling 3 Past Away Completion Attempts Min', 'Previous Away Completion Attempts', 'Rolling 5 Past Away Completion %', 'Rolling 5 Past Away Completion % Avg', 'Rolling 5 Past Away Completion % Max', 'Rolling 5 Past Away Completion % Min', 'Rolling 3 Past Away Completion %', 'Rolling 3 Past Away Completion % Avg', 'Rolling 3 Past Away Completion % Max', 'Rolling 3 Past Away Completion % Min', 'Previous Away Completion %', 'Rolling 5 Past Away Total Yards', 'Rolling 5 Past Away Total Yards Avg', 'Rolling 5 Past Away Total Yards Max', 'Rolling 5 Past Away Total Yards Min', 'Rolling 3 Past Away Total Yards', 'Rolling 3 Past Away Total Yards Avg', 'Rolling 3 Past Away Total Yards Max', 'Rolling 3 Past Away Total Yards Min', 'Previous Away Total Yards', 'Rolling 5 Past Away Passing', 'Rolling 5 Past Away Passing Avg', 'Rolling 5 Past Away Passing Max', 'Rolling 5 Past Away Passing Min', 'Rolling 3 Past Away Passing', 'Rolling 3 Past Away Passing Avg', 'Rolling 3 Past Away Passing Max', 'Rolling 3 Past Away Passing Min', 'Previous Away Passing', 'Rolling 5 Past Away Yards per Pass', 'Rolling 5 Past Away Yards per Pass Avg', 'Rolling 5 Past Away Yards per Pass Max', 'Rolling 5 Past Away Yards per Pass Min', 'Rolling 3 Past Away Yards per Pass', 'Rolling 3 Past Away Yards per Pass Avg', 'Rolling 3 Past Away Yards per Pass Max', 'Rolling 3 Past Away Yards per Pass Min', 'Previous Away Yards per Pass', 'Rolling 5 Past Away Rushing', 'Rolling 5 Past Away Rushing Avg', 'Rolling 5 Past Away Rushing Max', 'Rolling 5 Past Away Rushing Min', 'Rolling 3 Past Away Rushing', 'Rolling 3 Past Away Rushing Avg', 'Rolling 3 Past Away Rushing Max', 'Rolling 3 Past Away Rushing Min', 'Previous Away Rushing', 'Rolling 5 Past Away Rushing Attempts', 'Rolling 5 Past Away Rushing Attempts Avg', 'Rolling 5 Past Away Rushing Attempts Max', 'Rolling 5 Past Away Rushing Attempts Min', 'Rolling 3 Past Away Rushing Attempts', 'Rolling 3 Past Away Rushing Attempts Avg', 'Rolling 3 Past Away Rushing Attempts Max', 'Rolling 3 Past Away Rushing Attempts Min', 'Previous Away Rushing Attempts', 'Rolling 5 Past Away Yards per Rush', 'Rolling 5 Past Away Yards per Rush Avg', 'Rolling 5 Past Away Yards per Rush Max', 'Rolling 5 Past Away Yards per Rush Min', 'Rolling 3 Past Away Yards per Rush', 'Rolling 3 Past Away Yards per Rush Avg', 'Rolling 3 Past Away Yards per Rush Max', 'Rolling 3 Past Away Yards per Rush Min', 'Previous Away Yards per Rush', 'Rolling 5 Past Away Penalties', 'Rolling 5 Past Away Penalties Avg', 'Rolling 5 Past Away Penalties Max', 'Rolling 5 Past Away Penalties Min', 'Rolling 3 Past Away Penalties', 'Rolling 3 Past Away Penalties Avg', 'Rolling 3 Past Away Penalties Max', 'Rolling 3 Past Away Penalties Min', 'Previous Away Penalties', 'Rolling 5 Past Away Penalty Yards', 'Rolling 5 Past Away Penalty Yards Avg', 'Rolling 5 Past Away Penalty Yards Max', 'Rolling 5 Past Away Penalty Yards Min', 'Rolling 3 Past Away Penalty Yards', 'Rolling 3 Past Away Penalty Yards Avg', 'Rolling 3 Past Away Penalty Yards Max', 'Rolling 3 Past Away Penalty Yards Min', 'Previous Away Penalty Yards', 'Rolling 5 Past Away Yards per Penalty', 'Rolling 5 Past Away Yards per Penalty Avg', 'Rolling 5 Past Away Yards per Penalty Max', 'Rolling 5 Past Away Yards per Penalty Min', 'Rolling 3 Past Away Yards per Penalty', 'Rolling 3 Past Away Yards per Penalty Avg', 'Rolling 3 Past Away Yards per Penalty Max', 'Rolling 3 Past Away Yards per Penalty Min', 'Previous Away Yards per Penalty', 'Rolling 5 Past Away Turnovers', 'Rolling 5 Past Away Turnovers Avg', 'Rolling 5 Past Away Turnovers Max', 'Rolling 5 Past Away Turnovers Min', 'Rolling 3 Past Away Turnovers', 'Rolling 3 Past Away Turnovers Avg', 'Rolling 3 Past Away Turnovers Max', 'Rolling 3 Past Away Turnovers Min', 'Previous Away Turnovers', 'Rolling 5 Past Away Fumbles Lost', 'Rolling 5 Past Away Fumbles Lost Avg', 'Rolling 5 Past Away Fumbles Lost Max', 'Rolling 5 Past Away Fumbles Lost Min', 'Rolling 3 Past Away Fumbles Lost', 'Rolling 3 Past Away Fumbles Lost Avg', 'Rolling 3 Past Away Fumbles Lost Max', 'Rolling 3 Past Away Fumbles Lost Min', 'Previous Away Fumbles Lost', 'Rolling 5 Past Away Interceptions Thrown', 'Rolling 5 Past Away Interceptions Thrown Avg', 'Rolling 5 Past Away Interceptions Thrown Max', 'Rolling 5 Past Away Interceptions Thrown Min', 'Rolling 3 Past Away Interceptions Thrown', 'Rolling 3 Past Away Interceptions Thrown Avg', 'Rolling 3 Past Away Interceptions Thrown Max', 'Rolling 3 Past Away Interceptions Thrown Min', 'Previous Away Interceptions Thrown', 'Rolling 5 Past Away Possession Time', 'Rolling 5 Past Away Possession Time Avg', 'Rolling 5 Past Away Possession Time Max', 'Rolling 5 Past Away Possession Time Min', 'Rolling 3 Past Away Possession Time', 'Rolling 3 Past Away Possession Time Avg', 'Rolling 3 Past Away Possession Time Max', 'Rolling 3 Past Away Possession Time Min', 'Previous Away Possession Time', 'Rolling 5 Past Away Q1 Score', 'Rolling 5 Past Away Q1 Score Avg', 'Rolling 5 Past Away Q1 Score Max', 'Rolling 5 Past Away Q1 Score Min', 'Rolling 3 Past Away Q1 Score', 'Rolling 3 Past Away Q1 Score Avg', 'Rolling 3 Past Away Q1 Score Max', 'Rolling 3 Past Away Q1 Score Min', 'Previous Away Q1 Score', 'Rolling 5 Past Away Q2 Score', 'Rolling 5 Past Away Q2 Score Avg', 'Rolling 5 Past Away Q2 Score Max', 'Rolling 5 Past Away Q2 Score Min', 'Rolling 3 Past Away Q2 Score', 'Rolling 3 Past Away Q2 Score Avg', 'Rolling 3 Past Away Q2 Score Max', 'Rolling 3 Past Away Q2 Score Min', 'Previous Away Q2 Score', 'Rolling 5 Past Away Q3 Score', 'Rolling 5 Past Away Q3 Score Avg', 'Rolling 5 Past Away Q3 Score Max', 'Rolling 5 Past Away Q3 Score Min', 'Rolling 3 Past Away Q3 Score', 'Rolling 3 Past Away Q3 Score Avg', 'Rolling 3 Past Away Q3 Score Max', 'Rolling 3 Past Away Q3 Score Min', 'Previous Away Q3 Score', 'Rolling 5 Past Away Q4 Score', 'Rolling 5 Past Away Q4 Score Avg', 'Rolling 5 Past Away Q4 Score Max', 'Rolling 5 Past Away Q4 Score Min', 'Rolling 3 Past Away Q4 Score', 'Rolling 3 Past Away Q4 Score Avg', 'Rolling 3 Past Away Q4 Score Max', 'Rolling 3 Past Away Q4 Score Min', 'Previous Away Q4 Score', 'Rolling 5 Past Away Spread', 'Rolling 5 Past Away Spread Avg', 'Rolling 5 Past Away Spread Max', 'Rolling 5 Past Away Spread Min', 'Rolling 3 Past Away Spread', 'Rolling 3 Past Away Spread Avg', 'Rolling 3 Past Away Spread Max', 'Rolling 3 Past Away Spread Min', 'Previous Away Spread', 'Rolling 5 Past Away Ranking', 'Rolling 5 Past Away Ranking Avg', 'Rolling 5 Past Away Ranking Max', 'Rolling 5 Past Away Ranking Min', 'Rolling 3 Past Away Ranking', 'Rolling 3 Past Away Ranking Avg', 'Rolling 3 Past Away Ranking Max', 'Rolling 3 Past Away Ranking Min', 'Previous Away Ranking', 'Rolling 5 Past Away ATS Win', 'Rolling 5 Past Away ATS Win Avg', 'Rolling 5 Past Away ATS Win Max', 'Rolling 5 Past Away ATS Win Min', 'Rolling 3 Past Away ATS Win', 'Rolling 3 Past Away ATS Win Avg', 'Rolling 3 Past Away ATS Win Max', 'Rolling 3 Past Away ATS Win Min', 'Previous Away ATS Win', 'Rolling 5 Past Away ATS Loss', 'Rolling 5 Past Away ATS Loss Avg', 'Rolling 5 Past Away ATS Loss Max', 'Rolling 5 Past Away ATS Loss Min', 'Rolling 3 Past Away ATS Loss', 'Rolling 3 Past Away ATS Loss Avg', 'Rolling 3 Past Away ATS Loss Max', 'Rolling 3 Past Away ATS Loss Min', 'Previous Away ATS Loss', 'Rolling 5 Past Away ATS Push', 'Rolling 5 Past Away ATS Push Avg', 'Rolling 5 Past Away ATS Push Max', 'Rolling 5 Past Away ATS Push Min', 'Rolling 3 Past Away ATS Push', 'Rolling 3 Past Away ATS Push Avg', 'Rolling 3 Past Away ATS Push Max', 'Rolling 3 Past Away ATS Push Min', 'Previous Away ATS Push', 'Rolling 5 Past Away Over Odds', 'Rolling 5 Past Away Over Odds Avg', 'Rolling 5 Past Away Over Odds Max', 'Rolling 5 Past Away Over Odds Min', 'Rolling 3 Past Away Over Odds', 'Rolling 3 Past Away Over Oddss Avg', 'Rolling 3 Past Away Over OddsMax', 'Rolling 3 Past Away Over Odds Min', 'Previous Away Over Odds', 'Rolling 5 Past Away Under Odds', 'Rolling 5 Past Away Under Odds Avg', 'Rolling 5 Past Away Under Odds Max', 'Rolling 5 Past Away Under Odds Min', 'Rolling 3 Past Away Under Odds', 'Rolling 3 Past Away Under Oddss Avg', 'Rolling 3 Past Away Under OddsMax', 'Rolling 3 Past Away Under Odds Min', 'Previous Away Under Odds', 'Rolling 5 Past Away Push Odds', 'Rolling 5 Past Away Push Odds Avg', 'Rolling 5 Past Away Push Odds Max', 'Rolling 5 Past Away Push Odds Min', 'Rolling 3 Past Away Push Odds', 'Rolling 3 Past Away Push Oddss Avg', 'Rolling 3 Past Away Push OddsMax', 'Rolling 3 Past Away Push Odds Min', 'Previous Away Push Odds', 'Rolling 5 Past Away Total Odds', 'Rolling 5 Past Away Total Odds Avg', 'Rolling 5 Past Away Total Odds Max', 'Rolling 5 Past Away Total Odds Min', 'Rolling 3 Past Away Total Odds', 'Rolling 3 Past Away Total Oddss Avg', 'Rolling 3 Past Away Total OddsMax', 'Rolling 3 Past Away Total Odds Min', 'Previous Away Total Odds', 'Rolling 5 Past Home Score', 'Rolling 5 Past Home Score Avg', 'Rolling 5 Past Home Score Max', 'Rolling 5 Past Home Score Min', 'Rolling 3 Past Home Score', 'Rolling 3 Past Home Score Avg', 'Rolling 3 Past Home Score Max', 'Rolling 3 Past Home Score Min', 'Past Home Score', 'Rolling 5 Past Home HI Pass yrds', 'Rolling 5 Past Home HI Pass yrds Avg', 'Rolling 5 Past Home HI Pass yrds Max', 'Rolling 5 Past Home HI Pass yrds Min', 'Rolling 3 Past Home HI Pass yrds', 'Rolling 3 Past Home HI Pass yrds Avg', 'Rolling 3 Past Home HI Pass yrds Max', 'Rolling 3 Past Home HI Pass yrds Min', 'Previous Home HI Pass yrds', 'Rolling 5 Past Home HI Rush yrds', 'Rolling 5 Past Home HI Rush yrds Avg', 'Rolling 5 Past Home HI Rush yrds Max', 'Rolling 5 Past Home HI Rush yrds Min', 'Rolling 3 Past Home HI Rush yrds', 'Rolling 3 Past Home HI Rush yrds Avg', 'Rolling 3 Past Home HI Rush yrds Max', 'Rolling 3 Past Home HI Rush yrds Min', 'Previous Home HI Rush yrds', 'Rolling 5 Past Home HI REC yrds', 'Rolling 5 Past Home HI REC yrds Avg', 'Rolling 5 Past Home HI REC yrds Max', 'Rolling 5 Past Home HI REC yrds Min', 'Rolling 3 Past Home HI REC yrds', 'Rolling 3 Past Home HI REC yrds Avg', 'Rolling 3 Past Home HI REC yrds Max', 'Rolling 3 Past Home HI REC yrds Min', 'Previous Home HI REC yrds', 'Rolling 5 Past Home Season T Wins', 'Rolling 5 Past Home Season T Wins Avg', 'Rolling 5 Past Home Season T Wins Max', 'Rolling 5 Past Home Season T Wins Min', 'Rolling 3 Past Home Season T Wins', 'Rolling 3 Past Home Season T Wins Avg', 'Rolling 3 Past Home Season T Wins Max', 'Rolling 3 Past Home Season T Wins Min', 'Previous Home Season T Wins', 'Rolling 5 Past Home Season T Losses', 'Rolling 5 Past Home Season T Losses Avg', 'Rolling 5 Past Home Season T Losses Max', 'Rolling 5 Past Home Season T Losses Min', 'Rolling 3 Past Home Season T Losses', 'Rolling 3 Past Home Season T Losses Avg', 'Rolling 3 Past Home Season T Losses Max', 'Rolling 3 Past Home Season T Losses Min', 'Previous Home Season Losses', 'Rolling 5 Past Home Conf T Losses', 'Rolling 5 Past Home Conf T Losses Avg', 'Rolling 5 Past Home Conf T Losses Max', 'Rolling 5 Past Home Conf T Losses Min', 'Rolling 3 Past Home Conf T Losses', 'Rolling 3 Past Home Conf T Losses Avg', 'Rolling 3 Past Home Conf T Losses Max', 'Rolling 3 Past Home Conf T Losses Min', 'Previous Home Conf Losses', 'Rolling 5 Past Home Conf T Wins', 'Rolling 5 Past Home Conf T Wins Avg', 'Rolling 5 Past Home Conf T Wins Max', 'Rolling 5 Past Home Conf T Wins Min', 'Rolling 3 Past Home Conf T Wins', 'Rolling 3 Past Home Conf T Wins Avg', 'Rolling 3 Past Home Conf T Wins Max', 'Rolling 3 Past Home Conf T Wins Min', 'Previous Home Conf Wins', 'Rolling 5 Past Home 1st Downs', 'Rolling 5 Past Home 1st Downs Avg', 'Rolling 5 Past Home 1st Downs Max', 'Rolling 5 Past Home 1st Downs Min', 'Rolling 3 Past Home 1st Downs', 'Rolling 3 Past Home 1st Downs Avg', 'Rolling 3 Past Home 1st Downs Max', 'Rolling 3 Past Home 1st Downs Min', 'Previous Home 1st Downs', 'Rolling 5 Past Home 3rd Down Conversions', 'Rolling 5 Past Home 3rd Down Conversion Avg', 'Rolling 5 Past Home 3rd Down Conversion Max', 'Rolling 5 Past Home 3rd Down Conversion Min', 'Rolling 3 Past Home 3rd Down Conversion', 'Rolling 3 Past Home 3rd Down Conversion Avg', 'Rolling 3 Past Home 3rd Down Conversion Max', 'Rolling 3 Past Home 3rd Down Conversion Min', 'Previous Home 3rd Down Conversions', 'Rolling 5 Past Home 3rd Down Conversion Attempts', 'Rolling 5 Past Home 3rd Down Conversion Attempts Avg', 'Rolling 5 Past Home 3rd Down Conversion Attempts Max', 'Rolling 5 Past Home 3rd Down Conversion Attempts Min', 'Rolling 3 Past Home 3rd Down Conversion Attempts', 'Rolling 3 Past Home 3rd Down Conversion Attempts Avg', 'Rolling 3 Past Home 3rd Down Conversion Attempts Max', 'Rolling 3 Past Home 3rd Down Conversion Attempts Min', 'Previous Home 3rd Down Conversions Attempts', 'Rolling 5 Past Home 3rd Down Conversion %', 'Rolling 5 Past Home 3rd Down Conversion % Avg', 'Rolling 5 Past Home 3rd Down Conversion % Max', 'Rolling 5 Past Home 3rd Down Conversion % Min', 'Rolling 3 Past Home 3rd Down Conversion %', 'Rolling 3 Past Home 3rd Down Conversion % Avg', 'Rolling 3 Past Home 3rd Down Conversion % Max', 'Rolling 3 Past Home 3rd Down Conversion % Min', 'Previous Home 3rd Down Conversions %', 'Rolling 5 Past Home 4th Down Conversions', 'Rolling 5 Past Home 4th Down Conversions Avg', 'Rolling 5 Past Home 4th Down Conversions Max', 'Rolling 5 Past Home 4th Down Conversions Min', 'Rolling 3 Past Home 4th Down Conversions', 'Rolling 3 Past Home 4th Down Conversions Avg', 'Rolling 3 Past Home 4th Down Conversions Max', 'Rolling 3 Past Home 4th Down Conversions Min', 'Previous Home 4th Down Conversions', 'Rolling 5 Past Home 4th Down Conversion Attempts', 'Rolling 5 Past Home 4th Down Conversion Attempts Avg', 'Rolling 5 Past Home 4th Down Conversion Attempts Max', 'Rolling 5 Past Home 4th Down Conversion Attempts Min', 'Rolling 3 Past Home 4th Down Conversion Attempts', 'Rolling 3 Past Home 4th Down Conversion Attempts Avg', 'Rolling 3 Past Home 4th Down Conversion Attempts Max', 'Rolling 3 Past Home 4th Down Conversion Attempts Min', 'Previous Home 4th Down Conversions Attempts', 'Rolling 5 Past Home 4th Down Conversion %', 'Rolling 5 Past Home 4th Down Conversion % Avg', 'Rolling 5 Past Home 4th Down Conversion % Max', 'Rolling 5 Past Home 4th Down Conversion % Min', 'Rolling 3 Past Home 4th Down Conversion %', 'Rolling 3 Past Home 4th Down Conversion % Avg', 'Rolling 3 Past Home 4th Down Conversion % Max', 'Rolling 3 Past Home 4th Down Conversion % Min', 'Previous Home 4th Down Conversions %', 'Rolling 5 Past Home Completions', 'Rolling 5 Past Home Completions Avg', 'Rolling 5 Past Home Completions Max', 'Rolling 5 Past Home Completions Min', 'Rolling 3 Past Home Completions', 'Rolling 3 Past Home Completions Avg', 'Rolling 3 Past Home Completions Max', 'Rolling 3 Past Home Completions Min', 'Previous Home Completions', 'Rolling 5 Past Home Completion Attempts', 'Rolling 5 Past Home Completion Attempts Avg', 'Rolling 5 Past Home Completion Attempts Max', 'Rolling 5 Past Home Completion Attempts Min', 'Rolling 3 Past Home Completion Attempts', 'Rolling 3 Past Home Completion Attempts Avg', 'Rolling 3 Past Home Completion Attempts Max', 'Rolling 3 Past Home Completion Attempts Min', 'Previous Home Completion Attempts', 'Rolling 5 Past Home Completion %', 'Rolling 5 Past Home Completion % Avg', 'Rolling 5 Past Home Completion % Max', 'Rolling 5 Past Home Completion % Min', 'Rolling 3 Past Home Completion %', 'Rolling 3 Past Home Completion % Avg', 'Rolling 3 Past Home Completion % Max', 'Rolling 3 Past Home Completion % Min', 'Previous Home Completion %', 'Rolling 5 Past Home Total Yards', 'Rolling 5 Past Home Total Yards Avg', 'Rolling 5 Past Home Total Yards Max', 'Rolling 5 Past Home Total Yards Min', 'Rolling 3 Past Home Total Yards', 'Rolling 3 Past Home Total Yards Avg', 'Rolling 3 Past Home Total Yards Max', 'Rolling 3 Past Home Total Yards Min', 'Previous Home Total Yards', 'Rolling 5 Past Home Yards per Pass', 'Rolling 5 Past Home Yards per Pass Avg', 'Rolling 5 Past Home Yards per Pass Max', 'Rolling 5 Past Home Yards per Pass Min', 'Rolling 3 Past Home Yards per Pass', 'Rolling 3 Past Home Yards per Pass Avg', 'Rolling 3 Past Home Yards per Pass Max', 'Rolling 3 Past Home Yards per Pass Min', 'Previous Home Yards per Pass', 'Rolling 5 Past Home Rushing', 'Rolling 5 Past Home Rushing Avg', 'Rolling 5 Past Home Rushing Max', 'Rolling 5 Past Home Rushing Min', 'Rolling 3 Past Home Rushing', 'Rolling 3 Past Home Rushing Avg', 'Rolling 3 Past Home Rushing Max', 'Rolling 3 Past Home Rushing Min', 'Previous Home Rushing', 'Rolling 5 Past Home Rushing Attempts', 'Rolling 5 Past Home Rushing Attempts Avg', 'Rolling 5 Past Home Rushing Attempts Max', 'Rolling 5 Past Home Rushing Attempts Min', 'Rolling 3 Past Home Rushing Attempts', 'Rolling 3 Past Home Rushing Attempts Avg', 'Rolling 3 Past Home Rushing Attempts Max', 'Rolling 3 Past Home Rushing Attempts Min', 'Previous Home Rushing Attempts', 'Rolling 5 Past Home Yards per Rush', 'Rolling 5 Past Home Yards per Rush Avg', 'Rolling 5 Past Home Yards per Rush Max', 'Rolling 5 Past Home Yards per Rush Min', 'Rolling 3 Past Home Yards per Rush', 'Rolling 3 Past Home Yards per Rush Avg', 'Rolling 3 Past Home Yards per Rush Max', 'Rolling 3 Past Home Yards per Rush Min', 'Previous Home Yards per Rush', 'Rolling 5 Past Home Penalties', 'Rolling 5 Past Home Penalties Avg', 'Rolling 5 Past Home Penalties Max', 'Rolling 5 Past Home Penalties Min', 'Rolling 3 Past Home Penalties', 'Rolling 3 Past Home Penalties Avg', 'Rolling 3 Past Home Penalties Max', 'Rolling 3 Past Home Penalties Min', 'Previous Home Penalties', 'Rolling 5 Past Home Penalty Yards', 'Rolling 5 Past Home Penalty Yards Avg', 'Rolling 5 Past Home Penalty Yards Max', 'Rolling 5 Past Home Penalty Yards Min', 'Rolling 3 Past Home Penalty Yards', 'Rolling 3 Past Home Penalty Yards Avg', 'Rolling 3 Past Home Penalty Yards Max', 'Rolling 3 Past Home Penalty Yards Min', 'Previous Home Penalty Yards', 'Rolling 5 Past Home Yards per Penalty', 'Rolling 5 Past Home Yards per Penalty Avg', 'Rolling 5 Past Home Yards per Penalty Max', 'Rolling 5 Past Home Yards per Penalty Min', 'Rolling 3 Past Home Yards per Penalty', 'Rolling 3 Past Home Yards per Penalty Avg', 'Rolling 3 Past Home Yards per Penalty Max', 'Rolling 3 Past Home Yards per Penalty Min', 'Previous Home Yards per Penalty', 'Rolling 5 Past Home Turnovers', 'Rolling 5 Past Home Turnovers Avg', 'Rolling 5 Past Home Turnovers Max', 'Rolling 5 Past Home Turnovers Min', 'Rolling 3 Past Home Turnovers', 'Rolling 3 Past Home Turnovers Avg', 'Rolling 3 Past Home Turnovers Max', 'Rolling 3 Past Home Turnovers Min', 'Previous Home Turnovers', 'Rolling 5 Past Home Fumbles Lost', 'Rolling 5 Past Home Fumbles Lost Avg', 'Rolling 5 Past Home Fumbles Lost Max', 'Rolling 5 Past Home Fumbles Lost Min', 'Rolling 3 Past Home Fumbles Lost', 'Rolling 3 Past Home Fumbles Lost Avg', 'Rolling 3 Past Home Fumbles Lost Max', 'Rolling 3 Past Home Fumbles Lost Min', 'Previous Home Fumbles Lost', 'Rolling 5 Past Home Interceptions Thrown', 'Rolling 5 Past Home Interceptions Thrown Avg', 'Rolling 5 Past Home Interceptions Thrown Max', 'Rolling 5 Past Home Interceptions Thrown Min', 'Rolling 3 Past Home Interceptions Thrown', 'Rolling 3 Past Home Interceptions Thrown Avg', 'Rolling 3 Past Home Interceptions Thrown Max', 'Rolling 3 Past Home Interceptions Thrown Min', 'Previous Home Interceptions Thrown', 'Rolling 5 Past Home Possession Time', 'Rolling 5 Past Home Possession Time Avg', 'Rolling 5 Past Home Possession Time Max', 'Rolling 5 Past Home Possession Time Min', 'Rolling 3 Past Home Possession Time', 'Rolling 3 Past Home Possession Time Avg', 'Rolling 3 Past Home Possession Time Max', 'Rolling 3 Past Home Possession Time Min', 'Previous Home Possession Time', 'Rolling 5 Past Home Q1 Score', 'Rolling 5 Past Home Q1 Score Avg', 'Rolling 5 Past Home Q1 Score Max', 'Rolling 5 Past Home Q1 Score Min', 'Rolling 3 Past Home Q1 Score', 'Rolling 3 Past Home Q1 Score Avg', 'Rolling 3 Past Home Q1 Score Max', 'Rolling 3 Past Home Q1 Score Min', 'Previous Home Q1 Score', 'Rolling 5 Past Home Q2 Score', 'Rolling 5 Past Home Q2 Score Avg', 'Rolling 5 Past Home Q2 Score Max', 'Rolling 5 Past Home Q2 Score Min', 'Rolling 3 Past Home Q2 Score', 'Rolling 3 Past Home Q2 Score Avg', 'Rolling 3 Past Home Q2 Score Max', 'Rolling 3 Past Home Q2 Score Min', 'Previous Home Q2 Score', 'Rolling 5 Past Home Q3 Score', 'Rolling 5 Past Home Q3 Score Avg', 'Rolling 5 Past Home Q3 Score Max', 'Rolling 5 Past Home Q3 Score Min', 'Rolling 3 Past Home Q3 Score', 'Rolling 3 Past Home Q3 Score Avg', 'Rolling 3 Past Home Q3 Score Max', 'Rolling 3 Past Home Q3 Score Min', 'Previous Home Q3 Score', 'Rolling 5 Past Home Q4 Score', 'Rolling 5 Past Home Q4 Score Avg', 'Rolling 5 Past Home Q4 Score Max', 'Rolling 5 Past Home Q4 Score Min', 'Rolling 3 Past Home Q4 Score', 'Rolling 3 Past Home Q4 Score Avg', 'Rolling 3 Past Home Q4 Score Max', 'Rolling 3 Past Home Q4 Score Min', 'Previous Home Q4 Score', 'Rolling 5 Past Home Total Odds', 'Rolling 5 Past Home Total Odds Avg', 'Rolling 5 Past Home Total Odds Max', 'Rolling 5 Past Home Total Odds Min', 'Rolling 3 Past Home Total Odds', 'Rolling 3 Past Home Total Odds Avg', 'Rolling 3 Past Home Total Odds Max', 'Rolling 3 Past Home Total Odds Min', 'Previous Home Total Odds', 'Rolling 5 Past Home Spread', 'Rolling 5 Past Home Spread Avg', 'Rolling 5 Past Home Spread Max', 'Rolling 5 Past Home Spread Min', 'Rolling 3 Past Home Spread', 'Rolling 3 Past Home Spread Avg', 'Rolling 3 Past Home Spread Max', 'Rolling 3 Past Home Spread Min', 'Previous Home Spread', 'Rolling 5 Past Home Ranking', 'Rolling 5 Past Home Ranking Avg', 'Rolling 5 Past Home Ranking Max', 'Rolling 5 Past Home Ranking Min', 'Rolling 3 Past Home Ranking', 'Rolling 3 Past Home Ranking Avg', 'Rolling 3 Past Home Ranking Max', 'Rolling 3 Past Home Ranking Min', 'Previous Home Ranking', 'Rolling 5 Past Home ATS Win', 'Rolling 5 Past Home ATS Win Avg', 'Rolling 5 Past Home ATS Win Max', 'Rolling 5 Past Home ATS Win Min', 'Rolling 3 Past Home ATS Win', 'Rolling 3 Past Home ATS Win Avg', 'Rolling 3 Past Home ATS Win Max', 'Rolling 3 Past Home ATS Win Min', 'Previous Home ATS Win', 'Rolling 5 Past Home ATS Push', 'Rolling 5 Past Home ATS Push Avg', 'Rolling 5 Past Home ATS Push Max', 'Rolling 5 Past Home ATS Push Min', 'Rolling 3 Past Home ATS Push', 'Rolling 3 Past Home ATS Push Avg', 'Rolling 3 Past Home ATS Push Max', 'Rolling 3 Past Home ATS Push Min', 'Previous Home ATS Push', 'Rolling 5 Past Home ATS Loss', 'Rolling 5 Past Home ATS Loss Avg', 'Rolling 5 Past Home ATS Loss Max', 'Rolling 5 Past Home ATS Loss Min', 'Rolling 3 Past Home ATS Loss', 'Rolling 3 Past Home ATS Loss Avg', 'Rolling 3 Past Home ATS Loss Max', 'Rolling 3 Past Home ATS Loss Min', 'Previous Home ATS Loss', 'Rolling 5 Past Home Over Odds', 'Rolling 5 Past Home Over Odds Avg', 'Rolling 5 Past Home Over Odds Max', 'Rolling 5 Past Home Over Odds Min', 'Rolling 3 Past Home Over Odds', 'Rolling 3 Past Home Over Oddss Avg', 'Rolling 3 Past Home Over OddsMax', 'Rolling 3 Past Home Over Odds Min', 'Previous Home Over Odds', 'Rolling 5 Past Home Under Odds', 'Rolling 5 Past Home Under Odds Avg', 'Rolling 5 Past Home Under Odds Max', 'Rolling 5 Past Home Under Odds Min', 'Rolling 3 Past Home Under Odds', 'Rolling 3 Past Home Under Oddss Avg', 'Rolling 3 Past Home Under OddsMax', 'Rolling 3 Past Home Under Odds Min', 'Previous Home Under Odds', 'Rolling 5 Past Home Push Odds', 'Rolling 5 Past Home Push Odds Avg', 'Rolling 5 Past Home Push Odds Max', 'Rolling 5 Past Home Push Odds Min', 'Rolling 3 Past Home Push Odds', 'Rolling 3 Past Home Push Oddss Avg', 'Rolling 3 Past Home Push OddsMax', 'Rolling 3 Past Home Push Odds Min', 'Previous Home Push Odds', 'Rolling 5 Past Home Passing', 'Rolling 5 Past Home Passing Avg', 'Rolling 5 Past Home Passing Max', 'Rolling 5 Past Home Passing Min', 'Rolling 3 Past Home Passing', 'Rolling 3 Past Home Passing Avg', 'Rolling 3 Past Home Passing Max', 'Rolling 3 Past Home Passing Min', 'Rolling 5 Past H&A Score_Home_Team', 'Rolling 5 Past H&A Score Avg_Home_Team', 'Rolling 5 Past H&A Score Max_Home_Team', 'Rolling 5 Past H&A Score Min_Home_Team', 'Rolling 3 Past H&A Score_Home_Team', 'Rolling 3 Past H&A Score Avg_Home_Team', 'Rolling 3 Past H&A Score Max_Home_Team', 'Rolling 3 Past H&A Score Min_Home_Team', 'Past H&A Score_Home_Team', 'Rolling 5 Past H&A HI Pass yrds_Home_Team', 'Rolling 5 Past H&A HI Pass yrds Avg_Home_Team', 'Rolling 5 Past H&A HI Pass yrds Max_Home_Team', 'Rolling 5 Past H&A HI Pass yrds Min_Home_Team', 'Rolling 3 Past H&A HI Pass yrds_Home_Team', 'Rolling 3 Past H&A HI Pass yrds Avg_Home_Team', 'Rolling 3 Past H&A HI Pass yrds Max_Home_Team', 'Rolling 3 Past H&A HI Pass yrds Min_Home_Team', 'Previous H&A HI Pass yrds_Home_Team', 'Rolling 5 Past H&A HI Rush yrds_Home_Team', 'Rolling 5 Past H&A HI Rush yrds Avg_Home_Team', 'Rolling 5 Past H&A HI Rush yrds Max_Home_Team', 'Rolling 5 Past H&A HI Rush yrds Min_Home_Team', 'Rolling 3 Past H&A HI Rush yrds_Home_Team', 'Rolling 3 Past H&A HI Rush yrds Avg_Home_Team', 'Rolling 3 Past H&A HI Rush yrds Max_Home_Team', 'Rolling 3 Past H&A HI Rush yrds Min_Home_Team', 'Previous H&A HI Rush yrds_Home_Team', 'Rolling 5 Past H&A HI REC yrds_Home_Team', 'Rolling 5 Past H&A HI REC yrds Avg_Home_Team', 'Rolling 5 Past H&A HI REC yrds Max_Home_Team', 'Rolling 5 Past H&A HI REC yrds Min_Home_Team', 'Rolling 3 Past H&A HI REC yrds_Home_Team', 'Rolling 3 Past H&A HI REC yrds Avg_Home_Team', 'Rolling 3 Past H&A HI REC yrds Max_Home_Team', 'Rolling 3 Past H&A HI REC yrds Min_Home_Team', 'Previous H&A HI REC yrds_Home_Team', 'Rolling 5 Past H&A Season T Wins_Home_Team', 'Rolling 5 Past H&A Season T Wins Avg_Home_Team', 'Rolling 5 Past H&A Season T Wins Max_Home_Team', 'Rolling 5 Past H&A Season T Wins Min_Home_Team', 'Rolling 3 Past H&A Season T Wins_Home_Team', 'Rolling 3 Past H&A Season T Wins Avg_Home_Team', 'Rolling 3 Past H&A Season T Wins Max_Home_Team', 'Rolling 3 Past H&A Season T Wins Min_Home_Team', 'Previous H&A Season T Wins_Home_Team', 'Rolling 5 Past H&A Season T Losses_Home_Team', 'Rolling 5 Past H&A Season T Losses Avg_Home_Team', 'Rolling 5 Past H&A Season T Losses Max_Home_Team', 'Rolling 5 Past H&A Season T Losses Min_Home_Team', 'Rolling 3 Past H&A Season T Losses_Home_Team', 'Rolling 3 Past H&A Season T Losses Avg_Home_Team', 'Rolling 3 Past H&A Season T Losses Max_Home_Team', 'Rolling 3 Past H&A Season T Losses Min_Home_Team', 'Previous H&A Season Losses_Home_Team', 'Rolling 5 Past H&A Conf T Wins_Home_Team', 'Rolling 5 Past H&A Conf T Wins Avg_Home_Team', 'Rolling 5 Past H&A Conf T Wins Max_Home_Team', 'Rolling 5 Past H&A Conf T Wins Min_Home_Team', 'Rolling 3 Past H&A Conf T Wins_Home_Team', 'Rolling 3 Past H&A Conf T Wins Avg_Home_Team', 'Rolling 3 Past H&A Conf T Wins Max_Home_Team', 'Rolling 3 Past H&A Conf T Wins Min_Home_Team', 'Previous H&A Conf Wins_Home_Team', 'Rolling 5 Past H&A Conf T Losses_Home_Team', 'Rolling 5 Past H&A Conf T Losses Avg_Home_Team', 'Rolling 5 Past H&A Conf T Losses Max_Home_Team', 'Rolling 5 Past H&A Conf T Losses Min_Home_Team', 'Rolling 3 Past H&A Conf T Losses_Home_Team', 'Rolling 3 Past H&A Conf T Losses Avg_Home_Team', 'Rolling 3 Past H&A Conf T Losses Max_Home_Team', 'Rolling 3 Past H&A Conf T Losses Min_Home_Team', 'Previous H&A Conf Losses_Home_Team', 'Rolling 5 Past H&A 1st Downs_Home_Team', 'Rolling 5 Past H&A 1st Downs Avg_Home_Team', 'Rolling 5 Past H&A 1st Downs Max_Home_Team', 'Rolling 5 Past H&A 1st Downs Min_Home_Team', 'Rolling 3 Past H&A 1st Downs_Home_Team', 'Rolling 3 Past H&A 1st Downs Avg_Home_Team', 'Rolling 3 Past H&A 1st Downs Max_Home_Team', 'Rolling 3 Past H&A 1st Downs Min_Home_Team', 'Previous H&A 1st Downs_Home_Team', 'Rolling 5 Past H&A 3rd Down Conversions_Home_Team', 'Rolling 5 Past H&A 3rd Down Conversion Avg_Home_Team', 'Rolling 5 Past H&A 3rd Down Conversion Max_Home_Team', 'Rolling 5 Past H&A 3rd Down Conversion Min_Home_Team', 'Rolling 3 Past H&A 3rd Down Conversion_Home_Team', 'Rolling 3 Past H&A 3rd Down Conversion Avg_Home_Team', 'Rolling 3 Past H&A 3rd Down Conversion Max_Home_Team', 'Rolling 3 Past H&A 3rd Down Conversion Min_Home_Team', 'Previous H&A 3rd Down Conversions_Home_Team', 'Rolling 5 Past H&A 3rd Down Conversion Attempts_Home_Team', 'Rolling 5 Past H&A 3rd Down Conversion Attempts Avg_Home_Team', 'Rolling 5 Past H&A 3rd Down Conversion Attempts Max_Home_Team', 'Rolling 5 Past H&A 3rd Down Conversion Attempts Min_Home_Team', 'Rolling 3 Past H&A 3rd Down Conversion Attempts_Home_Team', 'Rolling 3 Past H&A 3rd Down Conversion Attempts Avg_Home_Team', 'Rolling 3 Past H&A 3rd Down Conversion Attempts Max_Home_Team', 'Rolling 3 Past H&A 3rd Down Conversion Attempts Min_Home_Team', 'Previous H&A 3rd Down Conversions Attempts_Home_Team', 'Rolling 5 Past H&A 3rd Down Conversion %_Home_Team', 'Rolling 5 Past H&A 3rd Down Conversion % Avg_Home_Team', 'Rolling 5 Past H&A 3rd Down Conversion % Max_Home_Team', 'Rolling 5 Past H&A 3rd Down Conversion % Min_Home_Team', 'Rolling 3 Past H&A 3rd Down Conversion %_Home_Team', 'Rolling 3 Past H&A 3rd Down Conversion % Avg_Home_Team', 'Rolling 3 Past H&A 3rd Down Conversion % Max_Home_Team', 'Rolling 3 Past H&A 3rd Down Conversion % Min_Home_Team', 'Previous H&A 3rd Down Conversions %_Home_Team', 'Rolling 5 Past H&A 4th Down Conversions_Home_Team', 'Rolling 5 Past H&A 4th Down Conversions Avg_Home_Team', 'Rolling 5 Past H&A 4th Down Conversions Max_Home_Team', 'Rolling 5 Past H&A 4th Down Conversions Min_Home_Team', 'Rolling 3 Past H&A 4th Down Conversions_Home_Team', 'Rolling 3 Past H&A 4th Down Conversions Avg_Home_Team', 'Rolling 3 Past H&A 4th Down Conversions Max_Home_Team', 'Rolling 3 Past H&A 4th Down Conversions Min_Home_Team', 'Previous H&A 4th Down Conversions_Home_Team', 'Rolling 5 Past H&A 4th Down Conversion Attempts_Home_Team', 'Rolling 5 Past H&A 4th Down Conversion Attempts Avg_Home_Team', 'Rolling 5 Past H&A 4th Down Conversion Attempts Max_Home_Team', 'Rolling 5 Past H&A 4th Down Conversion Attempts Min_Home_Team', 'Rolling 3 Past H&A 4th Down Conversion Attempts_Home_Team', 'Rolling 3 Past H&A 4th Down Conversion Attempts Avg_Home_Team', 'Rolling 3 Past H&A 4th Down Conversion Attempts Max_Home_Team', 'Rolling 3 Past H&A 4th Down Conversion Attempts Min_Home_Team', 'Previous H&A 4th Down Conversions Attempts_Home_Team', 'Rolling 5 Past H&A 4th Down Conversion %_Home_Team', 'Rolling 5 Past H&A 4th Down Conversion % Avg_Home_Team', 'Rolling 5 Past H&A 4th Down Conversion % Max_Home_Team', 'Rolling 5 Past H&A 4th Down Conversion % Min_Home_Team', 'Rolling 3 Past H&A 4th Down Conversion %_Home_Team', 'Rolling 3 Past H&A 4th Down Conversion % Avg_Home_Team', 'Rolling 3 Past H&A 4th Down Conversion % Max_Home_Team', 'Rolling 3 Past H&A 4th Down Conversion % Min_Home_Team', 'Previous H&A 4th Down Conversions %_Home_Team', 'Rolling 5 Past H&A Completions_Home_Team', 'Rolling 5 Past H&A Completions Avg_Home_Team', 'Rolling 5 Past H&A Completions Max_Home_Team', 'Rolling 5 Past H&A Completions Min_Home_Team', 'Rolling 3 Past H&A Completions_Home_Team', 'Rolling 3 Past H&A Completions Avg_Home_Team', 'Rolling 3 Past H&A Completions Max_Home_Team', 'Rolling 3 Past H&A Completions Min_Home_Team', 'Previous H&A Completions_Home_Team', 'Rolling 5 Past H&A Completion Attempts_Home_Team', 'Rolling 5 Past H&A Completion Attempts Avg_Home_Team', 'Rolling 5 Past H&A Completion Attempts Max_Home_Team', 'Rolling 5 Past H&A Completion Attempts Min_Home_Team', 'Rolling 3 Past H&A Completion Attempts_Home_Team', 'Rolling 3 Past H&A Completion Attempts Avg_Home_Team', 'Rolling 3 Past H&A Completion Attempts Max_Home_Team', 'Rolling 3 Past H&A Completion Attempts Min_Home_Team', 'Previous H&A Completion Attempts_Home_Team', 'Rolling 5 Past H&A Completion %_Home_Team', 'Rolling 5 Past H&A Completion % Avg_Home_Team', 'Rolling 5 Past H&A Completion % Max_Home_Team', 'Rolling 5 Past H&A Completion % Min_Home_Team', 'Rolling 3 Past H&A Completion %_Home_Team', 'Rolling 3 Past H&A Completion % Avg_Home_Team', 'Rolling 3 Past H&A Completion % Max_Home_Team', 'Rolling 3 Past H&A Completion % Min_Home_Team', 'Previous H&A Completion %_Home_Team', 'Rolling 5 Past H&A Total Yards_Home_Team', 'Rolling 5 Past H&A Total Yards Avg_Home_Team', 'Rolling 5 Past H&A Total Yards Max_Home_Team', 'Rolling 5 Past H&A Total Yards Min_Home_Team', 'Rolling 3 Past H&A Total Yards_Home_Team', 'Rolling 3 Past H&A Total Yards Avg_Home_Team', 'Rolling 3 Past H&A Total Yards Max_Home_Team', 'Rolling 3 Past H&A Total Yards Min_Home_Team', 'Previous H&A Total Yards_Home_Team', 'Rolling 5 Past H&A Passing_Home_Team', 'Rolling 5 Past H&A Passing Avg_Home_Team', 'Rolling 5 Past H&A Passing Max_Home_Team', 'Rolling 5 Past H&A Passing Min_Home_Team', 'Rolling 3 Past H&A Passing_Home_Team', 'Rolling 3 Past H&A Passing Avg_Home_Team', 'Rolling 3 Past H&A Passing Max_Home_Team', 'Rolling 3 Past H&A Passing Min_Home_Team', 'Previous H&A Passing_Home_Team', 'Rolling 5 Past H&A Yards per Pass_Home_Team', 'Rolling 5 Past H&A Yards per Pass Avg_Home_Team', 'Rolling 5 Past H&A Yards per Pass Max_Home_Team', 'Rolling 5 Past H&A Yards per Pass Min_Home_Team', 'Rolling 3 Past H&A Yards per Pass_Home_Team', 'Rolling 3 Past H&A Yards per Pass Avg_Home_Team', 'Rolling 3 Past H&A Yards per Pass Max_Home_Team', 'Rolling 3 Past H&A Yards per Pass Min_Home_Team', 'Previous H&A Yards per Pass_Home_Team', 'Rolling 5 Past H&A Rushing_Home_Team', 'Rolling 5 Past H&A Rushing Avg_Home_Team', 'Rolling 5 Past H&A Rushing Max_Home_Team', 'Rolling 5 Past H&A Rushing Min_Home_Team', 'Rolling 3 Past H&A Rushing_Home_Team', 'Rolling 3 Past H&A Rushing Avg_Home_Team', 'Rolling 3 Past H&A Rushing Max_Home_Team', 'Rolling 3 Past H&A Rushing Min_Home_Team', 'Previous H&A Rushing_Home_Team', 'Rolling 5 Past H&A Rushing Attempts_Home_Team', 'Rolling 5 Past H&A Rushing Attempts Avg_Home_Team', 'Rolling 5 Past H&A Rushing Attempts Max_Home_Team', 'Rolling 5 Past H&A Rushing Attempts Min_Home_Team', 'Rolling 3 Past H&A Rushing Attempts_Home_Team', 'Rolling 3 Past H&A Rushing Attempts Avg_Home_Team', 'Rolling 3 Past H&A Rushing Attempts Max_Home_Team', 'Rolling 3 Past H&A Rushing Attempts Min_Home_Team', 'Previous H&A Rushing Attempts_Home_Team', 'Rolling 5 Past H&A Yards per Rush_Home_Team', 'Rolling 5 Past H&A Yards per Rush Avg_Home_Team', 'Rolling 5 Past H&A Yards per Rush Max_Home_Team', 'Rolling 5 Past H&A Yards per Rush Min_Home_Team', 'Rolling 3 Past H&A Yards per Rush_Home_Team', 'Rolling 3 Past H&A Yards per Rush Avg_Home_Team', 'Rolling 3 Past H&A Yards per Rush Max_Home_Team', 'Rolling 3 Past H&A Yards per Rush Min_Home_Team', 'Previous H&A Yards per Rush_Home_Team', 'Rolling 5 Past H&A Penalties_Home_Team', 'Rolling 5 Past H&A Penalties Avg_Home_Team', 'Rolling 5 Past H&A Penalties Max_Home_Team', 'Rolling 5 Past H&A Penalties Min_Home_Team', 'Rolling 3 Past H&A Penalties_Home_Team', 'Rolling 3 Past H&A Penalties Avg_Home_Team', 'Rolling 3 Past H&A Penalties Max_Home_Team', 'Rolling 3 Past H&A Penalties Min_Home_Team', 'Previous H&A Penalties_Home_Team', 'Rolling 5 Past H&A Penalty Yards_Home_Team', 'Rolling 5 Past H&A Penalty Yards Avg_Home_Team', 'Rolling 5 Past H&A Penalty Yards Max_Home_Team', 'Rolling 5 Past H&A Penalty Yards Min_Home_Team', 'Rolling 3 Past H&A Penalty Yards_Home_Team', 'Rolling 3 Past H&A Penalty Yards Avg_Home_Team', 'Rolling 3 Past H&A Penalty Yards Max_Home_Team', 'Rolling 3 Past H&A Penalty Yards Min_Home_Team', 'Previous H&A Penalty Yards_Home_Team', 'Rolling 5 Past H&A Yards per Penalty_Home_Team', 'Rolling 5 Past H&A Yards per Penalty Avg_Home_Team', 'Rolling 5 Past H&A Yards per Penalty Max_Home_Team', 'Rolling 5 Past H&A Yards per Penalty Min_Home_Team', 'Rolling 3 Past H&A Yards per Penalty_Home_Team', 'Rolling 3 Past H&A Yards per Penalty Avg_Home_Team', 'Rolling 3 Past H&A Yards per Penalty Max_Home_Team', 'Rolling 3 Past H&A Yards per Penalty Min_Home_Team', 'Previous H&A Yards per Penalty_Home_Team', 'Rolling 5 Past H&A Turnovers_Home_Team', 'Rolling 5 Past H&A Turnovers Avg_Home_Team', 'Rolling 5 Past H&A Turnovers Max_Home_Team', 'Rolling 5 Past H&A Turnovers Min_Home_Team', 'Rolling 3 Past H&A Turnovers_Home_Team', 'Rolling 3 Past H&A Turnovers Avg_Home_Team', 'Rolling 3 Past H&A Turnovers Max_Home_Team', 'Rolling 3 Past H&A Turnovers Min_Home_Team', 'Previous H&A Turnovers_Home_Team', 'Rolling 5 Past H&A Fumbles Lost_Home_Team', 'Rolling 5 Past H&A Fumbles Lost Avg_Home_Team', 'Rolling 5 Past H&A Fumbles Lost Max_Home_Team', 'Rolling 5 Past H&A Fumbles Lost Min_Home_Team', 'Rolling 3 Past H&A Fumbles Lost_Home_Team', 'Rolling 3 Past H&A Fumbles Lost Avg_Home_Team', 'Rolling 3 Past H&A Fumbles Lost Max_Home_Team', 'Rolling 3 Past H&A Fumbles Lost Min_Home_Team', 'Previous H&A Fumbles Lost_Home_Team', 'Rolling 5 Past H&A Interceptions Thrown_Home_Team', 'Rolling 5 Past H&A Interceptions Thrown Avg_Home_Team', 'Rolling 5 Past H&A Interceptions Thrown Max_Home_Team', 'Rolling 5 Past H&A Interceptions Thrown Min_Home_Team', 'Rolling 3 Past H&A Interceptions Thrown_Home_Team', 'Rolling 3 Past H&A Interceptions Thrown Avg_Home_Team', 'Rolling 3 Past H&A Interceptions Thrown Max_Home_Team', 'Rolling 3 Past H&A Interceptions Thrown Min_Home_Team', 'Previous H&A Interceptions Thrown_Home_Team', 'Rolling 5 Past H&A Possession Time_Home_Team', 'Rolling 5 Past H&A Possession Time Avg_Home_Team', 'Rolling 5 Past H&A Possession Time Max_Home_Team', 'Rolling 5 Past H&A Possession Time Min_Home_Team', 'Rolling 3 Past H&A Possession Time_Home_Team', 'Rolling 3 Past H&A Possession Time Avg_Home_Team', 'Rolling 3 Past H&A Possession Time Max_Home_Team', 'Rolling 3 Past H&A Possession Time Min_Home_Team', 'Previous H&A Possession Time_Home_Team', 'Rolling 5 Past H&A Q1 Score_Home_Team', 'Rolling 5 Past H&A Q1 Score Avg_Home_Team', 'Rolling 5 Past H&A Q1 Score Max_Home_Team', 'Rolling 5 Past H&A Q1 Score Min_Home_Team', 'Rolling 3 Past H&A Q1 Score_Home_Team', 'Rolling 3 Past H&A Q1 Score Avg_Home_Team', 'Rolling 3 Past H&A Q1 Score Max_Home_Team', 'Rolling 3 Past H&A Q1 Score Min_Home_Team', 'Previous H&A Q1 Score_Home_Team', 'Rolling 5 Past H&A Q2 Score_Home_Team', 'Rolling 5 Past H&A Q2 Score Avg_Home_Team', 'Rolling 5 Past H&A Q2 Score Max_Home_Team', 'Rolling 5 Past H&A Q2 Score Min_Home_Team', 'Rolling 3 Past H&A Q2 Score_Home_Team', 'Rolling 3 Past H&A Q2 Score Avg_Home_Team', 'Rolling 3 Past H&A Q2 Score Max_Home_Team', 'Rolling 3 Past H&A Q2 Score Min_Home_Team', 'Previous H&A Q2 Score_Home_Team', 'Rolling 5 Past H&A Q3 Score_Home_Team', 'Rolling 5 Past H&A Q3 Score Avg_Home_Team', 'Rolling 5 Past H&A Q3 Score Max_Home_Team', 'Rolling 5 Past H&A Q3 Score Min_Home_Team', 'Rolling 3 Past H&A Q3 Score_Home_Team', 'Rolling 3 Past H&A Q3 Score Avg_Home_Team', 'Rolling 3 Past H&A Q3 Score Max_Home_Team', 'Rolling 3 Past H&A Q3 Score Min_Home_Team', 'Previous H&A Q3 Score_Home_Team', 'Rolling 5 Past H&A Q4 Score_Home_Team', 'Rolling 5 Past H&A Q4 Score Avg_Home_Team', 'Rolling 5 Past H&A Q4 Score Max_Home_Team', 'Rolling 5 Past H&A Q4 Score Min_Home_Team', 'Rolling 3 Past H&A Q4 Score_Home_Team', 'Rolling 3 Past H&A Q4 Score Avg_Home_Team', 'Rolling 3 Past H&A Q4 Score Max_Home_Team', 'Rolling 3 Past H&A Q4 Score Min_Home_Team', 'Previous H&A Q4 Score_Home_Team', 'Rolling 5 Past H&A Total Odds_Home_Team', 'Rolling 5 Past H&A Total Odds Avg_Home_Team', 'Rolling 5 Past H&A Total Odds Max_Home_Team', 'Rolling 5 Past H&A Total Odds Min_Home_Team', 'Rolling 3 Past H&A Total Odds_Home_Team', 'Rolling 3 Past H&A Total Odds Avg_Home_Team', 'Rolling 3 Past H&A Total Odds Max_Home_Team', 'Rolling 3 Past H&A Total Odds Min_Home_Team', 'Previous H&A Total Odds_Home_Team', 'Rolling 5 Past H&A Spread_Home_Team', 'Rolling 5 Past H&A Spread Avg_Home_Team', 'Rolling 5 Past H&A Spread Max_Home_Team', 'Rolling 5 Past H&A Spread Min_Home_Team', 'Rolling 3 Past H&A Spread_Home_Team', 'Rolling 3 Past H&A Spread Avg_Home_Team', 'Rolling 3 Past H&A Spread Max_Home_Team', 'Rolling 3 Past H&A Spread Min_Home_Team', 'Previous H&A Spread_Home_Team', 'Rolling 5 Past H&A Ranking_Home_Team', 'Rolling 5 Past H&A Ranking Avg_Home_Team', 'Rolling 5 Past H&A Ranking Max_Home_Team', 'Rolling 5 Past H&A Ranking Min_Home_Team', 'Rolling 3 Past H&A Ranking_Home_Team', 'Rolling 3 Past H&A Ranking Avg_Home_Team', 'Rolling 3 Past H&A Ranking Max_Home_Team', 'Rolling 3 Past H&A Ranking Min_Home_Team', 'Previous H&A Ranking_Home_Team', 'Rolling 5 Past H&A ATS Win_Home_Team', 'Rolling 5 Past H&A ATS Win Avg_Home_Team', 'Rolling 5 Past H&A ATS Win Max_Home_Team', 'Rolling 5 Past H&A ATS Win Min_Home_Team', 'Rolling 3 Past H&A ATS Win_Home_Team', 'Rolling 3 Past H&A ATS Win Avg_Home_Team', 'Rolling 3 Past H&A ATS Win Max_Home_Team', 'Rolling 3 Past H&A ATS Win Min_Home_Team', 'Previous H&A ATS Win_Home_Team', 'Rolling 5 Past H&A ATS Loss_Home_Team', 'Rolling 5 Past H&A ATS Loss Avg_Home_Team', 'Rolling 5 Past H&A ATS Loss Max_Home_Team', 'Rolling 5 Past H&A ATS Loss Min_Home_Team', 'Rolling 3 Past H&A ATS Loss_Home_Team', 'Rolling 3 Past H&A ATS Loss Avg_Home_Team', 'Rolling 3 Past H&A ATS Loss Max_Home_Team', 'Rolling 3 Past H&A ATS Loss Min_Home_Team', 'Previous H&A ATS Loss_Home_Team', 'Rolling 5 Past H&A ATS Push_Home_Team', 'Rolling 5 Past H&A ATS Push Avg_Home_Team', 'Rolling 5 Past H&A ATS Push Max_Home_Team', 'Rolling 5 Past H&A ATS Push Min_Home_Team', 'Rolling 3 Past H&A ATS Push_Home_Team', 'Rolling 3 Past H&A ATS Push Avg_Home_Team', 'Rolling 3 Past H&A ATS Push Max_Home_Team', 'Rolling 3 Past H&A ATS Push Min_Home_Team', 'Previous H&A ATS Push_Home_Team', 'Rolling 5 Past H&A Over Odds_Home_Team', 'Rolling 5 Past H&A Over Odds Avg_Home_Team', 'Rolling 5 Past H&A Over Odds Max_Home_Team', 'Rolling 5 Past H&A Over Odds Min_Home_Team', 'Rolling 3 Past H&A Over Odds_Home_Team', 'Rolling 3 Past H&A Over Oddss Avg_Home_Team', 'Rolling 3 Past H&A Over OddsMax_Home_Team', 'Rolling 3 Past H&A Over Odds Min_Home_Team', 'Previous H&A Over Odds_Home_Team', 'Rolling 5 Past H&A Under Odds_Home_Team', 'Rolling 5 Past H&A Under Odds Avg_Home_Team', 'Rolling 5 Past H&A Under Odds Max_Home_Team', 'Rolling 5 Past H&A Under Odds Min_Home_Team', 'Rolling 3 Past H&A Under Odds_Home_Team', 'Rolling 3 Past H&A Under Oddss Avg_Home_Team', 'Rolling 3 Past H&A Under OddsMax_Home_Team', 'Rolling 3 Past H&A Under Odds Min_Home_Team', 'Previous H&A Under Odds_Home_Team', 'Rolling 5 Past H&A Push Odds_Home_Team', 'Rolling 5 Past H&A Push Odds Avg_Home_Team', 'Rolling 5 Past H&A Push Odds Max_Home_Team', 'Rolling 5 Past H&A Push Odds Min_Home_Team', 'Rolling 3 Past H&A Push Odds_Home_Team', 'Rolling 3 Past H&A Push Oddss Avg_Home_Team', 'Rolling 3 Past H&A Push OddsMax_Home_Team', 'Rolling 3 Past H&A Push Odds Min_Home_Team', 'Rolling 5 Past H&A Score_Away_Team', 'Rolling 5 Past H&A Score Avg_Away_Team', 'Rolling 5 Past H&A Score Max_Away_Team', 'Rolling 5 Past H&A Score Min_Away_Team', 'Rolling 3 Past H&A Score_Away_Team', 'Rolling 3 Past H&A Score Avg_Away_Team', 'Rolling 3 Past H&A Score Max_Away_Team', 'Rolling 3 Past H&A Score Min_Away_Team', 'Past H&A Score_Away_Team', 'Rolling 5 Past H&A HI Pass yrds_Away_Team', 'Rolling 5 Past H&A HI Pass yrds Avg_Away_Team', 'Rolling 5 Past H&A HI Pass yrds Max_Away_Team', 'Rolling 5 Past H&A HI Pass yrds Min_Away_Team', 'Rolling 3 Past H&A HI Pass yrds_Away_Team', 'Rolling 3 Past H&A HI Pass yrds Avg_Away_Team', 'Rolling 3 Past H&A HI Pass yrds Max_Away_Team', 'Rolling 3 Past H&A HI Pass yrds Min_Away_Team', 'Previous H&A HI Pass yrds_Away_Team', 'Rolling 5 Past H&A HI Rush yrds_Away_Team', 'Rolling 5 Past H&A HI Rush yrds Avg_Away_Team', 'Rolling 5 Past H&A HI Rush yrds Max_Away_Team', 'Rolling 5 Past H&A HI Rush yrds Min_Away_Team', 'Rolling 3 Past H&A HI Rush yrds_Away_Team', 'Rolling 3 Past H&A HI Rush yrds Avg_Away_Team', 'Rolling 3 Past H&A HI Rush yrds Max_Away_Team', 'Rolling 3 Past H&A HI Rush yrds Min_Away_Team', 'Previous H&A HI Rush yrds_Away_Team', 'Rolling 5 Past H&A HI REC yrds_Away_Team', 'Rolling 5 Past H&A HI REC yrds Avg_Away_Team', 'Rolling 5 Past H&A HI REC yrds Max_Away_Team', 'Rolling 5 Past H&A HI REC yrds Min_Away_Team', 'Rolling 3 Past H&A HI REC yrds_Away_Team', 'Rolling 3 Past H&A HI REC yrds Avg_Away_Team', 'Rolling 3 Past H&A HI REC yrds Max_Away_Team', 'Rolling 3 Past H&A HI REC yrds Min_Away_Team', 'Previous H&A HI REC yrds_Away_Team', 'Rolling 5 Past H&A Season T Wins_Away_Team', 'Rolling 5 Past H&A Season T Wins Avg_Away_Team', 'Rolling 5 Past H&A Season T Wins Max_Away_Team', 'Rolling 5 Past H&A Season T Wins Min_Away_Team', 'Rolling 3 Past H&A Season T Wins_Away_Team', 'Rolling 3 Past H&A Season T Wins Avg_Away_Team', 'Rolling 3 Past H&A Season T Wins Max_Away_Team', 'Rolling 3 Past H&A Season T Wins Min_Away_Team', 'Previous H&A Season T Wins_Away_Team', 'Rolling 5 Past H&A Season T Losses_Away_Team', 'Rolling 5 Past H&A Season T Losses Avg_Away_Team', 'Rolling 5 Past H&A Season T Losses Max_Away_Team', 'Rolling 5 Past H&A Season T Losses Min_Away_Team', 'Rolling 3 Past H&A Season T Losses_Away_Team', 'Rolling 3 Past H&A Season T Losses Avg_Away_Team', 'Rolling 3 Past H&A Season T Losses Max_Away_Team', 'Rolling 3 Past H&A Season T Losses Min_Away_Team', 'Previous H&A Season Losses_Away_Team', 'Rolling 5 Past H&A Conf T Wins_Away_Team', 'Rolling 5 Past H&A Conf T Wins Avg_Away_Team', 'Rolling 5 Past H&A Conf T Wins Max_Away_Team', 'Rolling 5 Past H&A Conf T Wins Min_Away_Team', 'Rolling 3 Past H&A Conf T Wins_Away_Team', 'Rolling 3 Past H&A Conf T Wins Avg_Away_Team', 'Rolling 3 Past H&A Conf T Wins Max_Away_Team', 'Rolling 3 Past H&A Conf T Wins Min_Away_Team', 'Previous H&A Conf Wins_Away_Team', 'Rolling 5 Past H&A Conf T Losses_Away_Team', 'Rolling 5 Past H&A Conf T Losses Avg_Away_Team', 'Rolling 5 Past H&A Conf T Losses Max_Away_Team', 'Rolling 5 Past H&A Conf T Losses Min_Away_Team', 'Rolling 3 Past H&A Conf T Losses_Away_Team', 'Rolling 3 Past H&A Conf T Losses Avg_Away_Team', 'Rolling 3 Past H&A Conf T Losses Max_Away_Team', 'Rolling 3 Past H&A Conf T Losses Min_Away_Team', 'Previous H&A Conf Losses_Away_Team', 'Rolling 5 Past H&A 1st Downs_Away_Team', 'Rolling 5 Past H&A 1st Downs Avg_Away_Team', 'Rolling 5 Past H&A 1st Downs Max_Away_Team', 'Rolling 5 Past H&A 1st Downs Min_Away_Team', 'Rolling 3 Past H&A 1st Downs_Away_Team', 'Rolling 3 Past H&A 1st Downs Avg_Away_Team', 'Rolling 3 Past H&A 1st Downs Max_Away_Team', 'Rolling 3 Past H&A 1st Downs Min_Away_Team', 'Previous H&A 1st Downs_Away_Team', 'Rolling 5 Past H&A 3rd Down Conversions_Away_Team', 'Rolling 5 Past H&A 3rd Down Conversion Avg_Away_Team', 'Rolling 5 Past H&A 3rd Down Conversion Max_Away_Team', 'Rolling 5 Past H&A 3rd Down Conversion Min_Away_Team', 'Rolling 3 Past H&A 3rd Down Conversion_Away_Team', 'Rolling 3 Past H&A 3rd Down Conversion Avg_Away_Team', 'Rolling 3 Past H&A 3rd Down Conversion Max_Away_Team', 'Rolling 3 Past H&A 3rd Down Conversion Min_Away_Team', 'Previous H&A 3rd Down Conversions_Away_Team', 'Rolling 5 Past H&A 3rd Down Conversion Attempts_Away_Team', 'Rolling 5 Past H&A 3rd Down Conversion Attempts Avg_Away_Team', 'Rolling 5 Past H&A 3rd Down Conversion Attempts Max_Away_Team', 'Rolling 5 Past H&A 3rd Down Conversion Attempts Min_Away_Team', 'Rolling 3 Past H&A 3rd Down Conversion Attempts_Away_Team', 'Rolling 3 Past H&A 3rd Down Conversion Attempts Avg_Away_Team', 'Rolling 3 Past H&A 3rd Down Conversion Attempts Max_Away_Team', 'Rolling 3 Past H&A 3rd Down Conversion Attempts Min_Away_Team', 'Previous H&A 3rd Down Conversions Attempts_Away_Team', 'Rolling 5 Past H&A 3rd Down Conversion %_Away_Team', 'Rolling 5 Past H&A 3rd Down Conversion % Avg_Away_Team', 'Rolling 5 Past H&A 3rd Down Conversion % Max_Away_Team', 'Rolling 5 Past H&A 3rd Down Conversion % Min_Away_Team', 'Rolling 3 Past H&A 3rd Down Conversion %_Away_Team', 'Rolling 3 Past H&A 3rd Down Conversion % Avg_Away_Team', 'Rolling 3 Past H&A 3rd Down Conversion % Max_Away_Team', 'Rolling 3 Past H&A 3rd Down Conversion % Min_Away_Team', 'Previous H&A 3rd Down Conversions %_Away_Team', 'Rolling 5 Past H&A 4th Down Conversions_Away_Team', 'Rolling 5 Past H&A 4th Down Conversions Avg_Away_Team', 'Rolling 5 Past H&A 4th Down Conversions Max_Away_Team', 'Rolling 5 Past H&A 4th Down Conversions Min_Away_Team', 'Rolling 3 Past H&A 4th Down Conversions_Away_Team', 'Rolling 3 Past H&A 4th Down Conversions Avg_Away_Team', 'Rolling 3 Past H&A 4th Down Conversions Max_Away_Team', 'Rolling 3 Past H&A 4th Down Conversions Min_Away_Team', 'Previous H&A 4th Down Conversions_Away_Team', 'Rolling 5 Past H&A 4th Down Conversion Attempts_Away_Team', 'Rolling 5 Past H&A 4th Down Conversion Attempts Avg_Away_Team', 'Rolling 5 Past H&A 4th Down Conversion Attempts Max_Away_Team', 'Rolling 5 Past H&A 4th Down Conversion Attempts Min_Away_Team', 'Rolling 3 Past H&A 4th Down Conversion Attempts_Away_Team', 'Rolling 3 Past H&A 4th Down Conversion Attempts Avg_Away_Team', 'Rolling 3 Past H&A 4th Down Conversion Attempts Max_Away_Team', 'Rolling 3 Past H&A 4th Down Conversion Attempts Min_Away_Team', 'Previous H&A 4th Down Conversions Attempts_Away_Team', 'Rolling 5 Past H&A 4th Down Conversion %_Away_Team', 'Rolling 5 Past H&A 4th Down Conversion % Avg_Away_Team', 'Rolling 5 Past H&A 4th Down Conversion % Max_Away_Team', 'Rolling 5 Past H&A 4th Down Conversion % Min_Away_Team', 'Rolling 3 Past H&A 4th Down Conversion %_Away_Team', 'Rolling 3 Past H&A 4th Down Conversion % Avg_Away_Team', 'Rolling 3 Past H&A 4th Down Conversion % Max_Away_Team', 'Rolling 3 Past H&A 4th Down Conversion % Min_Away_Team', 'Previous H&A 4th Down Conversions %_Away_Team', 'Rolling 5 Past H&A Completions_Away_Team', 'Rolling 5 Past H&A Completions Avg_Away_Team', 'Rolling 5 Past H&A Completions Max_Away_Team', 'Rolling 5 Past H&A Completions Min_Away_Team', 'Rolling 3 Past H&A Completions_Away_Team', 'Rolling 3 Past H&A Completions Avg_Away_Team', 'Rolling 3 Past H&A Completions Max_Away_Team', 'Rolling 3 Past H&A Completions Min_Away_Team', 'Previous H&A Completions_Away_Team', 'Rolling 5 Past H&A Completion Attempts_Away_Team', 'Rolling 5 Past H&A Completion Attempts Avg_Away_Team', 'Rolling 5 Past H&A Completion Attempts Max_Away_Team', 'Rolling 5 Past H&A Completion Attempts Min_Away_Team', 'Rolling 3 Past H&A Completion Attempts_Away_Team', 'Rolling 3 Past H&A Completion Attempts Avg_Away_Team', 'Rolling 3 Past H&A Completion Attempts Max_Away_Team', 'Rolling 3 Past H&A Completion Attempts Min_Away_Team', 'Previous H&A Completion Attempts_Away_Team', 'Rolling 5 Past H&A Completion %_Away_Team', 'Rolling 5 Past H&A Completion % Avg_Away_Team', 'Rolling 5 Past H&A Completion % Max_Away_Team', 'Rolling 5 Past H&A Completion % Min_Away_Team', 'Rolling 3 Past H&A Completion %_Away_Team', 'Rolling 3 Past H&A Completion % Avg_Away_Team', 'Rolling 3 Past H&A Completion % Max_Away_Team', 'Rolling 3 Past H&A Completion % Min_Away_Team', 'Previous H&A Completion %_Away_Team', 'Rolling 5 Past H&A Total Yards_Away_Team', 'Rolling 5 Past H&A Total Yards Avg_Away_Team', 'Rolling 5 Past H&A Total Yards Max_Away_Team', 'Rolling 5 Past H&A Total Yards Min_Away_Team', 'Rolling 3 Past H&A Total Yards_Away_Team', 'Rolling 3 Past H&A Total Yards Avg_Away_Team', 'Rolling 3 Past H&A Total Yards Max_Away_Team', 'Rolling 3 Past H&A Total Yards Min_Away_Team', 'Previous H&A Total Yards_Away_Team', 'Rolling 5 Past H&A Passing_Away_Team', 'Rolling 5 Past H&A Passing Avg_Away_Team', 'Rolling 5 Past H&A Passing Max_Away_Team', 'Rolling 5 Past H&A Passing Min_Away_Team', 'Rolling 3 Past H&A Passing_Away_Team', 'Rolling 3 Past H&A Passing Avg_Away_Team', 'Rolling 3 Past H&A Passing Max_Away_Team', 'Rolling 3 Past H&A Passing Min_Away_Team', 'Previous H&A Passing_Away_Team', 'Rolling 5 Past H&A Yards per Pass_Away_Team', 'Rolling 5 Past H&A Yards per Pass Avg_Away_Team', 'Rolling 5 Past H&A Yards per Pass Max_Away_Team', 'Rolling 5 Past H&A Yards per Pass Min_Away_Team', 'Rolling 3 Past H&A Yards per Pass_Away_Team', 'Rolling 3 Past H&A Yards per Pass Avg_Away_Team', 'Rolling 3 Past H&A Yards per Pass Max_Away_Team', 'Rolling 3 Past H&A Yards per Pass Min_Away_Team', 'Previous H&A Yards per Pass_Away_Team', 'Rolling 5 Past H&A Rushing_Away_Team', 'Rolling 5 Past H&A Rushing Avg_Away_Team', 'Rolling 5 Past H&A Rushing Max_Away_Team', 'Rolling 5 Past H&A Rushing Min_Away_Team', 'Rolling 3 Past H&A Rushing_Away_Team', 'Rolling 3 Past H&A Rushing Avg_Away_Team', 'Rolling 3 Past H&A Rushing Max_Away_Team', 'Rolling 3 Past H&A Rushing Min_Away_Team', 'Previous H&A Rushing_Away_Team', 'Rolling 5 Past H&A Rushing Attempts_Away_Team', 'Rolling 5 Past H&A Rushing Attempts Avg_Away_Team', 'Rolling 5 Past H&A Rushing Attempts Max_Away_Team', 'Rolling 5 Past H&A Rushing Attempts Min_Away_Team', 'Rolling 3 Past H&A Rushing Attempts_Away_Team', 'Rolling 3 Past H&A Rushing Attempts Avg_Away_Team', 'Rolling 3 Past H&A Rushing Attempts Max_Away_Team', 'Rolling 3 Past H&A Rushing Attempts Min_Away_Team', 'Previous H&A Rushing Attempts_Away_Team', 'Rolling 5 Past H&A Yards per Rush_Away_Team', 'Rolling 5 Past H&A Yards per Rush Avg_Away_Team', 'Rolling 5 Past H&A Yards per Rush Max_Away_Team', 'Rolling 5 Past H&A Yards per Rush Min_Away_Team', 'Rolling 3 Past H&A Yards per Rush_Away_Team', 'Rolling 3 Past H&A Yards per Rush Avg_Away_Team', 'Rolling 3 Past H&A Yards per Rush Max_Away_Team', 'Rolling 3 Past H&A Yards per Rush Min_Away_Team', 'Previous H&A Yards per Rush_Away_Team', 'Rolling 5 Past H&A Penalties_Away_Team', 'Rolling 5 Past H&A Penalties Avg_Away_Team', 'Rolling 5 Past H&A Penalties Max_Away_Team', 'Rolling 5 Past H&A Penalties Min_Away_Team', 'Rolling 3 Past H&A Penalties_Away_Team', 'Rolling 3 Past H&A Penalties Avg_Away_Team', 'Rolling 3 Past H&A Penalties Max_Away_Team', 'Rolling 3 Past H&A Penalties Min_Away_Team', 'Previous H&A Penalties_Away_Team', 'Rolling 5 Past H&A Penalty Yards_Away_Team', 'Rolling 5 Past H&A Penalty Yards Avg_Away_Team', 'Rolling 5 Past H&A Penalty Yards Max_Away_Team', 'Rolling 5 Past H&A Penalty Yards Min_Away_Team', 'Rolling 3 Past H&A Penalty Yards_Away_Team', 'Rolling 3 Past H&A Penalty Yards Avg_Away_Team', 'Rolling 3 Past H&A Penalty Yards Max_Away_Team', 'Rolling 3 Past H&A Penalty Yards Min_Away_Team', 'Previous H&A Penalty Yards_Away_Team', 'Rolling 5 Past H&A Yards per Penalty_Away_Team', 'Rolling 5 Past H&A Yards per Penalty Avg_Away_Team', 'Rolling 5 Past H&A Yards per Penalty Max_Away_Team', 'Rolling 5 Past H&A Yards per Penalty Min_Away_Team', 'Rolling 3 Past H&A Yards per Penalty_Away_Team', 'Rolling 3 Past H&A Yards per Penalty Avg_Away_Team', 'Rolling 3 Past H&A Yards per Penalty Max_Away_Team', 'Rolling 3 Past H&A Yards per Penalty Min_Away_Team', 'Previous H&A Yards per Penalty_Away_Team', 'Rolling 5 Past H&A Turnovers_Away_Team', 'Rolling 5 Past H&A Turnovers Avg_Away_Team', 'Rolling 5 Past H&A Turnovers Max_Away_Team', 'Rolling 5 Past H&A Turnovers Min_Away_Team', 'Rolling 3 Past H&A Turnovers_Away_Team', 'Rolling 3 Past H&A Turnovers Avg_Away_Team', 'Rolling 3 Past H&A Turnovers Max_Away_Team', 'Rolling 3 Past H&A Turnovers Min_Away_Team', 'Previous H&A Turnovers_Away_Team', 'Rolling 5 Past H&A Fumbles Lost_Away_Team', 'Rolling 5 Past H&A Fumbles Lost Avg_Away_Team', 'Rolling 5 Past H&A Fumbles Lost Max_Away_Team', 'Rolling 5 Past H&A Fumbles Lost Min_Away_Team', 'Rolling 3 Past H&A Fumbles Lost_Away_Team', 'Rolling 3 Past H&A Fumbles Lost Avg_Away_Team', 'Rolling 3 Past H&A Fumbles Lost Max_Away_Team', 'Rolling 3 Past H&A Fumbles Lost Min_Away_Team', 'Previous H&A Fumbles Lost_Away_Team', 'Rolling 5 Past H&A Interceptions Thrown_Away_Team', 'Rolling 5 Past H&A Interceptions Thrown Avg_Away_Team', 'Rolling 5 Past H&A Interceptions Thrown Max_Away_Team', 'Rolling 5 Past H&A Interceptions Thrown Min_Away_Team', 'Rolling 3 Past H&A Interceptions Thrown_Away_Team', 'Rolling 3 Past H&A Interceptions Thrown Avg_Away_Team', 'Rolling 3 Past H&A Interceptions Thrown Max_Away_Team', 'Rolling 3 Past H&A Interceptions Thrown Min_Away_Team', 'Previous H&A Interceptions Thrown_Away_Team', 'Rolling 5 Past H&A Possession Time_Away_Team', 'Rolling 5 Past H&A Possession Time Avg_Away_Team', 'Rolling 5 Past H&A Possession Time Max_Away_Team', 'Rolling 5 Past H&A Possession Time Min_Away_Team', 'Rolling 3 Past H&A Possession Time_Away_Team', 'Rolling 3 Past H&A Possession Time Avg_Away_Team', 'Rolling 3 Past H&A Possession Time Max_Away_Team', 'Rolling 3 Past H&A Possession Time Min_Away_Team', 'Previous H&A Possession Time_Away_Team', 'Rolling 5 Past H&A Q1 Score_Away_Team', 'Rolling 5 Past H&A Q1 Score Avg_Away_Team', 'Rolling 5 Past H&A Q1 Score Max_Away_Team', 'Rolling 5 Past H&A Q1 Score Min_Away_Team', 'Rolling 3 Past H&A Q1 Score_Away_Team', 'Rolling 3 Past H&A Q1 Score Avg_Away_Team', 'Rolling 3 Past H&A Q1 Score Max_Away_Team', 'Rolling 3 Past H&A Q1 Score Min_Away_Team', 'Previous H&A Q1 Score_Away_Team', 'Rolling 5 Past H&A Q2 Score_Away_Team', 'Rolling 5 Past H&A Q2 Score Avg_Away_Team', 'Rolling 5 Past H&A Q2 Score Max_Away_Team', 'Rolling 5 Past H&A Q2 Score Min_Away_Team', 'Rolling 3 Past H&A Q2 Score_Away_Team', 'Rolling 3 Past H&A Q2 Score Avg_Away_Team', 'Rolling 3 Past H&A Q2 Score Max_Away_Team', 'Rolling 3 Past H&A Q2 Score Min_Away_Team', 'Previous H&A Q2 Score_Away_Team', 'Rolling 5 Past H&A Q3 Score_Away_Team', 'Rolling 5 Past H&A Q3 Score Avg_Away_Team', 'Rolling 5 Past H&A Q3 Score Max_Away_Team', 'Rolling 5 Past H&A Q3 Score Min_Away_Team', 'Rolling 3 Past H&A Q3 Score_Away_Team', 'Rolling 3 Past H&A Q3 Score Avg_Away_Team', 'Rolling 3 Past H&A Q3 Score Max_Away_Team', 'Rolling 3 Past H&A Q3 Score Min_Away_Team', 'Previous H&A Q3 Score_Away_Team', 'Rolling 5 Past H&A Q4 Score_Away_Team', 'Rolling 5 Past H&A Q4 Score Avg_Away_Team', 'Rolling 5 Past H&A Q4 Score Max_Away_Team', 'Rolling 5 Past H&A Q4 Score Min_Away_Team', 'Rolling 3 Past H&A Q4 Score_Away_Team', 'Rolling 3 Past H&A Q4 Score Avg_Away_Team', 'Rolling 3 Past H&A Q4 Score Max_Away_Team', 'Rolling 3 Past H&A Q4 Score Min_Away_Team', 'Previous H&A Q4 Score_Away_Team', 'Rolling 5 Past H&A Total Odds_Away_Team', 'Rolling 5 Past H&A Total Odds Avg_Away_Team', 'Rolling 5 Past H&A Total Odds Max_Away_Team', 'Rolling 5 Past H&A Total Odds Min_Away_Team', 'Rolling 3 Past H&A Total Odds_Away_Team', 'Rolling 3 Past H&A Total Odds Avg_Away_Team', 'Rolling 3 Past H&A Total Odds Max_Away_Team', 'Rolling 3 Past H&A Total Odds Min_Away_Team', 'Previous H&A Total Odds_Away_Team', 'Rolling 5 Past H&A Spread_Away_Team', 'Rolling 5 Past H&A Spread Avg_Away_Team', 'Rolling 5 Past H&A Spread Max_Away_Team', 'Rolling 5 Past H&A Spread Min_Away_Team', 'Rolling 3 Past H&A Spread_Away_Team', 'Rolling 3 Past H&A Spread Avg_Away_Team', 'Rolling 3 Past H&A Spread Max_Away_Team', 'Rolling 3 Past H&A Spread Min_Away_Team', 'Previous H&A Spread_Away_Team', 'Rolling 5 Past H&A Ranking_Away_Team', 'Rolling 5 Past H&A Ranking Avg_Away_Team', 'Rolling 5 Past H&A Ranking Max_Away_Team', 'Rolling 5 Past H&A Ranking Min_Away_Team', 'Rolling 3 Past H&A Ranking_Away_Team', 'Rolling 3 Past H&A Ranking Avg_Away_Team', 'Rolling 3 Past H&A Ranking Max_Away_Team', 'Rolling 3 Past H&A Ranking Min_Away_Team', 'Previous H&A Ranking_Away_Team', 'Rolling 5 Past H&A ATS Win_Away_Team', 'Rolling 5 Past H&A ATS Win Avg_Away_Team', 'Rolling 5 Past H&A ATS Win Max_Away_Team', 'Rolling 5 Past H&A ATS Win Min_Away_Team', 'Rolling 3 Past H&A ATS Win_Away_Team', 'Rolling 3 Past H&A ATS Win Avg_Away_Team', 'Rolling 3 Past H&A ATS Win Max_Away_Team', 'Rolling 3 Past H&A ATS Win Min_Away_Team', 'Previous H&A ATS Win_Away_Team', 'Rolling 5 Past H&A ATS Loss_Away_Team', 'Rolling 5 Past H&A ATS Loss Avg_Away_Team', 'Rolling 5 Past H&A ATS Loss Max_Away_Team', 'Rolling 5 Past H&A ATS Loss Min_Away_Team', 'Rolling 3 Past H&A ATS Loss_Away_Team', 'Rolling 3 Past H&A ATS Loss Avg_Away_Team', 'Rolling 3 Past H&A ATS Loss Max_Away_Team', 'Rolling 3 Past H&A ATS Loss Min_Away_Team', 'Previous H&A ATS Loss_Away_Team', 'Rolling 5 Past H&A ATS Push_Away_Team', 'Rolling 5 Past H&A ATS Push Avg_Away_Team', 'Rolling 5 Past H&A ATS Push Max_Away_Team', 'Rolling 5 Past H&A ATS Push Min_Away_Team', 'Rolling 3 Past H&A ATS Push_Away_Team', 'Rolling 3 Past H&A ATS Push Avg_Away_Team', 'Rolling 3 Past H&A ATS Push Max_Away_Team', 'Rolling 3 Past H&A ATS Push Min_Away_Team', 'Previous H&A ATS Push_Away_Team', 'Rolling 5 Past H&A Over Odds_Away_Team', 'Rolling 5 Past H&A Over Odds Avg_Away_Team', 'Rolling 5 Past H&A Over Odds Max_Away_Team', 'Rolling 5 Past H&A Over Odds Min_Away_Team', 'Rolling 3 Past H&A Over Odds_Away_Team', 'Rolling 3 Past H&A Over Oddss Avg_Away_Team', 'Rolling 3 Past H&A Over OddsMax_Away_Team', 'Rolling 3 Past H&A Over Odds Min_Away_Team', 'Previous H&A Over Odds_Away_Team', 'Rolling 5 Past H&A Under Odds_Away_Team', 'Rolling 5 Past H&A Under Odds Avg_Away_Team', 'Rolling 5 Past H&A Under Odds Max_Away_Team', 'Rolling 5 Past H&A Under Odds Min_Away_Team', 'Rolling 3 Past H&A Under Odds_Away_Team', 'Rolling 3 Past H&A Under Oddss Avg_Away_Team', 'Rolling 3 Past H&A Under OddsMax_Away_Team', 'Rolling 3 Past H&A Under Odds Min_Away_Team', 'Previous H&A Under Odds_Away_Team', 'Rolling 5 Past H&A Push Odds_Away_Team', 'Rolling 5 Past H&A Push Odds Avg_Away_Team', 'Rolling 5 Past H&A Push Odds Max_Away_Team', 'Rolling 5 Past H&A Push Odds Min_Away_Team', 'Rolling 3 Past H&A Push Odds_Away_Team', 'Rolling 3 Past H&A Push Oddss Avg_Away_Team', 'Rolling 3 Past H&A Push OddsMax_Away_Team', 'Rolling 3 Past H&A Push Odds Min_Away_Team', 'Previous H&A Push Odds_Away_Team', 'H_Ranking Bin_Group', 'A_Ranking Bin_Group']\n"
     ]
    }
   ],
   "source": [
    "print(column_list)"
   ]
  },
  {
   "cell_type": "code",
   "execution_count": 17,
   "id": "f311f005",
   "metadata": {},
   "outputs": [],
   "source": [
    "features = df[column_list]"
   ]
  },
  {
   "cell_type": "code",
   "execution_count": 18,
   "id": "a39561bb",
   "metadata": {},
   "outputs": [
    {
     "ename": "ValueError",
     "evalue": "could not convert string to float: 'Ole Miss'",
     "output_type": "error",
     "traceback": [
      "\u001b[0;31m---------------------------------------------------------------------------\u001b[0m",
      "\u001b[0;31mValueError\u001b[0m                                Traceback (most recent call last)",
      "\u001b[0;32m<ipython-input-18-b93025a241ac>\u001b[0m in \u001b[0;36m<module>\u001b[0;34m\u001b[0m\n\u001b[0;32m----> 1\u001b[0;31m \u001b[0mscaler\u001b[0m \u001b[0;34m=\u001b[0m \u001b[0mStandardScaler\u001b[0m\u001b[0;34m(\u001b[0m\u001b[0;34m)\u001b[0m\u001b[0;34m.\u001b[0m\u001b[0mfit\u001b[0m\u001b[0;34m(\u001b[0m\u001b[0mfeatures\u001b[0m\u001b[0;34m.\u001b[0m\u001b[0mvalues\u001b[0m\u001b[0;34m)\u001b[0m\u001b[0;34m\u001b[0m\u001b[0;34m\u001b[0m\u001b[0m\n\u001b[0m\u001b[1;32m      2\u001b[0m \u001b[0mfeatures\u001b[0m \u001b[0;34m=\u001b[0m \u001b[0mscaler\u001b[0m\u001b[0;34m.\u001b[0m\u001b[0mtransform\u001b[0m\u001b[0;34m(\u001b[0m\u001b[0mfeatures\u001b[0m\u001b[0;34m.\u001b[0m\u001b[0mvalues\u001b[0m\u001b[0;34m)\u001b[0m\u001b[0;34m\u001b[0m\u001b[0;34m\u001b[0m\u001b[0m\n\u001b[1;32m      3\u001b[0m \u001b[0mscaled_df\u001b[0m \u001b[0;34m=\u001b[0m \u001b[0mpd\u001b[0m\u001b[0;34m.\u001b[0m\u001b[0mDataFrame\u001b[0m\u001b[0;34m(\u001b[0m\u001b[0mfeatures\u001b[0m\u001b[0;34m,\u001b[0m \u001b[0mcolumns\u001b[0m \u001b[0;34m=\u001b[0m \u001b[0mcolumn_list\u001b[0m\u001b[0;34m)\u001b[0m\u001b[0;34m\u001b[0m\u001b[0;34m\u001b[0m\u001b[0m\n",
      "\u001b[0;32m/opt/anaconda3/lib/python3.8/site-packages/sklearn/preprocessing/_data.py\u001b[0m in \u001b[0;36mfit\u001b[0;34m(self, X, y, sample_weight)\u001b[0m\n\u001b[1;32m    728\u001b[0m         \u001b[0;31m# Reset internal state before fitting\u001b[0m\u001b[0;34m\u001b[0m\u001b[0;34m\u001b[0m\u001b[0;34m\u001b[0m\u001b[0m\n\u001b[1;32m    729\u001b[0m         \u001b[0mself\u001b[0m\u001b[0;34m.\u001b[0m\u001b[0m_reset\u001b[0m\u001b[0;34m(\u001b[0m\u001b[0;34m)\u001b[0m\u001b[0;34m\u001b[0m\u001b[0;34m\u001b[0m\u001b[0m\n\u001b[0;32m--> 730\u001b[0;31m         \u001b[0;32mreturn\u001b[0m \u001b[0mself\u001b[0m\u001b[0;34m.\u001b[0m\u001b[0mpartial_fit\u001b[0m\u001b[0;34m(\u001b[0m\u001b[0mX\u001b[0m\u001b[0;34m,\u001b[0m \u001b[0my\u001b[0m\u001b[0;34m,\u001b[0m \u001b[0msample_weight\u001b[0m\u001b[0;34m)\u001b[0m\u001b[0;34m\u001b[0m\u001b[0;34m\u001b[0m\u001b[0m\n\u001b[0m\u001b[1;32m    731\u001b[0m \u001b[0;34m\u001b[0m\u001b[0m\n\u001b[1;32m    732\u001b[0m     \u001b[0;32mdef\u001b[0m \u001b[0mpartial_fit\u001b[0m\u001b[0;34m(\u001b[0m\u001b[0mself\u001b[0m\u001b[0;34m,\u001b[0m \u001b[0mX\u001b[0m\u001b[0;34m,\u001b[0m \u001b[0my\u001b[0m\u001b[0;34m=\u001b[0m\u001b[0;32mNone\u001b[0m\u001b[0;34m,\u001b[0m \u001b[0msample_weight\u001b[0m\u001b[0;34m=\u001b[0m\u001b[0;32mNone\u001b[0m\u001b[0;34m)\u001b[0m\u001b[0;34m:\u001b[0m\u001b[0;34m\u001b[0m\u001b[0;34m\u001b[0m\u001b[0m\n",
      "\u001b[0;32m/opt/anaconda3/lib/python3.8/site-packages/sklearn/preprocessing/_data.py\u001b[0m in \u001b[0;36mpartial_fit\u001b[0;34m(self, X, y, sample_weight)\u001b[0m\n\u001b[1;32m    764\u001b[0m         \"\"\"\n\u001b[1;32m    765\u001b[0m         \u001b[0mfirst_call\u001b[0m \u001b[0;34m=\u001b[0m \u001b[0;32mnot\u001b[0m \u001b[0mhasattr\u001b[0m\u001b[0;34m(\u001b[0m\u001b[0mself\u001b[0m\u001b[0;34m,\u001b[0m \u001b[0;34m\"n_samples_seen_\"\u001b[0m\u001b[0;34m)\u001b[0m\u001b[0;34m\u001b[0m\u001b[0;34m\u001b[0m\u001b[0m\n\u001b[0;32m--> 766\u001b[0;31m         X = self._validate_data(X, accept_sparse=('csr', 'csc'),\n\u001b[0m\u001b[1;32m    767\u001b[0m                                 \u001b[0mestimator\u001b[0m\u001b[0;34m=\u001b[0m\u001b[0mself\u001b[0m\u001b[0;34m,\u001b[0m \u001b[0mdtype\u001b[0m\u001b[0;34m=\u001b[0m\u001b[0mFLOAT_DTYPES\u001b[0m\u001b[0;34m,\u001b[0m\u001b[0;34m\u001b[0m\u001b[0;34m\u001b[0m\u001b[0m\n\u001b[1;32m    768\u001b[0m                                 force_all_finite='allow-nan', reset=first_call)\n",
      "\u001b[0;32m/opt/anaconda3/lib/python3.8/site-packages/sklearn/base.py\u001b[0m in \u001b[0;36m_validate_data\u001b[0;34m(self, X, y, reset, validate_separately, **check_params)\u001b[0m\n\u001b[1;32m    419\u001b[0m             \u001b[0mout\u001b[0m \u001b[0;34m=\u001b[0m \u001b[0mX\u001b[0m\u001b[0;34m\u001b[0m\u001b[0;34m\u001b[0m\u001b[0m\n\u001b[1;32m    420\u001b[0m         \u001b[0;32melif\u001b[0m \u001b[0misinstance\u001b[0m\u001b[0;34m(\u001b[0m\u001b[0my\u001b[0m\u001b[0;34m,\u001b[0m \u001b[0mstr\u001b[0m\u001b[0;34m)\u001b[0m \u001b[0;32mand\u001b[0m \u001b[0my\u001b[0m \u001b[0;34m==\u001b[0m \u001b[0;34m'no_validation'\u001b[0m\u001b[0;34m:\u001b[0m\u001b[0;34m\u001b[0m\u001b[0;34m\u001b[0m\u001b[0m\n\u001b[0;32m--> 421\u001b[0;31m             \u001b[0mX\u001b[0m \u001b[0;34m=\u001b[0m \u001b[0mcheck_array\u001b[0m\u001b[0;34m(\u001b[0m\u001b[0mX\u001b[0m\u001b[0;34m,\u001b[0m \u001b[0;34m**\u001b[0m\u001b[0mcheck_params\u001b[0m\u001b[0;34m)\u001b[0m\u001b[0;34m\u001b[0m\u001b[0;34m\u001b[0m\u001b[0m\n\u001b[0m\u001b[1;32m    422\u001b[0m             \u001b[0mout\u001b[0m \u001b[0;34m=\u001b[0m \u001b[0mX\u001b[0m\u001b[0;34m\u001b[0m\u001b[0;34m\u001b[0m\u001b[0m\n\u001b[1;32m    423\u001b[0m         \u001b[0;32melse\u001b[0m\u001b[0;34m:\u001b[0m\u001b[0;34m\u001b[0m\u001b[0;34m\u001b[0m\u001b[0m\n",
      "\u001b[0;32m/opt/anaconda3/lib/python3.8/site-packages/sklearn/utils/validation.py\u001b[0m in \u001b[0;36minner_f\u001b[0;34m(*args, **kwargs)\u001b[0m\n\u001b[1;32m     61\u001b[0m             \u001b[0mextra_args\u001b[0m \u001b[0;34m=\u001b[0m \u001b[0mlen\u001b[0m\u001b[0;34m(\u001b[0m\u001b[0margs\u001b[0m\u001b[0;34m)\u001b[0m \u001b[0;34m-\u001b[0m \u001b[0mlen\u001b[0m\u001b[0;34m(\u001b[0m\u001b[0mall_args\u001b[0m\u001b[0;34m)\u001b[0m\u001b[0;34m\u001b[0m\u001b[0;34m\u001b[0m\u001b[0m\n\u001b[1;32m     62\u001b[0m             \u001b[0;32mif\u001b[0m \u001b[0mextra_args\u001b[0m \u001b[0;34m<=\u001b[0m \u001b[0;36m0\u001b[0m\u001b[0;34m:\u001b[0m\u001b[0;34m\u001b[0m\u001b[0;34m\u001b[0m\u001b[0m\n\u001b[0;32m---> 63\u001b[0;31m                 \u001b[0;32mreturn\u001b[0m \u001b[0mf\u001b[0m\u001b[0;34m(\u001b[0m\u001b[0;34m*\u001b[0m\u001b[0margs\u001b[0m\u001b[0;34m,\u001b[0m \u001b[0;34m**\u001b[0m\u001b[0mkwargs\u001b[0m\u001b[0;34m)\u001b[0m\u001b[0;34m\u001b[0m\u001b[0;34m\u001b[0m\u001b[0m\n\u001b[0m\u001b[1;32m     64\u001b[0m \u001b[0;34m\u001b[0m\u001b[0m\n\u001b[1;32m     65\u001b[0m             \u001b[0;31m# extra_args > 0\u001b[0m\u001b[0;34m\u001b[0m\u001b[0;34m\u001b[0m\u001b[0;34m\u001b[0m\u001b[0m\n",
      "\u001b[0;32m/opt/anaconda3/lib/python3.8/site-packages/sklearn/utils/validation.py\u001b[0m in \u001b[0;36mcheck_array\u001b[0;34m(array, accept_sparse, accept_large_sparse, dtype, order, copy, force_all_finite, ensure_2d, allow_nd, ensure_min_samples, ensure_min_features, estimator)\u001b[0m\n\u001b[1;32m    614\u001b[0m                     \u001b[0marray\u001b[0m \u001b[0;34m=\u001b[0m \u001b[0marray\u001b[0m\u001b[0;34m.\u001b[0m\u001b[0mastype\u001b[0m\u001b[0;34m(\u001b[0m\u001b[0mdtype\u001b[0m\u001b[0;34m,\u001b[0m \u001b[0mcasting\u001b[0m\u001b[0;34m=\u001b[0m\u001b[0;34m\"unsafe\"\u001b[0m\u001b[0;34m,\u001b[0m \u001b[0mcopy\u001b[0m\u001b[0;34m=\u001b[0m\u001b[0;32mFalse\u001b[0m\u001b[0;34m)\u001b[0m\u001b[0;34m\u001b[0m\u001b[0;34m\u001b[0m\u001b[0m\n\u001b[1;32m    615\u001b[0m                 \u001b[0;32melse\u001b[0m\u001b[0;34m:\u001b[0m\u001b[0;34m\u001b[0m\u001b[0;34m\u001b[0m\u001b[0m\n\u001b[0;32m--> 616\u001b[0;31m                     \u001b[0marray\u001b[0m \u001b[0;34m=\u001b[0m \u001b[0mnp\u001b[0m\u001b[0;34m.\u001b[0m\u001b[0masarray\u001b[0m\u001b[0;34m(\u001b[0m\u001b[0marray\u001b[0m\u001b[0;34m,\u001b[0m \u001b[0morder\u001b[0m\u001b[0;34m=\u001b[0m\u001b[0morder\u001b[0m\u001b[0;34m,\u001b[0m \u001b[0mdtype\u001b[0m\u001b[0;34m=\u001b[0m\u001b[0mdtype\u001b[0m\u001b[0;34m)\u001b[0m\u001b[0;34m\u001b[0m\u001b[0;34m\u001b[0m\u001b[0m\n\u001b[0m\u001b[1;32m    617\u001b[0m             \u001b[0;32mexcept\u001b[0m \u001b[0mComplexWarning\u001b[0m \u001b[0;32mas\u001b[0m \u001b[0mcomplex_warning\u001b[0m\u001b[0;34m:\u001b[0m\u001b[0;34m\u001b[0m\u001b[0;34m\u001b[0m\u001b[0m\n\u001b[1;32m    618\u001b[0m                 raise ValueError(\"Complex data not supported\\n\"\n",
      "\u001b[0;32m/opt/anaconda3/lib/python3.8/site-packages/numpy/core/_asarray.py\u001b[0m in \u001b[0;36masarray\u001b[0;34m(a, dtype, order, like)\u001b[0m\n\u001b[1;32m    100\u001b[0m         \u001b[0;32mreturn\u001b[0m \u001b[0m_asarray_with_like\u001b[0m\u001b[0;34m(\u001b[0m\u001b[0ma\u001b[0m\u001b[0;34m,\u001b[0m \u001b[0mdtype\u001b[0m\u001b[0;34m=\u001b[0m\u001b[0mdtype\u001b[0m\u001b[0;34m,\u001b[0m \u001b[0morder\u001b[0m\u001b[0;34m=\u001b[0m\u001b[0morder\u001b[0m\u001b[0;34m,\u001b[0m \u001b[0mlike\u001b[0m\u001b[0;34m=\u001b[0m\u001b[0mlike\u001b[0m\u001b[0;34m)\u001b[0m\u001b[0;34m\u001b[0m\u001b[0;34m\u001b[0m\u001b[0m\n\u001b[1;32m    101\u001b[0m \u001b[0;34m\u001b[0m\u001b[0m\n\u001b[0;32m--> 102\u001b[0;31m     \u001b[0;32mreturn\u001b[0m \u001b[0marray\u001b[0m\u001b[0;34m(\u001b[0m\u001b[0ma\u001b[0m\u001b[0;34m,\u001b[0m \u001b[0mdtype\u001b[0m\u001b[0;34m,\u001b[0m \u001b[0mcopy\u001b[0m\u001b[0;34m=\u001b[0m\u001b[0;32mFalse\u001b[0m\u001b[0;34m,\u001b[0m \u001b[0morder\u001b[0m\u001b[0;34m=\u001b[0m\u001b[0morder\u001b[0m\u001b[0;34m)\u001b[0m\u001b[0;34m\u001b[0m\u001b[0;34m\u001b[0m\u001b[0m\n\u001b[0m\u001b[1;32m    103\u001b[0m \u001b[0;34m\u001b[0m\u001b[0m\n\u001b[1;32m    104\u001b[0m \u001b[0;34m\u001b[0m\u001b[0m\n",
      "\u001b[0;31mValueError\u001b[0m: could not convert string to float: 'Ole Miss'"
     ]
    }
   ],
   "source": [
    "scaler = StandardScaler().fit(features.values)\n",
    "features = scaler.transform(features.values)\n",
    "scaled_df = pd.DataFrame(features, columns = column_list)"
   ]
  },
  {
   "cell_type": "code",
   "execution_count": null,
   "id": "4c8fce49",
   "metadata": {},
   "outputs": [],
   "source": [
    "df.head()"
   ]
  },
  {
   "cell_type": "code",
   "execution_count": null,
   "id": "d3f8896d",
   "metadata": {},
   "outputs": [],
   "source": [
    "scaled_df.head()"
   ]
  },
  {
   "cell_type": "markdown",
   "id": "498b1b24",
   "metadata": {},
   "source": [
    "# Removing Outliers"
   ]
  },
  {
   "cell_type": "code",
   "execution_count": null,
   "id": "5c18e11b",
   "metadata": {},
   "outputs": [],
   "source": [
    "#mean=scaled_df['Rolling 5 Past Away Score'].mean()\n",
    "#std=scaled_df['Rolling 5 Past Away Score'].std()\n",
    "#cut_off= std *3\n",
    "\n",
    "#lower,upper = mean - cut_off, mean + cut_off\n",
    "#outlier_free_scaled_df = scaled_df[(scaled_df['Rolling 5 Past Away Score'] < upper) & (scaled_df['Rolling 5 Past Away Score'] > lower)]"
   ]
  },
  {
   "cell_type": "code",
   "execution_count": null,
   "id": "e142f3ff",
   "metadata": {},
   "outputs": [],
   "source": [
    "#outlier_free_scaled_df.head()"
   ]
  },
  {
   "cell_type": "code",
   "execution_count": null,
   "id": "8a54e1b1",
   "metadata": {},
   "outputs": [],
   "source": [
    "#outlier_free_scaled_df.shape"
   ]
  },
  {
   "cell_type": "code",
   "execution_count": null,
   "id": "3dfa1e5e",
   "metadata": {},
   "outputs": [],
   "source": [
    "mean=0\n",
    "std=0\n",
    "cut_off=0\n",
    "lower=0\n",
    "upper=0\n",
    "\n"
   ]
  },
  {
   "cell_type": "code",
   "execution_count": null,
   "id": "0a9a8625",
   "metadata": {},
   "outputs": [],
   "source": [
    "for i in column_list:\n",
    "    mean = scaled_df[i].mean()\n",
    "    std  = scaled_df[i].std()\n",
    "    cut_off  = std *3\n",
    "    lower,upper = mean- cut_off, mean + cut_off\n",
    "    scaled_df = scaled_df[(scaled_df[i] < upper) & (scaled_df[i] > lower)]"
   ]
  },
  {
   "cell_type": "code",
   "execution_count": null,
   "id": "251e4437",
   "metadata": {},
   "outputs": [],
   "source": [
    "scaled_df.shape"
   ]
  },
  {
   "cell_type": "code",
   "execution_count": null,
   "id": "83b1f093",
   "metadata": {},
   "outputs": [],
   "source": []
  },
  {
   "cell_type": "markdown",
   "id": "ca99a1b5",
   "metadata": {},
   "source": [
    "# Using Get_dummies for team names"
   ]
  },
  {
   "cell_type": "code",
   "execution_count": null,
   "id": "3b7b6b7f",
   "metadata": {},
   "outputs": [],
   "source": [
    "df = pd.get_dummies(df,columns=['Home Team'],drop_first=True,prefix='H')"
   ]
  },
  {
   "cell_type": "code",
   "execution_count": null,
   "id": "81ab50f7",
   "metadata": {},
   "outputs": [],
   "source": [
    "df = pd.get_dummies(df,columns=['Away Team'],drop_first=True,prefix='A')"
   ]
  }
 ],
 "metadata": {
  "kernelspec": {
   "display_name": "Python 3",
   "language": "python",
   "name": "python3"
  },
  "language_info": {
   "codemirror_mode": {
    "name": "ipython",
    "version": 3
   },
   "file_extension": ".py",
   "mimetype": "text/x-python",
   "name": "python",
   "nbconvert_exporter": "python",
   "pygments_lexer": "ipython3",
   "version": "3.8.8"
  }
 },
 "nbformat": 4,
 "nbformat_minor": 5
}
