{
 "cells": [
  {
   "cell_type": "markdown",
   "id": "a1c9f3bc",
   "metadata": {},
   "source": [
    "# Pre-Processing Stage"
   ]
  },
  {
   "cell_type": "markdown",
   "id": "9e004796",
   "metadata": {},
   "source": [
    "Below I completed the following pre-processing steps:\n",
    "\n",
    "*Created Target Variable (H Spread Outcome) - Did the home team win, lose, tie the spread?\n",
    "*Ran Correlation with Actual Home Score Values to determine the most correlated variables to use\n",
    "*Filtered the variables down to only the most correlated (above .25 correlation score)\n",
    "*Double checked the data to determine the amount of outliers for each column of data\n",
    "*Double checked the game distribution between teams (Home games and Away game matchups) to ensure even distribution\n",
    "*Dropped columns that may overcomplicate the model (Team name, Year, Date)\n",
    "*Ensured all final data was available at the start of each game\n",
    "*Setup Train_Test_Split in prepartion to start modeling. "
   ]
  },
  {
   "cell_type": "code",
   "execution_count": 1,
   "id": "3cd43298",
   "metadata": {},
   "outputs": [
    {
     "name": "stdout",
     "output_type": "stream",
     "text": [
      "Requirement already satisfied: pydotplus in /opt/anaconda3/lib/python3.8/site-packages (2.0.2)\r\n",
      "Requirement already satisfied: pyparsing>=2.0.1 in /opt/anaconda3/lib/python3.8/site-packages (from pydotplus) (2.4.7)\r\n"
     ]
    }
   ],
   "source": [
    "import pandas as pd\n",
    "import numpy as np\n",
    "from sklearn import tree, metrics\n",
    "from sklearn.model_selection import train_test_split\n",
    "import seaborn as sns\n",
    "import matplotlib.pyplot as plt\n",
    "from io import StringIO  \n",
    "from IPython.display import Image  \n",
    "!pip install pydotplus \n",
    "import pydotplus \n",
    "from sklearn.pipeline import make_pipeline\n",
    "from sklearn.impute import SimpleImputer\n",
    "from sklearn.feature_selection import SelectKBest, f_regression\n",
    "import datetime"
   ]
  },
  {
   "cell_type": "markdown",
   "id": "a3283ae9",
   "metadata": {},
   "source": [
    "# Dataset Overview / Remove Null Values "
   ]
  },
  {
   "cell_type": "code",
   "execution_count": 2,
   "id": "247de7b3",
   "metadata": {},
   "outputs": [],
   "source": [
    "df2 = pd.read_excel(r'/Users/markclampitt/Documents/Springboard/Capstone2/Data\\Upcoming_Final_Game_df.xlsx')"
   ]
  },
  {
   "cell_type": "code",
   "execution_count": 3,
   "id": "2b5d40c8",
   "metadata": {},
   "outputs": [
    {
     "data": {
      "text/plain": [
       "(977, 1593)"
      ]
     },
     "execution_count": 3,
     "metadata": {},
     "output_type": "execute_result"
    }
   ],
   "source": [
    "df2.shape"
   ]
  },
  {
   "cell_type": "markdown",
   "id": "5b7fb0b9",
   "metadata": {},
   "source": [
    "# Row 0 is the Georgia_Alabama Championship Game and will be used to test model once developed - thus no score entered. "
   ]
  },
  {
   "cell_type": "code",
   "execution_count": 4,
   "id": "2cad7e27",
   "metadata": {},
   "outputs": [
    {
     "data": {
      "text/html": [
       "<div>\n",
       "<style scoped>\n",
       "    .dataframe tbody tr th:only-of-type {\n",
       "        vertical-align: middle;\n",
       "    }\n",
       "\n",
       "    .dataframe tbody tr th {\n",
       "        vertical-align: top;\n",
       "    }\n",
       "\n",
       "    .dataframe thead th {\n",
       "        text-align: right;\n",
       "    }\n",
       "</style>\n",
       "<table border=\"1\" class=\"dataframe\">\n",
       "  <thead>\n",
       "    <tr style=\"text-align: right;\">\n",
       "      <th></th>\n",
       "      <th>Date</th>\n",
       "      <th>Year</th>\n",
       "      <th>Home Team</th>\n",
       "      <th>Home Team Ranking_x</th>\n",
       "      <th>Away Team</th>\n",
       "      <th>Away Team Ranking_x</th>\n",
       "      <th>Home Team Spread_x</th>\n",
       "      <th>Away Team Spread_x</th>\n",
       "      <th>Total_x</th>\n",
       "      <th>Home Score_x_x</th>\n",
       "      <th>...</th>\n",
       "      <th>Previous H&amp;A Under Odds_Away_Team</th>\n",
       "      <th>Rolling 5 Past H&amp;A Push Odds_Away_Team</th>\n",
       "      <th>Rolling 5 Past H&amp;A Push Odds Avg_Away_Team</th>\n",
       "      <th>Rolling 5 Past H&amp;A Push Odds Max_Away_Team</th>\n",
       "      <th>Rolling 5 Past H&amp;A Push Odds Min_Away_Team</th>\n",
       "      <th>Rolling 3 Past H&amp;A Push Odds_Away_Team</th>\n",
       "      <th>Rolling 3 Past H&amp;A Push Oddss Avg_Away_Team</th>\n",
       "      <th>Rolling 3 Past H&amp;A Push OddsMax_Away_Team</th>\n",
       "      <th>Rolling 3 Past H&amp;A Push Odds Min_Away_Team</th>\n",
       "      <th>Previous H&amp;A Push Odds_Away_Team</th>\n",
       "    </tr>\n",
       "  </thead>\n",
       "  <tbody>\n",
       "    <tr>\n",
       "      <th>0</th>\n",
       "      <td>2022-01-10</td>\n",
       "      <td>2022</td>\n",
       "      <td>Georgia</td>\n",
       "      <td>3</td>\n",
       "      <td>Alabama</td>\n",
       "      <td>1</td>\n",
       "      <td>-2.5</td>\n",
       "      <td>2.5</td>\n",
       "      <td>52.0</td>\n",
       "      <td>NaN</td>\n",
       "      <td>...</td>\n",
       "      <td>0.0</td>\n",
       "      <td>0.0</td>\n",
       "      <td>0.0</td>\n",
       "      <td>0.0</td>\n",
       "      <td>0.0</td>\n",
       "      <td>0.0</td>\n",
       "      <td>0.0</td>\n",
       "      <td>0.0</td>\n",
       "      <td>0.0</td>\n",
       "      <td>0.0</td>\n",
       "    </tr>\n",
       "    <tr>\n",
       "      <th>1</th>\n",
       "      <td>2021-12-04</td>\n",
       "      <td>2021</td>\n",
       "      <td>Alabama</td>\n",
       "      <td>3</td>\n",
       "      <td>Georgia</td>\n",
       "      <td>1</td>\n",
       "      <td>6.5</td>\n",
       "      <td>-6.5</td>\n",
       "      <td>49.0</td>\n",
       "      <td>41.0</td>\n",
       "      <td>...</td>\n",
       "      <td>0.0</td>\n",
       "      <td>0.0</td>\n",
       "      <td>0.0</td>\n",
       "      <td>0.0</td>\n",
       "      <td>0.0</td>\n",
       "      <td>0.0</td>\n",
       "      <td>0.0</td>\n",
       "      <td>0.0</td>\n",
       "      <td>0.0</td>\n",
       "      <td>0.0</td>\n",
       "    </tr>\n",
       "    <tr>\n",
       "      <th>2</th>\n",
       "      <td>2021-11-27</td>\n",
       "      <td>2021</td>\n",
       "      <td>LSU</td>\n",
       "      <td>99</td>\n",
       "      <td>Texas A&amp;M</td>\n",
       "      <td>15</td>\n",
       "      <td>6.5</td>\n",
       "      <td>-6.5</td>\n",
       "      <td>27.0</td>\n",
       "      <td>27.0</td>\n",
       "      <td>...</td>\n",
       "      <td>1.0</td>\n",
       "      <td>0.0</td>\n",
       "      <td>0.0</td>\n",
       "      <td>0.0</td>\n",
       "      <td>0.0</td>\n",
       "      <td>0.0</td>\n",
       "      <td>0.0</td>\n",
       "      <td>0.0</td>\n",
       "      <td>0.0</td>\n",
       "      <td>0.0</td>\n",
       "    </tr>\n",
       "    <tr>\n",
       "      <th>3</th>\n",
       "      <td>2021-11-27</td>\n",
       "      <td>2021</td>\n",
       "      <td>Auburn</td>\n",
       "      <td>99</td>\n",
       "      <td>Alabama</td>\n",
       "      <td>3</td>\n",
       "      <td>19.5</td>\n",
       "      <td>-19.5</td>\n",
       "      <td>55.5</td>\n",
       "      <td>22.0</td>\n",
       "      <td>...</td>\n",
       "      <td>0.0</td>\n",
       "      <td>0.0</td>\n",
       "      <td>0.0</td>\n",
       "      <td>0.0</td>\n",
       "      <td>0.0</td>\n",
       "      <td>0.0</td>\n",
       "      <td>0.0</td>\n",
       "      <td>0.0</td>\n",
       "      <td>0.0</td>\n",
       "      <td>0.0</td>\n",
       "    </tr>\n",
       "    <tr>\n",
       "      <th>4</th>\n",
       "      <td>2021-11-27</td>\n",
       "      <td>2021</td>\n",
       "      <td>Vanderbilt</td>\n",
       "      <td>99</td>\n",
       "      <td>Tennessee</td>\n",
       "      <td>99</td>\n",
       "      <td>31.5</td>\n",
       "      <td>-31.5</td>\n",
       "      <td>63.5</td>\n",
       "      <td>21.0</td>\n",
       "      <td>...</td>\n",
       "      <td>0.0</td>\n",
       "      <td>0.0</td>\n",
       "      <td>0.0</td>\n",
       "      <td>0.0</td>\n",
       "      <td>0.0</td>\n",
       "      <td>0.0</td>\n",
       "      <td>0.0</td>\n",
       "      <td>0.0</td>\n",
       "      <td>0.0</td>\n",
       "      <td>0.0</td>\n",
       "    </tr>\n",
       "  </tbody>\n",
       "</table>\n",
       "<p>5 rows × 1593 columns</p>\n",
       "</div>"
      ],
      "text/plain": [
       "        Date  Year   Home Team  Home Team Ranking_x  Away Team  \\\n",
       "0 2022-01-10  2022     Georgia                    3    Alabama   \n",
       "1 2021-12-04  2021     Alabama                    3    Georgia   \n",
       "2 2021-11-27  2021         LSU                   99  Texas A&M   \n",
       "3 2021-11-27  2021      Auburn                   99    Alabama   \n",
       "4 2021-11-27  2021  Vanderbilt                   99  Tennessee   \n",
       "\n",
       "   Away Team Ranking_x  Home Team Spread_x  Away Team Spread_x  Total_x  \\\n",
       "0                    1                -2.5                 2.5     52.0   \n",
       "1                    1                 6.5                -6.5     49.0   \n",
       "2                   15                 6.5                -6.5     27.0   \n",
       "3                    3                19.5               -19.5     55.5   \n",
       "4                   99                31.5               -31.5     63.5   \n",
       "\n",
       "   Home Score_x_x  ...  Previous H&A Under Odds_Away_Team  \\\n",
       "0             NaN  ...                                0.0   \n",
       "1            41.0  ...                                0.0   \n",
       "2            27.0  ...                                1.0   \n",
       "3            22.0  ...                                0.0   \n",
       "4            21.0  ...                                0.0   \n",
       "\n",
       "   Rolling 5 Past H&A Push Odds_Away_Team  \\\n",
       "0                                     0.0   \n",
       "1                                     0.0   \n",
       "2                                     0.0   \n",
       "3                                     0.0   \n",
       "4                                     0.0   \n",
       "\n",
       "   Rolling 5 Past H&A Push Odds Avg_Away_Team  \\\n",
       "0                                         0.0   \n",
       "1                                         0.0   \n",
       "2                                         0.0   \n",
       "3                                         0.0   \n",
       "4                                         0.0   \n",
       "\n",
       "   Rolling 5 Past H&A Push Odds Max_Away_Team  \\\n",
       "0                                         0.0   \n",
       "1                                         0.0   \n",
       "2                                         0.0   \n",
       "3                                         0.0   \n",
       "4                                         0.0   \n",
       "\n",
       "   Rolling 5 Past H&A Push Odds Min_Away_Team  \\\n",
       "0                                         0.0   \n",
       "1                                         0.0   \n",
       "2                                         0.0   \n",
       "3                                         0.0   \n",
       "4                                         0.0   \n",
       "\n",
       "   Rolling 3 Past H&A Push Odds_Away_Team  \\\n",
       "0                                     0.0   \n",
       "1                                     0.0   \n",
       "2                                     0.0   \n",
       "3                                     0.0   \n",
       "4                                     0.0   \n",
       "\n",
       "   Rolling 3 Past H&A Push Oddss Avg_Away_Team  \\\n",
       "0                                          0.0   \n",
       "1                                          0.0   \n",
       "2                                          0.0   \n",
       "3                                          0.0   \n",
       "4                                          0.0   \n",
       "\n",
       "   Rolling 3 Past H&A Push OddsMax_Away_Team  \\\n",
       "0                                        0.0   \n",
       "1                                        0.0   \n",
       "2                                        0.0   \n",
       "3                                        0.0   \n",
       "4                                        0.0   \n",
       "\n",
       "   Rolling 3 Past H&A Push Odds Min_Away_Team  \\\n",
       "0                                         0.0   \n",
       "1                                         0.0   \n",
       "2                                         0.0   \n",
       "3                                         0.0   \n",
       "4                                         0.0   \n",
       "\n",
       "   Previous H&A Push Odds_Away_Team  \n",
       "0                               0.0  \n",
       "1                               0.0  \n",
       "2                               0.0  \n",
       "3                               0.0  \n",
       "4                               0.0  \n",
       "\n",
       "[5 rows x 1593 columns]"
      ]
     },
     "execution_count": 4,
     "metadata": {},
     "output_type": "execute_result"
    }
   ],
   "source": [
    "df2.head()"
   ]
  },
  {
   "cell_type": "code",
   "execution_count": 5,
   "id": "98775741",
   "metadata": {},
   "outputs": [
    {
     "data": {
      "text/html": [
       "<div>\n",
       "<style scoped>\n",
       "    .dataframe tbody tr th:only-of-type {\n",
       "        vertical-align: middle;\n",
       "    }\n",
       "\n",
       "    .dataframe tbody tr th {\n",
       "        vertical-align: top;\n",
       "    }\n",
       "\n",
       "    .dataframe thead th {\n",
       "        text-align: right;\n",
       "    }\n",
       "</style>\n",
       "<table border=\"1\" class=\"dataframe\">\n",
       "  <thead>\n",
       "    <tr style=\"text-align: right;\">\n",
       "      <th></th>\n",
       "      <th>Year</th>\n",
       "      <th>Home Team Ranking_x</th>\n",
       "      <th>Away Team Ranking_x</th>\n",
       "      <th>Home Team Spread_x</th>\n",
       "      <th>Away Team Spread_x</th>\n",
       "      <th>Total_x</th>\n",
       "      <th>Home Score_x_x</th>\n",
       "      <th>Away Score_x_x</th>\n",
       "      <th>Rolling 5 Past Away Score</th>\n",
       "      <th>Rolling 5 Past Away Score Avg</th>\n",
       "      <th>...</th>\n",
       "      <th>Previous H&amp;A Under Odds_Away_Team</th>\n",
       "      <th>Rolling 5 Past H&amp;A Push Odds_Away_Team</th>\n",
       "      <th>Rolling 5 Past H&amp;A Push Odds Avg_Away_Team</th>\n",
       "      <th>Rolling 5 Past H&amp;A Push Odds Max_Away_Team</th>\n",
       "      <th>Rolling 5 Past H&amp;A Push Odds Min_Away_Team</th>\n",
       "      <th>Rolling 3 Past H&amp;A Push Odds_Away_Team</th>\n",
       "      <th>Rolling 3 Past H&amp;A Push Oddss Avg_Away_Team</th>\n",
       "      <th>Rolling 3 Past H&amp;A Push OddsMax_Away_Team</th>\n",
       "      <th>Rolling 3 Past H&amp;A Push Odds Min_Away_Team</th>\n",
       "      <th>Previous H&amp;A Push Odds_Away_Team</th>\n",
       "    </tr>\n",
       "  </thead>\n",
       "  <tbody>\n",
       "    <tr>\n",
       "      <th>count</th>\n",
       "      <td>977.000000</td>\n",
       "      <td>977.000000</td>\n",
       "      <td>977.000000</td>\n",
       "      <td>977.000000</td>\n",
       "      <td>977.000000</td>\n",
       "      <td>977.000000</td>\n",
       "      <td>976.000000</td>\n",
       "      <td>976.000000</td>\n",
       "      <td>907.000000</td>\n",
       "      <td>907.000000</td>\n",
       "      <td>...</td>\n",
       "      <td>970.000000</td>\n",
       "      <td>942.000000</td>\n",
       "      <td>942.000000</td>\n",
       "      <td>942.000000</td>\n",
       "      <td>942.0</td>\n",
       "      <td>956.000000</td>\n",
       "      <td>956.000000</td>\n",
       "      <td>956.000000</td>\n",
       "      <td>956.0</td>\n",
       "      <td>970.000000</td>\n",
       "    </tr>\n",
       "    <tr>\n",
       "      <th>mean</th>\n",
       "      <td>2012.903787</td>\n",
       "      <td>58.841351</td>\n",
       "      <td>57.990788</td>\n",
       "      <td>-2.826510</td>\n",
       "      <td>2.826510</td>\n",
       "      <td>51.393040</td>\n",
       "      <td>26.869877</td>\n",
       "      <td>24.196721</td>\n",
       "      <td>120.943771</td>\n",
       "      <td>24.188754</td>\n",
       "      <td>...</td>\n",
       "      <td>0.528866</td>\n",
       "      <td>0.055202</td>\n",
       "      <td>0.011040</td>\n",
       "      <td>0.055202</td>\n",
       "      <td>0.0</td>\n",
       "      <td>0.031381</td>\n",
       "      <td>0.010460</td>\n",
       "      <td>0.031381</td>\n",
       "      <td>0.0</td>\n",
       "      <td>0.008247</td>\n",
       "    </tr>\n",
       "    <tr>\n",
       "      <th>std</th>\n",
       "      <td>5.187959</td>\n",
       "      <td>44.375891</td>\n",
       "      <td>44.404771</td>\n",
       "      <td>13.250883</td>\n",
       "      <td>13.250883</td>\n",
       "      <td>8.025355</td>\n",
       "      <td>13.421241</td>\n",
       "      <td>13.896771</td>\n",
       "      <td>42.124725</td>\n",
       "      <td>8.424945</td>\n",
       "      <td>...</td>\n",
       "      <td>0.499424</td>\n",
       "      <td>0.228495</td>\n",
       "      <td>0.045699</td>\n",
       "      <td>0.228495</td>\n",
       "      <td>0.0</td>\n",
       "      <td>0.174436</td>\n",
       "      <td>0.058145</td>\n",
       "      <td>0.174436</td>\n",
       "      <td>0.0</td>\n",
       "      <td>0.090487</td>\n",
       "    </tr>\n",
       "    <tr>\n",
       "      <th>min</th>\n",
       "      <td>2004.000000</td>\n",
       "      <td>1.000000</td>\n",
       "      <td>1.000000</td>\n",
       "      <td>-41.500000</td>\n",
       "      <td>-36.000000</td>\n",
       "      <td>27.000000</td>\n",
       "      <td>0.000000</td>\n",
       "      <td>0.000000</td>\n",
       "      <td>28.000000</td>\n",
       "      <td>5.600000</td>\n",
       "      <td>...</td>\n",
       "      <td>0.000000</td>\n",
       "      <td>0.000000</td>\n",
       "      <td>0.000000</td>\n",
       "      <td>0.000000</td>\n",
       "      <td>0.0</td>\n",
       "      <td>0.000000</td>\n",
       "      <td>0.000000</td>\n",
       "      <td>0.000000</td>\n",
       "      <td>0.0</td>\n",
       "      <td>0.000000</td>\n",
       "    </tr>\n",
       "    <tr>\n",
       "      <th>25%</th>\n",
       "      <td>2008.000000</td>\n",
       "      <td>11.000000</td>\n",
       "      <td>11.000000</td>\n",
       "      <td>-12.500000</td>\n",
       "      <td>-6.500000</td>\n",
       "      <td>45.500000</td>\n",
       "      <td>17.000000</td>\n",
       "      <td>14.000000</td>\n",
       "      <td>92.000000</td>\n",
       "      <td>18.400000</td>\n",
       "      <td>...</td>\n",
       "      <td>0.000000</td>\n",
       "      <td>0.000000</td>\n",
       "      <td>0.000000</td>\n",
       "      <td>0.000000</td>\n",
       "      <td>0.0</td>\n",
       "      <td>0.000000</td>\n",
       "      <td>0.000000</td>\n",
       "      <td>0.000000</td>\n",
       "      <td>0.0</td>\n",
       "      <td>0.000000</td>\n",
       "    </tr>\n",
       "    <tr>\n",
       "      <th>50%</th>\n",
       "      <td>2013.000000</td>\n",
       "      <td>99.000000</td>\n",
       "      <td>99.000000</td>\n",
       "      <td>-3.000000</td>\n",
       "      <td>3.000000</td>\n",
       "      <td>50.500000</td>\n",
       "      <td>26.000000</td>\n",
       "      <td>23.000000</td>\n",
       "      <td>117.000000</td>\n",
       "      <td>23.400000</td>\n",
       "      <td>...</td>\n",
       "      <td>1.000000</td>\n",
       "      <td>0.000000</td>\n",
       "      <td>0.000000</td>\n",
       "      <td>0.000000</td>\n",
       "      <td>0.0</td>\n",
       "      <td>0.000000</td>\n",
       "      <td>0.000000</td>\n",
       "      <td>0.000000</td>\n",
       "      <td>0.0</td>\n",
       "      <td>0.000000</td>\n",
       "    </tr>\n",
       "    <tr>\n",
       "      <th>75%</th>\n",
       "      <td>2017.000000</td>\n",
       "      <td>99.000000</td>\n",
       "      <td>99.000000</td>\n",
       "      <td>6.500000</td>\n",
       "      <td>12.500000</td>\n",
       "      <td>56.000000</td>\n",
       "      <td>37.000000</td>\n",
       "      <td>34.000000</td>\n",
       "      <td>147.000000</td>\n",
       "      <td>29.400000</td>\n",
       "      <td>...</td>\n",
       "      <td>1.000000</td>\n",
       "      <td>0.000000</td>\n",
       "      <td>0.000000</td>\n",
       "      <td>0.000000</td>\n",
       "      <td>0.0</td>\n",
       "      <td>0.000000</td>\n",
       "      <td>0.000000</td>\n",
       "      <td>0.000000</td>\n",
       "      <td>0.0</td>\n",
       "      <td>0.000000</td>\n",
       "    </tr>\n",
       "    <tr>\n",
       "      <th>max</th>\n",
       "      <td>2022.000000</td>\n",
       "      <td>99.000000</td>\n",
       "      <td>99.000000</td>\n",
       "      <td>36.000000</td>\n",
       "      <td>41.500000</td>\n",
       "      <td>82.500000</td>\n",
       "      <td>74.000000</td>\n",
       "      <td>72.000000</td>\n",
       "      <td>278.000000</td>\n",
       "      <td>55.600000</td>\n",
       "      <td>...</td>\n",
       "      <td>1.000000</td>\n",
       "      <td>1.000000</td>\n",
       "      <td>0.200000</td>\n",
       "      <td>1.000000</td>\n",
       "      <td>0.0</td>\n",
       "      <td>1.000000</td>\n",
       "      <td>0.333333</td>\n",
       "      <td>1.000000</td>\n",
       "      <td>0.0</td>\n",
       "      <td>1.000000</td>\n",
       "    </tr>\n",
       "  </tbody>\n",
       "</table>\n",
       "<p>8 rows × 1590 columns</p>\n",
       "</div>"
      ],
      "text/plain": [
       "              Year  Home Team Ranking_x  Away Team Ranking_x  \\\n",
       "count   977.000000           977.000000           977.000000   \n",
       "mean   2012.903787            58.841351            57.990788   \n",
       "std       5.187959            44.375891            44.404771   \n",
       "min    2004.000000             1.000000             1.000000   \n",
       "25%    2008.000000            11.000000            11.000000   \n",
       "50%    2013.000000            99.000000            99.000000   \n",
       "75%    2017.000000            99.000000            99.000000   \n",
       "max    2022.000000            99.000000            99.000000   \n",
       "\n",
       "       Home Team Spread_x  Away Team Spread_x     Total_x  Home Score_x_x  \\\n",
       "count          977.000000          977.000000  977.000000      976.000000   \n",
       "mean            -2.826510            2.826510   51.393040       26.869877   \n",
       "std             13.250883           13.250883    8.025355       13.421241   \n",
       "min            -41.500000          -36.000000   27.000000        0.000000   \n",
       "25%            -12.500000           -6.500000   45.500000       17.000000   \n",
       "50%             -3.000000            3.000000   50.500000       26.000000   \n",
       "75%              6.500000           12.500000   56.000000       37.000000   \n",
       "max             36.000000           41.500000   82.500000       74.000000   \n",
       "\n",
       "       Away Score_x_x  Rolling 5 Past Away Score  \\\n",
       "count      976.000000                 907.000000   \n",
       "mean        24.196721                 120.943771   \n",
       "std         13.896771                  42.124725   \n",
       "min          0.000000                  28.000000   \n",
       "25%         14.000000                  92.000000   \n",
       "50%         23.000000                 117.000000   \n",
       "75%         34.000000                 147.000000   \n",
       "max         72.000000                 278.000000   \n",
       "\n",
       "       Rolling 5 Past Away Score Avg  ...  Previous H&A Under Odds_Away_Team  \\\n",
       "count                     907.000000  ...                         970.000000   \n",
       "mean                       24.188754  ...                           0.528866   \n",
       "std                         8.424945  ...                           0.499424   \n",
       "min                         5.600000  ...                           0.000000   \n",
       "25%                        18.400000  ...                           0.000000   \n",
       "50%                        23.400000  ...                           1.000000   \n",
       "75%                        29.400000  ...                           1.000000   \n",
       "max                        55.600000  ...                           1.000000   \n",
       "\n",
       "       Rolling 5 Past H&A Push Odds_Away_Team  \\\n",
       "count                              942.000000   \n",
       "mean                                 0.055202   \n",
       "std                                  0.228495   \n",
       "min                                  0.000000   \n",
       "25%                                  0.000000   \n",
       "50%                                  0.000000   \n",
       "75%                                  0.000000   \n",
       "max                                  1.000000   \n",
       "\n",
       "       Rolling 5 Past H&A Push Odds Avg_Away_Team  \\\n",
       "count                                  942.000000   \n",
       "mean                                     0.011040   \n",
       "std                                      0.045699   \n",
       "min                                      0.000000   \n",
       "25%                                      0.000000   \n",
       "50%                                      0.000000   \n",
       "75%                                      0.000000   \n",
       "max                                      0.200000   \n",
       "\n",
       "       Rolling 5 Past H&A Push Odds Max_Away_Team  \\\n",
       "count                                  942.000000   \n",
       "mean                                     0.055202   \n",
       "std                                      0.228495   \n",
       "min                                      0.000000   \n",
       "25%                                      0.000000   \n",
       "50%                                      0.000000   \n",
       "75%                                      0.000000   \n",
       "max                                      1.000000   \n",
       "\n",
       "       Rolling 5 Past H&A Push Odds Min_Away_Team  \\\n",
       "count                                       942.0   \n",
       "mean                                          0.0   \n",
       "std                                           0.0   \n",
       "min                                           0.0   \n",
       "25%                                           0.0   \n",
       "50%                                           0.0   \n",
       "75%                                           0.0   \n",
       "max                                           0.0   \n",
       "\n",
       "       Rolling 3 Past H&A Push Odds_Away_Team  \\\n",
       "count                              956.000000   \n",
       "mean                                 0.031381   \n",
       "std                                  0.174436   \n",
       "min                                  0.000000   \n",
       "25%                                  0.000000   \n",
       "50%                                  0.000000   \n",
       "75%                                  0.000000   \n",
       "max                                  1.000000   \n",
       "\n",
       "       Rolling 3 Past H&A Push Oddss Avg_Away_Team  \\\n",
       "count                                   956.000000   \n",
       "mean                                      0.010460   \n",
       "std                                       0.058145   \n",
       "min                                       0.000000   \n",
       "25%                                       0.000000   \n",
       "50%                                       0.000000   \n",
       "75%                                       0.000000   \n",
       "max                                       0.333333   \n",
       "\n",
       "       Rolling 3 Past H&A Push OddsMax_Away_Team  \\\n",
       "count                                 956.000000   \n",
       "mean                                    0.031381   \n",
       "std                                     0.174436   \n",
       "min                                     0.000000   \n",
       "25%                                     0.000000   \n",
       "50%                                     0.000000   \n",
       "75%                                     0.000000   \n",
       "max                                     1.000000   \n",
       "\n",
       "       Rolling 3 Past H&A Push Odds Min_Away_Team  \\\n",
       "count                                       956.0   \n",
       "mean                                          0.0   \n",
       "std                                           0.0   \n",
       "min                                           0.0   \n",
       "25%                                           0.0   \n",
       "50%                                           0.0   \n",
       "75%                                           0.0   \n",
       "max                                           0.0   \n",
       "\n",
       "       Previous H&A Push Odds_Away_Team  \n",
       "count                        970.000000  \n",
       "mean                           0.008247  \n",
       "std                            0.090487  \n",
       "min                            0.000000  \n",
       "25%                            0.000000  \n",
       "50%                            0.000000  \n",
       "75%                            0.000000  \n",
       "max                            1.000000  \n",
       "\n",
       "[8 rows x 1590 columns]"
      ]
     },
     "execution_count": 5,
     "metadata": {},
     "output_type": "execute_result"
    }
   ],
   "source": [
    "df2.describe()"
   ]
  },
  {
   "cell_type": "code",
   "execution_count": 6,
   "id": "220e3d03",
   "metadata": {},
   "outputs": [],
   "source": [
    "Prediction_Game = df2.loc[0]"
   ]
  },
  {
   "cell_type": "code",
   "execution_count": 7,
   "id": "24e6a0d4",
   "metadata": {},
   "outputs": [
    {
     "data": {
      "text/plain": [
       "Date                                           2022-01-10 00:00:00\n",
       "Year                                                          2022\n",
       "Home Team                                                  Georgia\n",
       "Home Team Ranking_x                                              3\n",
       "Away Team                                                  Alabama\n",
       "                                                      ...         \n",
       "Rolling 3 Past H&A Push Odds_Away_Team                         0.0\n",
       "Rolling 3 Past H&A Push Oddss Avg_Away_Team                    0.0\n",
       "Rolling 3 Past H&A Push OddsMax_Away_Team                      0.0\n",
       "Rolling 3 Past H&A Push Odds Min_Away_Team                     0.0\n",
       "Previous H&A Push Odds_Away_Team                               0.0\n",
       "Name: 0, Length: 1593, dtype: object"
      ]
     },
     "execution_count": 7,
     "metadata": {},
     "output_type": "execute_result"
    }
   ],
   "source": [
    "Prediction_Game"
   ]
  },
  {
   "cell_type": "code",
   "execution_count": 8,
   "id": "a11c04d6",
   "metadata": {},
   "outputs": [],
   "source": [
    "df3= df2[1:]"
   ]
  },
  {
   "cell_type": "code",
   "execution_count": 9,
   "id": "e81482a6",
   "metadata": {},
   "outputs": [
    {
     "data": {
      "text/plain": [
       "(976, 1593)"
      ]
     },
     "execution_count": 9,
     "metadata": {},
     "output_type": "execute_result"
    }
   ],
   "source": [
    "df3.shape"
   ]
  },
  {
   "cell_type": "markdown",
   "id": "73181ceb",
   "metadata": {},
   "source": [
    "# Created Target Variable"
   ]
  },
  {
   "cell_type": "code",
   "execution_count": 11,
   "id": "619ed3b6",
   "metadata": {},
   "outputs": [
    {
     "name": "stderr",
     "output_type": "stream",
     "text": [
      "<ipython-input-11-411cdcf0964b>:1: SettingWithCopyWarning: \n",
      "A value is trying to be set on a copy of a slice from a DataFrame.\n",
      "Try using .loc[row_indexer,col_indexer] = value instead\n",
      "\n",
      "See the caveats in the documentation: https://pandas.pydata.org/pandas-docs/stable/user_guide/indexing.html#returning-a-view-versus-a-copy\n",
      "  df3['H Spread Outcome'] = df3.apply(lambda x: 'H_Spread_W' if (x['Home Score_x_x'] + x['Home Team Spread_x']) > x['Away Score_x_x']\n"
     ]
    }
   ],
   "source": [
    "df3['H Spread Outcome'] = df3.apply(lambda x: 'H_Spread_W' if (x['Home Score_x_x'] + x['Home Team Spread_x']) > x['Away Score_x_x'] \n",
    "                                  else ('H_Spread_L' if (x['Home Score_x_x'] + x['Home Team Spread_x']) < x['Away Score_x_x']\n",
    "                                  else 'H_Spread_W' if x['Home Score_x_x'] + x['Home Team Spread_x'] == x['Away Score_x_x']\n",
    "                                  else \"\"\n",
    "                                       \n",
    "                                       \n",
    "                                       \n",
    "                                       ),axis=1) \n",
    "#If there is a tie - I labeled as Win as bets would be refunded (It accounted for less than 3% of games)"
   ]
  },
  {
   "cell_type": "code",
   "execution_count": 14,
   "id": "b0762aaa",
   "metadata": {},
   "outputs": [
    {
     "data": {
      "text/plain": [
       "H_Spread_W    492\n",
       "H_Spread_L    484\n",
       "Name: H Spread Outcome, dtype: int64"
      ]
     },
     "execution_count": 14,
     "metadata": {},
     "output_type": "execute_result"
    }
   ],
   "source": [
    "df3['H Spread Outcome'].value_counts()"
   ]
  },
  {
   "cell_type": "code",
   "execution_count": 12,
   "id": "66cdb3b8",
   "metadata": {},
   "outputs": [
    {
     "data": {
      "text/plain": [
       "0.4959016393442623"
      ]
     },
     "execution_count": 12,
     "metadata": {},
     "output_type": "execute_result"
    }
   ],
   "source": [
    "484/976 #Home Spread Loss %"
   ]
  },
  {
   "cell_type": "code",
   "execution_count": 16,
   "id": "95a18ab6",
   "metadata": {},
   "outputs": [
    {
     "data": {
      "text/plain": [
       "0.5040983606557377"
      ]
     },
     "execution_count": 16,
     "metadata": {},
     "output_type": "execute_result"
    }
   ],
   "source": [
    "492/976 #Home Spread Win %"
   ]
  },
  {
   "cell_type": "code",
   "execution_count": 17,
   "id": "eb153c75",
   "metadata": {},
   "outputs": [
    {
     "data": {
      "text/plain": [
       "0.028688524590163935"
      ]
     },
     "execution_count": 17,
     "metadata": {},
     "output_type": "execute_result"
    }
   ],
   "source": [
    "28/976 #Home Spread Push(tie) %"
   ]
  },
  {
   "cell_type": "markdown",
   "id": "6fe39a75",
   "metadata": {},
   "source": [
    "# Correlation Tests"
   ]
  },
  {
   "cell_type": "code",
   "execution_count": 18,
   "id": "610397ba",
   "metadata": {},
   "outputs": [],
   "source": [
    "# As the home and away team scores of the game determine whether or not the home team wins or losses the spread , I ran a correlation test to determine which variables are most correlated with the scores - which will be used in the final model. \n",
    "\n"
   ]
  },
  {
   "cell_type": "code",
   "execution_count": 19,
   "id": "af2b025e",
   "metadata": {},
   "outputs": [
    {
     "data": {
      "text/plain": [
       "Date                                           datetime64[ns]\n",
       "Year                                                    int64\n",
       "Home Team                                              object\n",
       "Home Team Ranking_x                                     int64\n",
       "Away Team                                              object\n",
       "                                                    ...      \n",
       "Rolling 3 Past H&A Push Oddss Avg_Away_Team           float64\n",
       "Rolling 3 Past H&A Push OddsMax_Away_Team             float64\n",
       "Rolling 3 Past H&A Push Odds Min_Away_Team            float64\n",
       "Previous H&A Push Odds_Away_Team                      float64\n",
       "H Spread Outcome                                       object\n",
       "Length: 1594, dtype: object"
      ]
     },
     "execution_count": 19,
     "metadata": {},
     "output_type": "execute_result"
    }
   ],
   "source": [
    "df3.dtypes"
   ]
  },
  {
   "cell_type": "code",
   "execution_count": 20,
   "id": "59aad440",
   "metadata": {},
   "outputs": [],
   "source": [
    "columns_list=df3.columns\n"
   ]
  },
  {
   "cell_type": "code",
   "execution_count": 21,
   "id": "28620e69",
   "metadata": {},
   "outputs": [],
   "source": [
    "Prediction_Variable = df3['Home Score_x_x']\n",
    "Home_High_Corr_Values = []"
   ]
  },
  {
   "cell_type": "code",
   "execution_count": 22,
   "id": "497dd486",
   "metadata": {},
   "outputs": [
    {
     "name": "stdout",
     "output_type": "stream",
     "text": [
      "Home Team Spread_x : -0.4705450569905662\n",
      "Away Team Spread_x : 0.4705450569905662\n",
      "Total_x : 0.3223280984872463\n",
      "Home Score_x_x : 1.0\n",
      "Away Score_x_x : -0.06515300572081069\n",
      "Rolling 5 Past Away Score : -0.10797820700921772\n",
      "Rolling 5 Past Away Score Avg : -0.10797820700921767\n",
      "Rolling 5 Past Away Score Max : -0.05625579841822005\n",
      "Rolling 5 Past Away Score Min : -0.08960629256777507\n",
      "Rolling 3 Past Away Score : -0.09416260693057879\n",
      "Rolling 3 Past Away Score Avg : -0.09416260693057875\n",
      "Rolling 3 Past Away Score Max : -0.055792149105279285\n",
      "Rolling 3 Past Away Score Min : -0.07453356827482498\n",
      "Past Away Score : -0.07097380100304561\n",
      "Rolling 5 Past Away HI Pass yrds : 0.06730476047881796\n",
      "Rolling 5 Past Away HI Pass yrds Avg : 0.06730476047881793\n",
      "Rolling 5 Past Away HI Pass yrds Max : 0.10315211853874473\n",
      "Rolling 5 Past Away HI Pass yrds Min : 0.024423690098601042\n",
      "Rolling 3 Past Away HI Pass yrds : 0.08224198660280532\n",
      "Rolling 3 Past Away HI Pass yrds Avg : 0.08224198660280536\n",
      "Rolling 3 Past Away HI Pass yrds Max : 0.11358828630329176\n",
      "Rolling 3 Past Away HI Pass yrds Min : 0.04016072360247667\n",
      "Previous Away HI Pass yrds : 0.026444012303810136\n",
      "Rolling 5 Past Away HI Rush yrds : -0.09500844838565088\n",
      "Rolling 5 Past Away HI Rush yrds Avg : -0.09500844838565078\n",
      "Rolling 5 Past Away HI Rush yrds Max : -0.05515859344502267\n",
      "Rolling 5 Past Away HI Rush yrds Min : -0.12108771584370592\n",
      "Rolling 3 Past Away HI Rush yrds : -0.0713502355090019\n",
      "Rolling 3 Past Away HI Rush yrds Avg : -0.07135023550900177\n",
      "Rolling 3 Past Away HI Rush yrds Max : -0.036350344495560544\n",
      "Rolling 3 Past Away HI Rush yrds Min : -0.09256977829228041\n",
      "Previous Away HI Rush yrds : -0.0421777058660592\n",
      "Rolling 5 Past Away HI REC yrds : 0.06677727323781915\n",
      "Rolling 5 Past Away HI REC yrds Avg : 0.06677727323781907\n",
      "Rolling 5 Past Away HI REC yrds Max : 0.0317318868064722\n",
      "Rolling 5 Past Away HI REC yrds Min : 0.07556621475479981\n",
      "Rolling 3 Past Away HI REC yrds : 0.0676569726626917\n",
      "Rolling 3 Past Away HI REC yrds Avg : 0.06765697266269165\n",
      "Rolling 3 Past Away HI REC yrds Max : 0.05389001248743512\n",
      "Rolling 3 Past Away HI REC yrds Min : 0.03591339735538796\n",
      "Previous Away HI REC yrds : 0.026925802242019355\n",
      "Rolling 5 Past Away Season T Wins : -0.20652903726098412\n",
      "Rolling 5 Past Away Season T Wins Avg : -0.2065290372609841\n",
      "Rolling 5 Past Away Season T Wins Max : -0.19462449178989508\n",
      "Rolling 5 Past Away Season T Wins Min : -0.13949775328686112\n",
      "Rolling 3 Past Away Season T Wins : -0.19203955423987717\n",
      "Rolling 3 Past Away Season T Wins Avg : -0.19203955423987717\n",
      "Rolling 3 Past Away Season T Wins Max : -0.1948513329613654\n",
      "Rolling 3 Past Away Season T Wins Min : -0.14171144601364816\n",
      "Previous Away Season T Wins : -0.15404734064064934\n",
      "Rolling 5 Past Away Season T Losses : 0.2637105487558513\n",
      "Rolling 5 Past Away Season T Losses Avg : 0.26371054875585137\n",
      "Rolling 5 Past Away Season T Losses Max : 0.23694711173444793\n",
      "Rolling 5 Past Away Season T Losses Min : 0.21257392117574678\n",
      "Rolling 3 Past Away Season T Losses : 0.24752289126671184\n",
      "Rolling 3 Past Away Season T Losses Avg : 0.24752289126671184\n",
      "Rolling 3 Past Away Season T Losses Max : 0.21920452178494695\n",
      "Rolling 3 Past Away Season T Losses Min : 0.19528292397797709\n",
      "Previous Away Season Losses : 0.21749053645409178\n",
      "Rolling 5 Past Away Conf T Losses : 0.2654226881436554\n",
      "Rolling 5 Past Away Conf T Losses Avg : 0.26542268814365516\n",
      "Rolling 5 Past Away Conf T Losses Max : 0.24010557947596867\n",
      "Rolling 5 Past Away Conf T Losses Min : 0.21257392117574678\n",
      "Rolling 3 Past Away Conf T Losses : 0.24977672549701324\n",
      "Rolling 3 Past Away Conf T Losses Avg : 0.249776725497013\n",
      "Rolling 3 Past Away Conf T Losses Max : 0.22302821309210452\n",
      "Rolling 3 Past Away Conf T Losses Min : 0.1960634752003811\n",
      "Previous Away Conf Losses : 0.21945027615226037\n",
      "Rolling 5 Past Away Conf T Wins : -0.24355666463860187\n",
      "Rolling 5 Past Away Conf T Wins Avg : -0.24355666463860182\n",
      "Rolling 5 Past Away Conf T Wins Max : -0.22342403246232645\n",
      "Rolling 5 Past Away Conf T Wins Min : -0.1748083512242512\n",
      "Rolling 3 Past Away Conf T Wins : -0.22063620890257593\n",
      "Rolling 3 Past Away Conf T Wins Avg : -0.22063620890257604\n",
      "Rolling 3 Past Away Conf T Wins Max : -0.22270044737201633\n",
      "Rolling 3 Past Away Conf T Wins Min : -0.15603818083123758\n",
      "Previous Away Conf Wins : -0.1753378423041681\n",
      "Rolling 5 Past Away 1st Downs : -0.008023130242040358\n",
      "Rolling 5 Past Away 1st Downs Avg : -0.008023130242040318\n",
      "Rolling 5 Past Away 1st Downs Max : 0.058851164731471096\n",
      "Rolling 5 Past Away 1st Downs Min : -0.06310860216880161\n",
      "Rolling 3 Past Away 1st Downs : -0.005893347887556656\n",
      "Rolling 3 Past Away 1st Downs Avg : -0.005893347887556672\n",
      "Rolling 3 Past Away 1st Downs Max : 0.06322165557633541\n",
      "Rolling 3 Past Away 1st Downs Min : -0.06648888325246392\n",
      "Previous Away 1st Downs : -0.043279135541523954\n",
      "Rolling 5 Past Away 3rd Down Conversions : -0.02861574359853572\n",
      "Rolling 5 Past Away 3rd Down Conversion Avg : -0.02861574359853576\n",
      "Rolling 5 Past Away 3rd Down Conversion Max : -0.019800874930709228\n",
      "Rolling 5 Past Away 3rd Down Conversion Min : -0.05711459127894216\n",
      "Rolling 3 Past Away 3rd Down Conversion : -0.016927744811020055\n",
      "Rolling 3 Past Away 3rd Down Conversion Avg : -0.01692774481102001\n",
      "Rolling 3 Past Away 3rd Down Conversion Max : 0.01191523796043508\n",
      "Rolling 3 Past Away 3rd Down Conversion Min : -0.04982163523089565\n",
      "Previous Away 3rd Down Conversions : -0.015453360247006397\n",
      "Rolling 5 Past Away 3rd Down Conversion Attempts : 0.09565846430837227\n",
      "Rolling 5 Past Away 3rd Down Conversion Attempts Avg : 0.09565846430837237\n",
      "Rolling 5 Past Away 3rd Down Conversion Attempts Max : 0.028491757597071878\n",
      "Rolling 5 Past Away 3rd Down Conversion Attempts Min : 0.10310849676399327\n",
      "Rolling 3 Past Away 3rd Down Conversion Attempts : 0.10952277891420918\n",
      "Rolling 3 Past Away 3rd Down Conversion Attempts Avg : 0.10952277891420927\n",
      "Rolling 3 Past Away 3rd Down Conversion Attempts Max : 0.06064369778343412\n",
      "Rolling 3 Past Away 3rd Down Conversion Attempts Min : 0.09516493434886131\n",
      "Previous Away 3rd Down Conversions Attempts : 0.05216943600632954\n",
      "Rolling 5 Past Away 3rd Down Conversion % : -0.08586753997415228\n",
      "Rolling 5 Past Away 3rd Down Conversion % Avg : -0.08586753997415231\n",
      "Rolling 5 Past Away 3rd Down Conversion % Max : -0.07268747418722506\n",
      "Rolling 5 Past Away 3rd Down Conversion % Min : -0.06266543224544616\n",
      "Rolling 3 Past Away 3rd Down Conversion % : -0.0872496906472209\n",
      "Rolling 3 Past Away 3rd Down Conversion % Avg : -0.08724969064722088\n",
      "Rolling 3 Past Away 3rd Down Conversion % Max : -0.06014403452410483\n",
      "Rolling 3 Past Away 3rd Down Conversion % Min : -0.09177508884089246\n",
      "Previous Away 3rd Down Conversions % : -0.06161316322761774\n",
      "Rolling 5 Past Away 4th Down Conversions : 0.05976107254943442\n",
      "Rolling 5 Past Away 4th Down Conversions Avg : 0.05976107254943445\n",
      "Rolling 5 Past Away 4th Down Conversions Max : 0.030254373304972156\n",
      "Rolling 5 Past Away 4th Down Conversions Min : 0.018587179727152823\n",
      "Rolling 3 Past Away 4th Down Conversions : 0.07404863634679831\n",
      "Rolling 3 Past Away 4th Down Conversions Avg : 0.07404863634679833\n",
      "Rolling 3 Past Away 4th Down Conversions Max : 0.04750025244226203\n",
      "Rolling 3 Past Away 4th Down Conversions Min : 0.02798304751968383\n",
      "Previous Away 4th Down Conversions : -0.02490078107088528\n",
      "Rolling 5 Past Away 4th Down Conversion Attempts : 0.12249026551234055\n",
      "Rolling 5 Past Away 4th Down Conversion Attempts Avg : 0.12249026551234042\n",
      "Rolling 5 Past Away 4th Down Conversion Attempts Max : 0.10454750941012073\n",
      "Rolling 5 Past Away 4th Down Conversion Attempts Min : 0.10084791688755979\n",
      "Rolling 3 Past Away 4th Down Conversion Attempts : 0.11661425532269667\n",
      "Rolling 3 Past Away 4th Down Conversion Attempts Avg : 0.11661425532269666\n",
      "Rolling 3 Past Away 4th Down Conversion Attempts Max : 0.1063062014464074\n",
      "Rolling 3 Past Away 4th Down Conversion Attempts Min : 0.10149713823294991\n",
      "Previous Away 4th Down Conversions Attempts : 0.015080611870142726\n",
      "Rolling 5 Past Away 4th Down Conversion % : 0.0187371540159702\n",
      "Rolling 5 Past Away 4th Down Conversion % Avg : 0.018737154015970207\n",
      "Rolling 5 Past Away 4th Down Conversion % Max : -0.008732602732681548\n",
      "Rolling 5 Past Away 4th Down Conversion % Min : 0.03721220421983446\n",
      "Rolling 3 Past Away 4th Down Conversion % : 0.039157416039192844\n",
      "Rolling 3 Past Away 4th Down Conversion % Avg : 0.03915741603919287\n",
      "Rolling 3 Past Away 4th Down Conversion % Max : -0.011298697209739124\n",
      "Rolling 3 Past Away 4th Down Conversion % Min : 0.03578662731904349\n",
      "Previous Away 4th Down Conversions % : -0.040923694915890985\n",
      "Rolling 5 Past Away Completions : 0.09748085396796707\n",
      "Rolling 5 Past Away Completions Avg : 0.09748085396796702\n",
      "Rolling 5 Past Away Completions Max : 0.14566363529392537\n",
      "Rolling 5 Past Away Completions Min : 0.02801970925047071\n",
      "Rolling 3 Past Away Completions : 0.11721176793086197\n",
      "Rolling 3 Past Away Completions Avg : 0.11721176793086203\n",
      "Rolling 3 Past Away Completions Max : 0.15616855386613374\n",
      "Rolling 3 Past Away Completions Min : 0.0583277912874245\n",
      "Previous Away Completions : 0.051121177494087365\n",
      "Rolling 5 Past Away Completion Attempts : 0.13818706199405964\n",
      "Rolling 5 Past Away Completion Attempts Avg : 0.13818706199405947\n",
      "Rolling 5 Past Away Completion Attempts Max : 0.1281417608351866\n",
      "Rolling 5 Past Away Completion Attempts Min : 0.0886028162736546\n",
      "Rolling 3 Past Away Completion Attempts : 0.15522679957430335\n",
      "Rolling 3 Past Away Completion Attempts Avg : 0.15522679957430355\n",
      "Rolling 3 Past Away Completion Attempts Max : 0.15569545630080392\n",
      "Rolling 3 Past Away Completion Attempts Min : 0.10569292512352368\n",
      "Previous Away Completion Attempts : 0.08788589147426777\n",
      "Rolling 5 Past Away Completion % : -0.06177645460142736\n",
      "Rolling 5 Past Away Completion % Avg : -0.06177645460142737\n",
      "Rolling 5 Past Away Completion % Max : -0.07720564497110247\n",
      "Rolling 5 Past Away Completion % Min : -0.06031979307216996\n",
      "Rolling 3 Past Away Completion % : -0.04445362076322829\n",
      "Rolling 3 Past Away Completion % Avg : -0.04445362076322818\n",
      "Rolling 3 Past Away Completion % Max : -0.017094088043737538\n",
      "Rolling 3 Past Away Completion % Min : -0.06045781959031684\n",
      "Previous Away Completion % : -0.06014809598286207\n",
      "Rolling 5 Past Away Total Yards : -0.014917542566106218\n",
      "Rolling 5 Past Away Total Yards Avg : -0.014917542566106229\n",
      "Rolling 5 Past Away Total Yards Max : 0.007690329752011826\n",
      "Rolling 5 Past Away Total Yards Min : -0.010320380930277663\n",
      "Rolling 3 Past Away Total Yards : -0.005764940624395611\n",
      "Rolling 3 Past Away Total Yards Avg : -0.0057649406243956034\n",
      "Rolling 3 Past Away Total Yards Max : 0.022761903218058172\n",
      "Rolling 3 Past Away Total Yards Min : -0.011763013976520043\n",
      "Previous Away Total Yards : -0.040654288784787176\n",
      "Rolling 5 Past Away Passing : 0.0629729280095878\n",
      "Rolling 5 Past Away Passing Avg : 0.06297292800958777\n",
      "Rolling 5 Past Away Passing Max : 0.10324847525652665\n",
      "Rolling 5 Past Away Passing Min : 0.028036381389861174\n",
      "Rolling 3 Past Away Passing : 0.07104630335687909\n",
      "Rolling 3 Past Away Passing Avg : 0.07104630335687902\n",
      "Rolling 3 Past Away Passing Max : 0.10961992932196735\n",
      "Rolling 3 Past Away Passing Min : 0.024571604499902085\n",
      "Previous Away Passing : 0.021827788675865618\n",
      "Rolling 5 Past Away Yards per Pass : -0.06640266098544342\n",
      "Rolling 5 Past Away Yards per Pass Avg : -0.06640266098544342\n",
      "Rolling 5 Past Away Yards per Pass Max : -0.09728529886007276\n",
      "Rolling 5 Past Away Yards per Pass Min : -0.05239243220708586\n",
      "Rolling 3 Past Away Yards per Pass : -0.07066266487002408\n",
      "Rolling 3 Past Away Yards per Pass Avg : -0.07066266487002401\n",
      "Rolling 3 Past Away Yards per Pass Max : -0.06423408200298247\n",
      "Rolling 3 Past Away Yards per Pass Min : -0.07129011407934815\n",
      "Previous Away Yards per Pass : -0.057384920455495265\n",
      "Rolling 5 Past Away Rushing : -0.11632059098732231\n",
      "Rolling 5 Past Away Rushing Avg : -0.11632059098732238\n",
      "Rolling 5 Past Away Rushing Max : -0.08550546190481756\n",
      "Rolling 5 Past Away Rushing Min : -0.11679567264120287\n",
      "Rolling 3 Past Away Rushing : -0.10973030192053913\n",
      "Rolling 3 Past Away Rushing Avg : -0.10973030192053913\n",
      "Rolling 3 Past Away Rushing Max : -0.08537624326021157\n",
      "Rolling 3 Past Away Rushing Min : -0.10847700840812202\n",
      "Previous Away Rushing : -0.08644002919270614\n",
      "Rolling 5 Past Away Rushing Attempts : -0.11164663080333023\n",
      "Rolling 5 Past Away Rushing Attempts Avg : -0.11164663080333025\n",
      "Rolling 5 Past Away Rushing Attempts Max : -0.04616448296795516\n",
      "Rolling 5 Past Away Rushing Attempts Min : -0.10274226070393355\n",
      "Rolling 3 Past Away Rushing Attempts : -0.10691860604482437\n",
      "Rolling 3 Past Away Rushing Attempts Avg : -0.10691860604482442\n",
      "Rolling 3 Past Away Rushing Attempts Max : -0.053254336543949725\n",
      "Rolling 3 Past Away Rushing Attempts Min : -0.11682812498244492\n",
      "Previous Away Rushing Attempts : -0.09610605683233459\n",
      "Rolling 5 Past Away Yards per Rush : -0.09966055487960211\n",
      "Rolling 5 Past Away Yards per Rush Avg : -0.09966055487960208\n",
      "Rolling 5 Past Away Yards per Rush Max : -0.07651138806119535\n",
      "Rolling 5 Past Away Yards per Rush Min : -0.07417270607233255\n",
      "Rolling 3 Past Away Yards per Rush : -0.08519356920114911\n",
      "Rolling 3 Past Away Yards per Rush Avg : -0.08519356920114912\n",
      "Rolling 3 Past Away Yards per Rush Max : -0.07300467861745553\n",
      "Rolling 3 Past Away Yards per Rush Min : -0.07502018670936894\n",
      "Previous Away Yards per Rush : -0.06729639765240654\n",
      "Rolling 5 Past Away Penalties : 0.08331271044560638\n",
      "Rolling 5 Past Away Penalties Avg : 0.08331271044560638\n",
      "Rolling 5 Past Away Penalties Max : 0.09713135733711396\n",
      "Rolling 5 Past Away Penalties Min : 0.04850357369877988\n",
      "Rolling 3 Past Away Penalties : 0.058698793196140395\n",
      "Rolling 3 Past Away Penalties Avg : 0.05869879319614027\n",
      "Rolling 3 Past Away Penalties Max : 0.06334212113697506\n",
      "Rolling 3 Past Away Penalties Min : 0.03433392614648765\n",
      "Previous Away Penalties : 0.043541024630209896\n",
      "Rolling 5 Past Away Penalty Yards : 0.09484688491831059\n",
      "Rolling 5 Past Away Penalty Yards Avg : 0.0948468849183105\n",
      "Rolling 5 Past Away Penalty Yards Max : 0.12225762485096815\n",
      "Rolling 5 Past Away Penalty Yards Min : 0.02106623749656583\n",
      "Rolling 3 Past Away Penalty Yards : 0.07798053035545238\n",
      "Rolling 3 Past Away Penalty Yards Avg : 0.0779805303554523\n",
      "Rolling 3 Past Away Penalty Yards Max : 0.08362464006241047\n",
      "Rolling 3 Past Away Penalty Yards Min : 0.030616889809095476\n",
      "Previous Away Penalty Yards : 0.04244764751413797\n",
      "Rolling 5 Past Away Yards per Penalty : 0.12340989095391391\n",
      "Rolling 5 Past Away Yards per Penalty Avg : 0.12340989095391383\n",
      "Rolling 5 Past Away Yards per Penalty Max : 0.10419202904874623\n",
      "Rolling 5 Past Away Yards per Penalty Min : 0.0715453807708942\n",
      "Rolling 3 Past Away Yards per Penalty : 0.12980396671681824\n"
     ]
    },
    {
     "name": "stdout",
     "output_type": "stream",
     "text": [
      "Rolling 3 Past Away Yards per Penalty Avg : 0.1298039667168182\n",
      "Rolling 3 Past Away Yards per Penalty Max : 0.13112511982738928\n",
      "Rolling 3 Past Away Yards per Penalty Min : 0.08157554668886413\n",
      "Previous Away Yards per Penalty : 0.06452501774548179\n",
      "Rolling 5 Past Away Turnovers : 0.10868157597267046\n",
      "Rolling 5 Past Away Turnovers Avg : 0.10868157597267045\n",
      "Rolling 5 Past Away Turnovers Max : 0.10261800525571252\n",
      "Rolling 5 Past Away Turnovers Min : 0.0817215176237875\n",
      "Rolling 3 Past Away Turnovers : 0.10131654473492079\n",
      "Rolling 3 Past Away Turnovers Avg : 0.10131654473492074\n",
      "Rolling 3 Past Away Turnovers Max : 0.09671144106425474\n",
      "Rolling 3 Past Away Turnovers Min : 0.06465863130872393\n",
      "Previous Away Turnovers : 0.060502399508724124\n",
      "Rolling 5 Past Away Fumbles Lost : 0.06761834738698372\n",
      "Rolling 5 Past Away Fumbles Lost Avg : 0.06761834738698376\n",
      "Rolling 5 Past Away Fumbles Lost Max : 0.03209347139956248\n",
      "Rolling 5 Past Away Fumbles Lost Min : 0.07516428984730854\n",
      "Rolling 3 Past Away Fumbles Lost : 0.022623777562208198\n",
      "Rolling 3 Past Away Fumbles Lost Avg : 0.022623777562208208\n",
      "Rolling 3 Past Away Fumbles Lost Max : 0.00781407316493915\n",
      "Rolling 3 Past Away Fumbles Lost Min : 0.03228025631429043\n",
      "Previous Away Fumbles Lost : -0.02892971147340078\n",
      "Rolling 5 Past Away Interceptions Thrown : 0.091167945419246\n",
      "Rolling 5 Past Away Interceptions Thrown Avg : 0.09116794541924603\n",
      "Rolling 5 Past Away Interceptions Thrown Max : 0.08406932911100543\n",
      "Rolling 5 Past Away Interceptions Thrown Min : 0.05950460639456582\n",
      "Rolling 3 Past Away Interceptions Thrown : 0.11812621273376267\n",
      "Rolling 3 Past Away Interceptions Thrown Avg : 0.11812621273376271\n",
      "Rolling 3 Past Away Interceptions Thrown Max : 0.12106065161132198\n",
      "Rolling 3 Past Away Interceptions Thrown Min : 0.05358182334731813\n",
      "Previous Away Interceptions Thrown : 0.1057104692412304\n",
      "Rolling 5 Past Away Possession Time : 0.037939302756577656\n",
      "Rolling 5 Past Away Possession Time Avg : 0.03793930275657767\n",
      "Rolling 5 Past Away Possession Time Max : 0.04597508496998664\n",
      "Rolling 5 Past Away Possession Time Min : 0.02951190009682245\n",
      "Rolling 3 Past Away Possession Time : 0.04657165923823243\n",
      "Rolling 3 Past Away Possession Time Avg : 0.04657165923823246\n",
      "Rolling 3 Past Away Possession Time Max : 0.040731939472490625\n",
      "Rolling 3 Past Away Possession Time Min : 0.04309991929643366\n",
      "Previous Away Possession Time : 0.014706827836978412\n",
      "Rolling 5 Past Away Q1 Score : -0.06745463678123069\n",
      "Rolling 5 Past Away Q1 Score Avg : -0.06745463678123065\n",
      "Rolling 5 Past Away Q1 Score Max : -0.07416020933123903\n",
      "Rolling 5 Past Away Q1 Score Min : -0.037063501494616416\n",
      "Rolling 3 Past Away Q1 Score : -0.07579022469568672\n",
      "Rolling 3 Past Away Q1 Score Avg : -0.07579022469568679\n",
      "Rolling 3 Past Away Q1 Score Max : -0.08111793747075383\n",
      "Rolling 3 Past Away Q1 Score Min : -0.03212825824307903\n",
      "Previous Away Q1 Score : -0.06431850411141118\n",
      "Rolling 5 Past Away Q2 Score : -0.07936332050484525\n",
      "Rolling 5 Past Away Q2 Score Avg : -0.07936332050484528\n",
      "Rolling 5 Past Away Q2 Score Max : -0.06816557021198412\n",
      "Rolling 5 Past Away Q2 Score Min : -0.0659479178101423\n",
      "Rolling 3 Past Away Q2 Score : -0.052291096654728475\n",
      "Rolling 3 Past Away Q2 Score Avg : -0.05229109665472844\n",
      "Rolling 3 Past Away Q2 Score Max : -0.030156408566316947\n",
      "Rolling 3 Past Away Q2 Score Min : -0.037740851352240395\n",
      "Previous Away Q2 Score : -0.05281979673008215\n",
      "Rolling 5 Past Away Q3 Score : -0.11169422725697603\n",
      "Rolling 5 Past Away Q3 Score Avg : -0.111694227256976\n",
      "Rolling 5 Past Away Q3 Score Max : -0.13538100327205457\n",
      "Rolling 5 Past Away Q3 Score Min : -0.05027945638622419\n",
      "Rolling 3 Past Away Q3 Score : -0.09030454732816173\n",
      "Rolling 3 Past Away Q3 Score Avg : -0.09030454732816177\n",
      "Rolling 3 Past Away Q3 Score Max : -0.10490839423516458\n",
      "Rolling 3 Past Away Q3 Score Min : -0.024311456259843933\n",
      "Previous Away Q3 Score : -0.02546406479757536\n",
      "Rolling 5 Past Away Q4 Score : -0.04846280673581492\n",
      "Rolling 5 Past Away Q4 Score Avg : -0.0484628067358149\n",
      "Rolling 5 Past Away Q4 Score Max : -0.011871316631013342\n",
      "Rolling 5 Past Away Q4 Score Min : -0.11040320208891752\n",
      "Rolling 3 Past Away Q4 Score : -0.039386904940427035\n",
      "Rolling 3 Past Away Q4 Score Avg : -0.03938690494042711\n",
      "Rolling 3 Past Away Q4 Score Max : -0.02307335445234631\n",
      "Rolling 3 Past Away Q4 Score Min : -0.05419807736948022\n",
      "Previous Away Q4 Score : -0.036452346019102945\n",
      "Rolling 5 Past Away Spread : 0.2055594221315459\n",
      "Rolling 5 Past Away Spread Avg : 0.20555942213154602\n",
      "Rolling 5 Past Away Spread Max : 0.20663431493043463\n",
      "Rolling 5 Past Away Spread Min : 0.18264842978739065\n",
      "Rolling 3 Past Away Spread : 0.2029186147984203\n",
      "Rolling 3 Past Away Spread Avg : 0.20291861479842013\n",
      "Rolling 3 Past Away Spread Max : 0.19701151210715567\n",
      "Rolling 3 Past Away Spread Min : 0.17761290747741804\n",
      "Previous Away Spread : 0.15509186624569585\n",
      "Rolling 5 Past Away Ranking : 0.22323904960013025\n",
      "Rolling 5 Past Away Ranking Avg : 0.22323904960012994\n",
      "Rolling 5 Past Away Ranking Max : 0.19363493028624681\n",
      "Rolling 5 Past Away Ranking Min : 0.188222741132155\n",
      "Rolling 3 Past Away Ranking : 0.23200718250934718\n",
      "Rolling 3 Past Away Ranking Avg : 0.23200718250934718\n",
      "Rolling 3 Past Away Ranking Max : 0.20036601306813123\n",
      "Rolling 3 Past Away Ranking Min : 0.21105307040339774\n",
      "Previous Away Ranking : 0.21524344062388923\n",
      "Rolling 5 Past Away ATS Win : -0.0969571345291637\n",
      "Rolling 5 Past Away ATS Win Avg : -0.0969571345291638\n",
      "Rolling 5 Past Away ATS Win Max : -0.006056809809677631\n",
      "Rolling 5 Past Away ATS Win Min : -0.039646405218403694\n",
      "Rolling 3 Past Away ATS Win : -0.11728891298725481\n",
      "Rolling 3 Past Away ATS Win Avg : -0.11728891298725463\n",
      "Rolling 3 Past Away ATS Win Max : -0.04488510102776353\n",
      "Rolling 3 Past Away ATS Win Min : -0.0985071860000715\n",
      "Previous Away ATS Win : -0.0770679052886071\n",
      "Rolling 5 Past Away ATS Loss : 0.09632760193554377\n",
      "Rolling 5 Past Away ATS Loss Avg : 0.09632760193554377\n",
      "Rolling 5 Past Away ATS Loss Max : 0.019790220908507745\n",
      "Rolling 5 Past Away ATS Loss Min : -0.0057075161543136375\n",
      "Rolling 3 Past Away ATS Loss : 0.12357342426063767\n",
      "Rolling 3 Past Away ATS Loss Avg : 0.1235734242606376\n",
      "Rolling 3 Past Away ATS Loss Max : 0.107033624349325\n",
      "Rolling 3 Past Away ATS Loss Min : 0.03886982427536769\n",
      "Previous Away ATS Loss : 0.08040975971420933\n",
      "Rolling 5 Past Away ATS Push : 0.002955300635694697\n",
      "Rolling 5 Past Away ATS Push Avg : 0.0029553006356946836\n",
      "Rolling 5 Past Away ATS Push Max : 0.008097246550130745\n",
      "Rolling 5 Past Away ATS Push Min : nan\n",
      "Rolling 3 Past Away ATS Push : -0.018150754545178917\n",
      "Rolling 3 Past Away ATS Push Avg : -0.018150754545178914\n",
      "Rolling 3 Past Away ATS Push Max : -0.018513193754729713\n",
      "Rolling 3 Past Away ATS Push Min : nan\n",
      "Previous Away ATS Push : -0.009241873184490525\n",
      "Rolling 5 Past Away Over Odds : -0.03291009078675364\n",
      "Rolling 5 Past Away Over Odds Avg : -0.03291009078675372\n",
      "Rolling 5 Past Away Over Odds Max : -0.008887762288440222\n",
      "Rolling 5 Past Away Over Odds Min : 0.015532883833768071\n",
      "Rolling 3 Past Away Over Odds : -0.05152786977106101\n",
      "Rolling 3 Past Away Over Oddss Avg : -0.051527869771061025\n",
      "Rolling 3 Past Away Over OddsMax : -0.05145903889445182\n",
      "Rolling 3 Past Away Over Odds Min : -0.04073054416385813\n",
      "Previous Away Over Odds : -0.012058516739445437\n",
      "Rolling 5 Past Away Under Odds : 0.04760735939699157\n",
      "Rolling 5 Past Away Under Odds Avg : 0.047607359396991546\n",
      "Rolling 5 Past Away Under Odds Max : -0.0017470710757888012\n",
      "Rolling 5 Past Away Under Odds Min : 0.029311531122017835\n",
      "Rolling 3 Past Away Under Odds : 0.06763367500289345\n",
      "Rolling 3 Past Away Under Oddss Avg : 0.0676336750028934\n",
      "Rolling 3 Past Away Under OddsMax : 0.061298738511963886\n",
      "Rolling 3 Past Away Under Odds Min : 0.06283623594525499\n",
      "Previous Away Under Odds : 0.015118308893943526\n",
      "Rolling 5 Past Away Push Odds : -0.0678249226352272\n",
      "Rolling 5 Past Away Push Odds Avg : -0.06782492263522716\n",
      "Rolling 5 Past Away Push Odds Max : -0.0678249226352272\n",
      "Rolling 5 Past Away Push Odds Min : nan\n",
      "Rolling 3 Past Away Push Odds : -0.07224724641797818\n",
      "Rolling 3 Past Away Push Oddss Avg : -0.07224724641797822\n",
      "Rolling 3 Past Away Push OddsMax : -0.07224724641797818\n",
      "Rolling 3 Past Away Push Odds Min : nan\n",
      "Previous Away Push Odds : -0.014455803401996219\n",
      "Rolling 5 Past Away Total Odds : 0.14737665873006137\n",
      "Rolling 5 Past Away Total Odds Avg : 0.1473766587300613\n",
      "Rolling 5 Past Away Total Odds Max : 0.133589005351336\n",
      "Rolling 5 Past Away Total Odds Min : 0.12260817260887673\n",
      "Rolling 3 Past Away Total Odds : 0.14916677371155723\n",
      "Rolling 3 Past Away Total Oddss Avg : 0.14916677371155707\n",
      "Rolling 3 Past Away Total OddsMax : 0.13326446563043046\n",
      "Rolling 3 Past Away Total Odds Min : 0.11587952845241031\n",
      "Previous Away Total Odds : 0.11231587017287423\n",
      "Rolling 5 Past Home Score : 0.26782433195805094\n",
      "Rolling 5 Past Home Score Avg : 0.26782433195805083\n",
      "Rolling 5 Past Home Score Max : 0.2320179549481099\n",
      "Rolling 5 Past Home Score Min : 0.2084111384256779\n",
      "Rolling 3 Past Home Score : 0.2754325932566715\n",
      "Rolling 3 Past Home Score Avg : 0.2754325932566716\n",
      "Rolling 3 Past Home Score Max : 0.2596890561040711\n",
      "Rolling 3 Past Home Score Min : 0.2291674336248376\n",
      "Past Home Score : 0.18236083632649344\n",
      "Rolling 5 Past Home HI Pass yrds : 0.2502214058997243\n",
      "Rolling 5 Past Home HI Pass yrds Avg : 0.2502214058997243\n",
      "Rolling 5 Past Home HI Pass yrds Max : 0.19080658485149682\n",
      "Rolling 5 Past Home HI Pass yrds Min : 0.25199260402285456\n",
      "Rolling 3 Past Home HI Pass yrds : 0.24161206256719378\n",
      "Rolling 3 Past Home HI Pass yrds Avg : 0.24161206256719375\n",
      "Rolling 3 Past Home HI Pass yrds Max : 0.2155177832918897\n",
      "Rolling 3 Past Home HI Pass yrds Min : 0.2413097299623424\n"
     ]
    },
    {
     "name": "stdout",
     "output_type": "stream",
     "text": [
      "Previous Home HI Pass yrds : 0.1850363680509152\n",
      "Rolling 5 Past Home HI Rush yrds : 0.0857587368980979\n",
      "Rolling 5 Past Home HI Rush yrds Avg : 0.0857587368980979\n",
      "Rolling 5 Past Home HI Rush yrds Max : 0.044458959330495415\n",
      "Rolling 5 Past Home HI Rush yrds Min : 0.10533718344968157\n",
      "Rolling 3 Past Home HI Rush yrds : 0.08391846529159416\n",
      "Rolling 3 Past Home HI Rush yrds Avg : 0.08391846529159419\n",
      "Rolling 3 Past Home HI Rush yrds Max : 0.03439451860325003\n",
      "Rolling 3 Past Home HI Rush yrds Min : 0.11025925252512128\n",
      "Previous Home HI Rush yrds : 0.06726646056009991\n",
      "Rolling 5 Past Home HI REC yrds : 0.23855039516895468\n",
      "Rolling 5 Past Home HI REC yrds Avg : 0.2385503951689546\n",
      "Rolling 5 Past Home HI REC yrds Max : 0.1688364418831364\n",
      "Rolling 5 Past Home HI REC yrds Min : 0.24315024115913045\n",
      "Rolling 3 Past Home HI REC yrds : 0.22651538090809112\n",
      "Rolling 3 Past Home HI REC yrds Avg : 0.22651538090809106\n",
      "Rolling 3 Past Home HI REC yrds Max : 0.1862942268127767\n",
      "Rolling 3 Past Home HI REC yrds Min : 0.21414964097496242\n",
      "Previous Home HI REC yrds : 0.16413658438847137\n",
      "Rolling 5 Past Home Season T Wins : 0.24144506297721224\n",
      "Rolling 5 Past Home Season T Wins Avg : 0.24144506297721224\n",
      "Rolling 5 Past Home Season T Wins Max : 0.24241590588913076\n",
      "Rolling 5 Past Home Season T Wins Min : 0.14363908841379278\n",
      "Rolling 3 Past Home Season T Wins : 0.2276445760384172\n",
      "Rolling 3 Past Home Season T Wins Avg : 0.22764457603841728\n",
      "Rolling 3 Past Home Season T Wins Max : 0.2452986918242428\n",
      "Rolling 3 Past Home Season T Wins Min : 0.13630443644582166\n",
      "Previous Home Season T Wins : 0.17605436540653535\n",
      "Rolling 5 Past Home Season T Losses : -0.2654374347473971\n",
      "Rolling 5 Past Home Season T Losses Avg : -0.26543743474739695\n",
      "Rolling 5 Past Home Season T Losses Max : -0.2616477424213644\n",
      "Rolling 5 Past Home Season T Losses Min : -0.17908001643435043\n",
      "Rolling 3 Past Home Season T Losses : -0.28040264206808674\n",
      "Rolling 3 Past Home Season T Losses Avg : -0.28040264206808696\n",
      "Rolling 3 Past Home Season T Losses Max : -0.2747677982933334\n",
      "Rolling 3 Past Home Season T Losses Min : -0.2249279993150875\n",
      "Previous Home Season Losses : -0.22980074309761458\n",
      "Rolling 5 Past Home Conf T Losses : -0.2653566696173642\n",
      "Rolling 5 Past Home Conf T Losses Avg : -0.26535666961736426\n",
      "Rolling 5 Past Home Conf T Losses Max : -0.2620833283051229\n",
      "Rolling 5 Past Home Conf T Losses Min : -0.17908001643435043\n",
      "Rolling 3 Past Home Conf T Losses : -0.28010075985744487\n",
      "Rolling 3 Past Home Conf T Losses Avg : -0.2801007598574448\n",
      "Rolling 3 Past Home Conf T Losses Max : -0.2742639914885241\n",
      "Rolling 3 Past Home Conf T Losses Min : -0.2249279993150875\n",
      "Previous Home Conf Losses : -0.22943551580664354\n",
      "Rolling 5 Past Home Conf T Wins : 0.25313917144096953\n",
      "Rolling 5 Past Home Conf T Wins Avg : 0.2531391714409697\n",
      "Rolling 5 Past Home Conf T Wins Max : 0.23597868292358906\n",
      "Rolling 5 Past Home Conf T Wins Min : 0.17757159693383942\n",
      "Rolling 3 Past Home Conf T Wins : 0.24572297900029222\n",
      "Rolling 3 Past Home Conf T Wins Avg : 0.24572297900029208\n",
      "Rolling 3 Past Home Conf T Wins Max : 0.2538866068134912\n",
      "Rolling 3 Past Home Conf T Wins Min : 0.14689350323044503\n",
      "Previous Home Conf Wins : 0.19595239723604324\n",
      "Rolling 5 Past Home 1st Downs : 0.26327790733521306\n",
      "Rolling 5 Past Home 1st Downs Avg : 0.263277907335213\n",
      "Rolling 5 Past Home 1st Downs Max : 0.19315097907663775\n",
      "Rolling 5 Past Home 1st Downs Min : 0.22175780663741823\n",
      "Rolling 3 Past Home 1st Downs : 0.25926349504401697\n",
      "Rolling 3 Past Home 1st Downs Avg : 0.2592634950440169\n",
      "Rolling 3 Past Home 1st Downs Max : 0.2013667096177998\n",
      "Rolling 3 Past Home 1st Downs Min : 0.23568407667796415\n",
      "Previous Home 1st Downs : 0.2094122269705262\n",
      "Rolling 5 Past Home 3rd Down Conversions : 0.1227216120369613\n",
      "Rolling 5 Past Home 3rd Down Conversion Avg : 0.1227216120369613\n",
      "Rolling 5 Past Home 3rd Down Conversion Max : 0.11847752374607447\n",
      "Rolling 5 Past Home 3rd Down Conversion Min : 0.12149453625921344\n",
      "Rolling 3 Past Home 3rd Down Conversion : 0.11575385528799423\n",
      "Rolling 3 Past Home 3rd Down Conversion Avg : 0.11575385528799419\n",
      "Rolling 3 Past Home 3rd Down Conversion Max : 0.09011410280342061\n",
      "Rolling 3 Past Home 3rd Down Conversion Min : 0.10390193418497626\n",
      "Previous Home 3rd Down Conversions : 0.09149841520025274\n",
      "Rolling 5 Past Home 3rd Down Conversion Attempts : -0.08334592071500851\n",
      "Rolling 5 Past Home 3rd Down Conversion Attempts Avg : -0.0833459207150085\n",
      "Rolling 5 Past Home 3rd Down Conversion Attempts Max : -0.03359086829370793\n",
      "Rolling 5 Past Home 3rd Down Conversion Attempts Min : -0.06357156399033806\n",
      "Rolling 3 Past Home 3rd Down Conversion Attempts : -0.0911730689287906\n",
      "Rolling 3 Past Home 3rd Down Conversion Attempts Avg : -0.09117306892879047\n",
      "Rolling 3 Past Home 3rd Down Conversion Attempts Max : -0.03733301218650344\n",
      "Rolling 3 Past Home 3rd Down Conversion Attempts Min : -0.0944060072712659\n",
      "Previous Home 3rd Down Conversions Attempts : -0.07564680941569957\n",
      "Rolling 5 Past Home 3rd Down Conversion % : 0.18628305814110746\n",
      "Rolling 5 Past Home 3rd Down Conversion % Avg : 0.18628305814110752\n",
      "Rolling 5 Past Home 3rd Down Conversion % Max : 0.1599216135296337\n",
      "Rolling 5 Past Home 3rd Down Conversion % Min : 0.13765115478010057\n",
      "Rolling 3 Past Home 3rd Down Conversion % : 0.19321477163585332\n",
      "Rolling 3 Past Home 3rd Down Conversion % Avg : 0.19321477163585327\n",
      "Rolling 3 Past Home 3rd Down Conversion % Max : 0.16470669494006535\n",
      "Rolling 3 Past Home 3rd Down Conversion % Min : 0.14673196481118625\n",
      "Previous Home 3rd Down Conversions % : 0.1611334982916879\n",
      "Rolling 5 Past Home 4th Down Conversions : 0.008278045334186064\n",
      "Rolling 5 Past Home 4th Down Conversions Avg : 0.008278045334186091\n",
      "Rolling 5 Past Home 4th Down Conversions Max : 0.002102121855595493\n",
      "Rolling 5 Past Home 4th Down Conversions Min : 0.03658675799304898\n",
      "Rolling 3 Past Home 4th Down Conversions : -0.030822019785313206\n",
      "Rolling 3 Past Home 4th Down Conversions Avg : -0.030822019785313216\n",
      "Rolling 3 Past Home 4th Down Conversions Max : -0.03298353896395707\n",
      "Rolling 3 Past Home 4th Down Conversions Min : -0.02309595276199304\n",
      "Previous Home 4th Down Conversions : -0.024251447095142344\n",
      "Rolling 5 Past Home 4th Down Conversion Attempts : -0.03016839949209323\n",
      "Rolling 5 Past Home 4th Down Conversion Attempts Avg : -0.03016839949209326\n",
      "Rolling 5 Past Home 4th Down Conversion Attempts Max : -0.030992694878930156\n",
      "Rolling 5 Past Home 4th Down Conversion Attempts Min : 0.034842862362849385\n",
      "Rolling 3 Past Home 4th Down Conversion Attempts : -0.06723305437596047\n",
      "Rolling 3 Past Home 4th Down Conversion Attempts Avg : -0.06723305437596039\n",
      "Rolling 3 Past Home 4th Down Conversion Attempts Max : -0.07150464815971486\n",
      "Rolling 3 Past Home 4th Down Conversion Attempts Min : -0.036524638146417966\n",
      "Previous Home 4th Down Conversions Attempts : -0.02094621853383319\n",
      "Rolling 5 Past Home 4th Down Conversion % : 0.030315141637571607\n",
      "Rolling 5 Past Home 4th Down Conversion % Avg : 0.030315141637571676\n",
      "Rolling 5 Past Home 4th Down Conversion % Max : 0.04324318396525672\n",
      "Rolling 5 Past Home 4th Down Conversion % Min : 0.03779047309542763\n",
      "Rolling 3 Past Home 4th Down Conversion % : -0.0006959924602805767\n",
      "Rolling 3 Past Home 4th Down Conversion % Avg : -0.0006959924602805813\n",
      "Rolling 3 Past Home 4th Down Conversion % Max : 0.009204063585610808\n",
      "Rolling 3 Past Home 4th Down Conversion % Min : -0.011330020417474869\n",
      "Previous Home 4th Down Conversions % : -0.01731906195645587\n",
      "Rolling 5 Past Home Completions : 0.16512475614177063\n",
      "Rolling 5 Past Home Completions Avg : 0.16512475614177075\n",
      "Rolling 5 Past Home Completions Max : 0.07160159665551866\n",
      "Rolling 5 Past Home Completions Min : 0.21465957435439095\n",
      "Rolling 3 Past Home Completions : 0.14304327669352027\n",
      "Rolling 3 Past Home Completions Avg : 0.14304327669352027\n",
      "Rolling 3 Past Home Completions Max : 0.08900430114602176\n",
      "Rolling 3 Past Home Completions Min : 0.17018998366027224\n",
      "Previous Home Completions : 0.13346184791263344\n",
      "Rolling 5 Past Home Completion Attempts : 0.05166987351606618\n",
      "Rolling 5 Past Home Completion Attempts Avg : 0.0516698735160663\n",
      "Rolling 5 Past Home Completion Attempts Max : -0.010493614698911958\n",
      "Rolling 5 Past Home Completion Attempts Min : 0.08320747568807285\n",
      "Rolling 3 Past Home Completion Attempts : 0.03820174499627838\n",
      "Rolling 3 Past Home Completion Attempts Avg : 0.03820174499627842\n",
      "Rolling 3 Past Home Completion Attempts Max : 0.01413151594560519\n",
      "Rolling 3 Past Home Completion Attempts Min : 0.05419387560848577\n",
      "Previous Home Completion Attempts : 0.04960568474035837\n",
      "Rolling 5 Past Home Completion % : 0.257712168561522\n",
      "Rolling 5 Past Home Completion % Avg : 0.2577121685615219\n",
      "Rolling 5 Past Home Completion % Max : 0.1747329663453162\n",
      "Rolling 5 Past Home Completion % Min : 0.2132466502341663\n",
      "Rolling 3 Past Home Completion % : 0.2386303885547521\n",
      "Rolling 3 Past Home Completion % Avg : 0.23863038855475194\n",
      "Rolling 3 Past Home Completion % Max : 0.1788916754967554\n",
      "Rolling 3 Past Home Completion % Min : 0.21148214709337057\n",
      "Previous Home Completion % : 0.1995657150992161\n",
      "Rolling 5 Past Home Total Yards : 0.2751518987335706\n",
      "Rolling 5 Past Home Total Yards Avg : 0.27515189873357043\n",
      "Rolling 5 Past Home Total Yards Max : 0.23991230540539296\n",
      "Rolling 5 Past Home Total Yards Min : 0.20566594397983398\n",
      "Rolling 3 Past Home Total Yards : 0.27092171469503895\n",
      "Rolling 3 Past Home Total Yards Avg : 0.2709217146950388\n",
      "Rolling 3 Past Home Total Yards Max : 0.22021230839083442\n",
      "Rolling 3 Past Home Total Yards Min : 0.23834993813073693\n",
      "Previous Home Total Yards : 0.23097425235031235\n",
      "Rolling 5 Past Home Yards per Pass : 0.2894054708476304\n",
      "Rolling 5 Past Home Yards per Pass Avg : 0.28940547084763035\n",
      "Rolling 5 Past Home Yards per Pass Max : 0.22401121784062\n",
      "Rolling 5 Past Home Yards per Pass Min : 0.22667018640346476\n",
      "Rolling 3 Past Home Yards per Pass : 0.27929815181731993\n",
      "Rolling 3 Past Home Yards per Pass Avg : 0.27929815181732004\n",
      "Rolling 3 Past Home Yards per Pass Max : 0.23700449418314648\n",
      "Rolling 3 Past Home Yards per Pass Min : 0.2254625459488767\n",
      "Previous Home Yards per Pass : 0.20877130258495746\n",
      "Rolling 5 Past Home Rushing : 0.12496018903436165\n",
      "Rolling 5 Past Home Rushing Avg : 0.12496018903436168\n",
      "Rolling 5 Past Home Rushing Max : 0.08231304860462918\n",
      "Rolling 5 Past Home Rushing Min : 0.13359406895938797\n",
      "Rolling 3 Past Home Rushing : 0.13547933130366718\n",
      "Rolling 3 Past Home Rushing Avg : 0.13547933130366716\n",
      "Rolling 3 Past Home Rushing Max : 0.09375349551935601\n",
      "Rolling 3 Past Home Rushing Min : 0.14942025767717765\n",
      "Previous Home Rushing : 0.11244208709812124\n",
      "Rolling 5 Past Home Rushing Attempts : -0.09770917439262378\n",
      "Rolling 5 Past Home Rushing Attempts Avg : -0.09770917439262393\n",
      "Rolling 5 Past Home Rushing Attempts Max : -0.10055237617340775\n",
      "Rolling 5 Past Home Rushing Attempts Min : -0.07351716163865851\n",
      "Rolling 3 Past Home Rushing Attempts : -0.07955703296909321\n",
      "Rolling 3 Past Home Rushing Attempts Avg : -0.07955703296909318\n",
      "Rolling 3 Past Home Rushing Attempts Max : -0.08560041335244897\n",
      "Rolling 3 Past Home Rushing Attempts Min : -0.06312074919026665\n",
      "Previous Home Rushing Attempts : -0.07260431407527855\n",
      "Rolling 5 Past Home Yards per Rush : 0.14241593763740804\n",
      "Rolling 5 Past Home Yards per Rush Avg : 0.142415937637408\n",
      "Rolling 5 Past Home Yards per Rush Max : 0.09867747824169319\n",
      "Rolling 5 Past Home Yards per Rush Min : 0.12154071107408793\n",
      "Rolling 3 Past Home Yards per Rush : 0.15050290095594163\n",
      "Rolling 3 Past Home Yards per Rush Avg : 0.15050290095594163\n",
      "Rolling 3 Past Home Yards per Rush Max : 0.10002163160499343\n",
      "Rolling 3 Past Home Yards per Rush Min : 0.14900048174920294\n",
      "Previous Home Yards per Rush : 0.1327206575950288\n",
      "Rolling 5 Past Home Penalties : 0.08711069089449301\n",
      "Rolling 5 Past Home Penalties Avg : 0.08711069089449301\n",
      "Rolling 5 Past Home Penalties Max : 0.0490933442860279\n",
      "Rolling 5 Past Home Penalties Min : 0.025963827730652426\n",
      "Rolling 3 Past Home Penalties : 0.09838428789752038\n",
      "Rolling 3 Past Home Penalties Avg : 0.09838428789752038\n",
      "Rolling 3 Past Home Penalties Max : 0.09661840676289296\n",
      "Rolling 3 Past Home Penalties Min : 0.04195834998540956\n",
      "Previous Home Penalties : 0.07034654984213966\n",
      "Rolling 5 Past Home Penalty Yards : 0.08542385900466357\n",
      "Rolling 5 Past Home Penalty Yards Avg : 0.08542385900466361\n",
      "Rolling 5 Past Home Penalty Yards Max : 0.06376268787105648\n",
      "Rolling 5 Past Home Penalty Yards Min : 0.03665720906940843\n",
      "Rolling 3 Past Home Penalty Yards : 0.0917555099511354\n"
     ]
    },
    {
     "name": "stdout",
     "output_type": "stream",
     "text": [
      "Rolling 3 Past Home Penalty Yards Avg : 0.09175550995113547\n",
      "Rolling 3 Past Home Penalty Yards Max : 0.09336708111129632\n",
      "Rolling 3 Past Home Penalty Yards Min : 0.03874205604403175\n",
      "Previous Home Penalty Yards : 0.08127610045001993\n",
      "Rolling 5 Past Home Yards per Penalty : 0.07430286444884789\n",
      "Rolling 5 Past Home Yards per Penalty Avg : 0.07430286444884777\n",
      "Rolling 5 Past Home Yards per Penalty Max : 0.06390876295268083\n",
      "Rolling 5 Past Home Yards per Penalty Min : 0.03566366611261253\n",
      "Rolling 3 Past Home Yards per Penalty : 0.07606841828378935\n",
      "Rolling 3 Past Home Yards per Penalty Avg : 0.07606841828378937\n",
      "Rolling 3 Past Home Yards per Penalty Max : 0.07563733024097041\n",
      "Rolling 3 Past Home Yards per Penalty Min : 0.052107298429830515\n",
      "Previous Home Yards per Penalty : 0.09283838887121013\n",
      "Rolling 5 Past Home Turnovers : -0.051226529426682016\n",
      "Rolling 5 Past Home Turnovers Avg : -0.051226529426682064\n",
      "Rolling 5 Past Home Turnovers Max : -0.0754834550646148\n",
      "Rolling 5 Past Home Turnovers Min : -0.059024777198529846\n",
      "Rolling 3 Past Home Turnovers : -0.056910988951572296\n",
      "Rolling 3 Past Home Turnovers Avg : -0.05691098895157223\n",
      "Rolling 3 Past Home Turnovers Max : -0.04316835674302856\n",
      "Rolling 3 Past Home Turnovers Min : -0.04730432817578497\n",
      "Previous Home Turnovers : -0.020453355697464627\n",
      "Rolling 5 Past Home Fumbles Lost : 0.06709495699122574\n",
      "Rolling 5 Past Home Fumbles Lost Avg : 0.06709495699122563\n",
      "Rolling 5 Past Home Fumbles Lost Max : 0.05076080046353547\n",
      "Rolling 5 Past Home Fumbles Lost Min : 0.008616632522517612\n",
      "Rolling 3 Past Home Fumbles Lost : 0.037775211158558565\n",
      "Rolling 3 Past Home Fumbles Lost Avg : 0.037775211158558565\n",
      "Rolling 3 Past Home Fumbles Lost Max : 0.04585319289271196\n",
      "Rolling 3 Past Home Fumbles Lost Min : 0.007918740856983263\n",
      "Previous Home Fumbles Lost : 0.05250398998337217\n",
      "Rolling 5 Past Home Interceptions Thrown : -0.11581748282841542\n",
      "Rolling 5 Past Home Interceptions Thrown Avg : -0.11581748282841536\n",
      "Rolling 5 Past Home Interceptions Thrown Max : -0.10340780757180341\n",
      "Rolling 5 Past Home Interceptions Thrown Min : -0.09934960262567075\n",
      "Rolling 3 Past Home Interceptions Thrown : -0.10122941971038588\n",
      "Rolling 3 Past Home Interceptions Thrown Avg : -0.10122941971038583\n",
      "Rolling 3 Past Home Interceptions Thrown Max : -0.08209284749538431\n",
      "Rolling 3 Past Home Interceptions Thrown Min : -0.07157962372246474\n",
      "Previous Home Interceptions Thrown : -0.07448892704641882\n",
      "Rolling 5 Past Home Possession Time : 0.12142286906838302\n",
      "Rolling 5 Past Home Possession Time Avg : 0.12142286906838308\n",
      "Rolling 5 Past Home Possession Time Max : 0.13361898481062393\n",
      "Rolling 5 Past Home Possession Time Min : 0.12124583680471894\n",
      "Rolling 3 Past Home Possession Time : 0.13197492259815408\n",
      "Rolling 3 Past Home Possession Time Avg : 0.13197492259815413\n",
      "Rolling 3 Past Home Possession Time Max : 0.1449095691421914\n",
      "Rolling 3 Past Home Possession Time Min : 0.11003604753846115\n",
      "Previous Home Possession Time : 0.1196608262404042\n",
      "Rolling 5 Past Home Q1 Score : 0.2028799626451147\n",
      "Rolling 5 Past Home Q1 Score Avg : 0.20287996264511476\n",
      "Rolling 5 Past Home Q1 Score Max : 0.11797579461419155\n",
      "Rolling 5 Past Home Q1 Score Min : 0.1467082157364662\n",
      "Rolling 3 Past Home Q1 Score : 0.20381821556695465\n",
      "Rolling 3 Past Home Q1 Score Avg : 0.20381821556695454\n",
      "Rolling 3 Past Home Q1 Score Max : 0.16961056798212898\n",
      "Rolling 3 Past Home Q1 Score Min : 0.1834403434957888\n",
      "Previous Home Q1 Score : 0.134223278279277\n",
      "Rolling 5 Past Home Q2 Score : 0.20476043677992894\n",
      "Rolling 5 Past Home Q2 Score Avg : 0.20476043677992903\n",
      "Rolling 5 Past Home Q2 Score Max : 0.13804400404678474\n",
      "Rolling 5 Past Home Q2 Score Min : 0.1411982405355171\n",
      "Rolling 3 Past Home Q2 Score : 0.17384963045672522\n",
      "Rolling 3 Past Home Q2 Score Avg : 0.1738496304567252\n",
      "Rolling 3 Past Home Q2 Score Max : 0.1389569538225784\n",
      "Rolling 3 Past Home Q2 Score Min : 0.12377805051554068\n",
      "Previous Home Q2 Score : 0.05932837280271129\n",
      "Rolling 5 Past Home Q3 Score : 0.19641054208786307\n",
      "Rolling 5 Past Home Q3 Score Avg : 0.19641054208786313\n",
      "Rolling 5 Past Home Q3 Score Max : 0.14820113157140005\n",
      "Rolling 5 Past Home Q3 Score Min : 0.16764956631670805\n",
      "Rolling 3 Past Home Q3 Score : 0.1778373630415388\n",
      "Rolling 3 Past Home Q3 Score Avg : 0.17783736304153877\n",
      "Rolling 3 Past Home Q3 Score Max : 0.1359169309951728\n",
      "Rolling 3 Past Home Q3 Score Min : 0.1720816685120291\n",
      "Previous Home Q3 Score : 0.11800055972678297\n",
      "Rolling 5 Past Home Q4 Score : 0.10135110331951108\n",
      "Rolling 5 Past Home Q4 Score Avg : 0.10135110331951117\n",
      "Rolling 5 Past Home Q4 Score Max : 0.04507875987977239\n",
      "Rolling 5 Past Home Q4 Score Min : 0.0713232450645714\n",
      "Rolling 3 Past Home Q4 Score : 0.11432709618817216\n",
      "Rolling 3 Past Home Q4 Score Avg : 0.11432709618817227\n",
      "Rolling 3 Past Home Q4 Score Max : 0.06997903320136939\n",
      "Rolling 3 Past Home Q4 Score Min : 0.11698715821117628\n",
      "Previous Home Q4 Score : 0.08869967811539752\n",
      "Rolling 5 Past Home Total Odds : 0.16328489589806108\n",
      "Rolling 5 Past Home Total Odds Avg : 0.16328489589806108\n",
      "Rolling 5 Past Home Total Odds Max : 0.11347316051059798\n",
      "Rolling 5 Past Home Total Odds Min : 0.16762074191131615\n",
      "Rolling 3 Past Home Total Odds : 0.1634122821216098\n",
      "Rolling 3 Past Home Total Odds Avg : 0.16341228212160971\n",
      "Rolling 3 Past Home Total Odds Max : 0.13235971375508113\n",
      "Rolling 3 Past Home Total Odds Min : 0.1700129302490073\n",
      "Previous Home Total Odds : 0.1593046311792364\n",
      "Rolling 5 Past Home Spread : -0.2751144426606218\n",
      "Rolling 5 Past Home Spread Avg : -0.27511444266062174\n",
      "Rolling 5 Past Home Spread Max : -0.20669896744682725\n",
      "Rolling 5 Past Home Spread Min : -0.24969648356295124\n",
      "Rolling 3 Past Home Spread : -0.27686694401572776\n",
      "Rolling 3 Past Home Spread Avg : -0.2768669440157277\n",
      "Rolling 3 Past Home Spread Max : -0.22424848400878428\n",
      "Rolling 3 Past Home Spread Min : -0.27240331785122845\n",
      "Previous Home Spread : -0.22329006499287732\n",
      "Rolling 5 Past Home Ranking : -0.25665670018337144\n",
      "Rolling 5 Past Home Ranking Avg : -0.25665670018337144\n",
      "Rolling 5 Past Home Ranking Max : -0.24019829857484068\n",
      "Rolling 5 Past Home Ranking Min : -0.2149879113635781\n",
      "Rolling 3 Past Home Ranking : -0.261845444058807\n",
      "Rolling 3 Past Home Ranking Avg : -0.26184544405880733\n",
      "Rolling 3 Past Home Ranking Max : -0.2630512432511789\n",
      "Rolling 3 Past Home Ranking Min : -0.22371551604567816\n",
      "Previous Home Ranking : -0.2571161570023907\n",
      "Rolling 5 Past Home ATS Win : 0.018423562318569325\n",
      "Rolling 5 Past Home ATS Win Avg : 0.018423562318569224\n",
      "Rolling 5 Past Home ATS Win Max : 0.021831753946141615\n",
      "Rolling 5 Past Home ATS Win Min : -0.007604437288755491\n",
      "Rolling 3 Past Home ATS Win : 0.01969662366660162\n",
      "Rolling 3 Past Home ATS Win Avg : 0.019696623666601534\n",
      "Rolling 3 Past Home ATS Win Max : 0.06192549552650278\n",
      "Rolling 3 Past Home ATS Win Min : -0.03465889756853937\n",
      "Previous Home ATS Win : 0.044648745110333565\n",
      "Rolling 5 Past Home ATS Push : -0.03484080194325774\n",
      "Rolling 5 Past Home ATS Push Avg : -0.03484080194325774\n",
      "Rolling 5 Past Home ATS Push Max : -0.02466085739211486\n",
      "Rolling 5 Past Home ATS Push Min : nan\n",
      "Rolling 3 Past Home ATS Push : -0.01480919682488451\n",
      "Rolling 3 Past Home ATS Push Avg : -0.01480919682488456\n",
      "Rolling 3 Past Home ATS Push Max : -0.00593153591263479\n",
      "Rolling 3 Past Home ATS Push Min : nan\n",
      "Previous Home ATS Push : -0.04871192322985171\n",
      "Rolling 5 Past Home ATS Loss : -0.006898537923472855\n",
      "Rolling 5 Past Home ATS Loss Avg : -0.006898537923472865\n",
      "Rolling 5 Past Home ATS Loss Max : 0.007420539685110201\n",
      "Rolling 5 Past Home ATS Loss Min : -0.01414220420080792\n",
      "Rolling 3 Past Home ATS Loss : -0.015036560706932912\n",
      "Rolling 3 Past Home ATS Loss Avg : -0.015036560706932907\n",
      "Rolling 3 Past Home ATS Loss Max : 0.026443425846012107\n",
      "Rolling 3 Past Home ATS Loss Min : -0.042683773817985944\n",
      "Previous Home ATS Loss : -0.02835575361226238\n",
      "Rolling 5 Past Home Over Odds : 0.04396914475548888\n",
      "Rolling 5 Past Home Over Odds Avg : 0.04396914475548873\n",
      "Rolling 5 Past Home Over Odds Max : 0.09622148756251489\n",
      "Rolling 5 Past Home Over Odds Min : -0.02264238978739019\n",
      "Rolling 3 Past Home Over Odds : 0.042767025999516185\n",
      "Rolling 3 Past Home Over Oddss Avg : 0.04276702599951607\n",
      "Rolling 3 Past Home Over OddsMax : 0.035334005185000475\n",
      "Rolling 3 Past Home Over Odds Min : 0.027656239664609332\n",
      "Previous Home Over Odds : 0.013345459501182853\n",
      "Rolling 5 Past Home Under Odds : -0.0646872628454186\n",
      "Rolling 5 Past Home Under Odds Avg : -0.06468726284541852\n",
      "Rolling 5 Past Home Under Odds Max : 0.02264238978739021\n",
      "Rolling 5 Past Home Under Odds Min : -0.1119790692888837\n",
      "Rolling 3 Past Home Under Odds : -0.05456171381231137\n",
      "Rolling 3 Past Home Under Oddss Avg : -0.05456171381231131\n",
      "Rolling 3 Past Home Under OddsMax : -0.043214946167786775\n",
      "Rolling 3 Past Home Under Odds Min : -0.0375983842667401\n",
      "Previous Home Under Odds : -0.012380157436187821\n",
      "Rolling 5 Past Home Push Odds : 0.10143032678470695\n",
      "Rolling 5 Past Home Push Odds Avg : 0.10143032678470698\n",
      "Rolling 5 Past Home Push Odds Max : 0.10143032678470695\n",
      "Rolling 5 Past Home Push Odds Min : nan\n",
      "Rolling 3 Past Home Push Odds : 0.055412649648635216\n",
      "Rolling 3 Past Home Push Oddss Avg : 0.0554126496486352\n"
     ]
    },
    {
     "name": "stdout",
     "output_type": "stream",
     "text": [
      "Rolling 3 Past Home Push OddsMax : 0.055412649648635216\n",
      "Rolling 3 Past Home Push Odds Min : nan\n",
      "Previous Home Push Odds : -0.004435277839012953\n",
      "Rolling 5 Past Home Passing : 0.24099890964434206\n",
      "Rolling 5 Past Home Passing Avg : 0.24099890964434198\n",
      "Rolling 5 Past Home Passing Max : 0.18778145855979975\n",
      "Rolling 5 Past Home Passing Min : 0.21865458920999153\n",
      "Rolling 3 Past Home Passing : 0.2212457836160942\n",
      "Rolling 3 Past Home Passing Avg : 0.22124578361609415\n",
      "Rolling 3 Past Home Passing Max : 0.19679976458396153\n",
      "Rolling 3 Past Home Passing Min : 0.19693593252667382\n",
      "Rolling 5 Past H&A Score_Home_Team : 0.3344825115215135\n",
      "Rolling 5 Past H&A Score Avg_Home_Team : 0.33448251152151354\n",
      "Rolling 5 Past H&A Score Max_Home_Team : 0.2807449367286208\n",
      "Rolling 5 Past H&A Score Min_Home_Team : 0.2731018043420944\n",
      "Rolling 3 Past H&A Score_Home_Team : 0.29445679427065563\n",
      "Rolling 3 Past H&A Score Avg_Home_Team : 0.2944567942706558\n",
      "Rolling 3 Past H&A Score Max_Home_Team : 0.27231054600341037\n",
      "Rolling 3 Past H&A Score Min_Home_Team : 0.2431823531114165\n",
      "Past H&A Score_Home_Team : 0.2489165534695917\n",
      "Rolling 5 Past H&A HI Pass yrds_Home_Team : 0.2521043251659914\n",
      "Rolling 5 Past H&A HI Pass yrds Avg_Home_Team : 0.25210432516599157\n",
      "Rolling 5 Past H&A HI Pass yrds Max_Home_Team : 0.2064565490339737\n",
      "Rolling 5 Past H&A HI Pass yrds Min_Home_Team : 0.24133569352792178\n",
      "Rolling 3 Past H&A HI Pass yrds_Home_Team : 0.22979708382691677\n",
      "Rolling 3 Past H&A HI Pass yrds Avg_Home_Team : 0.22979708382691677\n",
      "Rolling 3 Past H&A HI Pass yrds Max_Home_Team : 0.22158680280830878\n",
      "Rolling 3 Past H&A HI Pass yrds Min_Home_Team : 0.19711186537852435\n",
      "Previous H&A HI Pass yrds_Home_Team : 0.18439911052331132\n",
      "Rolling 5 Past H&A HI Rush yrds_Home_Team : 0.09724212020322467\n",
      "Rolling 5 Past H&A HI Rush yrds Avg_Home_Team : 0.09724212020322463\n",
      "Rolling 5 Past H&A HI Rush yrds Max_Home_Team : 0.052191897281508325\n",
      "Rolling 5 Past H&A HI Rush yrds Min_Home_Team : 0.09946140504227095\n",
      "Rolling 3 Past H&A HI Rush yrds_Home_Team : 0.06690017256157757\n",
      "Rolling 3 Past H&A HI Rush yrds Avg_Home_Team : 0.06690017256157761\n",
      "Rolling 3 Past H&A HI Rush yrds Max_Home_Team : 0.03631643963910316\n",
      "Rolling 3 Past H&A HI Rush yrds Min_Home_Team : 0.08519839389383695\n",
      "Previous H&A HI Rush yrds_Home_Team : 0.056547559855541614\n",
      "Rolling 5 Past H&A HI REC yrds_Home_Team : 0.2461680226819471\n",
      "Rolling 5 Past H&A HI REC yrds Avg_Home_Team : 0.24616802268194707\n",
      "Rolling 5 Past H&A HI REC yrds Max_Home_Team : 0.2064692828442701\n",
      "Rolling 5 Past H&A HI REC yrds Min_Home_Team : 0.19255977168242505\n",
      "Rolling 3 Past H&A HI REC yrds_Home_Team : 0.22383460181427156\n",
      "Rolling 3 Past H&A HI REC yrds Avg_Home_Team : 0.22383460181427145\n",
      "Rolling 3 Past H&A HI REC yrds Max_Home_Team : 0.2048734918116459\n",
      "Rolling 3 Past H&A HI REC yrds Min_Home_Team : 0.1928560264429639\n",
      "Previous H&A HI REC yrds_Home_Team : 0.1670509015857111\n",
      "Rolling 5 Past H&A Season T Wins_Home_Team : 0.26397225631297627\n",
      "Rolling 5 Past H&A Season T Wins Avg_Home_Team : 0.2639722563129761\n",
      "Rolling 5 Past H&A Season T Wins Max_Home_Team : 0.27832527571994453\n",
      "Rolling 5 Past H&A Season T Wins Min_Home_Team : 0.16366478389827252\n",
      "Rolling 3 Past H&A Season T Wins_Home_Team : 0.22822174062946138\n",
      "Rolling 3 Past H&A Season T Wins Avg_Home_Team : 0.22822174062946146\n",
      "Rolling 3 Past H&A Season T Wins Max_Home_Team : 0.23783685437650232\n",
      "Rolling 3 Past H&A Season T Wins Min_Home_Team : 0.15443966260184022\n",
      "Previous H&A Season T Wins_Home_Team : 0.1864560154064544\n",
      "Rolling 5 Past H&A Season T Losses_Home_Team : -0.2931468646265042\n",
      "Rolling 5 Past H&A Season T Losses Avg_Home_Team : -0.29314686462650413\n",
      "Rolling 5 Past H&A Season T Losses Max_Home_Team : -0.2928694431188027\n",
      "Rolling 5 Past H&A Season T Losses Min_Home_Team : -0.21380139791211697\n",
      "Rolling 3 Past H&A Season T Losses_Home_Team : -0.275251559944329\n",
      "Rolling 3 Past H&A Season T Losses Avg_Home_Team : -0.2752515599443289\n",
      "Rolling 3 Past H&A Season T Losses Max_Home_Team : -0.2806529620841787\n",
      "Rolling 3 Past H&A Season T Losses Min_Home_Team : -0.21117812759378352\n",
      "Previous H&A Season Losses_Home_Team : -0.23780425682228204\n",
      "Rolling 5 Past H&A Conf T Wins_Home_Team : 0.2760064907130442\n",
      "Rolling 5 Past H&A Conf T Wins Avg_Home_Team : 0.27600649071304423\n",
      "Rolling 5 Past H&A Conf T Wins Max_Home_Team : 0.28463220580600956\n",
      "Rolling 5 Past H&A Conf T Wins Min_Home_Team : 0.1788678382472894\n",
      "Rolling 3 Past H&A Conf T Wins_Home_Team : 0.24045608347201256\n",
      "Rolling 3 Past H&A Conf T Wins Avg_Home_Team : 0.24045608347201247\n",
      "Rolling 3 Past H&A Conf T Wins Max_Home_Team : 0.24342743509677914\n",
      "Rolling 3 Past H&A Conf T Wins Min_Home_Team : 0.17269691708185023\n",
      "Previous H&A Conf Wins_Home_Team : 0.19995047674333122\n",
      "Rolling 5 Past H&A Conf T Losses_Home_Team : -0.28822228936094874\n",
      "Rolling 5 Past H&A Conf T Losses Avg_Home_Team : -0.2882222893609488\n",
      "Rolling 5 Past H&A Conf T Losses Max_Home_Team : -0.2834611080211331\n",
      "Rolling 5 Past H&A Conf T Losses Min_Home_Team : -0.19699122740763997\n",
      "Rolling 3 Past H&A Conf T Losses_Home_Team : -0.2678125495723266\n",
      "Rolling 3 Past H&A Conf T Losses Avg_Home_Team : -0.2678125495723266\n",
      "Rolling 3 Past H&A Conf T Losses Max_Home_Team : -0.2739688534867535\n",
      "Rolling 3 Past H&A Conf T Losses Min_Home_Team : -0.19776632862570187\n",
      "Previous H&A Conf Losses_Home_Team : -0.22327786938270672\n",
      "Rolling 5 Past H&A 1st Downs_Home_Team : 0.3092448746250751\n",
      "Rolling 5 Past H&A 1st Downs Avg_Home_Team : 0.309244874625075\n",
      "Rolling 5 Past H&A 1st Downs Max_Home_Team : 0.22481222745926266\n",
      "Rolling 5 Past H&A 1st Downs Min_Home_Team : 0.2610615497847795\n",
      "Rolling 3 Past H&A 1st Downs_Home_Team : 0.2927326803117496\n",
      "Rolling 3 Past H&A 1st Downs Avg_Home_Team : 0.29273268031174965\n",
      "Rolling 3 Past H&A 1st Downs Max_Home_Team : 0.23147673112465406\n",
      "Rolling 3 Past H&A 1st Downs Min_Home_Team : 0.26540520501293574\n",
      "Previous H&A 1st Downs_Home_Team : 0.23217822841964741\n",
      "Rolling 5 Past H&A 3rd Down Conversions_Home_Team : 0.17488894997202406\n",
      "Rolling 5 Past H&A 3rd Down Conversion Avg_Home_Team : 0.174888949972024\n",
      "Rolling 5 Past H&A 3rd Down Conversion Max_Home_Team : 0.12089127194654063\n",
      "Rolling 5 Past H&A 3rd Down Conversion Min_Home_Team : 0.1604835021829399\n",
      "Rolling 3 Past H&A 3rd Down Conversion_Home_Team : 0.15114614800723816\n",
      "Rolling 3 Past H&A 3rd Down Conversion Avg_Home_Team : 0.15114614800723816\n",
      "Rolling 3 Past H&A 3rd Down Conversion Max_Home_Team : 0.10973635599355988\n",
      "Rolling 3 Past H&A 3rd Down Conversion Min_Home_Team : 0.1163751494518907\n",
      "Previous H&A 3rd Down Conversions_Home_Team : 0.0708609845608217\n",
      "Rolling 5 Past H&A 3rd Down Conversion Attempts_Home_Team : -0.12666521807300715\n",
      "Rolling 5 Past H&A 3rd Down Conversion Attempts Avg_Home_Team : -0.12666521807300712\n",
      "Rolling 5 Past H&A 3rd Down Conversion Attempts Max_Home_Team : -0.050120617262709576\n",
      "Rolling 5 Past H&A 3rd Down Conversion Attempts Min_Home_Team : -0.14827800906181163\n",
      "Rolling 3 Past H&A 3rd Down Conversion Attempts_Home_Team : -0.12798038425705963\n",
      "Rolling 3 Past H&A 3rd Down Conversion Attempts Avg_Home_Team : -0.12798038425705957\n",
      "Rolling 3 Past H&A 3rd Down Conversion Attempts Max_Home_Team : -0.09351992474122149\n",
      "Rolling 3 Past H&A 3rd Down Conversion Attempts Min_Home_Team : -0.13861659560676093\n",
      "Previous H&A 3rd Down Conversions Attempts_Home_Team : -0.11432381530317387\n",
      "Rolling 5 Past H&A 3rd Down Conversion %_Home_Team : 0.2748305102965743\n",
      "Rolling 5 Past H&A 3rd Down Conversion % Avg_Home_Team : 0.2748305102965741\n",
      "Rolling 5 Past H&A 3rd Down Conversion % Max_Home_Team : 0.23948002352144246\n",
      "Rolling 5 Past H&A 3rd Down Conversion % Min_Home_Team : 0.20224206265700423\n",
      "Rolling 3 Past H&A 3rd Down Conversion %_Home_Team : 0.25334128581827325\n",
      "Rolling 3 Past H&A 3rd Down Conversion % Avg_Home_Team : 0.25334128581827325\n",
      "Rolling 3 Past H&A 3rd Down Conversion % Max_Home_Team : 0.2628254011223936\n",
      "Rolling 3 Past H&A 3rd Down Conversion % Min_Home_Team : 0.1741977547888814\n",
      "Previous H&A 3rd Down Conversions %_Home_Team : 0.16231075151398897\n",
      "Rolling 5 Past H&A 4th Down Conversions_Home_Team : -0.03505150064371087\n",
      "Rolling 5 Past H&A 4th Down Conversions Avg_Home_Team : -0.03505150064371086\n",
      "Rolling 5 Past H&A 4th Down Conversions Max_Home_Team : -0.045285445973150505\n",
      "Rolling 5 Past H&A 4th Down Conversions Min_Home_Team : -0.03249454131702733\n",
      "Rolling 3 Past H&A 4th Down Conversions_Home_Team : -0.02939425693946086\n",
      "Rolling 3 Past H&A 4th Down Conversions Avg_Home_Team : -0.029394256939460843\n",
      "Rolling 3 Past H&A 4th Down Conversions Max_Home_Team : -0.035216130256423644\n",
      "Rolling 3 Past H&A 4th Down Conversions Min_Home_Team : 0.0086445204668962\n",
      "Previous H&A 4th Down Conversions_Home_Team : -0.0038386289022522145\n",
      "Rolling 5 Past H&A 4th Down Conversion Attempts_Home_Team : -0.09976304799102861\n",
      "Rolling 5 Past H&A 4th Down Conversion Attempts Avg_Home_Team : -0.0997630479910286\n",
      "Rolling 5 Past H&A 4th Down Conversion Attempts Max_Home_Team : -0.07785742565639031\n",
      "Rolling 5 Past H&A 4th Down Conversion Attempts Min_Home_Team : -0.0781614648474536\n",
      "Rolling 3 Past H&A 4th Down Conversion Attempts_Home_Team : -0.06800470244679838\n",
      "Rolling 3 Past H&A 4th Down Conversion Attempts Avg_Home_Team : -0.06800470244679843\n",
      "Rolling 3 Past H&A 4th Down Conversion Attempts Max_Home_Team : -0.052114136911745775\n",
      "Rolling 3 Past H&A 4th Down Conversion Attempts Min_Home_Team : -0.06136491752354198\n",
      "Previous H&A 4th Down Conversions Attempts_Home_Team : -0.010318730460815637\n",
      "Rolling 5 Past H&A 4th Down Conversion %_Home_Team : 0.02603158245030457\n",
      "Rolling 5 Past H&A 4th Down Conversion % Avg_Home_Team : 0.02603158245030449\n",
      "Rolling 5 Past H&A 4th Down Conversion % Max_Home_Team : 0.0705781709604079\n",
      "Rolling 5 Past H&A 4th Down Conversion % Min_Home_Team : -0.04535637309371989\n",
      "Rolling 3 Past H&A 4th Down Conversion %_Home_Team : 0.019110992951900687\n",
      "Rolling 3 Past H&A 4th Down Conversion % Avg_Home_Team : 0.01911099295190062\n",
      "Rolling 3 Past H&A 4th Down Conversion % Max_Home_Team : 0.04163803378842506\n",
      "Rolling 3 Past H&A 4th Down Conversion % Min_Home_Team : 0.0016093240036548241\n",
      "Previous H&A 4th Down Conversions %_Home_Team : -0.0004272456042626853\n",
      "Rolling 5 Past H&A Completions_Home_Team : 0.1554470566026573\n",
      "Rolling 5 Past H&A Completions Avg_Home_Team : 0.1554470566026574\n",
      "Rolling 5 Past H&A Completions Max_Home_Team : 0.10614672137901618\n",
      "Rolling 5 Past H&A Completions Min_Home_Team : 0.17819949801310195\n",
      "Rolling 3 Past H&A Completions_Home_Team : 0.15274186418112204\n",
      "Rolling 3 Past H&A Completions Avg_Home_Team : 0.15274186418112193\n",
      "Rolling 3 Past H&A Completions Max_Home_Team : 0.12967733433993592\n",
      "Rolling 3 Past H&A Completions Min_Home_Team : 0.15194263921168386\n",
      "Previous H&A Completions_Home_Team : 0.12494850054178974\n",
      "Rolling 5 Past H&A Completion Attempts_Home_Team : 0.041362773031519\n",
      "Rolling 5 Past H&A Completion Attempts Avg_Home_Team : 0.04136277303151902\n",
      "Rolling 5 Past H&A Completion Attempts Max_Home_Team : 0.01936247644541286\n",
      "Rolling 5 Past H&A Completion Attempts Min_Home_Team : 0.056920844689109094\n",
      "Rolling 3 Past H&A Completion Attempts_Home_Team : 0.040280780071176504\n",
      "Rolling 3 Past H&A Completion Attempts Avg_Home_Team : 0.0402807800711765\n",
      "Rolling 3 Past H&A Completion Attempts Max_Home_Team : 0.043803243257240616\n",
      "Rolling 3 Past H&A Completion Attempts Min_Home_Team : 0.030152993036715585\n",
      "Previous H&A Completion Attempts_Home_Team : 0.015310828208019663\n",
      "Rolling 5 Past H&A Completion %_Home_Team : 0.2841990444741295\n",
      "Rolling 5 Past H&A Completion % Avg_Home_Team : 0.2841990444741296\n",
      "Rolling 5 Past H&A Completion % Max_Home_Team : 0.21322212386626535\n",
      "Rolling 5 Past H&A Completion % Min_Home_Team : 0.21372602782182362\n",
      "Rolling 3 Past H&A Completion %_Home_Team : 0.273638921141254\n",
      "Rolling 3 Past H&A Completion % Avg_Home_Team : 0.27363892114125415\n",
      "Rolling 3 Past H&A Completion % Max_Home_Team : 0.23232612634548652\n",
      "Rolling 3 Past H&A Completion % Min_Home_Team : 0.20909371472213076\n",
      "Previous H&A Completion %_Home_Team : 0.2337616384440381\n",
      "Rolling 5 Past H&A Total Yards_Home_Team : 0.3271811599939119\n",
      "Rolling 5 Past H&A Total Yards Avg_Home_Team : 0.3271811599939121\n",
      "Rolling 5 Past H&A Total Yards Max_Home_Team : 0.2676332078437542\n",
      "Rolling 5 Past H&A Total Yards Min_Home_Team : 0.24538086301895012\n",
      "Rolling 3 Past H&A Total Yards_Home_Team : 0.29502939939670375\n",
      "Rolling 3 Past H&A Total Yards Avg_Home_Team : 0.29502939939670364\n",
      "Rolling 3 Past H&A Total Yards Max_Home_Team : 0.2756536800272772\n",
      "Rolling 3 Past H&A Total Yards Min_Home_Team : 0.22515238091574324\n",
      "Previous H&A Total Yards_Home_Team : 0.23210706418980911\n",
      "Rolling 5 Past H&A Passing_Home_Team : 0.23534253405133762\n",
      "Rolling 5 Past H&A Passing Avg_Home_Team : 0.2353425340513377\n",
      "Rolling 5 Past H&A Passing Max_Home_Team : 0.19596340084807184\n",
      "Rolling 5 Past H&A Passing Min_Home_Team : 0.20238295854112376\n",
      "Rolling 3 Past H&A Passing_Home_Team : 0.21824153581752045\n",
      "Rolling 3 Past H&A Passing Avg_Home_Team : 0.2182415358175204\n",
      "Rolling 3 Past H&A Passing Max_Home_Team : 0.2171459102736148\n",
      "Rolling 3 Past H&A Passing Min_Home_Team : 0.17612737406843387\n",
      "Previous H&A Passing_Home_Team : 0.16760554251384166\n",
      "Rolling 5 Past H&A Yards per Pass_Home_Team : 0.3192216806624247\n",
      "Rolling 5 Past H&A Yards per Pass Avg_Home_Team : 0.3192216806624249\n",
      "Rolling 5 Past H&A Yards per Pass Max_Home_Team : 0.26403601444858177\n",
      "Rolling 5 Past H&A Yards per Pass Min_Home_Team : 0.23534396408851682\n",
      "Rolling 3 Past H&A Yards per Pass_Home_Team : 0.29865562524450817\n",
      "Rolling 3 Past H&A Yards per Pass Avg_Home_Team : 0.29865562524450845\n",
      "Rolling 3 Past H&A Yards per Pass Max_Home_Team : 0.2588537602181298\n",
      "Rolling 3 Past H&A Yards per Pass Min_Home_Team : 0.25916849752610627\n",
      "Previous H&A Yards per Pass_Home_Team : 0.2185553238961865\n",
      "Rolling 5 Past H&A Rushing_Home_Team : 0.1869947993138958\n",
      "Rolling 5 Past H&A Rushing Avg_Home_Team : 0.18699479931389568\n"
     ]
    },
    {
     "name": "stdout",
     "output_type": "stream",
     "text": [
      "Rolling 5 Past H&A Rushing Max_Home_Team : 0.12451127200918062\n",
      "Rolling 5 Past H&A Rushing Min_Home_Team : 0.148955094706232\n",
      "Rolling 3 Past H&A Rushing_Home_Team : 0.16737129262554695\n",
      "Rolling 3 Past H&A Rushing Avg_Home_Team : 0.16737129262554695\n",
      "Rolling 3 Past H&A Rushing Max_Home_Team : 0.1331188061510166\n",
      "Rolling 3 Past H&A Rushing Min_Home_Team : 0.12623275668638095\n",
      "Previous H&A Rushing_Home_Team : 0.14134064302646346\n",
      "Rolling 5 Past H&A Rushing Attempts_Home_Team : 0.10624038580360286\n",
      "Rolling 5 Past H&A Rushing Attempts Avg_Home_Team : 0.10624038580360293\n",
      "Rolling 5 Past H&A Rushing Attempts Max_Home_Team : 0.06622448377837445\n",
      "Rolling 5 Past H&A Rushing Attempts Min_Home_Team : 0.07453481092958156\n",
      "Rolling 3 Past H&A Rushing Attempts_Home_Team : 0.08659756423348702\n",
      "Rolling 3 Past H&A Rushing Attempts Avg_Home_Team : 0.08659756423348691\n",
      "Rolling 3 Past H&A Rushing Attempts Max_Home_Team : 0.046116253232290995\n",
      "Rolling 3 Past H&A Rushing Attempts Min_Home_Team : 0.08466467138811688\n",
      "Previous H&A Rushing Attempts_Home_Team : 0.08168105371719676\n",
      "Rolling 5 Past H&A Yards per Rush_Home_Team : 0.2058597437314409\n",
      "Rolling 5 Past H&A Yards per Rush Avg_Home_Team : 0.20585974373144095\n",
      "Rolling 5 Past H&A Yards per Rush Max_Home_Team : 0.14807489526328788\n",
      "Rolling 5 Past H&A Yards per Rush Min_Home_Team : 0.14039501327516904\n",
      "Rolling 3 Past H&A Yards per Rush_Home_Team : 0.18376495690788378\n",
      "Rolling 3 Past H&A Yards per Rush Avg_Home_Team : 0.18376495690788364\n",
      "Rolling 3 Past H&A Yards per Rush Max_Home_Team : 0.16122005317702812\n",
      "Rolling 3 Past H&A Yards per Rush Min_Home_Team : 0.12371390745785892\n",
      "Previous H&A Yards per Rush_Home_Team : 0.1462592396486213\n",
      "Rolling 5 Past H&A Penalties_Home_Team : 0.1012762291752538\n",
      "Rolling 5 Past H&A Penalties Avg_Home_Team : 0.10127622917525367\n",
      "Rolling 5 Past H&A Penalties Max_Home_Team : 0.07685309885320288\n",
      "Rolling 5 Past H&A Penalties Min_Home_Team : 0.095627578905758\n",
      "Rolling 3 Past H&A Penalties_Home_Team : 0.08869619477781025\n",
      "Rolling 3 Past H&A Penalties Avg_Home_Team : 0.08869619477781018\n",
      "Rolling 3 Past H&A Penalties Max_Home_Team : 0.05013718634746258\n",
      "Rolling 3 Past H&A Penalties Min_Home_Team : 0.10257210947811411\n",
      "Previous H&A Penalties_Home_Team : 0.07316281343142961\n",
      "Rolling 5 Past H&A Penalty Yards_Home_Team : 0.10366716843602855\n",
      "Rolling 5 Past H&A Penalty Yards Avg_Home_Team : 0.10366716843602854\n",
      "Rolling 5 Past H&A Penalty Yards Max_Home_Team : 0.0817540458146607\n",
      "Rolling 5 Past H&A Penalty Yards Min_Home_Team : 0.06870939699239334\n",
      "Rolling 3 Past H&A Penalty Yards_Home_Team : 0.0924203805112911\n",
      "Rolling 3 Past H&A Penalty Yards Avg_Home_Team : 0.09242038051129117\n",
      "Rolling 3 Past H&A Penalty Yards Max_Home_Team : 0.06875089223463882\n",
      "Rolling 3 Past H&A Penalty Yards Min_Home_Team : 0.10056663700948654\n",
      "Previous H&A Penalty Yards_Home_Team : 0.08841626301165759\n",
      "Rolling 5 Past H&A Yards per Penalty_Home_Team : 0.07937025730895038\n",
      "Rolling 5 Past H&A Yards per Penalty Avg_Home_Team : 0.07937025730895039\n",
      "Rolling 5 Past H&A Yards per Penalty Max_Home_Team : 0.05418484095927121\n",
      "Rolling 5 Past H&A Yards per Penalty Min_Home_Team : 0.07570221931710017\n",
      "Rolling 3 Past H&A Yards per Penalty_Home_Team : 0.09079818609547895\n",
      "Rolling 3 Past H&A Yards per Penalty Avg_Home_Team : 0.09079818609547907\n",
      "Rolling 3 Past H&A Yards per Penalty Max_Home_Team : 0.07120427591058284\n",
      "Rolling 3 Past H&A Yards per Penalty Min_Home_Team : 0.10174840855940806\n",
      "Previous H&A Yards per Penalty_Home_Team : 0.08572340365537173\n",
      "Rolling 5 Past H&A Turnovers_Home_Team : -0.12126038308359344\n",
      "Rolling 5 Past H&A Turnovers Avg_Home_Team : -0.12126038308359345\n",
      "Rolling 5 Past H&A Turnovers Max_Home_Team : -0.11755190440453835\n",
      "Rolling 5 Past H&A Turnovers Min_Home_Team : -0.08074717978135802\n",
      "Rolling 3 Past H&A Turnovers_Home_Team : -0.11140326702657706\n",
      "Rolling 3 Past H&A Turnovers Avg_Home_Team : -0.11140326702657717\n",
      "Rolling 3 Past H&A Turnovers Max_Home_Team : -0.1267337188682353\n",
      "Rolling 3 Past H&A Turnovers Min_Home_Team : -0.07359555491306252\n",
      "Previous H&A Turnovers_Home_Team : -0.10678405240978812\n",
      "Rolling 5 Past H&A Fumbles Lost_Home_Team : -0.021063471118402326\n",
      "Rolling 5 Past H&A Fumbles Lost Avg_Home_Team : -0.021063471118402437\n",
      "Rolling 5 Past H&A Fumbles Lost Max_Home_Team : -0.02622525032744807\n",
      "Rolling 5 Past H&A Fumbles Lost Min_Home_Team : -0.02047901452059592\n",
      "Rolling 3 Past H&A Fumbles Lost_Home_Team : -0.027657050716199696\n",
      "Rolling 3 Past H&A Fumbles Lost Avg_Home_Team : -0.02765705071619965\n",
      "Rolling 3 Past H&A Fumbles Lost Max_Home_Team : -0.036171773445386204\n",
      "Rolling 3 Past H&A Fumbles Lost Min_Home_Team : -0.044949613968889975\n",
      "Previous H&A Fumbles Lost_Home_Team : -0.03731355782756269\n",
      "Rolling 5 Past H&A Interceptions Thrown_Home_Team : -0.14418810166016893\n",
      "Rolling 5 Past H&A Interceptions Thrown Avg_Home_Team : -0.144188101660169\n",
      "Rolling 5 Past H&A Interceptions Thrown Max_Home_Team : -0.10172590642530106\n",
      "Rolling 5 Past H&A Interceptions Thrown Min_Home_Team : -0.09211148897878797\n",
      "Rolling 3 Past H&A Interceptions Thrown_Home_Team : -0.1260395409963974\n",
      "Rolling 3 Past H&A Interceptions Thrown Avg_Home_Team : -0.12603954099639736\n",
      "Rolling 3 Past H&A Interceptions Thrown Max_Home_Team : -0.09269620585494596\n",
      "Rolling 3 Past H&A Interceptions Thrown Min_Home_Team : -0.09445274726905531\n",
      "Previous H&A Interceptions Thrown_Home_Team : -0.10979877673229516\n",
      "Rolling 5 Past H&A Possession Time_Home_Team : 0.15013286173714208\n",
      "Rolling 5 Past H&A Possession Time Avg_Home_Team : 0.15013286173714202\n",
      "Rolling 5 Past H&A Possession Time Max_Home_Team : 0.14939150071946428\n",
      "Rolling 5 Past H&A Possession Time Min_Home_Team : 0.13117428722864372\n",
      "Rolling 3 Past H&A Possession Time_Home_Team : 0.1606493700595258\n",
      "Rolling 3 Past H&A Possession Time Avg_Home_Team : 0.16064937005952565\n",
      "Rolling 3 Past H&A Possession Time Max_Home_Team : 0.16131518993156854\n",
      "Rolling 3 Past H&A Possession Time Min_Home_Team : 0.14016074984693958\n",
      "Previous H&A Possession Time_Home_Team : 0.14562215854884156\n",
      "Rolling 5 Past H&A Q1 Score_Home_Team : 0.2566865512675871\n",
      "Rolling 5 Past H&A Q1 Score Avg_Home_Team : 0.25668655126758716\n",
      "Rolling 5 Past H&A Q1 Score Max_Home_Team : 0.2030047854397886\n",
      "Rolling 5 Past H&A Q1 Score Min_Home_Team : 0.17388258666581458\n",
      "Rolling 3 Past H&A Q1 Score_Home_Team : 0.2323668107884887\n",
      "Rolling 3 Past H&A Q1 Score Avg_Home_Team : 0.23236681078848875\n",
      "Rolling 3 Past H&A Q1 Score Max_Home_Team : 0.22127585082398502\n",
      "Rolling 3 Past H&A Q1 Score Min_Home_Team : 0.14852526993027995\n",
      "Previous H&A Q1 Score_Home_Team : 0.21353844607099548\n",
      "Rolling 5 Past H&A Q2 Score_Home_Team : 0.23210488166952412\n",
      "Rolling 5 Past H&A Q2 Score Avg_Home_Team : 0.232104881669524\n",
      "Rolling 5 Past H&A Q2 Score Max_Home_Team : 0.17487244109829767\n",
      "Rolling 5 Past H&A Q2 Score Min_Home_Team : 0.18966677916394908\n",
      "Rolling 3 Past H&A Q2 Score_Home_Team : 0.19205111848401973\n",
      "Rolling 3 Past H&A Q2 Score Avg_Home_Team : 0.1920511184840195\n",
      "Rolling 3 Past H&A Q2 Score Max_Home_Team : 0.13513058240508696\n",
      "Rolling 3 Past H&A Q2 Score Min_Home_Team : 0.16986989344639805\n",
      "Previous H&A Q2 Score_Home_Team : 0.11245390428729284\n",
      "Rolling 5 Past H&A Q3 Score_Home_Team : 0.22989124883508308\n",
      "Rolling 5 Past H&A Q3 Score Avg_Home_Team : 0.22989124883508316\n",
      "Rolling 5 Past H&A Q3 Score Max_Home_Team : 0.149227971250734\n",
      "Rolling 5 Past H&A Q3 Score Min_Home_Team : 0.20415285750913179\n",
      "Rolling 3 Past H&A Q3 Score_Home_Team : 0.21262081101511743\n",
      "Rolling 3 Past H&A Q3 Score Avg_Home_Team : 0.21262081101511762\n",
      "Rolling 3 Past H&A Q3 Score Max_Home_Team : 0.1841999556196819\n",
      "Rolling 3 Past H&A Q3 Score Min_Home_Team : 0.18728788356461562\n",
      "Previous H&A Q3 Score_Home_Team : 0.16293244011080488\n",
      "Rolling 5 Past H&A Q4 Score_Home_Team : 0.205557750626022\n",
      "Rolling 5 Past H&A Q4 Score Avg_Home_Team : 0.20555775062602202\n",
      "Rolling 5 Past H&A Q4 Score Max_Home_Team : 0.12699492935565407\n",
      "Rolling 5 Past H&A Q4 Score Min_Home_Team : 0.13560890641808107\n",
      "Rolling 3 Past H&A Q4 Score_Home_Team : 0.12477993028130822\n",
      "Rolling 3 Past H&A Q4 Score Avg_Home_Team : 0.12477993028130836\n",
      "Rolling 3 Past H&A Q4 Score Max_Home_Team : 0.09988673735631914\n",
      "Rolling 3 Past H&A Q4 Score Min_Home_Team : 0.09219178313239931\n",
      "Previous H&A Q4 Score_Home_Team : 0.09869910483232837\n",
      "Rolling 5 Past H&A Total Odds_Home_Team : 0.2017836005678832\n",
      "Rolling 5 Past H&A Total Odds Avg_Home_Team : 0.20178360056788328\n",
      "Rolling 5 Past H&A Total Odds Max_Home_Team : 0.17489751021367533\n",
      "Rolling 5 Past H&A Total Odds Min_Home_Team : 0.1887730200374614\n",
      "Rolling 3 Past H&A Total Odds_Home_Team : 0.19400878854665884\n",
      "Rolling 3 Past H&A Total Odds Avg_Home_Team : 0.19400878854665876\n",
      "Rolling 3 Past H&A Total Odds Max_Home_Team : 0.16318762754575802\n",
      "Rolling 3 Past H&A Total Odds Min_Home_Team : 0.19151494015365236\n",
      "Previous H&A Total Odds_Home_Team : 0.17990991856541527\n",
      "Rolling 5 Past H&A Spread_Home_Team : -0.30309173762453273\n",
      "Rolling 5 Past H&A Spread Avg_Home_Team : -0.3030917376245325\n",
      "Rolling 5 Past H&A Spread Max_Home_Team : -0.23077316065399897\n",
      "Rolling 5 Past H&A Spread Min_Home_Team : -0.3004064560899939\n",
      "Rolling 3 Past H&A Spread_Home_Team : -0.2891859087355622\n",
      "Rolling 3 Past H&A Spread Avg_Home_Team : -0.2891859087355622\n",
      "Rolling 3 Past H&A Spread Max_Home_Team : -0.2393997620973795\n",
      "Rolling 3 Past H&A Spread Min_Home_Team : -0.26981900444807333\n",
      "Previous H&A Spread_Home_Team : -0.24565339516987314\n",
      "Rolling 5 Past H&A Ranking_Home_Team : -0.27863069130599954\n",
      "Rolling 5 Past H&A Ranking Avg_Home_Team : -0.2786306913059998\n",
      "Rolling 5 Past H&A Ranking Max_Home_Team : -0.27664636223586897\n",
      "Rolling 5 Past H&A Ranking Min_Home_Team : -0.24708799042917717\n",
      "Rolling 3 Past H&A Ranking_Home_Team : -0.28423677197772845\n",
      "Rolling 3 Past H&A Ranking Avg_Home_Team : -0.2842367719777278\n",
      "Rolling 3 Past H&A Ranking Max_Home_Team : -0.2624927388003305\n",
      "Rolling 3 Past H&A Ranking Min_Home_Team : -0.27332815400343197\n",
      "Previous H&A Ranking_Home_Team : -0.2817341952474869\n",
      "Rolling 5 Past H&A ATS Win_Home_Team : 0.04064273195212627\n",
      "Rolling 5 Past H&A ATS Win Avg_Home_Team : 0.040642731952126254\n",
      "Rolling 5 Past H&A ATS Win Max_Home_Team : 0.03856232578838675\n",
      "Rolling 5 Past H&A ATS Win Min_Home_Team : 0.009665167442513724\n",
      "Rolling 3 Past H&A ATS Win_Home_Team : 0.06004777047686913\n",
      "Rolling 3 Past H&A ATS Win Avg_Home_Team : 0.060047770476869114\n",
      "Rolling 3 Past H&A ATS Win Max_Home_Team : 0.0733277578311328\n",
      "Rolling 3 Past H&A ATS Win Min_Home_Team : 0.03970484994727551\n",
      "Previous H&A ATS Win_Home_Team : -0.0025100516839469036\n",
      "Rolling 5 Past H&A ATS Loss_Home_Team : -0.03990608704557972\n",
      "Rolling 5 Past H&A ATS Loss Avg_Home_Team : -0.03990608704557984\n",
      "Rolling 5 Past H&A ATS Loss Max_Home_Team : -0.0027752287958372757\n",
      "Rolling 5 Past H&A ATS Loss Min_Home_Team : -0.05919230897687661\n",
      "Rolling 3 Past H&A ATS Loss_Home_Team : -0.06159442024120065\n",
      "Rolling 3 Past H&A ATS Loss Avg_Home_Team : -0.061594420241200716\n",
      "Rolling 3 Past H&A ATS Loss Max_Home_Team : -0.033579987759488374\n",
      "Rolling 3 Past H&A ATS Loss Min_Home_Team : -0.07735359386687868\n",
      "Previous H&A ATS Loss_Home_Team : -0.007052301105553661\n",
      "Rolling 5 Past H&A ATS Push_Home_Team : -0.002472029762222375\n",
      "Rolling 5 Past H&A ATS Push Avg_Home_Team : -0.0024720297622223774\n",
      "Rolling 5 Past H&A ATS Push Max_Home_Team : -0.000758859092757055\n",
      "Rolling 5 Past H&A ATS Push Min_Home_Team : nan\n",
      "Rolling 3 Past H&A ATS Push_Home_Team : 0.005021017167595109\n",
      "Rolling 3 Past H&A ATS Push Avg_Home_Team : 0.005021017167595072\n",
      "Rolling 3 Past H&A ATS Push Max_Home_Team : 0.005950084691823755\n",
      "Rolling 3 Past H&A ATS Push Min_Home_Team : nan\n",
      "Previous H&A ATS Push_Home_Team : 0.03131266219565705\n",
      "Rolling 5 Past H&A Over Odds_Home_Team : 0.0660246397831989\n",
      "Rolling 5 Past H&A Over Odds Avg_Home_Team : 0.0660246397831989\n"
     ]
    },
    {
     "name": "stdout",
     "output_type": "stream",
     "text": [
      "Rolling 5 Past H&A Over Odds Max_Home_Team : 0.023027243908364102\n",
      "Rolling 5 Past H&A Over Odds Min_Home_Team : 0.05123757381196508\n",
      "Rolling 3 Past H&A Over Odds_Home_Team : 0.05639697183991152\n",
      "Rolling 3 Past H&A Over Oddss Avg_Home_Team : 0.056396971839911554\n",
      "Rolling 3 Past H&A Over OddsMax_Home_Team : 0.03857034031575381\n",
      "Rolling 3 Past H&A Over Odds Min_Home_Team : 0.06680385145969721\n",
      "Previous H&A Over Odds_Home_Team : 0.05762899970241032\n",
      "Rolling 5 Past H&A Under Odds_Home_Team : -0.08206444367731985\n",
      "Rolling 5 Past H&A Under Odds Avg_Home_Team : -0.08206444367731976\n",
      "Rolling 5 Past H&A Under Odds Max_Home_Team : -0.051237573811965094\n",
      "Rolling 5 Past H&A Under Odds Min_Home_Team : -0.03443137400602484\n",
      "Rolling 3 Past H&A Under Odds_Home_Team : -0.06673603261420812\n",
      "Rolling 3 Past H&A Under Oddss Avg_Home_Team : -0.06673603261420796\n",
      "Rolling 3 Past H&A Under OddsMax_Home_Team : -0.057882367122616456\n",
      "Rolling 3 Past H&A Under Odds Min_Home_Team : -0.05450246305297178\n",
      "Previous H&A Under Odds_Home_Team : -0.06539549700825786\n",
      "Rolling 5 Past H&A Push Odds_Home_Team : 0.07248540008769806\n",
      "Rolling 5 Past H&A Push Odds Avg_Home_Team : 0.07248540008769813\n",
      "Rolling 5 Past H&A Push Odds Max_Home_Team : 0.07248540008769806\n",
      "Rolling 5 Past H&A Push Odds Min_Home_Team : nan\n",
      "Rolling 3 Past H&A Push Odds_Home_Team : 0.045142269984003516\n",
      "Rolling 3 Past H&A Push Oddss Avg_Home_Team : 0.045142269984003426\n",
      "Rolling 3 Past H&A Push OddsMax_Home_Team : 0.045142269984003516\n",
      "Rolling 3 Past H&A Push Odds Min_Home_Team : nan\n",
      "Rolling 5 Past H&A Score_Away_Team : -0.10273160442356784\n",
      "Rolling 5 Past H&A Score Avg_Away_Team : -0.10273160442356785\n",
      "Rolling 5 Past H&A Score Max_Away_Team : -0.07360530622969745\n",
      "Rolling 5 Past H&A Score Min_Away_Team : -0.09803773243430508\n",
      "Rolling 3 Past H&A Score_Away_Team : -0.09826545895025739\n",
      "Rolling 3 Past H&A Score Avg_Away_Team : -0.09826545895025746\n",
      "Rolling 3 Past H&A Score Max_Away_Team : -0.08654277364616417\n",
      "Rolling 3 Past H&A Score Min_Away_Team : -0.09329571365317914\n",
      "Past H&A Score_Away_Team : -0.0930356600262777\n",
      "Rolling 5 Past H&A HI Pass yrds_Away_Team : 0.06560471387273592\n",
      "Rolling 5 Past H&A HI Pass yrds Avg_Away_Team : 0.0656047138727359\n",
      "Rolling 5 Past H&A HI Pass yrds Max_Away_Team : 0.07488420646134458\n",
      "Rolling 5 Past H&A HI Pass yrds Min_Away_Team : 0.01846110451692112\n",
      "Rolling 3 Past H&A HI Pass yrds_Away_Team : 0.05123518750741795\n",
      "Rolling 3 Past H&A HI Pass yrds Avg_Away_Team : 0.05123518750741795\n",
      "Rolling 3 Past H&A HI Pass yrds Max_Away_Team : 0.05279143084043337\n",
      "Rolling 3 Past H&A HI Pass yrds Min_Away_Team : 0.015663629687899593\n",
      "Previous H&A HI Pass yrds_Away_Team : 0.029925928041543596\n",
      "Rolling 5 Past H&A HI Rush yrds_Away_Team : -0.06367025629598591\n",
      "Rolling 5 Past H&A HI Rush yrds Avg_Away_Team : -0.06367025629598584\n",
      "Rolling 5 Past H&A HI Rush yrds Max_Away_Team : 0.0042031981706201205\n",
      "Rolling 5 Past H&A HI Rush yrds Min_Away_Team : -0.09314802746407638\n",
      "Rolling 3 Past H&A HI Rush yrds_Away_Team : -0.04289048865965821\n",
      "Rolling 3 Past H&A HI Rush yrds Avg_Away_Team : -0.04289048865965824\n",
      "Rolling 3 Past H&A HI Rush yrds Max_Away_Team : 0.010833249263864404\n",
      "Rolling 3 Past H&A HI Rush yrds Min_Away_Team : -0.08163641507918487\n",
      "Previous H&A HI Rush yrds_Away_Team : -0.02843884735817543\n",
      "Rolling 5 Past H&A HI REC yrds_Away_Team : 0.05511143939719297\n",
      "Rolling 5 Past H&A HI REC yrds Avg_Away_Team : 0.05511143939719305\n",
      "Rolling 5 Past H&A HI REC yrds Max_Away_Team : 0.03867903172839857\n",
      "Rolling 5 Past H&A HI REC yrds Min_Away_Team : 0.04906689042684631\n",
      "Rolling 3 Past H&A HI REC yrds_Away_Team : 0.040541846641385985\n",
      "Rolling 3 Past H&A HI REC yrds Avg_Away_Team : 0.04054184664138601\n",
      "Rolling 3 Past H&A HI REC yrds Max_Away_Team : 0.025978283602751402\n",
      "Rolling 3 Past H&A HI REC yrds Min_Away_Team : 0.04398272245331071\n",
      "Previous H&A HI REC yrds_Away_Team : 0.030187666476276666\n",
      "Rolling 5 Past H&A Season T Wins_Away_Team : -0.20218645827868792\n",
      "Rolling 5 Past H&A Season T Wins Avg_Away_Team : -0.20218645827868775\n",
      "Rolling 5 Past H&A Season T Wins Max_Away_Team : -0.19857686783231585\n",
      "Rolling 5 Past H&A Season T Wins Min_Away_Team : -0.14624288585416353\n",
      "Rolling 3 Past H&A Season T Wins_Away_Team : -0.18575699348621788\n",
      "Rolling 3 Past H&A Season T Wins Avg_Away_Team : -0.185756993486218\n",
      "Rolling 3 Past H&A Season T Wins Max_Away_Team : -0.18976029445640846\n",
      "Rolling 3 Past H&A Season T Wins Min_Away_Team : -0.13719814149362622\n",
      "Previous H&A Season T Wins_Away_Team : -0.1725679507891538\n",
      "Rolling 5 Past H&A Season T Losses_Away_Team : 0.259188071224681\n",
      "Rolling 5 Past H&A Season T Losses Avg_Away_Team : 0.2591880712246812\n",
      "Rolling 5 Past H&A Season T Losses Max_Away_Team : 0.2457628318415545\n",
      "Rolling 5 Past H&A Season T Losses Min_Away_Team : 0.19390837927725105\n",
      "Rolling 3 Past H&A Season T Losses_Away_Team : 0.24181832981367746\n",
      "Rolling 3 Past H&A Season T Losses Avg_Away_Team : 0.24181832981367743\n",
      "Rolling 3 Past H&A Season T Losses Max_Away_Team : 0.2433301312794474\n",
      "Rolling 3 Past H&A Season T Losses Min_Away_Team : 0.1881905059829244\n",
      "Previous H&A Season Losses_Away_Team : 0.19897146065059282\n",
      "Rolling 5 Past H&A Conf T Wins_Away_Team : -0.2330775362906814\n",
      "Rolling 5 Past H&A Conf T Wins Avg_Away_Team : -0.23307753629068145\n",
      "Rolling 5 Past H&A Conf T Wins Max_Away_Team : -0.23118976935877536\n",
      "Rolling 5 Past H&A Conf T Wins Min_Away_Team : -0.15552410823014987\n",
      "Rolling 3 Past H&A Conf T Wins_Away_Team : -0.2091483637229383\n",
      "Rolling 3 Past H&A Conf T Wins Avg_Away_Team : -0.2091483637229382\n",
      "Rolling 3 Past H&A Conf T Wins Max_Away_Team : -0.21307805739969501\n",
      "Rolling 3 Past H&A Conf T Wins Min_Away_Team : -0.15590826880229947\n",
      "Previous H&A Conf Wins_Away_Team : -0.18667769437536003\n",
      "Rolling 5 Past H&A Conf T Losses_Away_Team : 0.24827839720638456\n",
      "Rolling 5 Past H&A Conf T Losses Avg_Away_Team : 0.24827839720638445\n",
      "Rolling 5 Past H&A Conf T Losses Max_Away_Team : 0.2407617729386171\n",
      "Rolling 5 Past H&A Conf T Losses Min_Away_Team : 0.15629271092228125\n",
      "Rolling 3 Past H&A Conf T Losses_Away_Team : 0.2250829606874942\n",
      "Rolling 3 Past H&A Conf T Losses Avg_Away_Team : 0.2250829606874942\n",
      "Rolling 3 Past H&A Conf T Losses Max_Away_Team : 0.23216073406059168\n",
      "Rolling 3 Past H&A Conf T Losses Min_Away_Team : 0.15770226423163838\n",
      "Previous H&A Conf Losses_Away_Team : 0.17749518775297146\n",
      "Rolling 5 Past H&A 1st Downs_Away_Team : -0.015190926839659852\n",
      "Rolling 5 Past H&A 1st Downs Avg_Away_Team : -0.015190926839659915\n",
      "Rolling 5 Past H&A 1st Downs Max_Away_Team : 0.05566915155088055\n",
      "Rolling 5 Past H&A 1st Downs Min_Away_Team : -0.07831236826393814\n",
      "Rolling 3 Past H&A 1st Downs_Away_Team : -0.031864084791407316\n",
      "Rolling 3 Past H&A 1st Downs Avg_Away_Team : -0.03186408479140737\n",
      "Rolling 3 Past H&A 1st Downs Max_Away_Team : 0.011126330943820336\n",
      "Rolling 3 Past H&A 1st Downs Min_Away_Team : -0.05854243486503272\n",
      "Previous H&A 1st Downs_Away_Team : -0.030762150079597973\n",
      "Rolling 5 Past H&A 3rd Down Conversions_Away_Team : -0.06338090310790744\n",
      "Rolling 5 Past H&A 3rd Down Conversion Avg_Away_Team : -0.06338090310790744\n",
      "Rolling 5 Past H&A 3rd Down Conversion Max_Away_Team : -0.0557559455015862\n",
      "Rolling 5 Past H&A 3rd Down Conversion Min_Away_Team : -0.07350954691768825\n",
      "Rolling 3 Past H&A 3rd Down Conversion_Away_Team : -0.045440913028733834\n",
      "Rolling 3 Past H&A 3rd Down Conversion Avg_Away_Team : -0.04544091302873381\n",
      "Rolling 3 Past H&A 3rd Down Conversion Max_Away_Team : -0.03863002249833511\n",
      "Rolling 3 Past H&A 3rd Down Conversion Min_Away_Team : -0.03632653078361851\n",
      "Previous H&A 3rd Down Conversions_Away_Team : 0.007961797537692404\n",
      "Rolling 5 Past H&A 3rd Down Conversion Attempts_Away_Team : 0.08463835016742298\n",
      "Rolling 5 Past H&A 3rd Down Conversion Attempts Avg_Away_Team : 0.08463835016742295\n",
      "Rolling 5 Past H&A 3rd Down Conversion Attempts Max_Away_Team : 0.0459206979199864\n",
      "Rolling 5 Past H&A 3rd Down Conversion Attempts Min_Away_Team : 0.06403661794198903\n",
      "Rolling 3 Past H&A 3rd Down Conversion Attempts_Away_Team : 0.07901385808546378\n",
      "Rolling 3 Past H&A 3rd Down Conversion Attempts Avg_Away_Team : 0.07901385808546368\n",
      "Rolling 3 Past H&A 3rd Down Conversion Attempts Max_Away_Team : 0.05211339241983033\n",
      "Rolling 3 Past H&A 3rd Down Conversion Attempts Min_Away_Team : 0.0752964219933288\n",
      "Previous H&A 3rd Down Conversions Attempts_Away_Team : 0.0855561384276421\n",
      "Rolling 5 Past H&A 3rd Down Conversion %_Away_Team : -0.11820907750633301\n",
      "Rolling 5 Past H&A 3rd Down Conversion % Avg_Away_Team : -0.11820907750633299\n",
      "Rolling 5 Past H&A 3rd Down Conversion % Max_Away_Team : -0.09011866403751802\n",
      "Rolling 5 Past H&A 3rd Down Conversion % Min_Away_Team : -0.09496131904145529\n",
      "Rolling 3 Past H&A 3rd Down Conversion %_Away_Team : -0.10268108007774217\n",
      "Rolling 3 Past H&A 3rd Down Conversion % Avg_Away_Team : -0.10268108007774211\n",
      "Rolling 3 Past H&A 3rd Down Conversion % Max_Away_Team : -0.07357891907459474\n",
      "Rolling 3 Past H&A 3rd Down Conversion % Min_Away_Team : -0.0794790072508465\n",
      "Previous H&A 3rd Down Conversions %_Away_Team : -0.03837536330951131\n",
      "Rolling 5 Past H&A 4th Down Conversions_Away_Team : 0.07186938243488525\n",
      "Rolling 5 Past H&A 4th Down Conversions Avg_Away_Team : 0.07186938243488532\n",
      "Rolling 5 Past H&A 4th Down Conversions Max_Away_Team : 0.07564792854333226\n",
      "Rolling 5 Past H&A 4th Down Conversions Min_Away_Team : -0.0047020488727984215\n",
      "Rolling 3 Past H&A 4th Down Conversions_Away_Team : 0.03956564676134561\n",
      "Rolling 3 Past H&A 4th Down Conversions Avg_Away_Team : 0.03956564676134556\n",
      "Rolling 3 Past H&A 4th Down Conversions Max_Away_Team : 0.03571629480189984\n",
      "Rolling 3 Past H&A 4th Down Conversions Min_Away_Team : 0.022422466430784473\n",
      "Previous H&A 4th Down Conversions_Away_Team : 0.034752242847538806\n",
      "Rolling 5 Past H&A 4th Down Conversion Attempts_Away_Team : 0.10893773172905366\n",
      "Rolling 5 Past H&A 4th Down Conversion Attempts Avg_Away_Team : 0.10893773172905374\n",
      "Rolling 5 Past H&A 4th Down Conversion Attempts Max_Away_Team : 0.12250789161906929\n",
      "Rolling 5 Past H&A 4th Down Conversion Attempts Min_Away_Team : 0.06383919130642397\n",
      "Rolling 3 Past H&A 4th Down Conversion Attempts_Away_Team : 0.07810858871130776\n",
      "Rolling 3 Past H&A 4th Down Conversion Attempts Avg_Away_Team : 0.07810858871130782\n",
      "Rolling 3 Past H&A 4th Down Conversion Attempts Max_Away_Team : 0.07900500936794133\n",
      "Rolling 3 Past H&A 4th Down Conversion Attempts Min_Away_Team : 0.06643015581985787\n",
      "Previous H&A 4th Down Conversions Attempts_Away_Team : 0.054669068852501626\n",
      "Rolling 5 Past H&A 4th Down Conversion %_Away_Team : 0.031054614849826575\n",
      "Rolling 5 Past H&A 4th Down Conversion % Avg_Away_Team : 0.031054614849826585\n",
      "Rolling 5 Past H&A 4th Down Conversion % Max_Away_Team : 0.007074240571364228\n",
      "Rolling 5 Past H&A 4th Down Conversion % Min_Away_Team : -0.002332744645867334\n",
      "Rolling 3 Past H&A 4th Down Conversion %_Away_Team : 0.012973772041153634\n",
      "Rolling 3 Past H&A 4th Down Conversion % Avg_Away_Team : 0.01297377204115362\n",
      "Rolling 3 Past H&A 4th Down Conversion % Max_Away_Team : 0.003186442127950914\n",
      "Rolling 3 Past H&A 4th Down Conversion % Min_Away_Team : 0.038499895859693274\n",
      "Previous H&A 4th Down Conversions %_Away_Team : 0.03530345276693843\n",
      "Rolling 5 Past H&A Completions_Away_Team : 0.09626927189668252\n",
      "Rolling 5 Past H&A Completions Avg_Away_Team : 0.09626927189668255\n",
      "Rolling 5 Past H&A Completions Max_Away_Team : 0.09319246475443628\n",
      "Rolling 5 Past H&A Completions Min_Away_Team : 0.06166684845957047\n",
      "Rolling 3 Past H&A Completions_Away_Team : 0.07872658111061431\n",
      "Rolling 3 Past H&A Completions Avg_Away_Team : 0.0787265811106143\n",
      "Rolling 3 Past H&A Completions Max_Away_Team : 0.0775510941075519\n",
      "Rolling 3 Past H&A Completions Min_Away_Team : 0.05717654888164737\n",
      "Previous H&A Completions_Away_Team : 0.06235748827483372\n",
      "Rolling 5 Past H&A Completion Attempts_Away_Team : 0.15389419282622774\n",
      "Rolling 5 Past H&A Completion Attempts Avg_Away_Team : 0.15389419282622774\n",
      "Rolling 5 Past H&A Completion Attempts Max_Away_Team : 0.1439720698738538\n",
      "Rolling 5 Past H&A Completion Attempts Min_Away_Team : 0.12917560281050242\n",
      "Rolling 3 Past H&A Completion Attempts_Away_Team : 0.12925493727478118\n",
      "Rolling 3 Past H&A Completion Attempts Avg_Away_Team : 0.12925493727478107\n",
      "Rolling 3 Past H&A Completion Attempts Max_Away_Team : 0.11751428285102615\n",
      "Rolling 3 Past H&A Completion Attempts Min_Away_Team : 0.1202432839440117\n",
      "Previous H&A Completion Attempts_Away_Team : 0.09901096935467597\n",
      "Rolling 5 Past H&A Completion %_Away_Team : -0.0760356495066243\n",
      "Rolling 5 Past H&A Completion % Avg_Away_Team : -0.07603564950662434\n",
      "Rolling 5 Past H&A Completion % Max_Away_Team : -0.06276840804967039\n",
      "Rolling 5 Past H&A Completion % Min_Away_Team : -0.05241078742188312\n",
      "Rolling 3 Past H&A Completion %_Away_Team : -0.07688210823294986\n",
      "Rolling 3 Past H&A Completion % Avg_Away_Team : -0.07688210823294986\n",
      "Rolling 3 Past H&A Completion % Max_Away_Team : -0.08805022717864582\n",
      "Rolling 3 Past H&A Completion % Min_Away_Team : -0.047809818189062145\n",
      "Previous H&A Completion %_Away_Team : -0.051804589993465856\n",
      "Rolling 5 Past H&A Total Yards_Away_Team : -0.0065640441601191556\n",
      "Rolling 5 Past H&A Total Yards Avg_Away_Team : -0.006564044160119129\n",
      "Rolling 5 Past H&A Total Yards Max_Away_Team : 0.035032761655222476\n",
      "Rolling 5 Past H&A Total Yards Min_Away_Team : -0.04109936757215403\n",
      "Rolling 3 Past H&A Total Yards_Away_Team : -0.017462453247599107\n"
     ]
    },
    {
     "name": "stdout",
     "output_type": "stream",
     "text": [
      "Rolling 3 Past H&A Total Yards Avg_Away_Team : -0.017462453247599125\n",
      "Rolling 3 Past H&A Total Yards Max_Away_Team : 0.007555642474832824\n",
      "Rolling 3 Past H&A Total Yards Min_Away_Team : -0.027213818029348476\n",
      "Previous H&A Total Yards_Away_Team : -0.02207983897379332\n",
      "Rolling 5 Past H&A Passing_Away_Team : 0.06121708250296727\n",
      "Rolling 5 Past H&A Passing Avg_Away_Team : 0.06121708250296729\n",
      "Rolling 5 Past H&A Passing Max_Away_Team : 0.07411582325167548\n",
      "Rolling 5 Past H&A Passing Min_Away_Team : 0.04003039440377597\n",
      "Rolling 3 Past H&A Passing_Away_Team : 0.04225493631366825\n",
      "Rolling 3 Past H&A Passing Avg_Away_Team : 0.042254936313668286\n",
      "Rolling 3 Past H&A Passing Max_Away_Team : 0.03829466476858401\n",
      "Rolling 3 Past H&A Passing Min_Away_Team : 0.037104228341031074\n",
      "Previous H&A Passing_Away_Team : 0.02520277889424112\n",
      "Rolling 5 Past H&A Yards per Pass_Away_Team : -0.08239669366734091\n",
      "Rolling 5 Past H&A Yards per Pass Avg_Away_Team : -0.08239669366734097\n",
      "Rolling 5 Past H&A Yards per Pass Max_Away_Team : -0.10014567549403301\n",
      "Rolling 5 Past H&A Yards per Pass Min_Away_Team : -0.030667525115163716\n",
      "Rolling 3 Past H&A Yards per Pass_Away_Team : -0.07717557341116424\n",
      "Rolling 3 Past H&A Yards per Pass Avg_Away_Team : -0.07717557341116424\n",
      "Rolling 3 Past H&A Yards per Pass Max_Away_Team : -0.09078388999116609\n",
      "Rolling 3 Past H&A Yards per Pass Min_Away_Team : -0.04271240306669348\n",
      "Previous H&A Yards per Pass_Away_Team : -0.06462010674590044\n",
      "Rolling 5 Past H&A Rushing_Away_Team : -0.10323050788265975\n",
      "Rolling 5 Past H&A Rushing Avg_Away_Team : -0.10323050788265972\n",
      "Rolling 5 Past H&A Rushing Max_Away_Team : -0.036050528861726806\n",
      "Rolling 5 Past H&A Rushing Min_Away_Team : -0.07801320383996274\n",
      "Rolling 3 Past H&A Rushing_Away_Team : -0.09229627805573264\n",
      "Rolling 3 Past H&A Rushing Avg_Away_Team : -0.09229627805573261\n",
      "Rolling 3 Past H&A Rushing Max_Away_Team : -0.060407167171438056\n",
      "Rolling 3 Past H&A Rushing Min_Away_Team : -0.06277207611660134\n",
      "Previous H&A Rushing_Away_Team : -0.06673429545740261\n",
      "Rolling 5 Past H&A Rushing Attempts_Away_Team : -0.11334049768547329\n",
      "Rolling 5 Past H&A Rushing Attempts Avg_Away_Team : -0.11334049768547326\n",
      "Rolling 5 Past H&A Rushing Attempts Max_Away_Team : -0.030192883280963353\n",
      "Rolling 5 Past H&A Rushing Attempts Min_Away_Team : -0.1232328307409159\n",
      "Rolling 3 Past H&A Rushing Attempts_Away_Team : -0.0976000484467974\n",
      "Rolling 3 Past H&A Rushing Attempts Avg_Away_Team : -0.09760004844679733\n",
      "Rolling 3 Past H&A Rushing Attempts Max_Away_Team : -0.0628174144320323\n",
      "Rolling 3 Past H&A Rushing Attempts Min_Away_Team : -0.08056629644883562\n",
      "Previous H&A Rushing Attempts_Away_Team : -0.0488074321154044\n",
      "Rolling 5 Past H&A Yards per Rush_Away_Team : -0.08211223995165272\n",
      "Rolling 5 Past H&A Yards per Rush Avg_Away_Team : -0.08211223995165275\n",
      "Rolling 5 Past H&A Yards per Rush Max_Away_Team : -0.0001101179926741749\n",
      "Rolling 5 Past H&A Yards per Rush Min_Away_Team : -0.05287375323337941\n",
      "Rolling 3 Past H&A Yards per Rush_Away_Team : -0.07134653032418745\n",
      "Rolling 3 Past H&A Yards per Rush Avg_Away_Team : -0.07134653032418742\n",
      "Rolling 3 Past H&A Yards per Rush Max_Away_Team : -0.02518806377701736\n",
      "Rolling 3 Past H&A Yards per Rush Min_Away_Team : -0.049538697499465684\n",
      "Previous H&A Yards per Rush_Away_Team : -0.060052490230372534\n",
      "Rolling 5 Past H&A Penalties_Away_Team : 0.060055799026694896\n",
      "Rolling 5 Past H&A Penalties Avg_Away_Team : 0.060055799026694875\n",
      "Rolling 5 Past H&A Penalties Max_Away_Team : 0.08027482487801474\n",
      "Rolling 5 Past H&A Penalties Min_Away_Team : 0.0003805164131290382\n",
      "Rolling 3 Past H&A Penalties_Away_Team : 0.0684355338167796\n",
      "Rolling 3 Past H&A Penalties Avg_Away_Team : 0.06843553381677954\n",
      "Rolling 3 Past H&A Penalties Max_Away_Team : 0.08305200602698291\n",
      "Rolling 3 Past H&A Penalties Min_Away_Team : 0.04352953600781913\n",
      "Previous H&A Penalties_Away_Team : 0.04870622781187242\n",
      "Rolling 5 Past H&A Penalty Yards_Away_Team : 0.07137089764999766\n",
      "Rolling 5 Past H&A Penalty Yards Avg_Away_Team : 0.07137089764999754\n",
      "Rolling 5 Past H&A Penalty Yards Max_Away_Team : 0.08160280442074407\n",
      "Rolling 5 Past H&A Penalty Yards Min_Away_Team : -0.0016999265754044355\n",
      "Rolling 3 Past H&A Penalty Yards_Away_Team : 0.0653376211569637\n",
      "Rolling 3 Past H&A Penalty Yards Avg_Away_Team : 0.06533762115696372\n",
      "Rolling 3 Past H&A Penalty Yards Max_Away_Team : 0.07491419995319298\n",
      "Rolling 3 Past H&A Penalty Yards Min_Away_Team : 0.0261228078916976\n",
      "Previous H&A Penalty Yards_Away_Team : 0.05357933684579782\n",
      "Rolling 5 Past H&A Yards per Penalty_Away_Team : 0.11454337141892391\n",
      "Rolling 5 Past H&A Yards per Penalty Avg_Away_Team : 0.11454337141892384\n",
      "Rolling 5 Past H&A Yards per Penalty Max_Away_Team : 0.09262237839384696\n",
      "Rolling 5 Past H&A Yards per Penalty Min_Away_Team : 0.05964162919904918\n",
      "Rolling 3 Past H&A Yards per Penalty_Away_Team : 0.09138755686565074\n",
      "Rolling 3 Past H&A Yards per Penalty Avg_Away_Team : 0.09138755686565073\n",
      "Rolling 3 Past H&A Yards per Penalty Max_Away_Team : 0.06830881534278735\n",
      "Rolling 3 Past H&A Yards per Penalty Min_Away_Team : 0.06876596875018859\n",
      "Previous H&A Yards per Penalty_Away_Team : 0.08750367510146875\n",
      "Rolling 5 Past H&A Turnovers_Away_Team : 0.05853761223769313\n",
      "Rolling 5 Past H&A Turnovers Avg_Away_Team : 0.058537612237693125\n",
      "Rolling 5 Past H&A Turnovers Max_Away_Team : 0.03240817733846587\n",
      "Rolling 5 Past H&A Turnovers Min_Away_Team : 0.029064710284395123\n",
      "Rolling 3 Past H&A Turnovers_Away_Team : 0.028279451586738853\n",
      "Rolling 3 Past H&A Turnovers Avg_Away_Team : 0.02827945158673884\n",
      "Rolling 3 Past H&A Turnovers Max_Away_Team : 0.013084436458869423\n",
      "Rolling 3 Past H&A Turnovers Min_Away_Team : 0.0457583628348486\n",
      "Previous H&A Turnovers_Away_Team : 0.04540106787969172\n",
      "Rolling 5 Past H&A Fumbles Lost_Away_Team : -0.018391883821293437\n",
      "Rolling 5 Past H&A Fumbles Lost Avg_Away_Team : -0.01839188382129344\n",
      "Rolling 5 Past H&A Fumbles Lost Max_Away_Team : -0.0391973939664226\n",
      "Rolling 5 Past H&A Fumbles Lost Min_Away_Team : -0.003099357834260259\n",
      "Rolling 3 Past H&A Fumbles Lost_Away_Team : -0.04965274100132602\n",
      "Rolling 3 Past H&A Fumbles Lost Avg_Away_Team : -0.049652741001326044\n",
      "Rolling 3 Past H&A Fumbles Lost Max_Away_Team : -0.03794505632509581\n",
      "Rolling 3 Past H&A Fumbles Lost Min_Away_Team : -0.025073806334767204\n",
      "Previous H&A Fumbles Lost_Away_Team : -0.013583791088010735\n",
      "Rolling 5 Past H&A Interceptions Thrown_Away_Team : 0.09088937113958484\n",
      "Rolling 5 Past H&A Interceptions Thrown Avg_Away_Team : 0.09088937113958465\n",
      "Rolling 5 Past H&A Interceptions Thrown Max_Away_Team : 0.06183524694883499\n",
      "Rolling 5 Past H&A Interceptions Thrown Min_Away_Team : 0.0760573753478783\n",
      "Rolling 3 Past H&A Interceptions Thrown_Away_Team : 0.07976812638102555\n",
      "Rolling 3 Past H&A Interceptions Thrown Avg_Away_Team : 0.07976812638102561\n",
      "Rolling 3 Past H&A Interceptions Thrown Max_Away_Team : 0.05381121733405235\n",
      "Rolling 3 Past H&A Interceptions Thrown Min_Away_Team : 0.05978241033024439\n",
      "Previous H&A Interceptions Thrown_Away_Team : 0.07221407533775262\n",
      "Rolling 5 Past H&A Possession Time_Away_Team : 0.040949295180192385\n",
      "Rolling 5 Past H&A Possession Time Avg_Away_Team : 0.040949295180192434\n",
      "Rolling 5 Past H&A Possession Time Max_Away_Team : 0.03988619196317442\n",
      "Rolling 5 Past H&A Possession Time Min_Away_Team : 0.02461653934673404\n",
      "Rolling 3 Past H&A Possession Time_Away_Team : 0.0385774640773512\n",
      "Rolling 3 Past H&A Possession Time Avg_Away_Team : 0.03857746407735119\n",
      "Rolling 3 Past H&A Possession Time Max_Away_Team : 0.04654454097060842\n",
      "Rolling 3 Past H&A Possession Time Min_Away_Team : 0.040357945603063064\n",
      "Previous H&A Possession Time_Away_Team : 0.03296832713390219\n",
      "Rolling 5 Past H&A Q1 Score_Away_Team : -0.0726093104385632\n",
      "Rolling 5 Past H&A Q1 Score Avg_Away_Team : -0.07260931043856317\n",
      "Rolling 5 Past H&A Q1 Score Max_Away_Team : -0.1041495528469937\n",
      "Rolling 5 Past H&A Q1 Score Min_Away_Team : -0.011245169326220153\n",
      "Rolling 3 Past H&A Q1 Score_Away_Team : -0.07990292452350614\n",
      "Rolling 3 Past H&A Q1 Score Avg_Away_Team : -0.07990292452350613\n",
      "Rolling 3 Past H&A Q1 Score Max_Away_Team : -0.08596796113183655\n",
      "Rolling 3 Past H&A Q1 Score Min_Away_Team : -0.04952556923589863\n",
      "Previous H&A Q1 Score_Away_Team : -0.05728135123409425\n",
      "Rolling 5 Past H&A Q2 Score_Away_Team : -0.076815352137143\n",
      "Rolling 5 Past H&A Q2 Score Avg_Away_Team : -0.07681535213714294\n",
      "Rolling 5 Past H&A Q2 Score Max_Away_Team : -0.057358933379427775\n",
      "Rolling 5 Past H&A Q2 Score Min_Away_Team : -0.04859878808763865\n",
      "Rolling 3 Past H&A Q2 Score_Away_Team : -0.0728154876773231\n",
      "Rolling 3 Past H&A Q2 Score Avg_Away_Team : -0.07281548767732297\n",
      "Rolling 3 Past H&A Q2 Score Max_Away_Team : -0.06740867223645677\n",
      "Rolling 3 Past H&A Q2 Score Min_Away_Team : -0.030556505244512117\n",
      "Previous H&A Q2 Score_Away_Team : -0.08957346081568573\n",
      "Rolling 5 Past H&A Q3 Score_Away_Team : -0.09693234108930943\n",
      "Rolling 5 Past H&A Q3 Score Avg_Away_Team : -0.09693234108930944\n",
      "Rolling 5 Past H&A Q3 Score Max_Away_Team : -0.07752340455189177\n",
      "Rolling 5 Past H&A Q3 Score Min_Away_Team : -0.04871100845200379\n",
      "Rolling 3 Past H&A Q3 Score_Away_Team : -0.05351234340003874\n",
      "Rolling 3 Past H&A Q3 Score Avg_Away_Team : -0.05351234340003873\n",
      "Rolling 3 Past H&A Q3 Score Max_Away_Team : -0.03173966981080382\n",
      "Rolling 3 Past H&A Q3 Score Min_Away_Team : -0.03713450844153473\n",
      "Previous H&A Q3 Score_Away_Team : -0.0651967338066413\n",
      "Rolling 5 Past H&A Q4 Score_Away_Team : -0.03921606702954987\n",
      "Rolling 5 Past H&A Q4 Score Avg_Away_Team : -0.03921606702954986\n",
      "Rolling 5 Past H&A Q4 Score Max_Away_Team : -0.008353354712807536\n",
      "Rolling 5 Past H&A Q4 Score Min_Away_Team : -0.04236145273884762\n",
      "Rolling 3 Past H&A Q4 Score_Away_Team : -0.04463324548651063\n",
      "Rolling 3 Past H&A Q4 Score Avg_Away_Team : -0.044633245486510646\n",
      "Rolling 3 Past H&A Q4 Score Max_Away_Team : -0.027277590226999333\n",
      "Rolling 3 Past H&A Q4 Score Min_Away_Team : -0.027632097700413177\n",
      "Previous H&A Q4 Score_Away_Team : -0.024368200974888277\n",
      "Rolling 5 Past H&A Total Odds_Away_Team : 0.1944361883606458\n",
      "Rolling 5 Past H&A Total Odds Avg_Away_Team : 0.19443618836064577\n",
      "Rolling 5 Past H&A Total Odds Max_Away_Team : 0.18747025275097715\n",
      "Rolling 5 Past H&A Total Odds Min_Away_Team : 0.15508777806920646\n",
      "Rolling 3 Past H&A Total Odds_Away_Team : 0.1858597629907846\n",
      "Rolling 3 Past H&A Total Odds Avg_Away_Team : 0.1858597629907847\n",
      "Rolling 3 Past H&A Total Odds Max_Away_Team : 0.18367473227163397\n",
      "Rolling 3 Past H&A Total Odds Min_Away_Team : 0.1570445013147453\n",
      "Previous H&A Total Odds_Away_Team : 0.16051812399402418\n",
      "Rolling 5 Past H&A Spread_Away_Team : 0.25460273247626114\n",
      "Rolling 5 Past H&A Spread Avg_Away_Team : 0.25460273247626136\n",
      "Rolling 5 Past H&A Spread Max_Away_Team : 0.21951698409471437\n",
      "Rolling 5 Past H&A Spread Min_Away_Team : 0.23948963017353445\n",
      "Rolling 3 Past H&A Spread_Away_Team : 0.22917718922203142\n",
      "Rolling 3 Past H&A Spread Avg_Away_Team : 0.22917718922203134\n",
      "Rolling 3 Past H&A Spread Max_Away_Team : 0.2007855921230459\n",
      "Rolling 3 Past H&A Spread Min_Away_Team : 0.21158765556461165\n",
      "Previous H&A Spread_Away_Team : 0.18184544116515708\n",
      "Rolling 5 Past H&A Ranking_Away_Team : 0.24498620144231378\n",
      "Rolling 5 Past H&A Ranking Avg_Away_Team : 0.24498620144231412\n",
      "Rolling 5 Past H&A Ranking Max_Away_Team : 0.19774746402663443\n",
      "Rolling 5 Past H&A Ranking Min_Away_Team : 0.22121019401035433\n",
      "Rolling 3 Past H&A Ranking_Away_Team : 0.2399832725197851\n",
      "Rolling 3 Past H&A Ranking Avg_Away_Team : 0.23998327251978552\n",
      "Rolling 3 Past H&A Ranking Max_Away_Team : 0.21652675429868343\n",
      "Rolling 3 Past H&A Ranking Min_Away_Team : 0.23029789996683178\n",
      "Previous H&A Ranking_Away_Team : 0.2143232639243653\n"
     ]
    },
    {
     "name": "stdout",
     "output_type": "stream",
     "text": [
      "Rolling 5 Past H&A ATS Win_Away_Team : -0.0006493285198369808\n",
      "Rolling 5 Past H&A ATS Win Avg_Away_Team : -0.00064932851983699\n",
      "Rolling 5 Past H&A ATS Win Max_Away_Team : 0.019510146811826775\n",
      "Rolling 5 Past H&A ATS Win Min_Away_Team : -0.015993478270889337\n",
      "Rolling 3 Past H&A ATS Win_Away_Team : 0.022933149611702924\n",
      "Rolling 3 Past H&A ATS Win Avg_Away_Team : 0.022933149611702862\n",
      "Rolling 3 Past H&A ATS Win Max_Away_Team : 0.012637630726360838\n",
      "Rolling 3 Past H&A ATS Win Min_Away_Team : 0.02429568441922435\n",
      "Previous H&A ATS Win_Away_Team : 0.037199823128252575\n",
      "Rolling 5 Past H&A ATS Loss_Away_Team : 0.010709434176209181\n",
      "Rolling 5 Past H&A ATS Loss Avg_Away_Team : 0.010709434176209173\n",
      "Rolling 5 Past H&A ATS Loss Max_Away_Team : 0.021766562751244303\n",
      "Rolling 5 Past H&A ATS Loss Min_Away_Team : -0.04108592366815491\n",
      "Rolling 3 Past H&A ATS Loss_Away_Team : -0.015818992692231172\n",
      "Rolling 3 Past H&A ATS Loss Avg_Away_Team : -0.015818992692231155\n",
      "Rolling 3 Past H&A ATS Loss Max_Away_Team : -0.030342275187447428\n",
      "Rolling 3 Past H&A ATS Loss Min_Away_Team : -0.018783287965991463\n",
      "Previous H&A ATS Loss_Away_Team : -0.028819940840208363\n",
      "Rolling 5 Past H&A ATS Push_Away_Team : -0.03066853095896945\n",
      "Rolling 5 Past H&A ATS Push Avg_Away_Team : -0.03066853095896948\n",
      "Rolling 5 Past H&A ATS Push Max_Away_Team : -0.039861615883013964\n",
      "Rolling 5 Past H&A ATS Push Min_Away_Team : nan\n",
      "Rolling 3 Past H&A ATS Push_Away_Team : -0.021057805698704767\n",
      "Rolling 3 Past H&A ATS Push Avg_Away_Team : -0.021057805698704787\n",
      "Rolling 3 Past H&A ATS Push Max_Away_Team : -0.020500077123164994\n",
      "Rolling 3 Past H&A ATS Push Min_Away_Team : nan\n",
      "Previous H&A ATS Push_Away_Team : -0.02326892416416284\n",
      "Rolling 5 Past H&A Over Odds_Away_Team : -5.3926875973690636e-05\n",
      "Rolling 5 Past H&A Over Odds Avg_Away_Team : -5.392687597370381e-05\n",
      "Rolling 5 Past H&A Over Odds Max_Away_Team : 0.0829870718270071\n",
      "Rolling 5 Past H&A Over Odds Min_Away_Team : -0.027687930270281755\n",
      "Rolling 3 Past H&A Over Odds_Away_Team : 0.003782983010246874\n",
      "Rolling 3 Past H&A Over Oddss Avg_Away_Team : 0.003782983010246749\n",
      "Rolling 3 Past H&A Over OddsMax_Away_Team : 0.05289468728035556\n",
      "Rolling 3 Past H&A Over Odds Min_Away_Team : -0.05108728243868117\n",
      "Previous H&A Over Odds_Away_Team : -0.01639870186542356\n",
      "Rolling 5 Past H&A Under Odds_Away_Team : 0.011098977508286777\n",
      "Rolling 5 Past H&A Under Odds Avg_Away_Team : 0.011098977508286947\n",
      "Rolling 5 Past H&A Under Odds Max_Away_Team : 0.027687930270281776\n",
      "Rolling 5 Past H&A Under Odds Min_Away_Team : -0.07996261597832695\n",
      "Rolling 3 Past H&A Under Odds_Away_Team : 0.010585480425190894\n",
      "Rolling 3 Past H&A Under Oddss Avg_Away_Team : 0.010585480425190951\n",
      "Rolling 3 Past H&A Under OddsMax_Away_Team : 0.06480936445343881\n",
      "Rolling 3 Past H&A Under Odds Min_Away_Team : -0.05435684314350792\n",
      "Previous H&A Under Odds_Away_Team : 0.024774104535496198\n",
      "Rolling 5 Past H&A Push Odds_Away_Team : -0.05398846124306492\n",
      "Rolling 5 Past H&A Push Odds Avg_Away_Team : -0.05398846124306488\n",
      "Rolling 5 Past H&A Push Odds Max_Away_Team : -0.05398846124306492\n",
      "Rolling 5 Past H&A Push Odds Min_Away_Team : nan\n",
      "Rolling 3 Past H&A Push Odds_Away_Team : -0.06983294572029264\n",
      "Rolling 3 Past H&A Push Oddss Avg_Away_Team : -0.0698329457202926\n",
      "Rolling 3 Past H&A Push OddsMax_Away_Team : -0.06983294572029264\n",
      "Rolling 3 Past H&A Push Odds Min_Away_Team : nan\n",
      "Previous H&A Push Odds_Away_Team : -0.046300396867510696\n"
     ]
    }
   ],
   "source": [
    "for i in columns_list:\n",
    "     if df3[i].dtypes == 'float64':\n",
    "        corr = df3[i].corr(Prediction_Variable) \n",
    "        print(i,\":\",corr)\n",
    "        if corr > .3:\n",
    "            Home_High_Corr_Values.append(i)\n",
    "        if corr < -.3:\n",
    "            Home_High_Corr_Values.append(i)"
   ]
  },
  {
   "cell_type": "code",
   "execution_count": 23,
   "id": "00ff4183",
   "metadata": {},
   "outputs": [
    {
     "data": {
      "text/plain": [
       "['Home Team Spread_x',\n",
       " 'Away Team Spread_x',\n",
       " 'Total_x',\n",
       " 'Home Score_x_x',\n",
       " 'Rolling 5 Past H&A Score_Home_Team',\n",
       " 'Rolling 5 Past H&A Score Avg_Home_Team',\n",
       " 'Rolling 5 Past H&A 1st Downs_Home_Team',\n",
       " 'Rolling 5 Past H&A 1st Downs Avg_Home_Team',\n",
       " 'Rolling 5 Past H&A Total Yards_Home_Team',\n",
       " 'Rolling 5 Past H&A Total Yards Avg_Home_Team',\n",
       " 'Rolling 5 Past H&A Yards per Pass_Home_Team',\n",
       " 'Rolling 5 Past H&A Yards per Pass Avg_Home_Team',\n",
       " 'Rolling 5 Past H&A Spread_Home_Team',\n",
       " 'Rolling 5 Past H&A Spread Avg_Home_Team',\n",
       " 'Rolling 5 Past H&A Spread Min_Home_Team']"
      ]
     },
     "execution_count": 23,
     "metadata": {},
     "output_type": "execute_result"
    }
   ],
   "source": [
    "Home_High_Corr_Values"
   ]
  },
  {
   "cell_type": "code",
   "execution_count": null,
   "id": "b2049d7e",
   "metadata": {},
   "outputs": [],
   "source": [
    "#I removed some of the redundant variables where there was an avg over past 5 games as well as a 5 game rolling total\n",
    "#I also added some of the variables with slighlty less values than .3 given I felt they should be included as well"
   ]
  },
  {
   "cell_type": "code",
   "execution_count": 26,
   "id": "f826d293",
   "metadata": {},
   "outputs": [
    {
     "ename": "ValueError",
     "evalue": "list.remove(x): x not in list",
     "output_type": "error",
     "traceback": [
      "\u001b[0;31m---------------------------------------------------------------------------\u001b[0m",
      "\u001b[0;31mValueError\u001b[0m                                Traceback (most recent call last)",
      "\u001b[0;32m<ipython-input-26-4fb7bae3bff1>\u001b[0m in \u001b[0;36m<module>\u001b[0;34m\u001b[0m\n\u001b[0;32m----> 1\u001b[0;31m \u001b[0mHome_High_Corr_Values\u001b[0m\u001b[0;34m.\u001b[0m\u001b[0mremove\u001b[0m\u001b[0;34m(\u001b[0m\u001b[0;34m'Rolling 5 Past H&A Score_Home_Team'\u001b[0m\u001b[0;34m)\u001b[0m\u001b[0;34m\u001b[0m\u001b[0;34m\u001b[0m\u001b[0m\n\u001b[0m\u001b[1;32m      2\u001b[0m \u001b[0mHome_High_Corr_Values\u001b[0m\u001b[0;34m.\u001b[0m\u001b[0mremove\u001b[0m\u001b[0;34m(\u001b[0m\u001b[0;34m'Rolling 5 Past H&A 1st Downs_Home_Team'\u001b[0m\u001b[0;34m)\u001b[0m\u001b[0;34m\u001b[0m\u001b[0;34m\u001b[0m\u001b[0m\n\u001b[1;32m      3\u001b[0m \u001b[0mHome_High_Corr_Values\u001b[0m\u001b[0;34m.\u001b[0m\u001b[0mremove\u001b[0m\u001b[0;34m(\u001b[0m\u001b[0;34m'Rolling 5 Past H&A Total Yards_Home_Team'\u001b[0m\u001b[0;34m)\u001b[0m\u001b[0;34m\u001b[0m\u001b[0;34m\u001b[0m\u001b[0m\n\u001b[1;32m      4\u001b[0m \u001b[0mHome_High_Corr_Values\u001b[0m\u001b[0;34m.\u001b[0m\u001b[0mremove\u001b[0m\u001b[0;34m(\u001b[0m\u001b[0;34m'Rolling 5 Past H&A Yards per Pass_Home_Team'\u001b[0m\u001b[0;34m)\u001b[0m\u001b[0;34m\u001b[0m\u001b[0;34m\u001b[0m\u001b[0m\n\u001b[1;32m      5\u001b[0m \u001b[0mHome_High_Corr_Values\u001b[0m\u001b[0;34m.\u001b[0m\u001b[0mremove\u001b[0m\u001b[0;34m(\u001b[0m\u001b[0;34m'Rolling 5 Past H&A Spread_Home_Team'\u001b[0m\u001b[0;34m)\u001b[0m\u001b[0;34m\u001b[0m\u001b[0;34m\u001b[0m\u001b[0m\n",
      "\u001b[0;31mValueError\u001b[0m: list.remove(x): x not in list"
     ]
    }
   ],
   "source": [
    "Home_High_Corr_Values.remove('Rolling 5 Past H&A Score_Home_Team')\n",
    "Home_High_Corr_Values.remove('Rolling 5 Past H&A 1st Downs_Home_Team')\n",
    "Home_High_Corr_Values.remove('Rolling 5 Past H&A Total Yards_Home_Team')\n",
    "Home_High_Corr_Values.remove('Rolling 5 Past H&A Yards per Pass_Home_Team')\n",
    "Home_High_Corr_Values.remove('Rolling 5 Past H&A Spread_Home_Team')\n",
    "Home_High_Corr_Values.append('Rolling 5 Past H&A HI REC yrds Avg_Home_Team')\n",
    "Home_High_Corr_Values.append('Rolling 5 Past H&A Conf T Wins_Home_Team')\n",
    "Home_High_Corr_Values.append('Rolling 5 Past H&A 3rd Down Conversion % Avg_Home_Team')\n",
    "Home_High_Corr_Values.append('Rolling 5 Past H&A Completion % Avg_Home_Team')\n",
    "Home_High_Corr_Values.append('Rolling 5 Past H&A Q1 Score Avg_Home_Team')\n",
    "Home_High_Corr_Values.append('Rolling 5 Past H&A Ranking Avg_Home_Team')\n",
    "Home_High_Corr_Values.append('Rolling 5 Past H&A Season T Losses_Away_Team')"
   ]
  },
  {
   "cell_type": "code",
   "execution_count": 27,
   "id": "c81e3284",
   "metadata": {},
   "outputs": [
    {
     "data": {
      "text/plain": [
       "['Home Team Spread_x',\n",
       " 'Away Team Spread_x',\n",
       " 'Total_x',\n",
       " 'Home Score_x_x',\n",
       " 'Rolling 5 Past H&A Score Avg_Home_Team',\n",
       " 'Rolling 5 Past H&A 1st Downs Avg_Home_Team',\n",
       " 'Rolling 5 Past H&A Total Yards Avg_Home_Team',\n",
       " 'Rolling 5 Past H&A Yards per Pass Avg_Home_Team',\n",
       " 'Rolling 5 Past H&A Spread Avg_Home_Team',\n",
       " 'Rolling 5 Past H&A Spread Min_Home_Team',\n",
       " 'Rolling 5 Past H&A HI REC yrds Avg_Home_Team',\n",
       " 'Rolling 5 Past H&A Conf T Wins_Home_Team',\n",
       " 'Rolling 5 Past H&A 3rd Down Conversion % Avg_Home_Team',\n",
       " 'Rolling 5 Past H&A Completion % Avg_Home_Team',\n",
       " 'Rolling 5 Past H&A Q1 Score Avg_Home_Team',\n",
       " 'Rolling 5 Past H&A Ranking Avg_Home_Team',\n",
       " 'Rolling 5 Past H&A Season T Losses_Away_Team']"
      ]
     },
     "execution_count": 27,
     "metadata": {},
     "output_type": "execute_result"
    }
   ],
   "source": [
    "Home_High_Corr_Values"
   ]
  },
  {
   "cell_type": "code",
   "execution_count": null,
   "id": "18308e4e",
   "metadata": {},
   "outputs": [],
   "source": [
    "# I added the same stats for the away team, given whether or not the home team wins or loses the spread will also depend on the away teams stats/scores"
   ]
  },
  {
   "cell_type": "code",
   "execution_count": 28,
   "id": "7e28efb2",
   "metadata": {},
   "outputs": [],
   "source": [
    "Home_High_Corr_Values.append('Away Score_x_x')\n",
    "Home_High_Corr_Values.append('Rolling 5 Past H&A Score Avg_Away_Team')\n",
    "Home_High_Corr_Values.append('Rolling 5 Past H&A 1st Downs Avg_Away_Team')\n",
    "Home_High_Corr_Values.append('Rolling 5 Past H&A Total Yards Avg_Away_Team')\n",
    "Home_High_Corr_Values.append('Rolling 5 Past H&A Yards per Pass Avg_Away_Team')\n",
    "Home_High_Corr_Values.append('Rolling 5 Past H&A Spread Avg_Away_Team')\n",
    "Home_High_Corr_Values.append('Rolling 5 Past H&A Spread Min_Away_Team')\n",
    "\n",
    "Home_High_Corr_Values.append('Rolling 5 Past H&A HI REC yrds Avg_Away_Team')\n",
    "Home_High_Corr_Values.append('Rolling 5 Past H&A Conf T Wins_Away_Team')\n",
    "Home_High_Corr_Values.append('Rolling 5 Past H&A 3rd Down Conversion % Avg_Away_Team')\n",
    "Home_High_Corr_Values.append('Rolling 5 Past H&A Completion % Avg_Away_Team')\n",
    "Home_High_Corr_Values.append('Rolling 5 Past H&A Q1 Score Avg_Away_Team')\n",
    "Home_High_Corr_Values.append('Rolling 5 Past H&A Ranking Avg_Away_Team')\n",
    "Home_High_Corr_Values.append('Rolling 5 Past H&A Season T Losses_Home_Team')\n",
    "\n",
    "Home_High_Corr_Values.append('Home Team Ranking_x')\n",
    "Home_High_Corr_Values.append('Away Team Ranking_x')\n",
    "Home_High_Corr_Values.append('Previous H&A Ranking_Home_Team')\n",
    "Home_High_Corr_Values.append('Previous H&A Ranking_Away_Team')\n",
    "Home_High_Corr_Values.append('H Spread Outcome')\n",
    "Home_High_Corr_Values.append('Date')\n",
    "Home_High_Corr_Values.append('Home Team')\n",
    "Home_High_Corr_Values.append('Away Team')\n",
    "Home_High_Corr_Values.append('Year')"
   ]
  },
  {
   "cell_type": "code",
   "execution_count": 29,
   "id": "a721cd76",
   "metadata": {},
   "outputs": [
    {
     "data": {
      "text/plain": [
       "['Home Team Spread_x',\n",
       " 'Away Team Spread_x',\n",
       " 'Total_x',\n",
       " 'Home Score_x_x',\n",
       " 'Rolling 5 Past H&A Score Avg_Home_Team',\n",
       " 'Rolling 5 Past H&A 1st Downs Avg_Home_Team',\n",
       " 'Rolling 5 Past H&A Total Yards Avg_Home_Team',\n",
       " 'Rolling 5 Past H&A Yards per Pass Avg_Home_Team',\n",
       " 'Rolling 5 Past H&A Spread Avg_Home_Team',\n",
       " 'Rolling 5 Past H&A Spread Min_Home_Team',\n",
       " 'Rolling 5 Past H&A HI REC yrds Avg_Home_Team',\n",
       " 'Rolling 5 Past H&A Conf T Wins_Home_Team',\n",
       " 'Rolling 5 Past H&A 3rd Down Conversion % Avg_Home_Team',\n",
       " 'Rolling 5 Past H&A Completion % Avg_Home_Team',\n",
       " 'Rolling 5 Past H&A Q1 Score Avg_Home_Team',\n",
       " 'Rolling 5 Past H&A Ranking Avg_Home_Team',\n",
       " 'Rolling 5 Past H&A Season T Losses_Away_Team',\n",
       " 'Away Score_x_x',\n",
       " 'Rolling 5 Past H&A Score Avg_Away_Team',\n",
       " 'Rolling 5 Past H&A 1st Downs Avg_Away_Team',\n",
       " 'Rolling 5 Past H&A Total Yards Avg_Away_Team',\n",
       " 'Rolling 5 Past H&A Yards per Pass Avg_Away_Team',\n",
       " 'Rolling 5 Past H&A Spread Avg_Away_Team',\n",
       " 'Rolling 5 Past H&A Spread Min_Away_Team',\n",
       " 'Rolling 5 Past H&A HI REC yrds Avg_Away_Team',\n",
       " 'Rolling 5 Past H&A Conf T Wins_Away_Team',\n",
       " 'Rolling 5 Past H&A 3rd Down Conversion % Avg_Away_Team',\n",
       " 'Rolling 5 Past H&A Completion % Avg_Away_Team',\n",
       " 'Rolling 5 Past H&A Q1 Score Avg_Away_Team',\n",
       " 'Rolling 5 Past H&A Ranking Avg_Away_Team',\n",
       " 'Rolling 5 Past H&A Season T Losses_Home_Team',\n",
       " 'Home Team Ranking_x',\n",
       " 'Away Team Ranking_x',\n",
       " 'Previous H&A Ranking_Home_Team',\n",
       " 'Previous H&A Ranking_Away_Team',\n",
       " 'H Spread Outcome',\n",
       " 'Date',\n",
       " 'Home Team',\n",
       " 'Away Team',\n",
       " 'Year']"
      ]
     },
     "execution_count": 29,
     "metadata": {},
     "output_type": "execute_result"
    }
   ],
   "source": [
    "Home_High_Corr_Values"
   ]
  },
  {
   "cell_type": "code",
   "execution_count": 30,
   "id": "43366159",
   "metadata": {},
   "outputs": [],
   "source": [
    "df4 = df3[Home_High_Corr_Values]"
   ]
  },
  {
   "cell_type": "code",
   "execution_count": 31,
   "id": "b5e9bb39",
   "metadata": {},
   "outputs": [
    {
     "data": {
      "text/html": [
       "<div>\n",
       "<style scoped>\n",
       "    .dataframe tbody tr th:only-of-type {\n",
       "        vertical-align: middle;\n",
       "    }\n",
       "\n",
       "    .dataframe tbody tr th {\n",
       "        vertical-align: top;\n",
       "    }\n",
       "\n",
       "    .dataframe thead th {\n",
       "        text-align: right;\n",
       "    }\n",
       "</style>\n",
       "<table border=\"1\" class=\"dataframe\">\n",
       "  <thead>\n",
       "    <tr style=\"text-align: right;\">\n",
       "      <th></th>\n",
       "      <th>Home Team Spread_x</th>\n",
       "      <th>Away Team Spread_x</th>\n",
       "      <th>Total_x</th>\n",
       "      <th>Home Score_x_x</th>\n",
       "      <th>Rolling 5 Past H&amp;A Score Avg_Home_Team</th>\n",
       "      <th>Rolling 5 Past H&amp;A 1st Downs Avg_Home_Team</th>\n",
       "      <th>Rolling 5 Past H&amp;A Total Yards Avg_Home_Team</th>\n",
       "      <th>Rolling 5 Past H&amp;A Yards per Pass Avg_Home_Team</th>\n",
       "      <th>Rolling 5 Past H&amp;A Spread Avg_Home_Team</th>\n",
       "      <th>Rolling 5 Past H&amp;A Spread Min_Home_Team</th>\n",
       "      <th>...</th>\n",
       "      <th>Rolling 5 Past H&amp;A Season T Losses_Home_Team</th>\n",
       "      <th>Home Team Ranking_x</th>\n",
       "      <th>Away Team Ranking_x</th>\n",
       "      <th>Previous H&amp;A Ranking_Home_Team</th>\n",
       "      <th>Previous H&amp;A Ranking_Away_Team</th>\n",
       "      <th>H Spread Outcome</th>\n",
       "      <th>Date</th>\n",
       "      <th>Home Team</th>\n",
       "      <th>Away Team</th>\n",
       "      <th>Year</th>\n",
       "    </tr>\n",
       "  </thead>\n",
       "  <tbody>\n",
       "    <tr>\n",
       "      <th>1</th>\n",
       "      <td>6.5</td>\n",
       "      <td>-6.5</td>\n",
       "      <td>49.0</td>\n",
       "      <td>41.0</td>\n",
       "      <td>37.4</td>\n",
       "      <td>23.6</td>\n",
       "      <td>496.8</td>\n",
       "      <td>9.86</td>\n",
       "      <td>-22.3</td>\n",
       "      <td>-29.0</td>\n",
       "      <td>...</td>\n",
       "      <td>5.0</td>\n",
       "      <td>3</td>\n",
       "      <td>1</td>\n",
       "      <td>3.0</td>\n",
       "      <td>1.0</td>\n",
       "      <td>H_Spread_W</td>\n",
       "      <td>2021-12-04</td>\n",
       "      <td>Alabama</td>\n",
       "      <td>Georgia</td>\n",
       "      <td>2021</td>\n",
       "    </tr>\n",
       "    <tr>\n",
       "      <th>2</th>\n",
       "      <td>6.5</td>\n",
       "      <td>-6.5</td>\n",
       "      <td>27.0</td>\n",
       "      <td>27.0</td>\n",
       "      <td>22.8</td>\n",
       "      <td>20.0</td>\n",
       "      <td>358.2</td>\n",
       "      <td>6.18</td>\n",
       "      <td>11.1</td>\n",
       "      <td>2.0</td>\n",
       "      <td>...</td>\n",
       "      <td>21.0</td>\n",
       "      <td>99</td>\n",
       "      <td>15</td>\n",
       "      <td>99.0</td>\n",
       "      <td>11.0</td>\n",
       "      <td>H_Spread_W</td>\n",
       "      <td>2021-11-27</td>\n",
       "      <td>LSU</td>\n",
       "      <td>Texas A&amp;M</td>\n",
       "      <td>2021</td>\n",
       "    </tr>\n",
       "    <tr>\n",
       "      <th>3</th>\n",
       "      <td>19.5</td>\n",
       "      <td>-19.5</td>\n",
       "      <td>55.5</td>\n",
       "      <td>22.0</td>\n",
       "      <td>24.6</td>\n",
       "      <td>22.2</td>\n",
       "      <td>399.6</td>\n",
       "      <td>7.70</td>\n",
       "      <td>-1.3</td>\n",
       "      <td>-7.0</td>\n",
       "      <td>...</td>\n",
       "      <td>16.0</td>\n",
       "      <td>99</td>\n",
       "      <td>3</td>\n",
       "      <td>99.0</td>\n",
       "      <td>1.0</td>\n",
       "      <td>H_Spread_W</td>\n",
       "      <td>2021-11-27</td>\n",
       "      <td>Auburn</td>\n",
       "      <td>Alabama</td>\n",
       "      <td>2021</td>\n",
       "    </tr>\n",
       "    <tr>\n",
       "      <th>4</th>\n",
       "      <td>31.5</td>\n",
       "      <td>-31.5</td>\n",
       "      <td>63.5</td>\n",
       "      <td>21.0</td>\n",
       "      <td>17.6</td>\n",
       "      <td>16.2</td>\n",
       "      <td>313.8</td>\n",
       "      <td>6.28</td>\n",
       "      <td>22.5</td>\n",
       "      <td>16.0</td>\n",
       "      <td>...</td>\n",
       "      <td>35.0</td>\n",
       "      <td>99</td>\n",
       "      <td>99</td>\n",
       "      <td>99.0</td>\n",
       "      <td>99.0</td>\n",
       "      <td>H_Spread_W</td>\n",
       "      <td>2021-11-27</td>\n",
       "      <td>Vanderbilt</td>\n",
       "      <td>Tennessee</td>\n",
       "      <td>2021</td>\n",
       "    </tr>\n",
       "    <tr>\n",
       "      <th>5</th>\n",
       "      <td>-14.5</td>\n",
       "      <td>14.5</td>\n",
       "      <td>63.0</td>\n",
       "      <td>34.0</td>\n",
       "      <td>31.2</td>\n",
       "      <td>25.0</td>\n",
       "      <td>456.0</td>\n",
       "      <td>8.08</td>\n",
       "      <td>2.8</td>\n",
       "      <td>-4.5</td>\n",
       "      <td>...</td>\n",
       "      <td>15.0</td>\n",
       "      <td>25</td>\n",
       "      <td>99</td>\n",
       "      <td>21.0</td>\n",
       "      <td>99.0</td>\n",
       "      <td>H_Spread_W</td>\n",
       "      <td>2021-11-26</td>\n",
       "      <td>Arkansas</td>\n",
       "      <td>Missouri</td>\n",
       "      <td>2021</td>\n",
       "    </tr>\n",
       "  </tbody>\n",
       "</table>\n",
       "<p>5 rows × 40 columns</p>\n",
       "</div>"
      ],
      "text/plain": [
       "   Home Team Spread_x  Away Team Spread_x  Total_x  Home Score_x_x  \\\n",
       "1                 6.5                -6.5     49.0            41.0   \n",
       "2                 6.5                -6.5     27.0            27.0   \n",
       "3                19.5               -19.5     55.5            22.0   \n",
       "4                31.5               -31.5     63.5            21.0   \n",
       "5               -14.5                14.5     63.0            34.0   \n",
       "\n",
       "   Rolling 5 Past H&A Score Avg_Home_Team  \\\n",
       "1                                    37.4   \n",
       "2                                    22.8   \n",
       "3                                    24.6   \n",
       "4                                    17.6   \n",
       "5                                    31.2   \n",
       "\n",
       "   Rolling 5 Past H&A 1st Downs Avg_Home_Team  \\\n",
       "1                                        23.6   \n",
       "2                                        20.0   \n",
       "3                                        22.2   \n",
       "4                                        16.2   \n",
       "5                                        25.0   \n",
       "\n",
       "   Rolling 5 Past H&A Total Yards Avg_Home_Team  \\\n",
       "1                                         496.8   \n",
       "2                                         358.2   \n",
       "3                                         399.6   \n",
       "4                                         313.8   \n",
       "5                                         456.0   \n",
       "\n",
       "   Rolling 5 Past H&A Yards per Pass Avg_Home_Team  \\\n",
       "1                                             9.86   \n",
       "2                                             6.18   \n",
       "3                                             7.70   \n",
       "4                                             6.28   \n",
       "5                                             8.08   \n",
       "\n",
       "   Rolling 5 Past H&A Spread Avg_Home_Team  \\\n",
       "1                                    -22.3   \n",
       "2                                     11.1   \n",
       "3                                     -1.3   \n",
       "4                                     22.5   \n",
       "5                                      2.8   \n",
       "\n",
       "   Rolling 5 Past H&A Spread Min_Home_Team  ...  \\\n",
       "1                                    -29.0  ...   \n",
       "2                                      2.0  ...   \n",
       "3                                     -7.0  ...   \n",
       "4                                     16.0  ...   \n",
       "5                                     -4.5  ...   \n",
       "\n",
       "   Rolling 5 Past H&A Season T Losses_Home_Team  Home Team Ranking_x  \\\n",
       "1                                           5.0                    3   \n",
       "2                                          21.0                   99   \n",
       "3                                          16.0                   99   \n",
       "4                                          35.0                   99   \n",
       "5                                          15.0                   25   \n",
       "\n",
       "   Away Team Ranking_x  Previous H&A Ranking_Home_Team  \\\n",
       "1                    1                             3.0   \n",
       "2                   15                            99.0   \n",
       "3                    3                            99.0   \n",
       "4                   99                            99.0   \n",
       "5                   99                            21.0   \n",
       "\n",
       "   Previous H&A Ranking_Away_Team  H Spread Outcome       Date   Home Team  \\\n",
       "1                             1.0        H_Spread_W 2021-12-04     Alabama   \n",
       "2                            11.0        H_Spread_W 2021-11-27         LSU   \n",
       "3                             1.0        H_Spread_W 2021-11-27      Auburn   \n",
       "4                            99.0        H_Spread_W 2021-11-27  Vanderbilt   \n",
       "5                            99.0        H_Spread_W 2021-11-26    Arkansas   \n",
       "\n",
       "   Away Team  Year  \n",
       "1    Georgia  2021  \n",
       "2  Texas A&M  2021  \n",
       "3    Alabama  2021  \n",
       "4  Tennessee  2021  \n",
       "5   Missouri  2021  \n",
       "\n",
       "[5 rows x 40 columns]"
      ]
     },
     "execution_count": 31,
     "metadata": {},
     "output_type": "execute_result"
    }
   ],
   "source": [
    "df4.head()"
   ]
  },
  {
   "cell_type": "code",
   "execution_count": null,
   "id": "e0bea842",
   "metadata": {},
   "outputs": [],
   "source": [
    "#I removed Home Team & Away Team, Date, Year, as I wanted the model to focus it's prediction on the stats as opposed to team and date info."
   ]
  },
  {
   "cell_type": "code",
   "execution_count": 32,
   "id": "e8b70dff",
   "metadata": {},
   "outputs": [],
   "source": [
    "df4 = df4.drop('Home Team', axis=1)\n",
    "df4 = df4.drop('Away Team', axis=1)\n",
    "df4 = df4.drop('Year', axis=1)\n",
    "df4 = df4.drop('Date', axis=1)"
   ]
  },
  {
   "cell_type": "code",
   "execution_count": 33,
   "id": "cf7b8d54",
   "metadata": {},
   "outputs": [],
   "source": [
    "df4 = df4.drop('Away Team Spread_x', axis=1) #also a redudant variable as it is the opposite of the home spread"
   ]
  },
  {
   "cell_type": "code",
   "execution_count": null,
   "id": "077ea72a",
   "metadata": {},
   "outputs": [],
   "source": [
    "#To reduce dimensionality, I took the differences between the home stats and away stats, which cut the columns nearly in half"
   ]
  },
  {
   "cell_type": "code",
   "execution_count": 34,
   "id": "6a8b79d7",
   "metadata": {},
   "outputs": [],
   "source": [
    "df4['Rolling_5_Game_Score_Avg_Diff'] = df4['Rolling 5 Past H&A Score Avg_Away_Team'] - df4['Rolling 5 Past H&A Score Avg_Home_Team']\n",
    "\n",
    "df4['Rolling_5_Game_1stDowns_Avg_Diff'] = df4['Rolling 5 Past H&A 1st Downs Avg_Away_Team'] - df4['Rolling 5 Past H&A 1st Downs Avg_Home_Team']\n",
    "\n",
    "df4['Rolling_5_Game_Total_Yards_Avg_Diff'] = df4['Rolling 5 Past H&A Total Yards Avg_Away_Team'] - df4['Rolling 5 Past H&A Total Yards Avg_Home_Team']\n",
    "\n",
    "df4['Rolling_5_Game_YardsperPass_Avg_Diff'] = df4['Rolling 5 Past H&A Yards per Pass Avg_Away_Team'] - df4['Rolling 5 Past H&A Yards per Pass Avg_Home_Team']\n",
    "\n",
    "df4['Rolling_5_Game_Spread_Avg_Diff'] = df4['Rolling 5 Past H&A Spread Avg_Away_Team'] - df4['Rolling 5 Past H&A Spread Avg_Home_Team']\n",
    "\n",
    "df4['Rolling_5_Game_Conf_Wins_Diff'] = df4['Rolling 5 Past H&A Conf T Wins_Away_Team'] - df4['Rolling 5 Past H&A Conf T Wins_Home_Team']\n",
    "\n",
    "df4['Rolling_5_Game_3rd_Down_Conversion%_Avg_Diff'] = df4['Rolling 5 Past H&A 3rd Down Conversion % Avg_Away_Team'] - df4['Rolling 5 Past H&A 3rd Down Conversion % Avg_Home_Team']\n",
    "\n",
    "df4['Rolling_5_Game_Completion%_Avg_Diff'] = df4['Rolling 5 Past H&A Completion % Avg_Away_Team'] - df4['Rolling 5 Past H&A Completion % Avg_Home_Team']\n",
    "\n",
    "df4['Rolling_5_Game_Ranking_Avg_Diff'] = df4['Rolling 5 Past H&A Ranking Avg_Away_Team'] - df4['Rolling 5 Past H&A Ranking Avg_Home_Team']\n",
    "\n",
    "\n"
   ]
  },
  {
   "cell_type": "code",
   "execution_count": 35,
   "id": "f2ad1081",
   "metadata": {},
   "outputs": [
    {
     "data": {
      "text/plain": [
       "Index(['Home Team Spread_x', 'Total_x', 'Home Score_x_x',\n",
       "       'Rolling 5 Past H&A Score Avg_Home_Team',\n",
       "       'Rolling 5 Past H&A 1st Downs Avg_Home_Team',\n",
       "       'Rolling 5 Past H&A Total Yards Avg_Home_Team',\n",
       "       'Rolling 5 Past H&A Yards per Pass Avg_Home_Team',\n",
       "       'Rolling 5 Past H&A Spread Avg_Home_Team',\n",
       "       'Rolling 5 Past H&A Spread Min_Home_Team',\n",
       "       'Rolling 5 Past H&A HI REC yrds Avg_Home_Team',\n",
       "       'Rolling 5 Past H&A Conf T Wins_Home_Team',\n",
       "       'Rolling 5 Past H&A 3rd Down Conversion % Avg_Home_Team',\n",
       "       'Rolling 5 Past H&A Completion % Avg_Home_Team',\n",
       "       'Rolling 5 Past H&A Q1 Score Avg_Home_Team',\n",
       "       'Rolling 5 Past H&A Ranking Avg_Home_Team',\n",
       "       'Rolling 5 Past H&A Season T Losses_Away_Team', 'Away Score_x_x',\n",
       "       'Rolling 5 Past H&A Score Avg_Away_Team',\n",
       "       'Rolling 5 Past H&A 1st Downs Avg_Away_Team',\n",
       "       'Rolling 5 Past H&A Total Yards Avg_Away_Team',\n",
       "       'Rolling 5 Past H&A Yards per Pass Avg_Away_Team',\n",
       "       'Rolling 5 Past H&A Spread Avg_Away_Team',\n",
       "       'Rolling 5 Past H&A Spread Min_Away_Team',\n",
       "       'Rolling 5 Past H&A HI REC yrds Avg_Away_Team',\n",
       "       'Rolling 5 Past H&A Conf T Wins_Away_Team',\n",
       "       'Rolling 5 Past H&A 3rd Down Conversion % Avg_Away_Team',\n",
       "       'Rolling 5 Past H&A Completion % Avg_Away_Team',\n",
       "       'Rolling 5 Past H&A Q1 Score Avg_Away_Team',\n",
       "       'Rolling 5 Past H&A Ranking Avg_Away_Team',\n",
       "       'Rolling 5 Past H&A Season T Losses_Home_Team', 'Home Team Ranking_x',\n",
       "       'Away Team Ranking_x', 'Previous H&A Ranking_Home_Team',\n",
       "       'Previous H&A Ranking_Away_Team', 'H Spread Outcome',\n",
       "       'Rolling_5_Game_Score_Avg_Diff', 'Rolling_5_Game_1stDowns_Avg_Diff',\n",
       "       'Rolling_5_Game_Total_Yards_Avg_Diff',\n",
       "       'Rolling_5_Game_YardsperPass_Avg_Diff',\n",
       "       'Rolling_5_Game_Spread_Avg_Diff', 'Rolling_5_Game_Conf_Wins_Diff',\n",
       "       'Rolling_5_Game_3rd_Down_Conversion%_Avg_Diff',\n",
       "       'Rolling_5_Game_Completion%_Avg_Diff',\n",
       "       'Rolling_5_Game_Ranking_Avg_Diff'],\n",
       "      dtype='object')"
      ]
     },
     "execution_count": 35,
     "metadata": {},
     "output_type": "execute_result"
    }
   ],
   "source": [
    "df4.columns"
   ]
  },
  {
   "cell_type": "code",
   "execution_count": 40,
   "id": "d5f40a12",
   "metadata": {},
   "outputs": [],
   "source": [
    "Model_cols = ['Home Team Spread_x',\n",
    "               'Total_x',\n",
    "               'Rolling_5_Game_Score_Avg_Diff',\n",
    "               'Rolling_5_Game_1stDowns_Avg_Diff',\n",
    "               'Rolling_5_Game_Total_Yards_Avg_Diff',\n",
    "               'Rolling_5_Game_YardsperPass_Avg_Diff',\n",
    "               'Rolling_5_Game_Spread_Avg_Diff',\n",
    "               'Rolling_5_Game_Conf_Wins_Diff',\n",
    "               'Rolling_5_Game_3rd_Down_Conversion%_Avg_Diff',\n",
    "               'Rolling_5_Game_Completion%_Avg_Diff',\n",
    "               'Rolling_5_Game_Ranking_Avg_Diff',\n",
    "               'Away Team Ranking_x',\n",
    "               'Home Team Ranking_x',\n",
    "               'H Spread Outcome'\n",
    "               ]"
   ]
  },
  {
   "cell_type": "code",
   "execution_count": 41,
   "id": "882e9835",
   "metadata": {},
   "outputs": [],
   "source": [
    "df4= df4[Model_cols]"
   ]
  },
  {
   "cell_type": "code",
   "execution_count": 42,
   "id": "7f1a30a7",
   "metadata": {},
   "outputs": [
    {
     "data": {
      "text/html": [
       "<div>\n",
       "<style scoped>\n",
       "    .dataframe tbody tr th:only-of-type {\n",
       "        vertical-align: middle;\n",
       "    }\n",
       "\n",
       "    .dataframe tbody tr th {\n",
       "        vertical-align: top;\n",
       "    }\n",
       "\n",
       "    .dataframe thead th {\n",
       "        text-align: right;\n",
       "    }\n",
       "</style>\n",
       "<table border=\"1\" class=\"dataframe\">\n",
       "  <thead>\n",
       "    <tr style=\"text-align: right;\">\n",
       "      <th></th>\n",
       "      <th>Home Team Spread_x</th>\n",
       "      <th>Total_x</th>\n",
       "      <th>Rolling_5_Game_Score_Avg_Diff</th>\n",
       "      <th>Rolling_5_Game_1stDowns_Avg_Diff</th>\n",
       "      <th>Rolling_5_Game_Total_Yards_Avg_Diff</th>\n",
       "      <th>Rolling_5_Game_YardsperPass_Avg_Diff</th>\n",
       "      <th>Rolling_5_Game_Spread_Avg_Diff</th>\n",
       "      <th>Rolling_5_Game_Conf_Wins_Diff</th>\n",
       "      <th>Rolling_5_Game_3rd_Down_Conversion%_Avg_Diff</th>\n",
       "      <th>Rolling_5_Game_Completion%_Avg_Diff</th>\n",
       "      <th>Rolling_5_Game_Ranking_Avg_Diff</th>\n",
       "      <th>Away Team Ranking_x</th>\n",
       "      <th>Home Team Ranking_x</th>\n",
       "      <th>H Spread Outcome</th>\n",
       "    </tr>\n",
       "  </thead>\n",
       "  <tbody>\n",
       "    <tr>\n",
       "      <th>1</th>\n",
       "      <td>6.5</td>\n",
       "      <td>49.0</td>\n",
       "      <td>-1.0</td>\n",
       "      <td>-1.4</td>\n",
       "      <td>-58.0</td>\n",
       "      <td>0.24</td>\n",
       "      <td>0.4</td>\n",
       "      <td>5.0</td>\n",
       "      <td>-0.148180</td>\n",
       "      <td>-0.038756</td>\n",
       "      <td>-1.8</td>\n",
       "      <td>1</td>\n",
       "      <td>3</td>\n",
       "      <td>H_Spread_W</td>\n",
       "    </tr>\n",
       "    <tr>\n",
       "      <th>2</th>\n",
       "      <td>6.5</td>\n",
       "      <td>27.0</td>\n",
       "      <td>9.0</td>\n",
       "      <td>3.4</td>\n",
       "      <td>56.6</td>\n",
       "      <td>0.72</td>\n",
       "      <td>-14.8</td>\n",
       "      <td>5.0</td>\n",
       "      <td>-0.046545</td>\n",
       "      <td>-0.020687</td>\n",
       "      <td>-66.6</td>\n",
       "      <td>15</td>\n",
       "      <td>99</td>\n",
       "      <td>H_Spread_W</td>\n",
       "    </tr>\n",
       "    <tr>\n",
       "      <th>3</th>\n",
       "      <td>19.5</td>\n",
       "      <td>55.5</td>\n",
       "      <td>15.6</td>\n",
       "      <td>2.8</td>\n",
       "      <td>124.0</td>\n",
       "      <td>2.48</td>\n",
       "      <td>-20.8</td>\n",
       "      <td>6.0</td>\n",
       "      <td>0.176925</td>\n",
       "      <td>0.055573</td>\n",
       "      <td>-30.4</td>\n",
       "      <td>3</td>\n",
       "      <td>99</td>\n",
       "      <td>H_Spread_W</td>\n",
       "    </tr>\n",
       "    <tr>\n",
       "      <th>4</th>\n",
       "      <td>31.5</td>\n",
       "      <td>63.5</td>\n",
       "      <td>13.8</td>\n",
       "      <td>4.2</td>\n",
       "      <td>113.0</td>\n",
       "      <td>3.92</td>\n",
       "      <td>-15.7</td>\n",
       "      <td>12.0</td>\n",
       "      <td>0.123914</td>\n",
       "      <td>0.103985</td>\n",
       "      <td>0.0</td>\n",
       "      <td>99</td>\n",
       "      <td>99</td>\n",
       "      <td>H_Spread_W</td>\n",
       "    </tr>\n",
       "    <tr>\n",
       "      <th>5</th>\n",
       "      <td>-14.5</td>\n",
       "      <td>63.0</td>\n",
       "      <td>-8.8</td>\n",
       "      <td>-6.4</td>\n",
       "      <td>-90.6</td>\n",
       "      <td>-1.68</td>\n",
       "      <td>6.4</td>\n",
       "      <td>-2.0</td>\n",
       "      <td>-0.082420</td>\n",
       "      <td>-0.038860</td>\n",
       "      <td>81.2</td>\n",
       "      <td>99</td>\n",
       "      <td>25</td>\n",
       "      <td>H_Spread_W</td>\n",
       "    </tr>\n",
       "  </tbody>\n",
       "</table>\n",
       "</div>"
      ],
      "text/plain": [
       "   Home Team Spread_x  Total_x  Rolling_5_Game_Score_Avg_Diff  \\\n",
       "1                 6.5     49.0                           -1.0   \n",
       "2                 6.5     27.0                            9.0   \n",
       "3                19.5     55.5                           15.6   \n",
       "4                31.5     63.5                           13.8   \n",
       "5               -14.5     63.0                           -8.8   \n",
       "\n",
       "   Rolling_5_Game_1stDowns_Avg_Diff  Rolling_5_Game_Total_Yards_Avg_Diff  \\\n",
       "1                              -1.4                                -58.0   \n",
       "2                               3.4                                 56.6   \n",
       "3                               2.8                                124.0   \n",
       "4                               4.2                                113.0   \n",
       "5                              -6.4                                -90.6   \n",
       "\n",
       "   Rolling_5_Game_YardsperPass_Avg_Diff  Rolling_5_Game_Spread_Avg_Diff  \\\n",
       "1                                  0.24                             0.4   \n",
       "2                                  0.72                           -14.8   \n",
       "3                                  2.48                           -20.8   \n",
       "4                                  3.92                           -15.7   \n",
       "5                                 -1.68                             6.4   \n",
       "\n",
       "   Rolling_5_Game_Conf_Wins_Diff  \\\n",
       "1                            5.0   \n",
       "2                            5.0   \n",
       "3                            6.0   \n",
       "4                           12.0   \n",
       "5                           -2.0   \n",
       "\n",
       "   Rolling_5_Game_3rd_Down_Conversion%_Avg_Diff  \\\n",
       "1                                     -0.148180   \n",
       "2                                     -0.046545   \n",
       "3                                      0.176925   \n",
       "4                                      0.123914   \n",
       "5                                     -0.082420   \n",
       "\n",
       "   Rolling_5_Game_Completion%_Avg_Diff  Rolling_5_Game_Ranking_Avg_Diff  \\\n",
       "1                            -0.038756                             -1.8   \n",
       "2                            -0.020687                            -66.6   \n",
       "3                             0.055573                            -30.4   \n",
       "4                             0.103985                              0.0   \n",
       "5                            -0.038860                             81.2   \n",
       "\n",
       "   Away Team Ranking_x  Home Team Ranking_x H Spread Outcome  \n",
       "1                    1                    3       H_Spread_W  \n",
       "2                   15                   99       H_Spread_W  \n",
       "3                    3                   99       H_Spread_W  \n",
       "4                   99                   99       H_Spread_W  \n",
       "5                   99                   25       H_Spread_W  "
      ]
     },
     "execution_count": 42,
     "metadata": {},
     "output_type": "execute_result"
    }
   ],
   "source": [
    "df4.head()"
   ]
  },
  {
   "cell_type": "code",
   "execution_count": 43,
   "id": "b3dc4803",
   "metadata": {},
   "outputs": [
    {
     "data": {
      "text/plain": [
       "(976, 14)"
      ]
     },
     "execution_count": 43,
     "metadata": {},
     "output_type": "execute_result"
    }
   ],
   "source": [
    "df4.shape"
   ]
  },
  {
   "cell_type": "code",
   "execution_count": 44,
   "id": "33033fbc",
   "metadata": {},
   "outputs": [
    {
     "data": {
      "text/plain": [
       "Home Team Spread_x                               0\n",
       "Total_x                                          0\n",
       "Rolling_5_Game_Score_Avg_Diff                   38\n",
       "Rolling_5_Game_1stDowns_Avg_Diff                48\n",
       "Rolling_5_Game_Total_Yards_Avg_Diff             48\n",
       "Rolling_5_Game_YardsperPass_Avg_Diff            48\n",
       "Rolling_5_Game_Spread_Avg_Diff                  38\n",
       "Rolling_5_Game_Conf_Wins_Diff                   38\n",
       "Rolling_5_Game_3rd_Down_Conversion%_Avg_Diff    48\n",
       "Rolling_5_Game_Completion%_Avg_Diff             48\n",
       "Rolling_5_Game_Ranking_Avg_Diff                 38\n",
       "Away Team Ranking_x                              0\n",
       "Home Team Ranking_x                              0\n",
       "H Spread Outcome                                 0\n",
       "dtype: int64"
      ]
     },
     "execution_count": 44,
     "metadata": {},
     "output_type": "execute_result"
    }
   ],
   "source": [
    "df4.isnull().sum()"
   ]
  },
  {
   "cell_type": "code",
   "execution_count": 29,
   "id": "17673721",
   "metadata": {},
   "outputs": [],
   "source": [
    "#Removed all rows with null values "
   ]
  },
  {
   "cell_type": "code",
   "execution_count": 45,
   "id": "a7c8db19",
   "metadata": {},
   "outputs": [],
   "source": [
    "df4 = df4.dropna()"
   ]
  },
  {
   "cell_type": "code",
   "execution_count": 46,
   "id": "3a3b651d",
   "metadata": {},
   "outputs": [
    {
     "data": {
      "text/plain": [
       "(928, 14)"
      ]
     },
     "execution_count": 46,
     "metadata": {},
     "output_type": "execute_result"
    }
   ],
   "source": [
    "df4.shape"
   ]
  },
  {
   "cell_type": "code",
   "execution_count": 47,
   "id": "c300ba6c",
   "metadata": {},
   "outputs": [],
   "source": [
    "#Removing rows with null values took the dataset from 976 rows to 928. "
   ]
  },
  {
   "cell_type": "code",
   "execution_count": 48,
   "id": "e468a5cc",
   "metadata": {},
   "outputs": [
    {
     "data": {
      "text/plain": [
       "0"
      ]
     },
     "execution_count": 48,
     "metadata": {},
     "output_type": "execute_result"
    }
   ],
   "source": [
    "df4.isnull().sum().max()"
   ]
  },
  {
   "cell_type": "code",
   "execution_count": 49,
   "id": "46d0d032",
   "metadata": {},
   "outputs": [
    {
     "data": {
      "text/plain": [
       "H_Spread_W    469\n",
       "H_Spread_L    459\n",
       "Name: H Spread Outcome, dtype: int64"
      ]
     },
     "execution_count": 49,
     "metadata": {},
     "output_type": "execute_result"
    }
   ],
   "source": [
    "df4['H Spread Outcome'].value_counts()"
   ]
  },
  {
   "cell_type": "code",
   "execution_count": 50,
   "id": "b55fdbdb",
   "metadata": {},
   "outputs": [
    {
     "name": "stdout",
     "output_type": "stream",
     "text": [
      "Home Spread Loss %:  0.49461206896551724 \n",
      "Home Spread Win %:  0.5053879310344828\n"
     ]
    }
   ],
   "source": [
    "print('Home Spread Loss %: ',459/928 , '\\n' 'Home Spread Win %: ', 469/928 )"
   ]
  },
  {
   "cell_type": "code",
   "execution_count": 61,
   "id": "c1b403f8",
   "metadata": {},
   "outputs": [
    {
     "data": {
      "text/html": [
       "<div>\n",
       "<style scoped>\n",
       "    .dataframe tbody tr th:only-of-type {\n",
       "        vertical-align: middle;\n",
       "    }\n",
       "\n",
       "    .dataframe tbody tr th {\n",
       "        vertical-align: top;\n",
       "    }\n",
       "\n",
       "    .dataframe thead th {\n",
       "        text-align: right;\n",
       "    }\n",
       "</style>\n",
       "<table border=\"1\" class=\"dataframe\">\n",
       "  <thead>\n",
       "    <tr style=\"text-align: right;\">\n",
       "      <th></th>\n",
       "      <th>Home Team Spread_x</th>\n",
       "      <th>Total_x</th>\n",
       "      <th>Rolling_5_Game_Score_Avg_Diff</th>\n",
       "      <th>Rolling_5_Game_1stDowns_Avg_Diff</th>\n",
       "      <th>Rolling_5_Game_Total_Yards_Avg_Diff</th>\n",
       "      <th>Rolling_5_Game_YardsperPass_Avg_Diff</th>\n",
       "      <th>Rolling_5_Game_Spread_Avg_Diff</th>\n",
       "      <th>Rolling_5_Game_Conf_Wins_Diff</th>\n",
       "      <th>Rolling_5_Game_3rd_Down_Conversion%_Avg_Diff</th>\n",
       "      <th>Rolling_5_Game_Completion%_Avg_Diff</th>\n",
       "      <th>Rolling_5_Game_Ranking_Avg_Diff</th>\n",
       "      <th>Away Team Ranking_x</th>\n",
       "      <th>Home Team Ranking_x</th>\n",
       "    </tr>\n",
       "  </thead>\n",
       "  <tbody>\n",
       "    <tr>\n",
       "      <th>count</th>\n",
       "      <td>928.000000</td>\n",
       "      <td>928.000000</td>\n",
       "      <td>928.000000</td>\n",
       "      <td>928.000000</td>\n",
       "      <td>928.000000</td>\n",
       "      <td>928.000000</td>\n",
       "      <td>928.000000</td>\n",
       "      <td>928.000000</td>\n",
       "      <td>928.000000</td>\n",
       "      <td>928.000000</td>\n",
       "      <td>928.000000</td>\n",
       "      <td>928.000000</td>\n",
       "      <td>928.000000</td>\n",
       "    </tr>\n",
       "    <tr>\n",
       "      <th>mean</th>\n",
       "      <td>-2.789332</td>\n",
       "      <td>51.568966</td>\n",
       "      <td>0.111853</td>\n",
       "      <td>0.074784</td>\n",
       "      <td>0.961638</td>\n",
       "      <td>0.026444</td>\n",
       "      <td>-0.667457</td>\n",
       "      <td>0.189655</td>\n",
       "      <td>0.002205</td>\n",
       "      <td>-0.000211</td>\n",
       "      <td>0.974138</td>\n",
       "      <td>57.703664</td>\n",
       "      <td>58.510776</td>\n",
       "    </tr>\n",
       "    <tr>\n",
       "      <th>std</th>\n",
       "      <td>13.285394</td>\n",
       "      <td>8.111918</td>\n",
       "      <td>11.401812</td>\n",
       "      <td>4.622907</td>\n",
       "      <td>97.293550</td>\n",
       "      <td>2.013701</td>\n",
       "      <td>12.790740</td>\n",
       "      <td>9.718399</td>\n",
       "      <td>0.108985</td>\n",
       "      <td>0.091329</td>\n",
       "      <td>56.631580</td>\n",
       "      <td>44.457214</td>\n",
       "      <td>44.433919</td>\n",
       "    </tr>\n",
       "    <tr>\n",
       "      <th>min</th>\n",
       "      <td>-41.500000</td>\n",
       "      <td>27.000000</td>\n",
       "      <td>-34.600000</td>\n",
       "      <td>-14.800000</td>\n",
       "      <td>-326.800000</td>\n",
       "      <td>-7.680000</td>\n",
       "      <td>-41.500000</td>\n",
       "      <td>-29.000000</td>\n",
       "      <td>-0.383333</td>\n",
       "      <td>-0.315362</td>\n",
       "      <td>-98.000000</td>\n",
       "      <td>1.000000</td>\n",
       "      <td>1.000000</td>\n",
       "    </tr>\n",
       "    <tr>\n",
       "      <th>25%</th>\n",
       "      <td>-12.500000</td>\n",
       "      <td>45.500000</td>\n",
       "      <td>-7.400000</td>\n",
       "      <td>-3.000000</td>\n",
       "      <td>-61.050000</td>\n",
       "      <td>-1.340000</td>\n",
       "      <td>-9.600000</td>\n",
       "      <td>-6.000000</td>\n",
       "      <td>-0.067535</td>\n",
       "      <td>-0.056032</td>\n",
       "      <td>-41.600000</td>\n",
       "      <td>10.000000</td>\n",
       "      <td>10.000000</td>\n",
       "    </tr>\n",
       "    <tr>\n",
       "      <th>50%</th>\n",
       "      <td>-3.000000</td>\n",
       "      <td>50.500000</td>\n",
       "      <td>0.000000</td>\n",
       "      <td>0.400000</td>\n",
       "      <td>1.000000</td>\n",
       "      <td>0.060000</td>\n",
       "      <td>-0.850000</td>\n",
       "      <td>1.000000</td>\n",
       "      <td>0.000010</td>\n",
       "      <td>-0.002075</td>\n",
       "      <td>0.000000</td>\n",
       "      <td>99.000000</td>\n",
       "      <td>99.000000</td>\n",
       "    </tr>\n",
       "    <tr>\n",
       "      <th>75%</th>\n",
       "      <td>6.500000</td>\n",
       "      <td>56.500000</td>\n",
       "      <td>7.850000</td>\n",
       "      <td>3.200000</td>\n",
       "      <td>68.200000</td>\n",
       "      <td>1.300000</td>\n",
       "      <td>8.425000</td>\n",
       "      <td>7.000000</td>\n",
       "      <td>0.071781</td>\n",
       "      <td>0.063083</td>\n",
       "      <td>45.050000</td>\n",
       "      <td>99.000000</td>\n",
       "      <td>99.000000</td>\n",
       "    </tr>\n",
       "    <tr>\n",
       "      <th>max</th>\n",
       "      <td>36.000000</td>\n",
       "      <td>82.500000</td>\n",
       "      <td>38.400000</td>\n",
       "      <td>14.000000</td>\n",
       "      <td>347.200000</td>\n",
       "      <td>6.500000</td>\n",
       "      <td>40.600000</td>\n",
       "      <td>29.000000</td>\n",
       "      <td>0.313750</td>\n",
       "      <td>0.271826</td>\n",
       "      <td>98.000000</td>\n",
       "      <td>99.000000</td>\n",
       "      <td>99.000000</td>\n",
       "    </tr>\n",
       "  </tbody>\n",
       "</table>\n",
       "</div>"
      ],
      "text/plain": [
       "       Home Team Spread_x     Total_x  Rolling_5_Game_Score_Avg_Diff  \\\n",
       "count          928.000000  928.000000                     928.000000   \n",
       "mean            -2.789332   51.568966                       0.111853   \n",
       "std             13.285394    8.111918                      11.401812   \n",
       "min            -41.500000   27.000000                     -34.600000   \n",
       "25%            -12.500000   45.500000                      -7.400000   \n",
       "50%             -3.000000   50.500000                       0.000000   \n",
       "75%              6.500000   56.500000                       7.850000   \n",
       "max             36.000000   82.500000                      38.400000   \n",
       "\n",
       "       Rolling_5_Game_1stDowns_Avg_Diff  Rolling_5_Game_Total_Yards_Avg_Diff  \\\n",
       "count                        928.000000                           928.000000   \n",
       "mean                           0.074784                             0.961638   \n",
       "std                            4.622907                            97.293550   \n",
       "min                          -14.800000                          -326.800000   \n",
       "25%                           -3.000000                           -61.050000   \n",
       "50%                            0.400000                             1.000000   \n",
       "75%                            3.200000                            68.200000   \n",
       "max                           14.000000                           347.200000   \n",
       "\n",
       "       Rolling_5_Game_YardsperPass_Avg_Diff  Rolling_5_Game_Spread_Avg_Diff  \\\n",
       "count                            928.000000                      928.000000   \n",
       "mean                               0.026444                       -0.667457   \n",
       "std                                2.013701                       12.790740   \n",
       "min                               -7.680000                      -41.500000   \n",
       "25%                               -1.340000                       -9.600000   \n",
       "50%                                0.060000                       -0.850000   \n",
       "75%                                1.300000                        8.425000   \n",
       "max                                6.500000                       40.600000   \n",
       "\n",
       "       Rolling_5_Game_Conf_Wins_Diff  \\\n",
       "count                     928.000000   \n",
       "mean                        0.189655   \n",
       "std                         9.718399   \n",
       "min                       -29.000000   \n",
       "25%                        -6.000000   \n",
       "50%                         1.000000   \n",
       "75%                         7.000000   \n",
       "max                        29.000000   \n",
       "\n",
       "       Rolling_5_Game_3rd_Down_Conversion%_Avg_Diff  \\\n",
       "count                                    928.000000   \n",
       "mean                                       0.002205   \n",
       "std                                        0.108985   \n",
       "min                                       -0.383333   \n",
       "25%                                       -0.067535   \n",
       "50%                                        0.000010   \n",
       "75%                                        0.071781   \n",
       "max                                        0.313750   \n",
       "\n",
       "       Rolling_5_Game_Completion%_Avg_Diff  Rolling_5_Game_Ranking_Avg_Diff  \\\n",
       "count                           928.000000                       928.000000   \n",
       "mean                             -0.000211                         0.974138   \n",
       "std                               0.091329                        56.631580   \n",
       "min                              -0.315362                       -98.000000   \n",
       "25%                              -0.056032                       -41.600000   \n",
       "50%                              -0.002075                         0.000000   \n",
       "75%                               0.063083                        45.050000   \n",
       "max                               0.271826                        98.000000   \n",
       "\n",
       "       Away Team Ranking_x  Home Team Ranking_x  \n",
       "count           928.000000           928.000000  \n",
       "mean             57.703664            58.510776  \n",
       "std              44.457214            44.433919  \n",
       "min               1.000000             1.000000  \n",
       "25%              10.000000            10.000000  \n",
       "50%              99.000000            99.000000  \n",
       "75%              99.000000            99.000000  \n",
       "max              99.000000            99.000000  "
      ]
     },
     "execution_count": 61,
     "metadata": {},
     "output_type": "execute_result"
    }
   ],
   "source": [
    "df4.describe()"
   ]
  },
  {
   "cell_type": "markdown",
   "id": "87fa3605",
   "metadata": {},
   "source": [
    "# Test Train Spit"
   ]
  },
  {
   "cell_type": "code",
   "execution_count": 207,
   "id": "74a23310",
   "metadata": {},
   "outputs": [],
   "source": [
    "X = df4.drop('H Spread Outcome',axis=1)\n",
    "# Create constants for X, so the model knows its bounds\n",
    "y = df4['H Spread Outcome']\n",
    "\n",
    "\n",
    "# Split the data\n",
    "X_train, X_test, y_train, y_test = train_test_split(X, y, test_size = 0.25, random_state = 42)"
   ]
  },
  {
   "cell_type": "code",
   "execution_count": 219,
   "id": "54d9ac50",
   "metadata": {},
   "outputs": [
    {
     "data": {
      "text/plain": [
       "Index(['Home Team Spread_x', 'Total_x', 'Rolling_5_Game_Score_Avg_Diff',\n",
       "       'Rolling_5_Game_1stDowns_Avg_Diff',\n",
       "       'Rolling_5_Game_Total_Yards_Avg_Diff',\n",
       "       'Rolling_5_Game_YardsperPass_Avg_Diff',\n",
       "       'Rolling_5_Game_Spread_Avg_Diff', 'Rolling_5_Game_Conf_Wins_Diff',\n",
       "       'Rolling_5_Game_3rd_Down_Conversion%_Avg_Diff',\n",
       "       'Rolling_5_Game_Completion%_Avg_Diff',\n",
       "       'Rolling_5_Game_Ranking_Avg_Diff', 'Away Team Ranking_x',\n",
       "       'Home Team Ranking_x'],\n",
       "      dtype='object')"
      ]
     },
     "execution_count": 219,
     "metadata": {},
     "output_type": "execute_result"
    }
   ],
   "source": [
    "X.columns"
   ]
  },
  {
   "cell_type": "code",
   "execution_count": 208,
   "id": "1ab8cad6",
   "metadata": {},
   "outputs": [
    {
     "data": {
      "text/plain": [
       "(696, 13)"
      ]
     },
     "execution_count": 208,
     "metadata": {},
     "output_type": "execute_result"
    }
   ],
   "source": [
    "X_train.shape"
   ]
  },
  {
   "cell_type": "code",
   "execution_count": 209,
   "id": "bd31f3f0",
   "metadata": {},
   "outputs": [
    {
     "data": {
      "text/plain": [
       "(696,)"
      ]
     },
     "execution_count": 209,
     "metadata": {},
     "output_type": "execute_result"
    }
   ],
   "source": [
    "y_train.shape"
   ]
  },
  {
   "cell_type": "code",
   "execution_count": 210,
   "id": "158bc69f",
   "metadata": {},
   "outputs": [
    {
     "data": {
      "text/plain": [
       "(232, 13)"
      ]
     },
     "execution_count": 210,
     "metadata": {},
     "output_type": "execute_result"
    }
   ],
   "source": [
    "X_test.shape"
   ]
  },
  {
   "cell_type": "code",
   "execution_count": 211,
   "id": "95b71674",
   "metadata": {},
   "outputs": [
    {
     "data": {
      "text/plain": [
       "(232,)"
      ]
     },
     "execution_count": 211,
     "metadata": {},
     "output_type": "execute_result"
    }
   ],
   "source": [
    "y_test.shape"
   ]
  },
  {
   "cell_type": "markdown",
   "id": "33fbb4d8",
   "metadata": {},
   "source": [
    "# Modeling"
   ]
  },
  {
   "cell_type": "code",
   "execution_count": 212,
   "id": "b7041a4b",
   "metadata": {},
   "outputs": [],
   "source": [
    "from sklearn.preprocessing import StandardScaler\n",
    "from sklearn.tree import DecisionTreeClassifier\n",
    "from sklearn.model_selection import GridSearchCV\n",
    "from sklearn.ensemble import RandomForestClassifier\n",
    "from sklearn.neighbors import KNeighborsClassifier\n",
    "from sklearn import metrics"
   ]
  },
  {
   "cell_type": "markdown",
   "id": "c1a58dc6",
   "metadata": {},
   "source": [
    "# Decision Tree"
   ]
  },
  {
   "cell_type": "code",
   "execution_count": 213,
   "id": "b5d6b7f1",
   "metadata": {},
   "outputs": [],
   "source": [
    "DT = DecisionTreeClassifier()"
   ]
  },
  {
   "cell_type": "code",
   "execution_count": 214,
   "id": "68b140a8",
   "metadata": {},
   "outputs": [
    {
     "data": {
      "text/plain": [
       "DecisionTreeClassifier()"
      ]
     },
     "execution_count": 214,
     "metadata": {},
     "output_type": "execute_result"
    }
   ],
   "source": [
    "DT.fit(X_train,y_train)"
   ]
  },
  {
   "cell_type": "code",
   "execution_count": 215,
   "id": "a5c23159",
   "metadata": {},
   "outputs": [],
   "source": [
    "y_pred = DT.predict(X_test)"
   ]
  },
  {
   "cell_type": "code",
   "execution_count": 216,
   "id": "c790ffc7",
   "metadata": {},
   "outputs": [
    {
     "data": {
      "text/plain": [
       "0.521551724137931"
      ]
     },
     "execution_count": 216,
     "metadata": {},
     "output_type": "execute_result"
    }
   ],
   "source": [
    "metrics.accuracy_score(y_test, y_pred)"
   ]
  },
  {
   "cell_type": "code",
   "execution_count": 217,
   "id": "eb032c86",
   "metadata": {},
   "outputs": [
    {
     "name": "stdout",
     "output_type": "stream",
     "text": [
      "              precision    recall  f1-score   support\n",
      "\n",
      "  H_Spread_L      0.541     0.492     0.515       120\n",
      "  H_Spread_W      0.504     0.554     0.528       112\n",
      "\n",
      "    accuracy                          0.522       232\n",
      "   macro avg      0.523     0.523     0.521       232\n",
      "weighted avg      0.523     0.522     0.521       232\n",
      "\n"
     ]
    }
   ],
   "source": [
    "print(metrics.classification_report(y_test, y_pred, digits=3))"
   ]
  },
  {
   "cell_type": "code",
   "execution_count": 218,
   "id": "661f4ac8",
   "metadata": {},
   "outputs": [
    {
     "data": {
      "text/plain": [
       "13"
      ]
     },
     "execution_count": 218,
     "metadata": {},
     "output_type": "execute_result"
    }
   ],
   "source": [
    "DT.max_features_"
   ]
  },
  {
   "cell_type": "code",
   "execution_count": 203,
   "id": "88fea207",
   "metadata": {},
   "outputs": [],
   "source": [
    "def plot_feature_importance(importance,names,model_type):\n",
    "\n",
    "#Create arrays from feature importance and feature names\n",
    "    feature_importance = np.array(importance)\n",
    "    feature_names = np.array(names)\n",
    "\n",
    "#Create a DataFrame using a Dictionary\n",
    "    data={'feature_names':feature_names,'feature_importance':feature_importance}\n",
    "    fi_df = pd.DataFrame(data)\n",
    "\n",
    "#Sort the DataFrame in order decreasing feature importance\n",
    "    fi_df.sort_values(by=['feature_importance'], ascending=False,inplace=True)\n",
    "\n",
    "#Define size of bar plot\n",
    "    plt.figure(figsize=(10,8))\n",
    "#Plot Searborn bar chart\n",
    "    sns.barplot(x=fi_df['feature_importance'], y=fi_df['feature_names'])\n",
    "#Add chart labels\n",
    "    plt.title(model_type + 'FEATURE IMPORTANCE')\n",
    "    plt.xlabel('FEATURE IMPORTANCE')\n",
    "    plt.ylabel('FEATURE NAMES')"
   ]
  },
  {
   "cell_type": "code",
   "execution_count": 204,
   "id": "13a8ecaa",
   "metadata": {},
   "outputs": [
    {
     "data": {
      "image/png": "[encoded data removed]",
      "text/plain": [
       "<Figure size 720x576 with 1 Axes>"
      ]
     },
     "metadata": {
      "needs_background": "light"
     },
     "output_type": "display_data"
    }
   ],
   "source": [
    "plot_feature_importance(DT.feature_importances_,X_train.columns,'Decision Tree')"
   ]
  },
  {
   "cell_type": "code",
   "execution_count": 205,
   "id": "0208910b",
   "metadata": {},
   "outputs": [],
   "source": [
    "from sklearn.tree import plot_tree, export_text"
   ]
  },
  {
   "cell_type": "code",
   "execution_count": 206,
   "id": "ad141baa",
   "metadata": {},
   "outputs": [
    {
     "data": {
      "text/plain": [
       "[Text(2604.0, 978.48, 'Rolling_5_Game_Total_Yards_Avg_Diff <= 73.4\\ngini = 0.5\\nsamples = 696\\nvalue = [339, 357]'),\n",
       " Text(1594.2857142857144, 761.0400000000001, 'Rolling_5_Game_3rd_Down_Conversion%_Avg_Diff <= -0.001\\ngini = 0.499\\nsamples = 524\\nvalue = [273, 251]'),\n",
       " Text(850.2857142857143, 543.6, 'Home Team Spread_x <= -16.0\\ngini = 0.498\\nsamples = 317\\nvalue = [148, 169]'),\n",
       " Text(425.14285714285717, 326.1600000000001, 'Rolling_5_Game_Spread_Avg_Diff <= 12.2\\ngini = 0.483\\nsamples = 81\\nvalue = [48, 33]'),\n",
       " Text(212.57142857142858, 108.72000000000003, '\\n  (...)  \\n'),\n",
       " Text(637.7142857142858, 108.72000000000003, '\\n  (...)  \\n'),\n",
       " Text(1275.4285714285716, 326.1600000000001, 'Rolling_5_Game_Completion%_Avg_Diff <= 0.061\\ngini = 0.488\\nsamples = 236\\nvalue = [100, 136]'),\n",
       " Text(1062.857142857143, 108.72000000000003, '\\n  (...)  \\n'),\n",
       " Text(1488.0, 108.72000000000003, '\\n  (...)  \\n'),\n",
       " Text(2338.285714285714, 543.6, 'Total_x <= 70.0\\ngini = 0.478\\nsamples = 207\\nvalue = [125, 82]'),\n",
       " Text(2125.714285714286, 326.1600000000001, 'Rolling_5_Game_Ranking_Avg_Diff <= 70.7\\ngini = 0.472\\nsamples = 202\\nvalue = [125, 77]'),\n",
       " Text(1913.1428571428573, 108.72000000000003, '\\n  (...)  \\n'),\n",
       " Text(2338.285714285714, 108.72000000000003, '\\n  (...)  \\n'),\n",
       " Text(2550.857142857143, 326.1600000000001, 'gini = 0.0\\nsamples = 5\\nvalue = [0, 5]'),\n",
       " Text(3613.714285714286, 761.0400000000001, 'Rolling_5_Game_YardsperPass_Avg_Diff <= 4.76\\ngini = 0.473\\nsamples = 172\\nvalue = [66, 106]'),\n",
       " Text(3188.571428571429, 543.6, 'Total_x <= 66.0\\ngini = 0.461\\nsamples = 164\\nvalue = [59, 105]'),\n",
       " Text(2976.0, 326.1600000000001, 'Rolling_5_Game_3rd_Down_Conversion%_Avg_Diff <= -0.105\\ngini = 0.472\\nsamples = 155\\nvalue = [59, 96]'),\n",
       " Text(2763.4285714285716, 108.72000000000003, '\\n  (...)  \\n'),\n",
       " Text(3188.571428571429, 108.72000000000003, '\\n  (...)  \\n'),\n",
       " Text(3401.1428571428573, 326.1600000000001, 'gini = 0.0\\nsamples = 9\\nvalue = [0, 9]'),\n",
       " Text(4038.857142857143, 543.6, 'Total_x <= 42.0\\ngini = 0.219\\nsamples = 8\\nvalue = [7, 1]'),\n",
       " Text(3826.2857142857147, 326.1600000000001, 'gini = 0.0\\nsamples = 1\\nvalue = [0, 1]'),\n",
       " Text(4251.428571428572, 326.1600000000001, 'gini = 0.0\\nsamples = 7\\nvalue = [7, 0]')]"
      ]
     },
     "execution_count": 206,
     "metadata": {},
     "output_type": "execute_result"
    },
    {
     "data": {
      "image/png": "[encoded data removed]",
      "text/plain": [
       "<Figure size 5760x1440 with 1 Axes>"
      ]
     },
     "metadata": {
      "needs_background": "light"
     },
     "output_type": "display_data"
    }
   ],
   "source": [
    "plt.figure(figsize=(80,20))\n",
    "plot_tree(DT,feature_names=X_train.columns,max_depth=3,filled=True)"
   ]
  },
  {
   "cell_type": "markdown",
   "id": "98e7dead",
   "metadata": {},
   "source": [
    "# Decision Tree GridSearch"
   ]
  },
  {
   "cell_type": "code",
   "execution_count": 182,
   "id": "0d0b523a",
   "metadata": {},
   "outputs": [],
   "source": [
    "parameters = {\n",
    "    'criterion': ['gini', 'entropy'],\n",
    "    'splitter': ['best','random'],\n",
    "    'max_depth': [1,2,3,4,5,10,15,20,30,40,41,43,45,45,47,50,60],\n",
    "    'min_samples_split': [2,3,5],\n",
    "    'min_samples_leaf':[1,3,5,10],\n",
    "    'max_features' : [5,6,7,8,9,10,11,12,13]\n",
    "}"
   ]
  },
  {
   "cell_type": "code",
   "execution_count": 183,
   "id": "e80f1da4",
   "metadata": {},
   "outputs": [],
   "source": [
    "DT2 = DecisionTreeClassifier()"
   ]
  },
  {
   "cell_type": "code",
   "execution_count": 184,
   "id": "d496681d",
   "metadata": {},
   "outputs": [
    {
     "data": {
      "text/plain": [
       "GridSearchCV(cv=5, estimator=DecisionTreeClassifier(),\n",
       "             param_grid={'criterion': ['gini', 'entropy'],\n",
       "                         'max_depth': [1, 2, 3, 4, 5, 10, 15, 20, 30, 40, 41,\n",
       "                                       43, 45, 45, 47, 50, 60],\n",
       "                         'max_features': [5, 6, 7, 8, 9, 10, 11, 12, 13],\n",
       "                         'min_samples_leaf': [1, 3, 5, 10],\n",
       "                         'min_samples_split': [2, 3, 5],\n",
       "                         'splitter': ['best', 'random']})"
      ]
     },
     "execution_count": 184,
     "metadata": {},
     "output_type": "execute_result"
    }
   ],
   "source": [
    "clf = GridSearchCV(DT2,parameters,cv=5)\n",
    "clf.fit(X,y)"
   ]
  },
  {
   "cell_type": "code",
   "execution_count": 185,
   "id": "e704c458",
   "metadata": {},
   "outputs": [
    {
     "data": {
      "text/plain": [
       "{'criterion': 'gini',\n",
       " 'max_depth': 50,\n",
       " 'max_features': 11,\n",
       " 'min_samples_leaf': 5,\n",
       " 'min_samples_split': 5,\n",
       " 'splitter': 'best'}"
      ]
     },
     "execution_count": 185,
     "metadata": {},
     "output_type": "execute_result"
    }
   ],
   "source": [
    "clf.best_params_"
   ]
  },
  {
   "cell_type": "code",
   "execution_count": 186,
   "id": "c760025d",
   "metadata": {},
   "outputs": [],
   "source": [
    "best_params = clf.best_params_"
   ]
  },
  {
   "cell_type": "code",
   "execution_count": null,
   "id": "9dc1fca3",
   "metadata": {},
   "outputs": [],
   "source": []
  },
  {
   "cell_type": "code",
   "execution_count": 187,
   "id": "686f4a4d",
   "metadata": {},
   "outputs": [],
   "source": [
    "# - achieved 55% DT = DecisionTreeClassifier(criterion = 'gini', max_depth=40, min_samples_leaf= 10, min_samples_split = 5,splitter='random',random_state=1234)\n",
    "DT = DecisionTreeClassifier(**best_params)\n"
   ]
  },
  {
   "cell_type": "code",
   "execution_count": 188,
   "id": "9c924b81",
   "metadata": {},
   "outputs": [
    {
     "data": {
      "text/plain": [
       "DecisionTreeClassifier()"
      ]
     },
     "execution_count": 188,
     "metadata": {},
     "output_type": "execute_result"
    }
   ],
   "source": [
    "DT2.fit(X_train,y_train)"
   ]
  },
  {
   "cell_type": "code",
   "execution_count": 189,
   "id": "228b1f55",
   "metadata": {},
   "outputs": [],
   "source": [
    "y_pred = DT2.predict(X_test)"
   ]
  },
  {
   "cell_type": "code",
   "execution_count": 190,
   "id": "3fcb7d9a",
   "metadata": {},
   "outputs": [
    {
     "data": {
      "text/plain": [
       "0.5301724137931034"
      ]
     },
     "execution_count": 190,
     "metadata": {},
     "output_type": "execute_result"
    }
   ],
   "source": [
    "metrics.accuracy_score(y_test, y_pred)"
   ]
  },
  {
   "cell_type": "code",
   "execution_count": 191,
   "id": "cd6389a9",
   "metadata": {},
   "outputs": [
    {
     "name": "stdout",
     "output_type": "stream",
     "text": [
      "              precision    recall  f1-score   support\n",
      "\n",
      "  H_Spread_L      0.546     0.542     0.544       120\n",
      "  H_Spread_W      0.513     0.518     0.516       112\n",
      "\n",
      "    accuracy                          0.530       232\n",
      "   macro avg      0.530     0.530     0.530       232\n",
      "weighted avg      0.530     0.530     0.530       232\n",
      "\n"
     ]
    }
   ],
   "source": [
    "print(metrics.classification_report(y_test, y_pred, digits=3))"
   ]
  },
  {
   "cell_type": "code",
   "execution_count": 194,
   "id": "6717342e",
   "metadata": {},
   "outputs": [
    {
     "data": {
      "text/plain": [
       "[Text(2604.0, 978.48, 'Rolling_5_Game_Total_Yards_Avg_Diff <= 73.4\\ngini = 0.5\\nsamples = 696\\nvalue = [339, 357]'),\n",
       " Text(1594.2857142857144, 761.0400000000001, 'Rolling_5_Game_3rd_Down_Conversion%_Avg_Diff <= -0.001\\ngini = 0.499\\nsamples = 524\\nvalue = [273, 251]'),\n",
       " Text(850.2857142857143, 543.6, 'Home Team Spread_x <= -16.0\\ngini = 0.498\\nsamples = 317\\nvalue = [148, 169]'),\n",
       " Text(425.14285714285717, 326.1600000000001, 'Rolling_5_Game_Spread_Avg_Diff <= 12.2\\ngini = 0.483\\nsamples = 81\\nvalue = [48, 33]'),\n",
       " Text(212.57142857142858, 108.72000000000003, '\\n  (...)  \\n'),\n",
       " Text(637.7142857142858, 108.72000000000003, '\\n  (...)  \\n'),\n",
       " Text(1275.4285714285716, 326.1600000000001, 'Rolling_5_Game_Completion%_Avg_Diff <= 0.061\\ngini = 0.488\\nsamples = 236\\nvalue = [100, 136]'),\n",
       " Text(1062.857142857143, 108.72000000000003, '\\n  (...)  \\n'),\n",
       " Text(1488.0, 108.72000000000003, '\\n  (...)  \\n'),\n",
       " Text(2338.285714285714, 543.6, 'Total_x <= 70.0\\ngini = 0.478\\nsamples = 207\\nvalue = [125, 82]'),\n",
       " Text(2125.714285714286, 326.1600000000001, 'Rolling_5_Game_Ranking_Avg_Diff <= 70.7\\ngini = 0.472\\nsamples = 202\\nvalue = [125, 77]'),\n",
       " Text(1913.1428571428573, 108.72000000000003, '\\n  (...)  \\n'),\n",
       " Text(2338.285714285714, 108.72000000000003, '\\n  (...)  \\n'),\n",
       " Text(2550.857142857143, 326.1600000000001, 'gini = 0.0\\nsamples = 5\\nvalue = [0, 5]'),\n",
       " Text(3613.714285714286, 761.0400000000001, 'Rolling_5_Game_YardsperPass_Avg_Diff <= 4.76\\ngini = 0.473\\nsamples = 172\\nvalue = [66, 106]'),\n",
       " Text(3188.571428571429, 543.6, 'Total_x <= 66.0\\ngini = 0.461\\nsamples = 164\\nvalue = [59, 105]'),\n",
       " Text(2976.0, 326.1600000000001, 'Rolling_5_Game_3rd_Down_Conversion%_Avg_Diff <= -0.105\\ngini = 0.472\\nsamples = 155\\nvalue = [59, 96]'),\n",
       " Text(2763.4285714285716, 108.72000000000003, '\\n  (...)  \\n'),\n",
       " Text(3188.571428571429, 108.72000000000003, '\\n  (...)  \\n'),\n",
       " Text(3401.1428571428573, 326.1600000000001, 'gini = 0.0\\nsamples = 9\\nvalue = [0, 9]'),\n",
       " Text(4038.857142857143, 543.6, 'Rolling_5_Game_3rd_Down_Conversion%_Avg_Diff <= 0.077\\ngini = 0.219\\nsamples = 8\\nvalue = [7, 1]'),\n",
       " Text(3826.2857142857147, 326.1600000000001, 'gini = 0.0\\nsamples = 1\\nvalue = [0, 1]'),\n",
       " Text(4251.428571428572, 326.1600000000001, 'gini = 0.0\\nsamples = 7\\nvalue = [7, 0]')]"
      ]
     },
     "execution_count": 194,
     "metadata": {},
     "output_type": "execute_result"
    },
    {
     "data": {
      "image/png": "[encoded data removed]",
      "text/plain": [
       "<Figure size 5760x1440 with 1 Axes>"
      ]
     },
     "metadata": {
      "needs_background": "light"
     },
     "output_type": "display_data"
    }
   ],
   "source": [
    "plt.figure(figsize=(80,20))\n",
    "plot_tree(DT2,feature_names=X_train.columns,max_depth=3,filled=True)"
   ]
  },
  {
   "cell_type": "code",
   "execution_count": 195,
   "id": "926788f9",
   "metadata": {},
   "outputs": [
    {
     "data": {
      "image/png": "[encoded data removed]",
      "text/plain": [
       "<Figure size 720x576 with 1 Axes>"
      ]
     },
     "metadata": {
      "needs_background": "light"
     },
     "output_type": "display_data"
    }
   ],
   "source": [
    "plot_feature_importance(DT2.feature_importances_,X_train.columns,'Decision Tree')"
   ]
  },
  {
   "cell_type": "markdown",
   "id": "4304cd27",
   "metadata": {},
   "source": [
    "# Random Forrest "
   ]
  },
  {
   "cell_type": "code",
   "execution_count": 151,
   "id": "6b2b9be2",
   "metadata": {},
   "outputs": [],
   "source": [
    "RF = RandomForestClassifier()"
   ]
  },
  {
   "cell_type": "code",
   "execution_count": 152,
   "id": "e56dc89b",
   "metadata": {},
   "outputs": [
    {
     "data": {
      "text/plain": [
       "RandomForestClassifier()"
      ]
     },
     "execution_count": 152,
     "metadata": {},
     "output_type": "execute_result"
    }
   ],
   "source": [
    "RF.fit(X_train,y_train)"
   ]
  },
  {
   "cell_type": "code",
   "execution_count": 153,
   "id": "e6cc4d16",
   "metadata": {},
   "outputs": [],
   "source": [
    "y_pred = RF.predict(X_test)"
   ]
  },
  {
   "cell_type": "code",
   "execution_count": 154,
   "id": "8cbc155e",
   "metadata": {},
   "outputs": [
    {
     "name": "stdout",
     "output_type": "stream",
     "text": [
      "              precision    recall  f1-score   support\n",
      "\n",
      "  H_Spread_L      0.529     0.458     0.491       120\n",
      "  H_Spread_W      0.492     0.562     0.525       112\n",
      "\n",
      "    accuracy                          0.509       232\n",
      "   macro avg      0.511     0.510     0.508       232\n",
      "weighted avg      0.511     0.509     0.507       232\n",
      "\n"
     ]
    }
   ],
   "source": [
    "print(metrics.classification_report(y_test, y_pred, digits=3))"
   ]
  },
  {
   "cell_type": "markdown",
   "id": "a0167281",
   "metadata": {},
   "source": [
    "# Random Forest GridSearch"
   ]
  },
  {
   "cell_type": "code",
   "execution_count": 104,
   "id": "a923a1c4",
   "metadata": {},
   "outputs": [],
   "source": [
    "parameters = {\n",
    "    \n",
    "    'n_estimators': [50,100,150],\n",
    "    'criterion': ['entropy','gini'],\n",
    "    'max_depth': [3,4,5,10,13],\n",
    "    'min_samples_split':[5,10,15],\n",
    "    'min_samples_leaf': [3,10,20],\n",
    "    'max_leaf_nodes': [20,30,50]\n",
    "    \n",
    "}"
   ]
  },
  {
   "cell_type": "code",
   "execution_count": 105,
   "id": "a4b8151b",
   "metadata": {},
   "outputs": [],
   "source": [
    "RF = RandomForestClassifier()"
   ]
  },
  {
   "cell_type": "code",
   "execution_count": 106,
   "id": "797b3f19",
   "metadata": {},
   "outputs": [
    {
     "data": {
      "text/plain": [
       "GridSearchCV(cv=5, estimator=RandomForestClassifier(),\n",
       "             param_grid={'criterion': ['entropy', 'gini'],\n",
       "                         'max_depth': [3, 4, 5, 10, 13],\n",
       "                         'max_leaf_nodes': [20, 30, 50],\n",
       "                         'min_samples_leaf': [3, 10, 20],\n",
       "                         'min_samples_split': [5, 10, 15],\n",
       "                         'n_estimators': [50, 100, 150]})"
      ]
     },
     "execution_count": 106,
     "metadata": {},
     "output_type": "execute_result"
    }
   ],
   "source": [
    "clf = GridSearchCV(RF,parameters,cv=5)\n",
    "clf.fit(X,y)"
   ]
  },
  {
   "cell_type": "code",
   "execution_count": 107,
   "id": "32a6c1f7",
   "metadata": {},
   "outputs": [],
   "source": [
    "best_param= clf.best_params_"
   ]
  },
  {
   "cell_type": "code",
   "execution_count": 108,
   "id": "620973e6",
   "metadata": {},
   "outputs": [
    {
     "data": {
      "text/plain": [
       "{'criterion': 'gini',\n",
       " 'max_depth': 5,\n",
       " 'max_leaf_nodes': 30,\n",
       " 'min_samples_leaf': 3,\n",
       " 'min_samples_split': 5,\n",
       " 'n_estimators': 50}"
      ]
     },
     "execution_count": 108,
     "metadata": {},
     "output_type": "execute_result"
    }
   ],
   "source": [
    "best_param"
   ]
  },
  {
   "cell_type": "code",
   "execution_count": 120,
   "id": "794545fc",
   "metadata": {},
   "outputs": [],
   "source": [
    "RF1 = RandomForestClassifier()"
   ]
  },
  {
   "cell_type": "code",
   "execution_count": 121,
   "id": "7d50c93c",
   "metadata": {},
   "outputs": [
    {
     "data": {
      "text/plain": [
       "RandomForestClassifier(max_depth=5, max_leaf_nodes=30, min_samples_leaf=3,\n",
       "                       min_samples_split=5, n_estimators=50)"
      ]
     },
     "execution_count": 121,
     "metadata": {},
     "output_type": "execute_result"
    }
   ],
   "source": [
    "RF1.set_params(**best_param)"
   ]
  },
  {
   "cell_type": "code",
   "execution_count": 122,
   "id": "98b0afe4",
   "metadata": {},
   "outputs": [
    {
     "data": {
      "text/plain": [
       "RandomForestClassifier(max_depth=5, max_leaf_nodes=30, min_samples_leaf=3,\n",
       "                       min_samples_split=5, n_estimators=50)"
      ]
     },
     "execution_count": 122,
     "metadata": {},
     "output_type": "execute_result"
    }
   ],
   "source": [
    "RF1.fit(X_train,y_train)"
   ]
  },
  {
   "cell_type": "code",
   "execution_count": 123,
   "id": "5281c9a6",
   "metadata": {},
   "outputs": [],
   "source": [
    "y_pred=RF1.predict(X_test)"
   ]
  },
  {
   "cell_type": "code",
   "execution_count": 124,
   "id": "a920d426",
   "metadata": {},
   "outputs": [
    {
     "name": "stdout",
     "output_type": "stream",
     "text": [
      "              precision    recall  f1-score   support\n",
      "\n",
      "  H_Spread_L      0.515     0.417     0.461       120\n",
      "  H_Spread_W      0.481     0.580     0.526       112\n",
      "\n",
      "    accuracy                          0.496       232\n",
      "   macro avg      0.498     0.499     0.494       232\n",
      "weighted avg      0.499     0.496     0.492       232\n",
      "\n"
     ]
    }
   ],
   "source": [
    "print(metrics.classification_report(y_test, y_pred, digits=3))"
   ]
  },
  {
   "cell_type": "code",
   "execution_count": 126,
   "id": "6de2c020",
   "metadata": {},
   "outputs": [
    {
     "data": {
      "image/png": "[encoded data removed]",
      "text/plain": [
       "<Figure size 720x576 with 1 Axes>"
      ]
     },
     "metadata": {
      "needs_background": "light"
     },
     "output_type": "display_data"
    }
   ],
   "source": [
    "plot_feature_importance(RF1.feature_importances_,X_train.columns,'RANDOM FOREST')"
   ]
  },
  {
   "cell_type": "code",
   "execution_count": 128,
   "id": "5330f296",
   "metadata": {},
   "outputs": [],
   "source": [
    "RF2 = RandomForestClassifier(max_depth=6, max_leaf_nodes=30, min_samples_leaf=3,\n",
    "                       min_samples_split=5, n_estimators=50)"
   ]
  },
  {
   "cell_type": "code",
   "execution_count": 129,
   "id": "18d8f32d",
   "metadata": {},
   "outputs": [
    {
     "data": {
      "text/plain": [
       "RandomForestClassifier(max_depth=6, max_leaf_nodes=30, min_samples_leaf=3,\n",
       "                       min_samples_split=5, n_estimators=50)"
      ]
     },
     "execution_count": 129,
     "metadata": {},
     "output_type": "execute_result"
    }
   ],
   "source": [
    "RF2.fit(X_train,y_train)"
   ]
  },
  {
   "cell_type": "code",
   "execution_count": 130,
   "id": "5301f9b6",
   "metadata": {},
   "outputs": [],
   "source": [
    "y_pred=RF2.predict(X_test)"
   ]
  },
  {
   "cell_type": "code",
   "execution_count": 131,
   "id": "046ead71",
   "metadata": {},
   "outputs": [
    {
     "name": "stdout",
     "output_type": "stream",
     "text": [
      "              precision    recall  f1-score   support\n",
      "\n",
      "  H_Spread_L      0.526     0.425     0.470       120\n",
      "  H_Spread_W      0.489     0.589     0.534       112\n",
      "\n",
      "    accuracy                          0.504       232\n",
      "   macro avg      0.507     0.507     0.502       232\n",
      "weighted avg      0.508     0.504     0.501       232\n",
      "\n"
     ]
    }
   ],
   "source": [
    "print(metrics.classification_report(y_test, y_pred, digits=3))"
   ]
  },
  {
   "cell_type": "code",
   "execution_count": 132,
   "id": "65473688",
   "metadata": {},
   "outputs": [
    {
     "data": {
      "image/png": "[encoded data removed]",
      "text/plain": [
       "<Figure size 720x576 with 1 Axes>"
      ]
     },
     "metadata": {
      "needs_background": "light"
     },
     "output_type": "display_data"
    }
   ],
   "source": [
    "plot_feature_importance(RF2.feature_importances_,X_train.columns,'RANDOM FOREST')"
   ]
  },
  {
   "cell_type": "markdown",
   "id": "1636a28d",
   "metadata": {},
   "source": [
    "# K NEAREST NEIGHBOR "
   ]
  },
  {
   "cell_type": "code",
   "execution_count": 155,
   "id": "9cbd77c8",
   "metadata": {},
   "outputs": [],
   "source": [
    "KNN = KNeighborsClassifier(n_neighbors=40)"
   ]
  },
  {
   "cell_type": "code",
   "execution_count": 156,
   "id": "0d519493",
   "metadata": {},
   "outputs": [
    {
     "data": {
      "text/plain": [
       "KNeighborsClassifier(n_neighbors=40)"
      ]
     },
     "execution_count": 156,
     "metadata": {},
     "output_type": "execute_result"
    }
   ],
   "source": [
    "KNN.fit(X_train,y_train)"
   ]
  },
  {
   "cell_type": "code",
   "execution_count": 157,
   "id": "caf66286",
   "metadata": {},
   "outputs": [],
   "source": [
    "y_pred= KNN.predict(X_test)"
   ]
  },
  {
   "cell_type": "code",
   "execution_count": 158,
   "id": "562250be",
   "metadata": {},
   "outputs": [
    {
     "name": "stdout",
     "output_type": "stream",
     "text": [
      "              precision    recall  f1-score   support\n",
      "\n",
      "  H_Spread_L      0.523     0.558     0.540       120\n",
      "  H_Spread_W      0.490     0.455     0.472       112\n",
      "\n",
      "    accuracy                          0.509       232\n",
      "   macro avg      0.507     0.507     0.506       232\n",
      "weighted avg      0.507     0.509     0.507       232\n",
      "\n"
     ]
    }
   ],
   "source": [
    "print(metrics.classification_report(y_test, y_pred, digits=3))"
   ]
  },
  {
   "cell_type": "code",
   "execution_count": 159,
   "id": "1b098c5a",
   "metadata": {},
   "outputs": [],
   "source": [
    "parameters = {\n",
    "    'n_neighbors' : [5,9,15,21,25,31,35,41,45,51]\n",
    "    \n",
    "}"
   ]
  },
  {
   "cell_type": "code",
   "execution_count": 160,
   "id": "3f96a1ef",
   "metadata": {},
   "outputs": [],
   "source": [
    "KNN = KNeighborsClassifier()"
   ]
  },
  {
   "cell_type": "code",
   "execution_count": 161,
   "id": "0ba4ffb8",
   "metadata": {},
   "outputs": [
    {
     "data": {
      "text/plain": [
       "GridSearchCV(cv=5, estimator=KNeighborsClassifier(),\n",
       "             param_grid={'n_neighbors': [5, 9, 15, 21, 25, 31, 35, 41, 45, 51]},\n",
       "             scoring='balanced_accuracy')"
      ]
     },
     "execution_count": 161,
     "metadata": {},
     "output_type": "execute_result"
    }
   ],
   "source": [
    "clf = GridSearchCV(KNN,parameters,cv=5,scoring='balanced_accuracy')\n",
    "clf.fit(X,y)"
   ]
  },
  {
   "cell_type": "code",
   "execution_count": 162,
   "id": "1b34e54a",
   "metadata": {},
   "outputs": [],
   "source": [
    "best_param= clf.best_params_"
   ]
  },
  {
   "cell_type": "code",
   "execution_count": 163,
   "id": "fad35b7a",
   "metadata": {},
   "outputs": [
    {
     "data": {
      "text/plain": [
       "{'n_neighbors': 45}"
      ]
     },
     "execution_count": 163,
     "metadata": {},
     "output_type": "execute_result"
    }
   ],
   "source": [
    "best_param"
   ]
  },
  {
   "cell_type": "code",
   "execution_count": 164,
   "id": "a448171f",
   "metadata": {},
   "outputs": [],
   "source": [
    "KNN = KNeighborsClassifier(n_neighbors=45)"
   ]
  },
  {
   "cell_type": "code",
   "execution_count": 165,
   "id": "9295e055",
   "metadata": {},
   "outputs": [
    {
     "data": {
      "text/plain": [
       "KNeighborsClassifier(n_neighbors=45)"
      ]
     },
     "execution_count": 165,
     "metadata": {},
     "output_type": "execute_result"
    }
   ],
   "source": [
    "KNN.fit(X_train,y_train)"
   ]
  },
  {
   "cell_type": "code",
   "execution_count": 166,
   "id": "ed189701",
   "metadata": {},
   "outputs": [],
   "source": [
    "y_pred=KNN.predict(X_test)"
   ]
  },
  {
   "cell_type": "code",
   "execution_count": 167,
   "id": "e8beb35b",
   "metadata": {},
   "outputs": [
    {
     "name": "stdout",
     "output_type": "stream",
     "text": [
      "              precision    recall  f1-score   support\n",
      "\n",
      "  H_Spread_L      0.527     0.483     0.504       120\n",
      "  H_Spread_W      0.492     0.536     0.513       112\n",
      "\n",
      "    accuracy                          0.509       232\n",
      "   macro avg      0.510     0.510     0.509       232\n",
      "weighted avg      0.510     0.509     0.508       232\n",
      "\n"
     ]
    }
   ],
   "source": [
    "print(metrics.classification_report(y_test, y_pred, digits=3))"
   ]
  },
  {
   "cell_type": "code",
   "execution_count": 146,
   "id": "068e4b21",
   "metadata": {},
   "outputs": [],
   "source": [
    "from sklearn import svm"
   ]
  },
  {
   "cell_type": "code",
   "execution_count": 168,
   "id": "fb6bbd50",
   "metadata": {},
   "outputs": [],
   "source": [
    "clf = svm.SVC()"
   ]
  },
  {
   "cell_type": "code",
   "execution_count": 169,
   "id": "f06f8ddf",
   "metadata": {},
   "outputs": [
    {
     "data": {
      "text/plain": [
       "SVC()"
      ]
     },
     "execution_count": 169,
     "metadata": {},
     "output_type": "execute_result"
    }
   ],
   "source": [
    "clf.fit(X_train, y_train)"
   ]
  },
  {
   "cell_type": "code",
   "execution_count": 170,
   "id": "0ad24ea7",
   "metadata": {},
   "outputs": [],
   "source": [
    "y_pred = clf.predict(X_test)\n"
   ]
  },
  {
   "cell_type": "code",
   "execution_count": 171,
   "id": "e8cae031",
   "metadata": {},
   "outputs": [
    {
     "name": "stdout",
     "output_type": "stream",
     "text": [
      "              precision    recall  f1-score   support\n",
      "\n",
      "  H_Spread_L      0.540     0.508     0.524       120\n",
      "  H_Spread_W      0.504     0.536     0.519       112\n",
      "\n",
      "    accuracy                          0.522       232\n",
      "   macro avg      0.522     0.522     0.522       232\n",
      "weighted avg      0.523     0.522     0.522       232\n",
      "\n"
     ]
    }
   ],
   "source": [
    "print(metrics.classification_report(y_test, y_pred, digits=3))"
   ]
  },
  {
   "cell_type": "code",
   "execution_count": null,
   "id": "2c28d07f",
   "metadata": {},
   "outputs": [],
   "source": []
  }
 ],
 "metadata": {
  "kernelspec": {
   "display_name": "Python 3",
   "language": "python",
   "name": "python3"
  },
  "language_info": {
   "codemirror_mode": {
    "name": "ipython",
    "version": 3
   },
   "file_extension": ".py",
   "mimetype": "text/x-python",
   "name": "python",
   "nbconvert_exporter": "python",
   "pygments_lexer": "ipython3",
   "version": "3.8.8"
  }
 },
 "nbformat": 4,
 "nbformat_minor": 5
}
