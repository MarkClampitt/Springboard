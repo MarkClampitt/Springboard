{
 "cells": [
  {
   "cell_type": "code",
   "execution_count": 1,
   "id": "64297f52",
   "metadata": {},
   "outputs": [],
   "source": [
    "import pandas as pd\n",
    "import numpy as np\n",
    "import os\n",
    "import pickle\n",
    "import matplotlib.pyplot as plt\n",
    "import seaborn as sns\n",
    "from sklearn import __version__ as sklearn_version\n",
    "from sklearn.decomposition import PCA\n",
    "from sklearn.preprocessing import scale\n",
    "from sklearn.model_selection import train_test_split, cross_validate, GridSearchCV, learning_curve\n",
    "from sklearn.preprocessing import StandardScaler, MinMaxScaler\n",
    "from sklearn.dummy import DummyRegressor\n",
    "from sklearn.linear_model import LinearRegression\n",
    "from sklearn.ensemble import RandomForestRegressor\n",
    "from sklearn.metrics import r2_score, mean_squared_error, mean_absolute_error\n",
    "from sklearn.pipeline import make_pipeline\n",
    "from sklearn.impute import SimpleImputer\n",
    "from sklearn.feature_selection import SelectKBest, f_regression\n",
    "import datetime\n",
    "\n"
   ]
  },
  {
   "cell_type": "code",
   "execution_count": 2,
   "id": "275fed18",
   "metadata": {},
   "outputs": [
    {
     "data": {
      "text/html": [
       "<div>\n",
       "<style scoped>\n",
       "    .dataframe tbody tr th:only-of-type {\n",
       "        vertical-align: middle;\n",
       "    }\n",
       "\n",
       "    .dataframe tbody tr th {\n",
       "        vertical-align: top;\n",
       "    }\n",
       "\n",
       "    .dataframe thead th {\n",
       "        text-align: right;\n",
       "    }\n",
       "</style>\n",
       "<table border=\"1\" class=\"dataframe\">\n",
       "  <thead>\n",
       "    <tr style=\"text-align: right;\">\n",
       "      <th></th>\n",
       "      <th>Previous Away HI Pass yrds</th>\n",
       "      <th>Previous Away HI Rush yrds</th>\n",
       "      <th>Previous Away HI REC yrds</th>\n",
       "      <th>Previous Away Season T Wins</th>\n",
       "      <th>Previous Away Season Losses</th>\n",
       "      <th>Previous Away Conf Losses</th>\n",
       "      <th>Previous Away Conf Wins</th>\n",
       "      <th>Previous Away 1st Downs</th>\n",
       "      <th>Previous Away 3rd Down Conversions</th>\n",
       "      <th>Previous Away 3rd Down Conversions Attempts</th>\n",
       "      <th>...</th>\n",
       "      <th>Y_2012</th>\n",
       "      <th>Y_2013</th>\n",
       "      <th>Y_2014</th>\n",
       "      <th>Y_2015</th>\n",
       "      <th>Y_2016</th>\n",
       "      <th>Y_2017</th>\n",
       "      <th>Y_2018</th>\n",
       "      <th>Y_2019</th>\n",
       "      <th>Y_2020</th>\n",
       "      <th>Y_2021</th>\n",
       "    </tr>\n",
       "  </thead>\n",
       "  <tbody>\n",
       "    <tr>\n",
       "      <th>0</th>\n",
       "      <td>0.939990</td>\n",
       "      <td>-0.782569</td>\n",
       "      <td>0.117323</td>\n",
       "      <td>-0.572982</td>\n",
       "      <td>-0.803459</td>\n",
       "      <td>-0.802036</td>\n",
       "      <td>-0.655167</td>\n",
       "      <td>-0.707413</td>\n",
       "      <td>-0.124248</td>\n",
       "      <td>-0.440238</td>\n",
       "      <td>...</td>\n",
       "      <td>0</td>\n",
       "      <td>0</td>\n",
       "      <td>0</td>\n",
       "      <td>0</td>\n",
       "      <td>0</td>\n",
       "      <td>0</td>\n",
       "      <td>0</td>\n",
       "      <td>0</td>\n",
       "      <td>0</td>\n",
       "      <td>1</td>\n",
       "    </tr>\n",
       "    <tr>\n",
       "      <th>1</th>\n",
       "      <td>-1.470013</td>\n",
       "      <td>-0.636199</td>\n",
       "      <td>-1.203281</td>\n",
       "      <td>-0.572982</td>\n",
       "      <td>1.462141</td>\n",
       "      <td>1.465790</td>\n",
       "      <td>0.425793</td>\n",
       "      <td>-0.707413</td>\n",
       "      <td>-1.392509</td>\n",
       "      <td>-0.440238</td>\n",
       "      <td>...</td>\n",
       "      <td>0</td>\n",
       "      <td>0</td>\n",
       "      <td>0</td>\n",
       "      <td>0</td>\n",
       "      <td>0</td>\n",
       "      <td>0</td>\n",
       "      <td>0</td>\n",
       "      <td>0</td>\n",
       "      <td>0</td>\n",
       "      <td>1</td>\n",
       "    </tr>\n",
       "    <tr>\n",
       "      <th>2</th>\n",
       "      <td>0.331962</td>\n",
       "      <td>0.681130</td>\n",
       "      <td>-0.405935</td>\n",
       "      <td>0.260077</td>\n",
       "      <td>1.009021</td>\n",
       "      <td>1.012225</td>\n",
       "      <td>1.506753</td>\n",
       "      <td>0.501444</td>\n",
       "      <td>-0.969755</td>\n",
       "      <td>-0.819435</td>\n",
       "      <td>...</td>\n",
       "      <td>0</td>\n",
       "      <td>0</td>\n",
       "      <td>0</td>\n",
       "      <td>0</td>\n",
       "      <td>0</td>\n",
       "      <td>0</td>\n",
       "      <td>0</td>\n",
       "      <td>0</td>\n",
       "      <td>0</td>\n",
       "      <td>1</td>\n",
       "    </tr>\n",
       "    <tr>\n",
       "      <th>3</th>\n",
       "      <td>0.011365</td>\n",
       "      <td>0.660220</td>\n",
       "      <td>0.216991</td>\n",
       "      <td>1.093136</td>\n",
       "      <td>-0.803459</td>\n",
       "      <td>-0.802036</td>\n",
       "      <td>2.587713</td>\n",
       "      <td>1.710301</td>\n",
       "      <td>0.721259</td>\n",
       "      <td>-1.198632</td>\n",
       "      <td>...</td>\n",
       "      <td>0</td>\n",
       "      <td>0</td>\n",
       "      <td>0</td>\n",
       "      <td>0</td>\n",
       "      <td>0</td>\n",
       "      <td>0</td>\n",
       "      <td>0</td>\n",
       "      <td>0</td>\n",
       "      <td>1</td>\n",
       "      <td>0</td>\n",
       "    </tr>\n",
       "    <tr>\n",
       "      <th>4</th>\n",
       "      <td>0.088751</td>\n",
       "      <td>-0.636199</td>\n",
       "      <td>-0.580355</td>\n",
       "      <td>-0.572982</td>\n",
       "      <td>0.102781</td>\n",
       "      <td>0.105094</td>\n",
       "      <td>0.425793</td>\n",
       "      <td>-0.016638</td>\n",
       "      <td>1.144012</td>\n",
       "      <td>0.697352</td>\n",
       "      <td>...</td>\n",
       "      <td>0</td>\n",
       "      <td>0</td>\n",
       "      <td>0</td>\n",
       "      <td>0</td>\n",
       "      <td>0</td>\n",
       "      <td>0</td>\n",
       "      <td>0</td>\n",
       "      <td>0</td>\n",
       "      <td>1</td>\n",
       "      <td>0</td>\n",
       "    </tr>\n",
       "  </tbody>\n",
       "</table>\n",
       "<p>5 rows × 261 columns</p>\n",
       "</div>"
      ],
      "text/plain": [
       "   Previous Away HI Pass yrds  Previous Away HI Rush yrds  \\\n",
       "0                    0.939990                   -0.782569   \n",
       "1                   -1.470013                   -0.636199   \n",
       "2                    0.331962                    0.681130   \n",
       "3                    0.011365                    0.660220   \n",
       "4                    0.088751                   -0.636199   \n",
       "\n",
       "   Previous Away HI REC yrds  Previous Away Season T Wins  \\\n",
       "0                   0.117323                    -0.572982   \n",
       "1                  -1.203281                    -0.572982   \n",
       "2                  -0.405935                     0.260077   \n",
       "3                   0.216991                     1.093136   \n",
       "4                  -0.580355                    -0.572982   \n",
       "\n",
       "   Previous Away Season Losses  Previous Away Conf Losses  \\\n",
       "0                    -0.803459                  -0.802036   \n",
       "1                     1.462141                   1.465790   \n",
       "2                     1.009021                   1.012225   \n",
       "3                    -0.803459                  -0.802036   \n",
       "4                     0.102781                   0.105094   \n",
       "\n",
       "   Previous Away Conf Wins  Previous Away 1st Downs  \\\n",
       "0                -0.655167                -0.707413   \n",
       "1                 0.425793                -0.707413   \n",
       "2                 1.506753                 0.501444   \n",
       "3                 2.587713                 1.710301   \n",
       "4                 0.425793                -0.016638   \n",
       "\n",
       "   Previous Away 3rd Down Conversions  \\\n",
       "0                           -0.124248   \n",
       "1                           -1.392509   \n",
       "2                           -0.969755   \n",
       "3                            0.721259   \n",
       "4                            1.144012   \n",
       "\n",
       "   Previous Away 3rd Down Conversions Attempts  ...  Y_2012  Y_2013  Y_2014  \\\n",
       "0                                    -0.440238  ...       0       0       0   \n",
       "1                                    -0.440238  ...       0       0       0   \n",
       "2                                    -0.819435  ...       0       0       0   \n",
       "3                                    -1.198632  ...       0       0       0   \n",
       "4                                     0.697352  ...       0       0       0   \n",
       "\n",
       "   Y_2015  Y_2016  Y_2017  Y_2018  Y_2019  Y_2020  Y_2021  \n",
       "0       0       0       0       0       0       0       1  \n",
       "1       0       0       0       0       0       0       1  \n",
       "2       0       0       0       0       0       0       1  \n",
       "3       0       0       0       0       0       1       0  \n",
       "4       0       0       0       0       0       1       0  \n",
       "\n",
       "[5 rows x 261 columns]"
      ]
     },
     "execution_count": 2,
     "metadata": {},
     "output_type": "execute_result"
    }
   ],
   "source": [
    "Scaled_df = pd.read_excel('/Users/markclampitt/Documents/Springboard/Capstone2/Data\\Scaled_df.xlsx')\n",
    "Scaled_df.head()"
   ]
  },
  {
   "cell_type": "code",
   "execution_count": 8,
   "id": "26c88032",
   "metadata": {},
   "outputs": [
    {
     "data": {
      "text/html": [
       "<div>\n",
       "<style scoped>\n",
       "    .dataframe tbody tr th:only-of-type {\n",
       "        vertical-align: middle;\n",
       "    }\n",
       "\n",
       "    .dataframe tbody tr th {\n",
       "        vertical-align: top;\n",
       "    }\n",
       "\n",
       "    .dataframe thead th {\n",
       "        text-align: right;\n",
       "    }\n",
       "</style>\n",
       "<table border=\"1\" class=\"dataframe\">\n",
       "  <thead>\n",
       "    <tr style=\"text-align: right;\">\n",
       "      <th></th>\n",
       "      <th>Previous Away HI Pass yrds</th>\n",
       "      <th>Previous Away HI Rush yrds</th>\n",
       "      <th>Previous Away HI REC yrds</th>\n",
       "      <th>Previous Away Season T Wins</th>\n",
       "      <th>Previous Away Season Losses</th>\n",
       "      <th>Previous Away Conf Losses</th>\n",
       "      <th>Previous Away Conf Wins</th>\n",
       "      <th>Previous Away 1st Downs</th>\n",
       "      <th>Previous Away 3rd Down Conversions</th>\n",
       "      <th>Previous Away 3rd Down Conversions Attempts</th>\n",
       "      <th>...</th>\n",
       "      <th>H_Georgia</th>\n",
       "      <th>H_Kentucky</th>\n",
       "      <th>H_LSU</th>\n",
       "      <th>H_Mississippi State</th>\n",
       "      <th>H_Missouri</th>\n",
       "      <th>H_Ole Miss</th>\n",
       "      <th>H_South Carolina</th>\n",
       "      <th>H_Tennessee</th>\n",
       "      <th>H_Texas A&amp;M</th>\n",
       "      <th>H_Vanderbilt</th>\n",
       "    </tr>\n",
       "  </thead>\n",
       "  <tbody>\n",
       "    <tr>\n",
       "      <th>0</th>\n",
       "      <td>65</td>\n",
       "      <td>28</td>\n",
       "      <td>22</td>\n",
       "      <td>4</td>\n",
       "      <td>1</td>\n",
       "      <td>1</td>\n",
       "      <td>1</td>\n",
       "      <td>9</td>\n",
       "      <td>3</td>\n",
       "      <td>12</td>\n",
       "      <td>...</td>\n",
       "      <td>0</td>\n",
       "      <td>0</td>\n",
       "      <td>0</td>\n",
       "      <td>0</td>\n",
       "      <td>0</td>\n",
       "      <td>1</td>\n",
       "      <td>0</td>\n",
       "      <td>0</td>\n",
       "      <td>0</td>\n",
       "      <td>0</td>\n",
       "    </tr>\n",
       "    <tr>\n",
       "      <th>1</th>\n",
       "      <td>151</td>\n",
       "      <td>48</td>\n",
       "      <td>69</td>\n",
       "      <td>4</td>\n",
       "      <td>0</td>\n",
       "      <td>0</td>\n",
       "      <td>2</td>\n",
       "      <td>28</td>\n",
       "      <td>6</td>\n",
       "      <td>14</td>\n",
       "      <td>...</td>\n",
       "      <td>0</td>\n",
       "      <td>0</td>\n",
       "      <td>0</td>\n",
       "      <td>0</td>\n",
       "      <td>0</td>\n",
       "      <td>0</td>\n",
       "      <td>0</td>\n",
       "      <td>0</td>\n",
       "      <td>0</td>\n",
       "      <td>0</td>\n",
       "    </tr>\n",
       "    <tr>\n",
       "      <th>2</th>\n",
       "      <td>280</td>\n",
       "      <td>51</td>\n",
       "      <td>85</td>\n",
       "      <td>3</td>\n",
       "      <td>1</td>\n",
       "      <td>1</td>\n",
       "      <td>1</td>\n",
       "      <td>15</td>\n",
       "      <td>5</td>\n",
       "      <td>13</td>\n",
       "      <td>...</td>\n",
       "      <td>0</td>\n",
       "      <td>1</td>\n",
       "      <td>0</td>\n",
       "      <td>0</td>\n",
       "      <td>0</td>\n",
       "      <td>0</td>\n",
       "      <td>0</td>\n",
       "      <td>0</td>\n",
       "      <td>0</td>\n",
       "      <td>0</td>\n",
       "    </tr>\n",
       "    <tr>\n",
       "      <th>3</th>\n",
       "      <td>240</td>\n",
       "      <td>78</td>\n",
       "      <td>61</td>\n",
       "      <td>3</td>\n",
       "      <td>0</td>\n",
       "      <td>0</td>\n",
       "      <td>1</td>\n",
       "      <td>19</td>\n",
       "      <td>7</td>\n",
       "      <td>13</td>\n",
       "      <td>...</td>\n",
       "      <td>0</td>\n",
       "      <td>0</td>\n",
       "      <td>0</td>\n",
       "      <td>0</td>\n",
       "      <td>0</td>\n",
       "      <td>0</td>\n",
       "      <td>0</td>\n",
       "      <td>0</td>\n",
       "      <td>1</td>\n",
       "      <td>0</td>\n",
       "    </tr>\n",
       "    <tr>\n",
       "      <th>4</th>\n",
       "      <td>79</td>\n",
       "      <td>64</td>\n",
       "      <td>33</td>\n",
       "      <td>0</td>\n",
       "      <td>8</td>\n",
       "      <td>8</td>\n",
       "      <td>0</td>\n",
       "      <td>13</td>\n",
       "      <td>3</td>\n",
       "      <td>14</td>\n",
       "      <td>...</td>\n",
       "      <td>0</td>\n",
       "      <td>0</td>\n",
       "      <td>0</td>\n",
       "      <td>0</td>\n",
       "      <td>0</td>\n",
       "      <td>0</td>\n",
       "      <td>0</td>\n",
       "      <td>0</td>\n",
       "      <td>0</td>\n",
       "      <td>0</td>\n",
       "    </tr>\n",
       "  </tbody>\n",
       "</table>\n",
       "<p>5 rows × 261 columns</p>\n",
       "</div>"
      ],
      "text/plain": [
       "   Previous Away HI Pass yrds  Previous Away HI Rush yrds  \\\n",
       "0                          65                          28   \n",
       "1                         151                          48   \n",
       "2                         280                          51   \n",
       "3                         240                          78   \n",
       "4                          79                          64   \n",
       "\n",
       "   Previous Away HI REC yrds  Previous Away Season T Wins  \\\n",
       "0                         22                            4   \n",
       "1                         69                            4   \n",
       "2                         85                            3   \n",
       "3                         61                            3   \n",
       "4                         33                            0   \n",
       "\n",
       "   Previous Away Season Losses  Previous Away Conf Losses  \\\n",
       "0                            1                          1   \n",
       "1                            0                          0   \n",
       "2                            1                          1   \n",
       "3                            0                          0   \n",
       "4                            8                          8   \n",
       "\n",
       "   Previous Away Conf Wins  Previous Away 1st Downs  \\\n",
       "0                        1                        9   \n",
       "1                        2                       28   \n",
       "2                        1                       15   \n",
       "3                        1                       19   \n",
       "4                        0                       13   \n",
       "\n",
       "   Previous Away 3rd Down Conversions  \\\n",
       "0                                   3   \n",
       "1                                   6   \n",
       "2                                   5   \n",
       "3                                   7   \n",
       "4                                   3   \n",
       "\n",
       "   Previous Away 3rd Down Conversions Attempts  ...  H_Georgia  H_Kentucky  \\\n",
       "0                                           12  ...          0           0   \n",
       "1                                           14  ...          0           0   \n",
       "2                                           13  ...          0           1   \n",
       "3                                           13  ...          0           0   \n",
       "4                                           14  ...          0           0   \n",
       "\n",
       "   H_LSU  H_Mississippi State  H_Missouri  H_Ole Miss  H_South Carolina  \\\n",
       "0      0                    0           0           1                 0   \n",
       "1      0                    0           0           0                 0   \n",
       "2      0                    0           0           0                 0   \n",
       "3      0                    0           0           0                 0   \n",
       "4      0                    0           0           0                 0   \n",
       "\n",
       "   H_Tennessee  H_Texas A&M  H_Vanderbilt  \n",
       "0            0            0             0  \n",
       "1            0            0             0  \n",
       "2            0            0             0  \n",
       "3            0            1             0  \n",
       "4            0            0             0  \n",
       "\n",
       "[5 rows x 261 columns]"
      ]
     },
     "execution_count": 8,
     "metadata": {},
     "output_type": "execute_result"
    }
   ],
   "source": [
    "new_df = pd.read_excel(r'/Users/markclampitt/Documents/Springboard/Capstone2/Data\\new_df.xlsx')\n",
    "new_df.head()"
   ]
  },
  {
   "cell_type": "code",
   "execution_count": 9,
   "id": "a62c0837",
   "metadata": {},
   "outputs": [
    {
     "data": {
      "text/plain": [
       "(820, 261)"
      ]
     },
     "execution_count": 9,
     "metadata": {},
     "output_type": "execute_result"
    }
   ],
   "source": [
    "new_df.shape"
   ]
  },
  {
   "cell_type": "code",
   "execution_count": 13,
   "id": "e0a93e86",
   "metadata": {},
   "outputs": [],
   "source": [
    "H_Ole_Miss= new_df[new_df['H_Ole Miss'] == 1]"
   ]
  },
  {
   "cell_type": "code",
   "execution_count": 14,
   "id": "1666db76",
   "metadata": {},
   "outputs": [
    {
     "data": {
      "text/html": [
       "<div>\n",
       "<style scoped>\n",
       "    .dataframe tbody tr th:only-of-type {\n",
       "        vertical-align: middle;\n",
       "    }\n",
       "\n",
       "    .dataframe tbody tr th {\n",
       "        vertical-align: top;\n",
       "    }\n",
       "\n",
       "    .dataframe thead th {\n",
       "        text-align: right;\n",
       "    }\n",
       "</style>\n",
       "<table border=\"1\" class=\"dataframe\">\n",
       "  <thead>\n",
       "    <tr style=\"text-align: right;\">\n",
       "      <th></th>\n",
       "      <th>Previous Away HI Pass yrds</th>\n",
       "      <th>Previous Away HI Rush yrds</th>\n",
       "      <th>Previous Away HI REC yrds</th>\n",
       "      <th>Previous Away Season T Wins</th>\n",
       "      <th>Previous Away Season Losses</th>\n",
       "      <th>Previous Away Conf Losses</th>\n",
       "      <th>Previous Away Conf Wins</th>\n",
       "      <th>Previous Away 1st Downs</th>\n",
       "      <th>Previous Away 3rd Down Conversions</th>\n",
       "      <th>Previous Away 3rd Down Conversions Attempts</th>\n",
       "      <th>...</th>\n",
       "      <th>H_Georgia</th>\n",
       "      <th>H_Kentucky</th>\n",
       "      <th>H_LSU</th>\n",
       "      <th>H_Mississippi State</th>\n",
       "      <th>H_Missouri</th>\n",
       "      <th>H_Ole Miss</th>\n",
       "      <th>H_South Carolina</th>\n",
       "      <th>H_Tennessee</th>\n",
       "      <th>H_Texas A&amp;M</th>\n",
       "      <th>H_Vanderbilt</th>\n",
       "    </tr>\n",
       "  </thead>\n",
       "  <tbody>\n",
       "    <tr>\n",
       "      <th>0</th>\n",
       "      <td>65</td>\n",
       "      <td>28</td>\n",
       "      <td>22</td>\n",
       "      <td>4</td>\n",
       "      <td>1</td>\n",
       "      <td>1</td>\n",
       "      <td>1</td>\n",
       "      <td>9</td>\n",
       "      <td>3</td>\n",
       "      <td>12</td>\n",
       "      <td>...</td>\n",
       "      <td>0</td>\n",
       "      <td>0</td>\n",
       "      <td>0</td>\n",
       "      <td>0</td>\n",
       "      <td>0</td>\n",
       "      <td>1</td>\n",
       "      <td>0</td>\n",
       "      <td>0</td>\n",
       "      <td>0</td>\n",
       "      <td>0</td>\n",
       "    </tr>\n",
       "    <tr>\n",
       "      <th>35</th>\n",
       "      <td>336</td>\n",
       "      <td>19</td>\n",
       "      <td>115</td>\n",
       "      <td>2</td>\n",
       "      <td>5</td>\n",
       "      <td>5</td>\n",
       "      <td>2</td>\n",
       "      <td>20</td>\n",
       "      <td>7</td>\n",
       "      <td>13</td>\n",
       "      <td>...</td>\n",
       "      <td>0</td>\n",
       "      <td>0</td>\n",
       "      <td>0</td>\n",
       "      <td>0</td>\n",
       "      <td>0</td>\n",
       "      <td>1</td>\n",
       "      <td>0</td>\n",
       "      <td>0</td>\n",
       "      <td>0</td>\n",
       "      <td>0</td>\n",
       "    </tr>\n",
       "    <tr>\n",
       "      <th>42</th>\n",
       "      <td>234</td>\n",
       "      <td>126</td>\n",
       "      <td>101</td>\n",
       "      <td>2</td>\n",
       "      <td>3</td>\n",
       "      <td>3</td>\n",
       "      <td>2</td>\n",
       "      <td>17</td>\n",
       "      <td>3</td>\n",
       "      <td>10</td>\n",
       "      <td>...</td>\n",
       "      <td>0</td>\n",
       "      <td>0</td>\n",
       "      <td>0</td>\n",
       "      <td>0</td>\n",
       "      <td>0</td>\n",
       "      <td>1</td>\n",
       "      <td>0</td>\n",
       "      <td>0</td>\n",
       "      <td>0</td>\n",
       "      <td>0</td>\n",
       "    </tr>\n",
       "    <tr>\n",
       "      <th>56</th>\n",
       "      <td>272</td>\n",
       "      <td>111</td>\n",
       "      <td>74</td>\n",
       "      <td>2</td>\n",
       "      <td>2</td>\n",
       "      <td>2</td>\n",
       "      <td>2</td>\n",
       "      <td>27</td>\n",
       "      <td>7</td>\n",
       "      <td>16</td>\n",
       "      <td>...</td>\n",
       "      <td>0</td>\n",
       "      <td>0</td>\n",
       "      <td>0</td>\n",
       "      <td>0</td>\n",
       "      <td>0</td>\n",
       "      <td>1</td>\n",
       "      <td>0</td>\n",
       "      <td>0</td>\n",
       "      <td>0</td>\n",
       "      <td>0</td>\n",
       "    </tr>\n",
       "    <tr>\n",
       "      <th>69</th>\n",
       "      <td>249</td>\n",
       "      <td>98</td>\n",
       "      <td>134</td>\n",
       "      <td>1</td>\n",
       "      <td>0</td>\n",
       "      <td>0</td>\n",
       "      <td>1</td>\n",
       "      <td>22</td>\n",
       "      <td>9</td>\n",
       "      <td>14</td>\n",
       "      <td>...</td>\n",
       "      <td>0</td>\n",
       "      <td>0</td>\n",
       "      <td>0</td>\n",
       "      <td>0</td>\n",
       "      <td>0</td>\n",
       "      <td>1</td>\n",
       "      <td>0</td>\n",
       "      <td>0</td>\n",
       "      <td>0</td>\n",
       "      <td>0</td>\n",
       "    </tr>\n",
       "    <tr>\n",
       "      <th>...</th>\n",
       "      <td>...</td>\n",
       "      <td>...</td>\n",
       "      <td>...</td>\n",
       "      <td>...</td>\n",
       "      <td>...</td>\n",
       "      <td>...</td>\n",
       "      <td>...</td>\n",
       "      <td>...</td>\n",
       "      <td>...</td>\n",
       "      <td>...</td>\n",
       "      <td>...</td>\n",
       "      <td>...</td>\n",
       "      <td>...</td>\n",
       "      <td>...</td>\n",
       "      <td>...</td>\n",
       "      <td>...</td>\n",
       "      <td>...</td>\n",
       "      <td>...</td>\n",
       "      <td>...</td>\n",
       "      <td>...</td>\n",
       "      <td>...</td>\n",
       "    </tr>\n",
       "    <tr>\n",
       "      <th>775</th>\n",
       "      <td>140</td>\n",
       "      <td>42</td>\n",
       "      <td>52</td>\n",
       "      <td>0</td>\n",
       "      <td>2</td>\n",
       "      <td>2</td>\n",
       "      <td>0</td>\n",
       "      <td>12</td>\n",
       "      <td>4</td>\n",
       "      <td>12</td>\n",
       "      <td>...</td>\n",
       "      <td>0</td>\n",
       "      <td>0</td>\n",
       "      <td>0</td>\n",
       "      <td>0</td>\n",
       "      <td>0</td>\n",
       "      <td>1</td>\n",
       "      <td>0</td>\n",
       "      <td>0</td>\n",
       "      <td>0</td>\n",
       "      <td>0</td>\n",
       "    </tr>\n",
       "    <tr>\n",
       "      <th>777</th>\n",
       "      <td>171</td>\n",
       "      <td>69</td>\n",
       "      <td>40</td>\n",
       "      <td>2</td>\n",
       "      <td>0</td>\n",
       "      <td>0</td>\n",
       "      <td>1</td>\n",
       "      <td>19</td>\n",
       "      <td>4</td>\n",
       "      <td>11</td>\n",
       "      <td>...</td>\n",
       "      <td>0</td>\n",
       "      <td>0</td>\n",
       "      <td>0</td>\n",
       "      <td>0</td>\n",
       "      <td>0</td>\n",
       "      <td>1</td>\n",
       "      <td>0</td>\n",
       "      <td>0</td>\n",
       "      <td>0</td>\n",
       "      <td>0</td>\n",
       "    </tr>\n",
       "    <tr>\n",
       "      <th>795</th>\n",
       "      <td>229</td>\n",
       "      <td>56</td>\n",
       "      <td>98</td>\n",
       "      <td>8</td>\n",
       "      <td>1</td>\n",
       "      <td>1</td>\n",
       "      <td>5</td>\n",
       "      <td>16</td>\n",
       "      <td>5</td>\n",
       "      <td>15</td>\n",
       "      <td>...</td>\n",
       "      <td>0</td>\n",
       "      <td>0</td>\n",
       "      <td>0</td>\n",
       "      <td>0</td>\n",
       "      <td>0</td>\n",
       "      <td>1</td>\n",
       "      <td>0</td>\n",
       "      <td>0</td>\n",
       "      <td>0</td>\n",
       "      <td>0</td>\n",
       "    </tr>\n",
       "    <tr>\n",
       "      <th>800</th>\n",
       "      <td>116</td>\n",
       "      <td>190</td>\n",
       "      <td>43</td>\n",
       "      <td>2</td>\n",
       "      <td>5</td>\n",
       "      <td>5</td>\n",
       "      <td>0</td>\n",
       "      <td>16</td>\n",
       "      <td>5</td>\n",
       "      <td>17</td>\n",
       "      <td>...</td>\n",
       "      <td>0</td>\n",
       "      <td>0</td>\n",
       "      <td>0</td>\n",
       "      <td>0</td>\n",
       "      <td>0</td>\n",
       "      <td>1</td>\n",
       "      <td>0</td>\n",
       "      <td>0</td>\n",
       "      <td>0</td>\n",
       "      <td>0</td>\n",
       "    </tr>\n",
       "    <tr>\n",
       "      <th>812</th>\n",
       "      <td>90</td>\n",
       "      <td>120</td>\n",
       "      <td>39</td>\n",
       "      <td>1</td>\n",
       "      <td>4</td>\n",
       "      <td>4</td>\n",
       "      <td>0</td>\n",
       "      <td>20</td>\n",
       "      <td>6</td>\n",
       "      <td>13</td>\n",
       "      <td>...</td>\n",
       "      <td>0</td>\n",
       "      <td>0</td>\n",
       "      <td>0</td>\n",
       "      <td>0</td>\n",
       "      <td>0</td>\n",
       "      <td>1</td>\n",
       "      <td>0</td>\n",
       "      <td>0</td>\n",
       "      <td>0</td>\n",
       "      <td>0</td>\n",
       "    </tr>\n",
       "  </tbody>\n",
       "</table>\n",
       "<p>64 rows × 261 columns</p>\n",
       "</div>"
      ],
      "text/plain": [
       "     Previous Away HI Pass yrds  Previous Away HI Rush yrds  \\\n",
       "0                            65                          28   \n",
       "35                          336                          19   \n",
       "42                          234                         126   \n",
       "56                          272                         111   \n",
       "69                          249                          98   \n",
       "..                          ...                         ...   \n",
       "775                         140                          42   \n",
       "777                         171                          69   \n",
       "795                         229                          56   \n",
       "800                         116                         190   \n",
       "812                          90                         120   \n",
       "\n",
       "     Previous Away HI REC yrds  Previous Away Season T Wins  \\\n",
       "0                           22                            4   \n",
       "35                         115                            2   \n",
       "42                         101                            2   \n",
       "56                          74                            2   \n",
       "69                         134                            1   \n",
       "..                         ...                          ...   \n",
       "775                         52                            0   \n",
       "777                         40                            2   \n",
       "795                         98                            8   \n",
       "800                         43                            2   \n",
       "812                         39                            1   \n",
       "\n",
       "     Previous Away Season Losses  Previous Away Conf Losses  \\\n",
       "0                              1                          1   \n",
       "35                             5                          5   \n",
       "42                             3                          3   \n",
       "56                             2                          2   \n",
       "69                             0                          0   \n",
       "..                           ...                        ...   \n",
       "775                            2                          2   \n",
       "777                            0                          0   \n",
       "795                            1                          1   \n",
       "800                            5                          5   \n",
       "812                            4                          4   \n",
       "\n",
       "     Previous Away Conf Wins  Previous Away 1st Downs  \\\n",
       "0                          1                        9   \n",
       "35                         2                       20   \n",
       "42                         2                       17   \n",
       "56                         2                       27   \n",
       "69                         1                       22   \n",
       "..                       ...                      ...   \n",
       "775                        0                       12   \n",
       "777                        1                       19   \n",
       "795                        5                       16   \n",
       "800                        0                       16   \n",
       "812                        0                       20   \n",
       "\n",
       "     Previous Away 3rd Down Conversions  \\\n",
       "0                                     3   \n",
       "35                                    7   \n",
       "42                                    3   \n",
       "56                                    7   \n",
       "69                                    9   \n",
       "..                                  ...   \n",
       "775                                   4   \n",
       "777                                   4   \n",
       "795                                   5   \n",
       "800                                   5   \n",
       "812                                   6   \n",
       "\n",
       "     Previous Away 3rd Down Conversions Attempts  ...  H_Georgia  H_Kentucky  \\\n",
       "0                                             12  ...          0           0   \n",
       "35                                            13  ...          0           0   \n",
       "42                                            10  ...          0           0   \n",
       "56                                            16  ...          0           0   \n",
       "69                                            14  ...          0           0   \n",
       "..                                           ...  ...        ...         ...   \n",
       "775                                           12  ...          0           0   \n",
       "777                                           11  ...          0           0   \n",
       "795                                           15  ...          0           0   \n",
       "800                                           17  ...          0           0   \n",
       "812                                           13  ...          0           0   \n",
       "\n",
       "     H_LSU  H_Mississippi State  H_Missouri  H_Ole Miss  H_South Carolina  \\\n",
       "0        0                    0           0           1                 0   \n",
       "35       0                    0           0           1                 0   \n",
       "42       0                    0           0           1                 0   \n",
       "56       0                    0           0           1                 0   \n",
       "69       0                    0           0           1                 0   \n",
       "..     ...                  ...         ...         ...               ...   \n",
       "775      0                    0           0           1                 0   \n",
       "777      0                    0           0           1                 0   \n",
       "795      0                    0           0           1                 0   \n",
       "800      0                    0           0           1                 0   \n",
       "812      0                    0           0           1                 0   \n",
       "\n",
       "     H_Tennessee  H_Texas A&M  H_Vanderbilt  \n",
       "0              0            0             0  \n",
       "35             0            0             0  \n",
       "42             0            0             0  \n",
       "56             0            0             0  \n",
       "69             0            0             0  \n",
       "..           ...          ...           ...  \n",
       "775            0            0             0  \n",
       "777            0            0             0  \n",
       "795            0            0             0  \n",
       "800            0            0             0  \n",
       "812            0            0             0  \n",
       "\n",
       "[64 rows x 261 columns]"
      ]
     },
     "execution_count": 14,
     "metadata": {},
     "output_type": "execute_result"
    }
   ],
   "source": [
    "H_Ole_Miss"
   ]
  },
  {
   "cell_type": "code",
   "execution_count": 15,
   "id": "a15c113e",
   "metadata": {},
   "outputs": [
    {
     "data": {
      "text/plain": [
       "(820, 261)"
      ]
     },
     "execution_count": 15,
     "metadata": {},
     "output_type": "execute_result"
    }
   ],
   "source": [
    "new_df.shape"
   ]
  },
  {
   "cell_type": "code",
   "execution_count": 16,
   "id": "91e83d7e",
   "metadata": {},
   "outputs": [],
   "source": [
    "new_df = new_df[new_df['H_Ole Miss'] != 1]"
   ]
  },
  {
   "cell_type": "code",
   "execution_count": 17,
   "id": "6ae48597",
   "metadata": {},
   "outputs": [
    {
     "data": {
      "text/plain": [
       "(756, 261)"
      ]
     },
     "execution_count": 17,
     "metadata": {},
     "output_type": "execute_result"
    }
   ],
   "source": [
    "new_df.shape"
   ]
  },
  {
   "cell_type": "code",
   "execution_count": 18,
   "id": "a37ed49e",
   "metadata": {},
   "outputs": [
    {
     "data": {
      "text/plain": [
       "(529.1999999999999, 226.79999999999998)"
      ]
     },
     "execution_count": 18,
     "metadata": {},
     "output_type": "execute_result"
    }
   ],
   "source": [
    "len(new_df) * .7, len(new_df) * .3"
   ]
  },
  {
   "cell_type": "code",
   "execution_count": 20,
   "id": "5c14a3af",
   "metadata": {},
   "outputs": [],
   "source": [
    "X_train, X_test, y_train, y_test = train_test_split(new_df.drop(columns='Home Score_x_x'), \n",
    "                                                    new_df['Home Score_x_x'], test_size=0.3, \n",
    "                                                    random_state=47)"
   ]
  },
  {
   "cell_type": "code",
   "execution_count": 21,
   "id": "867b779f",
   "metadata": {},
   "outputs": [
    {
     "data": {
      "text/plain": [
       "((529, 260), (227, 260))"
      ]
     },
     "execution_count": 21,
     "metadata": {},
     "output_type": "execute_result"
    }
   ],
   "source": [
    "X_train.shape, X_test.shape"
   ]
  },
  {
   "cell_type": "code",
   "execution_count": 22,
   "id": "12c5fc13",
   "metadata": {},
   "outputs": [
    {
     "data": {
      "text/plain": [
       "((529,), (227,))"
      ]
     },
     "execution_count": 22,
     "metadata": {},
     "output_type": "execute_result"
    }
   ],
   "source": [
    "y_train.shape, y_test.shape"
   ]
  },
  {
   "cell_type": "code",
   "execution_count": 23,
   "id": "bb12b4c4",
   "metadata": {},
   "outputs": [
    {
     "data": {
      "text/plain": [
       "((529, 259), (227, 259))"
      ]
     },
     "execution_count": 23,
     "metadata": {},
     "output_type": "execute_result"
    }
   ],
   "source": [
    "names_list = ['Date']\n",
    "names_train = X_train[names_list]\n",
    "names_test = X_test[names_list]\n",
    "X_train.drop(columns=names_list, inplace=True)\n",
    "X_test.drop(columns=names_list, inplace=True)\n",
    "X_train.shape, X_test.shape"
   ]
  },
  {
   "cell_type": "code",
   "execution_count": 25,
   "id": "74f1d477",
   "metadata": {},
   "outputs": [],
   "source": [
    "pd.set_option('Max_rows',None)\n",
    "pd.set_option('Max_columns',None)"
   ]
  },
  {
   "cell_type": "code",
   "execution_count": 26,
   "id": "957d1ce3",
   "metadata": {},
   "outputs": [
    {
     "data": {
      "text/plain": [
       "Previous Away HI Pass yrds                                int64\n",
       "Previous Away HI Rush yrds                                int64\n",
       "Previous Away HI REC yrds                                 int64\n",
       "Previous Away Season T Wins                               int64\n",
       "Previous Away Season Losses                               int64\n",
       "Previous Away Conf Losses                                 int64\n",
       "Previous Away Conf Wins                                   int64\n",
       "Previous Away 1st Downs                                   int64\n",
       "Previous Away 3rd Down Conversions                        int64\n",
       "Previous Away 3rd Down Conversions Attempts               int64\n",
       "Previous Away 3rd Down Conversions %                    float64\n",
       "Previous Away Completions                                 int64\n",
       "Previous Away Completion Attempts                         int64\n",
       "Previous Away Completion %                              float64\n",
       "Previous Away Total Yards                                 int64\n",
       "Previous Away Passing                                     int64\n",
       "Previous Away Yards per Pass                            float64\n",
       "Previous Away Rushing                                     int64\n",
       "Previous Away Rushing Attempts                            int64\n",
       "Previous Away Yards per Rush                            float64\n",
       "Previous Away Penalties                                   int64\n",
       "Previous Away Penalty Yards                               int64\n",
       "Previous Away Yards per Penalty                         float64\n",
       "Previous Away Turnovers                                   int64\n",
       "Previous Away Fumbles Lost                                int64\n",
       "Previous Away Interceptions Thrown                        int64\n",
       "Previous Away Possession Time                           float64\n",
       "Previous Away Q1 Score                                    int64\n",
       "Previous Away Q2 Score                                    int64\n",
       "Previous Away Q3 Score                                    int64\n",
       "Previous Away Q4 Score                                    int64\n",
       "Previous Away Spread                                    float64\n",
       "Previous Away Ranking                                     int64\n",
       "Previous Away ATS Win                                     int64\n",
       "Previous Away ATS Loss                                    int64\n",
       "Previous Away Over Odds                                   int64\n",
       "Previous Away Under Odds                                  int64\n",
       "Previous Away Push Odds                                   int64\n",
       "Previous Away Total Odds                                float64\n",
       "Previous Home HI Pass yrds                                int64\n",
       "Previous Home HI Rush yrds                                int64\n",
       "Previous Home HI REC yrds                                 int64\n",
       "Previous Home Season T Wins                               int64\n",
       "Previous Home Season Losses                               int64\n",
       "Previous Home Conf Losses                                 int64\n",
       "Previous Home Conf Wins                                   int64\n",
       "Previous Home 1st Downs                                   int64\n",
       "Previous Home 3rd Down Conversions                        int64\n",
       "Previous Home 3rd Down Conversions Attempts               int64\n",
       "Previous Home 3rd Down Conversions %                    float64\n",
       "Previous Home Completions                                 int64\n",
       "Previous Home Completion Attempts                         int64\n",
       "Previous Home Completion %                              float64\n",
       "Previous Home Total Yards                                 int64\n",
       "Previous Home Yards per Pass                            float64\n",
       "Previous Home Rushing                                     int64\n",
       "Previous Home Rushing Attempts                          float64\n",
       "Previous Home Yards per Rush                            float64\n",
       "Previous Home Penalties                                   int64\n",
       "Previous Home Penalty Yards                               int64\n",
       "Previous Home Yards per Penalty                         float64\n",
       "Previous Home Turnovers                                   int64\n",
       "Previous Home Fumbles Lost                                int64\n",
       "Previous Home Interceptions Thrown                        int64\n",
       "Previous Home Possession Time                           float64\n",
       "Previous Home Q1 Score                                    int64\n",
       "Previous Home Q2 Score                                    int64\n",
       "Previous Home Q3 Score                                    int64\n",
       "Previous Home Q4 Score                                    int64\n",
       "Previous Home Total Odds                                float64\n",
       "Previous Home Spread                                    float64\n",
       "Previous Home Ranking                                     int64\n",
       "Previous Home ATS Win                                     int64\n",
       "Previous Home ATS Loss                                    int64\n",
       "Previous Home Over Odds                                   int64\n",
       "Previous Home Under Odds                                  int64\n",
       "Previous Home Push Odds                                   int64\n",
       "Previous H&A HI Pass yrds_Home_Team                       int64\n",
       "Previous H&A HI Rush yrds_Home_Team                       int64\n",
       "Previous H&A HI REC yrds_Home_Team                        int64\n",
       "Previous H&A Season T Wins_Home_Team                      int64\n",
       "Previous H&A Season Losses_Home_Team                      int64\n",
       "Previous H&A Conf Wins_Home_Team                          int64\n",
       "Previous H&A Conf Losses_Home_Team                        int64\n",
       "Previous H&A 1st Downs_Home_Team                          int64\n",
       "Previous H&A 3rd Down Conversions_Home_Team               int64\n",
       "Previous H&A 3rd Down Conversions Attempts_Home_Team      int64\n",
       "Previous H&A 3rd Down Conversions %_Home_Team           float64\n",
       "Previous H&A Completions_Home_Team                        int64\n",
       "Previous H&A Completion Attempts_Home_Team                int64\n",
       "Previous H&A Completion %_Home_Team                     float64\n",
       "Previous H&A Total Yards_Home_Team                        int64\n",
       "Previous H&A Passing_Home_Team                            int64\n",
       "Previous H&A Yards per Pass_Home_Team                   float64\n",
       "Previous H&A Rushing_Home_Team                            int64\n",
       "Previous H&A Rushing Attempts_Home_Team                   int64\n",
       "Previous H&A Yards per Rush_Home_Team                   float64\n",
       "Previous H&A Penalties_Home_Team                          int64\n",
       "Previous H&A Penalty Yards_Home_Team                      int64\n",
       "Previous H&A Yards per Penalty_Home_Team                float64\n",
       "Previous H&A Turnovers_Home_Team                          int64\n",
       "Previous H&A Fumbles Lost_Home_Team                       int64\n",
       "Previous H&A Interceptions Thrown_Home_Team               int64\n",
       "Previous H&A Possession Time_Home_Team                  float64\n",
       "Previous H&A Q1 Score_Home_Team                           int64\n",
       "Previous H&A Q2 Score_Home_Team                           int64\n",
       "Previous H&A Q3 Score_Home_Team                           int64\n",
       "Previous H&A Q4 Score_Home_Team                           int64\n",
       "Previous H&A Total Odds_Home_Team                       float64\n",
       "Previous H&A Spread_Home_Team                           float64\n",
       "Previous H&A Ranking_Home_Team                            int64\n",
       "Previous H&A ATS Win_Home_Team                            int64\n",
       "Previous H&A ATS Loss_Home_Team                           int64\n",
       "Previous H&A Over Odds_Home_Team                          int64\n",
       "Previous H&A Under Odds_Home_Team                         int64\n",
       "Previous H&A HI Pass yrds_Away_Team                       int64\n",
       "Previous H&A HI Rush yrds_Away_Team                       int64\n",
       "Previous H&A HI REC yrds_Away_Team                        int64\n",
       "Previous H&A Season T Wins_Away_Team                      int64\n",
       "Previous H&A Season Losses_Away_Team                      int64\n",
       "Previous H&A Conf Wins_Away_Team                          int64\n",
       "Previous H&A Conf Losses_Away_Team                        int64\n",
       "Previous H&A 1st Downs_Away_Team                          int64\n",
       "Previous H&A 3rd Down Conversions_Away_Team               int64\n",
       "Previous H&A 3rd Down Conversions Attempts_Away_Team      int64\n",
       "Previous H&A 3rd Down Conversions %_Away_Team           float64\n",
       "Previous H&A Completions_Away_Team                        int64\n",
       "Previous H&A Completion Attempts_Away_Team                int64\n",
       "Previous H&A Completion %_Away_Team                     float64\n",
       "Previous H&A Total Yards_Away_Team                        int64\n",
       "Previous H&A Passing_Away_Team                            int64\n",
       "Previous H&A Yards per Pass_Away_Team                   float64\n",
       "Previous H&A Rushing_Away_Team                            int64\n",
       "Previous H&A Rushing Attempts_Away_Team                   int64\n",
       "Previous H&A Yards per Rush_Away_Team                   float64\n",
       "Previous H&A Penalties_Away_Team                          int64\n",
       "Previous H&A Penalty Yards_Away_Team                      int64\n",
       "Previous H&A Yards per Penalty_Away_Team                float64\n",
       "Previous H&A Turnovers_Away_Team                          int64\n",
       "Previous H&A Fumbles Lost_Away_Team                       int64\n",
       "Previous H&A Interceptions Thrown_Away_Team               int64\n",
       "Previous H&A Possession Time_Away_Team                  float64\n",
       "Previous H&A Q1 Score_Away_Team                           int64\n",
       "Previous H&A Q2 Score_Away_Team                           int64\n",
       "Previous H&A Q3 Score_Away_Team                           int64\n",
       "Previous H&A Q4 Score_Away_Team                           int64\n",
       "Previous H&A Total Odds_Away_Team                       float64\n",
       "Previous H&A Spread_Away_Team                           float64\n",
       "Previous H&A Ranking_Away_Team                            int64\n",
       "Previous H&A ATS Win_Away_Team                            int64\n",
       "Previous H&A ATS Loss_Away_Team                           int64\n",
       "Previous H&A Over Odds_Away_Team                          int64\n",
       "Previous H&A Under Odds_Away_Team                         int64\n",
       "Previous H&A Push Odds_Away_Team                          int64\n",
       "Rolling 5 Past H&A Score_Home_Team                        int64\n",
       "Rolling 5 Past H&A Score_Away_Team                        int64\n",
       "Rolling 3 Past H&A Score_Home_Team                        int64\n",
       "Rolling 3 Past H&A Score_Away_Team                        int64\n",
       "Rolling 5 Past Home Score                                 int64\n",
       "Rolling 5 Past Away Score                                 int64\n",
       "Rolling 3 Past Home Score                                 int64\n",
       "Rolling 3 Past Away Score                                 int64\n",
       "Past Away Score                                           int64\n",
       "Past Home Score                                           int64\n",
       "Past H&A Score_Home_Team                                  int64\n",
       "Past H&A Score_Away_Team                                  int64\n",
       "Rolling 5 Past H&A Conf T Losses_Away_Team                int64\n",
       "Rolling 5 Past H&A Conf T Losses_Home_Team                int64\n",
       "Rolling 5 Past H&A Conf T Wins_Away_Team                  int64\n",
       "Rolling 5 Past H&A Conf T Wins_Home_Team                  int64\n",
       "Rolling 3 Past H&A Conf T Losses_Away_Team                int64\n",
       "Rolling 3 Past H&A Conf T Losses_Home_Team                int64\n",
       "Rolling 3 Past H&A Conf T Wins_Away_Team                  int64\n",
       "Rolling 3 Past H&A Conf T Wins_Home_Team                  int64\n",
       "Rolling 5 Past H&A Possession Time_Home_Team            float64\n",
       "Rolling 5 Past H&A Possession Time_Away_Team            float64\n",
       "Rolling 3 Past H&A Possession Time_Home_Team            float64\n",
       "Rolling 3 Past H&A Possession Time_Away_Team            float64\n",
       "Rolling 5 Past Home Possession Time                     float64\n",
       "Rolling 5 Past Away Possession Time                     float64\n",
       "Rolling 3 Past Home Possession Time                     float64\n",
       "Rolling 3 Past Away Possession Time                     float64\n",
       "Rolling 5 Past H&A Total Yards_Home_Team                  int64\n",
       "Rolling 5 Past H&A Total Yards_Away_Team                  int64\n",
       "Rolling 3 Past H&A Total Yards_Home_Team                  int64\n",
       "Rolling 3 Past H&A Total Yards_Away_Team                  int64\n",
       "Rolling 5 Past Home Total Yards                           int64\n",
       "Rolling 5 Past Away Total Yards                           int64\n",
       "Rolling 3 Past Home Total Yards                           int64\n",
       "Rolling 3 Past Away Total Yards                           int64\n",
       "Rolling 5 Past H&A Penalties_Home_Team                    int64\n",
       "Rolling 5 Past H&A Penalties_Away_Team                    int64\n",
       "Rolling 3 Past H&A Penalties_Home_Team                    int64\n",
       "Rolling 3 Past H&A Penalties_Away_Team                    int64\n",
       "Rolling 5 Past Home Penalties                             int64\n",
       "Rolling 5 Past Away Penalties                             int64\n",
       "Rolling 3 Past Home Penalties                             int64\n",
       "Rolling 3 Past Away Penalties                             int64\n",
       "Rolling 5 Past H&A Turnovers_Home_Team                    int64\n",
       "Rolling 5 Past H&A Turnovers_Away_Team                    int64\n",
       "Rolling 3 Past H&A Turnovers_Home_Team                    int64\n",
       "Rolling 3 Past H&A Turnovers_Away_Team                    int64\n",
       "Rolling 5 Past Home Turnovers                             int64\n",
       "Rolling 5 Past Away Turnovers                             int64\n",
       "Rolling 3 Past Home Turnovers                             int64\n",
       "Rolling 3 Past Away Turnovers                             int64\n",
       "Rolling 5 Past H&A 3rd Down Conversions_Away_Team         int64\n",
       "Rolling 5 Past H&A 3rd Down Conversions_Home_Team         int64\n",
       "Rolling 3 Past H&A 3rd Down Conversion_Away_Team          int64\n",
       "Rolling 3 Past H&A 3rd Down Conversion_Home_Team          int64\n",
       "Rolling 5 Past Away 3rd Down Conversions                  int64\n",
       "Rolling 5 Past Home 3rd Down Conversions                  int64\n",
       "Rolling 3 Past Away 3rd Down Conversion                   int64\n",
       "Rolling 3 Past Home 3rd Down Conversion                   int64\n",
       "A_Ranking Bin_Group                                       int64\n",
       "H_Ranking Bin_Group                                       int64\n",
       "Away Score_x_x                                            int64\n",
       "A_Arkansas                                                int64\n",
       "A_Auburn                                                  int64\n",
       "A_Florida                                                 int64\n",
       "A_Georgia                                                 int64\n",
       "A_Kentucky                                                int64\n",
       "A_LSU                                                     int64\n",
       "A_Mississippi State                                       int64\n",
       "A_Missouri                                                int64\n",
       "A_Ole Miss                                                int64\n",
       "A_South Carolina                                          int64\n",
       "A_Tennessee                                               int64\n",
       "A_Texas A&M                                               int64\n",
       "A_Vanderbilt                                              int64\n",
       "Y_2006                                                    int64\n",
       "Y_2007                                                    int64\n",
       "Y_2008                                                    int64\n",
       "Y_2009                                                    int64\n",
       "Y_2010                                                    int64\n",
       "Y_2011                                                    int64\n",
       "Y_2012                                                    int64\n",
       "Y_2013                                                    int64\n",
       "Y_2014                                                    int64\n",
       "Y_2015                                                    int64\n",
       "Y_2016                                                    int64\n",
       "Y_2017                                                    int64\n",
       "Y_2018                                                    int64\n",
       "Y_2019                                                    int64\n",
       "Y_2020                                                    int64\n",
       "Y_2021                                                    int64\n",
       "H_Arkansas                                                int64\n",
       "H_Auburn                                                  int64\n",
       "H_Florida                                                 int64\n",
       "H_Georgia                                                 int64\n",
       "H_Kentucky                                                int64\n",
       "H_LSU                                                     int64\n",
       "H_Mississippi State                                       int64\n",
       "H_Missouri                                                int64\n",
       "H_Ole Miss                                                int64\n",
       "H_South Carolina                                          int64\n",
       "H_Tennessee                                               int64\n",
       "H_Texas A&M                                               int64\n",
       "H_Vanderbilt                                              int64\n",
       "dtype: object"
      ]
     },
     "execution_count": 26,
     "metadata": {},
     "output_type": "execute_result"
    }
   ],
   "source": [
    "X_train.dtypes"
   ]
  },
  {
   "cell_type": "code",
   "execution_count": 27,
   "id": "758469c4",
   "metadata": {},
   "outputs": [
    {
     "data": {
      "text/plain": [
       "Previous Away HI Pass yrds                                int64\n",
       "Previous Away HI Rush yrds                                int64\n",
       "Previous Away HI REC yrds                                 int64\n",
       "Previous Away Season T Wins                               int64\n",
       "Previous Away Season Losses                               int64\n",
       "Previous Away Conf Losses                                 int64\n",
       "Previous Away Conf Wins                                   int64\n",
       "Previous Away 1st Downs                                   int64\n",
       "Previous Away 3rd Down Conversions                        int64\n",
       "Previous Away 3rd Down Conversions Attempts               int64\n",
       "Previous Away 3rd Down Conversions %                    float64\n",
       "Previous Away Completions                                 int64\n",
       "Previous Away Completion Attempts                         int64\n",
       "Previous Away Completion %                              float64\n",
       "Previous Away Total Yards                                 int64\n",
       "Previous Away Passing                                     int64\n",
       "Previous Away Yards per Pass                            float64\n",
       "Previous Away Rushing                                     int64\n",
       "Previous Away Rushing Attempts                            int64\n",
       "Previous Away Yards per Rush                            float64\n",
       "Previous Away Penalties                                   int64\n",
       "Previous Away Penalty Yards                               int64\n",
       "Previous Away Yards per Penalty                         float64\n",
       "Previous Away Turnovers                                   int64\n",
       "Previous Away Fumbles Lost                                int64\n",
       "Previous Away Interceptions Thrown                        int64\n",
       "Previous Away Possession Time                           float64\n",
       "Previous Away Q1 Score                                    int64\n",
       "Previous Away Q2 Score                                    int64\n",
       "Previous Away Q3 Score                                    int64\n",
       "Previous Away Q4 Score                                    int64\n",
       "Previous Away Spread                                    float64\n",
       "Previous Away Ranking                                     int64\n",
       "Previous Away ATS Win                                     int64\n",
       "Previous Away ATS Loss                                    int64\n",
       "Previous Away Over Odds                                   int64\n",
       "Previous Away Under Odds                                  int64\n",
       "Previous Away Push Odds                                   int64\n",
       "Previous Away Total Odds                                float64\n",
       "Previous Home HI Pass yrds                                int64\n",
       "Previous Home HI Rush yrds                                int64\n",
       "Previous Home HI REC yrds                                 int64\n",
       "Previous Home Season T Wins                               int64\n",
       "Previous Home Season Losses                               int64\n",
       "Previous Home Conf Losses                                 int64\n",
       "Previous Home Conf Wins                                   int64\n",
       "Previous Home 1st Downs                                   int64\n",
       "Previous Home 3rd Down Conversions                        int64\n",
       "Previous Home 3rd Down Conversions Attempts               int64\n",
       "Previous Home 3rd Down Conversions %                    float64\n",
       "Previous Home Completions                                 int64\n",
       "Previous Home Completion Attempts                         int64\n",
       "Previous Home Completion %                              float64\n",
       "Previous Home Total Yards                                 int64\n",
       "Previous Home Yards per Pass                            float64\n",
       "Previous Home Rushing                                     int64\n",
       "Previous Home Rushing Attempts                          float64\n",
       "Previous Home Yards per Rush                            float64\n",
       "Previous Home Penalties                                   int64\n",
       "Previous Home Penalty Yards                               int64\n",
       "Previous Home Yards per Penalty                         float64\n",
       "Previous Home Turnovers                                   int64\n",
       "Previous Home Fumbles Lost                                int64\n",
       "Previous Home Interceptions Thrown                        int64\n",
       "Previous Home Possession Time                           float64\n",
       "Previous Home Q1 Score                                    int64\n",
       "Previous Home Q2 Score                                    int64\n",
       "Previous Home Q3 Score                                    int64\n",
       "Previous Home Q4 Score                                    int64\n",
       "Previous Home Total Odds                                float64\n",
       "Previous Home Spread                                    float64\n",
       "Previous Home Ranking                                     int64\n",
       "Previous Home ATS Win                                     int64\n",
       "Previous Home ATS Loss                                    int64\n",
       "Previous Home Over Odds                                   int64\n",
       "Previous Home Under Odds                                  int64\n",
       "Previous Home Push Odds                                   int64\n",
       "Previous H&A HI Pass yrds_Home_Team                       int64\n",
       "Previous H&A HI Rush yrds_Home_Team                       int64\n",
       "Previous H&A HI REC yrds_Home_Team                        int64\n",
       "Previous H&A Season T Wins_Home_Team                      int64\n",
       "Previous H&A Season Losses_Home_Team                      int64\n",
       "Previous H&A Conf Wins_Home_Team                          int64\n",
       "Previous H&A Conf Losses_Home_Team                        int64\n",
       "Previous H&A 1st Downs_Home_Team                          int64\n",
       "Previous H&A 3rd Down Conversions_Home_Team               int64\n",
       "Previous H&A 3rd Down Conversions Attempts_Home_Team      int64\n",
       "Previous H&A 3rd Down Conversions %_Home_Team           float64\n",
       "Previous H&A Completions_Home_Team                        int64\n",
       "Previous H&A Completion Attempts_Home_Team                int64\n",
       "Previous H&A Completion %_Home_Team                     float64\n",
       "Previous H&A Total Yards_Home_Team                        int64\n",
       "Previous H&A Passing_Home_Team                            int64\n",
       "Previous H&A Yards per Pass_Home_Team                   float64\n",
       "Previous H&A Rushing_Home_Team                            int64\n",
       "Previous H&A Rushing Attempts_Home_Team                   int64\n",
       "Previous H&A Yards per Rush_Home_Team                   float64\n",
       "Previous H&A Penalties_Home_Team                          int64\n",
       "Previous H&A Penalty Yards_Home_Team                      int64\n",
       "Previous H&A Yards per Penalty_Home_Team                float64\n",
       "Previous H&A Turnovers_Home_Team                          int64\n",
       "Previous H&A Fumbles Lost_Home_Team                       int64\n",
       "Previous H&A Interceptions Thrown_Home_Team               int64\n",
       "Previous H&A Possession Time_Home_Team                  float64\n",
       "Previous H&A Q1 Score_Home_Team                           int64\n",
       "Previous H&A Q2 Score_Home_Team                           int64\n",
       "Previous H&A Q3 Score_Home_Team                           int64\n",
       "Previous H&A Q4 Score_Home_Team                           int64\n",
       "Previous H&A Total Odds_Home_Team                       float64\n",
       "Previous H&A Spread_Home_Team                           float64\n",
       "Previous H&A Ranking_Home_Team                            int64\n",
       "Previous H&A ATS Win_Home_Team                            int64\n",
       "Previous H&A ATS Loss_Home_Team                           int64\n",
       "Previous H&A Over Odds_Home_Team                          int64\n",
       "Previous H&A Under Odds_Home_Team                         int64\n",
       "Previous H&A HI Pass yrds_Away_Team                       int64\n",
       "Previous H&A HI Rush yrds_Away_Team                       int64\n",
       "Previous H&A HI REC yrds_Away_Team                        int64\n",
       "Previous H&A Season T Wins_Away_Team                      int64\n",
       "Previous H&A Season Losses_Away_Team                      int64\n",
       "Previous H&A Conf Wins_Away_Team                          int64\n",
       "Previous H&A Conf Losses_Away_Team                        int64\n",
       "Previous H&A 1st Downs_Away_Team                          int64\n",
       "Previous H&A 3rd Down Conversions_Away_Team               int64\n",
       "Previous H&A 3rd Down Conversions Attempts_Away_Team      int64\n",
       "Previous H&A 3rd Down Conversions %_Away_Team           float64\n",
       "Previous H&A Completions_Away_Team                        int64\n",
       "Previous H&A Completion Attempts_Away_Team                int64\n",
       "Previous H&A Completion %_Away_Team                     float64\n",
       "Previous H&A Total Yards_Away_Team                        int64\n",
       "Previous H&A Passing_Away_Team                            int64\n",
       "Previous H&A Yards per Pass_Away_Team                   float64\n",
       "Previous H&A Rushing_Away_Team                            int64\n",
       "Previous H&A Rushing Attempts_Away_Team                   int64\n",
       "Previous H&A Yards per Rush_Away_Team                   float64\n",
       "Previous H&A Penalties_Away_Team                          int64\n",
       "Previous H&A Penalty Yards_Away_Team                      int64\n",
       "Previous H&A Yards per Penalty_Away_Team                float64\n",
       "Previous H&A Turnovers_Away_Team                          int64\n",
       "Previous H&A Fumbles Lost_Away_Team                       int64\n",
       "Previous H&A Interceptions Thrown_Away_Team               int64\n",
       "Previous H&A Possession Time_Away_Team                  float64\n",
       "Previous H&A Q1 Score_Away_Team                           int64\n",
       "Previous H&A Q2 Score_Away_Team                           int64\n",
       "Previous H&A Q3 Score_Away_Team                           int64\n",
       "Previous H&A Q4 Score_Away_Team                           int64\n",
       "Previous H&A Total Odds_Away_Team                       float64\n",
       "Previous H&A Spread_Away_Team                           float64\n",
       "Previous H&A Ranking_Away_Team                            int64\n",
       "Previous H&A ATS Win_Away_Team                            int64\n",
       "Previous H&A ATS Loss_Away_Team                           int64\n",
       "Previous H&A Over Odds_Away_Team                          int64\n",
       "Previous H&A Under Odds_Away_Team                         int64\n",
       "Previous H&A Push Odds_Away_Team                          int64\n",
       "Rolling 5 Past H&A Score_Home_Team                        int64\n",
       "Rolling 5 Past H&A Score_Away_Team                        int64\n",
       "Rolling 3 Past H&A Score_Home_Team                        int64\n",
       "Rolling 3 Past H&A Score_Away_Team                        int64\n",
       "Rolling 5 Past Home Score                                 int64\n",
       "Rolling 5 Past Away Score                                 int64\n",
       "Rolling 3 Past Home Score                                 int64\n",
       "Rolling 3 Past Away Score                                 int64\n",
       "Past Away Score                                           int64\n",
       "Past Home Score                                           int64\n",
       "Past H&A Score_Home_Team                                  int64\n",
       "Past H&A Score_Away_Team                                  int64\n",
       "Rolling 5 Past H&A Conf T Losses_Away_Team                int64\n",
       "Rolling 5 Past H&A Conf T Losses_Home_Team                int64\n",
       "Rolling 5 Past H&A Conf T Wins_Away_Team                  int64\n",
       "Rolling 5 Past H&A Conf T Wins_Home_Team                  int64\n",
       "Rolling 3 Past H&A Conf T Losses_Away_Team                int64\n",
       "Rolling 3 Past H&A Conf T Losses_Home_Team                int64\n",
       "Rolling 3 Past H&A Conf T Wins_Away_Team                  int64\n",
       "Rolling 3 Past H&A Conf T Wins_Home_Team                  int64\n",
       "Rolling 5 Past H&A Possession Time_Home_Team            float64\n",
       "Rolling 5 Past H&A Possession Time_Away_Team            float64\n",
       "Rolling 3 Past H&A Possession Time_Home_Team            float64\n",
       "Rolling 3 Past H&A Possession Time_Away_Team            float64\n",
       "Rolling 5 Past Home Possession Time                     float64\n",
       "Rolling 5 Past Away Possession Time                     float64\n",
       "Rolling 3 Past Home Possession Time                     float64\n",
       "Rolling 3 Past Away Possession Time                     float64\n",
       "Rolling 5 Past H&A Total Yards_Home_Team                  int64\n",
       "Rolling 5 Past H&A Total Yards_Away_Team                  int64\n",
       "Rolling 3 Past H&A Total Yards_Home_Team                  int64\n",
       "Rolling 3 Past H&A Total Yards_Away_Team                  int64\n",
       "Rolling 5 Past Home Total Yards                           int64\n",
       "Rolling 5 Past Away Total Yards                           int64\n",
       "Rolling 3 Past Home Total Yards                           int64\n",
       "Rolling 3 Past Away Total Yards                           int64\n",
       "Rolling 5 Past H&A Penalties_Home_Team                    int64\n",
       "Rolling 5 Past H&A Penalties_Away_Team                    int64\n",
       "Rolling 3 Past H&A Penalties_Home_Team                    int64\n",
       "Rolling 3 Past H&A Penalties_Away_Team                    int64\n",
       "Rolling 5 Past Home Penalties                             int64\n",
       "Rolling 5 Past Away Penalties                             int64\n",
       "Rolling 3 Past Home Penalties                             int64\n",
       "Rolling 3 Past Away Penalties                             int64\n",
       "Rolling 5 Past H&A Turnovers_Home_Team                    int64\n",
       "Rolling 5 Past H&A Turnovers_Away_Team                    int64\n",
       "Rolling 3 Past H&A Turnovers_Home_Team                    int64\n",
       "Rolling 3 Past H&A Turnovers_Away_Team                    int64\n",
       "Rolling 5 Past Home Turnovers                             int64\n",
       "Rolling 5 Past Away Turnovers                             int64\n",
       "Rolling 3 Past Home Turnovers                             int64\n",
       "Rolling 3 Past Away Turnovers                             int64\n",
       "Rolling 5 Past H&A 3rd Down Conversions_Away_Team         int64\n",
       "Rolling 5 Past H&A 3rd Down Conversions_Home_Team         int64\n",
       "Rolling 3 Past H&A 3rd Down Conversion_Away_Team          int64\n",
       "Rolling 3 Past H&A 3rd Down Conversion_Home_Team          int64\n",
       "Rolling 5 Past Away 3rd Down Conversions                  int64\n",
       "Rolling 5 Past Home 3rd Down Conversions                  int64\n",
       "Rolling 3 Past Away 3rd Down Conversion                   int64\n",
       "Rolling 3 Past Home 3rd Down Conversion                   int64\n",
       "A_Ranking Bin_Group                                       int64\n",
       "H_Ranking Bin_Group                                       int64\n",
       "Away Score_x_x                                            int64\n",
       "A_Arkansas                                                int64\n",
       "A_Auburn                                                  int64\n",
       "A_Florida                                                 int64\n",
       "A_Georgia                                                 int64\n",
       "A_Kentucky                                                int64\n",
       "A_LSU                                                     int64\n",
       "A_Mississippi State                                       int64\n",
       "A_Missouri                                                int64\n",
       "A_Ole Miss                                                int64\n",
       "A_South Carolina                                          int64\n",
       "A_Tennessee                                               int64\n",
       "A_Texas A&M                                               int64\n",
       "A_Vanderbilt                                              int64\n",
       "Y_2006                                                    int64\n",
       "Y_2007                                                    int64\n",
       "Y_2008                                                    int64\n",
       "Y_2009                                                    int64\n",
       "Y_2010                                                    int64\n",
       "Y_2011                                                    int64\n",
       "Y_2012                                                    int64\n",
       "Y_2013                                                    int64\n",
       "Y_2014                                                    int64\n",
       "Y_2015                                                    int64\n",
       "Y_2016                                                    int64\n",
       "Y_2017                                                    int64\n",
       "Y_2018                                                    int64\n",
       "Y_2019                                                    int64\n",
       "Y_2020                                                    int64\n",
       "Y_2021                                                    int64\n",
       "H_Arkansas                                                int64\n",
       "H_Auburn                                                  int64\n",
       "H_Florida                                                 int64\n",
       "H_Georgia                                                 int64\n",
       "H_Kentucky                                                int64\n",
       "H_LSU                                                     int64\n",
       "H_Mississippi State                                       int64\n",
       "H_Missouri                                                int64\n",
       "H_Ole Miss                                                int64\n",
       "H_South Carolina                                          int64\n",
       "H_Tennessee                                               int64\n",
       "H_Texas A&M                                               int64\n",
       "H_Vanderbilt                                              int64\n",
       "dtype: object"
      ]
     },
     "execution_count": 27,
     "metadata": {},
     "output_type": "execute_result"
    }
   ],
   "source": [
    "X_test.dtypes"
   ]
  },
  {
   "cell_type": "code",
   "execution_count": 28,
   "id": "ff852124",
   "metadata": {},
   "outputs": [
    {
     "data": {
      "text/plain": [
       "26.79773156899811"
      ]
     },
     "execution_count": 28,
     "metadata": {},
     "output_type": "execute_result"
    }
   ],
   "source": [
    "train_mean = y_train.mean()\n",
    "train_mean"
   ]
  },
  {
   "cell_type": "code",
   "execution_count": 29,
   "id": "9d5cab38",
   "metadata": {},
   "outputs": [
    {
     "data": {
      "text/plain": [
       "array([[26.79773157]])"
      ]
     },
     "execution_count": 29,
     "metadata": {},
     "output_type": "execute_result"
    }
   ],
   "source": [
    "dumb_reg = DummyRegressor(strategy='mean')\n",
    "dumb_reg.fit(X_train, y_train)\n",
    "dumb_reg.constant_"
   ]
  },
  {
   "cell_type": "code",
   "execution_count": 30,
   "id": "ae67734f",
   "metadata": {},
   "outputs": [],
   "source": [
    "def r_squared(y, ypred):\n",
    "    \"\"\"R-squared score.\n",
    "    \n",
    "    Calculate the R-squared, or coefficient of determination, of the input.\n",
    "    \n",
    "    Arguments:\n",
    "    y -- the observed values\n",
    "    ypred -- the predicted values\n",
    "    \"\"\"\n",
    "    ybar = np.sum(y) / len(y) #yes, we could use np.mean(y)\n",
    "    sum_sq_tot = np.sum((y - ybar)**2) #total sum of squares error\n",
    "    sum_sq_res = np.sum((y - ypred)**2) #residual sum of squares error\n",
    "    R2 = 1.0 -  sum_sq_res / sum_sq_tot\n",
    "    return R2"
   ]
  },
  {
   "cell_type": "code",
   "execution_count": 31,
   "id": "6f0d89ea",
   "metadata": {},
   "outputs": [
    {
     "data": {
      "text/plain": [
       "array([26.79773157, 26.79773157, 26.79773157, 26.79773157, 26.79773157])"
      ]
     },
     "execution_count": 31,
     "metadata": {},
     "output_type": "execute_result"
    }
   ],
   "source": [
    "y_tr_pred_ = train_mean * np.ones(len(y_train))\n",
    "y_tr_pred_[:5]"
   ]
  },
  {
   "cell_type": "code",
   "execution_count": 32,
   "id": "9b740a93",
   "metadata": {},
   "outputs": [
    {
     "data": {
      "text/plain": [
       "array([26.79773157, 26.79773157, 26.79773157, 26.79773157, 26.79773157])"
      ]
     },
     "execution_count": 32,
     "metadata": {},
     "output_type": "execute_result"
    }
   ],
   "source": [
    "y_tr_pred = dumb_reg.predict(X_train)\n",
    "y_tr_pred[:5]"
   ]
  },
  {
   "cell_type": "code",
   "execution_count": 33,
   "id": "c4e8204b",
   "metadata": {},
   "outputs": [
    {
     "data": {
      "text/plain": [
       "0.0"
      ]
     },
     "execution_count": 33,
     "metadata": {},
     "output_type": "execute_result"
    }
   ],
   "source": [
    "r_squared(y_train, y_tr_pred)"
   ]
  },
  {
   "cell_type": "code",
   "execution_count": 34,
   "id": "46053cf5",
   "metadata": {},
   "outputs": [
    {
     "data": {
      "text/plain": [
       "-0.004446742408482418"
      ]
     },
     "execution_count": 34,
     "metadata": {},
     "output_type": "execute_result"
    }
   ],
   "source": [
    "y_te_pred = train_mean * np.ones(len(y_test))\n",
    "r_squared(y_test, y_te_pred)"
   ]
  },
  {
   "cell_type": "code",
   "execution_count": 35,
   "id": "cdc0af9b",
   "metadata": {},
   "outputs": [],
   "source": [
    "def mae(y, ypred):\n",
    "    \"\"\"Mean absolute error.\n",
    "    \n",
    "    Calculate the mean absolute error of the arguments\n",
    "\n",
    "    Arguments:\n",
    "    y -- the observed values\n",
    "    ypred -- the predicted values\n",
    "    \"\"\"\n",
    "    abs_error = np.abs(ypred - y)\n",
    "    mae = np.mean(abs_error)\n",
    "    return mae"
   ]
  },
  {
   "cell_type": "code",
   "execution_count": 36,
   "id": "ada38287",
   "metadata": {},
   "outputs": [
    {
     "data": {
      "text/plain": [
       "11.199995711850669"
      ]
     },
     "execution_count": 36,
     "metadata": {},
     "output_type": "execute_result"
    }
   ],
   "source": [
    "mae(y_train, y_tr_pred)"
   ]
  },
  {
   "cell_type": "code",
   "execution_count": 37,
   "id": "c6b5b4a8",
   "metadata": {},
   "outputs": [
    {
     "data": {
      "text/plain": [
       "11.277583005088148"
      ]
     },
     "execution_count": 37,
     "metadata": {},
     "output_type": "execute_result"
    }
   ],
   "source": [
    "mae(y_test, y_te_pred)"
   ]
  },
  {
   "cell_type": "code",
   "execution_count": 38,
   "id": "4aaff445",
   "metadata": {},
   "outputs": [],
   "source": [
    "def mse(y, ypred):\n",
    "    \"\"\"Mean square error.\n",
    "    \n",
    "    Calculate the mean square error of the arguments\n",
    "\n",
    "    Arguments:\n",
    "    y -- the observed values\n",
    "    ypred -- the predicted values\n",
    "    \"\"\"\n",
    "    sq_error = (ypred - y)**2\n",
    "    mse = np.mean(sq_error)\n",
    "    return mse"
   ]
  },
  {
   "cell_type": "code",
   "execution_count": 39,
   "id": "8dca5f8e",
   "metadata": {},
   "outputs": [
    {
     "data": {
      "text/plain": [
       "183.0876319052607"
      ]
     },
     "execution_count": 39,
     "metadata": {},
     "output_type": "execute_result"
    }
   ],
   "source": [
    "mse(y_train, y_tr_pred)"
   ]
  },
  {
   "cell_type": "code",
   "execution_count": 40,
   "id": "039061b9",
   "metadata": {},
   "outputs": [
    {
     "data": {
      "text/plain": [
       "198.72178324925756"
      ]
     },
     "execution_count": 40,
     "metadata": {},
     "output_type": "execute_result"
    }
   ],
   "source": [
    "mse(y_test, y_te_pred)"
   ]
  },
  {
   "cell_type": "code",
   "execution_count": 41,
   "id": "7c105aeb",
   "metadata": {},
   "outputs": [
    {
     "data": {
      "text/plain": [
       "array([13.53098784, 14.0968714 ])"
      ]
     },
     "execution_count": 41,
     "metadata": {},
     "output_type": "execute_result"
    }
   ],
   "source": [
    "np.sqrt([mse(y_train, y_tr_pred), mse(y_test, y_te_pred)])"
   ]
  },
  {
   "cell_type": "code",
   "execution_count": 42,
   "id": "b9765f4d",
   "metadata": {},
   "outputs": [
    {
     "data": {
      "text/plain": [
       "(0.0, -0.004446742408482418)"
      ]
     },
     "execution_count": 42,
     "metadata": {},
     "output_type": "execute_result"
    }
   ],
   "source": [
    "r2_score(y_train, y_tr_pred), r2_score(y_test, y_te_pred)"
   ]
  },
  {
   "cell_type": "code",
   "execution_count": 43,
   "id": "2d912563",
   "metadata": {},
   "outputs": [
    {
     "data": {
      "text/plain": [
       "(11.19999571185066, 11.277583005088148)"
      ]
     },
     "execution_count": 43,
     "metadata": {},
     "output_type": "execute_result"
    }
   ],
   "source": [
    "mean_absolute_error(y_train, y_tr_pred), mean_absolute_error(y_test, y_te_pred)"
   ]
  },
  {
   "cell_type": "code",
   "execution_count": 44,
   "id": "12eb75f0",
   "metadata": {},
   "outputs": [
    {
     "data": {
      "text/plain": [
       "(183.0876319052605, 198.72178324925767)"
      ]
     },
     "execution_count": 44,
     "metadata": {},
     "output_type": "execute_result"
    }
   ],
   "source": [
    "mean_squared_error(y_train, y_tr_pred), mean_squared_error(y_test, y_te_pred)"
   ]
  },
  {
   "cell_type": "code",
   "execution_count": 45,
   "id": "a79a935a",
   "metadata": {},
   "outputs": [
    {
     "data": {
      "text/plain": [
       "(0.0, 0.0)"
      ]
     },
     "execution_count": 45,
     "metadata": {},
     "output_type": "execute_result"
    }
   ],
   "source": [
    "r2_score(y_train, y_tr_pred), r2_score(y_tr_pred, y_train)"
   ]
  },
  {
   "cell_type": "code",
   "execution_count": 46,
   "id": "478f71e2",
   "metadata": {},
   "outputs": [
    {
     "data": {
      "text/plain": [
       "(-0.004446742408482418, -1.57443617383966e+31)"
      ]
     },
     "execution_count": 46,
     "metadata": {},
     "output_type": "execute_result"
    }
   ],
   "source": [
    "r2_score(y_test, y_te_pred), r2_score(y_te_pred, y_test)"
   ]
  },
  {
   "cell_type": "code",
   "execution_count": 47,
   "id": "2cb6ba05",
   "metadata": {},
   "outputs": [
    {
     "name": "stderr",
     "output_type": "stream",
     "text": [
      "<ipython-input-30-4661c1ed3f49>:13: RuntimeWarning: divide by zero encountered in double_scalars\n",
      "  R2 = 1.0 -  sum_sq_res / sum_sq_tot\n"
     ]
    },
    {
     "data": {
      "text/plain": [
       "(0.0, -inf)"
      ]
     },
     "execution_count": 47,
     "metadata": {},
     "output_type": "execute_result"
    }
   ],
   "source": [
    "r_squared(y_train, y_tr_pred), r_squared(y_tr_pred, y_train)"
   ]
  },
  {
   "cell_type": "code",
   "execution_count": 48,
   "id": "e5db5ec7",
   "metadata": {},
   "outputs": [
    {
     "data": {
      "text/plain": [
       "(-0.004446742408482418, -1.57443617383966e+31)"
      ]
     },
     "execution_count": 48,
     "metadata": {},
     "output_type": "execute_result"
    }
   ],
   "source": [
    "r_squared(y_test, y_te_pred), r_squared(y_te_pred, y_test)"
   ]
  },
  {
   "cell_type": "code",
   "execution_count": 49,
   "id": "5572631a",
   "metadata": {},
   "outputs": [
    {
     "data": {
      "text/plain": [
       "Previous Away HI Pass yrds                               192.000000\n",
       "Previous Away HI Rush yrds                                79.000000\n",
       "Previous Away HI REC yrds                                 73.000000\n",
       "Previous Away Season T Wins                                4.000000\n",
       "Previous Away Season Losses                                2.000000\n",
       "Previous Away Conf Losses                                  2.000000\n",
       "Previous Away Conf Wins                                    2.000000\n",
       "Previous Away 1st Downs                                   19.000000\n",
       "Previous Away 3rd Down Conversions                         5.000000\n",
       "Previous Away 3rd Down Conversions Attempts               14.000000\n",
       "Previous Away 3rd Down Conversions %                       0.363636\n",
       "Previous Away Completions                                 17.000000\n",
       "Previous Away Completion Attempts                         30.000000\n",
       "Previous Away Completion %                                 0.575000\n",
       "Previous Away Total Yards                                360.000000\n",
       "Previous Away Passing                                    210.000000\n",
       "Previous Away Yards per Pass                               6.600000\n",
       "Previous Away Rushing                                    146.000000\n",
       "Previous Away Rushing Attempts                            37.000000\n",
       "Previous Away Yards per Rush                               3.900000\n",
       "Previous Away Penalties                                    6.000000\n",
       "Previous Away Penalty Yards                               45.000000\n",
       "Previous Away Yards per Penalty                            8.000000\n",
       "Previous Away Turnovers                                    1.000000\n",
       "Previous Away Fumbles Lost                                 0.000000\n",
       "Previous Away Interceptions Thrown                         1.000000\n",
       "Previous Away Possession Time                             25.766667\n",
       "Previous Away Q1 Score                                     3.000000\n",
       "Previous Away Q2 Score                                     7.000000\n",
       "Previous Away Q3 Score                                     7.000000\n",
       "Previous Away Q4 Score                                     7.000000\n",
       "Previous Away Spread                                       3.000000\n",
       "Previous Away Ranking                                     99.000000\n",
       "Previous Away ATS Win                                      1.000000\n",
       "Previous Away ATS Loss                                     0.000000\n",
       "Previous Away Over Odds                                    0.000000\n",
       "Previous Away Under Odds                                   1.000000\n",
       "Previous Away Push Odds                                    0.000000\n",
       "Previous Away Total Odds                                  50.500000\n",
       "Previous Home HI Pass yrds                               200.000000\n",
       "Previous Home HI Rush yrds                                87.000000\n",
       "Previous Home HI REC yrds                                 76.000000\n",
       "Previous Home Season T Wins                                4.000000\n",
       "Previous Home Season Losses                                2.000000\n",
       "Previous Home Conf Losses                                  2.000000\n",
       "Previous Home Conf Wins                                    2.000000\n",
       "Previous Home 1st Downs                                   20.000000\n",
       "Previous Home 3rd Down Conversions                         5.000000\n",
       "Previous Home 3rd Down Conversions Attempts               14.000000\n",
       "Previous Home 3rd Down Conversions %                       0.384615\n",
       "Previous Home Completions                                 17.000000\n",
       "Previous Home Completion Attempts                         28.000000\n",
       "Previous Home Completion %                                 0.600000\n",
       "Previous Home Total Yards                                381.000000\n",
       "Previous Home Yards per Pass                               7.300000\n",
       "Previous Home Rushing                                    158.000000\n",
       "Previous Home Rushing Attempts                            37.000000\n",
       "Previous Home Yards per Rush                               4.100000\n",
       "Previous Home Penalties                                    5.000000\n",
       "Previous Home Penalty Yards                               42.000000\n",
       "Previous Home Yards per Penalty                            8.000000\n",
       "Previous Home Turnovers                                    1.000000\n",
       "Previous Home Fumbles Lost                                 0.000000\n",
       "Previous Home Interceptions Thrown                         1.000000\n",
       "Previous Home Possession Time                             25.983333\n",
       "Previous Home Q1 Score                                     7.000000\n",
       "Previous Home Q2 Score                                     7.000000\n",
       "Previous Home Q3 Score                                     7.000000\n",
       "Previous Home Q4 Score                                     7.000000\n",
       "Previous Home Total Odds                                  50.500000\n",
       "Previous Home Spread                                      -3.500000\n",
       "Previous Home Ranking                                     99.000000\n",
       "Previous Home ATS Win                                      1.000000\n",
       "Previous Home ATS Loss                                     0.000000\n",
       "Previous Home Over Odds                                    0.000000\n",
       "Previous Home Under Odds                                   1.000000\n",
       "Previous Home Push Odds                                    0.000000\n",
       "Previous H&A HI Pass yrds_Home_Team                      195.000000\n",
       "Previous H&A HI Rush yrds_Home_Team                       83.000000\n",
       "Previous H&A HI REC yrds_Home_Team                        74.000000\n",
       "Previous H&A Season T Wins_Home_Team                       4.000000\n",
       "Previous H&A Season Losses_Home_Team                       2.000000\n",
       "Previous H&A Conf Wins_Home_Team                           2.000000\n",
       "Previous H&A Conf Losses_Home_Team                         2.000000\n",
       "Previous H&A 1st Downs_Home_Team                          19.000000\n",
       "Previous H&A 3rd Down Conversions_Home_Team                5.000000\n",
       "Previous H&A 3rd Down Conversions Attempts_Home_Team      14.000000\n",
       "Previous H&A 3rd Down Conversions %_Home_Team              0.384615\n",
       "Previous H&A Completions_Home_Team                        17.000000\n",
       "Previous H&A Completion Attempts_Home_Team                29.000000\n",
       "Previous H&A Completion %_Home_Team                        0.578947\n",
       "Previous H&A Total Yards_Home_Team                       367.000000\n",
       "Previous H&A Passing_Home_Team                           215.000000\n",
       "Previous H&A Yards per Pass_Home_Team                      6.900000\n",
       "Previous H&A Rushing_Home_Team                           149.000000\n",
       "Previous H&A Rushing Attempts_Home_Team                   37.000000\n",
       "Previous H&A Yards per Rush_Home_Team                      3.900000\n",
       "Previous H&A Penalties_Home_Team                           5.000000\n",
       "Previous H&A Penalty Yards_Home_Team                      44.000000\n",
       "Previous H&A Yards per Penalty_Home_Team                   8.000000\n",
       "Previous H&A Turnovers_Home_Team                           1.000000\n",
       "Previous H&A Fumbles Lost_Home_Team                        0.000000\n",
       "Previous H&A Interceptions Thrown_Home_Team                1.000000\n",
       "Previous H&A Possession Time_Home_Team                    26.366667\n",
       "Previous H&A Q1 Score_Home_Team                            6.000000\n",
       "Previous H&A Q2 Score_Home_Team                            7.000000\n",
       "Previous H&A Q3 Score_Home_Team                            7.000000\n",
       "Previous H&A Q4 Score_Home_Team                            7.000000\n",
       "Previous H&A Total Odds_Home_Team                         51.000000\n",
       "Previous H&A Spread_Home_Team                              1.500000\n",
       "Previous H&A Ranking_Home_Team                            99.000000\n",
       "Previous H&A ATS Win_Home_Team                             1.000000\n",
       "Previous H&A ATS Loss_Home_Team                            0.000000\n",
       "Previous H&A Over Odds_Home_Team                           0.000000\n",
       "Previous H&A Under Odds_Home_Team                          1.000000\n",
       "Previous H&A HI Pass yrds_Away_Team                      200.000000\n",
       "Previous H&A HI Rush yrds_Away_Team                       84.000000\n",
       "Previous H&A HI REC yrds_Away_Team                        77.000000\n",
       "Previous H&A Season T Wins_Away_Team                       4.000000\n",
       "Previous H&A Season Losses_Away_Team                       2.000000\n",
       "Previous H&A Conf Wins_Away_Team                           2.000000\n",
       "Previous H&A Conf Losses_Away_Team                         2.000000\n",
       "Previous H&A 1st Downs_Away_Team                          20.000000\n",
       "Previous H&A 3rd Down Conversions_Away_Team                5.000000\n",
       "Previous H&A 3rd Down Conversions Attempts_Away_Team      14.000000\n",
       "Previous H&A 3rd Down Conversions %_Away_Team              0.375000\n",
       "Previous H&A Completions_Away_Team                        17.000000\n",
       "Previous H&A Completion Attempts_Away_Team                30.000000\n",
       "Previous H&A Completion %_Away_Team                        0.588235\n",
       "Previous H&A Total Yards_Away_Team                       379.000000\n",
       "Previous H&A Passing_Away_Team                           213.000000\n",
       "Previous H&A Yards per Pass_Away_Team                      6.900000\n",
       "Previous H&A Rushing_Away_Team                           151.000000\n",
       "Previous H&A Rushing Attempts_Away_Team                   37.000000\n",
       "Previous H&A Yards per Rush_Away_Team                      4.100000\n",
       "Previous H&A Penalties_Away_Team                           6.000000\n",
       "Previous H&A Penalty Yards_Away_Team                      44.000000\n",
       "Previous H&A Yards per Penalty_Away_Team                   8.100000\n",
       "Previous H&A Turnovers_Away_Team                           1.000000\n",
       "Previous H&A Fumbles Lost_Away_Team                        0.000000\n",
       "Previous H&A Interceptions Thrown_Away_Team                1.000000\n",
       "Previous H&A Possession Time_Away_Team                    25.666667\n",
       "Previous H&A Q1 Score_Away_Team                            6.000000\n",
       "Previous H&A Q2 Score_Away_Team                            7.000000\n",
       "Previous H&A Q3 Score_Away_Team                            7.000000\n",
       "Previous H&A Q4 Score_Away_Team                            7.000000\n",
       "Previous H&A Total Odds_Away_Team                         50.500000\n",
       "Previous H&A Spread_Away_Team                             -2.000000\n",
       "Previous H&A Ranking_Away_Team                            99.000000\n",
       "Previous H&A ATS Win_Away_Team                             0.000000\n",
       "Previous H&A ATS Loss_Away_Team                            0.000000\n",
       "Previous H&A Over Odds_Away_Team                           0.000000\n",
       "Previous H&A Under Odds_Away_Team                          1.000000\n",
       "Previous H&A Push Odds_Away_Team                           0.000000\n",
       "Rolling 5 Past H&A Score_Home_Team                       124.000000\n",
       "Rolling 5 Past H&A Score_Away_Team                       125.000000\n",
       "Rolling 3 Past H&A Score_Home_Team                        76.000000\n",
       "Rolling 3 Past H&A Score_Away_Team                        76.000000\n",
       "Rolling 5 Past Home Score                                131.000000\n",
       "Rolling 5 Past Away Score                                115.000000\n",
       "Rolling 3 Past Home Score                                 79.000000\n",
       "Rolling 3 Past Away Score                                 70.000000\n",
       "Past Away Score                                           23.000000\n",
       "Past Home Score                                           24.000000\n",
       "Past H&A Score_Home_Team                                  24.000000\n",
       "Past H&A Score_Away_Team                                  24.000000\n",
       "Rolling 5 Past H&A Conf T Losses_Away_Team                11.000000\n",
       "Rolling 5 Past H&A Conf T Losses_Home_Team                10.000000\n",
       "Rolling 5 Past H&A Conf T Wins_Away_Team                  11.000000\n",
       "Rolling 5 Past H&A Conf T Wins_Home_Team                  11.000000\n",
       "Rolling 3 Past H&A Conf T Losses_Away_Team                 6.000000\n",
       "Rolling 3 Past H&A Conf T Losses_Home_Team                 6.000000\n",
       "Rolling 3 Past H&A Conf T Wins_Away_Team                   6.000000\n",
       "Rolling 3 Past H&A Conf T Wins_Home_Team                   6.000000\n",
       "Rolling 5 Past H&A Possession Time_Home_Team             139.483333\n",
       "Rolling 5 Past H&A Possession Time_Away_Team             137.150000\n",
       "Rolling 3 Past H&A Possession Time_Home_Team              82.466667\n",
       "Rolling 3 Past H&A Possession Time_Away_Team              81.750000\n",
       "Rolling 5 Past Home Possession Time                      137.433333\n",
       "Rolling 5 Past Away Possession Time                      133.750000\n",
       "Rolling 3 Past Home Possession Time                       82.000000\n",
       "Rolling 3 Past Away Possession Time                       79.666667\n",
       "Rolling 5 Past H&A Total Yards_Home_Team                1844.000000\n",
       "Rolling 5 Past H&A Total Yards_Away_Team                1860.000000\n",
       "Rolling 3 Past H&A Total Yards_Home_Team                1101.000000\n",
       "Rolling 3 Past H&A Total Yards_Away_Team                1125.000000\n",
       "Rolling 5 Past Home Total Yards                         1892.000000\n",
       "Rolling 5 Past Away Total Yards                         1786.000000\n",
       "Rolling 3 Past Home Total Yards                         1122.000000\n",
       "Rolling 3 Past Away Total Yards                         1076.000000\n",
       "Rolling 5 Past H&A Penalties_Home_Team                    29.000000\n",
       "Rolling 5 Past H&A Penalties_Away_Team                    29.000000\n",
       "Rolling 3 Past H&A Penalties_Home_Team                    17.000000\n",
       "Rolling 3 Past H&A Penalties_Away_Team                    17.000000\n",
       "Rolling 5 Past Home Penalties                             27.000000\n",
       "Rolling 5 Past Away Penalties                             30.000000\n",
       "Rolling 3 Past Home Penalties                             16.000000\n",
       "Rolling 3 Past Away Penalties                             17.000000\n",
       "Rolling 5 Past H&A Turnovers_Home_Team                     8.000000\n",
       "Rolling 5 Past H&A Turnovers_Away_Team                     8.000000\n",
       "Rolling 3 Past H&A Turnovers_Home_Team                     4.000000\n",
       "Rolling 3 Past H&A Turnovers_Away_Team                     5.000000\n",
       "Rolling 5 Past Home Turnovers                              8.000000\n",
       "Rolling 5 Past Away Turnovers                              8.000000\n",
       "Rolling 3 Past Home Turnovers                              4.000000\n",
       "Rolling 3 Past Away Turnovers                              5.000000\n",
       "Rolling 5 Past H&A 3rd Down Conversions_Away_Team         27.000000\n",
       "Rolling 5 Past H&A 3rd Down Conversions_Home_Team         27.000000\n",
       "Rolling 3 Past H&A 3rd Down Conversion_Away_Team          16.000000\n",
       "Rolling 3 Past H&A 3rd Down Conversion_Home_Team          16.000000\n",
       "Rolling 5 Past Away 3rd Down Conversions                  26.000000\n",
       "Rolling 5 Past Home 3rd Down Conversions                  27.000000\n",
       "Rolling 3 Past Away 3rd Down Conversion                   16.000000\n",
       "Rolling 3 Past Home 3rd Down Conversion                   16.000000\n",
       "A_Ranking Bin_Group                                        6.000000\n",
       "H_Ranking Bin_Group                                        6.000000\n",
       "Away Score_x_x                                            23.000000\n",
       "A_Arkansas                                                 0.000000\n",
       "A_Auburn                                                   0.000000\n",
       "A_Florida                                                  0.000000\n",
       "A_Georgia                                                  0.000000\n",
       "A_Kentucky                                                 0.000000\n",
       "A_LSU                                                      0.000000\n",
       "A_Mississippi State                                        0.000000\n",
       "A_Missouri                                                 0.000000\n",
       "A_Ole Miss                                                 0.000000\n",
       "A_South Carolina                                           0.000000\n",
       "A_Tennessee                                                0.000000\n",
       "A_Texas A&M                                                0.000000\n",
       "A_Vanderbilt                                               0.000000\n",
       "Y_2006                                                     0.000000\n",
       "Y_2007                                                     0.000000\n",
       "Y_2008                                                     0.000000\n",
       "Y_2009                                                     0.000000\n",
       "Y_2010                                                     0.000000\n",
       "Y_2011                                                     0.000000\n",
       "Y_2012                                                     0.000000\n",
       "Y_2013                                                     0.000000\n",
       "Y_2014                                                     0.000000\n",
       "Y_2015                                                     0.000000\n",
       "Y_2016                                                     0.000000\n",
       "Y_2017                                                     0.000000\n",
       "Y_2018                                                     0.000000\n",
       "Y_2019                                                     0.000000\n",
       "Y_2020                                                     0.000000\n",
       "Y_2021                                                     0.000000\n",
       "H_Arkansas                                                 0.000000\n",
       "H_Auburn                                                   0.000000\n",
       "H_Florida                                                  0.000000\n",
       "H_Georgia                                                  0.000000\n",
       "H_Kentucky                                                 0.000000\n",
       "H_LSU                                                      0.000000\n",
       "H_Mississippi State                                        0.000000\n",
       "H_Missouri                                                 0.000000\n",
       "H_Ole Miss                                                 0.000000\n",
       "H_South Carolina                                           0.000000\n",
       "H_Tennessee                                                0.000000\n",
       "H_Texas A&M                                                0.000000\n",
       "H_Vanderbilt                                               0.000000\n",
       "dtype: float64"
      ]
     },
     "execution_count": 49,
     "metadata": {},
     "output_type": "execute_result"
    }
   ],
   "source": [
    "X_defaults_median = X_train.median()\n",
    "X_defaults_median"
   ]
  },
  {
   "cell_type": "code",
   "execution_count": 50,
   "id": "0c16fe24",
   "metadata": {},
   "outputs": [],
   "source": [
    "X_tr = X_train.fillna(X_defaults_median)\n",
    "X_te = X_test.fillna(X_defaults_median)"
   ]
  },
  {
   "cell_type": "code",
   "execution_count": 52,
   "id": "d59a9cc7",
   "metadata": {},
   "outputs": [],
   "source": [
    "scaler = StandardScaler()\n",
    "scaler.fit(X_tr)\n",
    "X_tr_scaled = scaler.transform(X_tr)\n",
    "X_te_scaled = scaler.transform(X_te)"
   ]
  },
  {
   "cell_type": "code",
   "execution_count": 53,
   "id": "a3d4e175",
   "metadata": {},
   "outputs": [],
   "source": [
    "lm = LinearRegression().fit(X_tr_scaled, y_train)"
   ]
  },
  {
   "cell_type": "code",
   "execution_count": 54,
   "id": "511006dc",
   "metadata": {},
   "outputs": [],
   "source": [
    "y_tr_pred = lm.predict(X_tr_scaled)\n",
    "y_te_pred = lm.predict(X_te_scaled)"
   ]
  },
  {
   "cell_type": "code",
   "execution_count": 55,
   "id": "fb017c4a",
   "metadata": {},
   "outputs": [
    {
     "data": {
      "text/plain": [
       "(0.6226044197716663, -6.170045657310916e+17)"
      ]
     },
     "execution_count": 55,
     "metadata": {},
     "output_type": "execute_result"
    }
   ],
   "source": [
    "median_r2 = r2_score(y_train, y_tr_pred), r2_score(y_test, y_te_pred)\n",
    "median_r2"
   ]
  },
  {
   "cell_type": "code",
   "execution_count": 56,
   "id": "1f80c664",
   "metadata": {},
   "outputs": [
    {
     "data": {
      "text/plain": [
       "(6.781493115839641, 733314966.8606471)"
      ]
     },
     "execution_count": 56,
     "metadata": {},
     "output_type": "execute_result"
    }
   ],
   "source": [
    "median_mae = mean_absolute_error(y_train, y_tr_pred), mean_absolute_error(y_test, y_te_pred)\n",
    "median_mae"
   ]
  },
  {
   "cell_type": "code",
   "execution_count": 57,
   "id": "922818db",
   "metadata": {},
   "outputs": [
    {
     "data": {
      "text/plain": [
       "(69.09646307551738, 1.2206943623612563e+20)"
      ]
     },
     "execution_count": 57,
     "metadata": {},
     "output_type": "execute_result"
    }
   ],
   "source": [
    "median_mse = mean_squared_error(y_train, y_tr_pred), mean_squared_error(y_test, y_te_pred)\n",
    "median_mse\n"
   ]
  },
  {
   "cell_type": "code",
   "execution_count": 58,
   "id": "99f42662",
   "metadata": {},
   "outputs": [
    {
     "data": {
      "text/plain": [
       "Previous Away HI Pass yrds                               199.608696\n",
       "Previous Away HI Rush yrds                                88.621928\n",
       "Previous Away HI REC yrds                                 81.489603\n",
       "Previous Away Season T Wins                                4.385633\n",
       "Previous Away Season Losses                                2.848771\n",
       "Previous Away Conf Losses                                  2.841210\n",
       "Previous Away Conf Wins                                    2.243856\n",
       "Previous Away 1st Downs                                   19.366730\n",
       "Previous Away 3rd Down Conversions                         5.315690\n",
       "Previous Away 3rd Down Conversions Attempts               14.189036\n",
       "Previous Away 3rd Down Conversions %                       0.372754\n",
       "Previous Away Completions                                 17.519849\n",
       "Previous Away Completion Attempts                         30.625709\n",
       "Previous Away Completion %                                 0.573212\n",
       "Previous Away Total Yards                                364.913043\n",
       "Previous Away Passing                                    217.100189\n",
       "Previous Away Yards per Pass                               7.024953\n",
       "Previous Away Rushing                                    156.319471\n",
       "Previous Away Rushing Attempts                            37.115312\n",
       "Previous Away Yards per Rush                               4.021172\n",
       "Previous Away Penalties                                    5.831758\n",
       "Previous Away Penalty Yards                               47.519849\n",
       "Previous Away Yards per Penalty                            7.799936\n",
       "Previous Away Turnovers                                    1.620038\n",
       "Previous Away Fumbles Lost                                 0.678639\n",
       "Previous Away Interceptions Thrown                         0.941399\n",
       "Previous Away Possession Time                             25.701103\n",
       "Previous Away Q1 Score                                     5.272212\n",
       "Previous Away Q2 Score                                     7.236295\n",
       "Previous Away Q3 Score                                     5.833648\n",
       "Previous Away Q4 Score                                     5.962193\n",
       "Previous Away Spread                                       2.776938\n",
       "Previous Away Ranking                                     58.548204\n",
       "Previous Away ATS Win                                      0.531191\n",
       "Previous Away ATS Loss                                     0.431002\n",
       "Previous Away Over Odds                                    0.474480\n",
       "Previous Away Under Odds                                   0.517958\n",
       "Previous Away Push Odds                                    0.007561\n",
       "Previous Away Total Odds                                  51.628544\n",
       "Previous Home HI Pass yrds                               204.790170\n",
       "Previous Home HI Rush yrds                                92.529301\n",
       "Previous Home HI REC yrds                                 83.421550\n",
       "Previous Home Season T Wins                                4.466919\n",
       "Previous Home Season Losses                                2.603025\n",
       "Previous Home Conf Losses                                  2.603025\n",
       "Previous Home Conf Wins                                    2.325142\n",
       "Previous Home 1st Downs                                   19.939509\n",
       "Previous Home 3rd Down Conversions                         5.463138\n",
       "Previous Home 3rd Down Conversions Attempts               13.863894\n",
       "Previous Home 3rd Down Conversions %                       0.386200\n",
       "Previous Home Completions                                 17.557656\n",
       "Previous Home Completion Attempts                         29.553875\n",
       "Previous Home Completion %                                 0.595893\n",
       "Previous Home Total Yards                                380.606805\n",
       "Previous Home Yards per Pass                               7.450662\n",
       "Previous Home Rushing                                    164.903592\n",
       "Previous Home Rushing Attempts                            35.545180\n",
       "Previous Home Yards per Rush                               4.162193\n",
       "Previous Home Penalties                                    5.300567\n",
       "Previous Home Penalty Yards                               43.708885\n",
       "Previous Home Yards per Penalty                            7.877916\n",
       "Previous Home Turnovers                                    1.514178\n",
       "Previous Home Fumbles Lost                                 0.676749\n",
       "Previous Home Interceptions Thrown                         0.837429\n",
       "Previous Home Possession Time                             25.717076\n",
       "Previous Home Q1 Score                                     5.913043\n",
       "Previous Home Q2 Score                                     7.831758\n",
       "Previous Home Q3 Score                                     6.223062\n",
       "Previous Home Q4 Score                                     6.247637\n",
       "Previous Home Total Odds                                  51.091682\n",
       "Previous Home Spread                                      -3.219282\n",
       "Previous Home Ranking                                     57.979206\n",
       "Previous Home ATS Win                                      0.500945\n",
       "Previous Home ATS Loss                                     0.468809\n",
       "Previous Home Over Odds                                    0.455577\n",
       "Previous Home Under Odds                                   0.529301\n",
       "Previous Home Push Odds                                    0.015123\n",
       "Previous H&A HI Pass yrds_Home_Team                      199.202268\n",
       "Previous H&A HI Rush yrds_Home_Team                       91.015123\n",
       "Previous H&A HI REC yrds_Home_Team                        80.546314\n",
       "Previous H&A Season T Wins_Home_Team                       4.412098\n",
       "Previous H&A Season Losses_Home_Team                       2.705104\n",
       "Previous H&A Conf Wins_Home_Team                           2.268431\n",
       "Previous H&A Conf Losses_Home_Team                         2.317580\n",
       "Previous H&A 1st Downs_Home_Team                          19.508507\n",
       "Previous H&A 3rd Down Conversions_Home_Team                5.512287\n",
       "Previous H&A 3rd Down Conversions Attempts_Home_Team      14.145558\n",
       "Previous H&A 3rd Down Conversions %_Home_Team              0.386533\n",
       "Previous H&A Completions_Home_Team                        17.527410\n",
       "Previous H&A Completion Attempts_Home_Team                30.306238\n",
       "Previous H&A Completion %_Home_Team                        0.577223\n",
       "Previous H&A Total Yards_Home_Team                       369.145558\n",
       "Previous H&A Passing_Home_Team                           217.230624\n",
       "Previous H&A Yards per Pass_Home_Team                      7.043478\n",
       "Previous H&A Rushing_Home_Team                           160.684310\n",
       "Previous H&A Rushing Attempts_Home_Team                   37.555766\n",
       "Previous H&A Yards per Rush_Home_Team                      4.080529\n",
       "Previous H&A Penalties_Home_Team                           5.741021\n",
       "Previous H&A Penalty Yards_Home_Team                      46.425331\n",
       "Previous H&A Yards per Penalty_Home_Team                   7.858360\n",
       "Previous H&A Turnovers_Home_Team                           1.563327\n",
       "Previous H&A Fumbles Lost_Home_Team                        0.676749\n",
       "Previous H&A Interceptions Thrown_Home_Team                0.886578\n",
       "Previous H&A Possession Time_Home_Team                    26.069691\n",
       "Previous H&A Q1 Score_Home_Team                            5.421550\n",
       "Previous H&A Q2 Score_Home_Team                            7.296786\n",
       "Previous H&A Q3 Score_Home_Team                            5.833648\n",
       "Previous H&A Q4 Score_Home_Team                            6.241966\n",
       "Previous H&A Total Odds_Home_Team                         51.245747\n",
       "Previous H&A Spread_Home_Team                              0.875236\n",
       "Previous H&A Ranking_Home_Team                            58.028355\n",
       "Previous H&A ATS Win_Home_Team                             0.538752\n",
       "Previous H&A ATS Loss_Home_Team                            0.440454\n",
       "Previous H&A Over Odds_Home_Team                           0.459357\n",
       "Previous H&A Under Odds_Home_Team                          0.519849\n",
       "Previous H&A HI Pass yrds_Away_Team                      205.510397\n",
       "Previous H&A HI Rush yrds_Away_Team                       90.735350\n",
       "Previous H&A HI REC yrds_Away_Team                        84.079395\n",
       "Previous H&A Season T Wins_Away_Team                       4.531191\n",
       "Previous H&A Season Losses_Away_Team                       2.776938\n",
       "Previous H&A Conf Wins_Away_Team                           2.362949\n",
       "Previous H&A Conf Losses_Away_Team                         2.359168\n",
       "Previous H&A 1st Downs_Away_Team                          19.899811\n",
       "Previous H&A 3rd Down Conversions_Away_Team                5.389414\n",
       "Previous H&A 3rd Down Conversions Attempts_Away_Team      14.037807\n",
       "Previous H&A 3rd Down Conversions %_Away_Team              0.376989\n",
       "Previous H&A Completions_Away_Team                        17.695652\n",
       "Previous H&A Completion Attempts_Away_Team                30.192817\n",
       "Previous H&A Completion %_Away_Team                        0.586671\n",
       "Previous H&A Total Yards_Away_Team                       376.606805\n",
       "Previous H&A Passing_Away_Team                           222.192817\n",
       "Previous H&A Yards per Pass_Away_Team                      7.302647\n",
       "Previous H&A Rushing_Away_Team                           160.551985\n",
       "Previous H&A Rushing Attempts_Away_Team                   37.655955\n",
       "Previous H&A Yards per Rush_Away_Team                      4.102079\n",
       "Previous H&A Penalties_Away_Team                           5.591682\n",
       "Previous H&A Penalty Yards_Away_Team                      46.597353\n",
       "Previous H&A Yards per Penalty_Away_Team                   7.989597\n",
       "Previous H&A Turnovers_Away_Team                           1.580340\n",
       "Previous H&A Fumbles Lost_Away_Team                        0.655955\n",
       "Previous H&A Interceptions Thrown_Away_Team                0.924386\n",
       "Previous H&A Possession Time_Away_Team                    25.577127\n",
       "Previous H&A Q1 Score_Away_Team                            5.780718\n",
       "Previous H&A Q2 Score_Away_Team                            7.512287\n",
       "Previous H&A Q3 Score_Away_Team                            5.810964\n",
       "Previous H&A Q4 Score_Away_Team                            6.164461\n",
       "Previous H&A Total Odds_Away_Team                         51.798677\n",
       "Previous H&A Spread_Away_Team                             -1.022684\n",
       "Previous H&A Ranking_Away_Team                            60.395085\n",
       "Previous H&A ATS Win_Away_Team                             0.497164\n",
       "Previous H&A ATS Loss_Away_Team                            0.465028\n",
       "Previous H&A Over Odds_Away_Team                           0.446125\n",
       "Previous H&A Under Odds_Away_Team                          0.548204\n",
       "Previous H&A Push Odds_Away_Team                           0.005671\n",
       "Rolling 5 Past H&A Score_Home_Team                       127.030246\n",
       "Rolling 5 Past H&A Score_Away_Team                       128.139887\n",
       "Rolling 3 Past H&A Score_Home_Team                        76.236295\n",
       "Rolling 3 Past H&A Score_Away_Team                        77.455577\n",
       "Rolling 5 Past Home Score                                132.890359\n",
       "Rolling 5 Past Away Score                                119.550095\n",
       "Rolling 3 Past Home Score                                 79.795841\n",
       "Rolling 3 Past Away Score                                 72.406427\n",
       "Past Away Score                                           24.652174\n",
       "Past Home Score                                           26.589792\n",
       "Past H&A Score_Home_Team                                  25.126654\n",
       "Past H&A Score_Away_Team                                  25.646503\n",
       "Rolling 5 Past H&A Conf T Losses_Away_Team                11.495274\n",
       "Rolling 5 Past H&A Conf T Losses_Home_Team                11.385633\n",
       "Rolling 5 Past H&A Conf T Wins_Away_Team                  11.387524\n",
       "Rolling 5 Past H&A Conf T Wins_Home_Team                  11.510397\n",
       "Rolling 3 Past H&A Conf T Losses_Away_Team                 7.009452\n",
       "Rolling 3 Past H&A Conf T Losses_Home_Team                 6.856333\n",
       "Rolling 3 Past H&A Conf T Wins_Away_Team                   6.928166\n",
       "Rolling 3 Past H&A Conf T Wins_Home_Team                   6.894140\n",
       "Rolling 5 Past H&A Possession Time_Home_Team             128.873787\n",
       "Rolling 5 Past H&A Possession Time_Away_Team             127.645463\n",
       "Rolling 3 Past H&A Possession Time_Home_Team              77.633176\n",
       "Rolling 3 Past H&A Possession Time_Away_Team              77.029710\n",
       "Rolling 5 Past Home Possession Time                      127.485350\n",
       "Rolling 5 Past Away Possession Time                      126.419219\n",
       "Rolling 3 Past Home Possession Time                       76.763453\n",
       "Rolling 3 Past Away Possession Time                       76.335665\n",
       "Rolling 5 Past H&A Total Yards_Home_Team                1842.143667\n",
       "Rolling 5 Past H&A Total Yards_Away_Team                1869.296786\n",
       "Rolling 3 Past H&A Total Yards_Home_Team                1109.136106\n",
       "Rolling 3 Past H&A Total Yards_Away_Team                1127.234405\n",
       "Rolling 5 Past Home Total Yards                         1886.207940\n",
       "Rolling 5 Past Away Total Yards                         1799.589792\n",
       "Rolling 3 Past Home Total Yards                         1130.945180\n",
       "Rolling 3 Past Away Total Yards                         1086.674858\n",
       "Rolling 5 Past H&A Penalties_Home_Team                    28.054820\n",
       "Rolling 5 Past H&A Penalties_Away_Team                    27.897921\n",
       "Rolling 3 Past H&A Penalties_Home_Team                    17.001890\n",
       "Rolling 3 Past H&A Penalties_Away_Team                    16.733459\n",
       "Rolling 5 Past Home Penalties                             26.330813\n",
       "Rolling 5 Past Away Penalties                             28.620038\n",
       "Rolling 3 Past Home Penalties                             16.009452\n",
       "Rolling 3 Past Away Penalties                             17.260870\n",
       "Rolling 5 Past H&A Turnovers_Home_Team                     7.816635\n",
       "Rolling 5 Past H&A Turnovers_Away_Team                     8.056711\n",
       "Rolling 3 Past H&A Turnovers_Home_Team                     4.714556\n",
       "Rolling 3 Past H&A Turnovers_Away_Team                     4.763705\n",
       "Rolling 5 Past Home Turnovers                              7.837429\n",
       "Rolling 5 Past Away Turnovers                              8.251418\n",
       "Rolling 3 Past Home Turnovers                              4.640832\n",
       "Rolling 3 Past Away Turnovers                              4.954631\n",
       "Rolling 5 Past H&A 3rd Down Conversions_Away_Team         27.221172\n",
       "Rolling 5 Past H&A 3rd Down Conversions_Home_Team         27.132325\n",
       "Rolling 3 Past H&A 3rd Down Conversion_Away_Team          16.431002\n",
       "Rolling 3 Past H&A 3rd Down Conversion_Home_Team          16.285444\n",
       "Rolling 5 Past Away 3rd Down Conversions                  26.421550\n",
       "Rolling 5 Past Home 3rd Down Conversions                  27.446125\n",
       "Rolling 3 Past Away 3rd Down Conversion                   15.837429\n",
       "Rolling 3 Past Home 3rd Down Conversion                   16.368620\n",
       "A_Ranking Bin_Group                                        4.493384\n",
       "H_Ranking Bin_Group                                        4.427221\n",
       "Away Score_x_x                                            24.241966\n",
       "A_Arkansas                                                 0.060491\n",
       "A_Auburn                                                   0.071834\n",
       "A_Florida                                                  0.075614\n",
       "A_Georgia                                                  0.069943\n",
       "A_Kentucky                                                 0.073724\n",
       "A_LSU                                                      0.079395\n",
       "A_Mississippi State                                        0.068053\n",
       "A_Missouri                                                 0.047259\n",
       "A_Ole Miss                                                 0.098299\n",
       "A_South Carolina                                           0.079395\n",
       "A_Tennessee                                                0.088847\n",
       "A_Texas A&M                                                0.039698\n",
       "A_Vanderbilt                                               0.068053\n",
       "Y_2006                                                     0.052930\n",
       "Y_2007                                                     0.058601\n",
       "Y_2008                                                     0.058601\n",
       "Y_2009                                                     0.056711\n",
       "Y_2010                                                     0.043478\n",
       "Y_2011                                                     0.068053\n",
       "Y_2012                                                     0.052930\n",
       "Y_2013                                                     0.071834\n",
       "Y_2014                                                     0.071834\n",
       "Y_2015                                                     0.064272\n",
       "Y_2016                                                     0.058601\n",
       "Y_2017                                                     0.068053\n",
       "Y_2018                                                     0.060491\n",
       "Y_2019                                                     0.068053\n",
       "Y_2020                                                     0.092628\n",
       "Y_2021                                                     0.020794\n",
       "H_Arkansas                                                 0.085066\n",
       "H_Auburn                                                   0.092628\n",
       "H_Florida                                                  0.081285\n",
       "H_Georgia                                                  0.062382\n",
       "H_Kentucky                                                 0.086957\n",
       "H_LSU                                                      0.090737\n",
       "H_Mississippi State                                        0.090737\n",
       "H_Missouri                                                 0.051040\n",
       "H_Ole Miss                                                 0.000000\n",
       "H_South Carolina                                           0.081285\n",
       "H_Tennessee                                                0.085066\n",
       "H_Texas A&M                                                0.037807\n",
       "H_Vanderbilt                                               0.077505\n",
       "dtype: float64"
      ]
     },
     "execution_count": 58,
     "metadata": {},
     "output_type": "execute_result"
    }
   ],
   "source": [
    "X_defaults_mean = X_train.mean()\n",
    "X_defaults_mean"
   ]
  },
  {
   "cell_type": "code",
   "execution_count": 59,
   "id": "53027b4f",
   "metadata": {},
   "outputs": [],
   "source": [
    "X_tr = X_train.fillna(X_defaults_mean)\n",
    "X_te = X_test.fillna(X_defaults_mean)"
   ]
  },
  {
   "cell_type": "code",
   "execution_count": 60,
   "id": "4e5b7586",
   "metadata": {},
   "outputs": [],
   "source": [
    "scaler = StandardScaler()\n",
    "scaler.fit(X_tr)\n",
    "X_tr_scaled = scaler.transform(X_tr)\n",
    "X_te_scaled = scaler.transform(X_te)\n"
   ]
  },
  {
   "cell_type": "code",
   "execution_count": 61,
   "id": "43b01559",
   "metadata": {},
   "outputs": [],
   "source": [
    "lm = LinearRegression().fit(X_tr_scaled, y_train)"
   ]
  },
  {
   "cell_type": "code",
   "execution_count": 62,
   "id": "6b3a4829",
   "metadata": {},
   "outputs": [],
   "source": [
    "y_tr_pred = lm.predict(X_tr_scaled)\n",
    "y_te_pred = lm.predict(X_te_scaled)"
   ]
  },
  {
   "cell_type": "code",
   "execution_count": 63,
   "id": "1fddb124",
   "metadata": {},
   "outputs": [
    {
     "data": {
      "text/plain": [
       "(0.6226044197716663, -6.170045657310916e+17)"
      ]
     },
     "execution_count": 63,
     "metadata": {},
     "output_type": "execute_result"
    }
   ],
   "source": [
    "r2_score(y_train, y_tr_pred), r2_score(y_test, y_te_pred)"
   ]
  },
  {
   "cell_type": "code",
   "execution_count": 64,
   "id": "904e9a74",
   "metadata": {},
   "outputs": [
    {
     "data": {
      "text/plain": [
       "(6.781493115839641, 733314966.8606471)"
      ]
     },
     "execution_count": 64,
     "metadata": {},
     "output_type": "execute_result"
    }
   ],
   "source": [
    "mean_absolute_error(y_train, y_tr_pred), mean_absolute_error(y_test, y_te_pred)"
   ]
  },
  {
   "cell_type": "code",
   "execution_count": 65,
   "id": "e66c0757",
   "metadata": {},
   "outputs": [
    {
     "data": {
      "text/plain": [
       "(69.09646307551738, 1.2206943623612563e+20)"
      ]
     },
     "execution_count": 65,
     "metadata": {},
     "output_type": "execute_result"
    }
   ],
   "source": [
    "mean_squared_error(y_train, y_tr_pred), mean_squared_error(y_test, y_te_pred)"
   ]
  },
  {
   "cell_type": "code",
   "execution_count": 66,
   "id": "4b9adf93",
   "metadata": {},
   "outputs": [],
   "source": [
    "pipe = make_pipeline(\n",
    "    SimpleImputer(strategy='median'), \n",
    "    StandardScaler(), \n",
    "    LinearRegression()\n",
    ")"
   ]
  },
  {
   "cell_type": "code",
   "execution_count": 67,
   "id": "94ce75b7",
   "metadata": {},
   "outputs": [
    {
     "data": {
      "text/plain": [
       "sklearn.pipeline.Pipeline"
      ]
     },
     "execution_count": 67,
     "metadata": {},
     "output_type": "execute_result"
    }
   ],
   "source": [
    "type(pipe)"
   ]
  },
  {
   "cell_type": "code",
   "execution_count": 68,
   "id": "1631a480",
   "metadata": {},
   "outputs": [
    {
     "data": {
      "text/plain": [
       "(True, True)"
      ]
     },
     "execution_count": 68,
     "metadata": {},
     "output_type": "execute_result"
    }
   ],
   "source": [
    "hasattr(pipe, 'fit'), hasattr(pipe, 'predict')"
   ]
  },
  {
   "cell_type": "code",
   "execution_count": 69,
   "id": "b037fb60",
   "metadata": {},
   "outputs": [
    {
     "data": {
      "text/plain": [
       "Pipeline(steps=[('simpleimputer', SimpleImputer(strategy='median')),\n",
       "                ('standardscaler', StandardScaler()),\n",
       "                ('linearregression', LinearRegression())])"
      ]
     },
     "execution_count": 69,
     "metadata": {},
     "output_type": "execute_result"
    }
   ],
   "source": [
    "pipe.fit(X_train, y_train)"
   ]
  },
  {
   "cell_type": "code",
   "execution_count": 70,
   "id": "66fd715c",
   "metadata": {},
   "outputs": [],
   "source": [
    "y_tr_pred = pipe.predict(X_train)\n",
    "y_te_pred = pipe.predict(X_test)\n"
   ]
  },
  {
   "cell_type": "code",
   "execution_count": 71,
   "id": "73e64b70",
   "metadata": {},
   "outputs": [
    {
     "data": {
      "text/plain": [
       "(0.6226044197716663, -6.170045657310916e+17)"
      ]
     },
     "execution_count": 71,
     "metadata": {},
     "output_type": "execute_result"
    }
   ],
   "source": [
    "r2_score(y_train, y_tr_pred), r2_score(y_test, y_te_pred)"
   ]
  },
  {
   "cell_type": "code",
   "execution_count": 72,
   "id": "11a45629",
   "metadata": {},
   "outputs": [
    {
     "data": {
      "text/plain": [
       "(0.6226044197716663, -6.170045657310916e+17)"
      ]
     },
     "execution_count": 72,
     "metadata": {},
     "output_type": "execute_result"
    }
   ],
   "source": [
    "median_r2"
   ]
  },
  {
   "cell_type": "code",
   "execution_count": 73,
   "id": "44c2d0d8",
   "metadata": {},
   "outputs": [
    {
     "data": {
      "text/plain": [
       "(6.781493115839641, 733314966.8606471)"
      ]
     },
     "execution_count": 73,
     "metadata": {},
     "output_type": "execute_result"
    }
   ],
   "source": [
    "mean_absolute_error(y_train, y_tr_pred), mean_absolute_error(y_test, y_te_pred)"
   ]
  },
  {
   "cell_type": "code",
   "execution_count": 74,
   "id": "b0d349f8",
   "metadata": {},
   "outputs": [
    {
     "data": {
      "text/plain": [
       "(6.781493115839641, 733314966.8606471)"
      ]
     },
     "execution_count": 74,
     "metadata": {},
     "output_type": "execute_result"
    }
   ],
   "source": [
    "median_mae"
   ]
  },
  {
   "cell_type": "code",
   "execution_count": 75,
   "id": "8a8fe2f5",
   "metadata": {},
   "outputs": [
    {
     "data": {
      "text/plain": [
       "(69.09646307551738, 1.2206943623612563e+20)"
      ]
     },
     "execution_count": 75,
     "metadata": {},
     "output_type": "execute_result"
    }
   ],
   "source": [
    "mean_squared_error(y_train, y_tr_pred), mean_squared_error(y_test, y_te_pred)"
   ]
  },
  {
   "cell_type": "code",
   "execution_count": 76,
   "id": "237dd591",
   "metadata": {},
   "outputs": [
    {
     "data": {
      "text/plain": [
       "(69.09646307551738, 1.2206943623612563e+20)"
      ]
     },
     "execution_count": 76,
     "metadata": {},
     "output_type": "execute_result"
    }
   ],
   "source": [
    "median_mse"
   ]
  },
  {
   "cell_type": "code",
   "execution_count": 77,
   "id": "640f1566",
   "metadata": {},
   "outputs": [],
   "source": [
    "pipe = make_pipeline(\n",
    "    SimpleImputer(strategy='median'), \n",
    "    StandardScaler(),\n",
    "    SelectKBest(f_regression),\n",
    "    LinearRegression()\n",
    ")"
   ]
  },
  {
   "cell_type": "code",
   "execution_count": 78,
   "id": "47b34854",
   "metadata": {},
   "outputs": [
    {
     "name": "stderr",
     "output_type": "stream",
     "text": [
      "/opt/anaconda3/lib/python3.8/site-packages/sklearn/feature_selection/_univariate_selection.py:301: RuntimeWarning: invalid value encountered in true_divide\n",
      "  corr /= X_norms\n"
     ]
    },
    {
     "data": {
      "text/plain": [
       "Pipeline(steps=[('simpleimputer', SimpleImputer(strategy='median')),\n",
       "                ('standardscaler', StandardScaler()),\n",
       "                ('selectkbest',\n",
       "                 SelectKBest(score_func=<function f_regression at 0x7ff4f6529790>)),\n",
       "                ('linearregression', LinearRegression())])"
      ]
     },
     "execution_count": 78,
     "metadata": {},
     "output_type": "execute_result"
    }
   ],
   "source": [
    "pipe.fit(X_train, y_train)"
   ]
  },
  {
   "cell_type": "code",
   "execution_count": 79,
   "id": "8bd44945",
   "metadata": {},
   "outputs": [],
   "source": [
    "y_tr_pred = pipe.predict(X_train)\n",
    "y_te_pred = pipe.predict(X_test)"
   ]
  },
  {
   "cell_type": "code",
   "execution_count": 80,
   "id": "092a2d83",
   "metadata": {},
   "outputs": [
    {
     "data": {
      "text/plain": [
       "(0.13813359533467184, 0.16902616923521252)"
      ]
     },
     "execution_count": 80,
     "metadata": {},
     "output_type": "execute_result"
    }
   ],
   "source": [
    "r2_score(y_train, y_tr_pred), r2_score(y_test, y_te_pred)"
   ]
  },
  {
   "cell_type": "code",
   "execution_count": 81,
   "id": "4ac8f91e",
   "metadata": {},
   "outputs": [
    {
     "data": {
      "text/plain": [
       "(10.261799268397363, 10.080314204608747)"
      ]
     },
     "execution_count": 81,
     "metadata": {},
     "output_type": "execute_result"
    }
   ],
   "source": [
    "mean_absolute_error(y_train, y_tr_pred), mean_absolute_error(y_test, y_te_pred)\n"
   ]
  },
  {
   "cell_type": "code",
   "execution_count": 82,
   "id": "d1cdedae",
   "metadata": {},
   "outputs": [],
   "source": [
    "pipe15 = make_pipeline(\n",
    "    SimpleImputer(strategy='median'), \n",
    "    StandardScaler(),\n",
    "    SelectKBest(f_regression, k=15),\n",
    "    LinearRegression()\n",
    ")"
   ]
  },
  {
   "cell_type": "code",
   "execution_count": 83,
   "id": "41dc3cb0",
   "metadata": {},
   "outputs": [
    {
     "name": "stderr",
     "output_type": "stream",
     "text": [
      "/opt/anaconda3/lib/python3.8/site-packages/sklearn/feature_selection/_univariate_selection.py:301: RuntimeWarning: invalid value encountered in true_divide\n",
      "  corr /= X_norms\n"
     ]
    },
    {
     "data": {
      "text/plain": [
       "Pipeline(steps=[('simpleimputer', SimpleImputer(strategy='median')),\n",
       "                ('standardscaler', StandardScaler()),\n",
       "                ('selectkbest',\n",
       "                 SelectKBest(k=15,\n",
       "                             score_func=<function f_regression at 0x7ff4f6529790>)),\n",
       "                ('linearregression', LinearRegression())])"
      ]
     },
     "execution_count": 83,
     "metadata": {},
     "output_type": "execute_result"
    }
   ],
   "source": [
    "pipe15.fit(X_train, y_train)"
   ]
  },
  {
   "cell_type": "code",
   "execution_count": 84,
   "id": "44fe222a",
   "metadata": {},
   "outputs": [],
   "source": [
    "y_tr_pred = pipe15.predict(X_train)\n",
    "y_te_pred = pipe15.predict(X_test)"
   ]
  },
  {
   "cell_type": "code",
   "execution_count": 85,
   "id": "480b9c33",
   "metadata": {},
   "outputs": [
    {
     "data": {
      "text/plain": [
       "(0.14816300309458197, 0.14074538653045487)"
      ]
     },
     "execution_count": 85,
     "metadata": {},
     "output_type": "execute_result"
    }
   ],
   "source": [
    "r2_score(y_train, y_tr_pred), r2_score(y_test, y_te_pred)"
   ]
  },
  {
   "cell_type": "code",
   "execution_count": 86,
   "id": "6fb469e0",
   "metadata": {},
   "outputs": [
    {
     "data": {
      "text/plain": [
       "(10.212025121591724, 10.271329106024393)"
      ]
     },
     "execution_count": 86,
     "metadata": {},
     "output_type": "execute_result"
    }
   ],
   "source": [
    "mean_absolute_error(y_train, y_tr_pred), mean_absolute_error(y_test, y_te_pred)"
   ]
  },
  {
   "cell_type": "code",
   "execution_count": 87,
   "id": "8fcf6e91",
   "metadata": {},
   "outputs": [
    {
     "name": "stderr",
     "output_type": "stream",
     "text": [
      "/opt/anaconda3/lib/python3.8/site-packages/sklearn/feature_selection/_univariate_selection.py:301: RuntimeWarning: invalid value encountered in true_divide\n",
      "  corr /= X_norms\n",
      "/opt/anaconda3/lib/python3.8/site-packages/sklearn/feature_selection/_univariate_selection.py:301: RuntimeWarning: invalid value encountered in true_divide\n",
      "  corr /= X_norms\n",
      "/opt/anaconda3/lib/python3.8/site-packages/sklearn/feature_selection/_univariate_selection.py:301: RuntimeWarning: invalid value encountered in true_divide\n",
      "  corr /= X_norms\n",
      "/opt/anaconda3/lib/python3.8/site-packages/sklearn/feature_selection/_univariate_selection.py:301: RuntimeWarning: invalid value encountered in true_divide\n",
      "  corr /= X_norms\n",
      "/opt/anaconda3/lib/python3.8/site-packages/sklearn/feature_selection/_univariate_selection.py:301: RuntimeWarning: invalid value encountered in true_divide\n",
      "  corr /= X_norms\n"
     ]
    }
   ],
   "source": [
    "cv_results = cross_validate(pipe15, X_train, y_train, cv=5)"
   ]
  },
  {
   "cell_type": "code",
   "execution_count": 88,
   "id": "17cddeea",
   "metadata": {},
   "outputs": [
    {
     "data": {
      "text/plain": [
       "array([0.1007741 , 0.08999191, 0.05178495, 0.08590905, 0.11026275])"
      ]
     },
     "execution_count": 88,
     "metadata": {},
     "output_type": "execute_result"
    }
   ],
   "source": [
    "cv_scores = cv_results['test_score']\n",
    "cv_scores"
   ]
  },
  {
   "cell_type": "code",
   "execution_count": 89,
   "id": "d7575dbf",
   "metadata": {},
   "outputs": [
    {
     "data": {
      "text/plain": [
       "(0.08774455247638882, 0.01989146154461178)"
      ]
     },
     "execution_count": 89,
     "metadata": {},
     "output_type": "execute_result"
    }
   ],
   "source": [
    "np.mean(cv_scores), np.std(cv_scores)"
   ]
  },
  {
   "cell_type": "code",
   "execution_count": 90,
   "id": "b641931d",
   "metadata": {},
   "outputs": [
    {
     "data": {
      "text/plain": [
       "array([0.05, 0.13])"
      ]
     },
     "execution_count": 90,
     "metadata": {},
     "output_type": "execute_result"
    }
   ],
   "source": [
    "np.round((np.mean(cv_scores) - 2 * np.std(cv_scores), np.mean(cv_scores) + 2 * np.std(cv_scores)), 2)"
   ]
  },
  {
   "cell_type": "code",
   "execution_count": 91,
   "id": "7152f40f",
   "metadata": {},
   "outputs": [
    {
     "data": {
      "text/plain": [
       "dict_keys(['memory', 'steps', 'verbose', 'simpleimputer', 'standardscaler', 'selectkbest', 'linearregression', 'simpleimputer__add_indicator', 'simpleimputer__copy', 'simpleimputer__fill_value', 'simpleimputer__missing_values', 'simpleimputer__strategy', 'simpleimputer__verbose', 'standardscaler__copy', 'standardscaler__with_mean', 'standardscaler__with_std', 'selectkbest__k', 'selectkbest__score_func', 'linearregression__copy_X', 'linearregression__fit_intercept', 'linearregression__n_jobs', 'linearregression__normalize', 'linearregression__positive'])"
      ]
     },
     "execution_count": 91,
     "metadata": {},
     "output_type": "execute_result"
    }
   ],
   "source": [
    "pipe.get_params().keys()"
   ]
  },
  {
   "cell_type": "code",
   "execution_count": 92,
   "id": "a3ba2d2d",
   "metadata": {},
   "outputs": [],
   "source": [
    "k = [k+1 for k in range(len(X_train.columns))]\n",
    "grid_params = {'selectkbest__k': k}"
   ]
  },
  {
   "cell_type": "code",
   "execution_count": 93,
   "id": "240d3b73",
   "metadata": {},
   "outputs": [],
   "source": [
    "lr_grid_cv = GridSearchCV(pipe, param_grid=grid_params, cv=5, n_jobs=-1)"
   ]
  },
  {
   "cell_type": "code",
   "execution_count": 94,
   "id": "edce19ff",
   "metadata": {},
   "outputs": [
    {
     "name": "stderr",
     "output_type": "stream",
     "text": [
      "/opt/anaconda3/lib/python3.8/site-packages/sklearn/feature_selection/_univariate_selection.py:301: RuntimeWarning: invalid value encountered in true_divide\n",
      "  corr /= X_norms\n"
     ]
    },
    {
     "data": {
      "text/plain": [
       "GridSearchCV(cv=5,\n",
       "             estimator=Pipeline(steps=[('simpleimputer',\n",
       "                                        SimpleImputer(strategy='median')),\n",
       "                                       ('standardscaler', StandardScaler()),\n",
       "                                       ('selectkbest',\n",
       "                                        SelectKBest(score_func=<function f_regression at 0x7ff4f6529790>)),\n",
       "                                       ('linearregression',\n",
       "                                        LinearRegression())]),\n",
       "             n_jobs=-1,\n",
       "             param_grid={'selectkbest__k': [1, 2, 3, 4, 5, 6, 7, 8, 9, 10, 11,\n",
       "                                            12, 13, 14, 15, 16, 17, 18, 19, 20,\n",
       "                                            21, 22, 23, 24, 25, 26, 27, 28, 29,\n",
       "                                            30, ...]})"
      ]
     },
     "execution_count": 94,
     "metadata": {},
     "output_type": "execute_result"
    }
   ],
   "source": [
    "lr_grid_cv.fit(X_train, y_train)"
   ]
  },
  {
   "cell_type": "code",
   "execution_count": 95,
   "id": "9b5da412",
   "metadata": {},
   "outputs": [],
   "source": [
    "score_mean = lr_grid_cv.cv_results_['mean_test_score']\n",
    "score_std = lr_grid_cv.cv_results_['std_test_score']\n",
    "cv_k = [k for k in lr_grid_cv.cv_results_['param_selectkbest__k']]"
   ]
  },
  {
   "cell_type": "code",
   "execution_count": 96,
   "id": "2915cb7b",
   "metadata": {},
   "outputs": [
    {
     "data": {
      "text/plain": [
       "{'selectkbest__k': 47}"
      ]
     },
     "execution_count": 96,
     "metadata": {},
     "output_type": "execute_result"
    }
   ],
   "source": [
    "lr_grid_cv.best_params_"
   ]
  },
  {
   "cell_type": "code",
   "execution_count": 97,
   "id": "677335d4",
   "metadata": {},
   "outputs": [
    {
     "data": {
      "image/png": "[encoded data removed]",
      "text/plain": [
       "<Figure size 720x360 with 1 Axes>"
      ]
     },
     "metadata": {
      "needs_background": "light"
     },
     "output_type": "display_data"
    }
   ],
   "source": [
    "best_k = lr_grid_cv.best_params_['selectkbest__k']\n",
    "plt.subplots(figsize=(10, 5))\n",
    "plt.errorbar(cv_k, score_mean, yerr=score_std)\n",
    "plt.axvline(x=best_k, c='r', ls='--', alpha=.5)\n",
    "plt.xlabel('k')\n",
    "plt.ylabel('CV score (r-squared)')\n",
    "plt.title('Pipeline mean CV score (error bars +/- 1sd)');"
   ]
  },
  {
   "cell_type": "code",
   "execution_count": 98,
   "id": "49668239",
   "metadata": {},
   "outputs": [],
   "source": [
    "selected = lr_grid_cv.best_estimator_.named_steps.selectkbest.get_support()"
   ]
  },
  {
   "cell_type": "code",
   "execution_count": 99,
   "id": "968abb7e",
   "metadata": {},
   "outputs": [
    {
     "data": {
      "text/plain": [
       "Previous Away Conf Losses                     12.294362\n",
       "Rolling 3 Past Home Score                      4.920059\n",
       "Rolling 5 Past H&A Total Yards_Home_Team       3.088617\n",
       "Rolling 3 Past H&A Conf T Losses_Away_Team     2.495567\n",
       "Rolling 3 Past H&A Conf T Wins_Home_Team       2.419015\n",
       "Rolling 5 Past Home Total Yards                2.136897\n",
       "Previous H&A Q1 Score_Home_Team                1.880848\n",
       "Previous H&A Spread_Away_Team                  1.702404\n",
       "Previous H&A Season T Wins_Home_Team           1.660833\n",
       "Previous H&A Conf Losses_Home_Team             1.457947\n",
       "Previous H&A Q3 Score_Home_Team                1.428359\n",
       "Previous Home 1st Downs                        1.321489\n",
       "Previous Home Total Yards                      1.222959\n",
       "A_Ranking Bin_Group                            1.041510\n",
       "Previous H&A 1st Downs_Home_Team               0.898184\n",
       "Previous Home HI Pass yrds                     0.835140\n",
       "Previous Home Ranking                          0.779276\n",
       "Previous H&A Completion %_Home_Team            0.756000\n",
       "Rolling 5 Past H&A Conf T Losses_Home_Team     0.620118\n",
       "Previous Home Completion %                     0.514244\n",
       "Rolling 3 Past H&A Conf T Wins_Away_Team       0.279882\n",
       "Previous H&A Yards per Pass_Home_Team          0.275877\n",
       "Previous Home Conf Losses                      0.131788\n",
       "Previous Home Season Losses                    0.131788\n",
       "Rolling 3 Past H&A Score_Home_Team             0.087662\n",
       "Past H&A Score_Home_Team                      -0.194215\n",
       "Previous Home Yards per Pass                  -0.250464\n",
       "Previous Home Spread                          -0.278605\n",
       "Rolling 3 Past H&A Total Yards_Home_Team      -0.320711\n",
       "Rolling 5 Past H&A Conf T Wins_Home_Team      -0.432059\n",
       "Previous Away Ranking                         -0.495906\n",
       "Previous H&A Spread_Home_Team                 -0.566337\n",
       "H_Ranking Bin_Group                           -0.659982\n",
       "Previous H&A Conf Wins_Away_Team              -0.794701\n",
       "Previous H&A Ranking_Home_Team                -1.321944\n",
       "Previous Home Conf Wins                       -1.607900\n",
       "Rolling 5 Past H&A Conf T Wins_Away_Team      -1.693957\n",
       "Previous H&A Season Losses_Home_Team          -1.698401\n",
       "Rolling 3 Past H&A Conf T Losses_Home_Team    -1.707692\n",
       "Rolling 5 Past H&A Score_Home_Team            -1.762745\n",
       "Previous H&A Total Yards_Home_Team            -1.928777\n",
       "Rolling 5 Past Home Score                     -2.018152\n",
       "Previous H&A Conf Wins_Home_Team              -2.024735\n",
       "Rolling 5 Past H&A Conf T Losses_Away_Team    -2.304269\n",
       "Past Home Score                               -2.654785\n",
       "Rolling 3 Past Home Total Yards               -3.925948\n",
       "Previous Away Season Losses                  -11.739664\n",
       "dtype: float64"
      ]
     },
     "execution_count": 99,
     "metadata": {},
     "output_type": "execute_result"
    }
   ],
   "source": [
    "coefs = lr_grid_cv.best_estimator_.named_steps.linearregression.coef_\n",
    "features = X_train.columns[selected]\n",
    "pd.Series(coefs, index=features).sort_values(ascending=False)"
   ]
  },
  {
   "cell_type": "code",
   "execution_count": 100,
   "id": "0e4798d9",
   "metadata": {},
   "outputs": [],
   "source": [
    "RF_pipe = make_pipeline(\n",
    "    SimpleImputer(strategy='median'),\n",
    "    StandardScaler(),\n",
    "    RandomForestRegressor(random_state=47)\n",
    ")"
   ]
  },
  {
   "cell_type": "code",
   "execution_count": 101,
   "id": "7c0ddefd",
   "metadata": {},
   "outputs": [],
   "source": [
    "rf_default_cv_results = cross_validate(RF_pipe, X_train,y_train, cv=5)"
   ]
  },
  {
   "cell_type": "code",
   "execution_count": 102,
   "id": "91071cbe",
   "metadata": {},
   "outputs": [
    {
     "data": {
      "text/plain": [
       "array([0.12092519, 0.20198448, 0.04669691, 0.18971248, 0.23075152])"
      ]
     },
     "execution_count": 102,
     "metadata": {},
     "output_type": "execute_result"
    }
   ],
   "source": [
    "rf_cv_scores = rf_default_cv_results['test_score']\n",
    "rf_cv_scores"
   ]
  },
  {
   "cell_type": "code",
   "execution_count": 103,
   "id": "e4967f1d",
   "metadata": {},
   "outputs": [
    {
     "data": {
      "text/plain": [
       "(0.15801411586394334, 0.06632649096454783)"
      ]
     },
     "execution_count": 103,
     "metadata": {},
     "output_type": "execute_result"
    }
   ],
   "source": [
    "np.mean(rf_cv_scores), np.std(rf_cv_scores)"
   ]
  },
  {
   "cell_type": "code",
   "execution_count": 104,
   "id": "9f4cb1df",
   "metadata": {},
   "outputs": [
    {
     "data": {
      "text/plain": [
       "{'randomforestregressor__n_estimators': [10,\n",
       "  12,\n",
       "  16,\n",
       "  20,\n",
       "  26,\n",
       "  33,\n",
       "  42,\n",
       "  54,\n",
       "  69,\n",
       "  88,\n",
       "  112,\n",
       "  143,\n",
       "  183,\n",
       "  233,\n",
       "  297,\n",
       "  379,\n",
       "  483,\n",
       "  615,\n",
       "  784,\n",
       "  1000],\n",
       " 'standardscaler': [StandardScaler(), None],\n",
       " 'simpleimputer__strategy': ['mean', 'median']}"
      ]
     },
     "execution_count": 104,
     "metadata": {},
     "output_type": "execute_result"
    }
   ],
   "source": [
    "n_est = [int(n) for n in np.logspace(start=1, stop=3, num=20)]\n",
    "grid_params = {\n",
    "        'randomforestregressor__n_estimators': n_est,\n",
    "        'standardscaler': [StandardScaler(), None],\n",
    "        'simpleimputer__strategy': ['mean', 'median']\n",
    "}\n",
    "grid_params"
   ]
  },
  {
   "cell_type": "code",
   "execution_count": 105,
   "id": "ca201869",
   "metadata": {},
   "outputs": [],
   "source": [
    "rf_grid_cv = GridSearchCV(RF_pipe, param_grid=grid_params, cv=5, n_jobs=-1)"
   ]
  },
  {
   "cell_type": "code",
   "execution_count": 106,
   "id": "f264447c",
   "metadata": {},
   "outputs": [
    {
     "data": {
      "text/plain": [
       "GridSearchCV(cv=5,\n",
       "             estimator=Pipeline(steps=[('simpleimputer',\n",
       "                                        SimpleImputer(strategy='median')),\n",
       "                                       ('standardscaler', StandardScaler()),\n",
       "                                       ('randomforestregressor',\n",
       "                                        RandomForestRegressor(random_state=47))]),\n",
       "             n_jobs=-1,\n",
       "             param_grid={'randomforestregressor__n_estimators': [10, 12, 16, 20,\n",
       "                                                                 26, 33, 42, 54,\n",
       "                                                                 69, 88, 112,\n",
       "                                                                 143, 183, 233,\n",
       "                                                                 297, 379, 483,\n",
       "                                                                 615, 784,\n",
       "                                                                 1000],\n",
       "                         'simpleimputer__strategy': ['mean', 'median'],\n",
       "                         'standardscaler': [StandardScaler(), None]})"
      ]
     },
     "execution_count": 106,
     "metadata": {},
     "output_type": "execute_result"
    }
   ],
   "source": [
    "rf_grid_cv.fit(X_train, y_train)"
   ]
  },
  {
   "cell_type": "code",
   "execution_count": 107,
   "id": "c832249b",
   "metadata": {},
   "outputs": [
    {
     "data": {
      "text/plain": [
       "{'randomforestregressor__n_estimators': 1000,\n",
       " 'simpleimputer__strategy': 'mean',\n",
       " 'standardscaler': None}"
      ]
     },
     "execution_count": 107,
     "metadata": {},
     "output_type": "execute_result"
    }
   ],
   "source": [
    "rf_grid_cv.best_params_"
   ]
  },
  {
   "cell_type": "code",
   "execution_count": 108,
   "id": "baf9412e",
   "metadata": {},
   "outputs": [
    {
     "data": {
      "text/plain": [
       "array([0.15836539, 0.22090344, 0.05884723, 0.17773914, 0.24412169])"
      ]
     },
     "execution_count": 108,
     "metadata": {},
     "output_type": "execute_result"
    }
   ],
   "source": [
    "rf_best_cv_results = cross_validate(rf_grid_cv.best_estimator_, X_train, y_train, cv=5)\n",
    "rf_best_scores = rf_best_cv_results['test_score']\n",
    "rf_best_scores"
   ]
  },
  {
   "cell_type": "code",
   "execution_count": 109,
   "id": "6bfa637b",
   "metadata": {},
   "outputs": [
    {
     "data": {
      "text/plain": [
       "(0.17199537918601257, 0.0642113294340732)"
      ]
     },
     "execution_count": 109,
     "metadata": {},
     "output_type": "execute_result"
    }
   ],
   "source": [
    "np.mean(rf_best_scores), np.std(rf_best_scores)"
   ]
  },
  {
   "cell_type": "code",
   "execution_count": 121,
   "id": "33f6f3e7",
   "metadata": {},
   "outputs": [
    {
     "data": {
      "image/png": "[encoded data removed]",
      "text/plain": [
       "<Figure size 2880x720 with 1 Axes>"
      ]
     },
     "metadata": {
      "needs_background": "light"
     },
     "output_type": "display_data"
    }
   ],
   "source": [
    "plt.subplots(figsize=(40, 10))\n",
    "imps = rf_grid_cv.best_estimator_.named_steps.randomforestregressor.feature_importances_\n",
    "rf_feat_imps = pd.Series(imps, index=X_train.columns).sort_values(ascending=False)\n",
    "rf_feat_imps.plot(kind='bar')\n",
    "plt.xlabel('features')\n",
    "plt.ylabel('importance')\n",
    "plt.title('Best random forest regressor feature importances');"
   ]
  },
  {
   "cell_type": "code",
   "execution_count": 111,
   "id": "48580f03",
   "metadata": {},
   "outputs": [],
   "source": [
    "lr_neg_mae = cross_validate(lr_grid_cv.best_estimator_, X_train, y_train, \n",
    "                            scoring='neg_mean_absolute_error', cv=5, n_jobs=-1)"
   ]
  },
  {
   "cell_type": "code",
   "execution_count": 112,
   "id": "90c4dc02",
   "metadata": {},
   "outputs": [
    {
     "data": {
      "text/plain": [
       "(10.363256997611806, 0.5641667427031003)"
      ]
     },
     "execution_count": 112,
     "metadata": {},
     "output_type": "execute_result"
    }
   ],
   "source": [
    "lr_mae_mean = np.mean(-1 * lr_neg_mae['test_score'])\n",
    "lr_mae_std = np.std(-1 * lr_neg_mae['test_score'])\n",
    "lr_mae_mean, lr_mae_std"
   ]
  },
  {
   "cell_type": "code",
   "execution_count": 113,
   "id": "830cff10",
   "metadata": {},
   "outputs": [
    {
     "data": {
      "text/plain": [
       "9.929648897826771"
      ]
     },
     "execution_count": 113,
     "metadata": {},
     "output_type": "execute_result"
    }
   ],
   "source": [
    "mean_absolute_error(y_test, lr_grid_cv.best_estimator_.predict(X_test))"
   ]
  },
  {
   "cell_type": "code",
   "execution_count": 114,
   "id": "46540a52",
   "metadata": {},
   "outputs": [],
   "source": [
    "rf_neg_mae = cross_validate(rf_grid_cv.best_estimator_, X_train, y_train, \n",
    "                            scoring='neg_mean_absolute_error', cv=5, n_jobs=-1)"
   ]
  },
  {
   "cell_type": "code",
   "execution_count": 115,
   "id": "4ed7dc91",
   "metadata": {},
   "outputs": [
    {
     "data": {
      "text/plain": [
       "(9.905071320754717, 0.5734217722502046)"
      ]
     },
     "execution_count": 115,
     "metadata": {},
     "output_type": "execute_result"
    }
   ],
   "source": [
    "rf_mae_mean = np.mean(-1 * rf_neg_mae['test_score'])\n",
    "rf_mae_std = np.std(-1 * rf_neg_mae['test_score'])\n",
    "rf_mae_mean, rf_mae_std"
   ]
  },
  {
   "cell_type": "code",
   "execution_count": 116,
   "id": "bfddf374",
   "metadata": {},
   "outputs": [
    {
     "data": {
      "text/plain": [
       "9.649277533039648"
      ]
     },
     "execution_count": 116,
     "metadata": {},
     "output_type": "execute_result"
    }
   ],
   "source": [
    "mean_absolute_error(y_test, rf_grid_cv.best_estimator_.predict(X_test))"
   ]
  },
  {
   "cell_type": "code",
   "execution_count": 117,
   "id": "4d7ea596",
   "metadata": {},
   "outputs": [
    {
     "name": "stderr",
     "output_type": "stream",
     "text": [
      "/opt/anaconda3/lib/python3.8/site-packages/sklearn/feature_selection/_univariate_selection.py:301: RuntimeWarning: invalid value encountered in true_divide\n",
      "  corr /= X_norms\n",
      "/opt/anaconda3/lib/python3.8/site-packages/sklearn/feature_selection/_univariate_selection.py:301: RuntimeWarning: invalid value encountered in true_divide\n",
      "  corr /= X_norms\n",
      "/opt/anaconda3/lib/python3.8/site-packages/sklearn/feature_selection/_univariate_selection.py:301: RuntimeWarning: invalid value encountered in true_divide\n",
      "  corr /= X_norms\n",
      "/opt/anaconda3/lib/python3.8/site-packages/sklearn/feature_selection/_univariate_selection.py:301: RuntimeWarning: invalid value encountered in true_divide\n",
      "  corr /= X_norms\n",
      "/opt/anaconda3/lib/python3.8/site-packages/sklearn/feature_selection/_univariate_selection.py:301: RuntimeWarning: invalid value encountered in true_divide\n",
      "  corr /= X_norms\n",
      "/opt/anaconda3/lib/python3.8/site-packages/sklearn/feature_selection/_univariate_selection.py:301: RuntimeWarning: invalid value encountered in true_divide\n",
      "  corr /= X_norms\n",
      "/opt/anaconda3/lib/python3.8/site-packages/sklearn/feature_selection/_univariate_selection.py:301: RuntimeWarning: invalid value encountered in true_divide\n",
      "  corr /= X_norms\n",
      "/opt/anaconda3/lib/python3.8/site-packages/sklearn/feature_selection/_univariate_selection.py:301: RuntimeWarning: invalid value encountered in true_divide\n",
      "  corr /= X_norms\n",
      "/opt/anaconda3/lib/python3.8/site-packages/sklearn/feature_selection/_univariate_selection.py:301: RuntimeWarning: invalid value encountered in true_divide\n",
      "  corr /= X_norms\n",
      "/opt/anaconda3/lib/python3.8/site-packages/sklearn/feature_selection/_univariate_selection.py:301: RuntimeWarning: invalid value encountered in true_divide\n",
      "  corr /= X_norms\n",
      "/opt/anaconda3/lib/python3.8/site-packages/sklearn/feature_selection/_univariate_selection.py:301: RuntimeWarning: invalid value encountered in true_divide\n",
      "  corr /= X_norms\n",
      "/opt/anaconda3/lib/python3.8/site-packages/sklearn/feature_selection/_univariate_selection.py:301: RuntimeWarning: invalid value encountered in true_divide\n",
      "  corr /= X_norms\n",
      "/opt/anaconda3/lib/python3.8/site-packages/sklearn/feature_selection/_univariate_selection.py:301: RuntimeWarning: invalid value encountered in true_divide\n",
      "  corr /= X_norms\n",
      "/opt/anaconda3/lib/python3.8/site-packages/sklearn/feature_selection/_univariate_selection.py:301: RuntimeWarning: invalid value encountered in true_divide\n",
      "  corr /= X_norms\n",
      "/opt/anaconda3/lib/python3.8/site-packages/sklearn/feature_selection/_univariate_selection.py:301: RuntimeWarning: invalid value encountered in true_divide\n",
      "  corr /= X_norms\n",
      "/opt/anaconda3/lib/python3.8/site-packages/sklearn/feature_selection/_univariate_selection.py:301: RuntimeWarning: invalid value encountered in true_divide\n",
      "  corr /= X_norms\n",
      "/opt/anaconda3/lib/python3.8/site-packages/sklearn/feature_selection/_univariate_selection.py:301: RuntimeWarning: invalid value encountered in true_divide\n",
      "  corr /= X_norms\n",
      "/opt/anaconda3/lib/python3.8/site-packages/sklearn/feature_selection/_univariate_selection.py:301: RuntimeWarning: invalid value encountered in true_divide\n",
      "  corr /= X_norms\n",
      "/opt/anaconda3/lib/python3.8/site-packages/sklearn/feature_selection/_univariate_selection.py:301: RuntimeWarning: invalid value encountered in true_divide\n",
      "  corr /= X_norms\n",
      "/opt/anaconda3/lib/python3.8/site-packages/sklearn/feature_selection/_univariate_selection.py:301: RuntimeWarning: invalid value encountered in true_divide\n",
      "  corr /= X_norms\n",
      "/opt/anaconda3/lib/python3.8/site-packages/sklearn/feature_selection/_univariate_selection.py:301: RuntimeWarning: invalid value encountered in true_divide\n",
      "  corr /= X_norms\n",
      "/opt/anaconda3/lib/python3.8/site-packages/sklearn/feature_selection/_univariate_selection.py:301: RuntimeWarning: invalid value encountered in true_divide\n",
      "  corr /= X_norms\n",
      "/opt/anaconda3/lib/python3.8/site-packages/sklearn/feature_selection/_univariate_selection.py:301: RuntimeWarning: invalid value encountered in true_divide\n",
      "  corr /= X_norms\n",
      "/opt/anaconda3/lib/python3.8/site-packages/sklearn/feature_selection/_univariate_selection.py:301: RuntimeWarning: invalid value encountered in true_divide\n",
      "  corr /= X_norms\n",
      "/opt/anaconda3/lib/python3.8/site-packages/sklearn/feature_selection/_univariate_selection.py:301: RuntimeWarning: invalid value encountered in true_divide\n",
      "  corr /= X_norms\n",
      "/opt/anaconda3/lib/python3.8/site-packages/sklearn/feature_selection/_univariate_selection.py:301: RuntimeWarning: invalid value encountered in true_divide\n",
      "  corr /= X_norms\n",
      "/opt/anaconda3/lib/python3.8/site-packages/sklearn/feature_selection/_univariate_selection.py:301: RuntimeWarning: invalid value encountered in true_divide\n",
      "  corr /= X_norms\n",
      "/opt/anaconda3/lib/python3.8/site-packages/sklearn/feature_selection/_univariate_selection.py:301: RuntimeWarning: invalid value encountered in true_divide\n",
      "  corr /= X_norms\n",
      "/opt/anaconda3/lib/python3.8/site-packages/sklearn/feature_selection/_univariate_selection.py:301: RuntimeWarning: invalid value encountered in true_divide\n",
      "  corr /= X_norms\n",
      "/opt/anaconda3/lib/python3.8/site-packages/sklearn/feature_selection/_univariate_selection.py:301: RuntimeWarning: invalid value encountered in true_divide\n",
      "  corr /= X_norms\n",
      "/opt/anaconda3/lib/python3.8/site-packages/sklearn/feature_selection/_univariate_selection.py:301: RuntimeWarning: invalid value encountered in true_divide\n",
      "  corr /= X_norms\n",
      "/opt/anaconda3/lib/python3.8/site-packages/sklearn/feature_selection/_univariate_selection.py:301: RuntimeWarning: invalid value encountered in true_divide\n",
      "  corr /= X_norms\n",
      "/opt/anaconda3/lib/python3.8/site-packages/sklearn/feature_selection/_univariate_selection.py:301: RuntimeWarning: invalid value encountered in true_divide\n",
      "  corr /= X_norms\n",
      "/opt/anaconda3/lib/python3.8/site-packages/sklearn/feature_selection/_univariate_selection.py:301: RuntimeWarning: invalid value encountered in true_divide\n",
      "  corr /= X_norms\n",
      "/opt/anaconda3/lib/python3.8/site-packages/sklearn/feature_selection/_univariate_selection.py:301: RuntimeWarning: invalid value encountered in true_divide\n",
      "  corr /= X_norms\n",
      "/opt/anaconda3/lib/python3.8/site-packages/sklearn/feature_selection/_univariate_selection.py:301: RuntimeWarning: invalid value encountered in true_divide\n",
      "  corr /= X_norms\n",
      "/opt/anaconda3/lib/python3.8/site-packages/sklearn/feature_selection/_univariate_selection.py:301: RuntimeWarning: invalid value encountered in true_divide\n",
      "  corr /= X_norms\n",
      "/opt/anaconda3/lib/python3.8/site-packages/sklearn/feature_selection/_univariate_selection.py:301: RuntimeWarning: invalid value encountered in true_divide\n",
      "  corr /= X_norms\n",
      "/opt/anaconda3/lib/python3.8/site-packages/sklearn/feature_selection/_univariate_selection.py:301: RuntimeWarning: invalid value encountered in true_divide\n",
      "  corr /= X_norms\n",
      "/opt/anaconda3/lib/python3.8/site-packages/sklearn/feature_selection/_univariate_selection.py:301: RuntimeWarning: invalid value encountered in true_divide\n",
      "  corr /= X_norms\n",
      "/opt/anaconda3/lib/python3.8/site-packages/sklearn/feature_selection/_univariate_selection.py:301: RuntimeWarning: invalid value encountered in true_divide\n",
      "  corr /= X_norms\n",
      "/opt/anaconda3/lib/python3.8/site-packages/sklearn/feature_selection/_univariate_selection.py:301: RuntimeWarning: invalid value encountered in true_divide\n",
      "  corr /= X_norms\n",
      "/opt/anaconda3/lib/python3.8/site-packages/sklearn/feature_selection/_univariate_selection.py:301: RuntimeWarning: invalid value encountered in true_divide\n",
      "  corr /= X_norms\n",
      "/opt/anaconda3/lib/python3.8/site-packages/sklearn/feature_selection/_univariate_selection.py:301: RuntimeWarning: invalid value encountered in true_divide\n",
      "  corr /= X_norms\n",
      "/opt/anaconda3/lib/python3.8/site-packages/sklearn/feature_selection/_univariate_selection.py:301: RuntimeWarning: invalid value encountered in true_divide\n",
      "  corr /= X_norms\n",
      "/opt/anaconda3/lib/python3.8/site-packages/sklearn/feature_selection/_univariate_selection.py:301: RuntimeWarning: invalid value encountered in true_divide\n",
      "  corr /= X_norms\n",
      "/opt/anaconda3/lib/python3.8/site-packages/sklearn/feature_selection/_univariate_selection.py:301: RuntimeWarning: invalid value encountered in true_divide\n",
      "  corr /= X_norms\n",
      "/opt/anaconda3/lib/python3.8/site-packages/sklearn/feature_selection/_univariate_selection.py:301: RuntimeWarning: invalid value encountered in true_divide\n",
      "  corr /= X_norms\n",
      "/opt/anaconda3/lib/python3.8/site-packages/sklearn/feature_selection/_univariate_selection.py:301: RuntimeWarning: invalid value encountered in true_divide\n",
      "  corr /= X_norms\n"
     ]
    },
    {
     "name": "stderr",
     "output_type": "stream",
     "text": [
      "/opt/anaconda3/lib/python3.8/site-packages/sklearn/feature_selection/_univariate_selection.py:301: RuntimeWarning: invalid value encountered in true_divide\n",
      "  corr /= X_norms\n",
      "/opt/anaconda3/lib/python3.8/site-packages/sklearn/feature_selection/_univariate_selection.py:301: RuntimeWarning: invalid value encountered in true_divide\n",
      "  corr /= X_norms\n",
      "/opt/anaconda3/lib/python3.8/site-packages/sklearn/feature_selection/_univariate_selection.py:301: RuntimeWarning: invalid value encountered in true_divide\n",
      "  corr /= X_norms\n",
      "/opt/anaconda3/lib/python3.8/site-packages/sklearn/feature_selection/_univariate_selection.py:301: RuntimeWarning: invalid value encountered in true_divide\n",
      "  corr /= X_norms\n",
      "/opt/anaconda3/lib/python3.8/site-packages/sklearn/feature_selection/_univariate_selection.py:301: RuntimeWarning: invalid value encountered in true_divide\n",
      "  corr /= X_norms\n",
      "/opt/anaconda3/lib/python3.8/site-packages/sklearn/feature_selection/_univariate_selection.py:301: RuntimeWarning: invalid value encountered in true_divide\n",
      "  corr /= X_norms\n"
     ]
    }
   ],
   "source": [
    "fractions = [.2, .25, .3, .35, .4, .45, .5, .6, .75, .8, 1.0]\n",
    "train_size, train_scores, test_scores = learning_curve(pipe, X_train, y_train, train_sizes=fractions)\n",
    "train_scores_mean = np.mean(train_scores, axis=1)\n",
    "train_scores_std = np.std(train_scores, axis=1)\n",
    "test_scores_mean = np.mean(test_scores, axis=1)\n",
    "test_scores_std = np.std(test_scores, axis=1)"
   ]
  },
  {
   "cell_type": "code",
   "execution_count": 118,
   "id": "6ebddd1d",
   "metadata": {},
   "outputs": [
    {
     "data": {
      "image/png": "[encoded data removed]",
      "text/plain": [
       "<Figure size 720x360 with 1 Axes>"
      ]
     },
     "metadata": {
      "needs_background": "light"
     },
     "output_type": "display_data"
    }
   ],
   "source": [
    "plt.subplots(figsize=(10, 5))\n",
    "plt.errorbar(train_size, test_scores_mean, yerr=test_scores_std)\n",
    "plt.xlabel('Training set size')\n",
    "plt.ylabel('CV scores')\n",
    "plt.title('Cross-validation score as training set size increases');"
   ]
  },
  {
   "cell_type": "code",
   "execution_count": null,
   "id": "8163b117",
   "metadata": {},
   "outputs": [],
   "source": []
  }
 ],
 "metadata": {
  "kernelspec": {
   "display_name": "Python 3",
   "language": "python",
   "name": "python3"
  },
  "language_info": {
   "codemirror_mode": {
    "name": "ipython",
    "version": 3
   },
   "file_extension": ".py",
   "mimetype": "text/x-python",
   "name": "python",
   "nbconvert_exporter": "python",
   "pygments_lexer": "ipython3",
   "version": "3.8.8"
  }
 },
 "nbformat": 4,
 "nbformat_minor": 5
}
