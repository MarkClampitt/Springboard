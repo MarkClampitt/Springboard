{
 "cells": [
  {
   "cell_type": "code",
   "execution_count": 2,
   "id": "031df3d4",
   "metadata": {},
   "outputs": [],
   "source": [
    "import pandas as pd\n",
    "import numpy as np\n",
    "import os\n",
    "import pickle\n",
    "import matplotlib.pyplot as plt\n",
    "import seaborn as sns\n",
    "from sklearn import __version__ as sklearn_version\n",
    "from sklearn.decomposition import PCA\n",
    "from sklearn.preprocessing import scale\n",
    "from sklearn.model_selection import train_test_split, cross_validate, GridSearchCV, learning_curve\n",
    "from sklearn.preprocessing import StandardScaler, MinMaxScaler\n",
    "from sklearn.dummy import DummyRegressor\n",
    "from sklearn.linear_model import LinearRegression\n",
    "from sklearn.ensemble import RandomForestRegressor\n",
    "from sklearn.metrics import r2_score, mean_squared_error, mean_absolute_error\n",
    "from sklearn.pipeline import make_pipeline\n",
    "from sklearn.impute import SimpleImputer\n",
    "from sklearn.feature_selection import SelectKBest, f_regression\n",
    "import datetime"
   ]
  },
  {
   "cell_type": "code",
   "execution_count": 3,
   "id": "97ef0611",
   "metadata": {},
   "outputs": [],
   "source": [
    "df=pd.read_excel(r'/Users/markclampitt/Documents/Springboard/Capstone2/Data\\new_df.xlsx')"
   ]
  },
  {
   "cell_type": "code",
   "execution_count": 4,
   "id": "f2e33f22",
   "metadata": {},
   "outputs": [
    {
     "data": {
      "text/html": [
       "<div>\n",
       "<style scoped>\n",
       "    .dataframe tbody tr th:only-of-type {\n",
       "        vertical-align: middle;\n",
       "    }\n",
       "\n",
       "    .dataframe tbody tr th {\n",
       "        vertical-align: top;\n",
       "    }\n",
       "\n",
       "    .dataframe thead th {\n",
       "        text-align: right;\n",
       "    }\n",
       "</style>\n",
       "<table border=\"1\" class=\"dataframe\">\n",
       "  <thead>\n",
       "    <tr style=\"text-align: right;\">\n",
       "      <th></th>\n",
       "      <th>Home Team Spread_x</th>\n",
       "      <th>Away Team Spread_x</th>\n",
       "      <th>Total_x</th>\n",
       "      <th>Home Score_x_x</th>\n",
       "      <th>Rolling 5 Past H&amp;A Score_Home_Team</th>\n",
       "      <th>Rolling 5 Past H&amp;A Score Avg_Home_Team</th>\n",
       "      <th>Rolling 5 Past H&amp;A 1st Downs_Home_Team</th>\n",
       "      <th>Rolling 5 Past H&amp;A 1st Downs Avg_Home_Team</th>\n",
       "      <th>Rolling 5 Past H&amp;A Total Yards_Home_Team</th>\n",
       "      <th>Rolling 5 Past H&amp;A Total Yards Avg_Home_Team</th>\n",
       "      <th>...</th>\n",
       "      <th>Rolling 3 Past H&amp;A Score Avg_Away_Team</th>\n",
       "      <th>Rolling 5 Past H&amp;A 1st Downs_Away_Team</th>\n",
       "      <th>Rolling 5 Past H&amp;A 1st Downs Avg_Away_Team</th>\n",
       "      <th>Rolling 5 Past H&amp;A Total Yards_Away_Team</th>\n",
       "      <th>Rolling 5 Past H&amp;A Total Yards Avg_Away_Team</th>\n",
       "      <th>Rolling 5 Past H&amp;A Yards per Pass_Away_Team</th>\n",
       "      <th>Rolling 5 Past H&amp;A Yards per Pass Avg_Away_Team</th>\n",
       "      <th>Rolling 5 Past H&amp;A Spread_Away_Team</th>\n",
       "      <th>Rolling 5 Past H&amp;A Spread Avg_Away_Team</th>\n",
       "      <th>Previous H&amp;A Ranking_Away_Team</th>\n",
       "    </tr>\n",
       "  </thead>\n",
       "  <tbody>\n",
       "    <tr>\n",
       "      <th>0</th>\n",
       "      <td>-2.5</td>\n",
       "      <td>2.5</td>\n",
       "      <td>52.0</td>\n",
       "      <td>NaN</td>\n",
       "      <td>172.0</td>\n",
       "      <td>34.4</td>\n",
       "      <td>119.0</td>\n",
       "      <td>23.8</td>\n",
       "      <td>2211.0</td>\n",
       "      <td>442.2</td>\n",
       "      <td>...</td>\n",
       "      <td>35.666667</td>\n",
       "      <td>121.0</td>\n",
       "      <td>24.2</td>\n",
       "      <td>2477.0</td>\n",
       "      <td>495.4</td>\n",
       "      <td>46.5</td>\n",
       "      <td>9.30</td>\n",
       "      <td>-87.5</td>\n",
       "      <td>-17.5</td>\n",
       "      <td>3.0</td>\n",
       "    </tr>\n",
       "    <tr>\n",
       "      <th>1</th>\n",
       "      <td>6.5</td>\n",
       "      <td>-6.5</td>\n",
       "      <td>49.0</td>\n",
       "      <td>41.0</td>\n",
       "      <td>187.0</td>\n",
       "      <td>37.4</td>\n",
       "      <td>118.0</td>\n",
       "      <td>23.6</td>\n",
       "      <td>2484.0</td>\n",
       "      <td>496.8</td>\n",
       "      <td>...</td>\n",
       "      <td>39.333333</td>\n",
       "      <td>111.0</td>\n",
       "      <td>22.2</td>\n",
       "      <td>2194.0</td>\n",
       "      <td>438.8</td>\n",
       "      <td>50.5</td>\n",
       "      <td>10.10</td>\n",
       "      <td>-109.5</td>\n",
       "      <td>-21.9</td>\n",
       "      <td>1.0</td>\n",
       "    </tr>\n",
       "    <tr>\n",
       "      <th>2</th>\n",
       "      <td>6.5</td>\n",
       "      <td>-6.5</td>\n",
       "      <td>27.0</td>\n",
       "      <td>27.0</td>\n",
       "      <td>114.0</td>\n",
       "      <td>22.8</td>\n",
       "      <td>100.0</td>\n",
       "      <td>20.0</td>\n",
       "      <td>1791.0</td>\n",
       "      <td>358.2</td>\n",
       "      <td>...</td>\n",
       "      <td>27.666667</td>\n",
       "      <td>117.0</td>\n",
       "      <td>23.4</td>\n",
       "      <td>2074.0</td>\n",
       "      <td>414.8</td>\n",
       "      <td>34.5</td>\n",
       "      <td>6.90</td>\n",
       "      <td>-18.5</td>\n",
       "      <td>-3.7</td>\n",
       "      <td>11.0</td>\n",
       "    </tr>\n",
       "    <tr>\n",
       "      <th>3</th>\n",
       "      <td>19.5</td>\n",
       "      <td>-19.5</td>\n",
       "      <td>55.5</td>\n",
       "      <td>22.0</td>\n",
       "      <td>123.0</td>\n",
       "      <td>24.6</td>\n",
       "      <td>111.0</td>\n",
       "      <td>22.2</td>\n",
       "      <td>1998.0</td>\n",
       "      <td>399.6</td>\n",
       "      <td>...</td>\n",
       "      <td>38.000000</td>\n",
       "      <td>125.0</td>\n",
       "      <td>25.0</td>\n",
       "      <td>2618.0</td>\n",
       "      <td>523.6</td>\n",
       "      <td>50.9</td>\n",
       "      <td>10.18</td>\n",
       "      <td>-110.5</td>\n",
       "      <td>-22.1</td>\n",
       "      <td>1.0</td>\n",
       "    </tr>\n",
       "    <tr>\n",
       "      <th>4</th>\n",
       "      <td>31.5</td>\n",
       "      <td>-31.5</td>\n",
       "      <td>63.5</td>\n",
       "      <td>21.0</td>\n",
       "      <td>88.0</td>\n",
       "      <td>17.6</td>\n",
       "      <td>81.0</td>\n",
       "      <td>16.2</td>\n",
       "      <td>1569.0</td>\n",
       "      <td>313.8</td>\n",
       "      <td>...</td>\n",
       "      <td>28.666667</td>\n",
       "      <td>102.0</td>\n",
       "      <td>20.4</td>\n",
       "      <td>2134.0</td>\n",
       "      <td>426.8</td>\n",
       "      <td>51.0</td>\n",
       "      <td>10.20</td>\n",
       "      <td>34.0</td>\n",
       "      <td>6.8</td>\n",
       "      <td>99.0</td>\n",
       "    </tr>\n",
       "  </tbody>\n",
       "</table>\n",
       "<p>5 rows × 30 columns</p>\n",
       "</div>"
      ],
      "text/plain": [
       "   Home Team Spread_x  Away Team Spread_x  Total_x  Home Score_x_x  \\\n",
       "0                -2.5                 2.5     52.0             NaN   \n",
       "1                 6.5                -6.5     49.0            41.0   \n",
       "2                 6.5                -6.5     27.0            27.0   \n",
       "3                19.5               -19.5     55.5            22.0   \n",
       "4                31.5               -31.5     63.5            21.0   \n",
       "\n",
       "   Rolling 5 Past H&A Score_Home_Team  Rolling 5 Past H&A Score Avg_Home_Team  \\\n",
       "0                               172.0                                    34.4   \n",
       "1                               187.0                                    37.4   \n",
       "2                               114.0                                    22.8   \n",
       "3                               123.0                                    24.6   \n",
       "4                                88.0                                    17.6   \n",
       "\n",
       "   Rolling 5 Past H&A 1st Downs_Home_Team  \\\n",
       "0                                   119.0   \n",
       "1                                   118.0   \n",
       "2                                   100.0   \n",
       "3                                   111.0   \n",
       "4                                    81.0   \n",
       "\n",
       "   Rolling 5 Past H&A 1st Downs Avg_Home_Team  \\\n",
       "0                                        23.8   \n",
       "1                                        23.6   \n",
       "2                                        20.0   \n",
       "3                                        22.2   \n",
       "4                                        16.2   \n",
       "\n",
       "   Rolling 5 Past H&A Total Yards_Home_Team  \\\n",
       "0                                    2211.0   \n",
       "1                                    2484.0   \n",
       "2                                    1791.0   \n",
       "3                                    1998.0   \n",
       "4                                    1569.0   \n",
       "\n",
       "   Rolling 5 Past H&A Total Yards Avg_Home_Team  ...  \\\n",
       "0                                         442.2  ...   \n",
       "1                                         496.8  ...   \n",
       "2                                         358.2  ...   \n",
       "3                                         399.6  ...   \n",
       "4                                         313.8  ...   \n",
       "\n",
       "   Rolling 3 Past H&A Score Avg_Away_Team  \\\n",
       "0                               35.666667   \n",
       "1                               39.333333   \n",
       "2                               27.666667   \n",
       "3                               38.000000   \n",
       "4                               28.666667   \n",
       "\n",
       "   Rolling 5 Past H&A 1st Downs_Away_Team  \\\n",
       "0                                   121.0   \n",
       "1                                   111.0   \n",
       "2                                   117.0   \n",
       "3                                   125.0   \n",
       "4                                   102.0   \n",
       "\n",
       "   Rolling 5 Past H&A 1st Downs Avg_Away_Team  \\\n",
       "0                                        24.2   \n",
       "1                                        22.2   \n",
       "2                                        23.4   \n",
       "3                                        25.0   \n",
       "4                                        20.4   \n",
       "\n",
       "   Rolling 5 Past H&A Total Yards_Away_Team  \\\n",
       "0                                    2477.0   \n",
       "1                                    2194.0   \n",
       "2                                    2074.0   \n",
       "3                                    2618.0   \n",
       "4                                    2134.0   \n",
       "\n",
       "   Rolling 5 Past H&A Total Yards Avg_Away_Team  \\\n",
       "0                                         495.4   \n",
       "1                                         438.8   \n",
       "2                                         414.8   \n",
       "3                                         523.6   \n",
       "4                                         426.8   \n",
       "\n",
       "   Rolling 5 Past H&A Yards per Pass_Away_Team  \\\n",
       "0                                         46.5   \n",
       "1                                         50.5   \n",
       "2                                         34.5   \n",
       "3                                         50.9   \n",
       "4                                         51.0   \n",
       "\n",
       "   Rolling 5 Past H&A Yards per Pass Avg_Away_Team  \\\n",
       "0                                             9.30   \n",
       "1                                            10.10   \n",
       "2                                             6.90   \n",
       "3                                            10.18   \n",
       "4                                            10.20   \n",
       "\n",
       "   Rolling 5 Past H&A Spread_Away_Team  \\\n",
       "0                                -87.5   \n",
       "1                               -109.5   \n",
       "2                                -18.5   \n",
       "3                               -110.5   \n",
       "4                                 34.0   \n",
       "\n",
       "   Rolling 5 Past H&A Spread Avg_Away_Team  Previous H&A Ranking_Away_Team  \n",
       "0                                    -17.5                             3.0  \n",
       "1                                    -21.9                             1.0  \n",
       "2                                     -3.7                            11.0  \n",
       "3                                    -22.1                             1.0  \n",
       "4                                      6.8                            99.0  \n",
       "\n",
       "[5 rows x 30 columns]"
      ]
     },
     "execution_count": 4,
     "metadata": {},
     "output_type": "execute_result"
    }
   ],
   "source": [
    "\n",
    "df.head()"
   ]
  },
  {
   "cell_type": "code",
   "execution_count": 5,
   "id": "41643b46",
   "metadata": {},
   "outputs": [],
   "source": [
    "Champ_game = df.loc[0]\n",
    "df = df.loc[1:]"
   ]
  },
  {
   "cell_type": "code",
   "execution_count": 6,
   "id": "d7f91447",
   "metadata": {},
   "outputs": [
    {
     "data": {
      "text/html": [
       "<div>\n",
       "<style scoped>\n",
       "    .dataframe tbody tr th:only-of-type {\n",
       "        vertical-align: middle;\n",
       "    }\n",
       "\n",
       "    .dataframe tbody tr th {\n",
       "        vertical-align: top;\n",
       "    }\n",
       "\n",
       "    .dataframe thead th {\n",
       "        text-align: right;\n",
       "    }\n",
       "</style>\n",
       "<table border=\"1\" class=\"dataframe\">\n",
       "  <thead>\n",
       "    <tr style=\"text-align: right;\">\n",
       "      <th></th>\n",
       "      <th>Home Team Spread_x</th>\n",
       "      <th>Away Team Spread_x</th>\n",
       "      <th>Total_x</th>\n",
       "      <th>Home Score_x_x</th>\n",
       "      <th>Rolling 5 Past H&amp;A Score_Home_Team</th>\n",
       "      <th>Rolling 5 Past H&amp;A Score Avg_Home_Team</th>\n",
       "      <th>Rolling 5 Past H&amp;A 1st Downs_Home_Team</th>\n",
       "      <th>Rolling 5 Past H&amp;A 1st Downs Avg_Home_Team</th>\n",
       "      <th>Rolling 5 Past H&amp;A Total Yards_Home_Team</th>\n",
       "      <th>Rolling 5 Past H&amp;A Total Yards Avg_Home_Team</th>\n",
       "      <th>...</th>\n",
       "      <th>Rolling 3 Past H&amp;A Score Avg_Away_Team</th>\n",
       "      <th>Rolling 5 Past H&amp;A 1st Downs_Away_Team</th>\n",
       "      <th>Rolling 5 Past H&amp;A 1st Downs Avg_Away_Team</th>\n",
       "      <th>Rolling 5 Past H&amp;A Total Yards_Away_Team</th>\n",
       "      <th>Rolling 5 Past H&amp;A Total Yards Avg_Away_Team</th>\n",
       "      <th>Rolling 5 Past H&amp;A Yards per Pass_Away_Team</th>\n",
       "      <th>Rolling 5 Past H&amp;A Yards per Pass Avg_Away_Team</th>\n",
       "      <th>Rolling 5 Past H&amp;A Spread_Away_Team</th>\n",
       "      <th>Rolling 5 Past H&amp;A Spread Avg_Away_Team</th>\n",
       "      <th>Previous H&amp;A Ranking_Away_Team</th>\n",
       "    </tr>\n",
       "  </thead>\n",
       "  <tbody>\n",
       "    <tr>\n",
       "      <th>1</th>\n",
       "      <td>6.5</td>\n",
       "      <td>-6.5</td>\n",
       "      <td>49.0</td>\n",
       "      <td>41.0</td>\n",
       "      <td>187.0</td>\n",
       "      <td>37.4</td>\n",
       "      <td>118.0</td>\n",
       "      <td>23.6</td>\n",
       "      <td>2484.0</td>\n",
       "      <td>496.8</td>\n",
       "      <td>...</td>\n",
       "      <td>39.333333</td>\n",
       "      <td>111.0</td>\n",
       "      <td>22.2</td>\n",
       "      <td>2194.0</td>\n",
       "      <td>438.8</td>\n",
       "      <td>50.5</td>\n",
       "      <td>10.10</td>\n",
       "      <td>-109.5</td>\n",
       "      <td>-21.9</td>\n",
       "      <td>1.0</td>\n",
       "    </tr>\n",
       "    <tr>\n",
       "      <th>2</th>\n",
       "      <td>6.5</td>\n",
       "      <td>-6.5</td>\n",
       "      <td>27.0</td>\n",
       "      <td>27.0</td>\n",
       "      <td>114.0</td>\n",
       "      <td>22.8</td>\n",
       "      <td>100.0</td>\n",
       "      <td>20.0</td>\n",
       "      <td>1791.0</td>\n",
       "      <td>358.2</td>\n",
       "      <td>...</td>\n",
       "      <td>27.666667</td>\n",
       "      <td>117.0</td>\n",
       "      <td>23.4</td>\n",
       "      <td>2074.0</td>\n",
       "      <td>414.8</td>\n",
       "      <td>34.5</td>\n",
       "      <td>6.90</td>\n",
       "      <td>-18.5</td>\n",
       "      <td>-3.7</td>\n",
       "      <td>11.0</td>\n",
       "    </tr>\n",
       "    <tr>\n",
       "      <th>3</th>\n",
       "      <td>19.5</td>\n",
       "      <td>-19.5</td>\n",
       "      <td>55.5</td>\n",
       "      <td>22.0</td>\n",
       "      <td>123.0</td>\n",
       "      <td>24.6</td>\n",
       "      <td>111.0</td>\n",
       "      <td>22.2</td>\n",
       "      <td>1998.0</td>\n",
       "      <td>399.6</td>\n",
       "      <td>...</td>\n",
       "      <td>38.000000</td>\n",
       "      <td>125.0</td>\n",
       "      <td>25.0</td>\n",
       "      <td>2618.0</td>\n",
       "      <td>523.6</td>\n",
       "      <td>50.9</td>\n",
       "      <td>10.18</td>\n",
       "      <td>-110.5</td>\n",
       "      <td>-22.1</td>\n",
       "      <td>1.0</td>\n",
       "    </tr>\n",
       "    <tr>\n",
       "      <th>4</th>\n",
       "      <td>31.5</td>\n",
       "      <td>-31.5</td>\n",
       "      <td>63.5</td>\n",
       "      <td>21.0</td>\n",
       "      <td>88.0</td>\n",
       "      <td>17.6</td>\n",
       "      <td>81.0</td>\n",
       "      <td>16.2</td>\n",
       "      <td>1569.0</td>\n",
       "      <td>313.8</td>\n",
       "      <td>...</td>\n",
       "      <td>28.666667</td>\n",
       "      <td>102.0</td>\n",
       "      <td>20.4</td>\n",
       "      <td>2134.0</td>\n",
       "      <td>426.8</td>\n",
       "      <td>51.0</td>\n",
       "      <td>10.20</td>\n",
       "      <td>34.0</td>\n",
       "      <td>6.8</td>\n",
       "      <td>99.0</td>\n",
       "    </tr>\n",
       "    <tr>\n",
       "      <th>5</th>\n",
       "      <td>-14.5</td>\n",
       "      <td>14.5</td>\n",
       "      <td>63.0</td>\n",
       "      <td>34.0</td>\n",
       "      <td>156.0</td>\n",
       "      <td>31.2</td>\n",
       "      <td>125.0</td>\n",
       "      <td>25.0</td>\n",
       "      <td>2280.0</td>\n",
       "      <td>456.0</td>\n",
       "      <td>...</td>\n",
       "      <td>20.333333</td>\n",
       "      <td>93.0</td>\n",
       "      <td>18.6</td>\n",
       "      <td>1827.0</td>\n",
       "      <td>365.4</td>\n",
       "      <td>32.0</td>\n",
       "      <td>6.40</td>\n",
       "      <td>46.0</td>\n",
       "      <td>9.2</td>\n",
       "      <td>99.0</td>\n",
       "    </tr>\n",
       "  </tbody>\n",
       "</table>\n",
       "<p>5 rows × 30 columns</p>\n",
       "</div>"
      ],
      "text/plain": [
       "   Home Team Spread_x  Away Team Spread_x  Total_x  Home Score_x_x  \\\n",
       "1                 6.5                -6.5     49.0            41.0   \n",
       "2                 6.5                -6.5     27.0            27.0   \n",
       "3                19.5               -19.5     55.5            22.0   \n",
       "4                31.5               -31.5     63.5            21.0   \n",
       "5               -14.5                14.5     63.0            34.0   \n",
       "\n",
       "   Rolling 5 Past H&A Score_Home_Team  Rolling 5 Past H&A Score Avg_Home_Team  \\\n",
       "1                               187.0                                    37.4   \n",
       "2                               114.0                                    22.8   \n",
       "3                               123.0                                    24.6   \n",
       "4                                88.0                                    17.6   \n",
       "5                               156.0                                    31.2   \n",
       "\n",
       "   Rolling 5 Past H&A 1st Downs_Home_Team  \\\n",
       "1                                   118.0   \n",
       "2                                   100.0   \n",
       "3                                   111.0   \n",
       "4                                    81.0   \n",
       "5                                   125.0   \n",
       "\n",
       "   Rolling 5 Past H&A 1st Downs Avg_Home_Team  \\\n",
       "1                                        23.6   \n",
       "2                                        20.0   \n",
       "3                                        22.2   \n",
       "4                                        16.2   \n",
       "5                                        25.0   \n",
       "\n",
       "   Rolling 5 Past H&A Total Yards_Home_Team  \\\n",
       "1                                    2484.0   \n",
       "2                                    1791.0   \n",
       "3                                    1998.0   \n",
       "4                                    1569.0   \n",
       "5                                    2280.0   \n",
       "\n",
       "   Rolling 5 Past H&A Total Yards Avg_Home_Team  ...  \\\n",
       "1                                         496.8  ...   \n",
       "2                                         358.2  ...   \n",
       "3                                         399.6  ...   \n",
       "4                                         313.8  ...   \n",
       "5                                         456.0  ...   \n",
       "\n",
       "   Rolling 3 Past H&A Score Avg_Away_Team  \\\n",
       "1                               39.333333   \n",
       "2                               27.666667   \n",
       "3                               38.000000   \n",
       "4                               28.666667   \n",
       "5                               20.333333   \n",
       "\n",
       "   Rolling 5 Past H&A 1st Downs_Away_Team  \\\n",
       "1                                   111.0   \n",
       "2                                   117.0   \n",
       "3                                   125.0   \n",
       "4                                   102.0   \n",
       "5                                    93.0   \n",
       "\n",
       "   Rolling 5 Past H&A 1st Downs Avg_Away_Team  \\\n",
       "1                                        22.2   \n",
       "2                                        23.4   \n",
       "3                                        25.0   \n",
       "4                                        20.4   \n",
       "5                                        18.6   \n",
       "\n",
       "   Rolling 5 Past H&A Total Yards_Away_Team  \\\n",
       "1                                    2194.0   \n",
       "2                                    2074.0   \n",
       "3                                    2618.0   \n",
       "4                                    2134.0   \n",
       "5                                    1827.0   \n",
       "\n",
       "   Rolling 5 Past H&A Total Yards Avg_Away_Team  \\\n",
       "1                                         438.8   \n",
       "2                                         414.8   \n",
       "3                                         523.6   \n",
       "4                                         426.8   \n",
       "5                                         365.4   \n",
       "\n",
       "   Rolling 5 Past H&A Yards per Pass_Away_Team  \\\n",
       "1                                         50.5   \n",
       "2                                         34.5   \n",
       "3                                         50.9   \n",
       "4                                         51.0   \n",
       "5                                         32.0   \n",
       "\n",
       "   Rolling 5 Past H&A Yards per Pass Avg_Away_Team  \\\n",
       "1                                            10.10   \n",
       "2                                             6.90   \n",
       "3                                            10.18   \n",
       "4                                            10.20   \n",
       "5                                             6.40   \n",
       "\n",
       "   Rolling 5 Past H&A Spread_Away_Team  \\\n",
       "1                               -109.5   \n",
       "2                                -18.5   \n",
       "3                               -110.5   \n",
       "4                                 34.0   \n",
       "5                                 46.0   \n",
       "\n",
       "   Rolling 5 Past H&A Spread Avg_Away_Team  Previous H&A Ranking_Away_Team  \n",
       "1                                    -21.9                             1.0  \n",
       "2                                     -3.7                            11.0  \n",
       "3                                    -22.1                             1.0  \n",
       "4                                      6.8                            99.0  \n",
       "5                                      9.2                            99.0  \n",
       "\n",
       "[5 rows x 30 columns]"
      ]
     },
     "execution_count": 6,
     "metadata": {},
     "output_type": "execute_result"
    }
   ],
   "source": [
    "df.head()"
   ]
  },
  {
   "cell_type": "code",
   "execution_count": 6,
   "id": "8a754fef",
   "metadata": {},
   "outputs": [],
   "source": [
    "#df = pd.get_dummies(df,columns=['Away Team'],drop_first=True,prefix='A')"
   ]
  },
  {
   "cell_type": "code",
   "execution_count": 7,
   "id": "1e7bec2c",
   "metadata": {},
   "outputs": [],
   "source": [
    "#df = pd.get_dummies(df,columns=['Home Team'],drop_first=True,prefix='H')"
   ]
  },
  {
   "cell_type": "code",
   "execution_count": 5,
   "id": "c79ae31e",
   "metadata": {},
   "outputs": [],
   "source": [
    "#df = df = pd.get_dummies(df,columns=['Year'],drop_first=True,prefix='Y')"
   ]
  },
  {
   "cell_type": "code",
   "execution_count": 9,
   "id": "a9bb3225",
   "metadata": {},
   "outputs": [],
   "source": [
    "df['Total Score'] = df['Away Score_x_x'] + df['Home Score_x_x']"
   ]
  },
  {
   "cell_type": "code",
   "execution_count": 10,
   "id": "80ad2dfb",
   "metadata": {},
   "outputs": [],
   "source": [
    "df['Total over/under'] = df['Total Score'] - df['Total_x']"
   ]
  },
  {
   "cell_type": "code",
   "execution_count": 11,
   "id": "ff514e8b",
   "metadata": {},
   "outputs": [],
   "source": [
    "df.drop('Away Score_x_x', axis=1, inplace=True)\n",
    "df.drop('Home Score_x_x', axis=1, inplace=True)\n",
    "df.drop('Total Score', axis=1, inplace=True)"
   ]
  },
  {
   "cell_type": "code",
   "execution_count": 12,
   "id": "d188ed05",
   "metadata": {},
   "outputs": [
    {
     "data": {
      "text/html": [
       "<div>\n",
       "<style scoped>\n",
       "    .dataframe tbody tr th:only-of-type {\n",
       "        vertical-align: middle;\n",
       "    }\n",
       "\n",
       "    .dataframe tbody tr th {\n",
       "        vertical-align: top;\n",
       "    }\n",
       "\n",
       "    .dataframe thead th {\n",
       "        text-align: right;\n",
       "    }\n",
       "</style>\n",
       "<table border=\"1\" class=\"dataframe\">\n",
       "  <thead>\n",
       "    <tr style=\"text-align: right;\">\n",
       "      <th></th>\n",
       "      <th>Home Team Spread_x</th>\n",
       "      <th>Away Team Spread_x</th>\n",
       "      <th>Total_x</th>\n",
       "      <th>Rolling 5 Past H&amp;A Score_Home_Team</th>\n",
       "      <th>Rolling 5 Past H&amp;A Score Avg_Home_Team</th>\n",
       "      <th>Rolling 5 Past H&amp;A 1st Downs_Home_Team</th>\n",
       "      <th>Rolling 5 Past H&amp;A 1st Downs Avg_Home_Team</th>\n",
       "      <th>Rolling 5 Past H&amp;A Total Yards_Home_Team</th>\n",
       "      <th>Rolling 5 Past H&amp;A Total Yards Avg_Home_Team</th>\n",
       "      <th>Rolling 5 Past H&amp;A Yards per Pass_Home_Team</th>\n",
       "      <th>...</th>\n",
       "      <th>Rolling 5 Past H&amp;A 1st Downs_Away_Team</th>\n",
       "      <th>Rolling 5 Past H&amp;A 1st Downs Avg_Away_Team</th>\n",
       "      <th>Rolling 5 Past H&amp;A Total Yards_Away_Team</th>\n",
       "      <th>Rolling 5 Past H&amp;A Total Yards Avg_Away_Team</th>\n",
       "      <th>Rolling 5 Past H&amp;A Yards per Pass_Away_Team</th>\n",
       "      <th>Rolling 5 Past H&amp;A Yards per Pass Avg_Away_Team</th>\n",
       "      <th>Rolling 5 Past H&amp;A Spread_Away_Team</th>\n",
       "      <th>Rolling 5 Past H&amp;A Spread Avg_Away_Team</th>\n",
       "      <th>Previous H&amp;A Ranking_Away_Team</th>\n",
       "      <th>Total over/under</th>\n",
       "    </tr>\n",
       "  </thead>\n",
       "  <tbody>\n",
       "    <tr>\n",
       "      <th>1</th>\n",
       "      <td>6.5</td>\n",
       "      <td>-6.5</td>\n",
       "      <td>49.0</td>\n",
       "      <td>187.0</td>\n",
       "      <td>37.4</td>\n",
       "      <td>118.0</td>\n",
       "      <td>23.6</td>\n",
       "      <td>2484.0</td>\n",
       "      <td>496.8</td>\n",
       "      <td>49.3</td>\n",
       "      <td>...</td>\n",
       "      <td>111.0</td>\n",
       "      <td>22.2</td>\n",
       "      <td>2194.0</td>\n",
       "      <td>438.8</td>\n",
       "      <td>50.5</td>\n",
       "      <td>10.10</td>\n",
       "      <td>-109.5</td>\n",
       "      <td>-21.9</td>\n",
       "      <td>1.0</td>\n",
       "      <td>16.0</td>\n",
       "    </tr>\n",
       "    <tr>\n",
       "      <th>2</th>\n",
       "      <td>6.5</td>\n",
       "      <td>-6.5</td>\n",
       "      <td>27.0</td>\n",
       "      <td>114.0</td>\n",
       "      <td>22.8</td>\n",
       "      <td>100.0</td>\n",
       "      <td>20.0</td>\n",
       "      <td>1791.0</td>\n",
       "      <td>358.2</td>\n",
       "      <td>30.9</td>\n",
       "      <td>...</td>\n",
       "      <td>117.0</td>\n",
       "      <td>23.4</td>\n",
       "      <td>2074.0</td>\n",
       "      <td>414.8</td>\n",
       "      <td>34.5</td>\n",
       "      <td>6.90</td>\n",
       "      <td>-18.5</td>\n",
       "      <td>-3.7</td>\n",
       "      <td>11.0</td>\n",
       "      <td>24.0</td>\n",
       "    </tr>\n",
       "    <tr>\n",
       "      <th>3</th>\n",
       "      <td>19.5</td>\n",
       "      <td>-19.5</td>\n",
       "      <td>55.5</td>\n",
       "      <td>123.0</td>\n",
       "      <td>24.6</td>\n",
       "      <td>111.0</td>\n",
       "      <td>22.2</td>\n",
       "      <td>1998.0</td>\n",
       "      <td>399.6</td>\n",
       "      <td>38.5</td>\n",
       "      <td>...</td>\n",
       "      <td>125.0</td>\n",
       "      <td>25.0</td>\n",
       "      <td>2618.0</td>\n",
       "      <td>523.6</td>\n",
       "      <td>50.9</td>\n",
       "      <td>10.18</td>\n",
       "      <td>-110.5</td>\n",
       "      <td>-22.1</td>\n",
       "      <td>1.0</td>\n",
       "      <td>-9.5</td>\n",
       "    </tr>\n",
       "    <tr>\n",
       "      <th>4</th>\n",
       "      <td>31.5</td>\n",
       "      <td>-31.5</td>\n",
       "      <td>63.5</td>\n",
       "      <td>88.0</td>\n",
       "      <td>17.6</td>\n",
       "      <td>81.0</td>\n",
       "      <td>16.2</td>\n",
       "      <td>1569.0</td>\n",
       "      <td>313.8</td>\n",
       "      <td>31.4</td>\n",
       "      <td>...</td>\n",
       "      <td>102.0</td>\n",
       "      <td>20.4</td>\n",
       "      <td>2134.0</td>\n",
       "      <td>426.8</td>\n",
       "      <td>51.0</td>\n",
       "      <td>10.20</td>\n",
       "      <td>34.0</td>\n",
       "      <td>6.8</td>\n",
       "      <td>99.0</td>\n",
       "      <td>2.5</td>\n",
       "    </tr>\n",
       "    <tr>\n",
       "      <th>5</th>\n",
       "      <td>-14.5</td>\n",
       "      <td>14.5</td>\n",
       "      <td>63.0</td>\n",
       "      <td>156.0</td>\n",
       "      <td>31.2</td>\n",
       "      <td>125.0</td>\n",
       "      <td>25.0</td>\n",
       "      <td>2280.0</td>\n",
       "      <td>456.0</td>\n",
       "      <td>40.4</td>\n",
       "      <td>...</td>\n",
       "      <td>93.0</td>\n",
       "      <td>18.6</td>\n",
       "      <td>1827.0</td>\n",
       "      <td>365.4</td>\n",
       "      <td>32.0</td>\n",
       "      <td>6.40</td>\n",
       "      <td>46.0</td>\n",
       "      <td>9.2</td>\n",
       "      <td>99.0</td>\n",
       "      <td>-12.0</td>\n",
       "    </tr>\n",
       "  </tbody>\n",
       "</table>\n",
       "<p>5 rows × 29 columns</p>\n",
       "</div>"
      ],
      "text/plain": [
       "   Home Team Spread_x  Away Team Spread_x  Total_x  \\\n",
       "1                 6.5                -6.5     49.0   \n",
       "2                 6.5                -6.5     27.0   \n",
       "3                19.5               -19.5     55.5   \n",
       "4                31.5               -31.5     63.5   \n",
       "5               -14.5                14.5     63.0   \n",
       "\n",
       "   Rolling 5 Past H&A Score_Home_Team  Rolling 5 Past H&A Score Avg_Home_Team  \\\n",
       "1                               187.0                                    37.4   \n",
       "2                               114.0                                    22.8   \n",
       "3                               123.0                                    24.6   \n",
       "4                                88.0                                    17.6   \n",
       "5                               156.0                                    31.2   \n",
       "\n",
       "   Rolling 5 Past H&A 1st Downs_Home_Team  \\\n",
       "1                                   118.0   \n",
       "2                                   100.0   \n",
       "3                                   111.0   \n",
       "4                                    81.0   \n",
       "5                                   125.0   \n",
       "\n",
       "   Rolling 5 Past H&A 1st Downs Avg_Home_Team  \\\n",
       "1                                        23.6   \n",
       "2                                        20.0   \n",
       "3                                        22.2   \n",
       "4                                        16.2   \n",
       "5                                        25.0   \n",
       "\n",
       "   Rolling 5 Past H&A Total Yards_Home_Team  \\\n",
       "1                                    2484.0   \n",
       "2                                    1791.0   \n",
       "3                                    1998.0   \n",
       "4                                    1569.0   \n",
       "5                                    2280.0   \n",
       "\n",
       "   Rolling 5 Past H&A Total Yards Avg_Home_Team  \\\n",
       "1                                         496.8   \n",
       "2                                         358.2   \n",
       "3                                         399.6   \n",
       "4                                         313.8   \n",
       "5                                         456.0   \n",
       "\n",
       "   Rolling 5 Past H&A Yards per Pass_Home_Team  ...  \\\n",
       "1                                         49.3  ...   \n",
       "2                                         30.9  ...   \n",
       "3                                         38.5  ...   \n",
       "4                                         31.4  ...   \n",
       "5                                         40.4  ...   \n",
       "\n",
       "   Rolling 5 Past H&A 1st Downs_Away_Team  \\\n",
       "1                                   111.0   \n",
       "2                                   117.0   \n",
       "3                                   125.0   \n",
       "4                                   102.0   \n",
       "5                                    93.0   \n",
       "\n",
       "   Rolling 5 Past H&A 1st Downs Avg_Away_Team  \\\n",
       "1                                        22.2   \n",
       "2                                        23.4   \n",
       "3                                        25.0   \n",
       "4                                        20.4   \n",
       "5                                        18.6   \n",
       "\n",
       "   Rolling 5 Past H&A Total Yards_Away_Team  \\\n",
       "1                                    2194.0   \n",
       "2                                    2074.0   \n",
       "3                                    2618.0   \n",
       "4                                    2134.0   \n",
       "5                                    1827.0   \n",
       "\n",
       "   Rolling 5 Past H&A Total Yards Avg_Away_Team  \\\n",
       "1                                         438.8   \n",
       "2                                         414.8   \n",
       "3                                         523.6   \n",
       "4                                         426.8   \n",
       "5                                         365.4   \n",
       "\n",
       "   Rolling 5 Past H&A Yards per Pass_Away_Team  \\\n",
       "1                                         50.5   \n",
       "2                                         34.5   \n",
       "3                                         50.9   \n",
       "4                                         51.0   \n",
       "5                                         32.0   \n",
       "\n",
       "   Rolling 5 Past H&A Yards per Pass Avg_Away_Team  \\\n",
       "1                                            10.10   \n",
       "2                                             6.90   \n",
       "3                                            10.18   \n",
       "4                                            10.20   \n",
       "5                                             6.40   \n",
       "\n",
       "   Rolling 5 Past H&A Spread_Away_Team  \\\n",
       "1                               -109.5   \n",
       "2                                -18.5   \n",
       "3                               -110.5   \n",
       "4                                 34.0   \n",
       "5                                 46.0   \n",
       "\n",
       "   Rolling 5 Past H&A Spread Avg_Away_Team  Previous H&A Ranking_Away_Team  \\\n",
       "1                                    -21.9                             1.0   \n",
       "2                                     -3.7                            11.0   \n",
       "3                                    -22.1                             1.0   \n",
       "4                                      6.8                            99.0   \n",
       "5                                      9.2                            99.0   \n",
       "\n",
       "   Total over/under  \n",
       "1              16.0  \n",
       "2              24.0  \n",
       "3              -9.5  \n",
       "4               2.5  \n",
       "5             -12.0  \n",
       "\n",
       "[5 rows x 29 columns]"
      ]
     },
     "execution_count": 12,
     "metadata": {},
     "output_type": "execute_result"
    }
   ],
   "source": [
    "df.head()"
   ]
  },
  {
   "cell_type": "code",
   "execution_count": 13,
   "id": "7ace7bed",
   "metadata": {},
   "outputs": [],
   "source": [
    "#df.drop('Date', axis=1, inplace=True)"
   ]
  },
  {
   "cell_type": "code",
   "execution_count": 14,
   "id": "a1002a1d",
   "metadata": {},
   "outputs": [],
   "source": [
    "pd.set_option('Max_columns',None)\n",
    "pd.set_option('Max_rows',None)"
   ]
  },
  {
   "cell_type": "code",
   "execution_count": 15,
   "id": "a32d4958",
   "metadata": {},
   "outputs": [
    {
     "data": {
      "text/plain": [
       "Home Team Spread_x                                 float64\n",
       "Away Team Spread_x                                 float64\n",
       "Total_x                                            float64\n",
       "Rolling 5 Past H&A Score_Home_Team                 float64\n",
       "Rolling 5 Past H&A Score Avg_Home_Team             float64\n",
       "Rolling 5 Past H&A 1st Downs_Home_Team             float64\n",
       "Rolling 5 Past H&A 1st Downs Avg_Home_Team         float64\n",
       "Rolling 5 Past H&A Total Yards_Home_Team           float64\n",
       "Rolling 5 Past H&A Total Yards Avg_Home_Team       float64\n",
       "Rolling 5 Past H&A Yards per Pass_Home_Team        float64\n",
       "Rolling 5 Past H&A Yards per Pass Avg_Home_Team    float64\n",
       "Rolling 5 Past H&A Spread_Home_Team                float64\n",
       "Rolling 5 Past H&A Spread Avg_Home_Team            float64\n",
       "Rolling 5 Past H&A Spread Min_Home_Team            float64\n",
       "Rolling 5 Past H&A Score_Away_Team                 float64\n",
       "Rolling 5 Past H&A Score Avg_Away_Team             float64\n",
       "Rolling 5 Past H&A Score Max_Away_Team             float64\n",
       "Rolling 3 Past H&A Score_Away_Team                 float64\n",
       "Rolling 3 Past H&A Score Avg_Away_Team             float64\n",
       "Rolling 5 Past H&A 1st Downs_Away_Team             float64\n",
       "Rolling 5 Past H&A 1st Downs Avg_Away_Team         float64\n",
       "Rolling 5 Past H&A Total Yards_Away_Team           float64\n",
       "Rolling 5 Past H&A Total Yards Avg_Away_Team       float64\n",
       "Rolling 5 Past H&A Yards per Pass_Away_Team        float64\n",
       "Rolling 5 Past H&A Yards per Pass Avg_Away_Team    float64\n",
       "Rolling 5 Past H&A Spread_Away_Team                float64\n",
       "Rolling 5 Past H&A Spread Avg_Away_Team            float64\n",
       "Previous H&A Ranking_Away_Team                     float64\n",
       "Total over/under                                   float64\n",
       "dtype: object"
      ]
     },
     "execution_count": 15,
     "metadata": {},
     "output_type": "execute_result"
    }
   ],
   "source": [
    "df.dtypes"
   ]
  },
  {
   "cell_type": "code",
   "execution_count": 16,
   "id": "4429e250",
   "metadata": {},
   "outputs": [
    {
     "data": {
      "text/plain": [
       "(976, 29)"
      ]
     },
     "execution_count": 16,
     "metadata": {},
     "output_type": "execute_result"
    }
   ],
   "source": [
    "df.shape"
   ]
  },
  {
   "cell_type": "code",
   "execution_count": 17,
   "id": "957f7cf4",
   "metadata": {},
   "outputs": [
    {
     "data": {
      "text/plain": [
       "41"
      ]
     },
     "execution_count": 17,
     "metadata": {},
     "output_type": "execute_result"
    }
   ],
   "source": [
    "df.isnull().sum().max()"
   ]
  },
  {
   "cell_type": "code",
   "execution_count": 18,
   "id": "1ffe25d6",
   "metadata": {},
   "outputs": [],
   "source": [
    "df.dropna(inplace=True)"
   ]
  },
  {
   "cell_type": "code",
   "execution_count": 19,
   "id": "ac1c8db0",
   "metadata": {},
   "outputs": [
    {
     "data": {
      "text/plain": [
       "0"
      ]
     },
     "execution_count": 19,
     "metadata": {},
     "output_type": "execute_result"
    }
   ],
   "source": [
    "df.isnull().sum().max()"
   ]
  },
  {
   "cell_type": "code",
   "execution_count": 20,
   "id": "5c97c6c6",
   "metadata": {},
   "outputs": [
    {
     "data": {
      "text/plain": [
       "(928, 29)"
      ]
     },
     "execution_count": 20,
     "metadata": {},
     "output_type": "execute_result"
    }
   ],
   "source": [
    "df.shape"
   ]
  },
  {
   "cell_type": "markdown",
   "id": "4258d309",
   "metadata": {},
   "source": [
    "# 4.6 Train/Test Split"
   ]
  },
  {
   "cell_type": "code",
   "execution_count": 21,
   "id": "7d0ef26a",
   "metadata": {},
   "outputs": [
    {
     "data": {
      "text/plain": [
       "(742.4000000000001, 185.60000000000002)"
      ]
     },
     "execution_count": 21,
     "metadata": {},
     "output_type": "execute_result"
    }
   ],
   "source": [
    "len(df) * .8, len(df) * .2"
   ]
  },
  {
   "cell_type": "code",
   "execution_count": 22,
   "id": "5144d161",
   "metadata": {},
   "outputs": [],
   "source": [
    "X_train, X_test, y_train, y_test = train_test_split(df.drop(columns='Total over/under'), \n",
    "                                                    df['Total over/under'], test_size=0.2, \n",
    "                                                    random_state=42)"
   ]
  },
  {
   "cell_type": "code",
   "execution_count": 23,
   "id": "9f8b29b4",
   "metadata": {},
   "outputs": [
    {
     "data": {
      "text/html": [
       "<div>\n",
       "<style scoped>\n",
       "    .dataframe tbody tr th:only-of-type {\n",
       "        vertical-align: middle;\n",
       "    }\n",
       "\n",
       "    .dataframe tbody tr th {\n",
       "        vertical-align: top;\n",
       "    }\n",
       "\n",
       "    .dataframe thead th {\n",
       "        text-align: right;\n",
       "    }\n",
       "</style>\n",
       "<table border=\"1\" class=\"dataframe\">\n",
       "  <thead>\n",
       "    <tr style=\"text-align: right;\">\n",
       "      <th></th>\n",
       "      <th>Home Team Spread_x</th>\n",
       "      <th>Away Team Spread_x</th>\n",
       "      <th>Total_x</th>\n",
       "      <th>Rolling 5 Past H&amp;A Score_Home_Team</th>\n",
       "      <th>Rolling 5 Past H&amp;A Score Avg_Home_Team</th>\n",
       "      <th>Rolling 5 Past H&amp;A 1st Downs_Home_Team</th>\n",
       "      <th>Rolling 5 Past H&amp;A 1st Downs Avg_Home_Team</th>\n",
       "      <th>Rolling 5 Past H&amp;A Total Yards_Home_Team</th>\n",
       "      <th>Rolling 5 Past H&amp;A Total Yards Avg_Home_Team</th>\n",
       "      <th>Rolling 5 Past H&amp;A Yards per Pass_Home_Team</th>\n",
       "      <th>Rolling 5 Past H&amp;A Yards per Pass Avg_Home_Team</th>\n",
       "      <th>Rolling 5 Past H&amp;A Spread_Home_Team</th>\n",
       "      <th>Rolling 5 Past H&amp;A Spread Avg_Home_Team</th>\n",
       "      <th>Rolling 5 Past H&amp;A Spread Min_Home_Team</th>\n",
       "      <th>Rolling 5 Past H&amp;A Score_Away_Team</th>\n",
       "      <th>Rolling 5 Past H&amp;A Score Avg_Away_Team</th>\n",
       "      <th>Rolling 5 Past H&amp;A Score Max_Away_Team</th>\n",
       "      <th>Rolling 3 Past H&amp;A Score_Away_Team</th>\n",
       "      <th>Rolling 3 Past H&amp;A Score Avg_Away_Team</th>\n",
       "      <th>Rolling 5 Past H&amp;A 1st Downs_Away_Team</th>\n",
       "      <th>Rolling 5 Past H&amp;A 1st Downs Avg_Away_Team</th>\n",
       "      <th>Rolling 5 Past H&amp;A Total Yards_Away_Team</th>\n",
       "      <th>Rolling 5 Past H&amp;A Total Yards Avg_Away_Team</th>\n",
       "      <th>Rolling 5 Past H&amp;A Yards per Pass_Away_Team</th>\n",
       "      <th>Rolling 5 Past H&amp;A Yards per Pass Avg_Away_Team</th>\n",
       "      <th>Rolling 5 Past H&amp;A Spread_Away_Team</th>\n",
       "      <th>Rolling 5 Past H&amp;A Spread Avg_Away_Team</th>\n",
       "      <th>Previous H&amp;A Ranking_Away_Team</th>\n",
       "    </tr>\n",
       "  </thead>\n",
       "  <tbody>\n",
       "    <tr>\n",
       "      <th>382</th>\n",
       "      <td>-7.0</td>\n",
       "      <td>7.0</td>\n",
       "      <td>54.5</td>\n",
       "      <td>103.0</td>\n",
       "      <td>20.6</td>\n",
       "      <td>92.0</td>\n",
       "      <td>18.4</td>\n",
       "      <td>1770.0</td>\n",
       "      <td>354.0</td>\n",
       "      <td>36.9</td>\n",
       "      <td>7.38</td>\n",
       "      <td>28.0</td>\n",
       "      <td>5.6</td>\n",
       "      <td>-2.5</td>\n",
       "      <td>111.0</td>\n",
       "      <td>22.2</td>\n",
       "      <td>44.0</td>\n",
       "      <td>60.0</td>\n",
       "      <td>20.000000</td>\n",
       "      <td>107.0</td>\n",
       "      <td>21.4</td>\n",
       "      <td>1978.0</td>\n",
       "      <td>395.6</td>\n",
       "      <td>36.8</td>\n",
       "      <td>7.36</td>\n",
       "      <td>15.0</td>\n",
       "      <td>3.0</td>\n",
       "      <td>99.0</td>\n",
       "    </tr>\n",
       "    <tr>\n",
       "      <th>500</th>\n",
       "      <td>-6.5</td>\n",
       "      <td>6.5</td>\n",
       "      <td>66.0</td>\n",
       "      <td>185.0</td>\n",
       "      <td>37.0</td>\n",
       "      <td>117.0</td>\n",
       "      <td>23.4</td>\n",
       "      <td>2355.0</td>\n",
       "      <td>471.0</td>\n",
       "      <td>44.4</td>\n",
       "      <td>8.88</td>\n",
       "      <td>-26.5</td>\n",
       "      <td>-5.3</td>\n",
       "      <td>-15.5</td>\n",
       "      <td>171.0</td>\n",
       "      <td>34.2</td>\n",
       "      <td>51.0</td>\n",
       "      <td>131.0</td>\n",
       "      <td>43.666667</td>\n",
       "      <td>113.0</td>\n",
       "      <td>22.6</td>\n",
       "      <td>2050.0</td>\n",
       "      <td>410.0</td>\n",
       "      <td>31.8</td>\n",
       "      <td>6.36</td>\n",
       "      <td>28.5</td>\n",
       "      <td>5.7</td>\n",
       "      <td>99.0</td>\n",
       "    </tr>\n",
       "    <tr>\n",
       "      <th>98</th>\n",
       "      <td>-4.5</td>\n",
       "      <td>4.5</td>\n",
       "      <td>54.5</td>\n",
       "      <td>203.0</td>\n",
       "      <td>40.6</td>\n",
       "      <td>130.0</td>\n",
       "      <td>26.0</td>\n",
       "      <td>2436.0</td>\n",
       "      <td>487.2</td>\n",
       "      <td>46.6</td>\n",
       "      <td>9.32</td>\n",
       "      <td>-74.0</td>\n",
       "      <td>-14.8</td>\n",
       "      <td>-21.0</td>\n",
       "      <td>128.0</td>\n",
       "      <td>25.6</td>\n",
       "      <td>41.0</td>\n",
       "      <td>95.0</td>\n",
       "      <td>31.666667</td>\n",
       "      <td>100.0</td>\n",
       "      <td>20.0</td>\n",
       "      <td>1750.0</td>\n",
       "      <td>350.0</td>\n",
       "      <td>30.8</td>\n",
       "      <td>6.16</td>\n",
       "      <td>18.5</td>\n",
       "      <td>3.7</td>\n",
       "      <td>99.0</td>\n",
       "    </tr>\n",
       "    <tr>\n",
       "      <th>251</th>\n",
       "      <td>13.5</td>\n",
       "      <td>-13.5</td>\n",
       "      <td>57.0</td>\n",
       "      <td>99.0</td>\n",
       "      <td>19.8</td>\n",
       "      <td>97.0</td>\n",
       "      <td>19.4</td>\n",
       "      <td>1658.0</td>\n",
       "      <td>331.6</td>\n",
       "      <td>28.7</td>\n",
       "      <td>5.74</td>\n",
       "      <td>71.0</td>\n",
       "      <td>14.2</td>\n",
       "      <td>-3.0</td>\n",
       "      <td>117.0</td>\n",
       "      <td>23.4</td>\n",
       "      <td>45.0</td>\n",
       "      <td>104.0</td>\n",
       "      <td>34.666667</td>\n",
       "      <td>99.0</td>\n",
       "      <td>19.8</td>\n",
       "      <td>1771.0</td>\n",
       "      <td>354.2</td>\n",
       "      <td>26.5</td>\n",
       "      <td>5.30</td>\n",
       "      <td>6.0</td>\n",
       "      <td>1.2</td>\n",
       "      <td>16.0</td>\n",
       "    </tr>\n",
       "    <tr>\n",
       "      <th>199</th>\n",
       "      <td>-13.0</td>\n",
       "      <td>13.0</td>\n",
       "      <td>68.0</td>\n",
       "      <td>106.0</td>\n",
       "      <td>21.2</td>\n",
       "      <td>115.0</td>\n",
       "      <td>23.0</td>\n",
       "      <td>1957.0</td>\n",
       "      <td>391.4</td>\n",
       "      <td>34.9</td>\n",
       "      <td>6.98</td>\n",
       "      <td>21.0</td>\n",
       "      <td>4.2</td>\n",
       "      <td>-5.5</td>\n",
       "      <td>120.0</td>\n",
       "      <td>24.0</td>\n",
       "      <td>44.0</td>\n",
       "      <td>97.0</td>\n",
       "      <td>32.333333</td>\n",
       "      <td>120.0</td>\n",
       "      <td>24.0</td>\n",
       "      <td>2250.0</td>\n",
       "      <td>450.0</td>\n",
       "      <td>36.6</td>\n",
       "      <td>7.32</td>\n",
       "      <td>30.0</td>\n",
       "      <td>6.0</td>\n",
       "      <td>99.0</td>\n",
       "    </tr>\n",
       "  </tbody>\n",
       "</table>\n",
       "</div>"
      ],
      "text/plain": [
       "     Home Team Spread_x  Away Team Spread_x  Total_x  \\\n",
       "382                -7.0                 7.0     54.5   \n",
       "500                -6.5                 6.5     66.0   \n",
       "98                 -4.5                 4.5     54.5   \n",
       "251                13.5               -13.5     57.0   \n",
       "199               -13.0                13.0     68.0   \n",
       "\n",
       "     Rolling 5 Past H&A Score_Home_Team  \\\n",
       "382                               103.0   \n",
       "500                               185.0   \n",
       "98                                203.0   \n",
       "251                                99.0   \n",
       "199                               106.0   \n",
       "\n",
       "     Rolling 5 Past H&A Score Avg_Home_Team  \\\n",
       "382                                    20.6   \n",
       "500                                    37.0   \n",
       "98                                     40.6   \n",
       "251                                    19.8   \n",
       "199                                    21.2   \n",
       "\n",
       "     Rolling 5 Past H&A 1st Downs_Home_Team  \\\n",
       "382                                    92.0   \n",
       "500                                   117.0   \n",
       "98                                    130.0   \n",
       "251                                    97.0   \n",
       "199                                   115.0   \n",
       "\n",
       "     Rolling 5 Past H&A 1st Downs Avg_Home_Team  \\\n",
       "382                                        18.4   \n",
       "500                                        23.4   \n",
       "98                                         26.0   \n",
       "251                                        19.4   \n",
       "199                                        23.0   \n",
       "\n",
       "     Rolling 5 Past H&A Total Yards_Home_Team  \\\n",
       "382                                    1770.0   \n",
       "500                                    2355.0   \n",
       "98                                     2436.0   \n",
       "251                                    1658.0   \n",
       "199                                    1957.0   \n",
       "\n",
       "     Rolling 5 Past H&A Total Yards Avg_Home_Team  \\\n",
       "382                                         354.0   \n",
       "500                                         471.0   \n",
       "98                                          487.2   \n",
       "251                                         331.6   \n",
       "199                                         391.4   \n",
       "\n",
       "     Rolling 5 Past H&A Yards per Pass_Home_Team  \\\n",
       "382                                         36.9   \n",
       "500                                         44.4   \n",
       "98                                          46.6   \n",
       "251                                         28.7   \n",
       "199                                         34.9   \n",
       "\n",
       "     Rolling 5 Past H&A Yards per Pass Avg_Home_Team  \\\n",
       "382                                             7.38   \n",
       "500                                             8.88   \n",
       "98                                              9.32   \n",
       "251                                             5.74   \n",
       "199                                             6.98   \n",
       "\n",
       "     Rolling 5 Past H&A Spread_Home_Team  \\\n",
       "382                                 28.0   \n",
       "500                                -26.5   \n",
       "98                                 -74.0   \n",
       "251                                 71.0   \n",
       "199                                 21.0   \n",
       "\n",
       "     Rolling 5 Past H&A Spread Avg_Home_Team  \\\n",
       "382                                      5.6   \n",
       "500                                     -5.3   \n",
       "98                                     -14.8   \n",
       "251                                     14.2   \n",
       "199                                      4.2   \n",
       "\n",
       "     Rolling 5 Past H&A Spread Min_Home_Team  \\\n",
       "382                                     -2.5   \n",
       "500                                    -15.5   \n",
       "98                                     -21.0   \n",
       "251                                     -3.0   \n",
       "199                                     -5.5   \n",
       "\n",
       "     Rolling 5 Past H&A Score_Away_Team  \\\n",
       "382                               111.0   \n",
       "500                               171.0   \n",
       "98                                128.0   \n",
       "251                               117.0   \n",
       "199                               120.0   \n",
       "\n",
       "     Rolling 5 Past H&A Score Avg_Away_Team  \\\n",
       "382                                    22.2   \n",
       "500                                    34.2   \n",
       "98                                     25.6   \n",
       "251                                    23.4   \n",
       "199                                    24.0   \n",
       "\n",
       "     Rolling 5 Past H&A Score Max_Away_Team  \\\n",
       "382                                    44.0   \n",
       "500                                    51.0   \n",
       "98                                     41.0   \n",
       "251                                    45.0   \n",
       "199                                    44.0   \n",
       "\n",
       "     Rolling 3 Past H&A Score_Away_Team  \\\n",
       "382                                60.0   \n",
       "500                               131.0   \n",
       "98                                 95.0   \n",
       "251                               104.0   \n",
       "199                                97.0   \n",
       "\n",
       "     Rolling 3 Past H&A Score Avg_Away_Team  \\\n",
       "382                               20.000000   \n",
       "500                               43.666667   \n",
       "98                                31.666667   \n",
       "251                               34.666667   \n",
       "199                               32.333333   \n",
       "\n",
       "     Rolling 5 Past H&A 1st Downs_Away_Team  \\\n",
       "382                                   107.0   \n",
       "500                                   113.0   \n",
       "98                                    100.0   \n",
       "251                                    99.0   \n",
       "199                                   120.0   \n",
       "\n",
       "     Rolling 5 Past H&A 1st Downs Avg_Away_Team  \\\n",
       "382                                        21.4   \n",
       "500                                        22.6   \n",
       "98                                         20.0   \n",
       "251                                        19.8   \n",
       "199                                        24.0   \n",
       "\n",
       "     Rolling 5 Past H&A Total Yards_Away_Team  \\\n",
       "382                                    1978.0   \n",
       "500                                    2050.0   \n",
       "98                                     1750.0   \n",
       "251                                    1771.0   \n",
       "199                                    2250.0   \n",
       "\n",
       "     Rolling 5 Past H&A Total Yards Avg_Away_Team  \\\n",
       "382                                         395.6   \n",
       "500                                         410.0   \n",
       "98                                          350.0   \n",
       "251                                         354.2   \n",
       "199                                         450.0   \n",
       "\n",
       "     Rolling 5 Past H&A Yards per Pass_Away_Team  \\\n",
       "382                                         36.8   \n",
       "500                                         31.8   \n",
       "98                                          30.8   \n",
       "251                                         26.5   \n",
       "199                                         36.6   \n",
       "\n",
       "     Rolling 5 Past H&A Yards per Pass Avg_Away_Team  \\\n",
       "382                                             7.36   \n",
       "500                                             6.36   \n",
       "98                                              6.16   \n",
       "251                                             5.30   \n",
       "199                                             7.32   \n",
       "\n",
       "     Rolling 5 Past H&A Spread_Away_Team  \\\n",
       "382                                 15.0   \n",
       "500                                 28.5   \n",
       "98                                  18.5   \n",
       "251                                  6.0   \n",
       "199                                 30.0   \n",
       "\n",
       "     Rolling 5 Past H&A Spread Avg_Away_Team  Previous H&A Ranking_Away_Team  \n",
       "382                                      3.0                            99.0  \n",
       "500                                      5.7                            99.0  \n",
       "98                                       3.7                            99.0  \n",
       "251                                      1.2                            16.0  \n",
       "199                                      6.0                            99.0  "
      ]
     },
     "execution_count": 23,
     "metadata": {},
     "output_type": "execute_result"
    }
   ],
   "source": [
    "X_train.head()"
   ]
  },
  {
   "cell_type": "code",
   "execution_count": 24,
   "id": "5daec865",
   "metadata": {},
   "outputs": [
    {
     "data": {
      "text/plain": [
       "(742, 28)"
      ]
     },
     "execution_count": 24,
     "metadata": {},
     "output_type": "execute_result"
    }
   ],
   "source": [
    "X_train.shape"
   ]
  },
  {
   "cell_type": "code",
   "execution_count": 25,
   "id": "3a98e1a0",
   "metadata": {},
   "outputs": [
    {
     "data": {
      "text/html": [
       "<div>\n",
       "<style scoped>\n",
       "    .dataframe tbody tr th:only-of-type {\n",
       "        vertical-align: middle;\n",
       "    }\n",
       "\n",
       "    .dataframe tbody tr th {\n",
       "        vertical-align: top;\n",
       "    }\n",
       "\n",
       "    .dataframe thead th {\n",
       "        text-align: right;\n",
       "    }\n",
       "</style>\n",
       "<table border=\"1\" class=\"dataframe\">\n",
       "  <thead>\n",
       "    <tr style=\"text-align: right;\">\n",
       "      <th></th>\n",
       "      <th>Home Team Spread_x</th>\n",
       "      <th>Away Team Spread_x</th>\n",
       "      <th>Total_x</th>\n",
       "      <th>Rolling 5 Past H&amp;A Score_Home_Team</th>\n",
       "      <th>Rolling 5 Past H&amp;A Score Avg_Home_Team</th>\n",
       "      <th>Rolling 5 Past H&amp;A 1st Downs_Home_Team</th>\n",
       "      <th>Rolling 5 Past H&amp;A 1st Downs Avg_Home_Team</th>\n",
       "      <th>Rolling 5 Past H&amp;A Total Yards_Home_Team</th>\n",
       "      <th>Rolling 5 Past H&amp;A Total Yards Avg_Home_Team</th>\n",
       "      <th>Rolling 5 Past H&amp;A Yards per Pass_Home_Team</th>\n",
       "      <th>Rolling 5 Past H&amp;A Yards per Pass Avg_Home_Team</th>\n",
       "      <th>Rolling 5 Past H&amp;A Spread_Home_Team</th>\n",
       "      <th>Rolling 5 Past H&amp;A Spread Avg_Home_Team</th>\n",
       "      <th>Rolling 5 Past H&amp;A Spread Min_Home_Team</th>\n",
       "      <th>Rolling 5 Past H&amp;A Score_Away_Team</th>\n",
       "      <th>Rolling 5 Past H&amp;A Score Avg_Away_Team</th>\n",
       "      <th>Rolling 5 Past H&amp;A Score Max_Away_Team</th>\n",
       "      <th>Rolling 3 Past H&amp;A Score_Away_Team</th>\n",
       "      <th>Rolling 3 Past H&amp;A Score Avg_Away_Team</th>\n",
       "      <th>Rolling 5 Past H&amp;A 1st Downs_Away_Team</th>\n",
       "      <th>Rolling 5 Past H&amp;A 1st Downs Avg_Away_Team</th>\n",
       "      <th>Rolling 5 Past H&amp;A Total Yards_Away_Team</th>\n",
       "      <th>Rolling 5 Past H&amp;A Total Yards Avg_Away_Team</th>\n",
       "      <th>Rolling 5 Past H&amp;A Yards per Pass_Away_Team</th>\n",
       "      <th>Rolling 5 Past H&amp;A Yards per Pass Avg_Away_Team</th>\n",
       "      <th>Rolling 5 Past H&amp;A Spread_Away_Team</th>\n",
       "      <th>Rolling 5 Past H&amp;A Spread Avg_Away_Team</th>\n",
       "      <th>Previous H&amp;A Ranking_Away_Team</th>\n",
       "    </tr>\n",
       "  </thead>\n",
       "  <tbody>\n",
       "    <tr>\n",
       "      <th>758</th>\n",
       "      <td>-16.5</td>\n",
       "      <td>16.5</td>\n",
       "      <td>43.5</td>\n",
       "      <td>139.0</td>\n",
       "      <td>27.8</td>\n",
       "      <td>102.0</td>\n",
       "      <td>20.4</td>\n",
       "      <td>1734.0</td>\n",
       "      <td>346.8</td>\n",
       "      <td>37.8</td>\n",
       "      <td>7.56</td>\n",
       "      <td>-35.0</td>\n",
       "      <td>-7.0</td>\n",
       "      <td>-12.0</td>\n",
       "      <td>99.0</td>\n",
       "      <td>19.8</td>\n",
       "      <td>24.0</td>\n",
       "      <td>51.0</td>\n",
       "      <td>17.000000</td>\n",
       "      <td>65.0</td>\n",
       "      <td>13.0</td>\n",
       "      <td>1067.0</td>\n",
       "      <td>213.4</td>\n",
       "      <td>26.3</td>\n",
       "      <td>5.26</td>\n",
       "      <td>31.5</td>\n",
       "      <td>6.3</td>\n",
       "      <td>13.0</td>\n",
       "    </tr>\n",
       "    <tr>\n",
       "      <th>670</th>\n",
       "      <td>7.0</td>\n",
       "      <td>-7.0</td>\n",
       "      <td>56.0</td>\n",
       "      <td>153.0</td>\n",
       "      <td>30.6</td>\n",
       "      <td>94.0</td>\n",
       "      <td>18.8</td>\n",
       "      <td>1908.0</td>\n",
       "      <td>381.6</td>\n",
       "      <td>46.2</td>\n",
       "      <td>9.24</td>\n",
       "      <td>-7.5</td>\n",
       "      <td>-1.5</td>\n",
       "      <td>-11.5</td>\n",
       "      <td>125.0</td>\n",
       "      <td>25.0</td>\n",
       "      <td>32.0</td>\n",
       "      <td>89.0</td>\n",
       "      <td>29.666667</td>\n",
       "      <td>100.0</td>\n",
       "      <td>20.0</td>\n",
       "      <td>1933.0</td>\n",
       "      <td>386.6</td>\n",
       "      <td>43.0</td>\n",
       "      <td>8.60</td>\n",
       "      <td>-36.5</td>\n",
       "      <td>-7.3</td>\n",
       "      <td>2.0</td>\n",
       "    </tr>\n",
       "    <tr>\n",
       "      <th>31</th>\n",
       "      <td>1.0</td>\n",
       "      <td>-1.0</td>\n",
       "      <td>82.5</td>\n",
       "      <td>176.0</td>\n",
       "      <td>35.2</td>\n",
       "      <td>116.0</td>\n",
       "      <td>23.2</td>\n",
       "      <td>2331.0</td>\n",
       "      <td>466.2</td>\n",
       "      <td>50.3</td>\n",
       "      <td>10.06</td>\n",
       "      <td>9.5</td>\n",
       "      <td>1.9</td>\n",
       "      <td>-15.0</td>\n",
       "      <td>211.0</td>\n",
       "      <td>42.2</td>\n",
       "      <td>59.0</td>\n",
       "      <td>121.0</td>\n",
       "      <td>40.333333</td>\n",
       "      <td>120.0</td>\n",
       "      <td>24.0</td>\n",
       "      <td>2718.0</td>\n",
       "      <td>543.6</td>\n",
       "      <td>56.8</td>\n",
       "      <td>11.36</td>\n",
       "      <td>-13.0</td>\n",
       "      <td>-2.6</td>\n",
       "      <td>17.0</td>\n",
       "    </tr>\n",
       "    <tr>\n",
       "      <th>389</th>\n",
       "      <td>2.5</td>\n",
       "      <td>-2.5</td>\n",
       "      <td>60.0</td>\n",
       "      <td>142.0</td>\n",
       "      <td>28.4</td>\n",
       "      <td>104.0</td>\n",
       "      <td>20.8</td>\n",
       "      <td>1836.0</td>\n",
       "      <td>367.2</td>\n",
       "      <td>35.7</td>\n",
       "      <td>7.14</td>\n",
       "      <td>-38.0</td>\n",
       "      <td>-7.6</td>\n",
       "      <td>-15.0</td>\n",
       "      <td>190.0</td>\n",
       "      <td>38.0</td>\n",
       "      <td>63.0</td>\n",
       "      <td>93.0</td>\n",
       "      <td>31.000000</td>\n",
       "      <td>118.0</td>\n",
       "      <td>23.6</td>\n",
       "      <td>2268.0</td>\n",
       "      <td>453.6</td>\n",
       "      <td>40.8</td>\n",
       "      <td>8.16</td>\n",
       "      <td>-46.5</td>\n",
       "      <td>-9.3</td>\n",
       "      <td>8.0</td>\n",
       "    </tr>\n",
       "    <tr>\n",
       "      <th>193</th>\n",
       "      <td>-22.0</td>\n",
       "      <td>22.0</td>\n",
       "      <td>50.5</td>\n",
       "      <td>236.0</td>\n",
       "      <td>47.2</td>\n",
       "      <td>132.0</td>\n",
       "      <td>26.4</td>\n",
       "      <td>2848.0</td>\n",
       "      <td>569.6</td>\n",
       "      <td>64.3</td>\n",
       "      <td>12.86</td>\n",
       "      <td>-131.0</td>\n",
       "      <td>-26.2</td>\n",
       "      <td>-35.0</td>\n",
       "      <td>67.0</td>\n",
       "      <td>13.4</td>\n",
       "      <td>28.0</td>\n",
       "      <td>54.0</td>\n",
       "      <td>18.000000</td>\n",
       "      <td>78.0</td>\n",
       "      <td>15.6</td>\n",
       "      <td>1465.0</td>\n",
       "      <td>293.0</td>\n",
       "      <td>25.9</td>\n",
       "      <td>5.18</td>\n",
       "      <td>-9.0</td>\n",
       "      <td>-1.8</td>\n",
       "      <td>99.0</td>\n",
       "    </tr>\n",
       "  </tbody>\n",
       "</table>\n",
       "</div>"
      ],
      "text/plain": [
       "     Home Team Spread_x  Away Team Spread_x  Total_x  \\\n",
       "758               -16.5                16.5     43.5   \n",
       "670                 7.0                -7.0     56.0   \n",
       "31                  1.0                -1.0     82.5   \n",
       "389                 2.5                -2.5     60.0   \n",
       "193               -22.0                22.0     50.5   \n",
       "\n",
       "     Rolling 5 Past H&A Score_Home_Team  \\\n",
       "758                               139.0   \n",
       "670                               153.0   \n",
       "31                                176.0   \n",
       "389                               142.0   \n",
       "193                               236.0   \n",
       "\n",
       "     Rolling 5 Past H&A Score Avg_Home_Team  \\\n",
       "758                                    27.8   \n",
       "670                                    30.6   \n",
       "31                                     35.2   \n",
       "389                                    28.4   \n",
       "193                                    47.2   \n",
       "\n",
       "     Rolling 5 Past H&A 1st Downs_Home_Team  \\\n",
       "758                                   102.0   \n",
       "670                                    94.0   \n",
       "31                                    116.0   \n",
       "389                                   104.0   \n",
       "193                                   132.0   \n",
       "\n",
       "     Rolling 5 Past H&A 1st Downs Avg_Home_Team  \\\n",
       "758                                        20.4   \n",
       "670                                        18.8   \n",
       "31                                         23.2   \n",
       "389                                        20.8   \n",
       "193                                        26.4   \n",
       "\n",
       "     Rolling 5 Past H&A Total Yards_Home_Team  \\\n",
       "758                                    1734.0   \n",
       "670                                    1908.0   \n",
       "31                                     2331.0   \n",
       "389                                    1836.0   \n",
       "193                                    2848.0   \n",
       "\n",
       "     Rolling 5 Past H&A Total Yards Avg_Home_Team  \\\n",
       "758                                         346.8   \n",
       "670                                         381.6   \n",
       "31                                          466.2   \n",
       "389                                         367.2   \n",
       "193                                         569.6   \n",
       "\n",
       "     Rolling 5 Past H&A Yards per Pass_Home_Team  \\\n",
       "758                                         37.8   \n",
       "670                                         46.2   \n",
       "31                                          50.3   \n",
       "389                                         35.7   \n",
       "193                                         64.3   \n",
       "\n",
       "     Rolling 5 Past H&A Yards per Pass Avg_Home_Team  \\\n",
       "758                                             7.56   \n",
       "670                                             9.24   \n",
       "31                                             10.06   \n",
       "389                                             7.14   \n",
       "193                                            12.86   \n",
       "\n",
       "     Rolling 5 Past H&A Spread_Home_Team  \\\n",
       "758                                -35.0   \n",
       "670                                 -7.5   \n",
       "31                                   9.5   \n",
       "389                                -38.0   \n",
       "193                               -131.0   \n",
       "\n",
       "     Rolling 5 Past H&A Spread Avg_Home_Team  \\\n",
       "758                                     -7.0   \n",
       "670                                     -1.5   \n",
       "31                                       1.9   \n",
       "389                                     -7.6   \n",
       "193                                    -26.2   \n",
       "\n",
       "     Rolling 5 Past H&A Spread Min_Home_Team  \\\n",
       "758                                    -12.0   \n",
       "670                                    -11.5   \n",
       "31                                     -15.0   \n",
       "389                                    -15.0   \n",
       "193                                    -35.0   \n",
       "\n",
       "     Rolling 5 Past H&A Score_Away_Team  \\\n",
       "758                                99.0   \n",
       "670                               125.0   \n",
       "31                                211.0   \n",
       "389                               190.0   \n",
       "193                                67.0   \n",
       "\n",
       "     Rolling 5 Past H&A Score Avg_Away_Team  \\\n",
       "758                                    19.8   \n",
       "670                                    25.0   \n",
       "31                                     42.2   \n",
       "389                                    38.0   \n",
       "193                                    13.4   \n",
       "\n",
       "     Rolling 5 Past H&A Score Max_Away_Team  \\\n",
       "758                                    24.0   \n",
       "670                                    32.0   \n",
       "31                                     59.0   \n",
       "389                                    63.0   \n",
       "193                                    28.0   \n",
       "\n",
       "     Rolling 3 Past H&A Score_Away_Team  \\\n",
       "758                                51.0   \n",
       "670                                89.0   \n",
       "31                                121.0   \n",
       "389                                93.0   \n",
       "193                                54.0   \n",
       "\n",
       "     Rolling 3 Past H&A Score Avg_Away_Team  \\\n",
       "758                               17.000000   \n",
       "670                               29.666667   \n",
       "31                                40.333333   \n",
       "389                               31.000000   \n",
       "193                               18.000000   \n",
       "\n",
       "     Rolling 5 Past H&A 1st Downs_Away_Team  \\\n",
       "758                                    65.0   \n",
       "670                                   100.0   \n",
       "31                                    120.0   \n",
       "389                                   118.0   \n",
       "193                                    78.0   \n",
       "\n",
       "     Rolling 5 Past H&A 1st Downs Avg_Away_Team  \\\n",
       "758                                        13.0   \n",
       "670                                        20.0   \n",
       "31                                         24.0   \n",
       "389                                        23.6   \n",
       "193                                        15.6   \n",
       "\n",
       "     Rolling 5 Past H&A Total Yards_Away_Team  \\\n",
       "758                                    1067.0   \n",
       "670                                    1933.0   \n",
       "31                                     2718.0   \n",
       "389                                    2268.0   \n",
       "193                                    1465.0   \n",
       "\n",
       "     Rolling 5 Past H&A Total Yards Avg_Away_Team  \\\n",
       "758                                         213.4   \n",
       "670                                         386.6   \n",
       "31                                          543.6   \n",
       "389                                         453.6   \n",
       "193                                         293.0   \n",
       "\n",
       "     Rolling 5 Past H&A Yards per Pass_Away_Team  \\\n",
       "758                                         26.3   \n",
       "670                                         43.0   \n",
       "31                                          56.8   \n",
       "389                                         40.8   \n",
       "193                                         25.9   \n",
       "\n",
       "     Rolling 5 Past H&A Yards per Pass Avg_Away_Team  \\\n",
       "758                                             5.26   \n",
       "670                                             8.60   \n",
       "31                                             11.36   \n",
       "389                                             8.16   \n",
       "193                                             5.18   \n",
       "\n",
       "     Rolling 5 Past H&A Spread_Away_Team  \\\n",
       "758                                 31.5   \n",
       "670                                -36.5   \n",
       "31                                 -13.0   \n",
       "389                                -46.5   \n",
       "193                                 -9.0   \n",
       "\n",
       "     Rolling 5 Past H&A Spread Avg_Away_Team  Previous H&A Ranking_Away_Team  \n",
       "758                                      6.3                            13.0  \n",
       "670                                     -7.3                             2.0  \n",
       "31                                      -2.6                            17.0  \n",
       "389                                     -9.3                             8.0  \n",
       "193                                     -1.8                            99.0  "
      ]
     },
     "execution_count": 25,
     "metadata": {},
     "output_type": "execute_result"
    }
   ],
   "source": [
    "X_test.head()"
   ]
  },
  {
   "cell_type": "code",
   "execution_count": 26,
   "id": "be12b32f",
   "metadata": {},
   "outputs": [
    {
     "data": {
      "text/plain": [
       "(186, 28)"
      ]
     },
     "execution_count": 26,
     "metadata": {},
     "output_type": "execute_result"
    }
   ],
   "source": [
    "X_test.shape"
   ]
  },
  {
   "cell_type": "code",
   "execution_count": 27,
   "id": "9a2ce5a9",
   "metadata": {},
   "outputs": [
    {
     "data": {
      "text/plain": [
       "382    45.5\n",
       "500     1.0\n",
       "98     21.5\n",
       "251    -8.0\n",
       "199    -6.0\n",
       "Name: Total over/under, dtype: float64"
      ]
     },
     "execution_count": 27,
     "metadata": {},
     "output_type": "execute_result"
    }
   ],
   "source": [
    "y_train.head()"
   ]
  },
  {
   "cell_type": "code",
   "execution_count": 28,
   "id": "eadf1e18",
   "metadata": {},
   "outputs": [
    {
     "data": {
      "text/plain": [
       "(742,)"
      ]
     },
     "execution_count": 28,
     "metadata": {},
     "output_type": "execute_result"
    }
   ],
   "source": [
    "y_train.shape"
   ]
  },
  {
   "cell_type": "code",
   "execution_count": 29,
   "id": "0457ae0d",
   "metadata": {},
   "outputs": [
    {
     "data": {
      "text/plain": [
       "758    -5.5\n",
       "670   -12.0\n",
       "31    -25.5\n",
       "389     9.0\n",
       "193   -26.5\n",
       "Name: Total over/under, dtype: float64"
      ]
     },
     "execution_count": 29,
     "metadata": {},
     "output_type": "execute_result"
    }
   ],
   "source": [
    "y_test.head()"
   ]
  },
  {
   "cell_type": "code",
   "execution_count": 30,
   "id": "28c4e108",
   "metadata": {},
   "outputs": [
    {
     "data": {
      "text/plain": [
       "(186,)"
      ]
     },
     "execution_count": 30,
     "metadata": {},
     "output_type": "execute_result"
    }
   ],
   "source": [
    "y_test.shape"
   ]
  },
  {
   "cell_type": "code",
   "execution_count": 31,
   "id": "333520ef",
   "metadata": {},
   "outputs": [
    {
     "data": {
      "text/plain": [
       "-0.5505390835579514"
      ]
     },
     "execution_count": 31,
     "metadata": {},
     "output_type": "execute_result"
    }
   ],
   "source": [
    "train_mean = y_train.mean()\n",
    "train_mean"
   ]
  },
  {
   "cell_type": "code",
   "execution_count": 32,
   "id": "598b3823",
   "metadata": {},
   "outputs": [
    {
     "data": {
      "text/plain": [
       "array([[-0.55053908]])"
      ]
     },
     "execution_count": 32,
     "metadata": {},
     "output_type": "execute_result"
    }
   ],
   "source": [
    "dumb_reg = DummyRegressor(strategy='mean')\n",
    "dumb_reg.fit(X_train, y_train)\n",
    "dumb_reg.constant_"
   ]
  },
  {
   "cell_type": "markdown",
   "id": "a7549393",
   "metadata": {},
   "source": [
    "# 4.7.1 Metrics \n",
    "\n",
    "4.7.1.1 R-squared, or coefficient of determination"
   ]
  },
  {
   "cell_type": "code",
   "execution_count": 33,
   "id": "61a9c766",
   "metadata": {},
   "outputs": [],
   "source": [
    "def r_squared(y, ypred):\n",
    "    \"\"\"R-squared score.\n",
    "    \n",
    "    Calculate the R-squared, or coefficient of determination, of the input.\n",
    "    \n",
    "    Arguments:\n",
    "    y -- the observed values\n",
    "    ypred -- the predicted values\n",
    "    \"\"\"\n",
    "    ybar = np.sum(y) / len(y) #yes, we could use np.mean(y)\n",
    "    sum_sq_tot = np.sum((y - ybar)**2) #total sum of squares error\n",
    "    sum_sq_res = np.sum((y - ypred)**2) #residual sum of squares error\n",
    "    R2 = 1.0 -  sum_sq_res / sum_sq_tot\n",
    "    return R2"
   ]
  },
  {
   "cell_type": "code",
   "execution_count": 34,
   "id": "91535338",
   "metadata": {},
   "outputs": [
    {
     "data": {
      "text/plain": [
       "array([-0.55053908, -0.55053908, -0.55053908, -0.55053908, -0.55053908])"
      ]
     },
     "execution_count": 34,
     "metadata": {},
     "output_type": "execute_result"
    }
   ],
   "source": [
    "y_tr_pred_ = train_mean * np.ones(len(y_train))\n",
    "y_tr_pred_[:5]"
   ]
  },
  {
   "cell_type": "code",
   "execution_count": 35,
   "id": "cbb91578",
   "metadata": {},
   "outputs": [
    {
     "data": {
      "text/plain": [
       "array([-0.55053908, -0.55053908, -0.55053908, -0.55053908, -0.55053908])"
      ]
     },
     "execution_count": 35,
     "metadata": {},
     "output_type": "execute_result"
    }
   ],
   "source": [
    "y_tr_pred = dumb_reg.predict(X_train)\n",
    "y_tr_pred[:5]"
   ]
  },
  {
   "cell_type": "code",
   "execution_count": 36,
   "id": "5dffb779",
   "metadata": {},
   "outputs": [
    {
     "data": {
      "text/plain": [
       "0.0"
      ]
     },
     "execution_count": 36,
     "metadata": {},
     "output_type": "execute_result"
    }
   ],
   "source": [
    "r_squared(y_train, y_tr_pred)"
   ]
  },
  {
   "cell_type": "code",
   "execution_count": 37,
   "id": "2fd2044d",
   "metadata": {},
   "outputs": [
    {
     "data": {
      "text/plain": [
       "-0.007580357400593485"
      ]
     },
     "execution_count": 37,
     "metadata": {},
     "output_type": "execute_result"
    }
   ],
   "source": [
    "y_te_pred = train_mean * np.ones(len(y_test))\n",
    "r_squared(y_test, y_te_pred)"
   ]
  },
  {
   "cell_type": "markdown",
   "id": "ebf839c3",
   "metadata": {},
   "source": [
    "# 4.7.1.2 Mean Absolute Error\n",
    "#This is very simply the average of the absolute errors:"
   ]
  },
  {
   "cell_type": "code",
   "execution_count": 38,
   "id": "96cba49f",
   "metadata": {},
   "outputs": [],
   "source": [
    "def mae(y, ypred):\n",
    "    \"\"\"Mean absolute error.\n",
    "    \n",
    "    Calculate the mean absolute error of the arguments\n",
    "\n",
    "    Arguments:\n",
    "    y -- the observed values\n",
    "    ypred -- the predicted values\n",
    "    \"\"\"\n",
    "    abs_error = np.abs(ypred - y)\n",
    "    mae = np.mean(abs_error)\n",
    "    return mae"
   ]
  },
  {
   "cell_type": "code",
   "execution_count": 39,
   "id": "b0b2534e",
   "metadata": {},
   "outputs": [
    {
     "data": {
      "text/plain": [
       "13.31008747393582"
      ]
     },
     "execution_count": 39,
     "metadata": {},
     "output_type": "execute_result"
    }
   ],
   "source": [
    "mae(y_train, y_tr_pred)"
   ]
  },
  {
   "cell_type": "code",
   "execution_count": 40,
   "id": "8d432dba",
   "metadata": {},
   "outputs": [
    {
     "data": {
      "text/plain": [
       "12.910203460568646"
      ]
     },
     "execution_count": 40,
     "metadata": {},
     "output_type": "execute_result"
    }
   ],
   "source": [
    "mae(y_test, y_te_pred)"
   ]
  },
  {
   "cell_type": "code",
   "execution_count": 41,
   "id": "82e9006f",
   "metadata": {},
   "outputs": [],
   "source": [
    "def mse(y, ypred):\n",
    "    \"\"\"Mean square error.\n",
    "    \n",
    "    Calculate the mean square error of the arguments\n",
    "\n",
    "    Arguments:\n",
    "    y -- the observed values\n",
    "    ypred -- the predicted values\n",
    "    \"\"\"\n",
    "    sq_error = (ypred - y)**2\n",
    "    mse = np.mean(sq_error)\n",
    "    return mse"
   ]
  },
  {
   "cell_type": "code",
   "execution_count": 42,
   "id": "f4c2730d",
   "metadata": {},
   "outputs": [
    {
     "data": {
      "text/plain": [
       "288.5449525395773"
      ]
     },
     "execution_count": 42,
     "metadata": {},
     "output_type": "execute_result"
    }
   ],
   "source": [
    "mse(y_train, y_tr_pred)"
   ]
  },
  {
   "cell_type": "code",
   "execution_count": 43,
   "id": "d4663d46",
   "metadata": {},
   "outputs": [
    {
     "data": {
      "text/plain": [
       "261.5249797851478"
      ]
     },
     "execution_count": 43,
     "metadata": {},
     "output_type": "execute_result"
    }
   ],
   "source": [
    "mse(y_test, y_te_pred)"
   ]
  },
  {
   "cell_type": "code",
   "execution_count": 44,
   "id": "1e7828da",
   "metadata": {},
   "outputs": [
    {
     "data": {
      "text/plain": [
       "array([16.98661098, 16.17173398])"
      ]
     },
     "execution_count": 44,
     "metadata": {},
     "output_type": "execute_result"
    }
   ],
   "source": [
    "np.sqrt([mse(y_train, y_tr_pred), mse(y_test, y_te_pred)])"
   ]
  },
  {
   "cell_type": "markdown",
   "id": "39d1514a",
   "metadata": {},
   "source": [
    "# 4.7.1.3 Mean Squared Error\n",
    "Another common metric (and an important one internally for optimizing machine learning models) is the mean squared error. This is simply the average of the square of the errors:"
   ]
  },
  {
   "cell_type": "code",
   "execution_count": 45,
   "id": "f00384d3",
   "metadata": {},
   "outputs": [],
   "source": [
    "#Code task 8#\n",
    "#Calculate the MSE as defined above\n",
    "def mse(y, ypred):\n",
    "    \"\"\"Mean square error.\n",
    "    \n",
    "    Calculate the mean square error of the arguments\n",
    "\n",
    "    Arguments:\n",
    "    y -- the observed values\n",
    "    ypred -- the predicted values\n",
    "    \"\"\"\n",
    "    sq_error = (ypred - y)**2\n",
    "    mse = np.mean(sq_error)\n",
    "    return mse"
   ]
  },
  {
   "cell_type": "code",
   "execution_count": 46,
   "id": "51a55ea3",
   "metadata": {},
   "outputs": [
    {
     "data": {
      "text/plain": [
       "288.5449525395773"
      ]
     },
     "execution_count": 46,
     "metadata": {},
     "output_type": "execute_result"
    }
   ],
   "source": [
    "mse(y_train, y_tr_pred)"
   ]
  },
  {
   "cell_type": "code",
   "execution_count": 47,
   "id": "c94b0af3",
   "metadata": {},
   "outputs": [
    {
     "data": {
      "text/plain": [
       "261.5249797851478"
      ]
     },
     "execution_count": 47,
     "metadata": {},
     "output_type": "execute_result"
    }
   ],
   "source": [
    "mse(y_test, y_te_pred)"
   ]
  },
  {
   "cell_type": "code",
   "execution_count": 48,
   "id": "0010a6d2",
   "metadata": {},
   "outputs": [
    {
     "data": {
      "text/plain": [
       "array([16.98661098, 16.17173398])"
      ]
     },
     "execution_count": 48,
     "metadata": {},
     "output_type": "execute_result"
    }
   ],
   "source": [
    "np.sqrt([mse(y_train, y_tr_pred), mse(y_test, y_te_pred)])"
   ]
  },
  {
   "cell_type": "markdown",
   "id": "f43ad490",
   "metadata": {},
   "source": [
    "# 4.7.2 sklearn metrics\n",
    "Functions are good, but you don't want to have to define functions every time we want to assess performance. sklearn.metrics provides many commonly used metrics, included the ones above."
   ]
  },
  {
   "cell_type": "code",
   "execution_count": 49,
   "id": "e85f1ba8",
   "metadata": {},
   "outputs": [
    {
     "data": {
      "text/plain": [
       "(0.0, -0.007580357400593485)"
      ]
     },
     "execution_count": 49,
     "metadata": {},
     "output_type": "execute_result"
    }
   ],
   "source": [
    "r2_score(y_train, y_tr_pred), r2_score(y_test, y_te_pred)"
   ]
  },
  {
   "cell_type": "code",
   "execution_count": 50,
   "id": "ef8bb3da",
   "metadata": {},
   "outputs": [
    {
     "data": {
      "text/plain": [
       "(13.310087473935818, 12.910203460568649)"
      ]
     },
     "execution_count": 50,
     "metadata": {},
     "output_type": "execute_result"
    }
   ],
   "source": [
    "mean_absolute_error(y_train, y_tr_pred), mean_absolute_error(y_test, y_te_pred)"
   ]
  },
  {
   "cell_type": "code",
   "execution_count": 51,
   "id": "5e70f31f",
   "metadata": {},
   "outputs": [
    {
     "data": {
      "text/plain": [
       "(288.5449525395776, 261.52497978514776)"
      ]
     },
     "execution_count": 51,
     "metadata": {},
     "output_type": "execute_result"
    }
   ],
   "source": [
    "mean_squared_error(y_train, y_tr_pred), mean_squared_error(y_test, y_te_pred)"
   ]
  },
  {
   "cell_type": "markdown",
   "id": "dfb25eb4",
   "metadata": {},
   "source": [
    "# 4.7.3 Note On Calculating Metrics\n",
    "When calling functions to calculate metrics, it is important to take care in the order of the arguments. Two of the metrics above actually don't care if the arguments are reversed; one does. Which one cares?\n",
    "\n",
    "In a Jupyter code cell, running r2_score? will bring up the docstring for the function, and r2_score?? will bring up the actual code of the function! Try them and compare the source for sklearn's function with yours. Feel free to explore what happens when you reverse the order of the arguments and compare behaviour of sklearn's function and yours."
   ]
  },
  {
   "cell_type": "code",
   "execution_count": 52,
   "id": "2d8f173c",
   "metadata": {},
   "outputs": [
    {
     "data": {
      "text/plain": [
       "(0.0, -2.3409547665895776e+34)"
      ]
     },
     "execution_count": 52,
     "metadata": {},
     "output_type": "execute_result"
    }
   ],
   "source": [
    "# train set - sklearn\n",
    "# correct order, incorrect order\n",
    "r2_score(y_train, y_tr_pred), r2_score(y_tr_pred, y_train)"
   ]
  },
  {
   "cell_type": "code",
   "execution_count": 53,
   "id": "7ab47c08",
   "metadata": {},
   "outputs": [
    {
     "data": {
      "text/plain": [
       "(-0.007580357400593485, -2.121742704635636e+34)"
      ]
     },
     "execution_count": 53,
     "metadata": {},
     "output_type": "execute_result"
    }
   ],
   "source": [
    "# test set - sklearn\n",
    "# correct order, incorrect order\n",
    "r2_score(y_test, y_te_pred), r2_score(y_te_pred, y_test)"
   ]
  },
  {
   "cell_type": "code",
   "execution_count": 54,
   "id": "0da469c3",
   "metadata": {},
   "outputs": [
    {
     "data": {
      "text/plain": [
       "(0.0, -2.3409547665895776e+34)"
      ]
     },
     "execution_count": 54,
     "metadata": {},
     "output_type": "execute_result"
    }
   ],
   "source": [
    "# train set - using our homebrew function\n",
    "# correct order, incorrect order\n",
    "r_squared(y_train, y_tr_pred), r_squared(y_tr_pred, y_train)\n"
   ]
  },
  {
   "cell_type": "code",
   "execution_count": 55,
   "id": "5e102ea5",
   "metadata": {},
   "outputs": [
    {
     "data": {
      "text/plain": [
       "(-0.007580357400593485, -2.121742704635636e+34)"
      ]
     },
     "execution_count": 55,
     "metadata": {},
     "output_type": "execute_result"
    }
   ],
   "source": [
    "# test set - using our homebrew function\n",
    "# correct order, incorrect order\n",
    "r_squared(y_test, y_te_pred), r_squared(y_te_pred, y_test)"
   ]
  },
  {
   "cell_type": "markdown",
   "id": "80b1eb67",
   "metadata": {},
   "source": [
    "# 4.8 Initial Models\n",
    "4.8.1 Imputing missing feature (predictor) values\n",
    "Recall when performing EDA, you imputed (filled in) some missing values in pandas. You did this judiciously for exploratory/visualization purposes. You left many missing values in the data. You can impute missing values using scikit-learn, but note that you should learn values to impute from a train split and apply that to the test split to then assess how well your imputation worked.\n",
    "\n",
    "4.8.1.1 Impute missing values with median\n",
    "There's missing values. Recall from your data exploration that many distributions were skewed. Your first thought might be to impute missing values using the median.\n",
    "\n",
    "4.8.1.1.1 Learn the values to impute from the train set"
   ]
  },
  {
   "cell_type": "code",
   "execution_count": 56,
   "id": "4cf97645",
   "metadata": {},
   "outputs": [
    {
     "data": {
      "text/plain": [
       "Home Team Spread_x                                   -3.25\n",
       "Away Team Spread_x                                    3.25\n",
       "Total_x                                              50.50\n",
       "Rolling 5 Past H&A Score_Home_Team                  124.00\n",
       "Rolling 5 Past H&A Score Avg_Home_Team               24.80\n",
       "Rolling 5 Past H&A 1st Downs_Home_Team               97.00\n",
       "Rolling 5 Past H&A 1st Downs Avg_Home_Team           19.40\n",
       "Rolling 5 Past H&A Total Yards_Home_Team           1849.00\n",
       "Rolling 5 Past H&A Total Yards Avg_Home_Team        369.80\n",
       "Rolling 5 Past H&A Yards per Pass_Home_Team          35.50\n",
       "Rolling 5 Past H&A Yards per Pass Avg_Home_Team       7.10\n",
       "Rolling 5 Past H&A Spread_Home_Team                   1.50\n",
       "Rolling 5 Past H&A Spread Avg_Home_Team               0.30\n",
       "Rolling 5 Past H&A Spread Min_Home_Team             -11.50\n",
       "Rolling 5 Past H&A Score_Away_Team                  125.00\n",
       "Rolling 5 Past H&A Score Avg_Away_Team               25.00\n",
       "Rolling 5 Past H&A Score Max_Away_Team               41.00\n",
       "Rolling 3 Past H&A Score_Away_Team                   75.00\n",
       "Rolling 3 Past H&A Score Avg_Away_Team               25.00\n",
       "Rolling 5 Past H&A 1st Downs_Away_Team               98.00\n",
       "Rolling 5 Past H&A 1st Downs Avg_Away_Team           19.60\n",
       "Rolling 5 Past H&A Total Yards_Away_Team           1846.50\n",
       "Rolling 5 Past H&A Total Yards Avg_Away_Team        369.30\n",
       "Rolling 5 Past H&A Yards per Pass_Away_Team          35.80\n",
       "Rolling 5 Past H&A Yards per Pass Avg_Away_Team       7.16\n",
       "Rolling 5 Past H&A Spread_Away_Team                   2.75\n",
       "Rolling 5 Past H&A Spread Avg_Away_Team               0.55\n",
       "Previous H&A Ranking_Away_Team                       99.00\n",
       "dtype: float64"
      ]
     },
     "execution_count": 56,
     "metadata": {},
     "output_type": "execute_result"
    }
   ],
   "source": [
    "# These are the values we'll use to fill in any missing values\n",
    "X_defaults_median = X_train.median()\n",
    "X_defaults_median"
   ]
  },
  {
   "cell_type": "code",
   "execution_count": 57,
   "id": "62c583a5",
   "metadata": {},
   "outputs": [],
   "source": [
    "#Code task 9#\n",
    "#Call `X_train` and `X_test`'s `fillna()` method, passing `X_defaults_median` as the values to use\n",
    "#Assign the results to `X_tr` and `X_te`, respectively\n",
    "X_tr = X_train.fillna(X_defaults_median)\n",
    "X_te = X_test.fillna(X_defaults_median)"
   ]
  },
  {
   "cell_type": "code",
   "execution_count": 58,
   "id": "a96da160",
   "metadata": {},
   "outputs": [],
   "source": [
    "#Code task 10#\n",
    "#Call the StandardScaler`s fit method on `X_tr` to fit the scaler\n",
    "#then use it's `transform()` method to apply the scaling to both the train and test split\n",
    "#data (`X_tr` and `X_te`), naming the results `X_tr_scaled` and `X_te_scaled`, respectively\n",
    "scaler = StandardScaler()\n",
    "scaler.fit(X_tr)\n",
    "X_tr_scaled = scaler.transform(X_tr)\n",
    "X_te_scaled = scaler.transform(X_te)"
   ]
  },
  {
   "cell_type": "markdown",
   "id": "d5b042e0",
   "metadata": {},
   "source": [
    "# 4.8.1.1.4 Train the model on the train split"
   ]
  },
  {
   "cell_type": "code",
   "execution_count": 59,
   "id": "149f0c0d",
   "metadata": {},
   "outputs": [],
   "source": [
    "lm = LinearRegression().fit(X_tr_scaled, y_train)"
   ]
  },
  {
   "cell_type": "code",
   "execution_count": 60,
   "id": "87581cc7",
   "metadata": {},
   "outputs": [],
   "source": [
    "#Code task 11#\n",
    "#Call the `predict()` method of the model (`lm`) on both the (scaled) train and test data\n",
    "#Assign the predictions to `y_tr_pred` and `y_te_pred`, respectively\n",
    "y_tr_pred = lm.predict(X_tr_scaled)\n",
    "y_te_pred = lm.predict(X_te_scaled)"
   ]
  },
  {
   "cell_type": "code",
   "execution_count": 61,
   "id": "34aeb78a",
   "metadata": {},
   "outputs": [
    {
     "data": {
      "text/plain": [
       "(0.024740378173001787, -0.002352222506164736)"
      ]
     },
     "execution_count": 61,
     "metadata": {},
     "output_type": "execute_result"
    }
   ],
   "source": [
    "# r^2 - train, test\n",
    "median_r2 = r2_score(y_train, y_tr_pred), r2_score(y_test, y_te_pred)\n",
    "median_r2"
   ]
  },
  {
   "cell_type": "code",
   "execution_count": 62,
   "id": "eb229567",
   "metadata": {},
   "outputs": [
    {
     "data": {
      "text/plain": [
       "(13.217781552654387, 12.883969379244782)"
      ]
     },
     "execution_count": 62,
     "metadata": {},
     "output_type": "execute_result"
    }
   ],
   "source": [
    "#Code task 12#\n",
    "#Now calculate the mean absolute error scores using `sklearn`'s `mean_absolute_error` function\n",
    "# as we did above for R^2\n",
    "# MAE - train, test\n",
    "median_mae = mean_absolute_error(y_train, y_tr_pred), mean_absolute_error(y_test, y_te_pred)\n",
    "median_mae"
   ]
  },
  {
   "cell_type": "code",
   "execution_count": 63,
   "id": "ef630a85",
   "metadata": {},
   "outputs": [
    {
     "data": {
      "text/plain": [
       "(281.4062412938376, 260.1679784675488)"
      ]
     },
     "execution_count": 63,
     "metadata": {},
     "output_type": "execute_result"
    }
   ],
   "source": [
    "#Code task 13#\n",
    "#And also do the same using `sklearn`'s `mean_squared_error`\n",
    "# MSE - train, test\n",
    "median_mse = mean_squared_error(y_train, y_tr_pred), mean_squared_error(y_test, y_te_pred)\n",
    "median_mse"
   ]
  },
  {
   "cell_type": "markdown",
   "id": "fdb05c9b",
   "metadata": {},
   "source": [
    "# 4.8.1.2 Impute missing values with the mean\n",
    "You chose to use the median for filling missing values because of the skew of many of our predictor feature distributions. What if you wanted to try something else, such as the mean?"
   ]
  },
  {
   "cell_type": "code",
   "execution_count": 64,
   "id": "1042d28b",
   "metadata": {},
   "outputs": [
    {
     "data": {
      "text/plain": [
       "Home Team Spread_x                                   -3.299191\n",
       "Away Team Spread_x                                    3.299191\n",
       "Total_x                                              51.659704\n",
       "Rolling 5 Past H&A Score_Home_Team                  127.638814\n",
       "Rolling 5 Past H&A Score Avg_Home_Team               25.527763\n",
       "Rolling 5 Past H&A 1st Downs_Home_Team               98.184636\n",
       "Rolling 5 Past H&A 1st Downs Avg_Home_Team           19.636927\n",
       "Rolling 5 Past H&A Total Yards_Home_Team           1860.398922\n",
       "Rolling 5 Past H&A Total Yards Avg_Home_Team        372.079784\n",
       "Rolling 5 Past H&A Yards per Pass_Home_Team          35.995418\n",
       "Rolling 5 Past H&A Yards per Pass Avg_Home_Team       7.199084\n",
       "Rolling 5 Past H&A Spread_Home_Team                   1.398248\n",
       "Rolling 5 Past H&A Spread Avg_Home_Team               0.279650\n",
       "Rolling 5 Past H&A Spread Min_Home_Team             -11.487197\n",
       "Rolling 5 Past H&A Score_Away_Team                  126.991914\n",
       "Rolling 5 Past H&A Score Avg_Away_Team               25.398383\n",
       "Rolling 5 Past H&A Score Max_Away_Team               40.346361\n",
       "Rolling 3 Past H&A Score_Away_Team                   76.900270\n",
       "Rolling 3 Past H&A Score Avg_Away_Team               25.633423\n",
       "Rolling 5 Past H&A 1st Downs_Away_Team               98.336927\n",
       "Rolling 5 Past H&A 1st Downs Avg_Away_Team           19.667385\n",
       "Rolling 5 Past H&A Total Yards_Away_Team           1857.831536\n",
       "Rolling 5 Past H&A Total Yards Avg_Away_Team        371.566307\n",
       "Rolling 5 Past H&A Yards per Pass_Away_Team          36.041644\n",
       "Rolling 5 Past H&A Yards per Pass Avg_Away_Team       7.208329\n",
       "Rolling 5 Past H&A Spread_Away_Team                   1.041779\n",
       "Rolling 5 Past H&A Spread Avg_Away_Team               0.208356\n",
       "Previous H&A Ranking_Away_Team                       61.074124\n",
       "dtype: float64"
      ]
     },
     "execution_count": 64,
     "metadata": {},
     "output_type": "execute_result"
    }
   ],
   "source": [
    "#Code task 14#\n",
    "#As we did for the median above, calculate mean values for imputing missing values\n",
    "# These are the values we'll use to fill in any missing values\n",
    "X_defaults_mean = X_train.mean()\n",
    "X_defaults_mean"
   ]
  },
  {
   "cell_type": "markdown",
   "id": "014f369c",
   "metadata": {},
   "source": [
    "# 4.8.1.2.2 Apply the imputation to both train and test splits"
   ]
  },
  {
   "cell_type": "code",
   "execution_count": 65,
   "id": "f7209ff8",
   "metadata": {},
   "outputs": [],
   "source": [
    "X_tr = X_train.fillna(X_defaults_mean)\n",
    "X_te = X_test.fillna(X_defaults_mean)"
   ]
  },
  {
   "cell_type": "markdown",
   "id": "56e20051",
   "metadata": {},
   "source": [
    "# 4.8.1.2.3 Scale the data"
   ]
  },
  {
   "cell_type": "code",
   "execution_count": 66,
   "id": "e6c2142e",
   "metadata": {},
   "outputs": [],
   "source": [
    "scaler = StandardScaler()\n",
    "scaler.fit(X_tr)\n",
    "X_tr_scaled = scaler.transform(X_tr)\n",
    "X_te_scaled = scaler.transform(X_te)"
   ]
  },
  {
   "cell_type": "markdown",
   "id": "8224e9bb",
   "metadata": {},
   "source": [
    "# 4.8.1.2.4 Train the model on the train split"
   ]
  },
  {
   "cell_type": "code",
   "execution_count": 67,
   "id": "73e34d9d",
   "metadata": {},
   "outputs": [],
   "source": [
    "lm = LinearRegression().fit(X_tr_scaled, y_train)"
   ]
  },
  {
   "cell_type": "markdown",
   "id": "4bc4ed8d",
   "metadata": {},
   "source": [
    "# .8.1.2.5 Make predictions using the model on both train and test splits"
   ]
  },
  {
   "cell_type": "code",
   "execution_count": 68,
   "id": "367653d1",
   "metadata": {},
   "outputs": [],
   "source": [
    "y_tr_pred = lm.predict(X_tr_scaled)\n",
    "y_te_pred = lm.predict(X_te_scaled)"
   ]
  },
  {
   "cell_type": "markdown",
   "id": "bcd95c29",
   "metadata": {},
   "source": [
    "# 4.8.1.2.6 Assess model performance"
   ]
  },
  {
   "cell_type": "code",
   "execution_count": 69,
   "id": "87e1fba8",
   "metadata": {},
   "outputs": [
    {
     "data": {
      "text/plain": [
       "(0.024740378173001787, -0.002352222506164736)"
      ]
     },
     "execution_count": 69,
     "metadata": {},
     "output_type": "execute_result"
    }
   ],
   "source": [
    "r2_score(y_train, y_tr_pred), r2_score(y_test, y_te_pred)"
   ]
  },
  {
   "cell_type": "code",
   "execution_count": 70,
   "id": "895bc189",
   "metadata": {},
   "outputs": [
    {
     "data": {
      "text/plain": [
       "(13.217781552654387, 12.883969379244782)"
      ]
     },
     "execution_count": 70,
     "metadata": {},
     "output_type": "execute_result"
    }
   ],
   "source": [
    "mean_absolute_error(y_train, y_tr_pred), mean_absolute_error(y_test, y_te_pred)"
   ]
  },
  {
   "cell_type": "code",
   "execution_count": 71,
   "id": "dcba420b",
   "metadata": {},
   "outputs": [
    {
     "data": {
      "text/plain": [
       "(281.4062412938376, 260.1679784675488)"
      ]
     },
     "execution_count": 71,
     "metadata": {},
     "output_type": "execute_result"
    }
   ],
   "source": [
    "mean_squared_error(y_train, y_tr_pred), mean_squared_error(y_test, y_te_pred)"
   ]
  },
  {
   "cell_type": "markdown",
   "id": "fcd510d2",
   "metadata": {},
   "source": [
    "# 4.8.2 Pipelines\n",
    "One of the most important and useful components of sklearn is the pipeline. In place of panda's fillna DataFrame method, there is sklearn's SimpleImputer. Remember the first linear model above performed the steps:"
   ]
  },
  {
   "cell_type": "markdown",
   "id": "94c4660a",
   "metadata": {},
   "source": [
    "# 4.8.2.1 Define the pipeline"
   ]
  },
  {
   "cell_type": "code",
   "execution_count": 72,
   "id": "8793582b",
   "metadata": {},
   "outputs": [],
   "source": [
    "pipe = make_pipeline(\n",
    "    SimpleImputer(strategy='median'), \n",
    "    StandardScaler(), \n",
    "    LinearRegression()\n",
    ")"
   ]
  },
  {
   "cell_type": "code",
   "execution_count": 73,
   "id": "dc01fd65",
   "metadata": {},
   "outputs": [
    {
     "data": {
      "text/plain": [
       "sklearn.pipeline.Pipeline"
      ]
     },
     "execution_count": 73,
     "metadata": {},
     "output_type": "execute_result"
    }
   ],
   "source": [
    "type(pipe)"
   ]
  },
  {
   "cell_type": "code",
   "execution_count": 74,
   "id": "a33f412b",
   "metadata": {},
   "outputs": [
    {
     "data": {
      "text/plain": [
       "(True, True)"
      ]
     },
     "execution_count": 74,
     "metadata": {},
     "output_type": "execute_result"
    }
   ],
   "source": [
    "hasattr(pipe, 'fit'), hasattr(pipe, 'predict')"
   ]
  },
  {
   "cell_type": "code",
   "execution_count": 75,
   "id": "6a94a921",
   "metadata": {},
   "outputs": [
    {
     "data": {
      "text/plain": [
       "Pipeline(steps=[('simpleimputer', SimpleImputer(strategy='median')),\n",
       "                ('standardscaler', StandardScaler()),\n",
       "                ('linearregression', LinearRegression())])"
      ]
     },
     "execution_count": 75,
     "metadata": {},
     "output_type": "execute_result"
    }
   ],
   "source": [
    "#Code task 15#\n",
    "#Call the pipe's `fit()` method with `X_train` and `y_train` as arguments\n",
    "pipe.fit(X_train, y_train)"
   ]
  },
  {
   "cell_type": "code",
   "execution_count": 76,
   "id": "e4a14dde",
   "metadata": {},
   "outputs": [],
   "source": [
    "y_tr_pred = pipe.predict(X_train)\n",
    "y_te_pred = pipe.predict(X_test)"
   ]
  },
  {
   "cell_type": "code",
   "execution_count": 77,
   "id": "1433f992",
   "metadata": {},
   "outputs": [
    {
     "data": {
      "text/plain": [
       "(0.024740378173001787, -0.002352222506164736)"
      ]
     },
     "execution_count": 77,
     "metadata": {},
     "output_type": "execute_result"
    }
   ],
   "source": [
    "r2_score(y_train, y_tr_pred), r2_score(y_test, y_te_pred)\n"
   ]
  },
  {
   "cell_type": "code",
   "execution_count": 78,
   "id": "df76bc9c",
   "metadata": {},
   "outputs": [
    {
     "data": {
      "text/plain": [
       "(0.024740378173001787, -0.002352222506164736)"
      ]
     },
     "execution_count": 78,
     "metadata": {},
     "output_type": "execute_result"
    }
   ],
   "source": [
    "median_r2"
   ]
  },
  {
   "cell_type": "code",
   "execution_count": 79,
   "id": "7346ae11",
   "metadata": {},
   "outputs": [
    {
     "data": {
      "text/plain": [
       "(13.217781552654387, 12.883969379244782)"
      ]
     },
     "execution_count": 79,
     "metadata": {},
     "output_type": "execute_result"
    }
   ],
   "source": [
    "mean_absolute_error(y_train, y_tr_pred), mean_absolute_error(y_test, y_te_pred)"
   ]
  },
  {
   "cell_type": "code",
   "execution_count": 80,
   "id": "8d9bf77e",
   "metadata": {},
   "outputs": [],
   "source": [
    "#Compare with your earlier result:"
   ]
  },
  {
   "cell_type": "code",
   "execution_count": 81,
   "id": "d488bda3",
   "metadata": {},
   "outputs": [
    {
     "data": {
      "text/plain": [
       "(13.217781552654387, 12.883969379244782)"
      ]
     },
     "execution_count": 81,
     "metadata": {},
     "output_type": "execute_result"
    }
   ],
   "source": [
    "median_mae"
   ]
  },
  {
   "cell_type": "code",
   "execution_count": 82,
   "id": "d911fbb6",
   "metadata": {},
   "outputs": [
    {
     "data": {
      "text/plain": [
       "(281.4062412938376, 260.1679784675488)"
      ]
     },
     "execution_count": 82,
     "metadata": {},
     "output_type": "execute_result"
    }
   ],
   "source": [
    "mean_squared_error(y_train, y_tr_pred), mean_squared_error(y_test, y_te_pred)"
   ]
  },
  {
   "cell_type": "markdown",
   "id": "cc65bc76",
   "metadata": {},
   "source": [
    "# Compare with your earlier result:"
   ]
  },
  {
   "cell_type": "code",
   "execution_count": 83,
   "id": "b797ce8e",
   "metadata": {},
   "outputs": [
    {
     "data": {
      "text/plain": [
       "(281.4062412938376, 260.1679784675488)"
      ]
     },
     "execution_count": 83,
     "metadata": {},
     "output_type": "execute_result"
    }
   ],
   "source": [
    "median_mse"
   ]
  },
  {
   "cell_type": "markdown",
   "id": "4a839117",
   "metadata": {},
   "source": [
    "# 4.9 Refining The Linear Model\n",
    "You suspected the model was overfitting. This is no real surprise given the number of features you blindly used. It's likely a judicious subset of features would generalize better. sklearn has a number of feature selection functions available. The one you'll use here is SelectKBest which, as you might guess, selects the k best features. You can read about SelectKBest here. f_regression is just the score function you're using because you're performing regression. It's important to choose an appropriate one for your machine learning task."
   ]
  },
  {
   "cell_type": "markdown",
   "id": "de441f72",
   "metadata": {},
   "source": [
    "# 4.9.1 Define the pipeline\n",
    "Redefine your pipeline to include this feature selection step:"
   ]
  },
  {
   "cell_type": "code",
   "execution_count": 84,
   "id": "35a2f6d0",
   "metadata": {},
   "outputs": [],
   "source": [
    "#Code task 16#\n",
    "#Add `SelectKBest` as a step in the pipeline between `StandardScaler()` and `LinearRegression()`\n",
    "#Don't forget to tell it to use `f_regression` as its score function\n",
    "pipe = make_pipeline(\n",
    "    SimpleImputer(strategy='median'), \n",
    "    StandardScaler(),\n",
    "    SelectKBest(f_regression),\n",
    "    LinearRegression()\n",
    ")"
   ]
  },
  {
   "cell_type": "markdown",
   "id": "6842a551",
   "metadata": {},
   "source": [
    "# 4.9.2 Fit the pipeline"
   ]
  },
  {
   "cell_type": "code",
   "execution_count": 85,
   "id": "e7b19158",
   "metadata": {},
   "outputs": [
    {
     "data": {
      "text/plain": [
       "Pipeline(steps=[('simpleimputer', SimpleImputer(strategy='median')),\n",
       "                ('standardscaler', StandardScaler()),\n",
       "                ('selectkbest',\n",
       "                 SelectKBest(score_func=<function f_regression at 0x7fed09b6b790>)),\n",
       "                ('linearregression', LinearRegression())])"
      ]
     },
     "execution_count": 85,
     "metadata": {},
     "output_type": "execute_result"
    }
   ],
   "source": [
    "pipe.fit(X_train, y_train)"
   ]
  },
  {
   "cell_type": "code",
   "execution_count": 86,
   "id": "98457fb2",
   "metadata": {},
   "outputs": [],
   "source": [
    "y_tr_pred = pipe.predict(X_train)\n",
    "y_te_pred = pipe.predict(X_test)"
   ]
  },
  {
   "cell_type": "code",
   "execution_count": 87,
   "id": "f792579f",
   "metadata": {},
   "outputs": [
    {
     "data": {
      "text/plain": [
       "(0.0135332463069745, -0.004852797977340284)"
      ]
     },
     "execution_count": 87,
     "metadata": {},
     "output_type": "execute_result"
    }
   ],
   "source": [
    "r2_score(y_train, y_tr_pred), r2_score(y_test, y_te_pred)"
   ]
  },
  {
   "cell_type": "code",
   "execution_count": 88,
   "id": "d0e99301",
   "metadata": {},
   "outputs": [
    {
     "data": {
      "text/plain": [
       "(13.256173021096975, 12.954594693042347)"
      ]
     },
     "execution_count": 88,
     "metadata": {},
     "output_type": "execute_result"
    }
   ],
   "source": [
    "mean_absolute_error(y_train, y_tr_pred), mean_absolute_error(y_test, y_te_pred)"
   ]
  },
  {
   "cell_type": "markdown",
   "id": "c9cdcf38",
   "metadata": {},
   "source": [
    "# 4.9.4 Define a new pipeline to select a different number of features"
   ]
  },
  {
   "cell_type": "code",
   "execution_count": 89,
   "id": "d69278ed",
   "metadata": {},
   "outputs": [],
   "source": [
    "#Code task 17#\n",
    "#Modify the `SelectKBest` step to use a value of 15 for k\n",
    "pipe15 = make_pipeline(\n",
    "    SimpleImputer(strategy='median'), \n",
    "    StandardScaler(),\n",
    "    SelectKBest(f_regression, k=15),\n",
    "    LinearRegression()\n",
    ")"
   ]
  },
  {
   "cell_type": "markdown",
   "id": "35303438",
   "metadata": {},
   "source": [
    "# 4.9.5 Fit the pipeline"
   ]
  },
  {
   "cell_type": "code",
   "execution_count": 90,
   "id": "a730fa79",
   "metadata": {},
   "outputs": [
    {
     "data": {
      "text/plain": [
       "Pipeline(steps=[('simpleimputer', SimpleImputer(strategy='median')),\n",
       "                ('standardscaler', StandardScaler()),\n",
       "                ('selectkbest',\n",
       "                 SelectKBest(k=15,\n",
       "                             score_func=<function f_regression at 0x7fed09b6b790>)),\n",
       "                ('linearregression', LinearRegression())])"
      ]
     },
     "execution_count": 90,
     "metadata": {},
     "output_type": "execute_result"
    }
   ],
   "source": [
    "pipe15.fit(X_train, y_train)"
   ]
  },
  {
   "cell_type": "markdown",
   "id": "5dad62de",
   "metadata": {},
   "source": [
    "# 4.9.6 Assess performance on train and test data"
   ]
  },
  {
   "cell_type": "code",
   "execution_count": 91,
   "id": "3abf92f3",
   "metadata": {},
   "outputs": [],
   "source": [
    "y_tr_pred = pipe15.predict(X_train)\n",
    "y_te_pred = pipe15.predict(X_test)"
   ]
  },
  {
   "cell_type": "code",
   "execution_count": 92,
   "id": "0abf5f05",
   "metadata": {},
   "outputs": [
    {
     "data": {
      "text/plain": [
       "(0.015169263952846124, -0.0008008226753266623)"
      ]
     },
     "execution_count": 92,
     "metadata": {},
     "output_type": "execute_result"
    }
   ],
   "source": [
    "r2_score(y_train, y_tr_pred), r2_score(y_test, y_te_pred)"
   ]
  },
  {
   "cell_type": "code",
   "execution_count": 93,
   "id": "7b6703ba",
   "metadata": {},
   "outputs": [
    {
     "data": {
      "text/plain": [
       "(13.269092883750705, 12.918963739636228)"
      ]
     },
     "execution_count": 93,
     "metadata": {},
     "output_type": "execute_result"
    }
   ],
   "source": [
    "mean_absolute_error(y_train, y_tr_pred), mean_absolute_error(y_test, y_te_pred)"
   ]
  },
  {
   "cell_type": "markdown",
   "id": "1110648f",
   "metadata": {},
   "source": [
    "# 4.9.7 Assessing performance using cross-validation"
   ]
  },
  {
   "cell_type": "code",
   "execution_count": 94,
   "id": "184d5a0a",
   "metadata": {},
   "outputs": [],
   "source": [
    "cv_results = cross_validate(pipe15, X_train, y_train, cv=5)"
   ]
  },
  {
   "cell_type": "code",
   "execution_count": 95,
   "id": "37519070",
   "metadata": {},
   "outputs": [
    {
     "data": {
      "text/plain": [
       "array([-0.00342059, -0.01239324, -0.00790356, -0.07590266, -0.02537062])"
      ]
     },
     "execution_count": 95,
     "metadata": {},
     "output_type": "execute_result"
    }
   ],
   "source": [
    "cv_scores = cv_results['test_score']\n",
    "cv_scores"
   ]
  },
  {
   "cell_type": "code",
   "execution_count": 96,
   "id": "54d1c340",
   "metadata": {},
   "outputs": [
    {
     "data": {
      "text/plain": [
       "(-0.024998134722279054, 0.02648814001864731)"
      ]
     },
     "execution_count": 96,
     "metadata": {},
     "output_type": "execute_result"
    }
   ],
   "source": [
    "np.mean(cv_scores), np.std(cv_scores)"
   ]
  },
  {
   "cell_type": "code",
   "execution_count": 97,
   "id": "0ec25830",
   "metadata": {},
   "outputs": [
    {
     "data": {
      "text/plain": [
       "array([-0.08,  0.03])"
      ]
     },
     "execution_count": 97,
     "metadata": {},
     "output_type": "execute_result"
    }
   ],
   "source": [
    "np.round((np.mean(cv_scores) - 2 * np.std(cv_scores), np.mean(cv_scores) + 2 * np.std(cv_scores)), 2)"
   ]
  },
  {
   "cell_type": "markdown",
   "id": "c1ed5e58",
   "metadata": {},
   "source": [
    "# 4.9.8 Hyperparameter search using GridSearchCV"
   ]
  },
  {
   "cell_type": "code",
   "execution_count": 98,
   "id": "afa626b7",
   "metadata": {},
   "outputs": [
    {
     "data": {
      "text/plain": [
       "dict_keys(['memory', 'steps', 'verbose', 'simpleimputer', 'standardscaler', 'selectkbest', 'linearregression', 'simpleimputer__add_indicator', 'simpleimputer__copy', 'simpleimputer__fill_value', 'simpleimputer__missing_values', 'simpleimputer__strategy', 'simpleimputer__verbose', 'standardscaler__copy', 'standardscaler__with_mean', 'standardscaler__with_std', 'selectkbest__k', 'selectkbest__score_func', 'linearregression__copy_X', 'linearregression__fit_intercept', 'linearregression__n_jobs', 'linearregression__normalize', 'linearregression__positive'])"
      ]
     },
     "execution_count": 98,
     "metadata": {},
     "output_type": "execute_result"
    }
   ],
   "source": [
    "#Code task 18#\n",
    "#Call `pipe`'s `get_params()` method to get a dict of available parameters and print their names\n",
    "#using dict's `keys()` method\n",
    "pipe.get_params().keys()"
   ]
  },
  {
   "cell_type": "code",
   "execution_count": 99,
   "id": "575ff8e6",
   "metadata": {},
   "outputs": [],
   "source": [
    "k = [k+1 for k in range(len(X_train.columns))]\n",
    "grid_params = {'selectkbest__k': k}"
   ]
  },
  {
   "cell_type": "code",
   "execution_count": 100,
   "id": "0f5a9227",
   "metadata": {},
   "outputs": [],
   "source": [
    "lr_grid_cv = GridSearchCV(pipe, param_grid=grid_params, cv=5, n_jobs=-1)"
   ]
  },
  {
   "cell_type": "code",
   "execution_count": 101,
   "id": "5fa88feb",
   "metadata": {},
   "outputs": [
    {
     "data": {
      "text/plain": [
       "GridSearchCV(cv=5,\n",
       "             estimator=Pipeline(steps=[('simpleimputer',\n",
       "                                        SimpleImputer(strategy='median')),\n",
       "                                       ('standardscaler', StandardScaler()),\n",
       "                                       ('selectkbest',\n",
       "                                        SelectKBest(score_func=<function f_regression at 0x7fed09b6b790>)),\n",
       "                                       ('linearregression',\n",
       "                                        LinearRegression())]),\n",
       "             n_jobs=-1,\n",
       "             param_grid={'selectkbest__k': [1, 2, 3, 4, 5, 6, 7, 8, 9, 10, 11,\n",
       "                                            12, 13, 14, 15, 16, 17, 18, 19, 20,\n",
       "                                            21, 22, 23, 24, 25, 26, 27, 28]})"
      ]
     },
     "execution_count": 101,
     "metadata": {},
     "output_type": "execute_result"
    }
   ],
   "source": [
    "lr_grid_cv.fit(X_train, y_train)"
   ]
  },
  {
   "cell_type": "code",
   "execution_count": 102,
   "id": "9e43ba63",
   "metadata": {},
   "outputs": [],
   "source": [
    "score_mean = lr_grid_cv.cv_results_['mean_test_score']\n",
    "score_std = lr_grid_cv.cv_results_['std_test_score']\n",
    "cv_k = [k for k in lr_grid_cv.cv_results_['param_selectkbest__k']]"
   ]
  },
  {
   "cell_type": "code",
   "execution_count": 103,
   "id": "6abdd70c",
   "metadata": {},
   "outputs": [
    {
     "data": {
      "text/plain": [
       "{'selectkbest__k': 2}"
      ]
     },
     "execution_count": 103,
     "metadata": {},
     "output_type": "execute_result"
    }
   ],
   "source": [
    "lr_grid_cv.best_params_"
   ]
  },
  {
   "cell_type": "code",
   "execution_count": 104,
   "id": "ac87d436",
   "metadata": {},
   "outputs": [
    {
     "data": {
      "image/png": "[encoded data removed]",
      "text/plain": [
       "<Figure size 720x360 with 1 Axes>"
      ]
     },
     "metadata": {
      "needs_background": "light"
     },
     "output_type": "display_data"
    }
   ],
   "source": [
    "best_k = lr_grid_cv.best_params_['selectkbest__k']\n",
    "plt.subplots(figsize=(10, 5))\n",
    "plt.errorbar(cv_k, score_mean, yerr=score_std)\n",
    "plt.axvline(x=best_k, c='r', ls='--', alpha=.5)\n",
    "plt.xlabel('k')\n",
    "plt.ylabel('CV score (r-squared)')\n",
    "plt.title('Pipeline mean CV score (error bars +/- 1sd)');"
   ]
  },
  {
   "cell_type": "code",
   "execution_count": 105,
   "id": "25ba0c1e",
   "metadata": {},
   "outputs": [],
   "source": [
    "selected = lr_grid_cv.best_estimator_.named_steps.selectkbest.get_support()"
   ]
  },
  {
   "cell_type": "code",
   "execution_count": 106,
   "id": "eafe5541",
   "metadata": {},
   "outputs": [
    {
     "data": {
      "text/plain": [
       "Rolling 5 Past H&A 1st Downs Avg_Home_Team    1.169465\n",
       "Previous H&A Ranking_Away_Team               -1.478113\n",
       "dtype: float64"
      ]
     },
     "execution_count": 106,
     "metadata": {},
     "output_type": "execute_result"
    }
   ],
   "source": [
    "#Code task 21#\n",
    "#Get the linear model coefficients from the `coef_` attribute and store in `coefs`,\n",
    "#get the matching feature names from the column names of the dataframe,\n",
    "#and display the results as a pandas Series with `coefs` as the values and `features` as the index,\n",
    "#sorting the values in descending order\n",
    "coefs = lr_grid_cv.best_estimator_.named_steps.linearregression.coef_\n",
    "features = X_train.columns[selected]\n",
    "pd.Series(coefs, index=features).sort_values(ascending=False)"
   ]
  },
  {
   "cell_type": "markdown",
   "id": "f3e6e7e2",
   "metadata": {},
   "source": [
    "# 4.10 Random Forest Model\n",
    "A model that can work very well in a lot of cases is the random forest. For regression, this is provided by sklearn's RandomForestRegressor class.\n",
    "\n",
    "Time to stop the bad practice of repeatedly checking performance on the test split. Instead, go straight from defining the pipeline to assessing performance using cross-validation. cross_validate will perform the fitting as part of the process. This uses the default settings for the random forest so you'll then proceed to investigate some different hyperparameters."
   ]
  },
  {
   "cell_type": "code",
   "execution_count": 107,
   "id": "e4b199ae",
   "metadata": {},
   "outputs": [],
   "source": [
    "#Code task 22#\n",
    "#Define a pipeline comprising the steps:\n",
    "#SimpleImputer() with a strategy of 'median'\n",
    "#StandardScaler(),\n",
    "#and then RandomForestRegressor() with a random state of 47\n",
    "RF_pipe = make_pipeline(\n",
    "    SimpleImputer(strategy='median'),\n",
    "    StandardScaler(),\n",
    "    RandomForestRegressor(random_state=47)\n",
    ")"
   ]
  },
  {
   "cell_type": "markdown",
   "id": "56349c8b",
   "metadata": {},
   "source": [
    "# 4.10.2 Fit and assess performance using cross-validation"
   ]
  },
  {
   "cell_type": "code",
   "execution_count": 108,
   "id": "eae81f7d",
   "metadata": {},
   "outputs": [],
   "source": [
    "#Code task 23#\n",
    "#Call `cross_validate` to estimate the pipeline's performance.\n",
    "#Pass it the random forest pipe object, `X_train` and `y_train`,\n",
    "#and get it to use 5-fold cross-validation\n",
    "rf_default_cv_results = cross_validate(RF_pipe, X_train,y_train, cv=5)"
   ]
  },
  {
   "cell_type": "code",
   "execution_count": 109,
   "id": "cf3c3845",
   "metadata": {},
   "outputs": [
    {
     "data": {
      "text/plain": [
       "array([-0.06022014, -0.10855471, -0.04673425, -0.13061758, -0.10739352])"
      ]
     },
     "execution_count": 109,
     "metadata": {},
     "output_type": "execute_result"
    }
   ],
   "source": [
    "rf_cv_scores = rf_default_cv_results['test_score']\n",
    "rf_cv_scores"
   ]
  },
  {
   "cell_type": "code",
   "execution_count": 110,
   "id": "8ef3af04",
   "metadata": {},
   "outputs": [
    {
     "data": {
      "text/plain": [
       "(-0.09070403946340018, 0.03178957708117895)"
      ]
     },
     "execution_count": 110,
     "metadata": {},
     "output_type": "execute_result"
    }
   ],
   "source": [
    "np.mean(rf_cv_scores), np.std(rf_cv_scores)"
   ]
  },
  {
   "cell_type": "code",
   "execution_count": 111,
   "id": "61f9e5e7",
   "metadata": {},
   "outputs": [
    {
     "data": {
      "text/plain": [
       "{'randomforestregressor__n_estimators': [10,\n",
       "  12,\n",
       "  16,\n",
       "  20,\n",
       "  26,\n",
       "  33,\n",
       "  42,\n",
       "  54,\n",
       "  69,\n",
       "  88,\n",
       "  112,\n",
       "  143,\n",
       "  183,\n",
       "  233,\n",
       "  297,\n",
       "  379,\n",
       "  483,\n",
       "  615,\n",
       "  784,\n",
       "  1000],\n",
       " 'standardscaler': [StandardScaler(), None],\n",
       " 'simpleimputer__strategy': ['mean', 'median']}"
      ]
     },
     "execution_count": 111,
     "metadata": {},
     "output_type": "execute_result"
    }
   ],
   "source": [
    "n_est = [int(n) for n in np.logspace(start=1, stop=3, num=20)]\n",
    "grid_params = {\n",
    "        'randomforestregressor__n_estimators': n_est,\n",
    "        'standardscaler': [StandardScaler(), None],\n",
    "        'simpleimputer__strategy': ['mean', 'median']\n",
    "}\n",
    "grid_params"
   ]
  },
  {
   "cell_type": "code",
   "execution_count": 112,
   "id": "37011e35",
   "metadata": {},
   "outputs": [],
   "source": [
    "#Code task 24#\n",
    "#Call `GridSearchCV` with the random forest pipeline, passing in the above `grid_params`\n",
    "#dict for parameters to evaluate, 5-fold cross-validation, and all available CPU cores (if desired)\n",
    "rf_grid_cv = GridSearchCV(RF_pipe, param_grid=grid_params, cv=5, n_jobs=-1)"
   ]
  },
  {
   "cell_type": "code",
   "execution_count": 113,
   "id": "5b266463",
   "metadata": {},
   "outputs": [
    {
     "data": {
      "text/plain": [
       "GridSearchCV(cv=5,\n",
       "             estimator=Pipeline(steps=[('simpleimputer',\n",
       "                                        SimpleImputer(strategy='median')),\n",
       "                                       ('standardscaler', StandardScaler()),\n",
       "                                       ('randomforestregressor',\n",
       "                                        RandomForestRegressor(random_state=47))]),\n",
       "             n_jobs=-1,\n",
       "             param_grid={'randomforestregressor__n_estimators': [10, 12, 16, 20,\n",
       "                                                                 26, 33, 42, 54,\n",
       "                                                                 69, 88, 112,\n",
       "                                                                 143, 183, 233,\n",
       "                                                                 297, 379, 483,\n",
       "                                                                 615, 784,\n",
       "                                                                 1000],\n",
       "                         'simpleimputer__strategy': ['mean', 'median'],\n",
       "                         'standardscaler': [StandardScaler(), None]})"
      ]
     },
     "execution_count": 113,
     "metadata": {},
     "output_type": "execute_result"
    }
   ],
   "source": [
    "#Code task 25#\n",
    "#Now call the `GridSearchCV`'s `fit()` method with `X_train` and `y_train` as arguments\n",
    "#to actually start the grid search. This may take a minute or two.\n",
    "rf_grid_cv.fit(X_train, y_train)"
   ]
  },
  {
   "cell_type": "code",
   "execution_count": 114,
   "id": "7f9f30f9",
   "metadata": {},
   "outputs": [
    {
     "data": {
      "text/plain": [
       "{'randomforestregressor__n_estimators': 483,\n",
       " 'simpleimputer__strategy': 'mean',\n",
       " 'standardscaler': StandardScaler()}"
      ]
     },
     "execution_count": 114,
     "metadata": {},
     "output_type": "execute_result"
    }
   ],
   "source": [
    "#Code task 26#\n",
    "#Print the best params (`best_params_` attribute) from the grid search\n",
    "rf_grid_cv.best_params_"
   ]
  },
  {
   "cell_type": "code",
   "execution_count": 115,
   "id": "614d3296",
   "metadata": {},
   "outputs": [
    {
     "data": {
      "text/plain": [
       "array([-0.03117779, -0.05756978, -0.06358983, -0.10005739, -0.09014341])"
      ]
     },
     "execution_count": 115,
     "metadata": {},
     "output_type": "execute_result"
    }
   ],
   "source": [
    "rf_best_cv_results = cross_validate(rf_grid_cv.best_estimator_, X_train, y_train, cv=5)\n",
    "rf_best_scores = rf_best_cv_results['test_score']\n",
    "rf_best_scores"
   ]
  },
  {
   "cell_type": "code",
   "execution_count": 116,
   "id": "5221d216",
   "metadata": {},
   "outputs": [
    {
     "data": {
      "text/plain": [
       "(-0.06850763847095562, 0.024498295138775585)"
      ]
     },
     "execution_count": 116,
     "metadata": {},
     "output_type": "execute_result"
    }
   ],
   "source": [
    "np.mean(rf_best_scores), np.std(rf_best_scores)"
   ]
  },
  {
   "cell_type": "code",
   "execution_count": 117,
   "id": "7bbc072e",
   "metadata": {},
   "outputs": [],
   "source": [
    "#Code task 27#\n",
    "#Plot a barplot of the random forest's feature importances,\n",
    "#assigning the `feature_importances_` attribute of \n",
    "#`rf_grid_cv.best_estimator_.named_steps.randomforestregressor` to the name `imps` to then\n",
    "#create a pandas Series object of the feature importances, with the index given by the\n",
    "#training data column names, sorting the values in descending order\n",
    "#plt.subplots(figsize=(60, 10))\n",
    "#imps = rf_grid_cv.best_estimator_.named_steps.randomforestregressor.feature_importances_\n",
    "#rf_feat_imps = pd.Series(imps, index=X_train.columns).sort_values(ascending=False)\n",
    "#rf_feat_imps.plot(kind='bar')\n",
    "#plt.xlabel('features')\n",
    "#plt.ylabel('importance')\n",
    "#plt.title('Best random forest regressor feature importances');"
   ]
  },
  {
   "cell_type": "markdown",
   "id": "69d669ac",
   "metadata": {},
   "source": [
    "# 4.11 Final Model Selection"
   ]
  },
  {
   "cell_type": "markdown",
   "id": "0eb9bffb",
   "metadata": {},
   "source": [
    "# 4.11.1 Linear regression model performance"
   ]
  },
  {
   "cell_type": "code",
   "execution_count": 118,
   "id": "475b352e",
   "metadata": {},
   "outputs": [],
   "source": [
    "# 'neg_mean_absolute_error' uses the (negative of) the mean absolute error\n",
    "lr_neg_mae = cross_validate(lr_grid_cv.best_estimator_, X_train, y_train, \n",
    "                            scoring='neg_mean_absolute_error', cv=5, n_jobs=-1)"
   ]
  },
  {
   "cell_type": "code",
   "execution_count": 119,
   "id": "dee6caf4",
   "metadata": {},
   "outputs": [
    {
     "data": {
      "text/plain": [
       "(13.378009510528846, 0.6909267021713086)"
      ]
     },
     "execution_count": 119,
     "metadata": {},
     "output_type": "execute_result"
    }
   ],
   "source": [
    "lr_mae_mean = np.mean(-1 * lr_neg_mae['test_score'])\n",
    "lr_mae_std = np.std(-1 * lr_neg_mae['test_score'])\n",
    "lr_mae_mean, lr_mae_std"
   ]
  },
  {
   "cell_type": "code",
   "execution_count": 120,
   "id": "1db41ec0",
   "metadata": {},
   "outputs": [
    {
     "data": {
      "text/plain": [
       "12.968171690800993"
      ]
     },
     "execution_count": 120,
     "metadata": {},
     "output_type": "execute_result"
    }
   ],
   "source": [
    "mean_absolute_error(y_test, lr_grid_cv.best_estimator_.predict(X_test))"
   ]
  },
  {
   "cell_type": "code",
   "execution_count": 121,
   "id": "794e8e12",
   "metadata": {},
   "outputs": [],
   "source": [
    "rf_neg_mae = cross_validate(rf_grid_cv.best_estimator_, X_train, y_train, \n",
    "                            scoring='neg_mean_absolute_error', cv=5, n_jobs=-1)"
   ]
  },
  {
   "cell_type": "code",
   "execution_count": 122,
   "id": "348fdf03",
   "metadata": {},
   "outputs": [
    {
     "data": {
      "text/plain": [
       "(13.763538036765349, 0.7402797703873428)"
      ]
     },
     "execution_count": 122,
     "metadata": {},
     "output_type": "execute_result"
    }
   ],
   "source": [
    "rf_mae_mean = np.mean(-1 * rf_neg_mae['test_score'])\n",
    "rf_mae_std = np.std(-1 * rf_neg_mae['test_score'])\n",
    "rf_mae_mean, rf_mae_std"
   ]
  },
  {
   "cell_type": "code",
   "execution_count": 123,
   "id": "57b5fd77",
   "metadata": {},
   "outputs": [
    {
     "data": {
      "text/plain": [
       "12.849612636078273"
      ]
     },
     "execution_count": 123,
     "metadata": {},
     "output_type": "execute_result"
    }
   ],
   "source": [
    "mean_absolute_error(y_test, rf_grid_cv.best_estimator_.predict(X_test))"
   ]
  },
  {
   "cell_type": "markdown",
   "id": "b61d2cf0",
   "metadata": {},
   "source": [
    "# 4.12 Data quantity assessment"
   ]
  },
  {
   "cell_type": "code",
   "execution_count": 124,
   "id": "4ea58bc9",
   "metadata": {},
   "outputs": [],
   "source": [
    "fractions = [.2, .25, .3, .35, .4, .45, .5, .6, .75, .8, 1.0]\n",
    "train_size, train_scores, test_scores = learning_curve(pipe, X_train, y_train, train_sizes=fractions)\n",
    "train_scores_mean = np.mean(train_scores, axis=1)\n",
    "train_scores_std = np.std(train_scores, axis=1)\n",
    "test_scores_mean = np.mean(test_scores, axis=1)\n",
    "test_scores_std = np.std(test_scores, axis=1)"
   ]
  },
  {
   "cell_type": "code",
   "execution_count": 125,
   "id": "6ffdb505",
   "metadata": {},
   "outputs": [
    {
     "data": {
      "image/png": "[encoded data removed]",
      "text/plain": [
       "<Figure size 720x360 with 1 Axes>"
      ]
     },
     "metadata": {
      "needs_background": "light"
     },
     "output_type": "display_data"
    }
   ],
   "source": [
    "plt.subplots(figsize=(10, 5))\n",
    "plt.errorbar(train_size, test_scores_mean, yerr=test_scores_std)\n",
    "plt.xlabel('Training set size')\n",
    "plt.ylabel('CV scores')\n",
    "plt.title('Cross-validation score as training set size increases');"
   ]
  },
  {
   "cell_type": "code",
   "execution_count": 126,
   "id": "2a1c21ab",
   "metadata": {},
   "outputs": [],
   "source": [
    "#Code task 28#\n",
    "#This may not be \"production grade ML deployment\" practice, but adding some basic\n",
    "#information to your saved models can save your bacon in development.\n",
    "#Just what version model have you just loaded to reuse? What version of `sklearn`\n",
    "#created it? When did you make it?\n",
    "#Assign the pandas version number (`pd.__version__`) to the `pandas_version` attribute,\n",
    "#the numpy version (`np.__version__`) to the `numpy_version` attribute,\n",
    "#the sklearn version (`sklearn_version`) to the `sklearn_version` attribute,\n",
    "#and the current datetime (`datetime.datetime.now()`) to the `build_datetime` attribute\n",
    "#Let's call this model version '1.0'\n",
    "best_model = rf_grid_cv.best_estimator_\n"
   ]
  },
  {
   "cell_type": "code",
   "execution_count": 127,
   "id": "b4d7fadb",
   "metadata": {},
   "outputs": [
    {
     "data": {
      "text/plain": [
       "Pipeline(steps=[('simpleimputer', SimpleImputer()),\n",
       "                ('standardscaler', StandardScaler()),\n",
       "                ('randomforestregressor',\n",
       "                 RandomForestRegressor(n_estimators=483, random_state=47))])"
      ]
     },
     "execution_count": 127,
     "metadata": {},
     "output_type": "execute_result"
    }
   ],
   "source": [
    "best_model"
   ]
  },
  {
   "cell_type": "markdown",
   "id": "7e6411dc",
   "metadata": {},
   "source": [
    "# Prediction for upcoming games 10/16/21 test run"
   ]
  },
  {
   "cell_type": "code",
   "execution_count": 133,
   "id": "1996465c",
   "metadata": {},
   "outputs": [],
   "source": [
    "df2=pd.read_excel(r'/Users/markclampitt/Documents/Springboard/Capstone2/Data\\new_df.xlsx')"
   ]
  },
  {
   "cell_type": "code",
   "execution_count": 134,
   "id": "143a576e",
   "metadata": {},
   "outputs": [],
   "source": [
    "#Upcoming_Game_df = pd.get_dummies(Upcoming_Game_df,columns=['Away Team'],drop_first=True,prefix='A')"
   ]
  },
  {
   "cell_type": "code",
   "execution_count": 135,
   "id": "41929379",
   "metadata": {},
   "outputs": [],
   "source": [
    "#Upcoming_Game_df = pd.get_dummies(Upcoming_Game_df,columns=['Home Team'],drop_first=True,prefix='H')"
   ]
  },
  {
   "cell_type": "code",
   "execution_count": 136,
   "id": "63aba6fa",
   "metadata": {},
   "outputs": [],
   "source": [
    "#Upcoming_Game_df = pd.get_dummies(Upcoming_Game_df,columns=['Year'],drop_first=True,prefix='Y')"
   ]
  },
  {
   "cell_type": "code",
   "execution_count": 137,
   "id": "a1700162",
   "metadata": {},
   "outputs": [],
   "source": [
    "df2['Total Score'] = df2['Home Score_x_x']+ df2['Away Score_x_x']\n",
    "df2['Total over/under'] = df2['Total Score'] - df2['Total_x']"
   ]
  },
  {
   "cell_type": "code",
   "execution_count": 138,
   "id": "ae4a53fd",
   "metadata": {},
   "outputs": [],
   "source": [
    "df2.drop('Away Score_x_x', axis=1, inplace=True)\n",
    "df2.drop('Home Score_x_x', axis=1, inplace=True)\n",
    "df2.drop('Total Score',axis=1,inplace=True)"
   ]
  },
  {
   "cell_type": "code",
   "execution_count": 139,
   "id": "7fda922e",
   "metadata": {},
   "outputs": [],
   "source": [
    "#Upcoming_Game_df.drop('Date', axis=1, inplace=True)"
   ]
  },
  {
   "cell_type": "code",
   "execution_count": 140,
   "id": "c46436a2",
   "metadata": {},
   "outputs": [],
   "source": [
    "best_model.X_columns = [col for col in X_train.columns]"
   ]
  },
  {
   "cell_type": "code",
   "execution_count": 141,
   "id": "89744e14",
   "metadata": {},
   "outputs": [
    {
     "data": {
      "text/plain": [
       "['Home Team Spread_x',\n",
       " 'Away Team Spread_x',\n",
       " 'Total_x',\n",
       " 'Rolling 5 Past H&A Score_Home_Team',\n",
       " 'Rolling 5 Past H&A Score Avg_Home_Team',\n",
       " 'Rolling 5 Past H&A 1st Downs_Home_Team',\n",
       " 'Rolling 5 Past H&A 1st Downs Avg_Home_Team',\n",
       " 'Rolling 5 Past H&A Total Yards_Home_Team',\n",
       " 'Rolling 5 Past H&A Total Yards Avg_Home_Team',\n",
       " 'Rolling 5 Past H&A Yards per Pass_Home_Team',\n",
       " 'Rolling 5 Past H&A Yards per Pass Avg_Home_Team',\n",
       " 'Rolling 5 Past H&A Spread_Home_Team',\n",
       " 'Rolling 5 Past H&A Spread Avg_Home_Team',\n",
       " 'Rolling 5 Past H&A Spread Min_Home_Team',\n",
       " 'Rolling 5 Past H&A Score_Away_Team',\n",
       " 'Rolling 5 Past H&A Score Avg_Away_Team',\n",
       " 'Rolling 5 Past H&A Score Max_Away_Team',\n",
       " 'Rolling 3 Past H&A Score_Away_Team',\n",
       " 'Rolling 3 Past H&A Score Avg_Away_Team',\n",
       " 'Rolling 5 Past H&A 1st Downs_Away_Team',\n",
       " 'Rolling 5 Past H&A 1st Downs Avg_Away_Team',\n",
       " 'Rolling 5 Past H&A Total Yards_Away_Team',\n",
       " 'Rolling 5 Past H&A Total Yards Avg_Away_Team',\n",
       " 'Rolling 5 Past H&A Yards per Pass_Away_Team',\n",
       " 'Rolling 5 Past H&A Yards per Pass Avg_Away_Team',\n",
       " 'Rolling 5 Past H&A Spread_Away_Team',\n",
       " 'Rolling 5 Past H&A Spread Avg_Away_Team',\n",
       " 'Previous H&A Ranking_Away_Team']"
      ]
     },
     "execution_count": 141,
     "metadata": {},
     "output_type": "execute_result"
    }
   ],
   "source": [
    "best_model.X_columns"
   ]
  },
  {
   "cell_type": "code",
   "execution_count": 142,
   "id": "e60be2f6",
   "metadata": {},
   "outputs": [
    {
     "data": {
      "text/plain": [
       "(977, 29)"
      ]
     },
     "execution_count": 142,
     "metadata": {},
     "output_type": "execute_result"
    }
   ],
   "source": [
    "df2.shape"
   ]
  },
  {
   "cell_type": "markdown",
   "id": "ea7e8acd",
   "metadata": {},
   "source": [
    "best_model.X_column = Upcoming_Game_df[[ 'Home Team Spread_x',                             \n",
    "'Rolling 5 Past H&A Spread Min_Away_Team',           \n",
    "'Rolling 3 Past H&A Ranking Avg_Away_Team' ,          \n",
    "'Rolling 3 Past H&A Ranking_Away_Team'  ,             \n",
    "'Rolling 3 Past Away Ranking' ,                       \n",
    "'Rolling 3 Past Away Ranking Avg'   ,                 \n",
    "'Rolling 3 Past H&A Spread Avg_Away_Team' ,           \n",
    "'Rolling 3 Past H&A Spread_Away_Team'   ,            \n",
    "'Rolling 5 Past H&A Total Yards_Away_Team'  ,         \n",
    "'Rolling 5 Past H&A Total Yards Avg_Away_Team' ,     \n",
    "'Away Team Ranking_x',                                \n",
    "'Rolling 5 Past H&A Yards per Pass Avg_Away_Team',    \n",
    "'Rolling 5 Past H&A Yards per Pass_Away_Team' ,       \n",
    "'Rolling 5 Past H&A Score_Away_Team',                 \n",
    "'Rolling 5 Past H&A Score Avg_Away_Team' ,            \n",
    "'Rolling 3 Past Away Spread',                         \n",
    "'Rolling 3 Past Away Spread Avg' ,                    \n",
    "'Rolling 5 Past H&A Spread Avg_Away_Team' ,           \n",
    "'Rolling 5 Past H&A Spread_Away_Team' ,               \n",
    "'Rolling 5 Past H&A Ranking Max_Away_Team' ,         \n",
    "'Rolling 5 Past Away Ranking Max' ,                  \n",
    "'Rolling 5 Past Away Spread Min',                    \n",
    "'Rolling 5 Past Away Spread Avg' ,                   \n",
    "'Rolling 5 Past Away Spread' ,                       \n",
    "'Rolling 3 Past H&A Ranking Min_Away_Team'  ,        \n",
    "'Rolling 5 Past H&A Ranking_Away_Team' ,             \n",
    "'Rolling 5 Past H&A Ranking Avg_Away_Team'  ,        \n",
    "'Rolling 3 Past H&A Spread Min_Away_Team',          \n",
    "'Previous H&A Ranking_Away_Team' ,                   \n",
    "'Rolling 3 Past Away Ranking Max' ,                  \n",
    "'Away Team Spread_x' ]]                              "
   ]
  },
  {
   "cell_type": "code",
   "execution_count": 143,
   "id": "abc4804f",
   "metadata": {},
   "outputs": [
    {
     "data": {
      "text/html": [
       "<div>\n",
       "<style scoped>\n",
       "    .dataframe tbody tr th:only-of-type {\n",
       "        vertical-align: middle;\n",
       "    }\n",
       "\n",
       "    .dataframe tbody tr th {\n",
       "        vertical-align: top;\n",
       "    }\n",
       "\n",
       "    .dataframe thead th {\n",
       "        text-align: right;\n",
       "    }\n",
       "</style>\n",
       "<table border=\"1\" class=\"dataframe\">\n",
       "  <thead>\n",
       "    <tr style=\"text-align: right;\">\n",
       "      <th></th>\n",
       "      <th>Home Team Spread_x</th>\n",
       "      <th>Away Team Spread_x</th>\n",
       "      <th>Total_x</th>\n",
       "      <th>Rolling 5 Past H&amp;A Score_Home_Team</th>\n",
       "      <th>Rolling 5 Past H&amp;A Score Avg_Home_Team</th>\n",
       "      <th>Rolling 5 Past H&amp;A 1st Downs_Home_Team</th>\n",
       "      <th>Rolling 5 Past H&amp;A 1st Downs Avg_Home_Team</th>\n",
       "      <th>Rolling 5 Past H&amp;A Total Yards_Home_Team</th>\n",
       "      <th>Rolling 5 Past H&amp;A Total Yards Avg_Home_Team</th>\n",
       "      <th>Rolling 5 Past H&amp;A Yards per Pass_Home_Team</th>\n",
       "      <th>Rolling 5 Past H&amp;A Yards per Pass Avg_Home_Team</th>\n",
       "      <th>Rolling 5 Past H&amp;A Spread_Home_Team</th>\n",
       "      <th>Rolling 5 Past H&amp;A Spread Avg_Home_Team</th>\n",
       "      <th>Rolling 5 Past H&amp;A Spread Min_Home_Team</th>\n",
       "      <th>Rolling 5 Past H&amp;A Score_Away_Team</th>\n",
       "      <th>Rolling 5 Past H&amp;A Score Avg_Away_Team</th>\n",
       "      <th>Rolling 5 Past H&amp;A Score Max_Away_Team</th>\n",
       "      <th>Rolling 3 Past H&amp;A Score_Away_Team</th>\n",
       "      <th>Rolling 3 Past H&amp;A Score Avg_Away_Team</th>\n",
       "      <th>Rolling 5 Past H&amp;A 1st Downs_Away_Team</th>\n",
       "      <th>Rolling 5 Past H&amp;A 1st Downs Avg_Away_Team</th>\n",
       "      <th>Rolling 5 Past H&amp;A Total Yards_Away_Team</th>\n",
       "      <th>Rolling 5 Past H&amp;A Total Yards Avg_Away_Team</th>\n",
       "      <th>Rolling 5 Past H&amp;A Yards per Pass_Away_Team</th>\n",
       "      <th>Rolling 5 Past H&amp;A Yards per Pass Avg_Away_Team</th>\n",
       "      <th>Rolling 5 Past H&amp;A Spread_Away_Team</th>\n",
       "      <th>Rolling 5 Past H&amp;A Spread Avg_Away_Team</th>\n",
       "      <th>Previous H&amp;A Ranking_Away_Team</th>\n",
       "      <th>Total over/under</th>\n",
       "    </tr>\n",
       "  </thead>\n",
       "  <tbody>\n",
       "    <tr>\n",
       "      <th>0</th>\n",
       "      <td>-2.5</td>\n",
       "      <td>2.5</td>\n",
       "      <td>52.0</td>\n",
       "      <td>172.0</td>\n",
       "      <td>34.4</td>\n",
       "      <td>119.0</td>\n",
       "      <td>23.8</td>\n",
       "      <td>2211.0</td>\n",
       "      <td>442.2</td>\n",
       "      <td>46.6</td>\n",
       "      <td>9.32</td>\n",
       "      <td>-101.5</td>\n",
       "      <td>-20.3</td>\n",
       "      <td>-40.0</td>\n",
       "      <td>179.0</td>\n",
       "      <td>35.8</td>\n",
       "      <td>52.0</td>\n",
       "      <td>107.0</td>\n",
       "      <td>35.666667</td>\n",
       "      <td>121.0</td>\n",
       "      <td>24.2</td>\n",
       "      <td>2477.0</td>\n",
       "      <td>495.4</td>\n",
       "      <td>46.5</td>\n",
       "      <td>9.30</td>\n",
       "      <td>-87.5</td>\n",
       "      <td>-17.5</td>\n",
       "      <td>3.0</td>\n",
       "      <td>NaN</td>\n",
       "    </tr>\n",
       "    <tr>\n",
       "      <th>1</th>\n",
       "      <td>6.5</td>\n",
       "      <td>-6.5</td>\n",
       "      <td>49.0</td>\n",
       "      <td>187.0</td>\n",
       "      <td>37.4</td>\n",
       "      <td>118.0</td>\n",
       "      <td>23.6</td>\n",
       "      <td>2484.0</td>\n",
       "      <td>496.8</td>\n",
       "      <td>49.3</td>\n",
       "      <td>9.86</td>\n",
       "      <td>-111.5</td>\n",
       "      <td>-22.3</td>\n",
       "      <td>-29.0</td>\n",
       "      <td>182.0</td>\n",
       "      <td>36.4</td>\n",
       "      <td>43.0</td>\n",
       "      <td>118.0</td>\n",
       "      <td>39.333333</td>\n",
       "      <td>111.0</td>\n",
       "      <td>22.2</td>\n",
       "      <td>2194.0</td>\n",
       "      <td>438.8</td>\n",
       "      <td>50.5</td>\n",
       "      <td>10.10</td>\n",
       "      <td>-109.5</td>\n",
       "      <td>-21.9</td>\n",
       "      <td>1.0</td>\n",
       "      <td>16.0</td>\n",
       "    </tr>\n",
       "    <tr>\n",
       "      <th>2</th>\n",
       "      <td>6.5</td>\n",
       "      <td>-6.5</td>\n",
       "      <td>27.0</td>\n",
       "      <td>114.0</td>\n",
       "      <td>22.8</td>\n",
       "      <td>100.0</td>\n",
       "      <td>20.0</td>\n",
       "      <td>1791.0</td>\n",
       "      <td>358.2</td>\n",
       "      <td>30.9</td>\n",
       "      <td>6.18</td>\n",
       "      <td>55.5</td>\n",
       "      <td>11.1</td>\n",
       "      <td>2.0</td>\n",
       "      <td>159.0</td>\n",
       "      <td>31.8</td>\n",
       "      <td>44.0</td>\n",
       "      <td>83.0</td>\n",
       "      <td>27.666667</td>\n",
       "      <td>117.0</td>\n",
       "      <td>23.4</td>\n",
       "      <td>2074.0</td>\n",
       "      <td>414.8</td>\n",
       "      <td>34.5</td>\n",
       "      <td>6.90</td>\n",
       "      <td>-18.5</td>\n",
       "      <td>-3.7</td>\n",
       "      <td>11.0</td>\n",
       "      <td>24.0</td>\n",
       "    </tr>\n",
       "    <tr>\n",
       "      <th>3</th>\n",
       "      <td>19.5</td>\n",
       "      <td>-19.5</td>\n",
       "      <td>55.5</td>\n",
       "      <td>123.0</td>\n",
       "      <td>24.6</td>\n",
       "      <td>111.0</td>\n",
       "      <td>22.2</td>\n",
       "      <td>1998.0</td>\n",
       "      <td>399.6</td>\n",
       "      <td>38.5</td>\n",
       "      <td>7.70</td>\n",
       "      <td>-6.5</td>\n",
       "      <td>-1.3</td>\n",
       "      <td>-7.0</td>\n",
       "      <td>201.0</td>\n",
       "      <td>40.2</td>\n",
       "      <td>52.0</td>\n",
       "      <td>114.0</td>\n",
       "      <td>38.000000</td>\n",
       "      <td>125.0</td>\n",
       "      <td>25.0</td>\n",
       "      <td>2618.0</td>\n",
       "      <td>523.6</td>\n",
       "      <td>50.9</td>\n",
       "      <td>10.18</td>\n",
       "      <td>-110.5</td>\n",
       "      <td>-22.1</td>\n",
       "      <td>1.0</td>\n",
       "      <td>-9.5</td>\n",
       "    </tr>\n",
       "    <tr>\n",
       "      <th>4</th>\n",
       "      <td>31.5</td>\n",
       "      <td>-31.5</td>\n",
       "      <td>63.5</td>\n",
       "      <td>88.0</td>\n",
       "      <td>17.6</td>\n",
       "      <td>81.0</td>\n",
       "      <td>16.2</td>\n",
       "      <td>1569.0</td>\n",
       "      <td>313.8</td>\n",
       "      <td>31.4</td>\n",
       "      <td>6.28</td>\n",
       "      <td>112.5</td>\n",
       "      <td>22.5</td>\n",
       "      <td>16.0</td>\n",
       "      <td>157.0</td>\n",
       "      <td>31.4</td>\n",
       "      <td>45.0</td>\n",
       "      <td>86.0</td>\n",
       "      <td>28.666667</td>\n",
       "      <td>102.0</td>\n",
       "      <td>20.4</td>\n",
       "      <td>2134.0</td>\n",
       "      <td>426.8</td>\n",
       "      <td>51.0</td>\n",
       "      <td>10.20</td>\n",
       "      <td>34.0</td>\n",
       "      <td>6.8</td>\n",
       "      <td>99.0</td>\n",
       "      <td>2.5</td>\n",
       "    </tr>\n",
       "  </tbody>\n",
       "</table>\n",
       "</div>"
      ],
      "text/plain": [
       "   Home Team Spread_x  Away Team Spread_x  Total_x  \\\n",
       "0                -2.5                 2.5     52.0   \n",
       "1                 6.5                -6.5     49.0   \n",
       "2                 6.5                -6.5     27.0   \n",
       "3                19.5               -19.5     55.5   \n",
       "4                31.5               -31.5     63.5   \n",
       "\n",
       "   Rolling 5 Past H&A Score_Home_Team  Rolling 5 Past H&A Score Avg_Home_Team  \\\n",
       "0                               172.0                                    34.4   \n",
       "1                               187.0                                    37.4   \n",
       "2                               114.0                                    22.8   \n",
       "3                               123.0                                    24.6   \n",
       "4                                88.0                                    17.6   \n",
       "\n",
       "   Rolling 5 Past H&A 1st Downs_Home_Team  \\\n",
       "0                                   119.0   \n",
       "1                                   118.0   \n",
       "2                                   100.0   \n",
       "3                                   111.0   \n",
       "4                                    81.0   \n",
       "\n",
       "   Rolling 5 Past H&A 1st Downs Avg_Home_Team  \\\n",
       "0                                        23.8   \n",
       "1                                        23.6   \n",
       "2                                        20.0   \n",
       "3                                        22.2   \n",
       "4                                        16.2   \n",
       "\n",
       "   Rolling 5 Past H&A Total Yards_Home_Team  \\\n",
       "0                                    2211.0   \n",
       "1                                    2484.0   \n",
       "2                                    1791.0   \n",
       "3                                    1998.0   \n",
       "4                                    1569.0   \n",
       "\n",
       "   Rolling 5 Past H&A Total Yards Avg_Home_Team  \\\n",
       "0                                         442.2   \n",
       "1                                         496.8   \n",
       "2                                         358.2   \n",
       "3                                         399.6   \n",
       "4                                         313.8   \n",
       "\n",
       "   Rolling 5 Past H&A Yards per Pass_Home_Team  \\\n",
       "0                                         46.6   \n",
       "1                                         49.3   \n",
       "2                                         30.9   \n",
       "3                                         38.5   \n",
       "4                                         31.4   \n",
       "\n",
       "   Rolling 5 Past H&A Yards per Pass Avg_Home_Team  \\\n",
       "0                                             9.32   \n",
       "1                                             9.86   \n",
       "2                                             6.18   \n",
       "3                                             7.70   \n",
       "4                                             6.28   \n",
       "\n",
       "   Rolling 5 Past H&A Spread_Home_Team  \\\n",
       "0                               -101.5   \n",
       "1                               -111.5   \n",
       "2                                 55.5   \n",
       "3                                 -6.5   \n",
       "4                                112.5   \n",
       "\n",
       "   Rolling 5 Past H&A Spread Avg_Home_Team  \\\n",
       "0                                    -20.3   \n",
       "1                                    -22.3   \n",
       "2                                     11.1   \n",
       "3                                     -1.3   \n",
       "4                                     22.5   \n",
       "\n",
       "   Rolling 5 Past H&A Spread Min_Home_Team  \\\n",
       "0                                    -40.0   \n",
       "1                                    -29.0   \n",
       "2                                      2.0   \n",
       "3                                     -7.0   \n",
       "4                                     16.0   \n",
       "\n",
       "   Rolling 5 Past H&A Score_Away_Team  Rolling 5 Past H&A Score Avg_Away_Team  \\\n",
       "0                               179.0                                    35.8   \n",
       "1                               182.0                                    36.4   \n",
       "2                               159.0                                    31.8   \n",
       "3                               201.0                                    40.2   \n",
       "4                               157.0                                    31.4   \n",
       "\n",
       "   Rolling 5 Past H&A Score Max_Away_Team  Rolling 3 Past H&A Score_Away_Team  \\\n",
       "0                                    52.0                               107.0   \n",
       "1                                    43.0                               118.0   \n",
       "2                                    44.0                                83.0   \n",
       "3                                    52.0                               114.0   \n",
       "4                                    45.0                                86.0   \n",
       "\n",
       "   Rolling 3 Past H&A Score Avg_Away_Team  \\\n",
       "0                               35.666667   \n",
       "1                               39.333333   \n",
       "2                               27.666667   \n",
       "3                               38.000000   \n",
       "4                               28.666667   \n",
       "\n",
       "   Rolling 5 Past H&A 1st Downs_Away_Team  \\\n",
       "0                                   121.0   \n",
       "1                                   111.0   \n",
       "2                                   117.0   \n",
       "3                                   125.0   \n",
       "4                                   102.0   \n",
       "\n",
       "   Rolling 5 Past H&A 1st Downs Avg_Away_Team  \\\n",
       "0                                        24.2   \n",
       "1                                        22.2   \n",
       "2                                        23.4   \n",
       "3                                        25.0   \n",
       "4                                        20.4   \n",
       "\n",
       "   Rolling 5 Past H&A Total Yards_Away_Team  \\\n",
       "0                                    2477.0   \n",
       "1                                    2194.0   \n",
       "2                                    2074.0   \n",
       "3                                    2618.0   \n",
       "4                                    2134.0   \n",
       "\n",
       "   Rolling 5 Past H&A Total Yards Avg_Away_Team  \\\n",
       "0                                         495.4   \n",
       "1                                         438.8   \n",
       "2                                         414.8   \n",
       "3                                         523.6   \n",
       "4                                         426.8   \n",
       "\n",
       "   Rolling 5 Past H&A Yards per Pass_Away_Team  \\\n",
       "0                                         46.5   \n",
       "1                                         50.5   \n",
       "2                                         34.5   \n",
       "3                                         50.9   \n",
       "4                                         51.0   \n",
       "\n",
       "   Rolling 5 Past H&A Yards per Pass Avg_Away_Team  \\\n",
       "0                                             9.30   \n",
       "1                                            10.10   \n",
       "2                                             6.90   \n",
       "3                                            10.18   \n",
       "4                                            10.20   \n",
       "\n",
       "   Rolling 5 Past H&A Spread_Away_Team  \\\n",
       "0                                -87.5   \n",
       "1                               -109.5   \n",
       "2                                -18.5   \n",
       "3                               -110.5   \n",
       "4                                 34.0   \n",
       "\n",
       "   Rolling 5 Past H&A Spread Avg_Away_Team  Previous H&A Ranking_Away_Team  \\\n",
       "0                                    -17.5                             3.0   \n",
       "1                                    -21.9                             1.0   \n",
       "2                                     -3.7                            11.0   \n",
       "3                                    -22.1                             1.0   \n",
       "4                                      6.8                            99.0   \n",
       "\n",
       "   Total over/under  \n",
       "0               NaN  \n",
       "1              16.0  \n",
       "2              24.0  \n",
       "3              -9.5  \n",
       "4               2.5  "
      ]
     },
     "execution_count": 143,
     "metadata": {},
     "output_type": "execute_result"
    }
   ],
   "source": [
    "df2.head()"
   ]
  },
  {
   "cell_type": "code",
   "execution_count": 133,
   "id": "2d7ed7cb",
   "metadata": {},
   "outputs": [],
   "source": [
    "#Alabama_cols=['A_Arkansas','A_Auburn','A_Florida','A_Georgia','A_Kentucky','A_LSU','A_Mississippi State','A_Missouri','A_Ole Miss','A_South Carolina','A_Tennessee','A_Texas A&M','A_Vanderbilt']"
   ]
  },
  {
   "cell_type": "code",
   "execution_count": 144,
   "id": "97d6f9a3",
   "metadata": {},
   "outputs": [],
   "source": [
    "X = df2.loc[(df2['Total over/under'] >=0) , best_model.X_columns]\n",
    "y = df2.loc[(df2['Total over/under'] >=0), 'Total over/under']\n",
    "\n",
    "#example - dfObj[(dfObj['Sale'] > 30) & (dfObj['Sale'] < 33) ]\n",
    "\n",
    "#X = Updated_Game_df.loc['Date'] != \"Big Mountain Resort\", model.X_columns]\n",
    "#y = ski_data.loc[ski_data.Name != \"Big Mountain Resort\", 'AdultWeekend']"
   ]
  },
  {
   "cell_type": "code",
   "execution_count": 145,
   "id": "65e17dd0",
   "metadata": {},
   "outputs": [
    {
     "data": {
      "text/plain": [
       "(459, 459)"
      ]
     },
     "execution_count": 145,
     "metadata": {},
     "output_type": "execute_result"
    }
   ],
   "source": [
    "len(X), len(y)"
   ]
  },
  {
   "cell_type": "code",
   "execution_count": 146,
   "id": "18aecfea",
   "metadata": {},
   "outputs": [
    {
     "data": {
      "text/html": [
       "<div>\n",
       "<style scoped>\n",
       "    .dataframe tbody tr th:only-of-type {\n",
       "        vertical-align: middle;\n",
       "    }\n",
       "\n",
       "    .dataframe tbody tr th {\n",
       "        vertical-align: top;\n",
       "    }\n",
       "\n",
       "    .dataframe thead th {\n",
       "        text-align: right;\n",
       "    }\n",
       "</style>\n",
       "<table border=\"1\" class=\"dataframe\">\n",
       "  <thead>\n",
       "    <tr style=\"text-align: right;\">\n",
       "      <th></th>\n",
       "      <th>Home Team Spread_x</th>\n",
       "      <th>Away Team Spread_x</th>\n",
       "      <th>Total_x</th>\n",
       "      <th>Rolling 5 Past H&amp;A Score_Home_Team</th>\n",
       "      <th>Rolling 5 Past H&amp;A Score Avg_Home_Team</th>\n",
       "      <th>Rolling 5 Past H&amp;A 1st Downs_Home_Team</th>\n",
       "      <th>Rolling 5 Past H&amp;A 1st Downs Avg_Home_Team</th>\n",
       "      <th>Rolling 5 Past H&amp;A Total Yards_Home_Team</th>\n",
       "      <th>Rolling 5 Past H&amp;A Total Yards Avg_Home_Team</th>\n",
       "      <th>Rolling 5 Past H&amp;A Yards per Pass_Home_Team</th>\n",
       "      <th>Rolling 5 Past H&amp;A Yards per Pass Avg_Home_Team</th>\n",
       "      <th>Rolling 5 Past H&amp;A Spread_Home_Team</th>\n",
       "      <th>Rolling 5 Past H&amp;A Spread Avg_Home_Team</th>\n",
       "      <th>Rolling 5 Past H&amp;A Spread Min_Home_Team</th>\n",
       "      <th>Rolling 5 Past H&amp;A Score_Away_Team</th>\n",
       "      <th>Rolling 5 Past H&amp;A Score Avg_Away_Team</th>\n",
       "      <th>Rolling 5 Past H&amp;A Score Max_Away_Team</th>\n",
       "      <th>Rolling 3 Past H&amp;A Score_Away_Team</th>\n",
       "      <th>Rolling 3 Past H&amp;A Score Avg_Away_Team</th>\n",
       "      <th>Rolling 5 Past H&amp;A 1st Downs_Away_Team</th>\n",
       "      <th>Rolling 5 Past H&amp;A 1st Downs Avg_Away_Team</th>\n",
       "      <th>Rolling 5 Past H&amp;A Total Yards_Away_Team</th>\n",
       "      <th>Rolling 5 Past H&amp;A Total Yards Avg_Away_Team</th>\n",
       "      <th>Rolling 5 Past H&amp;A Yards per Pass_Away_Team</th>\n",
       "      <th>Rolling 5 Past H&amp;A Yards per Pass Avg_Away_Team</th>\n",
       "      <th>Rolling 5 Past H&amp;A Spread_Away_Team</th>\n",
       "      <th>Rolling 5 Past H&amp;A Spread Avg_Away_Team</th>\n",
       "      <th>Previous H&amp;A Ranking_Away_Team</th>\n",
       "    </tr>\n",
       "  </thead>\n",
       "  <tbody>\n",
       "    <tr>\n",
       "      <th>1</th>\n",
       "      <td>6.5</td>\n",
       "      <td>-6.5</td>\n",
       "      <td>49.0</td>\n",
       "      <td>187.0</td>\n",
       "      <td>37.4</td>\n",
       "      <td>118.0</td>\n",
       "      <td>23.6</td>\n",
       "      <td>2484.0</td>\n",
       "      <td>496.8</td>\n",
       "      <td>49.3</td>\n",
       "      <td>9.86</td>\n",
       "      <td>-111.5</td>\n",
       "      <td>-22.3</td>\n",
       "      <td>-29.0</td>\n",
       "      <td>182.0</td>\n",
       "      <td>36.4</td>\n",
       "      <td>43.0</td>\n",
       "      <td>118.0</td>\n",
       "      <td>39.333333</td>\n",
       "      <td>111.0</td>\n",
       "      <td>22.2</td>\n",
       "      <td>2194.0</td>\n",
       "      <td>438.8</td>\n",
       "      <td>50.5</td>\n",
       "      <td>10.10</td>\n",
       "      <td>-109.5</td>\n",
       "      <td>-21.9</td>\n",
       "      <td>1.0</td>\n",
       "    </tr>\n",
       "    <tr>\n",
       "      <th>2</th>\n",
       "      <td>6.5</td>\n",
       "      <td>-6.5</td>\n",
       "      <td>27.0</td>\n",
       "      <td>114.0</td>\n",
       "      <td>22.8</td>\n",
       "      <td>100.0</td>\n",
       "      <td>20.0</td>\n",
       "      <td>1791.0</td>\n",
       "      <td>358.2</td>\n",
       "      <td>30.9</td>\n",
       "      <td>6.18</td>\n",
       "      <td>55.5</td>\n",
       "      <td>11.1</td>\n",
       "      <td>2.0</td>\n",
       "      <td>159.0</td>\n",
       "      <td>31.8</td>\n",
       "      <td>44.0</td>\n",
       "      <td>83.0</td>\n",
       "      <td>27.666667</td>\n",
       "      <td>117.0</td>\n",
       "      <td>23.4</td>\n",
       "      <td>2074.0</td>\n",
       "      <td>414.8</td>\n",
       "      <td>34.5</td>\n",
       "      <td>6.90</td>\n",
       "      <td>-18.5</td>\n",
       "      <td>-3.7</td>\n",
       "      <td>11.0</td>\n",
       "    </tr>\n",
       "    <tr>\n",
       "      <th>4</th>\n",
       "      <td>31.5</td>\n",
       "      <td>-31.5</td>\n",
       "      <td>63.5</td>\n",
       "      <td>88.0</td>\n",
       "      <td>17.6</td>\n",
       "      <td>81.0</td>\n",
       "      <td>16.2</td>\n",
       "      <td>1569.0</td>\n",
       "      <td>313.8</td>\n",
       "      <td>31.4</td>\n",
       "      <td>6.28</td>\n",
       "      <td>112.5</td>\n",
       "      <td>22.5</td>\n",
       "      <td>16.0</td>\n",
       "      <td>157.0</td>\n",
       "      <td>31.4</td>\n",
       "      <td>45.0</td>\n",
       "      <td>86.0</td>\n",
       "      <td>28.666667</td>\n",
       "      <td>102.0</td>\n",
       "      <td>20.4</td>\n",
       "      <td>2134.0</td>\n",
       "      <td>426.8</td>\n",
       "      <td>51.0</td>\n",
       "      <td>10.20</td>\n",
       "      <td>34.0</td>\n",
       "      <td>6.8</td>\n",
       "      <td>99.0</td>\n",
       "    </tr>\n",
       "    <tr>\n",
       "      <th>7</th>\n",
       "      <td>-20.5</td>\n",
       "      <td>20.5</td>\n",
       "      <td>58.5</td>\n",
       "      <td>201.0</td>\n",
       "      <td>40.2</td>\n",
       "      <td>123.0</td>\n",
       "      <td>24.6</td>\n",
       "      <td>2398.0</td>\n",
       "      <td>479.6</td>\n",
       "      <td>46.2</td>\n",
       "      <td>9.24</td>\n",
       "      <td>-105.0</td>\n",
       "      <td>-21.0</td>\n",
       "      <td>-29.0</td>\n",
       "      <td>121.0</td>\n",
       "      <td>24.2</td>\n",
       "      <td>51.0</td>\n",
       "      <td>70.0</td>\n",
       "      <td>23.333333</td>\n",
       "      <td>113.0</td>\n",
       "      <td>22.6</td>\n",
       "      <td>1974.0</td>\n",
       "      <td>394.8</td>\n",
       "      <td>34.3</td>\n",
       "      <td>6.86</td>\n",
       "      <td>10.0</td>\n",
       "      <td>2.0</td>\n",
       "      <td>25.0</td>\n",
       "    </tr>\n",
       "    <tr>\n",
       "      <th>11</th>\n",
       "      <td>1.5</td>\n",
       "      <td>-1.5</td>\n",
       "      <td>56.5</td>\n",
       "      <td>109.0</td>\n",
       "      <td>21.8</td>\n",
       "      <td>103.0</td>\n",
       "      <td>20.6</td>\n",
       "      <td>1897.0</td>\n",
       "      <td>379.4</td>\n",
       "      <td>30.9</td>\n",
       "      <td>6.18</td>\n",
       "      <td>38.5</td>\n",
       "      <td>7.7</td>\n",
       "      <td>-16.0</td>\n",
       "      <td>105.0</td>\n",
       "      <td>21.0</td>\n",
       "      <td>40.0</td>\n",
       "      <td>75.0</td>\n",
       "      <td>25.000000</td>\n",
       "      <td>85.0</td>\n",
       "      <td>17.0</td>\n",
       "      <td>1659.0</td>\n",
       "      <td>331.8</td>\n",
       "      <td>33.5</td>\n",
       "      <td>6.70</td>\n",
       "      <td>36.0</td>\n",
       "      <td>7.2</td>\n",
       "      <td>99.0</td>\n",
       "    </tr>\n",
       "  </tbody>\n",
       "</table>\n",
       "</div>"
      ],
      "text/plain": [
       "    Home Team Spread_x  Away Team Spread_x  Total_x  \\\n",
       "1                  6.5                -6.5     49.0   \n",
       "2                  6.5                -6.5     27.0   \n",
       "4                 31.5               -31.5     63.5   \n",
       "7                -20.5                20.5     58.5   \n",
       "11                 1.5                -1.5     56.5   \n",
       "\n",
       "    Rolling 5 Past H&A Score_Home_Team  \\\n",
       "1                                187.0   \n",
       "2                                114.0   \n",
       "4                                 88.0   \n",
       "7                                201.0   \n",
       "11                               109.0   \n",
       "\n",
       "    Rolling 5 Past H&A Score Avg_Home_Team  \\\n",
       "1                                     37.4   \n",
       "2                                     22.8   \n",
       "4                                     17.6   \n",
       "7                                     40.2   \n",
       "11                                    21.8   \n",
       "\n",
       "    Rolling 5 Past H&A 1st Downs_Home_Team  \\\n",
       "1                                    118.0   \n",
       "2                                    100.0   \n",
       "4                                     81.0   \n",
       "7                                    123.0   \n",
       "11                                   103.0   \n",
       "\n",
       "    Rolling 5 Past H&A 1st Downs Avg_Home_Team  \\\n",
       "1                                         23.6   \n",
       "2                                         20.0   \n",
       "4                                         16.2   \n",
       "7                                         24.6   \n",
       "11                                        20.6   \n",
       "\n",
       "    Rolling 5 Past H&A Total Yards_Home_Team  \\\n",
       "1                                     2484.0   \n",
       "2                                     1791.0   \n",
       "4                                     1569.0   \n",
       "7                                     2398.0   \n",
       "11                                    1897.0   \n",
       "\n",
       "    Rolling 5 Past H&A Total Yards Avg_Home_Team  \\\n",
       "1                                          496.8   \n",
       "2                                          358.2   \n",
       "4                                          313.8   \n",
       "7                                          479.6   \n",
       "11                                         379.4   \n",
       "\n",
       "    Rolling 5 Past H&A Yards per Pass_Home_Team  \\\n",
       "1                                          49.3   \n",
       "2                                          30.9   \n",
       "4                                          31.4   \n",
       "7                                          46.2   \n",
       "11                                         30.9   \n",
       "\n",
       "    Rolling 5 Past H&A Yards per Pass Avg_Home_Team  \\\n",
       "1                                              9.86   \n",
       "2                                              6.18   \n",
       "4                                              6.28   \n",
       "7                                              9.24   \n",
       "11                                             6.18   \n",
       "\n",
       "    Rolling 5 Past H&A Spread_Home_Team  \\\n",
       "1                                -111.5   \n",
       "2                                  55.5   \n",
       "4                                 112.5   \n",
       "7                                -105.0   \n",
       "11                                 38.5   \n",
       "\n",
       "    Rolling 5 Past H&A Spread Avg_Home_Team  \\\n",
       "1                                     -22.3   \n",
       "2                                      11.1   \n",
       "4                                      22.5   \n",
       "7                                     -21.0   \n",
       "11                                      7.7   \n",
       "\n",
       "    Rolling 5 Past H&A Spread Min_Home_Team  \\\n",
       "1                                     -29.0   \n",
       "2                                       2.0   \n",
       "4                                      16.0   \n",
       "7                                     -29.0   \n",
       "11                                    -16.0   \n",
       "\n",
       "    Rolling 5 Past H&A Score_Away_Team  \\\n",
       "1                                182.0   \n",
       "2                                159.0   \n",
       "4                                157.0   \n",
       "7                                121.0   \n",
       "11                               105.0   \n",
       "\n",
       "    Rolling 5 Past H&A Score Avg_Away_Team  \\\n",
       "1                                     36.4   \n",
       "2                                     31.8   \n",
       "4                                     31.4   \n",
       "7                                     24.2   \n",
       "11                                    21.0   \n",
       "\n",
       "    Rolling 5 Past H&A Score Max_Away_Team  \\\n",
       "1                                     43.0   \n",
       "2                                     44.0   \n",
       "4                                     45.0   \n",
       "7                                     51.0   \n",
       "11                                    40.0   \n",
       "\n",
       "    Rolling 3 Past H&A Score_Away_Team  \\\n",
       "1                                118.0   \n",
       "2                                 83.0   \n",
       "4                                 86.0   \n",
       "7                                 70.0   \n",
       "11                                75.0   \n",
       "\n",
       "    Rolling 3 Past H&A Score Avg_Away_Team  \\\n",
       "1                                39.333333   \n",
       "2                                27.666667   \n",
       "4                                28.666667   \n",
       "7                                23.333333   \n",
       "11                               25.000000   \n",
       "\n",
       "    Rolling 5 Past H&A 1st Downs_Away_Team  \\\n",
       "1                                    111.0   \n",
       "2                                    117.0   \n",
       "4                                    102.0   \n",
       "7                                    113.0   \n",
       "11                                    85.0   \n",
       "\n",
       "    Rolling 5 Past H&A 1st Downs Avg_Away_Team  \\\n",
       "1                                         22.2   \n",
       "2                                         23.4   \n",
       "4                                         20.4   \n",
       "7                                         22.6   \n",
       "11                                        17.0   \n",
       "\n",
       "    Rolling 5 Past H&A Total Yards_Away_Team  \\\n",
       "1                                     2194.0   \n",
       "2                                     2074.0   \n",
       "4                                     2134.0   \n",
       "7                                     1974.0   \n",
       "11                                    1659.0   \n",
       "\n",
       "    Rolling 5 Past H&A Total Yards Avg_Away_Team  \\\n",
       "1                                          438.8   \n",
       "2                                          414.8   \n",
       "4                                          426.8   \n",
       "7                                          394.8   \n",
       "11                                         331.8   \n",
       "\n",
       "    Rolling 5 Past H&A Yards per Pass_Away_Team  \\\n",
       "1                                          50.5   \n",
       "2                                          34.5   \n",
       "4                                          51.0   \n",
       "7                                          34.3   \n",
       "11                                         33.5   \n",
       "\n",
       "    Rolling 5 Past H&A Yards per Pass Avg_Away_Team  \\\n",
       "1                                             10.10   \n",
       "2                                              6.90   \n",
       "4                                             10.20   \n",
       "7                                              6.86   \n",
       "11                                             6.70   \n",
       "\n",
       "    Rolling 5 Past H&A Spread_Away_Team  \\\n",
       "1                                -109.5   \n",
       "2                                 -18.5   \n",
       "4                                  34.0   \n",
       "7                                  10.0   \n",
       "11                                 36.0   \n",
       "\n",
       "    Rolling 5 Past H&A Spread Avg_Away_Team  Previous H&A Ranking_Away_Team  \n",
       "1                                     -21.9                             1.0  \n",
       "2                                      -3.7                            11.0  \n",
       "4                                       6.8                            99.0  \n",
       "7                                       2.0                            25.0  \n",
       "11                                      7.2                            99.0  "
      ]
     },
     "execution_count": 146,
     "metadata": {},
     "output_type": "execute_result"
    }
   ],
   "source": [
    "X.head()"
   ]
  },
  {
   "cell_type": "code",
   "execution_count": 147,
   "id": "36c72bd5",
   "metadata": {},
   "outputs": [
    {
     "data": {
      "text/plain": [
       "1     16.0\n",
       "2     24.0\n",
       "4      2.5\n",
       "7     18.5\n",
       "11     2.5\n",
       "Name: Total over/under, dtype: float64"
      ]
     },
     "execution_count": 147,
     "metadata": {},
     "output_type": "execute_result"
    }
   ],
   "source": [
    "y.head()"
   ]
  },
  {
   "cell_type": "code",
   "execution_count": 148,
   "id": "2302e069",
   "metadata": {},
   "outputs": [
    {
     "data": {
      "text/plain": [
       "Pipeline(steps=[('simpleimputer', SimpleImputer()),\n",
       "                ('standardscaler', StandardScaler()),\n",
       "                ('randomforestregressor',\n",
       "                 RandomForestRegressor(n_estimators=483, random_state=47))])"
      ]
     },
     "execution_count": 148,
     "metadata": {},
     "output_type": "execute_result"
    }
   ],
   "source": [
    "best_model.fit(X, y)"
   ]
  },
  {
   "cell_type": "code",
   "execution_count": 149,
   "id": "e7fd17b5",
   "metadata": {},
   "outputs": [],
   "source": [
    "\n",
    "#y = Upcoming_Game_df.drop('Away Score_x_x', axis=1)\n",
    "\n",
    "#X = ski_data.loc[ski_data.Name != \"Big Mountain Resort\", model.X_columns]\n",
    "#y = ski_data.loc[ski_data.Name != \"Big Mountain Resort\", 'AdultWeekend']"
   ]
  },
  {
   "cell_type": "code",
   "execution_count": 150,
   "id": "ebe0e37f",
   "metadata": {},
   "outputs": [],
   "source": [
    "#y"
   ]
  },
  {
   "cell_type": "code",
   "execution_count": 151,
   "id": "834a4da5",
   "metadata": {},
   "outputs": [],
   "source": [
    "import pandas as pd\n",
    "import numpy as np\n",
    "import os\n",
    "import pickle\n",
    "import matplotlib.pyplot as plt\n",
    "import seaborn as sns\n",
    "from sklearn import __version__ as sklearn_version\n",
    "from sklearn.model_selection import cross_validate"
   ]
  },
  {
   "cell_type": "code",
   "execution_count": 152,
   "id": "ec431626",
   "metadata": {},
   "outputs": [],
   "source": [
    "cv_results = cross_validate(best_model, X, y, scoring='neg_mean_absolute_error', cv=5, n_jobs=-1)\n"
   ]
  },
  {
   "cell_type": "code",
   "execution_count": 153,
   "id": "8600d93c",
   "metadata": {},
   "outputs": [
    {
     "data": {
      "text/plain": [
       "array([-10.65003601, -10.74957242,  -8.10310334,  -8.53281123,\n",
       "        -8.70619753])"
      ]
     },
     "execution_count": 153,
     "metadata": {},
     "output_type": "execute_result"
    }
   ],
   "source": [
    "cv_results['test_score']"
   ]
  },
  {
   "cell_type": "code",
   "execution_count": 154,
   "id": "7af4232c",
   "metadata": {},
   "outputs": [
    {
     "data": {
      "text/plain": [
       "(9.348344105709755, 1.1212415659999038)"
      ]
     },
     "execution_count": 154,
     "metadata": {},
     "output_type": "execute_result"
    }
   ],
   "source": [
    "mae_mean, mae_std = np.mean(-1 * cv_results['test_score']), np.std(-1 * cv_results['test_score'])\n",
    "mae_mean, mae_std"
   ]
  },
  {
   "cell_type": "code",
   "execution_count": 155,
   "id": "5356755a",
   "metadata": {},
   "outputs": [],
   "source": [
    "#Alabama_cols = ['A_Arkansas','A_Auburn','A_Florida','A_Georgia','A_Kentucky','A_LSU','A_Mississippi State','A_Missouri','A_Ole Miss','A_South Carolina','A_Tennessee','A_Texas A&M','A_Vanderbilt','H_Arkansas']\n",
    "                \n",
    "                \n",
    "                "
   ]
  },
  {
   "cell_type": "code",
   "execution_count": 156,
   "id": "1a7d6df7",
   "metadata": {},
   "outputs": [],
   "source": [
    "X_bm = pd.DataFrame(df2.loc[0 , best_model.X_columns]).T\n",
    "#X_bm = Upcoming_Game_df.loc[(Upcoming_Game_df[Alabama_cols].sum(axis=1) == 0) & (Upcoming_Game_df['Away Score_x_x'].isnull()) , best_model.X_columns]\n",
    "y_bm = df2.loc[0, 'Total over/under']\n",
    "\n"
   ]
  },
  {
   "cell_type": "code",
   "execution_count": 157,
   "id": "8663681e",
   "metadata": {},
   "outputs": [
    {
     "data": {
      "text/html": [
       "<div>\n",
       "<style scoped>\n",
       "    .dataframe tbody tr th:only-of-type {\n",
       "        vertical-align: middle;\n",
       "    }\n",
       "\n",
       "    .dataframe tbody tr th {\n",
       "        vertical-align: top;\n",
       "    }\n",
       "\n",
       "    .dataframe thead th {\n",
       "        text-align: right;\n",
       "    }\n",
       "</style>\n",
       "<table border=\"1\" class=\"dataframe\">\n",
       "  <thead>\n",
       "    <tr style=\"text-align: right;\">\n",
       "      <th></th>\n",
       "      <th>Home Team Spread_x</th>\n",
       "      <th>Away Team Spread_x</th>\n",
       "      <th>Total_x</th>\n",
       "      <th>Rolling 5 Past H&amp;A Score_Home_Team</th>\n",
       "      <th>Rolling 5 Past H&amp;A Score Avg_Home_Team</th>\n",
       "      <th>Rolling 5 Past H&amp;A 1st Downs_Home_Team</th>\n",
       "      <th>Rolling 5 Past H&amp;A 1st Downs Avg_Home_Team</th>\n",
       "      <th>Rolling 5 Past H&amp;A Total Yards_Home_Team</th>\n",
       "      <th>Rolling 5 Past H&amp;A Total Yards Avg_Home_Team</th>\n",
       "      <th>Rolling 5 Past H&amp;A Yards per Pass_Home_Team</th>\n",
       "      <th>Rolling 5 Past H&amp;A Yards per Pass Avg_Home_Team</th>\n",
       "      <th>Rolling 5 Past H&amp;A Spread_Home_Team</th>\n",
       "      <th>Rolling 5 Past H&amp;A Spread Avg_Home_Team</th>\n",
       "      <th>Rolling 5 Past H&amp;A Spread Min_Home_Team</th>\n",
       "      <th>Rolling 5 Past H&amp;A Score_Away_Team</th>\n",
       "      <th>Rolling 5 Past H&amp;A Score Avg_Away_Team</th>\n",
       "      <th>Rolling 5 Past H&amp;A Score Max_Away_Team</th>\n",
       "      <th>Rolling 3 Past H&amp;A Score_Away_Team</th>\n",
       "      <th>Rolling 3 Past H&amp;A Score Avg_Away_Team</th>\n",
       "      <th>Rolling 5 Past H&amp;A 1st Downs_Away_Team</th>\n",
       "      <th>Rolling 5 Past H&amp;A 1st Downs Avg_Away_Team</th>\n",
       "      <th>Rolling 5 Past H&amp;A Total Yards_Away_Team</th>\n",
       "      <th>Rolling 5 Past H&amp;A Total Yards Avg_Away_Team</th>\n",
       "      <th>Rolling 5 Past H&amp;A Yards per Pass_Away_Team</th>\n",
       "      <th>Rolling 5 Past H&amp;A Yards per Pass Avg_Away_Team</th>\n",
       "      <th>Rolling 5 Past H&amp;A Spread_Away_Team</th>\n",
       "      <th>Rolling 5 Past H&amp;A Spread Avg_Away_Team</th>\n",
       "      <th>Previous H&amp;A Ranking_Away_Team</th>\n",
       "    </tr>\n",
       "  </thead>\n",
       "  <tbody>\n",
       "    <tr>\n",
       "      <th>0</th>\n",
       "      <td>-2.5</td>\n",
       "      <td>2.5</td>\n",
       "      <td>52.0</td>\n",
       "      <td>172.0</td>\n",
       "      <td>34.4</td>\n",
       "      <td>119.0</td>\n",
       "      <td>23.8</td>\n",
       "      <td>2211.0</td>\n",
       "      <td>442.2</td>\n",
       "      <td>46.6</td>\n",
       "      <td>9.32</td>\n",
       "      <td>-101.5</td>\n",
       "      <td>-20.3</td>\n",
       "      <td>-40.0</td>\n",
       "      <td>179.0</td>\n",
       "      <td>35.8</td>\n",
       "      <td>52.0</td>\n",
       "      <td>107.0</td>\n",
       "      <td>35.666667</td>\n",
       "      <td>121.0</td>\n",
       "      <td>24.2</td>\n",
       "      <td>2477.0</td>\n",
       "      <td>495.4</td>\n",
       "      <td>46.5</td>\n",
       "      <td>9.3</td>\n",
       "      <td>-87.5</td>\n",
       "      <td>-17.5</td>\n",
       "      <td>3.0</td>\n",
       "    </tr>\n",
       "  </tbody>\n",
       "</table>\n",
       "</div>"
      ],
      "text/plain": [
       "   Home Team Spread_x  Away Team Spread_x  Total_x  \\\n",
       "0                -2.5                 2.5     52.0   \n",
       "\n",
       "   Rolling 5 Past H&A Score_Home_Team  Rolling 5 Past H&A Score Avg_Home_Team  \\\n",
       "0                               172.0                                    34.4   \n",
       "\n",
       "   Rolling 5 Past H&A 1st Downs_Home_Team  \\\n",
       "0                                   119.0   \n",
       "\n",
       "   Rolling 5 Past H&A 1st Downs Avg_Home_Team  \\\n",
       "0                                        23.8   \n",
       "\n",
       "   Rolling 5 Past H&A Total Yards_Home_Team  \\\n",
       "0                                    2211.0   \n",
       "\n",
       "   Rolling 5 Past H&A Total Yards Avg_Home_Team  \\\n",
       "0                                         442.2   \n",
       "\n",
       "   Rolling 5 Past H&A Yards per Pass_Home_Team  \\\n",
       "0                                         46.6   \n",
       "\n",
       "   Rolling 5 Past H&A Yards per Pass Avg_Home_Team  \\\n",
       "0                                             9.32   \n",
       "\n",
       "   Rolling 5 Past H&A Spread_Home_Team  \\\n",
       "0                               -101.5   \n",
       "\n",
       "   Rolling 5 Past H&A Spread Avg_Home_Team  \\\n",
       "0                                    -20.3   \n",
       "\n",
       "   Rolling 5 Past H&A Spread Min_Home_Team  \\\n",
       "0                                    -40.0   \n",
       "\n",
       "   Rolling 5 Past H&A Score_Away_Team  Rolling 5 Past H&A Score Avg_Away_Team  \\\n",
       "0                               179.0                                    35.8   \n",
       "\n",
       "   Rolling 5 Past H&A Score Max_Away_Team  Rolling 3 Past H&A Score_Away_Team  \\\n",
       "0                                    52.0                               107.0   \n",
       "\n",
       "   Rolling 3 Past H&A Score Avg_Away_Team  \\\n",
       "0                               35.666667   \n",
       "\n",
       "   Rolling 5 Past H&A 1st Downs_Away_Team  \\\n",
       "0                                   121.0   \n",
       "\n",
       "   Rolling 5 Past H&A 1st Downs Avg_Away_Team  \\\n",
       "0                                        24.2   \n",
       "\n",
       "   Rolling 5 Past H&A Total Yards_Away_Team  \\\n",
       "0                                    2477.0   \n",
       "\n",
       "   Rolling 5 Past H&A Total Yards Avg_Away_Team  \\\n",
       "0                                         495.4   \n",
       "\n",
       "   Rolling 5 Past H&A Yards per Pass_Away_Team  \\\n",
       "0                                         46.5   \n",
       "\n",
       "   Rolling 5 Past H&A Yards per Pass Avg_Away_Team  \\\n",
       "0                                              9.3   \n",
       "\n",
       "   Rolling 5 Past H&A Spread_Away_Team  \\\n",
       "0                                -87.5   \n",
       "\n",
       "   Rolling 5 Past H&A Spread Avg_Away_Team  Previous H&A Ranking_Away_Team  \n",
       "0                                    -17.5                             3.0  "
      ]
     },
     "execution_count": 157,
     "metadata": {},
     "output_type": "execute_result"
    }
   ],
   "source": [
    "X_bm"
   ]
  },
  {
   "cell_type": "code",
   "execution_count": 158,
   "id": "7828deb8",
   "metadata": {},
   "outputs": [],
   "source": [
    "bm_pred = best_model.predict(X_bm).item()"
   ]
  },
  {
   "cell_type": "code",
   "execution_count": 159,
   "id": "6e6fd799",
   "metadata": {},
   "outputs": [
    {
     "data": {
      "text/plain": [
       "10.567287784679088"
      ]
     },
     "execution_count": 159,
     "metadata": {},
     "output_type": "execute_result"
    }
   ],
   "source": [
    "bm_pred"
   ]
  },
  {
   "cell_type": "code",
   "execution_count": null,
   "id": "c2ae241a",
   "metadata": {},
   "outputs": [],
   "source": []
  }
 ],
 "metadata": {
  "kernelspec": {
   "display_name": "Python 3",
   "language": "python",
   "name": "python3"
  },
  "language_info": {
   "codemirror_mode": {
    "name": "ipython",
    "version": 3
   },
   "file_extension": ".py",
   "mimetype": "text/x-python",
   "name": "python",
   "nbconvert_exporter": "python",
   "pygments_lexer": "ipython3",
   "version": "3.8.8"
  }
 },
 "nbformat": 4,
 "nbformat_minor": 5
}
