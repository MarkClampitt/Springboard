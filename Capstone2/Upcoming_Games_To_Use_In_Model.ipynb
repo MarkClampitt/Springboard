{
 "cells": [
  {
   "cell_type": "code",
   "execution_count": null,
   "id": "d82f6253",
   "metadata": {},
   "outputs": [],
   "source": [
    "#Upcoming Games"
   ]
  },
  {
   "cell_type": "code",
   "execution_count": 1,
   "id": "7d1255f5",
   "metadata": {},
   "outputs": [],
   "source": [
    "import pandas as pd\n",
    "import numpy as np"
   ]
  },
  {
   "cell_type": "code",
   "execution_count": null,
   "id": "742e253d",
   "metadata": {},
   "outputs": [],
   "source": [
    "SBYSEC=pd.read_excel(r'/Users/markclampitt/Documents/Springboard/Capstone2/Data/FinalData.xls', sheet_name='Schedule By Year')\n",
    "SECODDS=pd.read_excel(r'/Users/markclampitt/Documents/Springboard/Capstone2/Data/FinalData.xls', sheet_name='SEC-OddsShark-Odds')\n",
    "GameStats=pd.read_excel(r'/Users/markclampitt/Documents/Springboard/Capstone2/Data/FinalData.xls', sheet_name='GameStats')"
   ]
  },
  {
   "cell_type": "code",
   "execution_count": null,
   "id": "eeb380ec",
   "metadata": {},
   "outputs": [],
   "source": []
  }
 ],
 "metadata": {
  "kernelspec": {
   "display_name": "Python 3",
   "language": "python",
   "name": "python3"
  },
  "language_info": {
   "codemirror_mode": {
    "name": "ipython",
    "version": 3
   },
   "file_extension": ".py",
   "mimetype": "text/x-python",
   "name": "python",
   "nbconvert_exporter": "python",
   "pygments_lexer": "ipython3",
   "version": "3.8.8"
  }
 },
 "nbformat": 4,
 "nbformat_minor": 5
}
