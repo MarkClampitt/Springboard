{
 "cells": [
  {
   "cell_type": "code",
   "execution_count": 1,
   "id": "5019b6d0",
   "metadata": {},
   "outputs": [],
   "source": [
    "import pandas as pd\n",
    "import numpy as np"
   ]
  },
  {
   "cell_type": "code",
   "execution_count": null,
   "id": "387c6e42",
   "metadata": {},
   "outputs": [],
   "source": [
    "SBYSEC=pd.read_excel(r'/Users/markclampitt/Documents/Springboard/Capstone2/Data/FinalData.xls', sheet_name='Schedule By Year')\n",
    "SECODDS=pd.read_excel(r'/Users/markclampitt/Documents/Springboard/Capstone2/Data/FinalData.xls', sheet_name='SEC-OddsShark-Odds')\n",
    "GameStats=pd.read_excel(r'/Users/markclampitt/Documents/Springboard/Capstone2/Data/FinalData.xls', sheet_name='GameStats')"
   ]
  },
  {
   "cell_type": "code",
   "execution_count": null,
   "id": "af4a013c",
   "metadata": {},
   "outputs": [],
   "source": [
    "pd.set_option('Max_columns',None)\n",
    "pd.set_option('Max_rows',None)"
   ]
  },
  {
   "cell_type": "markdown",
   "id": "3b241c0e",
   "metadata": {},
   "source": [
    "# SBYSEC CLEANING "
   ]
  },
  {
   "cell_type": "code",
   "execution_count": null,
   "id": "67c93522",
   "metadata": {},
   "outputs": [],
   "source": [
    "# SBYSEC inital look at dataset"
   ]
  },
  {
   "cell_type": "code",
   "execution_count": null,
   "id": "0f2c2e21",
   "metadata": {},
   "outputs": [],
   "source": [
    "SBYSEC.head()"
   ]
  },
  {
   "cell_type": "code",
   "execution_count": null,
   "id": "95d0a212",
   "metadata": {},
   "outputs": [],
   "source": [
    "SBYSEC.shape"
   ]
  },
  {
   "cell_type": "code",
   "execution_count": null,
   "id": "c5913cc0",
   "metadata": {},
   "outputs": [],
   "source": [
    "SBYSEC.dtypes"
   ]
  },
  {
   "cell_type": "code",
   "execution_count": null,
   "id": "fbe40a46",
   "metadata": {
    "scrolled": false
   },
   "outputs": [],
   "source": [
    "SBYSEC['Opponent'].unique()\n"
   ]
  },
  {
   "cell_type": "code",
   "execution_count": null,
   "id": "9cac52c9",
   "metadata": {},
   "outputs": [],
   "source": [
    "#Stripped white space as it was causing issues later in the code"
   ]
  },
  {
   "cell_type": "code",
   "execution_count": null,
   "id": "cef91847",
   "metadata": {},
   "outputs": [],
   "source": [
    "SBYSEC['TEAM']=SBYSEC['TEAM'].str.strip()\n",
    "SBYSEC['Opponent'] = SBYSEC['Opponent'].str.strip()\n",
    "SBYSEC['W-L (CONF)'] = SBYSEC['W-L (CONF)'].str.strip()\n",
    "SBYSEC['HI PASS']=SBYSEC['HI PASS'].str.strip()\n",
    "SBYSEC['HI RUSH']=SBYSEC['HI RUSH'].str.strip()\n",
    "SBYSEC['HI REC']= SBYSEC['HI REC'].str.strip()"
   ]
  },
  {
   "cell_type": "code",
   "execution_count": null,
   "id": "80eca091",
   "metadata": {},
   "outputs": [],
   "source": [
    "#This column was the source of issues later, so wanted to compare null values at beginning. Confimed all null values listed below were in fact missing from dataset"
   ]
  },
  {
   "cell_type": "code",
   "execution_count": null,
   "id": "11c53485",
   "metadata": {},
   "outputs": [],
   "source": [
    "SBYSEC[SBYSEC['HI PASS'].isnull()]"
   ]
  },
  {
   "cell_type": "code",
   "execution_count": null,
   "id": "fed5bbfe",
   "metadata": {},
   "outputs": [],
   "source": [
    "SBYSEC['TEAM'].unique()"
   ]
  },
  {
   "cell_type": "code",
   "execution_count": null,
   "id": "ff9ebee6",
   "metadata": {},
   "outputs": [],
   "source": [
    "#As shown below, there are non-SEC Teams included in the Opponent column. All teams listed under the column TEAMS are SEC"
   ]
  },
  {
   "cell_type": "code",
   "execution_count": null,
   "id": "8d1e73e6",
   "metadata": {},
   "outputs": [],
   "source": [
    "SBYSEC[['YEAR','TEAM','Opponent']].groupby(['YEAR','TEAM','Opponent']).count()\n"
   ]
  },
  {
   "cell_type": "code",
   "execution_count": null,
   "id": "acf77ecf",
   "metadata": {},
   "outputs": [],
   "source": [
    "#As shown below, The games by TEAM seem to be evenly distributed with above 200 per TEAM, ranging from 219-241"
   ]
  },
  {
   "cell_type": "code",
   "execution_count": null,
   "id": "7b6ab188",
   "metadata": {},
   "outputs": [],
   "source": [
    "SBYSEC['TEAM'].groupby(SBYSEC['TEAM']).count().sort_values()"
   ]
  },
  {
   "cell_type": "code",
   "execution_count": null,
   "id": "a662029f",
   "metadata": {},
   "outputs": [],
   "source": [
    "#As shown below, each team has a conistent number of games per year between 10-12 from 2004-2021"
   ]
  },
  {
   "cell_type": "code",
   "execution_count": null,
   "id": "acb960aa",
   "metadata": {
    "scrolled": false
   },
   "outputs": [],
   "source": [
    "SBYSEC[['YEAR','TEAM']].groupby(['YEAR','TEAM']).size()"
   ]
  },
  {
   "cell_type": "code",
   "execution_count": null,
   "id": "1b000b17",
   "metadata": {},
   "outputs": [],
   "source": [
    "#Below are the initial changes made to SBYSEC in order to format columns and data in a way that can be used"
   ]
  },
  {
   "cell_type": "code",
   "execution_count": null,
   "id": "207436e1",
   "metadata": {},
   "outputs": [],
   "source": [
    "#Eliminated future games and \"Postponed\" games from df to avoid issues later"
   ]
  },
  {
   "cell_type": "code",
   "execution_count": null,
   "id": "6e2dc25b",
   "metadata": {},
   "outputs": [],
   "source": [
    "SBYSEC= SBYSEC[SBYSEC['Date'] <= '10/10/2021']"
   ]
  },
  {
   "cell_type": "code",
   "execution_count": null,
   "id": "83425e1b",
   "metadata": {},
   "outputs": [],
   "source": [
    "SBYSEC = SBYSEC[SBYSEC['RESULT'] != \"POSTPONED\"]"
   ]
  },
  {
   "cell_type": "code",
   "execution_count": null,
   "id": "756c2d5a",
   "metadata": {},
   "outputs": [],
   "source": [
    "SBYSEC.head()"
   ]
  },
  {
   "cell_type": "markdown",
   "id": "68a6d109",
   "metadata": {},
   "source": [
    "# SBYSEC ['HOME-AWAY'] Cleaning"
   ]
  },
  {
   "cell_type": "code",
   "execution_count": null,
   "id": "6bf78b64",
   "metadata": {},
   "outputs": [],
   "source": [
    "# Needed to seperate data by Home and Away Teams to be able to organize the data throughout this project"
   ]
  },
  {
   "cell_type": "code",
   "execution_count": null,
   "id": "78453a1d",
   "metadata": {},
   "outputs": [],
   "source": [
    "SBYSEC = SBYSEC.replace({'Home-Away': {'vs': 'Home', \n",
    "                                '@': 'Away'}})"
   ]
  },
  {
   "cell_type": "code",
   "execution_count": null,
   "id": "46a52e21",
   "metadata": {},
   "outputs": [],
   "source": [
    "SBYSEC.head()"
   ]
  },
  {
   "cell_type": "markdown",
   "id": "6faa125f",
   "metadata": {},
   "source": [
    "# Hi Player and Yard Stats Cleaning"
   ]
  },
  {
   "cell_type": "code",
   "execution_count": null,
   "id": "eee8c64e",
   "metadata": {},
   "outputs": [],
   "source": [
    "#Seperated player from stats below"
   ]
  },
  {
   "cell_type": "code",
   "execution_count": null,
   "id": "924511c6",
   "metadata": {},
   "outputs": [],
   "source": [
    "SBYSEC[['HI Pass Player','HI Pass Player/Yards' ,'HI Pass Yards']] = SBYSEC['HI PASS'].str.split(n=2, expand=True)\n",
    "SBYSEC[['HI Rush Player','HI RUSH Player/Yards', 'HI Rush Yards']] = SBYSEC['HI RUSH'].str.split(n=2, expand=True)\n",
    "SBYSEC[['HI REC Player', 'HI REC Player/Yards','HI REC Yards']] = SBYSEC['HI REC'].str.split(n=2, expand=True)"
   ]
  },
  {
   "cell_type": "code",
   "execution_count": null,
   "id": "b85de94c",
   "metadata": {},
   "outputs": [],
   "source": [
    "SBYSEC.head()"
   ]
  },
  {
   "cell_type": "markdown",
   "id": "d6c9abc2",
   "metadata": {},
   "source": [
    "# SBYSEC [Hi Rush Player Stats Section] cleaning"
   ]
  },
  {
   "cell_type": "code",
   "execution_count": null,
   "id": "c3268a1c",
   "metadata": {},
   "outputs": [],
   "source": [
    "SBYSEC['HI Rush Player'].unique()"
   ]
  },
  {
   "cell_type": "code",
   "execution_count": null,
   "id": "c5963700",
   "metadata": {},
   "outputs": [],
   "source": [
    "#Noticed that most the stats ended up in Player/Yards, however as some players had Two spaces in their last name, such as Robinson Jr, it put the 2nd split into this column instead of the data"
   ]
  },
  {
   "cell_type": "code",
   "execution_count": null,
   "id": "b81e64b8",
   "metadata": {},
   "outputs": [],
   "source": [
    "SBYSEC['HI RUSH Player/Yards'].unique()"
   ]
  },
  {
   "cell_type": "code",
   "execution_count": null,
   "id": "46b8c297",
   "metadata": {},
   "outputs": [],
   "source": [
    "#In instinces where there were two spaces in the last name, the data ended up in 'Hi Rush Yards' column. So adjusted the data in Hi RUSH Player/Yards acordingly so it owuld only have stats"
   ]
  },
  {
   "cell_type": "code",
   "execution_count": null,
   "id": "819f0bbb",
   "metadata": {},
   "outputs": [],
   "source": [
    "SBYSEC['HI RUSH Player/Yards'] = SBYSEC.apply(lambda x: x['HI RUSH Player/Yards'] if x['HI RUSH Player/Yards'] != 'Jr.' and x['HI RUSH Player/Yards'] != 'II' and x['HI RUSH Player/Yards'] != 'III' else (x['HI Rush Yards']),axis=1)\n",
    "\n",
    "\n"
   ]
  },
  {
   "cell_type": "code",
   "execution_count": null,
   "id": "658ecf86",
   "metadata": {},
   "outputs": [],
   "source": [
    "SBYSEC.head()"
   ]
  },
  {
   "cell_type": "code",
   "execution_count": null,
   "id": "e9551df7",
   "metadata": {},
   "outputs": [],
   "source": [
    "SBYSEC['HI RUSH Player/Yards'].unique()"
   ]
  },
  {
   "cell_type": "code",
   "execution_count": null,
   "id": "7aae4af5",
   "metadata": {},
   "outputs": [],
   "source": [
    "SBYSEC[SBYSEC['HI RUSH Player/Yards'].isnull()]"
   ]
  },
  {
   "cell_type": "code",
   "execution_count": null,
   "id": "34bd2ea6",
   "metadata": {},
   "outputs": [],
   "source": [
    "#As there were only a few true null values in the dataset for HI RUSH Player/Yards I gave these nulls a value of 90 which is ballpark average"
   ]
  },
  {
   "cell_type": "code",
   "execution_count": null,
   "id": "c5aca22d",
   "metadata": {},
   "outputs": [],
   "source": [
    "SBYSEC['HI RUSH Player/Yards'].fillna(90,inplace=True)"
   ]
  },
  {
   "cell_type": "code",
   "execution_count": null,
   "id": "07ae4bef",
   "metadata": {},
   "outputs": [],
   "source": [
    "#Changed data type to numeric"
   ]
  },
  {
   "cell_type": "code",
   "execution_count": null,
   "id": "c7b9f652",
   "metadata": {},
   "outputs": [],
   "source": [
    "SBYSEC['HI RUSH Player/Yards'] = pd.to_numeric(SBYSEC['HI RUSH Player/Yards'])"
   ]
  },
  {
   "cell_type": "code",
   "execution_count": null,
   "id": "b94683d2",
   "metadata": {},
   "outputs": [],
   "source": [
    "SBYSEC[SBYSEC['HI RUSH Player/Yards'].isnull()]"
   ]
  },
  {
   "cell_type": "markdown",
   "id": "ac9e7efc",
   "metadata": {},
   "source": [
    "# HI Pass Player Stats Cleaning"
   ]
  },
  {
   "cell_type": "code",
   "execution_count": null,
   "id": "2f280a32",
   "metadata": {},
   "outputs": [],
   "source": [
    "SBYSEC['HI Pass Player'].unique()"
   ]
  },
  {
   "cell_type": "code",
   "execution_count": null,
   "id": "04599ea1",
   "metadata": {},
   "outputs": [],
   "source": [
    "SBYSEC['HI Pass Player/Yards'].unique()"
   ]
  },
  {
   "cell_type": "code",
   "execution_count": null,
   "id": "9bdd909e",
   "metadata": {},
   "outputs": [],
   "source": [
    "SBYSEC['HI Pass Player/Yards'] = SBYSEC.apply(lambda x: x['HI Pass Player/Yards'] if x['HI Pass Player/Yards'] != '' and x['HI Pass Player/Yards'] != 'Jr.' and x['HI Pass Player/Yards'] != 'Rio' and x['HI Pass Player/Yards'] != 'III' else (x['HI Pass Yards']),axis=1)"
   ]
  },
  {
   "cell_type": "code",
   "execution_count": null,
   "id": "6edc00f9",
   "metadata": {},
   "outputs": [],
   "source": [
    "SBYSEC[SBYSEC['HI Pass Player/Yards'].isnull()]"
   ]
  },
  {
   "cell_type": "code",
   "execution_count": null,
   "id": "2e3dd302",
   "metadata": {},
   "outputs": [],
   "source": [
    "#Filled na values with 90 as ballpark average, given it represented a small amount of rows and most were in the earliest year of the data"
   ]
  },
  {
   "cell_type": "code",
   "execution_count": null,
   "id": "bdfc7c20",
   "metadata": {},
   "outputs": [],
   "source": [
    "SBYSEC['HI Pass Player/Yards'].fillna(90,inplace=True)"
   ]
  },
  {
   "cell_type": "code",
   "execution_count": null,
   "id": "50f4caf7",
   "metadata": {},
   "outputs": [],
   "source": [
    "SBYSEC[SBYSEC['HI Pass Player/Yards'].isnull()]"
   ]
  },
  {
   "cell_type": "code",
   "execution_count": null,
   "id": "fb100285",
   "metadata": {},
   "outputs": [],
   "source": [
    "#Converted to numeric"
   ]
  },
  {
   "cell_type": "code",
   "execution_count": null,
   "id": "aa5ad05e",
   "metadata": {},
   "outputs": [],
   "source": [
    "SBYSEC['HI Pass Player/Yards']= pd.to_numeric(SBYSEC['HI Pass Player/Yards'])"
   ]
  },
  {
   "cell_type": "markdown",
   "id": "38fbc68f",
   "metadata": {},
   "source": [
    "# SBYSEC \"HI REC Stats\" Cleaning Section"
   ]
  },
  {
   "cell_type": "code",
   "execution_count": null,
   "id": "2863c6b3",
   "metadata": {},
   "outputs": [],
   "source": [
    "SBYSEC['HI REC Yards'].unique()"
   ]
  },
  {
   "cell_type": "code",
   "execution_count": null,
   "id": "dd6f9a35",
   "metadata": {},
   "outputs": [],
   "source": [
    "SBYSEC['HI REC Player/Yards'].unique()"
   ]
  },
  {
   "cell_type": "code",
   "execution_count": null,
   "id": "d8c2471d",
   "metadata": {},
   "outputs": [],
   "source": [
    "SBYSEC['HI REC Player'].unique()"
   ]
  },
  {
   "cell_type": "code",
   "execution_count": null,
   "id": "12077cfa",
   "metadata": {},
   "outputs": [],
   "source": [
    "SBYSEC['HI REC Player/Yards'] = SBYSEC.apply(lambda x: x['HI REC Player/Yards'] if x['HI REC Player/Yards'] != '' and x['HI REC Player/Yards'] != 'Jr.' and x['HI REC Player/Yards'] != 'III' and x['HI REC Player/Yards'] != 'II' else (x['HI REC Yards']),axis=1)\n",
    "\n"
   ]
  },
  {
   "cell_type": "code",
   "execution_count": null,
   "id": "c6221537",
   "metadata": {},
   "outputs": [],
   "source": [
    "SBYSEC.head()"
   ]
  },
  {
   "cell_type": "code",
   "execution_count": null,
   "id": "334ba9e1",
   "metadata": {},
   "outputs": [],
   "source": [
    "SBYSEC[SBYSEC['HI REC Player/Yards'].isnull()]"
   ]
  },
  {
   "cell_type": "code",
   "execution_count": null,
   "id": "066c45aa",
   "metadata": {},
   "outputs": [],
   "source": [
    "SBYSEC['HI REC Player/Yards'].fillna(90,inplace=True)"
   ]
  },
  {
   "cell_type": "code",
   "execution_count": null,
   "id": "ab49ab72",
   "metadata": {},
   "outputs": [],
   "source": [
    "SBYSEC[SBYSEC['HI REC Player/Yards'].isnull()]"
   ]
  },
  {
   "cell_type": "code",
   "execution_count": null,
   "id": "82f720ad",
   "metadata": {},
   "outputs": [],
   "source": [
    "SBYSEC['HI REC Player/Yards']= pd.to_numeric(SBYSEC['HI REC Player/Yards'])"
   ]
  },
  {
   "cell_type": "markdown",
   "id": "302a2d29",
   "metadata": {},
   "source": [
    "# SBYSEC RESULT COLUMN CLEANING"
   ]
  },
  {
   "cell_type": "code",
   "execution_count": null,
   "id": "80dcda49",
   "metadata": {},
   "outputs": [],
   "source": [
    "SBYSEC['RESULT'].unique()"
   ]
  },
  {
   "cell_type": "code",
   "execution_count": null,
   "id": "c90d0bc3",
   "metadata": {},
   "outputs": [],
   "source": [
    "SBYSEC['RESULT'] = SBYSEC['RESULT'].apply(str)"
   ]
  },
  {
   "cell_type": "code",
   "execution_count": null,
   "id": "2108af7d",
   "metadata": {},
   "outputs": [],
   "source": [
    "SBYSEC['W-L'] = SBYSEC.apply(lambda x: x['RESULT'][0:1] if x['RESULT'][0:1] == \"W\" else (x['RESULT'][0:1] if x['RESULT'][0:1] == 'L' else \"\"), axis=1)\n",
    "SBYSEC['Score'] = SBYSEC.apply(lambda x: x['RESULT'][1:6] if x['RESULT'][0:1] == \"W\" else (x['RESULT'][1:6] if x['RESULT'][0:1] == 'L' else \"\"), axis=1)\n"
   ]
  },
  {
   "cell_type": "code",
   "execution_count": null,
   "id": "082c0a14",
   "metadata": {},
   "outputs": [],
   "source": [
    "SBYSEC.head(10)"
   ]
  },
  {
   "cell_type": "markdown",
   "id": "ffbbd65a",
   "metadata": {},
   "source": [
    "# SBYSEC Opponnent and Opponnent Ranking Cleaning "
   ]
  },
  {
   "cell_type": "code",
   "execution_count": null,
   "id": "d97b3327",
   "metadata": {},
   "outputs": [],
   "source": [
    "RankingList=['1','2','3','4','5','6','7','8','9','10','11','12','13','14','15','16','17','18','19','20','21','22','23','24','25']"
   ]
  },
  {
   "cell_type": "code",
   "execution_count": null,
   "id": "a262560a",
   "metadata": {},
   "outputs": [],
   "source": [
    "SBYSEC['Opponent Ranking'] = SBYSEC.apply(lambda x : x['Opponent'][:2] if x['Opponent'][:2] in RankingList else (x['Opponent'][:1] if x['Opponent'][:1] in RankingList else x['Opponent'][0:0]), axis=1)"
   ]
  },
  {
   "cell_type": "code",
   "execution_count": null,
   "id": "a1994a7b",
   "metadata": {},
   "outputs": [],
   "source": [
    "SBYSEC.head()"
   ]
  },
  {
   "cell_type": "markdown",
   "id": "fe40c076",
   "metadata": {},
   "source": [
    "# SBYSEC W-L (Conf) Cleaning"
   ]
  },
  {
   "cell_type": "code",
   "execution_count": null,
   "id": "df632693",
   "metadata": {},
   "outputs": [],
   "source": [
    "#The teams overall record is in W-L outside of the \"()\" while the conference record is in \"()\". This data also takes into the account the outcome of the game on the same row "
   ]
  },
  {
   "cell_type": "code",
   "execution_count": null,
   "id": "a4987bae",
   "metadata": {},
   "outputs": [],
   "source": [
    "SBYSEC['W-L (CONF)'].unique()"
   ]
  },
  {
   "cell_type": "code",
   "execution_count": null,
   "id": "ad3354ec",
   "metadata": {},
   "outputs": [],
   "source": [
    "SBYSEC['W-L (CONF)']= SBYSEC['W-L (CONF)'].str.strip()"
   ]
  },
  {
   "cell_type": "code",
   "execution_count": null,
   "id": "1c916f95",
   "metadata": {},
   "outputs": [],
   "source": [
    "SBYSEC['W-L (CONF)'].unique()"
   ]
  },
  {
   "cell_type": "code",
   "execution_count": null,
   "id": "4c3c8e74",
   "metadata": {},
   "outputs": [],
   "source": [
    "#SBYSEC['CONF'] = SBYSEC[\"W-L (CONF)\"].str[5:8] -didn't work\n",
    "#SBYSEC['W-L (CONF)'] = SBYSEC[\"W-L (CONF)\"].str[0:3] - didn't work"
   ]
  },
  {
   "cell_type": "code",
   "execution_count": null,
   "id": "be4976a6",
   "metadata": {},
   "outputs": [],
   "source": [
    "SBYSEC[['Total Season Wins and Losses', 'Total Conf Wins and Losses']] = SBYSEC['W-L (CONF)'].str.split('(',n=1, expand=True)\n",
    "\n",
    "\n"
   ]
  },
  {
   "cell_type": "code",
   "execution_count": null,
   "id": "58839c06",
   "metadata": {},
   "outputs": [],
   "source": [
    "SBYSEC.head()"
   ]
  },
  {
   "cell_type": "code",
   "execution_count": null,
   "id": "22c1df06",
   "metadata": {},
   "outputs": [],
   "source": [
    "SBYSEC['Total Conf Wins and Losses']=SBYSEC['Total Conf Wins and Losses'].replace('\\)','',regex=True)"
   ]
  },
  {
   "cell_type": "code",
   "execution_count": null,
   "id": "37945ee9",
   "metadata": {},
   "outputs": [],
   "source": [
    "SBYSEC.head()"
   ]
  },
  {
   "cell_type": "code",
   "execution_count": null,
   "id": "b96881bf",
   "metadata": {},
   "outputs": [],
   "source": [
    "SBYSEC['Total Conf Wins and Losses'].unique()"
   ]
  },
  {
   "cell_type": "code",
   "execution_count": null,
   "id": "86a517a8",
   "metadata": {},
   "outputs": [],
   "source": [
    "SBYSEC['Total Season Wins and Losses'].unique()"
   ]
  },
  {
   "cell_type": "code",
   "execution_count": null,
   "id": "29b4c66e",
   "metadata": {},
   "outputs": [],
   "source": [
    "SBYSEC[['Total Season Wins', 'Total Season Losses']] = SBYSEC['Total Season Wins and Losses'].str.split('-',n=1, expand=True)\n",
    "\n",
    "\n"
   ]
  },
  {
   "cell_type": "code",
   "execution_count": null,
   "id": "53d4e81d",
   "metadata": {},
   "outputs": [],
   "source": [
    "SBYSEC.head()"
   ]
  },
  {
   "cell_type": "code",
   "execution_count": null,
   "id": "36528227",
   "metadata": {},
   "outputs": [],
   "source": [
    "SBYSEC[['Total Conf Season Wins', 'Total Conf Season Losses']] = SBYSEC['Total Conf Wins and Losses'].str.split('-',n=1, expand=True)\n",
    "\n",
    "\n"
   ]
  },
  {
   "cell_type": "code",
   "execution_count": null,
   "id": "ee4c6058",
   "metadata": {},
   "outputs": [],
   "source": [
    "SBYSEC.head()"
   ]
  },
  {
   "cell_type": "code",
   "execution_count": null,
   "id": "212d22bd",
   "metadata": {},
   "outputs": [],
   "source": [
    "SBYSEC['Total Conf Season Wins'].unique()"
   ]
  },
  {
   "cell_type": "code",
   "execution_count": null,
   "id": "bfaef61e",
   "metadata": {},
   "outputs": [],
   "source": [
    "SBYSEC['Total Conf Season Losses'].unique()"
   ]
  },
  {
   "cell_type": "code",
   "execution_count": null,
   "id": "b18d36da",
   "metadata": {},
   "outputs": [],
   "source": [
    "SBYSEC['Total Season Losses'].unique()"
   ]
  },
  {
   "cell_type": "code",
   "execution_count": null,
   "id": "706b9ce6",
   "metadata": {},
   "outputs": [],
   "source": [
    "SBYSEC['Total Season Wins'].unique()"
   ]
  },
  {
   "cell_type": "code",
   "execution_count": null,
   "id": "201cf7d3",
   "metadata": {},
   "outputs": [],
   "source": [
    "SBYSEC.head()"
   ]
  },
  {
   "cell_type": "markdown",
   "id": "5f71cbb1",
   "metadata": {},
   "source": [
    "# SBYSEC Opponent Cleaning"
   ]
  },
  {
   "cell_type": "code",
   "execution_count": null,
   "id": "64d6a542",
   "metadata": {},
   "outputs": [],
   "source": [
    "#Needed to know how many characters the ranking information was so I could properly split the team name from the Opponent column"
   ]
  },
  {
   "cell_type": "code",
   "execution_count": null,
   "id": "a27e585c",
   "metadata": {},
   "outputs": [],
   "source": [
    "SBYSEC['Length'] = SBYSEC['Opponent Ranking'].str.len()"
   ]
  },
  {
   "cell_type": "code",
   "execution_count": null,
   "id": "1647ba75",
   "metadata": {},
   "outputs": [],
   "source": [
    "SBYSEC[SBYSEC['Length'] == 1].head()"
   ]
  },
  {
   "cell_type": "code",
   "execution_count": null,
   "id": "a9fcf0a4",
   "metadata": {},
   "outputs": [],
   "source": [
    "SBYSEC[SBYSEC['Length'] == 2].head()"
   ]
  },
  {
   "cell_type": "code",
   "execution_count": null,
   "id": "7e255af1",
   "metadata": {},
   "outputs": [],
   "source": [
    "SBYSEC['Opposing Team'] = SBYSEC.apply(lambda x: x['Opponent'][2:] if x['Length'] == 2 else (x['Opponent'][1:] if x['Length'] == 1 else x['Opponent']), axis=1)\n"
   ]
  },
  {
   "cell_type": "code",
   "execution_count": null,
   "id": "23caf9b6",
   "metadata": {},
   "outputs": [],
   "source": [
    "SBYSEC.head()"
   ]
  },
  {
   "cell_type": "code",
   "execution_count": null,
   "id": "07af8427",
   "metadata": {},
   "outputs": [],
   "source": [
    "#Some of the opponents had \"*\" assigned at the end that needed to be removed"
   ]
  },
  {
   "cell_type": "code",
   "execution_count": null,
   "id": "185341f5",
   "metadata": {},
   "outputs": [],
   "source": [
    "SBYSEC['Opposing Team']=SBYSEC['Opposing Team'].replace('\\*','',regex=True)"
   ]
  },
  {
   "cell_type": "code",
   "execution_count": null,
   "id": "291d4150",
   "metadata": {},
   "outputs": [],
   "source": [
    "SBYSEC.head()"
   ]
  },
  {
   "cell_type": "code",
   "execution_count": null,
   "id": "e35ffab1",
   "metadata": {},
   "outputs": [],
   "source": [
    "SBYSEC['Opposing Team'].unique()"
   ]
  },
  {
   "cell_type": "code",
   "execution_count": null,
   "id": "9730dc35",
   "metadata": {},
   "outputs": [],
   "source": [
    "SBYSEC['Opposing Team'] = SBYSEC['Opposing Team'].str.strip()"
   ]
  },
  {
   "cell_type": "code",
   "execution_count": null,
   "id": "03a7d50b",
   "metadata": {},
   "outputs": [],
   "source": [
    "SBYSEC.head()"
   ]
  },
  {
   "cell_type": "code",
   "execution_count": null,
   "id": "cff5853e",
   "metadata": {},
   "outputs": [],
   "source": [
    "SBYSEC['Opposing Team'].unique()"
   ]
  },
  {
   "cell_type": "markdown",
   "id": "5aa8806e",
   "metadata": {},
   "source": [
    "# Season and Conferece Wins and Losses Cleaning"
   ]
  },
  {
   "cell_type": "code",
   "execution_count": null,
   "id": "c5b155db",
   "metadata": {},
   "outputs": [],
   "source": [
    "#Seperated Total and Conf W's and L's record to give them indidual columns"
   ]
  },
  {
   "cell_type": "code",
   "execution_count": null,
   "id": "4ce4228f",
   "metadata": {},
   "outputs": [],
   "source": [
    "#SBYSEC['Total Season Wins'] = SBYSEC.apply(lambda x: x['W-L (CONF)'][0:1] if x['RESULT'][0:1] == \"W\" else (x['W-L (CONF)'][0:1] if x['RESULT'][0:1] == 'L' else \"\"), axis=1)\n",
    "#SBYSEC['Total Season Losses'] = SBYSEC.apply(lambda x: x['W-L (CONF)'][2:3] if x['RESULT'][0:1] == \"W\" else (x['W-L (CONF)'][2:3] if x['RESULT'][0:1] == 'L' else \"\"), axis=1)"
   ]
  },
  {
   "cell_type": "code",
   "execution_count": null,
   "id": "94b0a7d3",
   "metadata": {},
   "outputs": [],
   "source": [
    "SBYSEC.head()"
   ]
  },
  {
   "cell_type": "code",
   "execution_count": null,
   "id": "a26dc303",
   "metadata": {},
   "outputs": [],
   "source": [
    "SBYSEC.head()"
   ]
  },
  {
   "cell_type": "code",
   "execution_count": null,
   "id": "23596ff5",
   "metadata": {},
   "outputs": [],
   "source": [
    "#SBYSEC['Total Conf Season Wins'] = SBYSEC.apply(lambda x: x['CONF'][0:1] if x['RESULT'][0:1] == \"W\" else (x['CONF'][0:1] if x['RESULT'][0:1] == 'L' else \"\"), axis=1)\n",
    "#SBYSEC['Total Conf Season Losses'] = SBYSEC.apply(lambda x: x['CONF'][2:3] if x['RESULT'][0:1] == \"W\" else (x['CONF'][2:3] if x['RESULT'][0:1] == 'L' else \"\"), axis=1)\n"
   ]
  },
  {
   "cell_type": "code",
   "execution_count": null,
   "id": "36d300bb",
   "metadata": {},
   "outputs": [],
   "source": [
    "SBYSEC.head()"
   ]
  },
  {
   "cell_type": "markdown",
   "id": "9fba8fd8",
   "metadata": {},
   "source": [
    "# SBYSEC Score Cleaning"
   ]
  },
  {
   "cell_type": "code",
   "execution_count": null,
   "id": "0bf35926",
   "metadata": {},
   "outputs": [],
   "source": [
    "SBYSEC[[\"Score1\",\"Score2\"]] = SBYSEC[\"Score\"].str.split(\"-\",n=1, expand = True) "
   ]
  },
  {
   "cell_type": "code",
   "execution_count": null,
   "id": "0aaeef4e",
   "metadata": {},
   "outputs": [],
   "source": [
    "SBYSEC.head()"
   ]
  },
  {
   "cell_type": "code",
   "execution_count": null,
   "id": "fa24db13",
   "metadata": {},
   "outputs": [],
   "source": [
    "#Created Home and Away Team columns to better identify teams. As the data was sourced from the TEAM perspective, I could identify which games they were home and which they were away."
   ]
  },
  {
   "cell_type": "code",
   "execution_count": null,
   "id": "b74848a9",
   "metadata": {},
   "outputs": [],
   "source": [
    "SBYSEC['Home Team'] = SBYSEC.apply(lambda x: x['TEAM'] if x['Home-Away'] == \"Home\" else (x['Opposing Team'] if x['Home-Away'] == 'Away' else \"\"), axis=1)\n",
    "SBYSEC['Away Team'] = SBYSEC.apply(lambda x: x['TEAM'] if x['Home-Away'] == \"Away\" else (x['Opposing Team'] if x['Home-Away'] == 'Home' else \"\"), axis=1)\n"
   ]
  },
  {
   "cell_type": "code",
   "execution_count": null,
   "id": "3fae2320",
   "metadata": {},
   "outputs": [],
   "source": [
    "SBYSEC.head()"
   ]
  },
  {
   "cell_type": "markdown",
   "id": "dc529d64",
   "metadata": {},
   "source": [
    "# SBYSEC Created Home and Away Team"
   ]
  },
  {
   "cell_type": "code",
   "execution_count": null,
   "id": "0db36367",
   "metadata": {},
   "outputs": [],
   "source": [
    "#Made a list of SEC Teams below to filter out any non-SEC opponnents since I am building a model specific to SEC and don't want to have stats from other teams in the mix."
   ]
  },
  {
   "cell_type": "code",
   "execution_count": null,
   "id": "c7d9a605",
   "metadata": {},
   "outputs": [],
   "source": [
    "SEC_Teams_List = ['Alabama',\n",
    " 'Arkansas',\n",
    " 'Auburn',\n",
    " 'Florida',\n",
    " 'Georgia',\n",
    " 'Kentucky',\n",
    " 'LSU',\n",
    " 'Mississippi State',\n",
    " 'Missouri',\n",
    " 'Ole Miss',\n",
    " 'South Carolina',\n",
    " 'Tennessee',\n",
    " 'Texas A&M',\n",
    " 'Vanderbilt',\n",
    " 'Mississippi',\n",
    " 'Louisiana State']"
   ]
  },
  {
   "cell_type": "code",
   "execution_count": null,
   "id": "5067aab3",
   "metadata": {},
   "outputs": [],
   "source": [
    "SBYSEC['Home Team']=SBYSEC['Home Team'].str.strip()\n",
    "SBYSEC['Away Team']=SBYSEC['Away Team'].str.strip()"
   ]
  },
  {
   "cell_type": "code",
   "execution_count": null,
   "id": "b5b2e279",
   "metadata": {},
   "outputs": [],
   "source": [
    "SBYSEC['Remove/Keep'] = SBYSEC.apply(lambda x: \"Keep\" if x['Home Team'] in SEC_Teams_List and x['Away Team'] in SEC_Teams_List else (\"Remove\"),axis=1)"
   ]
  },
  {
   "cell_type": "code",
   "execution_count": null,
   "id": "dd1bbdee",
   "metadata": {},
   "outputs": [],
   "source": [
    "SBYSEC.head()"
   ]
  },
  {
   "cell_type": "code",
   "execution_count": null,
   "id": "cc2cb00b",
   "metadata": {},
   "outputs": [],
   "source": [
    "SBYSEC.shape"
   ]
  },
  {
   "cell_type": "code",
   "execution_count": null,
   "id": "5b377a09",
   "metadata": {},
   "outputs": [],
   "source": [
    "SBYSEC[SBYSEC['Remove/Keep']=='Remove'].head(30)"
   ]
  },
  {
   "cell_type": "code",
   "execution_count": null,
   "id": "ef2a523f",
   "metadata": {},
   "outputs": [],
   "source": [
    "SBYSEC= SBYSEC[SBYSEC[\"Remove/Keep\"].str.contains(\"Remove\")==False]"
   ]
  },
  {
   "cell_type": "code",
   "execution_count": null,
   "id": "f15595e9",
   "metadata": {},
   "outputs": [],
   "source": [
    "SBYSEC.shape"
   ]
  },
  {
   "cell_type": "code",
   "execution_count": null,
   "id": "e07899c0",
   "metadata": {},
   "outputs": [],
   "source": [
    "SBYSEC.head()"
   ]
  },
  {
   "cell_type": "code",
   "execution_count": null,
   "id": "7f62a8d8",
   "metadata": {},
   "outputs": [],
   "source": [
    "#SYBSEC - Eliminated unnecessary columns and double checking for null values before continuing "
   ]
  },
  {
   "cell_type": "code",
   "execution_count": null,
   "id": "a1f4c9f8",
   "metadata": {},
   "outputs": [],
   "source": [
    "SBYSEC['W-L'].unique()"
   ]
  },
  {
   "cell_type": "code",
   "execution_count": null,
   "id": "f221b4a4",
   "metadata": {},
   "outputs": [],
   "source": [
    "#Double checking the data after inital cleaning shows Texas A&M and Missouri with fewer games. This is because Texas A&M and Missouri joined the SEC in 2012."
   ]
  },
  {
   "cell_type": "code",
   "execution_count": null,
   "id": "a62db729",
   "metadata": {},
   "outputs": [],
   "source": [
    "SBYSEC['TEAM'].groupby(SBYSEC['TEAM']).count().sort_values()"
   ]
  },
  {
   "cell_type": "code",
   "execution_count": null,
   "id": "b6e7a1b9",
   "metadata": {},
   "outputs": [],
   "source": [
    "SBYSEC[['YEAR','TEAM']].groupby(['YEAR','TEAM']).size()"
   ]
  },
  {
   "cell_type": "code",
   "execution_count": null,
   "id": "20be73fc",
   "metadata": {},
   "outputs": [],
   "source": [
    "SBYSEC=SBYSEC[[\n",
    "    \n",
    "    'YEAR',\n",
    "    'Date',\n",
    "    'HI Pass Player/Yards',\n",
    "    'HI RUSH Player/Yards',\n",
    "    'HI REC Player/Yards',\n",
    "    'Opponent Ranking',\n",
    "    'Opposing Team',\n",
    "    'Total Season Wins',\n",
    "    'Total Season Losses',\n",
    "    'Total Conf Season Wins',\n",
    "    'Total Conf Season Losses',\n",
    "    'Score1',\n",
    "    'Score2',\n",
    "    'Home Team',\n",
    "    'Away Team',\n",
    "    'W-L',\n",
    "    'TEAM'\n",
    "]]"
   ]
  },
  {
   "cell_type": "code",
   "execution_count": null,
   "id": "925de3a8",
   "metadata": {},
   "outputs": [],
   "source": [
    "SBYSEC.isnull().sum()"
   ]
  },
  {
   "cell_type": "markdown",
   "id": "9a9ad011",
   "metadata": {},
   "source": [
    "# SBYSEC Converting data to Home and Away stats "
   ]
  },
  {
   "cell_type": "markdown",
   "id": "2cbb92c8",
   "metadata": {},
   "source": [
    "# Turning Score into home and away score"
   ]
  },
  {
   "cell_type": "code",
   "execution_count": null,
   "id": "51b59dac",
   "metadata": {},
   "outputs": [],
   "source": [
    "SBYSEC['BiggerScore'] = SBYSEC.apply(lambda x: x['Score1'] if x['W-L'] !=\"\" else (\"\"),axis=1)\n",
    "SBYSEC['SmallerScore'] = SBYSEC.apply(lambda x : x['Score2'] if x['W-L'] != \"\" else (\"\"), axis=1)"
   ]
  },
  {
   "cell_type": "code",
   "execution_count": null,
   "id": "46d6801e",
   "metadata": {},
   "outputs": [],
   "source": [
    "SBYSEC.head()"
   ]
  },
  {
   "cell_type": "code",
   "execution_count": null,
   "id": "7d140696",
   "metadata": {},
   "outputs": [],
   "source": [
    "SBYSEC['Home Score'] = SBYSEC.apply(lambda x : x['BiggerScore'] if x['W-L'] ==\"W\" and x['Home Team'] == x['TEAM'] else (x['SmallerScore'] if x['W-L'] ==\"L\" and x['Home Team'] == x['TEAM'] else \"\"),axis = 1)\n",
    "SBYSEC['Home Score'] = SBYSEC.apply(lambda x : x['Home Score'] if x['Home Score'] != \"\" else (x['BiggerScore'] if x['Home Team'] != x['TEAM'] and x['W-L'] ==\"L\" else x['SmallerScore'] if x['Home Team'] != x['TEAM'] and x['W-L'] ==\"W\" else \"\"),axis =1)"
   ]
  },
  {
   "cell_type": "code",
   "execution_count": null,
   "id": "30c637a7",
   "metadata": {},
   "outputs": [],
   "source": [
    "SBYSEC.head(20)"
   ]
  },
  {
   "cell_type": "code",
   "execution_count": null,
   "id": "b5f1eff4",
   "metadata": {},
   "outputs": [],
   "source": [
    "SBYSEC['Away Score'] = SBYSEC.apply(lambda x : x['Score1'] if x['Home Score'] != x['Score1'] else (x['Score2']), axis=1)"
   ]
  },
  {
   "cell_type": "code",
   "execution_count": null,
   "id": "5d07bef7",
   "metadata": {},
   "outputs": [],
   "source": [
    "SBYSEC.head(20)"
   ]
  },
  {
   "cell_type": "markdown",
   "id": "5a526262",
   "metadata": {},
   "source": [
    "# SBYSEC Created Home and Away Ranking"
   ]
  },
  {
   "cell_type": "code",
   "execution_count": null,
   "id": "0c99b619",
   "metadata": {},
   "outputs": [],
   "source": [
    "#Assigned Ranking for Opposing Team to the appropriate Home Team or Away Team"
   ]
  },
  {
   "cell_type": "code",
   "execution_count": null,
   "id": "da83e8a4",
   "metadata": {},
   "outputs": [],
   "source": [
    "\n",
    "SBYSEC['Away Team']=SBYSEC['Away Team'].str.strip()\n",
    "SBYSEC['Home Team']=SBYSEC['Home Team'].str.strip()\n",
    "SBYSEC['Opposing Team']=SBYSEC['Opposing Team'].str.strip()"
   ]
  },
  {
   "cell_type": "code",
   "execution_count": null,
   "id": "5180629c",
   "metadata": {},
   "outputs": [],
   "source": [
    "SBYSEC['Home Team Ranking'] = SBYSEC.apply(lambda x : x['Opponent Ranking'] if x['Home Team'] == x['Opposing Team'] else (\"\"),axis=1)\n",
    "SBYSEC['Away Team Ranking'] = SBYSEC.apply(lambda x : x['Opponent Ranking'] if x['Away Team'] == x['Opposing Team'] else (\"\"),axis=1)"
   ]
  },
  {
   "cell_type": "code",
   "execution_count": null,
   "id": "0fc2be32",
   "metadata": {},
   "outputs": [],
   "source": [
    "SBYSEC.head()"
   ]
  },
  {
   "cell_type": "markdown",
   "id": "603142d3",
   "metadata": {},
   "source": [
    "# Created Home and Away Total Season and Conference Wins and Losses"
   ]
  },
  {
   "cell_type": "code",
   "execution_count": null,
   "id": "c307c80c",
   "metadata": {},
   "outputs": [],
   "source": [
    "SBYSEC['Home Team Total Season Wins'] = SBYSEC.apply(lambda x: x['Total Season Wins'] if x['Home Team'] == x[\"TEAM\"] else (\"\"),axis=1)\n",
    "\n"
   ]
  },
  {
   "cell_type": "code",
   "execution_count": null,
   "id": "c63f1628",
   "metadata": {},
   "outputs": [],
   "source": [
    "SBYSEC['Home Team Total Season Losses'] = SBYSEC.apply(lambda x : x['Total Season Losses'] if x['Home Team'] == x['TEAM'] else (\"\"),axis=1)\n",
    "\n",
    "SBYSEC['Home Team Total Conf Season Wins'] = SBYSEC.apply(lambda x: x['Total Conf Season Wins'] if x['Home Team'] == x['TEAM'] else (\"\"),axis=1)\n",
    "SBYSEC['Home Team Total Conf Season Losses'] =SBYSEC.apply(lambda x : x['Total Conf Season Losses'] if x['Home Team'] == x['TEAM'] else (\"\"),axis=1)\n",
    "\n",
    "SBYSEC['Away Team Total Season Wins'] = SBYSEC.apply(lambda x: x['Total Season Wins'] if x['Away Team'] == x['TEAM'] else (\"\"),axis=1)\n",
    "SBYSEC['Away Team Total Season Losses'] = SBYSEC.apply(lambda x : x['Total Season Losses'] if x['Away Team'] == x['TEAM'] else (\"\"),axis=1)\n",
    "\n",
    "SBYSEC['Away Team Total Conf Season Wins'] = SBYSEC.apply(lambda x: x['Total Conf Season Wins'] if x['Away Team'] == x['TEAM'] else (\"\"),axis=1)\n",
    "SBYSEC['Away Team Total Conf Season Losses'] = SBYSEC.apply(lambda x : x['Total Conf Season Losses'] if x['Away Team'] == x['TEAM'] else (\"\"),axis=1)\n"
   ]
  },
  {
   "cell_type": "code",
   "execution_count": null,
   "id": "a5ce33f6",
   "metadata": {},
   "outputs": [],
   "source": [
    "#SBYSEC.head()"
   ]
  },
  {
   "cell_type": "markdown",
   "id": "4b4b2a8b",
   "metadata": {},
   "source": [
    "# SBYSEC Creates Home and Away Passing Yards"
   ]
  },
  {
   "cell_type": "code",
   "execution_count": null,
   "id": "29223c6d",
   "metadata": {},
   "outputs": [],
   "source": [
    "SBYSEC['Away Hi Pass Yards'] = SBYSEC.apply(lambda x: x['HI Pass Player/Yards'] if x['TEAM'] == x['Away Team'] else (\"\"),axis=1)\n",
    "SBYSEC['Away Hi Rush Yards'] = SBYSEC.apply(lambda x: x['HI RUSH Player/Yards'] if x['TEAM'] == x['Away Team'] else (\"\"),axis=1)\n",
    "SBYSEC['Away Hi REC Yards'] = SBYSEC.apply(lambda x: x['HI REC Player/Yards'] if x['TEAM'] == x['Away Team'] else (\"\"),axis=1)"
   ]
  },
  {
   "cell_type": "code",
   "execution_count": null,
   "id": "92bac7f2",
   "metadata": {},
   "outputs": [],
   "source": [
    "SBYSEC['Home Hi Pass Yards'] = SBYSEC.apply(lambda x: x['HI Pass Player/Yards'] if x['TEAM'] == x['Home Team'] else (\"\"),axis=1)\n",
    "SBYSEC['Home Hi Rush Yards'] = SBYSEC.apply(lambda x: x['HI RUSH Player/Yards'] if x['TEAM'] == x['Home Team'] else (\"\"),axis=1)\n",
    "SBYSEC['Home Hi REC Yards'] = SBYSEC.apply(lambda x: x['HI REC Player/Yards'] if x['TEAM'] == x['Home Team'] else (\"\"),axis=1)"
   ]
  },
  {
   "cell_type": "code",
   "execution_count": null,
   "id": "970f9d77",
   "metadata": {},
   "outputs": [],
   "source": [
    "SBYSEC.head()"
   ]
  },
  {
   "cell_type": "markdown",
   "id": "a4589ea3",
   "metadata": {},
   "source": [
    "# SBYSEC Eliminated unnecessary columns and converted  dtypes to numeric\n"
   ]
  },
  {
   "cell_type": "code",
   "execution_count": null,
   "id": "678a5aa2",
   "metadata": {},
   "outputs": [],
   "source": [
    "SBYSEC = SBYSEC[['Date',\n",
    "         'Home Team',\n",
    "         'Home Team Ranking',\n",
    "         'Home Score',\n",
    "         'Home Hi Pass Yards',  \n",
    "         'Home Hi Rush Yards',\n",
    "         'Home Hi REC Yards',\n",
    "         'Home Team Total Season Wins',\n",
    "         'Home Team Total Season Losses',\n",
    "         'Home Team Total Conf Season Wins',\n",
    "         'Home Team Total Conf Season Losses',\n",
    "         'Away Team',\n",
    "         'Away Score',\n",
    "         'Away Team Ranking', \n",
    "         'Away Team Total Season Wins',\n",
    "         'Away Team Total Season Losses',\n",
    "         'Away Team Total Conf Season Wins',\n",
    "         'Away Team Total Conf Season Losses',\n",
    "         'Away Hi Pass Yards',\n",
    "         'Away Hi Rush Yards' ,\n",
    "         'Away Hi REC Yards',\n",
    "         'TEAM']]"
   ]
  },
  {
   "cell_type": "code",
   "execution_count": null,
   "id": "ae57c7a3",
   "metadata": {},
   "outputs": [],
   "source": [
    "SBYSEC.head()"
   ]
  },
  {
   "cell_type": "code",
   "execution_count": null,
   "id": "4d87e4e1",
   "metadata": {},
   "outputs": [],
   "source": [
    "SBYSEC.dtypes"
   ]
  },
  {
   "cell_type": "code",
   "execution_count": null,
   "id": "5f450e11",
   "metadata": {},
   "outputs": [],
   "source": [
    "SBYSEC['Home Team Ranking'] = pd.to_numeric(SBYSEC['Home Team Ranking'])"
   ]
  },
  {
   "cell_type": "code",
   "execution_count": null,
   "id": "7167e6e1",
   "metadata": {},
   "outputs": [],
   "source": [
    "#The same game below had 6 O in the dataset for one of the teams score, so converted the correct score of 6"
   ]
  },
  {
   "cell_type": "code",
   "execution_count": null,
   "id": "b4e506ea",
   "metadata": {},
   "outputs": [],
   "source": [
    "SBYSEC[SBYSEC['Home Score'] == '6 O']"
   ]
  },
  {
   "cell_type": "code",
   "execution_count": null,
   "id": "01f886c6",
   "metadata": {},
   "outputs": [],
   "source": [
    "SBYSEC['Home Score'] = SBYSEC.apply(lambda x: x['Home Score'] if x['Home Score'] != '6 O' else (6),axis=1)"
   ]
  },
  {
   "cell_type": "code",
   "execution_count": null,
   "id": "a77084c4",
   "metadata": {},
   "outputs": [],
   "source": [
    "SBYSEC['Home Score'] = pd.to_numeric(SBYSEC['Home Score'])"
   ]
  },
  {
   "cell_type": "code",
   "execution_count": null,
   "id": "b24cf2e2",
   "metadata": {},
   "outputs": [],
   "source": [
    "SBYSEC['Home Team Ranking'] = pd.to_numeric(SBYSEC['Home Team Ranking'])"
   ]
  },
  {
   "cell_type": "code",
   "execution_count": null,
   "id": "1c5b41fc",
   "metadata": {},
   "outputs": [],
   "source": [
    "SBYSEC['Home Hi Pass Yards'] = pd.to_numeric(SBYSEC['Home Hi Pass Yards'])"
   ]
  },
  {
   "cell_type": "code",
   "execution_count": null,
   "id": "3288ea2b",
   "metadata": {},
   "outputs": [],
   "source": [
    "SBYSEC['Home Hi Rush Yards'] = pd.to_numeric(SBYSEC['Home Hi Rush Yards'])"
   ]
  },
  {
   "cell_type": "code",
   "execution_count": null,
   "id": "921cb170",
   "metadata": {},
   "outputs": [],
   "source": [
    "SBYSEC['Home Hi REC Yards'] = pd.to_numeric(SBYSEC['Home Hi REC Yards'])"
   ]
  },
  {
   "cell_type": "code",
   "execution_count": null,
   "id": "3b0573c3",
   "metadata": {},
   "outputs": [],
   "source": [
    "SBYSEC['Home Team Total Season Wins']= pd.to_numeric(SBYSEC['Home Team Total Season Wins'])"
   ]
  },
  {
   "cell_type": "code",
   "execution_count": null,
   "id": "dc4875b8",
   "metadata": {},
   "outputs": [],
   "source": [
    "SBYSEC['Home Team Total Season Losses']= pd.to_numeric(SBYSEC['Home Team Total Season Losses'])"
   ]
  },
  {
   "cell_type": "code",
   "execution_count": null,
   "id": "ca63d1c0",
   "metadata": {},
   "outputs": [],
   "source": [
    "SBYSEC['Home Team Total Conf Season Wins']= pd.to_numeric(SBYSEC['Home Team Total Conf Season Wins'])"
   ]
  },
  {
   "cell_type": "code",
   "execution_count": null,
   "id": "05a514ba",
   "metadata": {},
   "outputs": [],
   "source": [
    "SBYSEC['Home Team Total Conf Season Losses']= pd.to_numeric(SBYSEC['Home Team Total Conf Season Losses'])"
   ]
  },
  {
   "cell_type": "code",
   "execution_count": null,
   "id": "b1f54f32",
   "metadata": {},
   "outputs": [],
   "source": [
    "SBYSEC['Away Score'] = pd.to_numeric(SBYSEC['Away Score'])"
   ]
  },
  {
   "cell_type": "code",
   "execution_count": null,
   "id": "98e4349d",
   "metadata": {},
   "outputs": [],
   "source": [
    "SBYSEC['Away Team Ranking'] = pd.to_numeric(SBYSEC['Away Team Ranking'])"
   ]
  },
  {
   "cell_type": "code",
   "execution_count": null,
   "id": "86b4507e",
   "metadata": {},
   "outputs": [],
   "source": [
    "SBYSEC['Away Team Total Season Wins'] = pd.to_numeric(SBYSEC['Away Team Total Season Wins'])"
   ]
  },
  {
   "cell_type": "code",
   "execution_count": null,
   "id": "3f08053c",
   "metadata": {},
   "outputs": [],
   "source": [
    "SBYSEC['Away Team Total Season Losses'] = pd.to_numeric(SBYSEC['Away Team Total Season Losses'])"
   ]
  },
  {
   "cell_type": "code",
   "execution_count": null,
   "id": "46572908",
   "metadata": {},
   "outputs": [],
   "source": [
    "SBYSEC['Away Team Total Conf Season Wins'] = pd.to_numeric(SBYSEC['Away Team Total Conf Season Wins'])"
   ]
  },
  {
   "cell_type": "code",
   "execution_count": null,
   "id": "60538af5",
   "metadata": {},
   "outputs": [],
   "source": [
    "SBYSEC['Away Team Total Conf Season Losses'] = pd.to_numeric(SBYSEC['Away Team Total Conf Season Losses'])"
   ]
  },
  {
   "cell_type": "code",
   "execution_count": null,
   "id": "683af353",
   "metadata": {},
   "outputs": [],
   "source": [
    "SBYSEC['Away Hi Pass Yards'] = pd.to_numeric(SBYSEC['Away Hi Pass Yards'])"
   ]
  },
  {
   "cell_type": "code",
   "execution_count": null,
   "id": "e49dde98",
   "metadata": {},
   "outputs": [],
   "source": [
    "SBYSEC['Away Hi Rush Yards'] = pd.to_numeric(SBYSEC['Away Hi Rush Yards'])"
   ]
  },
  {
   "cell_type": "code",
   "execution_count": null,
   "id": "eda0eb23",
   "metadata": {},
   "outputs": [],
   "source": [
    "SBYSEC['Away Hi REC Yards'] = pd.to_numeric(SBYSEC['Away Hi REC Yards'])"
   ]
  },
  {
   "cell_type": "code",
   "execution_count": null,
   "id": "2c87bb53",
   "metadata": {},
   "outputs": [],
   "source": [
    "SBYSEC['Away Hi REC Yards'] = pd.to_numeric(SBYSEC['Away Hi REC Yards'])"
   ]
  },
  {
   "cell_type": "code",
   "execution_count": null,
   "id": "e43c34b1",
   "metadata": {},
   "outputs": [],
   "source": []
  },
  {
   "cell_type": "code",
   "execution_count": null,
   "id": "93fab4f0",
   "metadata": {},
   "outputs": [],
   "source": [
    "SBYSEC.dtypes"
   ]
  },
  {
   "cell_type": "code",
   "execution_count": null,
   "id": "5a78cff6",
   "metadata": {},
   "outputs": [],
   "source": []
  },
  {
   "cell_type": "code",
   "execution_count": null,
   "id": "f810f9c4",
   "metadata": {},
   "outputs": [],
   "source": [
    "SBYSEC.isnull().sum()"
   ]
  },
  {
   "cell_type": "code",
   "execution_count": null,
   "id": "c55666c0",
   "metadata": {},
   "outputs": [],
   "source": [
    "# As the stats were either for home or away team there will be null values for whichever the TEAM was not that game. e.g if they were they Home Team, then the df would not have away stats besides potentially ranking and score "
   ]
  },
  {
   "cell_type": "code",
   "execution_count": null,
   "id": "37bd81aa",
   "metadata": {},
   "outputs": [],
   "source": [
    "SBYSEC[SBYSEC['Away Team Total Season Wins'].isnull()].head(20)"
   ]
  },
  {
   "cell_type": "markdown",
   "id": "65fc2418",
   "metadata": {},
   "source": [
    "# Merging SBYSEC to SBYSEC to combine home and away data"
   ]
  },
  {
   "cell_type": "code",
   "execution_count": null,
   "id": "3c71f905",
   "metadata": {},
   "outputs": [],
   "source": [
    "SBYSEC['Home/Away df'] = SBYSEC.apply(lambda x: \"Home df\" if x['Home Hi Pass Yards'] >1 else (\"Away df\"),axis=1)\n",
    "\n",
    "\n"
   ]
  },
  {
   "cell_type": "code",
   "execution_count": null,
   "id": "9d5c7724",
   "metadata": {},
   "outputs": [],
   "source": [
    "SBYSEC.head(20)"
   ]
  },
  {
   "cell_type": "code",
   "execution_count": null,
   "id": "c1150553",
   "metadata": {},
   "outputs": [],
   "source": [
    "Awaydf = SBYSEC[SBYSEC['Home/Away df'] ==\"Away df\"]\n",
    "Homedf = SBYSEC[SBYSEC['Home/Away df'] =='Home df']"
   ]
  },
  {
   "cell_type": "code",
   "execution_count": null,
   "id": "f7c6eecc",
   "metadata": {},
   "outputs": [],
   "source": [
    "Awaydf=Awaydf[['Date',\n",
    "               'Home Team',\n",
    "               'Home Team Ranking',\n",
    "               'Away Team',\n",
    "               'Home Score',\n",
    "               'Away Score',\n",
    "               'Away Team Total Season Wins',\n",
    "               'Away Team Total Season Losses',\n",
    "               'Away Team Total Conf Season Wins',\n",
    "               'Away Team Total Conf Season Losses',\n",
    "               'Away Hi Pass Yards',\n",
    "               'Away Hi Rush Yards',\n",
    "               'Away Hi REC Yards',\n",
    "               \n",
    "    \n",
    "]]"
   ]
  },
  {
   "cell_type": "code",
   "execution_count": null,
   "id": "d7ca4152",
   "metadata": {},
   "outputs": [],
   "source": [
    "Homedf=Homedf[['Date',\n",
    "               'Home Team',\n",
    "               'Away Team',\n",
    "               'Away Team Ranking',\n",
    "               'Home Score',\n",
    "               'Away Score',\n",
    "               'Home Hi Pass Yards',\n",
    "               'Home Hi Rush Yards',\n",
    "               'Home Hi REC Yards',\n",
    "               'Home Team Total Season Wins',\n",
    "               'Home Team Total Season Losses',\n",
    "               'Home Team Total Conf Season Wins',\n",
    "               'Home Team Total Conf Season Losses',\n",
    "          \n",
    "\n",
    "    \n",
    "]]"
   ]
  },
  {
   "cell_type": "code",
   "execution_count": null,
   "id": "a5822c70",
   "metadata": {},
   "outputs": [],
   "source": [
    "Awaydf.shape"
   ]
  },
  {
   "cell_type": "code",
   "execution_count": null,
   "id": "ac0c448e",
   "metadata": {},
   "outputs": [],
   "source": [
    "Homedf.shape"
   ]
  },
  {
   "cell_type": "code",
   "execution_count": null,
   "id": "fc6d1831",
   "metadata": {},
   "outputs": [],
   "source": []
  },
  {
   "cell_type": "code",
   "execution_count": null,
   "id": "c8fe470e",
   "metadata": {},
   "outputs": [],
   "source": [
    "df3= pd.merge(left=Awaydf, right= Homedf, left_on =('Date','Home Team','Away Team','Home Score','Away Score'), right_on = ('Date','Home Team','Away Team','Home Score','Away Score'))\n",
    "\n"
   ]
  },
  {
   "cell_type": "code",
   "execution_count": null,
   "id": "85346652",
   "metadata": {},
   "outputs": [],
   "source": [
    "df3.shape"
   ]
  },
  {
   "cell_type": "code",
   "execution_count": null,
   "id": "aadf8d9a",
   "metadata": {},
   "outputs": [],
   "source": [
    "df3.isnull().sum()"
   ]
  },
  {
   "cell_type": "markdown",
   "id": "2e242d2f",
   "metadata": {},
   "source": [
    "### "
   ]
  },
  {
   "cell_type": "code",
   "execution_count": null,
   "id": "70d3deba",
   "metadata": {},
   "outputs": [],
   "source": [
    "df3.head()"
   ]
  },
  {
   "cell_type": "code",
   "execution_count": null,
   "id": "4bc2b8e9",
   "metadata": {},
   "outputs": [],
   "source": [
    "df3=df3[['Date',\n",
    "         'Home Team',\n",
    "         'Away Team'\n",
    "         'Home Score',\n",
    "         'Away Score',\n",
    "         \n",
    "    \n",
    "]]"
   ]
  },
  {
   "cell_type": "code",
   "execution_count": null,
   "id": "19dbc101",
   "metadata": {},
   "outputs": [],
   "source": []
  },
  {
   "cell_type": "code",
   "execution_count": null,
   "id": "de183313",
   "metadata": {},
   "outputs": [],
   "source": []
  },
  {
   "cell_type": "code",
   "execution_count": null,
   "id": "fe115a7c",
   "metadata": {},
   "outputs": [],
   "source": []
  },
  {
   "cell_type": "code",
   "execution_count": null,
   "id": "03c10247",
   "metadata": {},
   "outputs": [],
   "source": []
  }
 ],
 "metadata": {
  "kernelspec": {
   "display_name": "Python 3",
   "language": "python",
   "name": "python3"
  },
  "language_info": {
   "codemirror_mode": {
    "name": "ipython",
    "version": 3
   },
   "file_extension": ".py",
   "mimetype": "text/x-python",
   "name": "python",
   "nbconvert_exporter": "python",
   "pygments_lexer": "ipython3",
   "version": "3.8.8"
  }
 },
 "nbformat": 4,
 "nbformat_minor": 5
}
