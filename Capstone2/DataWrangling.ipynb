{
 "cells": [
  {
   "cell_type": "code",
   "execution_count": 1,
   "id": "7361e93a",
   "metadata": {},
   "outputs": [],
   "source": [
    "import pandas as pd\n",
    "import numpy as np"
   ]
  },
  {
   "cell_type": "code",
   "execution_count": 17,
   "id": "b79b070e",
   "metadata": {},
   "outputs": [],
   "source": [
    "TBCD=pd.read_excel(r'/Users/markclampitt/Documents/Springboard/Capstone2/Data/FinalData.xls', sheet_name='Teams by Conf and Division')\n",
    "PYR=pd.read_excel(r'/Users/markclampitt/Documents/Springboard/Capstone2/Data/FinalData.xls', sheet_name='Passing Yards Ranking')\n",
    "APY=pd.read_excel(r'/Users/markclampitt/Documents/Springboard/Capstone2/Data/FinalData.xls', sheet_name='All Purpose Yards')\n",
    "CKR=pd.read_excel(r'/Users/markclampitt/Documents/Springboard/Capstone2/Data/FinalData.xls', sheet_name='Combined Kick Returns')\n",
    "CPG=pd.read_excel(r'/Users/markclampitt/Documents/Springboard/Capstone2/Data/FinalData.xls', sheet_name='Completions Per Game')\n",
    "FGP=pd.read_excel(r'/Users/markclampitt/Documents/Springboard/Capstone2/Data/FinalData.xls', sheet_name='Field Goal Percentage')\n",
    "CP=pd.read_excel(r'/Users/markclampitt/Documents/Springboard/Capstone2/Data/FinalData.xls', sheet_name='Completion Percentage')\n",
    "TDCP=pd.read_excel(r'/Users/markclampitt/Documents/Springboard/Capstone2/Data/FinalData.xls', sheet_name='3rd Down Conversion PCT')\n",
    "TDCPD=pd.read_excel(r'/Users/markclampitt/Documents/Springboard/Capstone2/Data/FinalData.xls', sheet_name='3rd Down Conversion PCT DEFENSE')\n",
    "FDCP=pd.read_excel(r'/Users/markclampitt/Documents/Springboard/Capstone2/Data/FinalData.xls', sheet_name='4th Down Conversion PCT')\n",
    "FDCPD=pd.read_excel(r'/Users/markclampitt/Documents/Springboard/Capstone2/Data/FinalData.xls', sheet_name='4th Down Conversion PCT Defense')\n",
    "R=pd.read_excel(r'/Users/markclampitt/Documents/Springboard/Capstone2/Data/FinalData.xls', sheet_name='Ranking')\n",
    "SBY=pd.read_excel(r'/Users/markclampitt/Documents/Springboard/Capstone2/Data/FinalData.xls', sheet_name='Schedule By Year')\n",
    "ODDS=pd.read_excel(r'/Users/markclampitt/Documents/Springboard/Capstone2/Data/FinalData.xls', sheet_name='SEC-OddsShark-Standings')\n",
    "SECR=pd.read_excel(r'/Users/markclampitt/Documents/Springboard/Capstone2/Data/FinalData.xls', sheet_name='SEC-Roster')\n",
    "SECS=pd.read_excel(r'/Users/markclampitt/Documents/Springboard/Capstone2/Data/FinalData.xls', sheet_name='SEC Starters')\n",
    "SECTS=pd.read_excel(r'/Users/markclampitt/Documents/Springboard/Capstone2/Data/FinalData.xls', sheet_name='SECTeamStats')\n",
    "ESPNO=pd.read_excel(r'/Users/markclampitt/Documents/Springboard/Capstone2/Data/FinalData.xls', sheet_name='ESPN-Odds')\n",
    "SECODDS=pd.read_excel(r'/Users/markclampitt/Documents/Springboard/Capstone2/Data/FinalData.xls', sheet_name='SEC-OddsShark-Odds')\n",
    "SECO=pd.read_excel(r'/Users/markclampitt/Documents/Springboard/Capstone2/Data/FinalData.xls', sheet_name='SEC-OddsShark-Offense')\n",
    "SECD=pd.read_excel(r'/Users/markclampitt/Documents/Springboard/Capstone2/Data/FinalData.xls', sheet_name='SEC-OddsShark-Defense')\n"
   ]
  },
  {
   "cell_type": "code",
   "execution_count": 19,
   "id": "f102125c",
   "metadata": {},
   "outputs": [
    {
     "data": {
      "text/html": [
       "<div>\n",
       "<style scoped>\n",
       "    .dataframe tbody tr th:only-of-type {\n",
       "        vertical-align: middle;\n",
       "    }\n",
       "\n",
       "    .dataframe tbody tr th {\n",
       "        vertical-align: top;\n",
       "    }\n",
       "\n",
       "    .dataframe thead th {\n",
       "        text-align: right;\n",
       "    }\n",
       "</style>\n",
       "<table border=\"1\" class=\"dataframe\">\n",
       "  <thead>\n",
       "    <tr style=\"text-align: right;\">\n",
       "      <th></th>\n",
       "      <th>TEAM</th>\n",
       "      <th>REC (ATS)</th>\n",
       "      <th>Spread</th>\n",
       "      <th>LINE</th>\n",
       "      <th>ML</th>\n",
       "      <th>FPI</th>\n",
       "      <th>Game</th>\n",
       "    </tr>\n",
       "  </thead>\n",
       "  <tbody>\n",
       "    <tr>\n",
       "      <th>0</th>\n",
       "      <td>Auburn Tigers</td>\n",
       "      <td>4-2 (3-3-0)</td>\n",
       "      <td>3.5</td>\n",
       "      <td>53.0</td>\n",
       "      <td>155</td>\n",
       "      <td>0.400</td>\n",
       "      <td>1</td>\n",
       "    </tr>\n",
       "    <tr>\n",
       "      <th>1</th>\n",
       "      <td>Arkansas Razorbacks</td>\n",
       "      <td>4-2 (5-1-0)</td>\n",
       "      <td>-3.5</td>\n",
       "      <td>53.0</td>\n",
       "      <td>-180</td>\n",
       "      <td>0.600</td>\n",
       "      <td>1</td>\n",
       "    </tr>\n",
       "    <tr>\n",
       "      <th>2</th>\n",
       "      <td>Florida Gators</td>\n",
       "      <td>4-2 (3-3-0)</td>\n",
       "      <td>-10.0</td>\n",
       "      <td>59.0</td>\n",
       "      <td>-400</td>\n",
       "      <td>0.730</td>\n",
       "      <td>2</td>\n",
       "    </tr>\n",
       "    <tr>\n",
       "      <th>3</th>\n",
       "      <td>LSU Tigers</td>\n",
       "      <td>3-3 (2-4-0)</td>\n",
       "      <td>10.0</td>\n",
       "      <td>59.0</td>\n",
       "      <td>310</td>\n",
       "      <td>0.270</td>\n",
       "      <td>2</td>\n",
       "    </tr>\n",
       "    <tr>\n",
       "      <th>4</th>\n",
       "      <td>Texas A&amp;M Aggies</td>\n",
       "      <td>4-2 (3-3-0)</td>\n",
       "      <td>-8.5</td>\n",
       "      <td>60.5</td>\n",
       "      <td>-330</td>\n",
       "      <td>0.771</td>\n",
       "      <td>3</td>\n",
       "    </tr>\n",
       "  </tbody>\n",
       "</table>\n",
       "</div>"
      ],
      "text/plain": [
       "                  TEAM    REC (ATS)  Spread  LINE   ML    FPI  Game\n",
       "0        Auburn Tigers  4-2 (3-3-0)     3.5  53.0  155  0.400     1\n",
       "1  Arkansas Razorbacks  4-2 (5-1-0)    -3.5  53.0 -180  0.600     1\n",
       "2       Florida Gators  4-2 (3-3-0)   -10.0  59.0 -400  0.730     2\n",
       "3           LSU Tigers  3-3 (2-4-0)    10.0  59.0  310  0.270     2\n",
       "4     Texas A&M Aggies  4-2 (3-3-0)    -8.5  60.5 -330  0.771     3"
      ]
     },
     "execution_count": 19,
     "metadata": {},
     "output_type": "execute_result"
    }
   ],
   "source": [
    "ESPNO.head()"
   ]
  },
  {
   "cell_type": "code",
   "execution_count": null,
   "id": "cf7af4ae",
   "metadata": {},
   "outputs": [],
   "source": []
  }
 ],
 "metadata": {
  "kernelspec": {
   "display_name": "Python 3",
   "language": "python",
   "name": "python3"
  },
  "language_info": {
   "codemirror_mode": {
    "name": "ipython",
    "version": 3
   },
   "file_extension": ".py",
   "mimetype": "text/x-python",
   "name": "python",
   "nbconvert_exporter": "python",
   "pygments_lexer": "ipython3",
   "version": "3.8.8"
  }
 },
 "nbformat": 4,
 "nbformat_minor": 5
}
