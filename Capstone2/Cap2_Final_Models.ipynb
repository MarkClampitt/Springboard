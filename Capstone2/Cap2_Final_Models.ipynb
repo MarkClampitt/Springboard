{
 "cells": [
  {
   "cell_type": "markdown",
   "id": "a1c9f3bc",
   "metadata": {},
   "source": [
    "# Pre-Processing Stage"
   ]
  },
  {
   "cell_type": "markdown",
   "id": "9e004796",
   "metadata": {},
   "source": [
    "Below I completed the following pre-processing steps:\n",
    "\n",
    "*Created Target Variable (H Spread Outcome) - Did the home team win, lose, tie the spread?\n",
    "*Ran Correlation with Actual Home Score Values to determine the most correlated variables to use\n",
    "*Filtered the variables down to only the most correlated (above .25 correlation score)\n",
    "*Double checked the data to determine the amount of outliers for each column of data\n",
    "*Double checked the game distribution between teams (Home games and Away game matchups) to ensure even distribution\n",
    "*Dropped columns that may overcomplicate the model (Team name, Year, Date)\n",
    "*Ensured all final data was available at the start of each game\n",
    "*Setup Train_Test_Split in prepartion to start modeling. "
   ]
  },
  {
   "cell_type": "code",
   "execution_count": 1,
   "id": "3cd43298",
   "metadata": {},
   "outputs": [
    {
     "name": "stdout",
     "output_type": "stream",
     "text": [
      "Requirement already satisfied: pydotplus in /opt/anaconda3/lib/python3.8/site-packages (2.0.2)\n",
      "Requirement already satisfied: pyparsing>=2.0.1 in /opt/anaconda3/lib/python3.8/site-packages (from pydotplus) (2.4.7)\n"
     ]
    }
   ],
   "source": [
    "import pandas as pd\n",
    "import numpy as np\n",
    "from sklearn import tree, metrics\n",
    "from sklearn.model_selection import train_test_split\n",
    "import seaborn as sns\n",
    "import matplotlib.pyplot as plt\n",
    "from io import StringIO  \n",
    "from IPython.display import Image  \n",
    "!pip install pydotplus \n",
    "import pydotplus \n",
    "from sklearn.pipeline import make_pipeline\n",
    "from sklearn.impute import SimpleImputer\n",
    "from sklearn.feature_selection import SelectKBest, f_regression\n",
    "import datetime"
   ]
  },
  {
   "cell_type": "markdown",
   "id": "a3283ae9",
   "metadata": {},
   "source": [
    "# Dataset Overview / Remove Null Values "
   ]
  },
  {
   "cell_type": "code",
   "execution_count": 2,
   "id": "247de7b3",
   "metadata": {},
   "outputs": [],
   "source": [
    "df2 = pd.read_excel(r'/Users/markclampitt/Documents/Springboard/Capstone2/Data\\Upcoming_Final_Game_df.xlsx')"
   ]
  },
  {
   "cell_type": "code",
   "execution_count": 3,
   "id": "2b5d40c8",
   "metadata": {},
   "outputs": [
    {
     "data": {
      "text/plain": [
       "(977, 1593)"
      ]
     },
     "execution_count": 3,
     "metadata": {},
     "output_type": "execute_result"
    }
   ],
   "source": [
    "df2.shape"
   ]
  },
  {
   "cell_type": "markdown",
   "id": "5b7fb0b9",
   "metadata": {},
   "source": [
    "# Row 0 is the Georgia_Alabama Championship Game and will be used to test model once developed - thus no score entered. "
   ]
  },
  {
   "cell_type": "code",
   "execution_count": 4,
   "id": "2cad7e27",
   "metadata": {},
   "outputs": [
    {
     "data": {
      "text/html": [
       "<div>\n",
       "<style scoped>\n",
       "    .dataframe tbody tr th:only-of-type {\n",
       "        vertical-align: middle;\n",
       "    }\n",
       "\n",
       "    .dataframe tbody tr th {\n",
       "        vertical-align: top;\n",
       "    }\n",
       "\n",
       "    .dataframe thead th {\n",
       "        text-align: right;\n",
       "    }\n",
       "</style>\n",
       "<table border=\"1\" class=\"dataframe\">\n",
       "  <thead>\n",
       "    <tr style=\"text-align: right;\">\n",
       "      <th></th>\n",
       "      <th>Date</th>\n",
       "      <th>Year</th>\n",
       "      <th>Home Team</th>\n",
       "      <th>Home Team Ranking_x</th>\n",
       "      <th>Away Team</th>\n",
       "      <th>Away Team Ranking_x</th>\n",
       "      <th>Home Team Spread_x</th>\n",
       "      <th>Away Team Spread_x</th>\n",
       "      <th>Total_x</th>\n",
       "      <th>Home Score_x_x</th>\n",
       "      <th>...</th>\n",
       "      <th>Previous H&amp;A Under Odds_Away_Team</th>\n",
       "      <th>Rolling 5 Past H&amp;A Push Odds_Away_Team</th>\n",
       "      <th>Rolling 5 Past H&amp;A Push Odds Avg_Away_Team</th>\n",
       "      <th>Rolling 5 Past H&amp;A Push Odds Max_Away_Team</th>\n",
       "      <th>Rolling 5 Past H&amp;A Push Odds Min_Away_Team</th>\n",
       "      <th>Rolling 3 Past H&amp;A Push Odds_Away_Team</th>\n",
       "      <th>Rolling 3 Past H&amp;A Push Oddss Avg_Away_Team</th>\n",
       "      <th>Rolling 3 Past H&amp;A Push OddsMax_Away_Team</th>\n",
       "      <th>Rolling 3 Past H&amp;A Push Odds Min_Away_Team</th>\n",
       "      <th>Previous H&amp;A Push Odds_Away_Team</th>\n",
       "    </tr>\n",
       "  </thead>\n",
       "  <tbody>\n",
       "    <tr>\n",
       "      <th>0</th>\n",
       "      <td>2022-01-10</td>\n",
       "      <td>2022</td>\n",
       "      <td>Georgia</td>\n",
       "      <td>3</td>\n",
       "      <td>Alabama</td>\n",
       "      <td>1</td>\n",
       "      <td>-2.5</td>\n",
       "      <td>2.5</td>\n",
       "      <td>52.0</td>\n",
       "      <td>NaN</td>\n",
       "      <td>...</td>\n",
       "      <td>0.0</td>\n",
       "      <td>0.0</td>\n",
       "      <td>0.0</td>\n",
       "      <td>0.0</td>\n",
       "      <td>0.0</td>\n",
       "      <td>0.0</td>\n",
       "      <td>0.0</td>\n",
       "      <td>0.0</td>\n",
       "      <td>0.0</td>\n",
       "      <td>0.0</td>\n",
       "    </tr>\n",
       "    <tr>\n",
       "      <th>1</th>\n",
       "      <td>2021-12-04</td>\n",
       "      <td>2021</td>\n",
       "      <td>Alabama</td>\n",
       "      <td>3</td>\n",
       "      <td>Georgia</td>\n",
       "      <td>1</td>\n",
       "      <td>6.5</td>\n",
       "      <td>-6.5</td>\n",
       "      <td>49.0</td>\n",
       "      <td>41.0</td>\n",
       "      <td>...</td>\n",
       "      <td>0.0</td>\n",
       "      <td>0.0</td>\n",
       "      <td>0.0</td>\n",
       "      <td>0.0</td>\n",
       "      <td>0.0</td>\n",
       "      <td>0.0</td>\n",
       "      <td>0.0</td>\n",
       "      <td>0.0</td>\n",
       "      <td>0.0</td>\n",
       "      <td>0.0</td>\n",
       "    </tr>\n",
       "    <tr>\n",
       "      <th>2</th>\n",
       "      <td>2021-11-27</td>\n",
       "      <td>2021</td>\n",
       "      <td>LSU</td>\n",
       "      <td>99</td>\n",
       "      <td>Texas A&amp;M</td>\n",
       "      <td>15</td>\n",
       "      <td>6.5</td>\n",
       "      <td>-6.5</td>\n",
       "      <td>27.0</td>\n",
       "      <td>27.0</td>\n",
       "      <td>...</td>\n",
       "      <td>1.0</td>\n",
       "      <td>0.0</td>\n",
       "      <td>0.0</td>\n",
       "      <td>0.0</td>\n",
       "      <td>0.0</td>\n",
       "      <td>0.0</td>\n",
       "      <td>0.0</td>\n",
       "      <td>0.0</td>\n",
       "      <td>0.0</td>\n",
       "      <td>0.0</td>\n",
       "    </tr>\n",
       "    <tr>\n",
       "      <th>3</th>\n",
       "      <td>2021-11-27</td>\n",
       "      <td>2021</td>\n",
       "      <td>Auburn</td>\n",
       "      <td>99</td>\n",
       "      <td>Alabama</td>\n",
       "      <td>3</td>\n",
       "      <td>19.5</td>\n",
       "      <td>-19.5</td>\n",
       "      <td>55.5</td>\n",
       "      <td>22.0</td>\n",
       "      <td>...</td>\n",
       "      <td>0.0</td>\n",
       "      <td>0.0</td>\n",
       "      <td>0.0</td>\n",
       "      <td>0.0</td>\n",
       "      <td>0.0</td>\n",
       "      <td>0.0</td>\n",
       "      <td>0.0</td>\n",
       "      <td>0.0</td>\n",
       "      <td>0.0</td>\n",
       "      <td>0.0</td>\n",
       "    </tr>\n",
       "    <tr>\n",
       "      <th>4</th>\n",
       "      <td>2021-11-27</td>\n",
       "      <td>2021</td>\n",
       "      <td>Vanderbilt</td>\n",
       "      <td>99</td>\n",
       "      <td>Tennessee</td>\n",
       "      <td>99</td>\n",
       "      <td>31.5</td>\n",
       "      <td>-31.5</td>\n",
       "      <td>63.5</td>\n",
       "      <td>21.0</td>\n",
       "      <td>...</td>\n",
       "      <td>0.0</td>\n",
       "      <td>0.0</td>\n",
       "      <td>0.0</td>\n",
       "      <td>0.0</td>\n",
       "      <td>0.0</td>\n",
       "      <td>0.0</td>\n",
       "      <td>0.0</td>\n",
       "      <td>0.0</td>\n",
       "      <td>0.0</td>\n",
       "      <td>0.0</td>\n",
       "    </tr>\n",
       "  </tbody>\n",
       "</table>\n",
       "<p>5 rows × 1593 columns</p>\n",
       "</div>"
      ],
      "text/plain": [
       "        Date  Year   Home Team  Home Team Ranking_x  Away Team  \\\n",
       "0 2022-01-10  2022     Georgia                    3    Alabama   \n",
       "1 2021-12-04  2021     Alabama                    3    Georgia   \n",
       "2 2021-11-27  2021         LSU                   99  Texas A&M   \n",
       "3 2021-11-27  2021      Auburn                   99    Alabama   \n",
       "4 2021-11-27  2021  Vanderbilt                   99  Tennessee   \n",
       "\n",
       "   Away Team Ranking_x  Home Team Spread_x  Away Team Spread_x  Total_x  \\\n",
       "0                    1                -2.5                 2.5     52.0   \n",
       "1                    1                 6.5                -6.5     49.0   \n",
       "2                   15                 6.5                -6.5     27.0   \n",
       "3                    3                19.5               -19.5     55.5   \n",
       "4                   99                31.5               -31.5     63.5   \n",
       "\n",
       "   Home Score_x_x  ...  Previous H&A Under Odds_Away_Team  \\\n",
       "0             NaN  ...                                0.0   \n",
       "1            41.0  ...                                0.0   \n",
       "2            27.0  ...                                1.0   \n",
       "3            22.0  ...                                0.0   \n",
       "4            21.0  ...                                0.0   \n",
       "\n",
       "   Rolling 5 Past H&A Push Odds_Away_Team  \\\n",
       "0                                     0.0   \n",
       "1                                     0.0   \n",
       "2                                     0.0   \n",
       "3                                     0.0   \n",
       "4                                     0.0   \n",
       "\n",
       "   Rolling 5 Past H&A Push Odds Avg_Away_Team  \\\n",
       "0                                         0.0   \n",
       "1                                         0.0   \n",
       "2                                         0.0   \n",
       "3                                         0.0   \n",
       "4                                         0.0   \n",
       "\n",
       "   Rolling 5 Past H&A Push Odds Max_Away_Team  \\\n",
       "0                                         0.0   \n",
       "1                                         0.0   \n",
       "2                                         0.0   \n",
       "3                                         0.0   \n",
       "4                                         0.0   \n",
       "\n",
       "   Rolling 5 Past H&A Push Odds Min_Away_Team  \\\n",
       "0                                         0.0   \n",
       "1                                         0.0   \n",
       "2                                         0.0   \n",
       "3                                         0.0   \n",
       "4                                         0.0   \n",
       "\n",
       "   Rolling 3 Past H&A Push Odds_Away_Team  \\\n",
       "0                                     0.0   \n",
       "1                                     0.0   \n",
       "2                                     0.0   \n",
       "3                                     0.0   \n",
       "4                                     0.0   \n",
       "\n",
       "   Rolling 3 Past H&A Push Oddss Avg_Away_Team  \\\n",
       "0                                          0.0   \n",
       "1                                          0.0   \n",
       "2                                          0.0   \n",
       "3                                          0.0   \n",
       "4                                          0.0   \n",
       "\n",
       "   Rolling 3 Past H&A Push OddsMax_Away_Team  \\\n",
       "0                                        0.0   \n",
       "1                                        0.0   \n",
       "2                                        0.0   \n",
       "3                                        0.0   \n",
       "4                                        0.0   \n",
       "\n",
       "   Rolling 3 Past H&A Push Odds Min_Away_Team  \\\n",
       "0                                         0.0   \n",
       "1                                         0.0   \n",
       "2                                         0.0   \n",
       "3                                         0.0   \n",
       "4                                         0.0   \n",
       "\n",
       "   Previous H&A Push Odds_Away_Team  \n",
       "0                               0.0  \n",
       "1                               0.0  \n",
       "2                               0.0  \n",
       "3                               0.0  \n",
       "4                               0.0  \n",
       "\n",
       "[5 rows x 1593 columns]"
      ]
     },
     "execution_count": 4,
     "metadata": {},
     "output_type": "execute_result"
    }
   ],
   "source": [
    "df2.head()"
   ]
  },
  {
   "cell_type": "code",
   "execution_count": 5,
   "id": "98775741",
   "metadata": {},
   "outputs": [
    {
     "data": {
      "text/html": [
       "<div>\n",
       "<style scoped>\n",
       "    .dataframe tbody tr th:only-of-type {\n",
       "        vertical-align: middle;\n",
       "    }\n",
       "\n",
       "    .dataframe tbody tr th {\n",
       "        vertical-align: top;\n",
       "    }\n",
       "\n",
       "    .dataframe thead th {\n",
       "        text-align: right;\n",
       "    }\n",
       "</style>\n",
       "<table border=\"1\" class=\"dataframe\">\n",
       "  <thead>\n",
       "    <tr style=\"text-align: right;\">\n",
       "      <th></th>\n",
       "      <th>Year</th>\n",
       "      <th>Home Team Ranking_x</th>\n",
       "      <th>Away Team Ranking_x</th>\n",
       "      <th>Home Team Spread_x</th>\n",
       "      <th>Away Team Spread_x</th>\n",
       "      <th>Total_x</th>\n",
       "      <th>Home Score_x_x</th>\n",
       "      <th>Away Score_x_x</th>\n",
       "      <th>Rolling 5 Past Away Score</th>\n",
       "      <th>Rolling 5 Past Away Score Avg</th>\n",
       "      <th>...</th>\n",
       "      <th>Previous H&amp;A Under Odds_Away_Team</th>\n",
       "      <th>Rolling 5 Past H&amp;A Push Odds_Away_Team</th>\n",
       "      <th>Rolling 5 Past H&amp;A Push Odds Avg_Away_Team</th>\n",
       "      <th>Rolling 5 Past H&amp;A Push Odds Max_Away_Team</th>\n",
       "      <th>Rolling 5 Past H&amp;A Push Odds Min_Away_Team</th>\n",
       "      <th>Rolling 3 Past H&amp;A Push Odds_Away_Team</th>\n",
       "      <th>Rolling 3 Past H&amp;A Push Oddss Avg_Away_Team</th>\n",
       "      <th>Rolling 3 Past H&amp;A Push OddsMax_Away_Team</th>\n",
       "      <th>Rolling 3 Past H&amp;A Push Odds Min_Away_Team</th>\n",
       "      <th>Previous H&amp;A Push Odds_Away_Team</th>\n",
       "    </tr>\n",
       "  </thead>\n",
       "  <tbody>\n",
       "    <tr>\n",
       "      <th>count</th>\n",
       "      <td>977.000000</td>\n",
       "      <td>977.000000</td>\n",
       "      <td>977.000000</td>\n",
       "      <td>977.000000</td>\n",
       "      <td>977.000000</td>\n",
       "      <td>977.000000</td>\n",
       "      <td>976.000000</td>\n",
       "      <td>976.000000</td>\n",
       "      <td>907.000000</td>\n",
       "      <td>907.000000</td>\n",
       "      <td>...</td>\n",
       "      <td>970.000000</td>\n",
       "      <td>942.000000</td>\n",
       "      <td>942.000000</td>\n",
       "      <td>942.000000</td>\n",
       "      <td>942.0</td>\n",
       "      <td>956.000000</td>\n",
       "      <td>956.000000</td>\n",
       "      <td>956.000000</td>\n",
       "      <td>956.0</td>\n",
       "      <td>970.000000</td>\n",
       "    </tr>\n",
       "    <tr>\n",
       "      <th>mean</th>\n",
       "      <td>2012.903787</td>\n",
       "      <td>58.841351</td>\n",
       "      <td>57.990788</td>\n",
       "      <td>-2.826510</td>\n",
       "      <td>2.826510</td>\n",
       "      <td>51.393040</td>\n",
       "      <td>26.869877</td>\n",
       "      <td>24.196721</td>\n",
       "      <td>120.943771</td>\n",
       "      <td>24.188754</td>\n",
       "      <td>...</td>\n",
       "      <td>0.528866</td>\n",
       "      <td>0.055202</td>\n",
       "      <td>0.011040</td>\n",
       "      <td>0.055202</td>\n",
       "      <td>0.0</td>\n",
       "      <td>0.031381</td>\n",
       "      <td>0.010460</td>\n",
       "      <td>0.031381</td>\n",
       "      <td>0.0</td>\n",
       "      <td>0.008247</td>\n",
       "    </tr>\n",
       "    <tr>\n",
       "      <th>std</th>\n",
       "      <td>5.187959</td>\n",
       "      <td>44.375891</td>\n",
       "      <td>44.404771</td>\n",
       "      <td>13.250883</td>\n",
       "      <td>13.250883</td>\n",
       "      <td>8.025355</td>\n",
       "      <td>13.421241</td>\n",
       "      <td>13.896771</td>\n",
       "      <td>42.124725</td>\n",
       "      <td>8.424945</td>\n",
       "      <td>...</td>\n",
       "      <td>0.499424</td>\n",
       "      <td>0.228495</td>\n",
       "      <td>0.045699</td>\n",
       "      <td>0.228495</td>\n",
       "      <td>0.0</td>\n",
       "      <td>0.174436</td>\n",
       "      <td>0.058145</td>\n",
       "      <td>0.174436</td>\n",
       "      <td>0.0</td>\n",
       "      <td>0.090487</td>\n",
       "    </tr>\n",
       "    <tr>\n",
       "      <th>min</th>\n",
       "      <td>2004.000000</td>\n",
       "      <td>1.000000</td>\n",
       "      <td>1.000000</td>\n",
       "      <td>-41.500000</td>\n",
       "      <td>-36.000000</td>\n",
       "      <td>27.000000</td>\n",
       "      <td>0.000000</td>\n",
       "      <td>0.000000</td>\n",
       "      <td>28.000000</td>\n",
       "      <td>5.600000</td>\n",
       "      <td>...</td>\n",
       "      <td>0.000000</td>\n",
       "      <td>0.000000</td>\n",
       "      <td>0.000000</td>\n",
       "      <td>0.000000</td>\n",
       "      <td>0.0</td>\n",
       "      <td>0.000000</td>\n",
       "      <td>0.000000</td>\n",
       "      <td>0.000000</td>\n",
       "      <td>0.0</td>\n",
       "      <td>0.000000</td>\n",
       "    </tr>\n",
       "    <tr>\n",
       "      <th>25%</th>\n",
       "      <td>2008.000000</td>\n",
       "      <td>11.000000</td>\n",
       "      <td>11.000000</td>\n",
       "      <td>-12.500000</td>\n",
       "      <td>-6.500000</td>\n",
       "      <td>45.500000</td>\n",
       "      <td>17.000000</td>\n",
       "      <td>14.000000</td>\n",
       "      <td>92.000000</td>\n",
       "      <td>18.400000</td>\n",
       "      <td>...</td>\n",
       "      <td>0.000000</td>\n",
       "      <td>0.000000</td>\n",
       "      <td>0.000000</td>\n",
       "      <td>0.000000</td>\n",
       "      <td>0.0</td>\n",
       "      <td>0.000000</td>\n",
       "      <td>0.000000</td>\n",
       "      <td>0.000000</td>\n",
       "      <td>0.0</td>\n",
       "      <td>0.000000</td>\n",
       "    </tr>\n",
       "    <tr>\n",
       "      <th>50%</th>\n",
       "      <td>2013.000000</td>\n",
       "      <td>99.000000</td>\n",
       "      <td>99.000000</td>\n",
       "      <td>-3.000000</td>\n",
       "      <td>3.000000</td>\n",
       "      <td>50.500000</td>\n",
       "      <td>26.000000</td>\n",
       "      <td>23.000000</td>\n",
       "      <td>117.000000</td>\n",
       "      <td>23.400000</td>\n",
       "      <td>...</td>\n",
       "      <td>1.000000</td>\n",
       "      <td>0.000000</td>\n",
       "      <td>0.000000</td>\n",
       "      <td>0.000000</td>\n",
       "      <td>0.0</td>\n",
       "      <td>0.000000</td>\n",
       "      <td>0.000000</td>\n",
       "      <td>0.000000</td>\n",
       "      <td>0.0</td>\n",
       "      <td>0.000000</td>\n",
       "    </tr>\n",
       "    <tr>\n",
       "      <th>75%</th>\n",
       "      <td>2017.000000</td>\n",
       "      <td>99.000000</td>\n",
       "      <td>99.000000</td>\n",
       "      <td>6.500000</td>\n",
       "      <td>12.500000</td>\n",
       "      <td>56.000000</td>\n",
       "      <td>37.000000</td>\n",
       "      <td>34.000000</td>\n",
       "      <td>147.000000</td>\n",
       "      <td>29.400000</td>\n",
       "      <td>...</td>\n",
       "      <td>1.000000</td>\n",
       "      <td>0.000000</td>\n",
       "      <td>0.000000</td>\n",
       "      <td>0.000000</td>\n",
       "      <td>0.0</td>\n",
       "      <td>0.000000</td>\n",
       "      <td>0.000000</td>\n",
       "      <td>0.000000</td>\n",
       "      <td>0.0</td>\n",
       "      <td>0.000000</td>\n",
       "    </tr>\n",
       "    <tr>\n",
       "      <th>max</th>\n",
       "      <td>2022.000000</td>\n",
       "      <td>99.000000</td>\n",
       "      <td>99.000000</td>\n",
       "      <td>36.000000</td>\n",
       "      <td>41.500000</td>\n",
       "      <td>82.500000</td>\n",
       "      <td>74.000000</td>\n",
       "      <td>72.000000</td>\n",
       "      <td>278.000000</td>\n",
       "      <td>55.600000</td>\n",
       "      <td>...</td>\n",
       "      <td>1.000000</td>\n",
       "      <td>1.000000</td>\n",
       "      <td>0.200000</td>\n",
       "      <td>1.000000</td>\n",
       "      <td>0.0</td>\n",
       "      <td>1.000000</td>\n",
       "      <td>0.333333</td>\n",
       "      <td>1.000000</td>\n",
       "      <td>0.0</td>\n",
       "      <td>1.000000</td>\n",
       "    </tr>\n",
       "  </tbody>\n",
       "</table>\n",
       "<p>8 rows × 1590 columns</p>\n",
       "</div>"
      ],
      "text/plain": [
       "              Year  Home Team Ranking_x  Away Team Ranking_x  \\\n",
       "count   977.000000           977.000000           977.000000   \n",
       "mean   2012.903787            58.841351            57.990788   \n",
       "std       5.187959            44.375891            44.404771   \n",
       "min    2004.000000             1.000000             1.000000   \n",
       "25%    2008.000000            11.000000            11.000000   \n",
       "50%    2013.000000            99.000000            99.000000   \n",
       "75%    2017.000000            99.000000            99.000000   \n",
       "max    2022.000000            99.000000            99.000000   \n",
       "\n",
       "       Home Team Spread_x  Away Team Spread_x     Total_x  Home Score_x_x  \\\n",
       "count          977.000000          977.000000  977.000000      976.000000   \n",
       "mean            -2.826510            2.826510   51.393040       26.869877   \n",
       "std             13.250883           13.250883    8.025355       13.421241   \n",
       "min            -41.500000          -36.000000   27.000000        0.000000   \n",
       "25%            -12.500000           -6.500000   45.500000       17.000000   \n",
       "50%             -3.000000            3.000000   50.500000       26.000000   \n",
       "75%              6.500000           12.500000   56.000000       37.000000   \n",
       "max             36.000000           41.500000   82.500000       74.000000   \n",
       "\n",
       "       Away Score_x_x  Rolling 5 Past Away Score  \\\n",
       "count      976.000000                 907.000000   \n",
       "mean        24.196721                 120.943771   \n",
       "std         13.896771                  42.124725   \n",
       "min          0.000000                  28.000000   \n",
       "25%         14.000000                  92.000000   \n",
       "50%         23.000000                 117.000000   \n",
       "75%         34.000000                 147.000000   \n",
       "max         72.000000                 278.000000   \n",
       "\n",
       "       Rolling 5 Past Away Score Avg  ...  Previous H&A Under Odds_Away_Team  \\\n",
       "count                     907.000000  ...                         970.000000   \n",
       "mean                       24.188754  ...                           0.528866   \n",
       "std                         8.424945  ...                           0.499424   \n",
       "min                         5.600000  ...                           0.000000   \n",
       "25%                        18.400000  ...                           0.000000   \n",
       "50%                        23.400000  ...                           1.000000   \n",
       "75%                        29.400000  ...                           1.000000   \n",
       "max                        55.600000  ...                           1.000000   \n",
       "\n",
       "       Rolling 5 Past H&A Push Odds_Away_Team  \\\n",
       "count                              942.000000   \n",
       "mean                                 0.055202   \n",
       "std                                  0.228495   \n",
       "min                                  0.000000   \n",
       "25%                                  0.000000   \n",
       "50%                                  0.000000   \n",
       "75%                                  0.000000   \n",
       "max                                  1.000000   \n",
       "\n",
       "       Rolling 5 Past H&A Push Odds Avg_Away_Team  \\\n",
       "count                                  942.000000   \n",
       "mean                                     0.011040   \n",
       "std                                      0.045699   \n",
       "min                                      0.000000   \n",
       "25%                                      0.000000   \n",
       "50%                                      0.000000   \n",
       "75%                                      0.000000   \n",
       "max                                      0.200000   \n",
       "\n",
       "       Rolling 5 Past H&A Push Odds Max_Away_Team  \\\n",
       "count                                  942.000000   \n",
       "mean                                     0.055202   \n",
       "std                                      0.228495   \n",
       "min                                      0.000000   \n",
       "25%                                      0.000000   \n",
       "50%                                      0.000000   \n",
       "75%                                      0.000000   \n",
       "max                                      1.000000   \n",
       "\n",
       "       Rolling 5 Past H&A Push Odds Min_Away_Team  \\\n",
       "count                                       942.0   \n",
       "mean                                          0.0   \n",
       "std                                           0.0   \n",
       "min                                           0.0   \n",
       "25%                                           0.0   \n",
       "50%                                           0.0   \n",
       "75%                                           0.0   \n",
       "max                                           0.0   \n",
       "\n",
       "       Rolling 3 Past H&A Push Odds_Away_Team  \\\n",
       "count                              956.000000   \n",
       "mean                                 0.031381   \n",
       "std                                  0.174436   \n",
       "min                                  0.000000   \n",
       "25%                                  0.000000   \n",
       "50%                                  0.000000   \n",
       "75%                                  0.000000   \n",
       "max                                  1.000000   \n",
       "\n",
       "       Rolling 3 Past H&A Push Oddss Avg_Away_Team  \\\n",
       "count                                   956.000000   \n",
       "mean                                      0.010460   \n",
       "std                                       0.058145   \n",
       "min                                       0.000000   \n",
       "25%                                       0.000000   \n",
       "50%                                       0.000000   \n",
       "75%                                       0.000000   \n",
       "max                                       0.333333   \n",
       "\n",
       "       Rolling 3 Past H&A Push OddsMax_Away_Team  \\\n",
       "count                                 956.000000   \n",
       "mean                                    0.031381   \n",
       "std                                     0.174436   \n",
       "min                                     0.000000   \n",
       "25%                                     0.000000   \n",
       "50%                                     0.000000   \n",
       "75%                                     0.000000   \n",
       "max                                     1.000000   \n",
       "\n",
       "       Rolling 3 Past H&A Push Odds Min_Away_Team  \\\n",
       "count                                       956.0   \n",
       "mean                                          0.0   \n",
       "std                                           0.0   \n",
       "min                                           0.0   \n",
       "25%                                           0.0   \n",
       "50%                                           0.0   \n",
       "75%                                           0.0   \n",
       "max                                           0.0   \n",
       "\n",
       "       Previous H&A Push Odds_Away_Team  \n",
       "count                        970.000000  \n",
       "mean                           0.008247  \n",
       "std                            0.090487  \n",
       "min                            0.000000  \n",
       "25%                            0.000000  \n",
       "50%                            0.000000  \n",
       "75%                            0.000000  \n",
       "max                            1.000000  \n",
       "\n",
       "[8 rows x 1590 columns]"
      ]
     },
     "execution_count": 5,
     "metadata": {},
     "output_type": "execute_result"
    }
   ],
   "source": [
    "df2.describe()"
   ]
  },
  {
   "cell_type": "code",
   "execution_count": 6,
   "id": "220e3d03",
   "metadata": {},
   "outputs": [],
   "source": [
    "Prediction_Game = df2.loc[0]"
   ]
  },
  {
   "cell_type": "code",
   "execution_count": 7,
   "id": "24e6a0d4",
   "metadata": {},
   "outputs": [
    {
     "data": {
      "text/plain": [
       "Date                                           2022-01-10 00:00:00\n",
       "Year                                                          2022\n",
       "Home Team                                                  Georgia\n",
       "Home Team Ranking_x                                              3\n",
       "Away Team                                                  Alabama\n",
       "                                                      ...         \n",
       "Rolling 3 Past H&A Push Odds_Away_Team                         0.0\n",
       "Rolling 3 Past H&A Push Oddss Avg_Away_Team                    0.0\n",
       "Rolling 3 Past H&A Push OddsMax_Away_Team                      0.0\n",
       "Rolling 3 Past H&A Push Odds Min_Away_Team                     0.0\n",
       "Previous H&A Push Odds_Away_Team                               0.0\n",
       "Name: 0, Length: 1593, dtype: object"
      ]
     },
     "execution_count": 7,
     "metadata": {},
     "output_type": "execute_result"
    }
   ],
   "source": [
    "Prediction_Game"
   ]
  },
  {
   "cell_type": "code",
   "execution_count": 8,
   "id": "a11c04d6",
   "metadata": {},
   "outputs": [],
   "source": [
    "df3= df2[1:]"
   ]
  },
  {
   "cell_type": "code",
   "execution_count": 9,
   "id": "e81482a6",
   "metadata": {},
   "outputs": [
    {
     "data": {
      "text/plain": [
       "(976, 1593)"
      ]
     },
     "execution_count": 9,
     "metadata": {},
     "output_type": "execute_result"
    }
   ],
   "source": [
    "df3.shape"
   ]
  },
  {
   "cell_type": "markdown",
   "id": "73181ceb",
   "metadata": {},
   "source": [
    "# Created Target Variable"
   ]
  },
  {
   "cell_type": "code",
   "execution_count": 10,
   "id": "619ed3b6",
   "metadata": {},
   "outputs": [
    {
     "name": "stderr",
     "output_type": "stream",
     "text": [
      "<ipython-input-10-f375fe046edc>:1: SettingWithCopyWarning: \n",
      "A value is trying to be set on a copy of a slice from a DataFrame.\n",
      "Try using .loc[row_indexer,col_indexer] = value instead\n",
      "\n",
      "See the caveats in the documentation: https://pandas.pydata.org/pandas-docs/stable/user_guide/indexing.html#returning-a-view-versus-a-copy\n",
      "  df3['H Spread Outcome'] = df3.apply(lambda x: 'H_Spread_W' if (x['Home Score_x_x'] + x['Home Team Spread_x']) > x['Away Score_x_x']\n"
     ]
    }
   ],
   "source": [
    "df3['H Spread Outcome'] = df3.apply(lambda x: 'H_Spread_W' if (x['Home Score_x_x'] + x['Home Team Spread_x']) > x['Away Score_x_x'] \n",
    "                                  else ('H_Spread_L' if (x['Home Score_x_x'] + x['Home Team Spread_x']) < x['Away Score_x_x']\n",
    "                                  else 'H_Spread_Push' if x['Home Score_x_x'] + x['Home Team Spread_x'] == x['Away Score_x_x']\n",
    "                                  else \"\"\n",
    "                                       \n",
    "                                       \n",
    "                                       \n",
    "                                       ),axis=1) "
   ]
  },
  {
   "cell_type": "code",
   "execution_count": 11,
   "id": "b0762aaa",
   "metadata": {},
   "outputs": [
    {
     "data": {
      "text/plain": [
       "H_Spread_L       484\n",
       "H_Spread_W       464\n",
       "H_Spread_Push     28\n",
       "Name: H Spread Outcome, dtype: int64"
      ]
     },
     "execution_count": 11,
     "metadata": {},
     "output_type": "execute_result"
    }
   ],
   "source": [
    "df3['H Spread Outcome'].value_counts()"
   ]
  },
  {
   "cell_type": "code",
   "execution_count": 12,
   "id": "66cdb3b8",
   "metadata": {},
   "outputs": [
    {
     "data": {
      "text/plain": [
       "0.4959016393442623"
      ]
     },
     "execution_count": 12,
     "metadata": {},
     "output_type": "execute_result"
    }
   ],
   "source": [
    "484/976 #Home Spread Loss %"
   ]
  },
  {
   "cell_type": "code",
   "execution_count": 13,
   "id": "95a18ab6",
   "metadata": {},
   "outputs": [
    {
     "data": {
      "text/plain": [
       "0.47540983606557374"
      ]
     },
     "execution_count": 13,
     "metadata": {},
     "output_type": "execute_result"
    }
   ],
   "source": [
    "464/976 #Home Spread Win %"
   ]
  },
  {
   "cell_type": "code",
   "execution_count": 14,
   "id": "eb153c75",
   "metadata": {},
   "outputs": [
    {
     "data": {
      "text/plain": [
       "0.028688524590163935"
      ]
     },
     "execution_count": 14,
     "metadata": {},
     "output_type": "execute_result"
    }
   ],
   "source": [
    "28/976 #Home Spread Push(tie) %"
   ]
  },
  {
   "cell_type": "markdown",
   "id": "6fe39a75",
   "metadata": {},
   "source": [
    "# Correlation Tests"
   ]
  },
  {
   "cell_type": "code",
   "execution_count": 15,
   "id": "610397ba",
   "metadata": {},
   "outputs": [],
   "source": [
    "# As the home and away team scores of the game determine whether or not the home team wins or losses the spread , I ran a correlation test to determine which variables are most correlated with the scores - which will be used in the final model. \n",
    "\n"
   ]
  },
  {
   "cell_type": "code",
   "execution_count": 16,
   "id": "af2b025e",
   "metadata": {},
   "outputs": [
    {
     "data": {
      "text/plain": [
       "Date                                           datetime64[ns]\n",
       "Year                                                    int64\n",
       "Home Team                                              object\n",
       "Home Team Ranking_x                                     int64\n",
       "Away Team                                              object\n",
       "                                                    ...      \n",
       "Rolling 3 Past H&A Push Oddss Avg_Away_Team           float64\n",
       "Rolling 3 Past H&A Push OddsMax_Away_Team             float64\n",
       "Rolling 3 Past H&A Push Odds Min_Away_Team            float64\n",
       "Previous H&A Push Odds_Away_Team                      float64\n",
       "H Spread Outcome                                       object\n",
       "Length: 1594, dtype: object"
      ]
     },
     "execution_count": 16,
     "metadata": {},
     "output_type": "execute_result"
    }
   ],
   "source": [
    "df3.dtypes"
   ]
  },
  {
   "cell_type": "code",
   "execution_count": 17,
   "id": "59aad440",
   "metadata": {},
   "outputs": [],
   "source": [
    "columns_list=df3.columns\n"
   ]
  },
  {
   "cell_type": "code",
   "execution_count": 18,
   "id": "28620e69",
   "metadata": {},
   "outputs": [],
   "source": [
    "Prediction_Variable = df3['Home Score_x_x']\n",
    "Home_High_Corr_Values = []"
   ]
  },
  {
   "cell_type": "code",
   "execution_count": 19,
   "id": "497dd486",
   "metadata": {},
   "outputs": [
    {
     "name": "stdout",
     "output_type": "stream",
     "text": [
      "Home Team Spread_x : -0.4705450569905662\n",
      "Away Team Spread_x : 0.4705450569905662\n",
      "Total_x : 0.3223280984872463\n",
      "Home Score_x_x : 1.0\n",
      "Away Score_x_x : -0.06515300572081069\n",
      "Rolling 5 Past Away Score : -0.10797820700921772\n",
      "Rolling 5 Past Away Score Avg : -0.10797820700921767\n",
      "Rolling 5 Past Away Score Max : -0.05625579841822005\n",
      "Rolling 5 Past Away Score Min : -0.08960629256777507\n",
      "Rolling 3 Past Away Score : -0.09416260693057879\n",
      "Rolling 3 Past Away Score Avg : -0.09416260693057875\n",
      "Rolling 3 Past Away Score Max : -0.055792149105279285\n",
      "Rolling 3 Past Away Score Min : -0.07453356827482498\n",
      "Past Away Score : -0.07097380100304561\n",
      "Rolling 5 Past Away HI Pass yrds : 0.06730476047881796\n",
      "Rolling 5 Past Away HI Pass yrds Avg : 0.06730476047881793\n",
      "Rolling 5 Past Away HI Pass yrds Max : 0.10315211853874473\n",
      "Rolling 5 Past Away HI Pass yrds Min : 0.024423690098601042\n",
      "Rolling 3 Past Away HI Pass yrds : 0.08224198660280532\n",
      "Rolling 3 Past Away HI Pass yrds Avg : 0.08224198660280536\n",
      "Rolling 3 Past Away HI Pass yrds Max : 0.11358828630329176\n",
      "Rolling 3 Past Away HI Pass yrds Min : 0.04016072360247667\n",
      "Previous Away HI Pass yrds : 0.026444012303810136\n",
      "Rolling 5 Past Away HI Rush yrds : -0.09500844838565088\n",
      "Rolling 5 Past Away HI Rush yrds Avg : -0.09500844838565078\n",
      "Rolling 5 Past Away HI Rush yrds Max : -0.05515859344502267\n",
      "Rolling 5 Past Away HI Rush yrds Min : -0.12108771584370592\n",
      "Rolling 3 Past Away HI Rush yrds : -0.0713502355090019\n",
      "Rolling 3 Past Away HI Rush yrds Avg : -0.07135023550900177\n",
      "Rolling 3 Past Away HI Rush yrds Max : -0.036350344495560544\n",
      "Rolling 3 Past Away HI Rush yrds Min : -0.09256977829228041\n",
      "Previous Away HI Rush yrds : -0.0421777058660592\n",
      "Rolling 5 Past Away HI REC yrds : 0.06677727323781915\n",
      "Rolling 5 Past Away HI REC yrds Avg : 0.06677727323781907\n",
      "Rolling 5 Past Away HI REC yrds Max : 0.0317318868064722\n",
      "Rolling 5 Past Away HI REC yrds Min : 0.07556621475479981\n",
      "Rolling 3 Past Away HI REC yrds : 0.0676569726626917\n",
      "Rolling 3 Past Away HI REC yrds Avg : 0.06765697266269165\n",
      "Rolling 3 Past Away HI REC yrds Max : 0.05389001248743512\n",
      "Rolling 3 Past Away HI REC yrds Min : 0.03591339735538796\n",
      "Previous Away HI REC yrds : 0.026925802242019355\n",
      "Rolling 5 Past Away Season T Wins : -0.20652903726098412\n",
      "Rolling 5 Past Away Season T Wins Avg : -0.2065290372609841\n",
      "Rolling 5 Past Away Season T Wins Max : -0.19462449178989508\n",
      "Rolling 5 Past Away Season T Wins Min : -0.13949775328686112\n",
      "Rolling 3 Past Away Season T Wins : -0.19203955423987717\n",
      "Rolling 3 Past Away Season T Wins Avg : -0.19203955423987717\n",
      "Rolling 3 Past Away Season T Wins Max : -0.1948513329613654\n",
      "Rolling 3 Past Away Season T Wins Min : -0.14171144601364816\n",
      "Previous Away Season T Wins : -0.15404734064064934\n",
      "Rolling 5 Past Away Season T Losses : 0.2637105487558513\n",
      "Rolling 5 Past Away Season T Losses Avg : 0.26371054875585137\n",
      "Rolling 5 Past Away Season T Losses Max : 0.23694711173444793\n",
      "Rolling 5 Past Away Season T Losses Min : 0.21257392117574678\n",
      "Rolling 3 Past Away Season T Losses : 0.24752289126671184\n",
      "Rolling 3 Past Away Season T Losses Avg : 0.24752289126671184\n",
      "Rolling 3 Past Away Season T Losses Max : 0.21920452178494695\n",
      "Rolling 3 Past Away Season T Losses Min : 0.19528292397797709\n",
      "Previous Away Season Losses : 0.21749053645409178\n",
      "Rolling 5 Past Away Conf T Losses : 0.2654226881436554\n",
      "Rolling 5 Past Away Conf T Losses Avg : 0.26542268814365516\n",
      "Rolling 5 Past Away Conf T Losses Max : 0.24010557947596867\n",
      "Rolling 5 Past Away Conf T Losses Min : 0.21257392117574678\n",
      "Rolling 3 Past Away Conf T Losses : 0.24977672549701324\n",
      "Rolling 3 Past Away Conf T Losses Avg : 0.249776725497013\n",
      "Rolling 3 Past Away Conf T Losses Max : 0.22302821309210452\n",
      "Rolling 3 Past Away Conf T Losses Min : 0.1960634752003811\n",
      "Previous Away Conf Losses : 0.21945027615226037\n",
      "Rolling 5 Past Away Conf T Wins : -0.24355666463860187\n",
      "Rolling 5 Past Away Conf T Wins Avg : -0.24355666463860182\n",
      "Rolling 5 Past Away Conf T Wins Max : -0.22342403246232645\n",
      "Rolling 5 Past Away Conf T Wins Min : -0.1748083512242512\n",
      "Rolling 3 Past Away Conf T Wins : -0.22063620890257593\n",
      "Rolling 3 Past Away Conf T Wins Avg : -0.22063620890257604\n",
      "Rolling 3 Past Away Conf T Wins Max : -0.22270044737201633\n",
      "Rolling 3 Past Away Conf T Wins Min : -0.15603818083123758\n",
      "Previous Away Conf Wins : -0.1753378423041681\n",
      "Rolling 5 Past Away 1st Downs : -0.008023130242040358\n",
      "Rolling 5 Past Away 1st Downs Avg : -0.008023130242040318\n",
      "Rolling 5 Past Away 1st Downs Max : 0.058851164731471096\n",
      "Rolling 5 Past Away 1st Downs Min : -0.06310860216880161\n",
      "Rolling 3 Past Away 1st Downs : -0.005893347887556656\n",
      "Rolling 3 Past Away 1st Downs Avg : -0.005893347887556672\n",
      "Rolling 3 Past Away 1st Downs Max : 0.06322165557633541\n",
      "Rolling 3 Past Away 1st Downs Min : -0.06648888325246392\n",
      "Previous Away 1st Downs : -0.043279135541523954\n",
      "Rolling 5 Past Away 3rd Down Conversions : -0.02861574359853572\n",
      "Rolling 5 Past Away 3rd Down Conversion Avg : -0.02861574359853576\n",
      "Rolling 5 Past Away 3rd Down Conversion Max : -0.019800874930709228\n",
      "Rolling 5 Past Away 3rd Down Conversion Min : -0.05711459127894216\n",
      "Rolling 3 Past Away 3rd Down Conversion : -0.016927744811020055\n",
      "Rolling 3 Past Away 3rd Down Conversion Avg : -0.01692774481102001\n",
      "Rolling 3 Past Away 3rd Down Conversion Max : 0.01191523796043508\n",
      "Rolling 3 Past Away 3rd Down Conversion Min : -0.04982163523089565\n",
      "Previous Away 3rd Down Conversions : -0.015453360247006397\n",
      "Rolling 5 Past Away 3rd Down Conversion Attempts : 0.09565846430837227\n",
      "Rolling 5 Past Away 3rd Down Conversion Attempts Avg : 0.09565846430837237\n",
      "Rolling 5 Past Away 3rd Down Conversion Attempts Max : 0.028491757597071878\n",
      "Rolling 5 Past Away 3rd Down Conversion Attempts Min : 0.10310849676399327\n",
      "Rolling 3 Past Away 3rd Down Conversion Attempts : 0.10952277891420918\n",
      "Rolling 3 Past Away 3rd Down Conversion Attempts Avg : 0.10952277891420927\n",
      "Rolling 3 Past Away 3rd Down Conversion Attempts Max : 0.06064369778343412\n",
      "Rolling 3 Past Away 3rd Down Conversion Attempts Min : 0.09516493434886131\n",
      "Previous Away 3rd Down Conversions Attempts : 0.05216943600632954\n",
      "Rolling 5 Past Away 3rd Down Conversion % : -0.08586753997415228\n",
      "Rolling 5 Past Away 3rd Down Conversion % Avg : -0.08586753997415231\n",
      "Rolling 5 Past Away 3rd Down Conversion % Max : -0.07268747418722506\n",
      "Rolling 5 Past Away 3rd Down Conversion % Min : -0.06266543224544616\n",
      "Rolling 3 Past Away 3rd Down Conversion % : -0.0872496906472209\n",
      "Rolling 3 Past Away 3rd Down Conversion % Avg : -0.08724969064722088\n",
      "Rolling 3 Past Away 3rd Down Conversion % Max : -0.06014403452410483\n",
      "Rolling 3 Past Away 3rd Down Conversion % Min : -0.09177508884089246\n",
      "Previous Away 3rd Down Conversions % : -0.06161316322761774\n",
      "Rolling 5 Past Away 4th Down Conversions : 0.05976107254943442\n",
      "Rolling 5 Past Away 4th Down Conversions Avg : 0.05976107254943445\n",
      "Rolling 5 Past Away 4th Down Conversions Max : 0.030254373304972156\n",
      "Rolling 5 Past Away 4th Down Conversions Min : 0.018587179727152823\n",
      "Rolling 3 Past Away 4th Down Conversions : 0.07404863634679831\n",
      "Rolling 3 Past Away 4th Down Conversions Avg : 0.07404863634679833\n",
      "Rolling 3 Past Away 4th Down Conversions Max : 0.04750025244226203\n",
      "Rolling 3 Past Away 4th Down Conversions Min : 0.02798304751968383\n",
      "Previous Away 4th Down Conversions : -0.02490078107088528\n",
      "Rolling 5 Past Away 4th Down Conversion Attempts : 0.12249026551234055\n",
      "Rolling 5 Past Away 4th Down Conversion Attempts Avg : 0.12249026551234042\n",
      "Rolling 5 Past Away 4th Down Conversion Attempts Max : 0.10454750941012073\n",
      "Rolling 5 Past Away 4th Down Conversion Attempts Min : 0.10084791688755979\n",
      "Rolling 3 Past Away 4th Down Conversion Attempts : 0.11661425532269667\n",
      "Rolling 3 Past Away 4th Down Conversion Attempts Avg : 0.11661425532269666\n",
      "Rolling 3 Past Away 4th Down Conversion Attempts Max : 0.1063062014464074\n",
      "Rolling 3 Past Away 4th Down Conversion Attempts Min : 0.10149713823294991\n",
      "Previous Away 4th Down Conversions Attempts : 0.015080611870142726\n",
      "Rolling 5 Past Away 4th Down Conversion % : 0.0187371540159702\n",
      "Rolling 5 Past Away 4th Down Conversion % Avg : 0.018737154015970207\n",
      "Rolling 5 Past Away 4th Down Conversion % Max : -0.008732602732681548\n",
      "Rolling 5 Past Away 4th Down Conversion % Min : 0.03721220421983446\n",
      "Rolling 3 Past Away 4th Down Conversion % : 0.039157416039192844\n",
      "Rolling 3 Past Away 4th Down Conversion % Avg : 0.03915741603919287\n"
     ]
    },
    {
     "name": "stdout",
     "output_type": "stream",
     "text": [
      "Rolling 3 Past Away 4th Down Conversion % Max : -0.011298697209739124\n",
      "Rolling 3 Past Away 4th Down Conversion % Min : 0.03578662731904349\n",
      "Previous Away 4th Down Conversions % : -0.040923694915890985\n",
      "Rolling 5 Past Away Completions : 0.09748085396796707\n",
      "Rolling 5 Past Away Completions Avg : 0.09748085396796702\n",
      "Rolling 5 Past Away Completions Max : 0.14566363529392537\n",
      "Rolling 5 Past Away Completions Min : 0.02801970925047071\n",
      "Rolling 3 Past Away Completions : 0.11721176793086197\n",
      "Rolling 3 Past Away Completions Avg : 0.11721176793086203\n",
      "Rolling 3 Past Away Completions Max : 0.15616855386613374\n",
      "Rolling 3 Past Away Completions Min : 0.0583277912874245\n",
      "Previous Away Completions : 0.051121177494087365\n",
      "Rolling 5 Past Away Completion Attempts : 0.13818706199405964\n",
      "Rolling 5 Past Away Completion Attempts Avg : 0.13818706199405947\n",
      "Rolling 5 Past Away Completion Attempts Max : 0.1281417608351866\n",
      "Rolling 5 Past Away Completion Attempts Min : 0.0886028162736546\n",
      "Rolling 3 Past Away Completion Attempts : 0.15522679957430335\n",
      "Rolling 3 Past Away Completion Attempts Avg : 0.15522679957430355\n",
      "Rolling 3 Past Away Completion Attempts Max : 0.15569545630080392\n",
      "Rolling 3 Past Away Completion Attempts Min : 0.10569292512352368\n",
      "Previous Away Completion Attempts : 0.08788589147426777\n",
      "Rolling 5 Past Away Completion % : -0.06177645460142736\n",
      "Rolling 5 Past Away Completion % Avg : -0.06177645460142737\n",
      "Rolling 5 Past Away Completion % Max : -0.07720564497110247\n",
      "Rolling 5 Past Away Completion % Min : -0.06031979307216996\n",
      "Rolling 3 Past Away Completion % : -0.04445362076322829\n",
      "Rolling 3 Past Away Completion % Avg : -0.04445362076322818\n",
      "Rolling 3 Past Away Completion % Max : -0.017094088043737538\n",
      "Rolling 3 Past Away Completion % Min : -0.06045781959031684\n",
      "Previous Away Completion % : -0.06014809598286207\n",
      "Rolling 5 Past Away Total Yards : -0.014917542566106218\n",
      "Rolling 5 Past Away Total Yards Avg : -0.014917542566106229\n",
      "Rolling 5 Past Away Total Yards Max : 0.007690329752011826\n",
      "Rolling 5 Past Away Total Yards Min : -0.010320380930277663\n",
      "Rolling 3 Past Away Total Yards : -0.005764940624395611\n",
      "Rolling 3 Past Away Total Yards Avg : -0.0057649406243956034\n",
      "Rolling 3 Past Away Total Yards Max : 0.022761903218058172\n",
      "Rolling 3 Past Away Total Yards Min : -0.011763013976520043\n",
      "Previous Away Total Yards : -0.040654288784787176\n",
      "Rolling 5 Past Away Passing : 0.0629729280095878\n",
      "Rolling 5 Past Away Passing Avg : 0.06297292800958777\n",
      "Rolling 5 Past Away Passing Max : 0.10324847525652665\n",
      "Rolling 5 Past Away Passing Min : 0.028036381389861174\n",
      "Rolling 3 Past Away Passing : 0.07104630335687909\n",
      "Rolling 3 Past Away Passing Avg : 0.07104630335687902\n",
      "Rolling 3 Past Away Passing Max : 0.10961992932196735\n",
      "Rolling 3 Past Away Passing Min : 0.024571604499902085\n",
      "Previous Away Passing : 0.021827788675865618\n",
      "Rolling 5 Past Away Yards per Pass : -0.06640266098544342\n",
      "Rolling 5 Past Away Yards per Pass Avg : -0.06640266098544342\n",
      "Rolling 5 Past Away Yards per Pass Max : -0.09728529886007276\n",
      "Rolling 5 Past Away Yards per Pass Min : -0.05239243220708586\n",
      "Rolling 3 Past Away Yards per Pass : -0.07066266487002408\n",
      "Rolling 3 Past Away Yards per Pass Avg : -0.07066266487002401\n",
      "Rolling 3 Past Away Yards per Pass Max : -0.06423408200298247\n",
      "Rolling 3 Past Away Yards per Pass Min : -0.07129011407934815\n",
      "Previous Away Yards per Pass : -0.057384920455495265\n",
      "Rolling 5 Past Away Rushing : -0.11632059098732231\n",
      "Rolling 5 Past Away Rushing Avg : -0.11632059098732238\n",
      "Rolling 5 Past Away Rushing Max : -0.08550546190481756\n",
      "Rolling 5 Past Away Rushing Min : -0.11679567264120287\n",
      "Rolling 3 Past Away Rushing : -0.10973030192053913\n",
      "Rolling 3 Past Away Rushing Avg : -0.10973030192053913\n",
      "Rolling 3 Past Away Rushing Max : -0.08537624326021157\n",
      "Rolling 3 Past Away Rushing Min : -0.10847700840812202\n",
      "Previous Away Rushing : -0.08644002919270614\n",
      "Rolling 5 Past Away Rushing Attempts : -0.11164663080333023\n",
      "Rolling 5 Past Away Rushing Attempts Avg : -0.11164663080333025\n",
      "Rolling 5 Past Away Rushing Attempts Max : -0.04616448296795516\n",
      "Rolling 5 Past Away Rushing Attempts Min : -0.10274226070393355\n",
      "Rolling 3 Past Away Rushing Attempts : -0.10691860604482437\n",
      "Rolling 3 Past Away Rushing Attempts Avg : -0.10691860604482442\n",
      "Rolling 3 Past Away Rushing Attempts Max : -0.053254336543949725\n",
      "Rolling 3 Past Away Rushing Attempts Min : -0.11682812498244492\n",
      "Previous Away Rushing Attempts : -0.09610605683233459\n",
      "Rolling 5 Past Away Yards per Rush : -0.09966055487960211\n",
      "Rolling 5 Past Away Yards per Rush Avg : -0.09966055487960208\n",
      "Rolling 5 Past Away Yards per Rush Max : -0.07651138806119535\n",
      "Rolling 5 Past Away Yards per Rush Min : -0.07417270607233255\n",
      "Rolling 3 Past Away Yards per Rush : -0.08519356920114911\n",
      "Rolling 3 Past Away Yards per Rush Avg : -0.08519356920114912\n",
      "Rolling 3 Past Away Yards per Rush Max : -0.07300467861745553\n",
      "Rolling 3 Past Away Yards per Rush Min : -0.07502018670936894\n",
      "Previous Away Yards per Rush : -0.06729639765240654\n",
      "Rolling 5 Past Away Penalties : 0.08331271044560638\n",
      "Rolling 5 Past Away Penalties Avg : 0.08331271044560638\n",
      "Rolling 5 Past Away Penalties Max : 0.09713135733711396\n",
      "Rolling 5 Past Away Penalties Min : 0.04850357369877988\n",
      "Rolling 3 Past Away Penalties : 0.058698793196140395\n",
      "Rolling 3 Past Away Penalties Avg : 0.05869879319614027\n",
      "Rolling 3 Past Away Penalties Max : 0.06334212113697506\n",
      "Rolling 3 Past Away Penalties Min : 0.03433392614648765\n",
      "Previous Away Penalties : 0.043541024630209896\n",
      "Rolling 5 Past Away Penalty Yards : 0.09484688491831059\n",
      "Rolling 5 Past Away Penalty Yards Avg : 0.0948468849183105\n",
      "Rolling 5 Past Away Penalty Yards Max : 0.12225762485096815\n",
      "Rolling 5 Past Away Penalty Yards Min : 0.02106623749656583\n",
      "Rolling 3 Past Away Penalty Yards : 0.07798053035545238\n",
      "Rolling 3 Past Away Penalty Yards Avg : 0.0779805303554523\n",
      "Rolling 3 Past Away Penalty Yards Max : 0.08362464006241047\n",
      "Rolling 3 Past Away Penalty Yards Min : 0.030616889809095476\n",
      "Previous Away Penalty Yards : 0.04244764751413797\n",
      "Rolling 5 Past Away Yards per Penalty : 0.12340989095391391\n",
      "Rolling 5 Past Away Yards per Penalty Avg : 0.12340989095391383\n",
      "Rolling 5 Past Away Yards per Penalty Max : 0.10419202904874623\n",
      "Rolling 5 Past Away Yards per Penalty Min : 0.0715453807708942\n",
      "Rolling 3 Past Away Yards per Penalty : 0.12980396671681824\n",
      "Rolling 3 Past Away Yards per Penalty Avg : 0.1298039667168182\n",
      "Rolling 3 Past Away Yards per Penalty Max : 0.13112511982738928\n",
      "Rolling 3 Past Away Yards per Penalty Min : 0.08157554668886413\n",
      "Previous Away Yards per Penalty : 0.06452501774548179\n",
      "Rolling 5 Past Away Turnovers : 0.10868157597267046\n",
      "Rolling 5 Past Away Turnovers Avg : 0.10868157597267045\n",
      "Rolling 5 Past Away Turnovers Max : 0.10261800525571252\n",
      "Rolling 5 Past Away Turnovers Min : 0.0817215176237875\n",
      "Rolling 3 Past Away Turnovers : 0.10131654473492079\n",
      "Rolling 3 Past Away Turnovers Avg : 0.10131654473492074\n",
      "Rolling 3 Past Away Turnovers Max : 0.09671144106425474\n",
      "Rolling 3 Past Away Turnovers Min : 0.06465863130872393\n",
      "Previous Away Turnovers : 0.060502399508724124\n",
      "Rolling 5 Past Away Fumbles Lost : 0.06761834738698372\n",
      "Rolling 5 Past Away Fumbles Lost Avg : 0.06761834738698376\n",
      "Rolling 5 Past Away Fumbles Lost Max : 0.03209347139956248\n",
      "Rolling 5 Past Away Fumbles Lost Min : 0.07516428984730854\n",
      "Rolling 3 Past Away Fumbles Lost : 0.022623777562208198\n",
      "Rolling 3 Past Away Fumbles Lost Avg : 0.022623777562208208\n",
      "Rolling 3 Past Away Fumbles Lost Max : 0.00781407316493915\n",
      "Rolling 3 Past Away Fumbles Lost Min : 0.03228025631429043\n",
      "Previous Away Fumbles Lost : -0.02892971147340078\n",
      "Rolling 5 Past Away Interceptions Thrown : 0.091167945419246\n",
      "Rolling 5 Past Away Interceptions Thrown Avg : 0.09116794541924603\n",
      "Rolling 5 Past Away Interceptions Thrown Max : 0.08406932911100543\n",
      "Rolling 5 Past Away Interceptions Thrown Min : 0.05950460639456582\n",
      "Rolling 3 Past Away Interceptions Thrown : 0.11812621273376267\n",
      "Rolling 3 Past Away Interceptions Thrown Avg : 0.11812621273376271\n",
      "Rolling 3 Past Away Interceptions Thrown Max : 0.12106065161132198\n",
      "Rolling 3 Past Away Interceptions Thrown Min : 0.05358182334731813\n",
      "Previous Away Interceptions Thrown : 0.1057104692412304\n",
      "Rolling 5 Past Away Possession Time : 0.037939302756577656\n",
      "Rolling 5 Past Away Possession Time Avg : 0.03793930275657767\n",
      "Rolling 5 Past Away Possession Time Max : 0.04597508496998664\n",
      "Rolling 5 Past Away Possession Time Min : 0.02951190009682245\n",
      "Rolling 3 Past Away Possession Time : 0.04657165923823243\n",
      "Rolling 3 Past Away Possession Time Avg : 0.04657165923823246\n",
      "Rolling 3 Past Away Possession Time Max : 0.040731939472490625\n",
      "Rolling 3 Past Away Possession Time Min : 0.04309991929643366\n",
      "Previous Away Possession Time : 0.014706827836978412\n",
      "Rolling 5 Past Away Q1 Score : -0.06745463678123069\n",
      "Rolling 5 Past Away Q1 Score Avg : -0.06745463678123065\n",
      "Rolling 5 Past Away Q1 Score Max : -0.07416020933123903\n",
      "Rolling 5 Past Away Q1 Score Min : -0.037063501494616416\n",
      "Rolling 3 Past Away Q1 Score : -0.07579022469568672\n",
      "Rolling 3 Past Away Q1 Score Avg : -0.07579022469568679\n",
      "Rolling 3 Past Away Q1 Score Max : -0.08111793747075383\n",
      "Rolling 3 Past Away Q1 Score Min : -0.03212825824307903\n",
      "Previous Away Q1 Score : -0.06431850411141118\n",
      "Rolling 5 Past Away Q2 Score : -0.07936332050484525\n",
      "Rolling 5 Past Away Q2 Score Avg : -0.07936332050484528\n",
      "Rolling 5 Past Away Q2 Score Max : -0.06816557021198412\n",
      "Rolling 5 Past Away Q2 Score Min : -0.0659479178101423\n",
      "Rolling 3 Past Away Q2 Score : -0.052291096654728475\n",
      "Rolling 3 Past Away Q2 Score Avg : -0.05229109665472844\n",
      "Rolling 3 Past Away Q2 Score Max : -0.030156408566316947\n",
      "Rolling 3 Past Away Q2 Score Min : -0.037740851352240395\n",
      "Previous Away Q2 Score : -0.05281979673008215\n",
      "Rolling 5 Past Away Q3 Score : -0.11169422725697603\n",
      "Rolling 5 Past Away Q3 Score Avg : -0.111694227256976\n",
      "Rolling 5 Past Away Q3 Score Max : -0.13538100327205457\n",
      "Rolling 5 Past Away Q3 Score Min : -0.05027945638622419\n",
      "Rolling 3 Past Away Q3 Score : -0.09030454732816173\n",
      "Rolling 3 Past Away Q3 Score Avg : -0.09030454732816177\n",
      "Rolling 3 Past Away Q3 Score Max : -0.10490839423516458\n",
      "Rolling 3 Past Away Q3 Score Min : -0.024311456259843933\n",
      "Previous Away Q3 Score : -0.02546406479757536\n",
      "Rolling 5 Past Away Q4 Score : -0.04846280673581492\n",
      "Rolling 5 Past Away Q4 Score Avg : -0.0484628067358149\n",
      "Rolling 5 Past Away Q4 Score Max : -0.011871316631013342\n",
      "Rolling 5 Past Away Q4 Score Min : -0.11040320208891752\n",
      "Rolling 3 Past Away Q4 Score : -0.039386904940427035\n",
      "Rolling 3 Past Away Q4 Score Avg : -0.03938690494042711\n",
      "Rolling 3 Past Away Q4 Score Max : -0.02307335445234631\n",
      "Rolling 3 Past Away Q4 Score Min : -0.05419807736948022\n",
      "Previous Away Q4 Score : -0.036452346019102945\n",
      "Rolling 5 Past Away Spread : 0.2055594221315459\n",
      "Rolling 5 Past Away Spread Avg : 0.20555942213154602\n",
      "Rolling 5 Past Away Spread Max : 0.20663431493043463\n",
      "Rolling 5 Past Away Spread Min : 0.18264842978739065\n",
      "Rolling 3 Past Away Spread : 0.2029186147984203\n",
      "Rolling 3 Past Away Spread Avg : 0.20291861479842013\n",
      "Rolling 3 Past Away Spread Max : 0.19701151210715567\n",
      "Rolling 3 Past Away Spread Min : 0.17761290747741804\n",
      "Previous Away Spread : 0.15509186624569585\n",
      "Rolling 5 Past Away Ranking : 0.22323904960013025\n",
      "Rolling 5 Past Away Ranking Avg : 0.22323904960012994\n",
      "Rolling 5 Past Away Ranking Max : 0.19363493028624681\n",
      "Rolling 5 Past Away Ranking Min : 0.188222741132155\n",
      "Rolling 3 Past Away Ranking : 0.23200718250934718\n",
      "Rolling 3 Past Away Ranking Avg : 0.23200718250934718\n",
      "Rolling 3 Past Away Ranking Max : 0.20036601306813123\n",
      "Rolling 3 Past Away Ranking Min : 0.21105307040339774\n",
      "Previous Away Ranking : 0.21524344062388923\n",
      "Rolling 5 Past Away ATS Win : -0.0969571345291637\n",
      "Rolling 5 Past Away ATS Win Avg : -0.0969571345291638\n",
      "Rolling 5 Past Away ATS Win Max : -0.006056809809677631\n",
      "Rolling 5 Past Away ATS Win Min : -0.039646405218403694\n",
      "Rolling 3 Past Away ATS Win : -0.11728891298725481\n",
      "Rolling 3 Past Away ATS Win Avg : -0.11728891298725463\n",
      "Rolling 3 Past Away ATS Win Max : -0.04488510102776353\n",
      "Rolling 3 Past Away ATS Win Min : -0.0985071860000715\n",
      "Previous Away ATS Win : -0.0770679052886071\n",
      "Rolling 5 Past Away ATS Loss : 0.09632760193554377\n"
     ]
    },
    {
     "name": "stdout",
     "output_type": "stream",
     "text": [
      "Rolling 5 Past Away ATS Loss Avg : 0.09632760193554377\n",
      "Rolling 5 Past Away ATS Loss Max : 0.019790220908507745\n",
      "Rolling 5 Past Away ATS Loss Min : -0.0057075161543136375\n",
      "Rolling 3 Past Away ATS Loss : 0.12357342426063767\n",
      "Rolling 3 Past Away ATS Loss Avg : 0.1235734242606376\n",
      "Rolling 3 Past Away ATS Loss Max : 0.107033624349325\n",
      "Rolling 3 Past Away ATS Loss Min : 0.03886982427536769\n",
      "Previous Away ATS Loss : 0.08040975971420933\n",
      "Rolling 5 Past Away ATS Push : 0.002955300635694697\n",
      "Rolling 5 Past Away ATS Push Avg : 0.0029553006356946836\n",
      "Rolling 5 Past Away ATS Push Max : 0.008097246550130745\n",
      "Rolling 5 Past Away ATS Push Min : nan\n",
      "Rolling 3 Past Away ATS Push : -0.018150754545178917\n",
      "Rolling 3 Past Away ATS Push Avg : -0.018150754545178914\n",
      "Rolling 3 Past Away ATS Push Max : -0.018513193754729713\n",
      "Rolling 3 Past Away ATS Push Min : nan\n",
      "Previous Away ATS Push : -0.009241873184490525\n",
      "Rolling 5 Past Away Over Odds : -0.03291009078675364\n",
      "Rolling 5 Past Away Over Odds Avg : -0.03291009078675372\n",
      "Rolling 5 Past Away Over Odds Max : -0.008887762288440222\n",
      "Rolling 5 Past Away Over Odds Min : 0.015532883833768071\n",
      "Rolling 3 Past Away Over Odds : -0.05152786977106101\n",
      "Rolling 3 Past Away Over Oddss Avg : -0.051527869771061025\n",
      "Rolling 3 Past Away Over OddsMax : -0.05145903889445182\n",
      "Rolling 3 Past Away Over Odds Min : -0.04073054416385813\n",
      "Previous Away Over Odds : -0.012058516739445437\n",
      "Rolling 5 Past Away Under Odds : 0.04760735939699157\n",
      "Rolling 5 Past Away Under Odds Avg : 0.047607359396991546\n",
      "Rolling 5 Past Away Under Odds Max : -0.0017470710757888012\n",
      "Rolling 5 Past Away Under Odds Min : 0.029311531122017835\n",
      "Rolling 3 Past Away Under Odds : 0.06763367500289345\n",
      "Rolling 3 Past Away Under Oddss Avg : 0.0676336750028934\n",
      "Rolling 3 Past Away Under OddsMax : 0.061298738511963886\n",
      "Rolling 3 Past Away Under Odds Min : 0.06283623594525499\n",
      "Previous Away Under Odds : 0.015118308893943526\n",
      "Rolling 5 Past Away Push Odds : -0.0678249226352272\n",
      "Rolling 5 Past Away Push Odds Avg : -0.06782492263522716\n",
      "Rolling 5 Past Away Push Odds Max : -0.0678249226352272\n",
      "Rolling 5 Past Away Push Odds Min : nan\n",
      "Rolling 3 Past Away Push Odds : -0.07224724641797818\n",
      "Rolling 3 Past Away Push Oddss Avg : -0.07224724641797822\n",
      "Rolling 3 Past Away Push OddsMax : -0.07224724641797818\n",
      "Rolling 3 Past Away Push Odds Min : nan\n",
      "Previous Away Push Odds : -0.014455803401996219\n",
      "Rolling 5 Past Away Total Odds : 0.14737665873006137\n",
      "Rolling 5 Past Away Total Odds Avg : 0.1473766587300613\n",
      "Rolling 5 Past Away Total Odds Max : 0.133589005351336\n",
      "Rolling 5 Past Away Total Odds Min : 0.12260817260887673\n",
      "Rolling 3 Past Away Total Odds : 0.14916677371155723\n",
      "Rolling 3 Past Away Total Oddss Avg : 0.14916677371155707\n",
      "Rolling 3 Past Away Total OddsMax : 0.13326446563043046\n",
      "Rolling 3 Past Away Total Odds Min : 0.11587952845241031\n",
      "Previous Away Total Odds : 0.11231587017287423\n",
      "Rolling 5 Past Home Score : 0.26782433195805094\n",
      "Rolling 5 Past Home Score Avg : 0.26782433195805083\n",
      "Rolling 5 Past Home Score Max : 0.2320179549481099\n",
      "Rolling 5 Past Home Score Min : 0.2084111384256779\n",
      "Rolling 3 Past Home Score : 0.2754325932566715\n",
      "Rolling 3 Past Home Score Avg : 0.2754325932566716\n",
      "Rolling 3 Past Home Score Max : 0.2596890561040711\n",
      "Rolling 3 Past Home Score Min : 0.2291674336248376\n",
      "Past Home Score : 0.18236083632649344\n",
      "Rolling 5 Past Home HI Pass yrds : 0.2502214058997243\n",
      "Rolling 5 Past Home HI Pass yrds Avg : 0.2502214058997243\n",
      "Rolling 5 Past Home HI Pass yrds Max : 0.19080658485149682\n",
      "Rolling 5 Past Home HI Pass yrds Min : 0.25199260402285456\n",
      "Rolling 3 Past Home HI Pass yrds : 0.24161206256719378\n",
      "Rolling 3 Past Home HI Pass yrds Avg : 0.24161206256719375\n",
      "Rolling 3 Past Home HI Pass yrds Max : 0.2155177832918897\n",
      "Rolling 3 Past Home HI Pass yrds Min : 0.2413097299623424\n",
      "Previous Home HI Pass yrds : 0.1850363680509152\n",
      "Rolling 5 Past Home HI Rush yrds : 0.0857587368980979\n",
      "Rolling 5 Past Home HI Rush yrds Avg : 0.0857587368980979\n",
      "Rolling 5 Past Home HI Rush yrds Max : 0.044458959330495415\n",
      "Rolling 5 Past Home HI Rush yrds Min : 0.10533718344968157\n",
      "Rolling 3 Past Home HI Rush yrds : 0.08391846529159416\n",
      "Rolling 3 Past Home HI Rush yrds Avg : 0.08391846529159419\n",
      "Rolling 3 Past Home HI Rush yrds Max : 0.03439451860325003\n",
      "Rolling 3 Past Home HI Rush yrds Min : 0.11025925252512128\n",
      "Previous Home HI Rush yrds : 0.06726646056009991\n",
      "Rolling 5 Past Home HI REC yrds : 0.23855039516895468\n",
      "Rolling 5 Past Home HI REC yrds Avg : 0.2385503951689546\n",
      "Rolling 5 Past Home HI REC yrds Max : 0.1688364418831364\n",
      "Rolling 5 Past Home HI REC yrds Min : 0.24315024115913045\n",
      "Rolling 3 Past Home HI REC yrds : 0.22651538090809112\n",
      "Rolling 3 Past Home HI REC yrds Avg : 0.22651538090809106\n",
      "Rolling 3 Past Home HI REC yrds Max : 0.1862942268127767\n",
      "Rolling 3 Past Home HI REC yrds Min : 0.21414964097496242\n",
      "Previous Home HI REC yrds : 0.16413658438847137\n",
      "Rolling 5 Past Home Season T Wins : 0.24144506297721224\n",
      "Rolling 5 Past Home Season T Wins Avg : 0.24144506297721224\n",
      "Rolling 5 Past Home Season T Wins Max : 0.24241590588913076\n",
      "Rolling 5 Past Home Season T Wins Min : 0.14363908841379278\n",
      "Rolling 3 Past Home Season T Wins : 0.2276445760384172\n",
      "Rolling 3 Past Home Season T Wins Avg : 0.22764457603841728\n",
      "Rolling 3 Past Home Season T Wins Max : 0.2452986918242428\n",
      "Rolling 3 Past Home Season T Wins Min : 0.13630443644582166\n",
      "Previous Home Season T Wins : 0.17605436540653535\n",
      "Rolling 5 Past Home Season T Losses : -0.2654374347473971\n",
      "Rolling 5 Past Home Season T Losses Avg : -0.26543743474739695\n",
      "Rolling 5 Past Home Season T Losses Max : -0.2616477424213644\n",
      "Rolling 5 Past Home Season T Losses Min : -0.17908001643435043\n",
      "Rolling 3 Past Home Season T Losses : -0.28040264206808674\n",
      "Rolling 3 Past Home Season T Losses Avg : -0.28040264206808696\n",
      "Rolling 3 Past Home Season T Losses Max : -0.2747677982933334\n",
      "Rolling 3 Past Home Season T Losses Min : -0.2249279993150875\n",
      "Previous Home Season Losses : -0.22980074309761458\n",
      "Rolling 5 Past Home Conf T Losses : -0.2653566696173642\n",
      "Rolling 5 Past Home Conf T Losses Avg : -0.26535666961736426\n",
      "Rolling 5 Past Home Conf T Losses Max : -0.2620833283051229\n",
      "Rolling 5 Past Home Conf T Losses Min : -0.17908001643435043\n",
      "Rolling 3 Past Home Conf T Losses : -0.28010075985744487\n",
      "Rolling 3 Past Home Conf T Losses Avg : -0.2801007598574448\n",
      "Rolling 3 Past Home Conf T Losses Max : -0.2742639914885241\n",
      "Rolling 3 Past Home Conf T Losses Min : -0.2249279993150875\n",
      "Previous Home Conf Losses : -0.22943551580664354\n",
      "Rolling 5 Past Home Conf T Wins : 0.25313917144096953\n",
      "Rolling 5 Past Home Conf T Wins Avg : 0.2531391714409697\n",
      "Rolling 5 Past Home Conf T Wins Max : 0.23597868292358906\n",
      "Rolling 5 Past Home Conf T Wins Min : 0.17757159693383942\n",
      "Rolling 3 Past Home Conf T Wins : 0.24572297900029222\n",
      "Rolling 3 Past Home Conf T Wins Avg : 0.24572297900029208\n",
      "Rolling 3 Past Home Conf T Wins Max : 0.2538866068134912\n",
      "Rolling 3 Past Home Conf T Wins Min : 0.14689350323044503\n",
      "Previous Home Conf Wins : 0.19595239723604324\n",
      "Rolling 5 Past Home 1st Downs : 0.26327790733521306\n",
      "Rolling 5 Past Home 1st Downs Avg : 0.263277907335213\n",
      "Rolling 5 Past Home 1st Downs Max : 0.19315097907663775\n",
      "Rolling 5 Past Home 1st Downs Min : 0.22175780663741823\n",
      "Rolling 3 Past Home 1st Downs : 0.25926349504401697\n",
      "Rolling 3 Past Home 1st Downs Avg : 0.2592634950440169\n",
      "Rolling 3 Past Home 1st Downs Max : 0.2013667096177998\n",
      "Rolling 3 Past Home 1st Downs Min : 0.23568407667796415\n",
      "Previous Home 1st Downs : 0.2094122269705262\n",
      "Rolling 5 Past Home 3rd Down Conversions : 0.1227216120369613\n",
      "Rolling 5 Past Home 3rd Down Conversion Avg : 0.1227216120369613\n",
      "Rolling 5 Past Home 3rd Down Conversion Max : 0.11847752374607447\n",
      "Rolling 5 Past Home 3rd Down Conversion Min : 0.12149453625921344\n",
      "Rolling 3 Past Home 3rd Down Conversion : 0.11575385528799423\n",
      "Rolling 3 Past Home 3rd Down Conversion Avg : 0.11575385528799419\n",
      "Rolling 3 Past Home 3rd Down Conversion Max : 0.09011410280342061\n",
      "Rolling 3 Past Home 3rd Down Conversion Min : 0.10390193418497626\n",
      "Previous Home 3rd Down Conversions : 0.09149841520025274\n",
      "Rolling 5 Past Home 3rd Down Conversion Attempts : -0.08334592071500851\n",
      "Rolling 5 Past Home 3rd Down Conversion Attempts Avg : -0.0833459207150085\n",
      "Rolling 5 Past Home 3rd Down Conversion Attempts Max : -0.03359086829370793\n",
      "Rolling 5 Past Home 3rd Down Conversion Attempts Min : -0.06357156399033806\n",
      "Rolling 3 Past Home 3rd Down Conversion Attempts : -0.0911730689287906\n",
      "Rolling 3 Past Home 3rd Down Conversion Attempts Avg : -0.09117306892879047\n",
      "Rolling 3 Past Home 3rd Down Conversion Attempts Max : -0.03733301218650344\n",
      "Rolling 3 Past Home 3rd Down Conversion Attempts Min : -0.0944060072712659\n",
      "Previous Home 3rd Down Conversions Attempts : -0.07564680941569957\n",
      "Rolling 5 Past Home 3rd Down Conversion % : 0.18628305814110746\n",
      "Rolling 5 Past Home 3rd Down Conversion % Avg : 0.18628305814110752\n",
      "Rolling 5 Past Home 3rd Down Conversion % Max : 0.1599216135296337\n",
      "Rolling 5 Past Home 3rd Down Conversion % Min : 0.13765115478010057\n",
      "Rolling 3 Past Home 3rd Down Conversion % : 0.19321477163585332\n",
      "Rolling 3 Past Home 3rd Down Conversion % Avg : 0.19321477163585327\n",
      "Rolling 3 Past Home 3rd Down Conversion % Max : 0.16470669494006535\n",
      "Rolling 3 Past Home 3rd Down Conversion % Min : 0.14673196481118625\n",
      "Previous Home 3rd Down Conversions % : 0.1611334982916879\n",
      "Rolling 5 Past Home 4th Down Conversions : 0.008278045334186064\n",
      "Rolling 5 Past Home 4th Down Conversions Avg : 0.008278045334186091\n",
      "Rolling 5 Past Home 4th Down Conversions Max : 0.002102121855595493\n",
      "Rolling 5 Past Home 4th Down Conversions Min : 0.03658675799304898\n",
      "Rolling 3 Past Home 4th Down Conversions : -0.030822019785313206\n",
      "Rolling 3 Past Home 4th Down Conversions Avg : -0.030822019785313216\n",
      "Rolling 3 Past Home 4th Down Conversions Max : -0.03298353896395707\n",
      "Rolling 3 Past Home 4th Down Conversions Min : -0.02309595276199304\n",
      "Previous Home 4th Down Conversions : -0.024251447095142344\n",
      "Rolling 5 Past Home 4th Down Conversion Attempts : -0.03016839949209323\n",
      "Rolling 5 Past Home 4th Down Conversion Attempts Avg : -0.03016839949209326\n",
      "Rolling 5 Past Home 4th Down Conversion Attempts Max : -0.030992694878930156\n",
      "Rolling 5 Past Home 4th Down Conversion Attempts Min : 0.034842862362849385\n",
      "Rolling 3 Past Home 4th Down Conversion Attempts : -0.06723305437596047\n",
      "Rolling 3 Past Home 4th Down Conversion Attempts Avg : -0.06723305437596039\n",
      "Rolling 3 Past Home 4th Down Conversion Attempts Max : -0.07150464815971486\n",
      "Rolling 3 Past Home 4th Down Conversion Attempts Min : -0.036524638146417966\n",
      "Previous Home 4th Down Conversions Attempts : -0.02094621853383319\n",
      "Rolling 5 Past Home 4th Down Conversion % : 0.030315141637571607\n",
      "Rolling 5 Past Home 4th Down Conversion % Avg : 0.030315141637571676\n",
      "Rolling 5 Past Home 4th Down Conversion % Max : 0.04324318396525672\n",
      "Rolling 5 Past Home 4th Down Conversion % Min : 0.03779047309542763\n",
      "Rolling 3 Past Home 4th Down Conversion % : -0.0006959924602805767\n",
      "Rolling 3 Past Home 4th Down Conversion % Avg : -0.0006959924602805813\n",
      "Rolling 3 Past Home 4th Down Conversion % Max : 0.009204063585610808\n",
      "Rolling 3 Past Home 4th Down Conversion % Min : -0.011330020417474869\n",
      "Previous Home 4th Down Conversions % : -0.01731906195645587\n",
      "Rolling 5 Past Home Completions : 0.16512475614177063\n",
      "Rolling 5 Past Home Completions Avg : 0.16512475614177075\n",
      "Rolling 5 Past Home Completions Max : 0.07160159665551866\n",
      "Rolling 5 Past Home Completions Min : 0.21465957435439095\n",
      "Rolling 3 Past Home Completions : 0.14304327669352027\n",
      "Rolling 3 Past Home Completions Avg : 0.14304327669352027\n",
      "Rolling 3 Past Home Completions Max : 0.08900430114602176\n",
      "Rolling 3 Past Home Completions Min : 0.17018998366027224\n",
      "Previous Home Completions : 0.13346184791263344\n",
      "Rolling 5 Past Home Completion Attempts : 0.05166987351606618\n",
      "Rolling 5 Past Home Completion Attempts Avg : 0.0516698735160663\n",
      "Rolling 5 Past Home Completion Attempts Max : -0.010493614698911958\n",
      "Rolling 5 Past Home Completion Attempts Min : 0.08320747568807285\n",
      "Rolling 3 Past Home Completion Attempts : 0.03820174499627838\n",
      "Rolling 3 Past Home Completion Attempts Avg : 0.03820174499627842\n",
      "Rolling 3 Past Home Completion Attempts Max : 0.01413151594560519\n",
      "Rolling 3 Past Home Completion Attempts Min : 0.05419387560848577\n",
      "Previous Home Completion Attempts : 0.04960568474035837\n",
      "Rolling 5 Past Home Completion % : 0.257712168561522\n",
      "Rolling 5 Past Home Completion % Avg : 0.2577121685615219\n",
      "Rolling 5 Past Home Completion % Max : 0.1747329663453162\n",
      "Rolling 5 Past Home Completion % Min : 0.2132466502341663\n",
      "Rolling 3 Past Home Completion % : 0.2386303885547521\n",
      "Rolling 3 Past Home Completion % Avg : 0.23863038855475194\n",
      "Rolling 3 Past Home Completion % Max : 0.1788916754967554\n",
      "Rolling 3 Past Home Completion % Min : 0.21148214709337057\n",
      "Previous Home Completion % : 0.1995657150992161\n",
      "Rolling 5 Past Home Total Yards : 0.2751518987335706\n",
      "Rolling 5 Past Home Total Yards Avg : 0.27515189873357043\n",
      "Rolling 5 Past Home Total Yards Max : 0.23991230540539296\n",
      "Rolling 5 Past Home Total Yards Min : 0.20566594397983398\n",
      "Rolling 3 Past Home Total Yards : 0.27092171469503895\n",
      "Rolling 3 Past Home Total Yards Avg : 0.2709217146950388\n",
      "Rolling 3 Past Home Total Yards Max : 0.22021230839083442\n",
      "Rolling 3 Past Home Total Yards Min : 0.23834993813073693\n",
      "Previous Home Total Yards : 0.23097425235031235\n",
      "Rolling 5 Past Home Yards per Pass : 0.2894054708476304\n",
      "Rolling 5 Past Home Yards per Pass Avg : 0.28940547084763035\n",
      "Rolling 5 Past Home Yards per Pass Max : 0.22401121784062\n",
      "Rolling 5 Past Home Yards per Pass Min : 0.22667018640346476\n",
      "Rolling 3 Past Home Yards per Pass : 0.27929815181731993\n"
     ]
    },
    {
     "name": "stdout",
     "output_type": "stream",
     "text": [
      "Rolling 3 Past Home Yards per Pass Avg : 0.27929815181732004\n",
      "Rolling 3 Past Home Yards per Pass Max : 0.23700449418314648\n",
      "Rolling 3 Past Home Yards per Pass Min : 0.2254625459488767\n",
      "Previous Home Yards per Pass : 0.20877130258495746\n",
      "Rolling 5 Past Home Rushing : 0.12496018903436165\n",
      "Rolling 5 Past Home Rushing Avg : 0.12496018903436168\n",
      "Rolling 5 Past Home Rushing Max : 0.08231304860462918\n",
      "Rolling 5 Past Home Rushing Min : 0.13359406895938797\n",
      "Rolling 3 Past Home Rushing : 0.13547933130366718\n",
      "Rolling 3 Past Home Rushing Avg : 0.13547933130366716\n",
      "Rolling 3 Past Home Rushing Max : 0.09375349551935601\n",
      "Rolling 3 Past Home Rushing Min : 0.14942025767717765\n",
      "Previous Home Rushing : 0.11244208709812124\n",
      "Rolling 5 Past Home Rushing Attempts : -0.09770917439262378\n",
      "Rolling 5 Past Home Rushing Attempts Avg : -0.09770917439262393\n",
      "Rolling 5 Past Home Rushing Attempts Max : -0.10055237617340775\n",
      "Rolling 5 Past Home Rushing Attempts Min : -0.07351716163865851\n",
      "Rolling 3 Past Home Rushing Attempts : -0.07955703296909321\n",
      "Rolling 3 Past Home Rushing Attempts Avg : -0.07955703296909318\n",
      "Rolling 3 Past Home Rushing Attempts Max : -0.08560041335244897\n",
      "Rolling 3 Past Home Rushing Attempts Min : -0.06312074919026665\n",
      "Previous Home Rushing Attempts : -0.07260431407527855\n",
      "Rolling 5 Past Home Yards per Rush : 0.14241593763740804\n",
      "Rolling 5 Past Home Yards per Rush Avg : 0.142415937637408\n",
      "Rolling 5 Past Home Yards per Rush Max : 0.09867747824169319\n",
      "Rolling 5 Past Home Yards per Rush Min : 0.12154071107408793\n",
      "Rolling 3 Past Home Yards per Rush : 0.15050290095594163\n",
      "Rolling 3 Past Home Yards per Rush Avg : 0.15050290095594163\n",
      "Rolling 3 Past Home Yards per Rush Max : 0.10002163160499343\n",
      "Rolling 3 Past Home Yards per Rush Min : 0.14900048174920294\n",
      "Previous Home Yards per Rush : 0.1327206575950288\n",
      "Rolling 5 Past Home Penalties : 0.08711069089449301\n",
      "Rolling 5 Past Home Penalties Avg : 0.08711069089449301\n",
      "Rolling 5 Past Home Penalties Max : 0.0490933442860279\n",
      "Rolling 5 Past Home Penalties Min : 0.025963827730652426\n",
      "Rolling 3 Past Home Penalties : 0.09838428789752038\n",
      "Rolling 3 Past Home Penalties Avg : 0.09838428789752038\n",
      "Rolling 3 Past Home Penalties Max : 0.09661840676289296\n",
      "Rolling 3 Past Home Penalties Min : 0.04195834998540956\n",
      "Previous Home Penalties : 0.07034654984213966\n",
      "Rolling 5 Past Home Penalty Yards : 0.08542385900466357\n",
      "Rolling 5 Past Home Penalty Yards Avg : 0.08542385900466361\n",
      "Rolling 5 Past Home Penalty Yards Max : 0.06376268787105648\n",
      "Rolling 5 Past Home Penalty Yards Min : 0.03665720906940843\n",
      "Rolling 3 Past Home Penalty Yards : 0.0917555099511354\n",
      "Rolling 3 Past Home Penalty Yards Avg : 0.09175550995113547\n",
      "Rolling 3 Past Home Penalty Yards Max : 0.09336708111129632\n",
      "Rolling 3 Past Home Penalty Yards Min : 0.03874205604403175\n",
      "Previous Home Penalty Yards : 0.08127610045001993\n",
      "Rolling 5 Past Home Yards per Penalty : 0.07430286444884789\n",
      "Rolling 5 Past Home Yards per Penalty Avg : 0.07430286444884777\n",
      "Rolling 5 Past Home Yards per Penalty Max : 0.06390876295268083\n",
      "Rolling 5 Past Home Yards per Penalty Min : 0.03566366611261253\n",
      "Rolling 3 Past Home Yards per Penalty : 0.07606841828378935\n",
      "Rolling 3 Past Home Yards per Penalty Avg : 0.07606841828378937\n",
      "Rolling 3 Past Home Yards per Penalty Max : 0.07563733024097041\n",
      "Rolling 3 Past Home Yards per Penalty Min : 0.052107298429830515\n",
      "Previous Home Yards per Penalty : 0.09283838887121013\n",
      "Rolling 5 Past Home Turnovers : -0.051226529426682016\n",
      "Rolling 5 Past Home Turnovers Avg : -0.051226529426682064\n",
      "Rolling 5 Past Home Turnovers Max : -0.0754834550646148\n",
      "Rolling 5 Past Home Turnovers Min : -0.059024777198529846\n",
      "Rolling 3 Past Home Turnovers : -0.056910988951572296\n",
      "Rolling 3 Past Home Turnovers Avg : -0.05691098895157223\n",
      "Rolling 3 Past Home Turnovers Max : -0.04316835674302856\n",
      "Rolling 3 Past Home Turnovers Min : -0.04730432817578497\n",
      "Previous Home Turnovers : -0.020453355697464627\n",
      "Rolling 5 Past Home Fumbles Lost : 0.06709495699122574\n",
      "Rolling 5 Past Home Fumbles Lost Avg : 0.06709495699122563\n",
      "Rolling 5 Past Home Fumbles Lost Max : 0.05076080046353547\n",
      "Rolling 5 Past Home Fumbles Lost Min : 0.008616632522517612\n",
      "Rolling 3 Past Home Fumbles Lost : 0.037775211158558565\n",
      "Rolling 3 Past Home Fumbles Lost Avg : 0.037775211158558565\n",
      "Rolling 3 Past Home Fumbles Lost Max : 0.04585319289271196\n",
      "Rolling 3 Past Home Fumbles Lost Min : 0.007918740856983263\n",
      "Previous Home Fumbles Lost : 0.05250398998337217\n",
      "Rolling 5 Past Home Interceptions Thrown : -0.11581748282841542\n",
      "Rolling 5 Past Home Interceptions Thrown Avg : -0.11581748282841536\n",
      "Rolling 5 Past Home Interceptions Thrown Max : -0.10340780757180341\n",
      "Rolling 5 Past Home Interceptions Thrown Min : -0.09934960262567075\n",
      "Rolling 3 Past Home Interceptions Thrown : -0.10122941971038588\n",
      "Rolling 3 Past Home Interceptions Thrown Avg : -0.10122941971038583\n",
      "Rolling 3 Past Home Interceptions Thrown Max : -0.08209284749538431\n",
      "Rolling 3 Past Home Interceptions Thrown Min : -0.07157962372246474\n",
      "Previous Home Interceptions Thrown : -0.07448892704641882\n",
      "Rolling 5 Past Home Possession Time : 0.12142286906838302\n",
      "Rolling 5 Past Home Possession Time Avg : 0.12142286906838308\n",
      "Rolling 5 Past Home Possession Time Max : 0.13361898481062393\n",
      "Rolling 5 Past Home Possession Time Min : 0.12124583680471894\n",
      "Rolling 3 Past Home Possession Time : 0.13197492259815408\n",
      "Rolling 3 Past Home Possession Time Avg : 0.13197492259815413\n",
      "Rolling 3 Past Home Possession Time Max : 0.1449095691421914\n",
      "Rolling 3 Past Home Possession Time Min : 0.11003604753846115\n",
      "Previous Home Possession Time : 0.1196608262404042\n",
      "Rolling 5 Past Home Q1 Score : 0.2028799626451147\n",
      "Rolling 5 Past Home Q1 Score Avg : 0.20287996264511476\n",
      "Rolling 5 Past Home Q1 Score Max : 0.11797579461419155\n",
      "Rolling 5 Past Home Q1 Score Min : 0.1467082157364662\n",
      "Rolling 3 Past Home Q1 Score : 0.20381821556695465\n",
      "Rolling 3 Past Home Q1 Score Avg : 0.20381821556695454\n",
      "Rolling 3 Past Home Q1 Score Max : 0.16961056798212898\n",
      "Rolling 3 Past Home Q1 Score Min : 0.1834403434957888\n",
      "Previous Home Q1 Score : 0.134223278279277\n",
      "Rolling 5 Past Home Q2 Score : 0.20476043677992894\n",
      "Rolling 5 Past Home Q2 Score Avg : 0.20476043677992903\n",
      "Rolling 5 Past Home Q2 Score Max : 0.13804400404678474\n",
      "Rolling 5 Past Home Q2 Score Min : 0.1411982405355171\n",
      "Rolling 3 Past Home Q2 Score : 0.17384963045672522\n",
      "Rolling 3 Past Home Q2 Score Avg : 0.1738496304567252\n",
      "Rolling 3 Past Home Q2 Score Max : 0.1389569538225784\n",
      "Rolling 3 Past Home Q2 Score Min : 0.12377805051554068\n",
      "Previous Home Q2 Score : 0.05932837280271129\n",
      "Rolling 5 Past Home Q3 Score : 0.19641054208786307\n",
      "Rolling 5 Past Home Q3 Score Avg : 0.19641054208786313\n",
      "Rolling 5 Past Home Q3 Score Max : 0.14820113157140005\n",
      "Rolling 5 Past Home Q3 Score Min : 0.16764956631670805\n",
      "Rolling 3 Past Home Q3 Score : 0.1778373630415388\n",
      "Rolling 3 Past Home Q3 Score Avg : 0.17783736304153877\n",
      "Rolling 3 Past Home Q3 Score Max : 0.1359169309951728\n",
      "Rolling 3 Past Home Q3 Score Min : 0.1720816685120291\n",
      "Previous Home Q3 Score : 0.11800055972678297\n",
      "Rolling 5 Past Home Q4 Score : 0.10135110331951108\n",
      "Rolling 5 Past Home Q4 Score Avg : 0.10135110331951117\n",
      "Rolling 5 Past Home Q4 Score Max : 0.04507875987977239\n",
      "Rolling 5 Past Home Q4 Score Min : 0.0713232450645714\n",
      "Rolling 3 Past Home Q4 Score : 0.11432709618817216\n",
      "Rolling 3 Past Home Q4 Score Avg : 0.11432709618817227\n",
      "Rolling 3 Past Home Q4 Score Max : 0.06997903320136939\n",
      "Rolling 3 Past Home Q4 Score Min : 0.11698715821117628\n",
      "Previous Home Q4 Score : 0.08869967811539752\n",
      "Rolling 5 Past Home Total Odds : 0.16328489589806108\n",
      "Rolling 5 Past Home Total Odds Avg : 0.16328489589806108\n",
      "Rolling 5 Past Home Total Odds Max : 0.11347316051059798\n",
      "Rolling 5 Past Home Total Odds Min : 0.16762074191131615\n",
      "Rolling 3 Past Home Total Odds : 0.1634122821216098\n",
      "Rolling 3 Past Home Total Odds Avg : 0.16341228212160971\n",
      "Rolling 3 Past Home Total Odds Max : 0.13235971375508113\n",
      "Rolling 3 Past Home Total Odds Min : 0.1700129302490073\n",
      "Previous Home Total Odds : 0.1593046311792364\n",
      "Rolling 5 Past Home Spread : -0.2751144426606218\n",
      "Rolling 5 Past Home Spread Avg : -0.27511444266062174\n",
      "Rolling 5 Past Home Spread Max : -0.20669896744682725\n",
      "Rolling 5 Past Home Spread Min : -0.24969648356295124\n",
      "Rolling 3 Past Home Spread : -0.27686694401572776\n",
      "Rolling 3 Past Home Spread Avg : -0.2768669440157277\n",
      "Rolling 3 Past Home Spread Max : -0.22424848400878428\n",
      "Rolling 3 Past Home Spread Min : -0.27240331785122845\n",
      "Previous Home Spread : -0.22329006499287732\n",
      "Rolling 5 Past Home Ranking : -0.25665670018337144\n",
      "Rolling 5 Past Home Ranking Avg : -0.25665670018337144\n",
      "Rolling 5 Past Home Ranking Max : -0.24019829857484068\n",
      "Rolling 5 Past Home Ranking Min : -0.2149879113635781\n",
      "Rolling 3 Past Home Ranking : -0.261845444058807\n",
      "Rolling 3 Past Home Ranking Avg : -0.26184544405880733\n",
      "Rolling 3 Past Home Ranking Max : -0.2630512432511789\n",
      "Rolling 3 Past Home Ranking Min : -0.22371551604567816\n",
      "Previous Home Ranking : -0.2571161570023907\n",
      "Rolling 5 Past Home ATS Win : 0.018423562318569325\n",
      "Rolling 5 Past Home ATS Win Avg : 0.018423562318569224\n",
      "Rolling 5 Past Home ATS Win Max : 0.021831753946141615\n",
      "Rolling 5 Past Home ATS Win Min : -0.007604437288755491\n",
      "Rolling 3 Past Home ATS Win : 0.01969662366660162\n",
      "Rolling 3 Past Home ATS Win Avg : 0.019696623666601534\n",
      "Rolling 3 Past Home ATS Win Max : 0.06192549552650278\n",
      "Rolling 3 Past Home ATS Win Min : -0.03465889756853937\n",
      "Previous Home ATS Win : 0.044648745110333565\n",
      "Rolling 5 Past Home ATS Push : -0.03484080194325774\n",
      "Rolling 5 Past Home ATS Push Avg : -0.03484080194325774\n",
      "Rolling 5 Past Home ATS Push Max : -0.02466085739211486\n",
      "Rolling 5 Past Home ATS Push Min : nan\n",
      "Rolling 3 Past Home ATS Push : -0.01480919682488451\n",
      "Rolling 3 Past Home ATS Push Avg : -0.01480919682488456\n",
      "Rolling 3 Past Home ATS Push Max : -0.00593153591263479\n",
      "Rolling 3 Past Home ATS Push Min : nan\n",
      "Previous Home ATS Push : -0.04871192322985171\n",
      "Rolling 5 Past Home ATS Loss : -0.006898537923472855\n",
      "Rolling 5 Past Home ATS Loss Avg : -0.006898537923472865\n",
      "Rolling 5 Past Home ATS Loss Max : 0.007420539685110201\n",
      "Rolling 5 Past Home ATS Loss Min : -0.01414220420080792\n",
      "Rolling 3 Past Home ATS Loss : -0.015036560706932912\n",
      "Rolling 3 Past Home ATS Loss Avg : -0.015036560706932907\n",
      "Rolling 3 Past Home ATS Loss Max : 0.026443425846012107\n",
      "Rolling 3 Past Home ATS Loss Min : -0.042683773817985944\n",
      "Previous Home ATS Loss : -0.02835575361226238\n",
      "Rolling 5 Past Home Over Odds : 0.04396914475548888\n",
      "Rolling 5 Past Home Over Odds Avg : 0.04396914475548873\n",
      "Rolling 5 Past Home Over Odds Max : 0.09622148756251489\n",
      "Rolling 5 Past Home Over Odds Min : -0.02264238978739019\n",
      "Rolling 3 Past Home Over Odds : 0.042767025999516185\n",
      "Rolling 3 Past Home Over Oddss Avg : 0.04276702599951607\n",
      "Rolling 3 Past Home Over OddsMax : 0.035334005185000475\n",
      "Rolling 3 Past Home Over Odds Min : 0.027656239664609332\n",
      "Previous Home Over Odds : 0.013345459501182853\n",
      "Rolling 5 Past Home Under Odds : -0.0646872628454186\n",
      "Rolling 5 Past Home Under Odds Avg : -0.06468726284541852\n",
      "Rolling 5 Past Home Under Odds Max : 0.02264238978739021\n",
      "Rolling 5 Past Home Under Odds Min : -0.1119790692888837\n",
      "Rolling 3 Past Home Under Odds : -0.05456171381231137\n",
      "Rolling 3 Past Home Under Oddss Avg : -0.05456171381231131\n",
      "Rolling 3 Past Home Under OddsMax : -0.043214946167786775\n",
      "Rolling 3 Past Home Under Odds Min : -0.0375983842667401\n",
      "Previous Home Under Odds : -0.012380157436187821\n",
      "Rolling 5 Past Home Push Odds : 0.10143032678470695\n",
      "Rolling 5 Past Home Push Odds Avg : 0.10143032678470698\n",
      "Rolling 5 Past Home Push Odds Max : 0.10143032678470695\n",
      "Rolling 5 Past Home Push Odds Min : nan\n",
      "Rolling 3 Past Home Push Odds : 0.055412649648635216\n",
      "Rolling 3 Past Home Push Oddss Avg : 0.0554126496486352\n",
      "Rolling 3 Past Home Push OddsMax : 0.055412649648635216\n",
      "Rolling 3 Past Home Push Odds Min : nan\n",
      "Previous Home Push Odds : -0.004435277839012953\n",
      "Rolling 5 Past Home Passing : 0.24099890964434206\n",
      "Rolling 5 Past Home Passing Avg : 0.24099890964434198\n",
      "Rolling 5 Past Home Passing Max : 0.18778145855979975\n",
      "Rolling 5 Past Home Passing Min : 0.21865458920999153\n",
      "Rolling 3 Past Home Passing : 0.2212457836160942\n",
      "Rolling 3 Past Home Passing Avg : 0.22124578361609415\n",
      "Rolling 3 Past Home Passing Max : 0.19679976458396153\n",
      "Rolling 3 Past Home Passing Min : 0.19693593252667382\n",
      "Rolling 5 Past H&A Score_Home_Team : 0.3344825115215135\n",
      "Rolling 5 Past H&A Score Avg_Home_Team : 0.33448251152151354\n",
      "Rolling 5 Past H&A Score Max_Home_Team : 0.2807449367286208\n",
      "Rolling 5 Past H&A Score Min_Home_Team : 0.2731018043420944\n",
      "Rolling 3 Past H&A Score_Home_Team : 0.29445679427065563\n",
      "Rolling 3 Past H&A Score Avg_Home_Team : 0.2944567942706558\n",
      "Rolling 3 Past H&A Score Max_Home_Team : 0.27231054600341037\n",
      "Rolling 3 Past H&A Score Min_Home_Team : 0.2431823531114165\n",
      "Past H&A Score_Home_Team : 0.2489165534695917\n",
      "Rolling 5 Past H&A HI Pass yrds_Home_Team : 0.2521043251659914\n",
      "Rolling 5 Past H&A HI Pass yrds Avg_Home_Team : 0.25210432516599157\n",
      "Rolling 5 Past H&A HI Pass yrds Max_Home_Team : 0.2064565490339737\n",
      "Rolling 5 Past H&A HI Pass yrds Min_Home_Team : 0.24133569352792178\n"
     ]
    },
    {
     "name": "stdout",
     "output_type": "stream",
     "text": [
      "Rolling 3 Past H&A HI Pass yrds_Home_Team : 0.22979708382691677\n",
      "Rolling 3 Past H&A HI Pass yrds Avg_Home_Team : 0.22979708382691677\n",
      "Rolling 3 Past H&A HI Pass yrds Max_Home_Team : 0.22158680280830878\n",
      "Rolling 3 Past H&A HI Pass yrds Min_Home_Team : 0.19711186537852435\n",
      "Previous H&A HI Pass yrds_Home_Team : 0.18439911052331132\n",
      "Rolling 5 Past H&A HI Rush yrds_Home_Team : 0.09724212020322467\n",
      "Rolling 5 Past H&A HI Rush yrds Avg_Home_Team : 0.09724212020322463\n",
      "Rolling 5 Past H&A HI Rush yrds Max_Home_Team : 0.052191897281508325\n",
      "Rolling 5 Past H&A HI Rush yrds Min_Home_Team : 0.09946140504227095\n",
      "Rolling 3 Past H&A HI Rush yrds_Home_Team : 0.06690017256157757\n",
      "Rolling 3 Past H&A HI Rush yrds Avg_Home_Team : 0.06690017256157761\n",
      "Rolling 3 Past H&A HI Rush yrds Max_Home_Team : 0.03631643963910316\n",
      "Rolling 3 Past H&A HI Rush yrds Min_Home_Team : 0.08519839389383695\n",
      "Previous H&A HI Rush yrds_Home_Team : 0.056547559855541614\n",
      "Rolling 5 Past H&A HI REC yrds_Home_Team : 0.2461680226819471\n",
      "Rolling 5 Past H&A HI REC yrds Avg_Home_Team : 0.24616802268194707\n",
      "Rolling 5 Past H&A HI REC yrds Max_Home_Team : 0.2064692828442701\n",
      "Rolling 5 Past H&A HI REC yrds Min_Home_Team : 0.19255977168242505\n",
      "Rolling 3 Past H&A HI REC yrds_Home_Team : 0.22383460181427156\n",
      "Rolling 3 Past H&A HI REC yrds Avg_Home_Team : 0.22383460181427145\n",
      "Rolling 3 Past H&A HI REC yrds Max_Home_Team : 0.2048734918116459\n",
      "Rolling 3 Past H&A HI REC yrds Min_Home_Team : 0.1928560264429639\n",
      "Previous H&A HI REC yrds_Home_Team : 0.1670509015857111\n",
      "Rolling 5 Past H&A Season T Wins_Home_Team : 0.26397225631297627\n",
      "Rolling 5 Past H&A Season T Wins Avg_Home_Team : 0.2639722563129761\n",
      "Rolling 5 Past H&A Season T Wins Max_Home_Team : 0.27832527571994453\n",
      "Rolling 5 Past H&A Season T Wins Min_Home_Team : 0.16366478389827252\n",
      "Rolling 3 Past H&A Season T Wins_Home_Team : 0.22822174062946138\n",
      "Rolling 3 Past H&A Season T Wins Avg_Home_Team : 0.22822174062946146\n",
      "Rolling 3 Past H&A Season T Wins Max_Home_Team : 0.23783685437650232\n",
      "Rolling 3 Past H&A Season T Wins Min_Home_Team : 0.15443966260184022\n",
      "Previous H&A Season T Wins_Home_Team : 0.1864560154064544\n",
      "Rolling 5 Past H&A Season T Losses_Home_Team : -0.2931468646265042\n",
      "Rolling 5 Past H&A Season T Losses Avg_Home_Team : -0.29314686462650413\n",
      "Rolling 5 Past H&A Season T Losses Max_Home_Team : -0.2928694431188027\n",
      "Rolling 5 Past H&A Season T Losses Min_Home_Team : -0.21380139791211697\n",
      "Rolling 3 Past H&A Season T Losses_Home_Team : -0.275251559944329\n",
      "Rolling 3 Past H&A Season T Losses Avg_Home_Team : -0.2752515599443289\n",
      "Rolling 3 Past H&A Season T Losses Max_Home_Team : -0.2806529620841787\n",
      "Rolling 3 Past H&A Season T Losses Min_Home_Team : -0.21117812759378352\n",
      "Previous H&A Season Losses_Home_Team : -0.23780425682228204\n",
      "Rolling 5 Past H&A Conf T Wins_Home_Team : 0.2760064907130442\n",
      "Rolling 5 Past H&A Conf T Wins Avg_Home_Team : 0.27600649071304423\n",
      "Rolling 5 Past H&A Conf T Wins Max_Home_Team : 0.28463220580600956\n",
      "Rolling 5 Past H&A Conf T Wins Min_Home_Team : 0.1788678382472894\n",
      "Rolling 3 Past H&A Conf T Wins_Home_Team : 0.24045608347201256\n",
      "Rolling 3 Past H&A Conf T Wins Avg_Home_Team : 0.24045608347201247\n",
      "Rolling 3 Past H&A Conf T Wins Max_Home_Team : 0.24342743509677914\n",
      "Rolling 3 Past H&A Conf T Wins Min_Home_Team : 0.17269691708185023\n",
      "Previous H&A Conf Wins_Home_Team : 0.19995047674333122\n",
      "Rolling 5 Past H&A Conf T Losses_Home_Team : -0.28822228936094874\n",
      "Rolling 5 Past H&A Conf T Losses Avg_Home_Team : -0.2882222893609488\n",
      "Rolling 5 Past H&A Conf T Losses Max_Home_Team : -0.2834611080211331\n",
      "Rolling 5 Past H&A Conf T Losses Min_Home_Team : -0.19699122740763997\n",
      "Rolling 3 Past H&A Conf T Losses_Home_Team : -0.2678125495723266\n",
      "Rolling 3 Past H&A Conf T Losses Avg_Home_Team : -0.2678125495723266\n",
      "Rolling 3 Past H&A Conf T Losses Max_Home_Team : -0.2739688534867535\n",
      "Rolling 3 Past H&A Conf T Losses Min_Home_Team : -0.19776632862570187\n",
      "Previous H&A Conf Losses_Home_Team : -0.22327786938270672\n",
      "Rolling 5 Past H&A 1st Downs_Home_Team : 0.3092448746250751\n",
      "Rolling 5 Past H&A 1st Downs Avg_Home_Team : 0.309244874625075\n",
      "Rolling 5 Past H&A 1st Downs Max_Home_Team : 0.22481222745926266\n",
      "Rolling 5 Past H&A 1st Downs Min_Home_Team : 0.2610615497847795\n",
      "Rolling 3 Past H&A 1st Downs_Home_Team : 0.2927326803117496\n",
      "Rolling 3 Past H&A 1st Downs Avg_Home_Team : 0.29273268031174965\n",
      "Rolling 3 Past H&A 1st Downs Max_Home_Team : 0.23147673112465406\n",
      "Rolling 3 Past H&A 1st Downs Min_Home_Team : 0.26540520501293574\n",
      "Previous H&A 1st Downs_Home_Team : 0.23217822841964741\n",
      "Rolling 5 Past H&A 3rd Down Conversions_Home_Team : 0.17488894997202406\n",
      "Rolling 5 Past H&A 3rd Down Conversion Avg_Home_Team : 0.174888949972024\n",
      "Rolling 5 Past H&A 3rd Down Conversion Max_Home_Team : 0.12089127194654063\n",
      "Rolling 5 Past H&A 3rd Down Conversion Min_Home_Team : 0.1604835021829399\n",
      "Rolling 3 Past H&A 3rd Down Conversion_Home_Team : 0.15114614800723816\n",
      "Rolling 3 Past H&A 3rd Down Conversion Avg_Home_Team : 0.15114614800723816\n",
      "Rolling 3 Past H&A 3rd Down Conversion Max_Home_Team : 0.10973635599355988\n",
      "Rolling 3 Past H&A 3rd Down Conversion Min_Home_Team : 0.1163751494518907\n",
      "Previous H&A 3rd Down Conversions_Home_Team : 0.0708609845608217\n",
      "Rolling 5 Past H&A 3rd Down Conversion Attempts_Home_Team : -0.12666521807300715\n",
      "Rolling 5 Past H&A 3rd Down Conversion Attempts Avg_Home_Team : -0.12666521807300712\n",
      "Rolling 5 Past H&A 3rd Down Conversion Attempts Max_Home_Team : -0.050120617262709576\n",
      "Rolling 5 Past H&A 3rd Down Conversion Attempts Min_Home_Team : -0.14827800906181163\n",
      "Rolling 3 Past H&A 3rd Down Conversion Attempts_Home_Team : -0.12798038425705963\n",
      "Rolling 3 Past H&A 3rd Down Conversion Attempts Avg_Home_Team : -0.12798038425705957\n",
      "Rolling 3 Past H&A 3rd Down Conversion Attempts Max_Home_Team : -0.09351992474122149\n",
      "Rolling 3 Past H&A 3rd Down Conversion Attempts Min_Home_Team : -0.13861659560676093\n",
      "Previous H&A 3rd Down Conversions Attempts_Home_Team : -0.11432381530317387\n",
      "Rolling 5 Past H&A 3rd Down Conversion %_Home_Team : 0.2748305102965743\n",
      "Rolling 5 Past H&A 3rd Down Conversion % Avg_Home_Team : 0.2748305102965741\n",
      "Rolling 5 Past H&A 3rd Down Conversion % Max_Home_Team : 0.23948002352144246\n",
      "Rolling 5 Past H&A 3rd Down Conversion % Min_Home_Team : 0.20224206265700423\n",
      "Rolling 3 Past H&A 3rd Down Conversion %_Home_Team : 0.25334128581827325\n",
      "Rolling 3 Past H&A 3rd Down Conversion % Avg_Home_Team : 0.25334128581827325\n",
      "Rolling 3 Past H&A 3rd Down Conversion % Max_Home_Team : 0.2628254011223936\n",
      "Rolling 3 Past H&A 3rd Down Conversion % Min_Home_Team : 0.1741977547888814\n",
      "Previous H&A 3rd Down Conversions %_Home_Team : 0.16231075151398897\n",
      "Rolling 5 Past H&A 4th Down Conversions_Home_Team : -0.03505150064371087\n",
      "Rolling 5 Past H&A 4th Down Conversions Avg_Home_Team : -0.03505150064371086\n",
      "Rolling 5 Past H&A 4th Down Conversions Max_Home_Team : -0.045285445973150505\n",
      "Rolling 5 Past H&A 4th Down Conversions Min_Home_Team : -0.03249454131702733\n",
      "Rolling 3 Past H&A 4th Down Conversions_Home_Team : -0.02939425693946086\n",
      "Rolling 3 Past H&A 4th Down Conversions Avg_Home_Team : -0.029394256939460843\n",
      "Rolling 3 Past H&A 4th Down Conversions Max_Home_Team : -0.035216130256423644\n",
      "Rolling 3 Past H&A 4th Down Conversions Min_Home_Team : 0.0086445204668962\n",
      "Previous H&A 4th Down Conversions_Home_Team : -0.0038386289022522145\n",
      "Rolling 5 Past H&A 4th Down Conversion Attempts_Home_Team : -0.09976304799102861\n",
      "Rolling 5 Past H&A 4th Down Conversion Attempts Avg_Home_Team : -0.0997630479910286\n",
      "Rolling 5 Past H&A 4th Down Conversion Attempts Max_Home_Team : -0.07785742565639031\n",
      "Rolling 5 Past H&A 4th Down Conversion Attempts Min_Home_Team : -0.0781614648474536\n",
      "Rolling 3 Past H&A 4th Down Conversion Attempts_Home_Team : -0.06800470244679838\n",
      "Rolling 3 Past H&A 4th Down Conversion Attempts Avg_Home_Team : -0.06800470244679843\n",
      "Rolling 3 Past H&A 4th Down Conversion Attempts Max_Home_Team : -0.052114136911745775\n",
      "Rolling 3 Past H&A 4th Down Conversion Attempts Min_Home_Team : -0.06136491752354198\n",
      "Previous H&A 4th Down Conversions Attempts_Home_Team : -0.010318730460815637\n",
      "Rolling 5 Past H&A 4th Down Conversion %_Home_Team : 0.02603158245030457\n",
      "Rolling 5 Past H&A 4th Down Conversion % Avg_Home_Team : 0.02603158245030449\n",
      "Rolling 5 Past H&A 4th Down Conversion % Max_Home_Team : 0.0705781709604079\n",
      "Rolling 5 Past H&A 4th Down Conversion % Min_Home_Team : -0.04535637309371989\n",
      "Rolling 3 Past H&A 4th Down Conversion %_Home_Team : 0.019110992951900687\n",
      "Rolling 3 Past H&A 4th Down Conversion % Avg_Home_Team : 0.01911099295190062\n",
      "Rolling 3 Past H&A 4th Down Conversion % Max_Home_Team : 0.04163803378842506\n"
     ]
    },
    {
     "name": "stdout",
     "output_type": "stream",
     "text": [
      "Rolling 3 Past H&A 4th Down Conversion % Min_Home_Team : 0.0016093240036548241\n",
      "Previous H&A 4th Down Conversions %_Home_Team : -0.0004272456042626853\n",
      "Rolling 5 Past H&A Completions_Home_Team : 0.1554470566026573\n",
      "Rolling 5 Past H&A Completions Avg_Home_Team : 0.1554470566026574\n",
      "Rolling 5 Past H&A Completions Max_Home_Team : 0.10614672137901618\n",
      "Rolling 5 Past H&A Completions Min_Home_Team : 0.17819949801310195\n",
      "Rolling 3 Past H&A Completions_Home_Team : 0.15274186418112204\n",
      "Rolling 3 Past H&A Completions Avg_Home_Team : 0.15274186418112193\n",
      "Rolling 3 Past H&A Completions Max_Home_Team : 0.12967733433993592\n",
      "Rolling 3 Past H&A Completions Min_Home_Team : 0.15194263921168386\n",
      "Previous H&A Completions_Home_Team : 0.12494850054178974\n",
      "Rolling 5 Past H&A Completion Attempts_Home_Team : 0.041362773031519\n",
      "Rolling 5 Past H&A Completion Attempts Avg_Home_Team : 0.04136277303151902\n",
      "Rolling 5 Past H&A Completion Attempts Max_Home_Team : 0.01936247644541286\n",
      "Rolling 5 Past H&A Completion Attempts Min_Home_Team : 0.056920844689109094\n",
      "Rolling 3 Past H&A Completion Attempts_Home_Team : 0.040280780071176504\n",
      "Rolling 3 Past H&A Completion Attempts Avg_Home_Team : 0.0402807800711765\n",
      "Rolling 3 Past H&A Completion Attempts Max_Home_Team : 0.043803243257240616\n",
      "Rolling 3 Past H&A Completion Attempts Min_Home_Team : 0.030152993036715585\n",
      "Previous H&A Completion Attempts_Home_Team : 0.015310828208019663\n",
      "Rolling 5 Past H&A Completion %_Home_Team : 0.2841990444741295\n",
      "Rolling 5 Past H&A Completion % Avg_Home_Team : 0.2841990444741296\n",
      "Rolling 5 Past H&A Completion % Max_Home_Team : 0.21322212386626535\n",
      "Rolling 5 Past H&A Completion % Min_Home_Team : 0.21372602782182362\n",
      "Rolling 3 Past H&A Completion %_Home_Team : 0.273638921141254\n",
      "Rolling 3 Past H&A Completion % Avg_Home_Team : 0.27363892114125415\n",
      "Rolling 3 Past H&A Completion % Max_Home_Team : 0.23232612634548652\n",
      "Rolling 3 Past H&A Completion % Min_Home_Team : 0.20909371472213076\n",
      "Previous H&A Completion %_Home_Team : 0.2337616384440381\n",
      "Rolling 5 Past H&A Total Yards_Home_Team : 0.3271811599939119\n",
      "Rolling 5 Past H&A Total Yards Avg_Home_Team : 0.3271811599939121\n",
      "Rolling 5 Past H&A Total Yards Max_Home_Team : 0.2676332078437542\n",
      "Rolling 5 Past H&A Total Yards Min_Home_Team : 0.24538086301895012\n",
      "Rolling 3 Past H&A Total Yards_Home_Team : 0.29502939939670375\n",
      "Rolling 3 Past H&A Total Yards Avg_Home_Team : 0.29502939939670364\n",
      "Rolling 3 Past H&A Total Yards Max_Home_Team : 0.2756536800272772\n",
      "Rolling 3 Past H&A Total Yards Min_Home_Team : 0.22515238091574324\n",
      "Previous H&A Total Yards_Home_Team : 0.23210706418980911\n",
      "Rolling 5 Past H&A Passing_Home_Team : 0.23534253405133762\n",
      "Rolling 5 Past H&A Passing Avg_Home_Team : 0.2353425340513377\n",
      "Rolling 5 Past H&A Passing Max_Home_Team : 0.19596340084807184\n",
      "Rolling 5 Past H&A Passing Min_Home_Team : 0.20238295854112376\n",
      "Rolling 3 Past H&A Passing_Home_Team : 0.21824153581752045\n",
      "Rolling 3 Past H&A Passing Avg_Home_Team : 0.2182415358175204\n",
      "Rolling 3 Past H&A Passing Max_Home_Team : 0.2171459102736148\n",
      "Rolling 3 Past H&A Passing Min_Home_Team : 0.17612737406843387\n",
      "Previous H&A Passing_Home_Team : 0.16760554251384166\n",
      "Rolling 5 Past H&A Yards per Pass_Home_Team : 0.3192216806624247\n",
      "Rolling 5 Past H&A Yards per Pass Avg_Home_Team : 0.3192216806624249\n",
      "Rolling 5 Past H&A Yards per Pass Max_Home_Team : 0.26403601444858177\n",
      "Rolling 5 Past H&A Yards per Pass Min_Home_Team : 0.23534396408851682\n",
      "Rolling 3 Past H&A Yards per Pass_Home_Team : 0.29865562524450817\n",
      "Rolling 3 Past H&A Yards per Pass Avg_Home_Team : 0.29865562524450845\n",
      "Rolling 3 Past H&A Yards per Pass Max_Home_Team : 0.2588537602181298\n",
      "Rolling 3 Past H&A Yards per Pass Min_Home_Team : 0.25916849752610627\n",
      "Previous H&A Yards per Pass_Home_Team : 0.2185553238961865\n",
      "Rolling 5 Past H&A Rushing_Home_Team : 0.1869947993138958\n",
      "Rolling 5 Past H&A Rushing Avg_Home_Team : 0.18699479931389568\n",
      "Rolling 5 Past H&A Rushing Max_Home_Team : 0.12451127200918062\n",
      "Rolling 5 Past H&A Rushing Min_Home_Team : 0.148955094706232\n",
      "Rolling 3 Past H&A Rushing_Home_Team : 0.16737129262554695\n",
      "Rolling 3 Past H&A Rushing Avg_Home_Team : 0.16737129262554695\n",
      "Rolling 3 Past H&A Rushing Max_Home_Team : 0.1331188061510166\n",
      "Rolling 3 Past H&A Rushing Min_Home_Team : 0.12623275668638095\n",
      "Previous H&A Rushing_Home_Team : 0.14134064302646346\n",
      "Rolling 5 Past H&A Rushing Attempts_Home_Team : 0.10624038580360286\n",
      "Rolling 5 Past H&A Rushing Attempts Avg_Home_Team : 0.10624038580360293\n",
      "Rolling 5 Past H&A Rushing Attempts Max_Home_Team : 0.06622448377837445\n",
      "Rolling 5 Past H&A Rushing Attempts Min_Home_Team : 0.07453481092958156\n",
      "Rolling 3 Past H&A Rushing Attempts_Home_Team : 0.08659756423348702\n",
      "Rolling 3 Past H&A Rushing Attempts Avg_Home_Team : 0.08659756423348691\n",
      "Rolling 3 Past H&A Rushing Attempts Max_Home_Team : 0.046116253232290995\n",
      "Rolling 3 Past H&A Rushing Attempts Min_Home_Team : 0.08466467138811688\n",
      "Previous H&A Rushing Attempts_Home_Team : 0.08168105371719676\n",
      "Rolling 5 Past H&A Yards per Rush_Home_Team : 0.2058597437314409\n",
      "Rolling 5 Past H&A Yards per Rush Avg_Home_Team : 0.20585974373144095\n",
      "Rolling 5 Past H&A Yards per Rush Max_Home_Team : 0.14807489526328788\n",
      "Rolling 5 Past H&A Yards per Rush Min_Home_Team : 0.14039501327516904\n",
      "Rolling 3 Past H&A Yards per Rush_Home_Team : 0.18376495690788378\n",
      "Rolling 3 Past H&A Yards per Rush Avg_Home_Team : 0.18376495690788364\n",
      "Rolling 3 Past H&A Yards per Rush Max_Home_Team : 0.16122005317702812\n",
      "Rolling 3 Past H&A Yards per Rush Min_Home_Team : 0.12371390745785892\n",
      "Previous H&A Yards per Rush_Home_Team : 0.1462592396486213\n",
      "Rolling 5 Past H&A Penalties_Home_Team : 0.1012762291752538\n",
      "Rolling 5 Past H&A Penalties Avg_Home_Team : 0.10127622917525367\n",
      "Rolling 5 Past H&A Penalties Max_Home_Team : 0.07685309885320288\n",
      "Rolling 5 Past H&A Penalties Min_Home_Team : 0.095627578905758\n",
      "Rolling 3 Past H&A Penalties_Home_Team : 0.08869619477781025\n",
      "Rolling 3 Past H&A Penalties Avg_Home_Team : 0.08869619477781018\n",
      "Rolling 3 Past H&A Penalties Max_Home_Team : 0.05013718634746258\n",
      "Rolling 3 Past H&A Penalties Min_Home_Team : 0.10257210947811411\n",
      "Previous H&A Penalties_Home_Team : 0.07316281343142961\n",
      "Rolling 5 Past H&A Penalty Yards_Home_Team : 0.10366716843602855\n",
      "Rolling 5 Past H&A Penalty Yards Avg_Home_Team : 0.10366716843602854\n",
      "Rolling 5 Past H&A Penalty Yards Max_Home_Team : 0.0817540458146607\n",
      "Rolling 5 Past H&A Penalty Yards Min_Home_Team : 0.06870939699239334\n",
      "Rolling 3 Past H&A Penalty Yards_Home_Team : 0.0924203805112911\n",
      "Rolling 3 Past H&A Penalty Yards Avg_Home_Team : 0.09242038051129117\n",
      "Rolling 3 Past H&A Penalty Yards Max_Home_Team : 0.06875089223463882\n",
      "Rolling 3 Past H&A Penalty Yards Min_Home_Team : 0.10056663700948654\n",
      "Previous H&A Penalty Yards_Home_Team : 0.08841626301165759\n",
      "Rolling 5 Past H&A Yards per Penalty_Home_Team : 0.07937025730895038\n",
      "Rolling 5 Past H&A Yards per Penalty Avg_Home_Team : 0.07937025730895039\n",
      "Rolling 5 Past H&A Yards per Penalty Max_Home_Team : 0.05418484095927121\n",
      "Rolling 5 Past H&A Yards per Penalty Min_Home_Team : 0.07570221931710017\n",
      "Rolling 3 Past H&A Yards per Penalty_Home_Team : 0.09079818609547895\n",
      "Rolling 3 Past H&A Yards per Penalty Avg_Home_Team : 0.09079818609547907\n",
      "Rolling 3 Past H&A Yards per Penalty Max_Home_Team : 0.07120427591058284\n",
      "Rolling 3 Past H&A Yards per Penalty Min_Home_Team : 0.10174840855940806\n",
      "Previous H&A Yards per Penalty_Home_Team : 0.08572340365537173\n",
      "Rolling 5 Past H&A Turnovers_Home_Team : -0.12126038308359344\n",
      "Rolling 5 Past H&A Turnovers Avg_Home_Team : -0.12126038308359345\n",
      "Rolling 5 Past H&A Turnovers Max_Home_Team : -0.11755190440453835\n",
      "Rolling 5 Past H&A Turnovers Min_Home_Team : -0.08074717978135802\n",
      "Rolling 3 Past H&A Turnovers_Home_Team : -0.11140326702657706\n",
      "Rolling 3 Past H&A Turnovers Avg_Home_Team : -0.11140326702657717\n",
      "Rolling 3 Past H&A Turnovers Max_Home_Team : -0.1267337188682353\n",
      "Rolling 3 Past H&A Turnovers Min_Home_Team : -0.07359555491306252\n",
      "Previous H&A Turnovers_Home_Team : -0.10678405240978812\n",
      "Rolling 5 Past H&A Fumbles Lost_Home_Team : -0.021063471118402326\n",
      "Rolling 5 Past H&A Fumbles Lost Avg_Home_Team : -0.021063471118402437\n",
      "Rolling 5 Past H&A Fumbles Lost Max_Home_Team : -0.02622525032744807\n",
      "Rolling 5 Past H&A Fumbles Lost Min_Home_Team : -0.02047901452059592\n",
      "Rolling 3 Past H&A Fumbles Lost_Home_Team : -0.027657050716199696\n",
      "Rolling 3 Past H&A Fumbles Lost Avg_Home_Team : -0.02765705071619965\n",
      "Rolling 3 Past H&A Fumbles Lost Max_Home_Team : -0.036171773445386204\n",
      "Rolling 3 Past H&A Fumbles Lost Min_Home_Team : -0.044949613968889975\n",
      "Previous H&A Fumbles Lost_Home_Team : -0.03731355782756269\n",
      "Rolling 5 Past H&A Interceptions Thrown_Home_Team : -0.14418810166016893\n",
      "Rolling 5 Past H&A Interceptions Thrown Avg_Home_Team : -0.144188101660169\n",
      "Rolling 5 Past H&A Interceptions Thrown Max_Home_Team : -0.10172590642530106\n",
      "Rolling 5 Past H&A Interceptions Thrown Min_Home_Team : -0.09211148897878797\n",
      "Rolling 3 Past H&A Interceptions Thrown_Home_Team : -0.1260395409963974\n",
      "Rolling 3 Past H&A Interceptions Thrown Avg_Home_Team : -0.12603954099639736\n",
      "Rolling 3 Past H&A Interceptions Thrown Max_Home_Team : -0.09269620585494596\n",
      "Rolling 3 Past H&A Interceptions Thrown Min_Home_Team : -0.09445274726905531\n",
      "Previous H&A Interceptions Thrown_Home_Team : -0.10979877673229516\n",
      "Rolling 5 Past H&A Possession Time_Home_Team : 0.15013286173714208\n",
      "Rolling 5 Past H&A Possession Time Avg_Home_Team : 0.15013286173714202\n",
      "Rolling 5 Past H&A Possession Time Max_Home_Team : 0.14939150071946428\n",
      "Rolling 5 Past H&A Possession Time Min_Home_Team : 0.13117428722864372\n",
      "Rolling 3 Past H&A Possession Time_Home_Team : 0.1606493700595258\n",
      "Rolling 3 Past H&A Possession Time Avg_Home_Team : 0.16064937005952565\n",
      "Rolling 3 Past H&A Possession Time Max_Home_Team : 0.16131518993156854\n",
      "Rolling 3 Past H&A Possession Time Min_Home_Team : 0.14016074984693958\n",
      "Previous H&A Possession Time_Home_Team : 0.14562215854884156\n",
      "Rolling 5 Past H&A Q1 Score_Home_Team : 0.2566865512675871\n",
      "Rolling 5 Past H&A Q1 Score Avg_Home_Team : 0.25668655126758716\n",
      "Rolling 5 Past H&A Q1 Score Max_Home_Team : 0.2030047854397886\n",
      "Rolling 5 Past H&A Q1 Score Min_Home_Team : 0.17388258666581458\n",
      "Rolling 3 Past H&A Q1 Score_Home_Team : 0.2323668107884887\n",
      "Rolling 3 Past H&A Q1 Score Avg_Home_Team : 0.23236681078848875\n",
      "Rolling 3 Past H&A Q1 Score Max_Home_Team : 0.22127585082398502\n",
      "Rolling 3 Past H&A Q1 Score Min_Home_Team : 0.14852526993027995\n",
      "Previous H&A Q1 Score_Home_Team : 0.21353844607099548\n",
      "Rolling 5 Past H&A Q2 Score_Home_Team : 0.23210488166952412\n",
      "Rolling 5 Past H&A Q2 Score Avg_Home_Team : 0.232104881669524\n",
      "Rolling 5 Past H&A Q2 Score Max_Home_Team : 0.17487244109829767\n",
      "Rolling 5 Past H&A Q2 Score Min_Home_Team : 0.18966677916394908\n",
      "Rolling 3 Past H&A Q2 Score_Home_Team : 0.19205111848401973\n",
      "Rolling 3 Past H&A Q2 Score Avg_Home_Team : 0.1920511184840195\n",
      "Rolling 3 Past H&A Q2 Score Max_Home_Team : 0.13513058240508696\n",
      "Rolling 3 Past H&A Q2 Score Min_Home_Team : 0.16986989344639805\n",
      "Previous H&A Q2 Score_Home_Team : 0.11245390428729284\n",
      "Rolling 5 Past H&A Q3 Score_Home_Team : 0.22989124883508308\n",
      "Rolling 5 Past H&A Q3 Score Avg_Home_Team : 0.22989124883508316\n",
      "Rolling 5 Past H&A Q3 Score Max_Home_Team : 0.149227971250734\n",
      "Rolling 5 Past H&A Q3 Score Min_Home_Team : 0.20415285750913179\n",
      "Rolling 3 Past H&A Q3 Score_Home_Team : 0.21262081101511743\n",
      "Rolling 3 Past H&A Q3 Score Avg_Home_Team : 0.21262081101511762\n",
      "Rolling 3 Past H&A Q3 Score Max_Home_Team : 0.1841999556196819\n",
      "Rolling 3 Past H&A Q3 Score Min_Home_Team : 0.18728788356461562\n",
      "Previous H&A Q3 Score_Home_Team : 0.16293244011080488\n",
      "Rolling 5 Past H&A Q4 Score_Home_Team : 0.205557750626022\n",
      "Rolling 5 Past H&A Q4 Score Avg_Home_Team : 0.20555775062602202\n",
      "Rolling 5 Past H&A Q4 Score Max_Home_Team : 0.12699492935565407\n",
      "Rolling 5 Past H&A Q4 Score Min_Home_Team : 0.13560890641808107\n",
      "Rolling 3 Past H&A Q4 Score_Home_Team : 0.12477993028130822\n",
      "Rolling 3 Past H&A Q4 Score Avg_Home_Team : 0.12477993028130836\n",
      "Rolling 3 Past H&A Q4 Score Max_Home_Team : 0.09988673735631914\n",
      "Rolling 3 Past H&A Q4 Score Min_Home_Team : 0.09219178313239931\n",
      "Previous H&A Q4 Score_Home_Team : 0.09869910483232837\n",
      "Rolling 5 Past H&A Total Odds_Home_Team : 0.2017836005678832\n",
      "Rolling 5 Past H&A Total Odds Avg_Home_Team : 0.20178360056788328\n",
      "Rolling 5 Past H&A Total Odds Max_Home_Team : 0.17489751021367533\n",
      "Rolling 5 Past H&A Total Odds Min_Home_Team : 0.1887730200374614\n",
      "Rolling 3 Past H&A Total Odds_Home_Team : 0.19400878854665884\n",
      "Rolling 3 Past H&A Total Odds Avg_Home_Team : 0.19400878854665876\n",
      "Rolling 3 Past H&A Total Odds Max_Home_Team : 0.16318762754575802\n",
      "Rolling 3 Past H&A Total Odds Min_Home_Team : 0.19151494015365236\n",
      "Previous H&A Total Odds_Home_Team : 0.17990991856541527\n",
      "Rolling 5 Past H&A Spread_Home_Team : -0.30309173762453273\n",
      "Rolling 5 Past H&A Spread Avg_Home_Team : -0.3030917376245325\n",
      "Rolling 5 Past H&A Spread Max_Home_Team : -0.23077316065399897\n",
      "Rolling 5 Past H&A Spread Min_Home_Team : -0.3004064560899939\n",
      "Rolling 3 Past H&A Spread_Home_Team : -0.2891859087355622\n",
      "Rolling 3 Past H&A Spread Avg_Home_Team : -0.2891859087355622\n",
      "Rolling 3 Past H&A Spread Max_Home_Team : -0.2393997620973795\n",
      "Rolling 3 Past H&A Spread Min_Home_Team : -0.26981900444807333\n",
      "Previous H&A Spread_Home_Team : -0.24565339516987314\n",
      "Rolling 5 Past H&A Ranking_Home_Team : -0.27863069130599954\n",
      "Rolling 5 Past H&A Ranking Avg_Home_Team : -0.2786306913059998\n",
      "Rolling 5 Past H&A Ranking Max_Home_Team : -0.27664636223586897\n",
      "Rolling 5 Past H&A Ranking Min_Home_Team : -0.24708799042917717\n",
      "Rolling 3 Past H&A Ranking_Home_Team : -0.28423677197772845\n",
      "Rolling 3 Past H&A Ranking Avg_Home_Team : -0.2842367719777278\n"
     ]
    },
    {
     "name": "stdout",
     "output_type": "stream",
     "text": [
      "Rolling 3 Past H&A Ranking Max_Home_Team : -0.2624927388003305\n",
      "Rolling 3 Past H&A Ranking Min_Home_Team : -0.27332815400343197\n",
      "Previous H&A Ranking_Home_Team : -0.2817341952474869\n",
      "Rolling 5 Past H&A ATS Win_Home_Team : 0.04064273195212627\n",
      "Rolling 5 Past H&A ATS Win Avg_Home_Team : 0.040642731952126254\n",
      "Rolling 5 Past H&A ATS Win Max_Home_Team : 0.03856232578838675\n",
      "Rolling 5 Past H&A ATS Win Min_Home_Team : 0.009665167442513724\n",
      "Rolling 3 Past H&A ATS Win_Home_Team : 0.06004777047686913\n",
      "Rolling 3 Past H&A ATS Win Avg_Home_Team : 0.060047770476869114\n",
      "Rolling 3 Past H&A ATS Win Max_Home_Team : 0.0733277578311328\n",
      "Rolling 3 Past H&A ATS Win Min_Home_Team : 0.03970484994727551\n",
      "Previous H&A ATS Win_Home_Team : -0.0025100516839469036\n",
      "Rolling 5 Past H&A ATS Loss_Home_Team : -0.03990608704557972\n",
      "Rolling 5 Past H&A ATS Loss Avg_Home_Team : -0.03990608704557984\n",
      "Rolling 5 Past H&A ATS Loss Max_Home_Team : -0.0027752287958372757\n",
      "Rolling 5 Past H&A ATS Loss Min_Home_Team : -0.05919230897687661\n",
      "Rolling 3 Past H&A ATS Loss_Home_Team : -0.06159442024120065\n",
      "Rolling 3 Past H&A ATS Loss Avg_Home_Team : -0.061594420241200716\n",
      "Rolling 3 Past H&A ATS Loss Max_Home_Team : -0.033579987759488374\n",
      "Rolling 3 Past H&A ATS Loss Min_Home_Team : -0.07735359386687868\n",
      "Previous H&A ATS Loss_Home_Team : -0.007052301105553661\n",
      "Rolling 5 Past H&A ATS Push_Home_Team : -0.002472029762222375\n",
      "Rolling 5 Past H&A ATS Push Avg_Home_Team : -0.0024720297622223774\n",
      "Rolling 5 Past H&A ATS Push Max_Home_Team : -0.000758859092757055\n",
      "Rolling 5 Past H&A ATS Push Min_Home_Team : nan\n",
      "Rolling 3 Past H&A ATS Push_Home_Team : 0.005021017167595109\n",
      "Rolling 3 Past H&A ATS Push Avg_Home_Team : 0.005021017167595072\n",
      "Rolling 3 Past H&A ATS Push Max_Home_Team : 0.005950084691823755\n",
      "Rolling 3 Past H&A ATS Push Min_Home_Team : nan\n",
      "Previous H&A ATS Push_Home_Team : 0.03131266219565705\n",
      "Rolling 5 Past H&A Over Odds_Home_Team : 0.0660246397831989\n",
      "Rolling 5 Past H&A Over Odds Avg_Home_Team : 0.0660246397831989\n",
      "Rolling 5 Past H&A Over Odds Max_Home_Team : 0.023027243908364102\n",
      "Rolling 5 Past H&A Over Odds Min_Home_Team : 0.05123757381196508\n",
      "Rolling 3 Past H&A Over Odds_Home_Team : 0.05639697183991152\n",
      "Rolling 3 Past H&A Over Oddss Avg_Home_Team : 0.056396971839911554\n",
      "Rolling 3 Past H&A Over OddsMax_Home_Team : 0.03857034031575381\n",
      "Rolling 3 Past H&A Over Odds Min_Home_Team : 0.06680385145969721\n",
      "Previous H&A Over Odds_Home_Team : 0.05762899970241032\n",
      "Rolling 5 Past H&A Under Odds_Home_Team : -0.08206444367731985\n",
      "Rolling 5 Past H&A Under Odds Avg_Home_Team : -0.08206444367731976\n",
      "Rolling 5 Past H&A Under Odds Max_Home_Team : -0.051237573811965094\n",
      "Rolling 5 Past H&A Under Odds Min_Home_Team : -0.03443137400602484\n",
      "Rolling 3 Past H&A Under Odds_Home_Team : -0.06673603261420812\n",
      "Rolling 3 Past H&A Under Oddss Avg_Home_Team : -0.06673603261420796\n",
      "Rolling 3 Past H&A Under OddsMax_Home_Team : -0.057882367122616456\n",
      "Rolling 3 Past H&A Under Odds Min_Home_Team : -0.05450246305297178\n",
      "Previous H&A Under Odds_Home_Team : -0.06539549700825786\n",
      "Rolling 5 Past H&A Push Odds_Home_Team : 0.07248540008769806\n",
      "Rolling 5 Past H&A Push Odds Avg_Home_Team : 0.07248540008769813\n",
      "Rolling 5 Past H&A Push Odds Max_Home_Team : 0.07248540008769806\n",
      "Rolling 5 Past H&A Push Odds Min_Home_Team : nan\n",
      "Rolling 3 Past H&A Push Odds_Home_Team : 0.045142269984003516\n",
      "Rolling 3 Past H&A Push Oddss Avg_Home_Team : 0.045142269984003426\n",
      "Rolling 3 Past H&A Push OddsMax_Home_Team : 0.045142269984003516\n",
      "Rolling 3 Past H&A Push Odds Min_Home_Team : nan\n",
      "Rolling 5 Past H&A Score_Away_Team : -0.10273160442356784\n",
      "Rolling 5 Past H&A Score Avg_Away_Team : -0.10273160442356785\n",
      "Rolling 5 Past H&A Score Max_Away_Team : -0.07360530622969745\n",
      "Rolling 5 Past H&A Score Min_Away_Team : -0.09803773243430508\n",
      "Rolling 3 Past H&A Score_Away_Team : -0.09826545895025739\n",
      "Rolling 3 Past H&A Score Avg_Away_Team : -0.09826545895025746\n",
      "Rolling 3 Past H&A Score Max_Away_Team : -0.08654277364616417\n",
      "Rolling 3 Past H&A Score Min_Away_Team : -0.09329571365317914\n",
      "Past H&A Score_Away_Team : -0.0930356600262777\n",
      "Rolling 5 Past H&A HI Pass yrds_Away_Team : 0.06560471387273592\n",
      "Rolling 5 Past H&A HI Pass yrds Avg_Away_Team : 0.0656047138727359\n",
      "Rolling 5 Past H&A HI Pass yrds Max_Away_Team : 0.07488420646134458\n",
      "Rolling 5 Past H&A HI Pass yrds Min_Away_Team : 0.01846110451692112\n",
      "Rolling 3 Past H&A HI Pass yrds_Away_Team : 0.05123518750741795\n",
      "Rolling 3 Past H&A HI Pass yrds Avg_Away_Team : 0.05123518750741795\n",
      "Rolling 3 Past H&A HI Pass yrds Max_Away_Team : 0.05279143084043337\n",
      "Rolling 3 Past H&A HI Pass yrds Min_Away_Team : 0.015663629687899593\n",
      "Previous H&A HI Pass yrds_Away_Team : 0.029925928041543596\n",
      "Rolling 5 Past H&A HI Rush yrds_Away_Team : -0.06367025629598591\n",
      "Rolling 5 Past H&A HI Rush yrds Avg_Away_Team : -0.06367025629598584\n",
      "Rolling 5 Past H&A HI Rush yrds Max_Away_Team : 0.0042031981706201205\n",
      "Rolling 5 Past H&A HI Rush yrds Min_Away_Team : -0.09314802746407638\n",
      "Rolling 3 Past H&A HI Rush yrds_Away_Team : -0.04289048865965821\n",
      "Rolling 3 Past H&A HI Rush yrds Avg_Away_Team : -0.04289048865965824\n",
      "Rolling 3 Past H&A HI Rush yrds Max_Away_Team : 0.010833249263864404\n",
      "Rolling 3 Past H&A HI Rush yrds Min_Away_Team : -0.08163641507918487\n",
      "Previous H&A HI Rush yrds_Away_Team : -0.02843884735817543\n",
      "Rolling 5 Past H&A HI REC yrds_Away_Team : 0.05511143939719297\n",
      "Rolling 5 Past H&A HI REC yrds Avg_Away_Team : 0.05511143939719305\n",
      "Rolling 5 Past H&A HI REC yrds Max_Away_Team : 0.03867903172839857\n",
      "Rolling 5 Past H&A HI REC yrds Min_Away_Team : 0.04906689042684631\n",
      "Rolling 3 Past H&A HI REC yrds_Away_Team : 0.040541846641385985\n",
      "Rolling 3 Past H&A HI REC yrds Avg_Away_Team : 0.04054184664138601\n",
      "Rolling 3 Past H&A HI REC yrds Max_Away_Team : 0.025978283602751402\n",
      "Rolling 3 Past H&A HI REC yrds Min_Away_Team : 0.04398272245331071\n",
      "Previous H&A HI REC yrds_Away_Team : 0.030187666476276666\n",
      "Rolling 5 Past H&A Season T Wins_Away_Team : -0.20218645827868792\n",
      "Rolling 5 Past H&A Season T Wins Avg_Away_Team : -0.20218645827868775\n",
      "Rolling 5 Past H&A Season T Wins Max_Away_Team : -0.19857686783231585\n",
      "Rolling 5 Past H&A Season T Wins Min_Away_Team : -0.14624288585416353\n",
      "Rolling 3 Past H&A Season T Wins_Away_Team : -0.18575699348621788\n",
      "Rolling 3 Past H&A Season T Wins Avg_Away_Team : -0.185756993486218\n",
      "Rolling 3 Past H&A Season T Wins Max_Away_Team : -0.18976029445640846\n",
      "Rolling 3 Past H&A Season T Wins Min_Away_Team : -0.13719814149362622\n",
      "Previous H&A Season T Wins_Away_Team : -0.1725679507891538\n",
      "Rolling 5 Past H&A Season T Losses_Away_Team : 0.259188071224681\n",
      "Rolling 5 Past H&A Season T Losses Avg_Away_Team : 0.2591880712246812\n",
      "Rolling 5 Past H&A Season T Losses Max_Away_Team : 0.2457628318415545\n",
      "Rolling 5 Past H&A Season T Losses Min_Away_Team : 0.19390837927725105\n",
      "Rolling 3 Past H&A Season T Losses_Away_Team : 0.24181832981367746\n",
      "Rolling 3 Past H&A Season T Losses Avg_Away_Team : 0.24181832981367743\n",
      "Rolling 3 Past H&A Season T Losses Max_Away_Team : 0.2433301312794474\n",
      "Rolling 3 Past H&A Season T Losses Min_Away_Team : 0.1881905059829244\n",
      "Previous H&A Season Losses_Away_Team : 0.19897146065059282\n",
      "Rolling 5 Past H&A Conf T Wins_Away_Team : -0.2330775362906814\n",
      "Rolling 5 Past H&A Conf T Wins Avg_Away_Team : -0.23307753629068145\n",
      "Rolling 5 Past H&A Conf T Wins Max_Away_Team : -0.23118976935877536\n",
      "Rolling 5 Past H&A Conf T Wins Min_Away_Team : -0.15552410823014987\n",
      "Rolling 3 Past H&A Conf T Wins_Away_Team : -0.2091483637229383\n",
      "Rolling 3 Past H&A Conf T Wins Avg_Away_Team : -0.2091483637229382\n",
      "Rolling 3 Past H&A Conf T Wins Max_Away_Team : -0.21307805739969501\n",
      "Rolling 3 Past H&A Conf T Wins Min_Away_Team : -0.15590826880229947\n",
      "Previous H&A Conf Wins_Away_Team : -0.18667769437536003\n",
      "Rolling 5 Past H&A Conf T Losses_Away_Team : 0.24827839720638456\n",
      "Rolling 5 Past H&A Conf T Losses Avg_Away_Team : 0.24827839720638445\n",
      "Rolling 5 Past H&A Conf T Losses Max_Away_Team : 0.2407617729386171\n",
      "Rolling 5 Past H&A Conf T Losses Min_Away_Team : 0.15629271092228125\n",
      "Rolling 3 Past H&A Conf T Losses_Away_Team : 0.2250829606874942\n",
      "Rolling 3 Past H&A Conf T Losses Avg_Away_Team : 0.2250829606874942\n",
      "Rolling 3 Past H&A Conf T Losses Max_Away_Team : 0.23216073406059168\n",
      "Rolling 3 Past H&A Conf T Losses Min_Away_Team : 0.15770226423163838\n",
      "Previous H&A Conf Losses_Away_Team : 0.17749518775297146\n",
      "Rolling 5 Past H&A 1st Downs_Away_Team : -0.015190926839659852\n",
      "Rolling 5 Past H&A 1st Downs Avg_Away_Team : -0.015190926839659915\n",
      "Rolling 5 Past H&A 1st Downs Max_Away_Team : 0.05566915155088055\n",
      "Rolling 5 Past H&A 1st Downs Min_Away_Team : -0.07831236826393814\n",
      "Rolling 3 Past H&A 1st Downs_Away_Team : -0.031864084791407316\n",
      "Rolling 3 Past H&A 1st Downs Avg_Away_Team : -0.03186408479140737\n",
      "Rolling 3 Past H&A 1st Downs Max_Away_Team : 0.011126330943820336\n",
      "Rolling 3 Past H&A 1st Downs Min_Away_Team : -0.05854243486503272\n",
      "Previous H&A 1st Downs_Away_Team : -0.030762150079597973\n",
      "Rolling 5 Past H&A 3rd Down Conversions_Away_Team : -0.06338090310790744\n",
      "Rolling 5 Past H&A 3rd Down Conversion Avg_Away_Team : -0.06338090310790744\n",
      "Rolling 5 Past H&A 3rd Down Conversion Max_Away_Team : -0.0557559455015862\n",
      "Rolling 5 Past H&A 3rd Down Conversion Min_Away_Team : -0.07350954691768825\n",
      "Rolling 3 Past H&A 3rd Down Conversion_Away_Team : -0.045440913028733834\n",
      "Rolling 3 Past H&A 3rd Down Conversion Avg_Away_Team : -0.04544091302873381\n",
      "Rolling 3 Past H&A 3rd Down Conversion Max_Away_Team : -0.03863002249833511\n",
      "Rolling 3 Past H&A 3rd Down Conversion Min_Away_Team : -0.03632653078361851\n",
      "Previous H&A 3rd Down Conversions_Away_Team : 0.007961797537692404\n",
      "Rolling 5 Past H&A 3rd Down Conversion Attempts_Away_Team : 0.08463835016742298\n",
      "Rolling 5 Past H&A 3rd Down Conversion Attempts Avg_Away_Team : 0.08463835016742295\n",
      "Rolling 5 Past H&A 3rd Down Conversion Attempts Max_Away_Team : 0.0459206979199864\n",
      "Rolling 5 Past H&A 3rd Down Conversion Attempts Min_Away_Team : 0.06403661794198903\n",
      "Rolling 3 Past H&A 3rd Down Conversion Attempts_Away_Team : 0.07901385808546378\n",
      "Rolling 3 Past H&A 3rd Down Conversion Attempts Avg_Away_Team : 0.07901385808546368\n",
      "Rolling 3 Past H&A 3rd Down Conversion Attempts Max_Away_Team : 0.05211339241983033\n",
      "Rolling 3 Past H&A 3rd Down Conversion Attempts Min_Away_Team : 0.0752964219933288\n",
      "Previous H&A 3rd Down Conversions Attempts_Away_Team : 0.0855561384276421\n",
      "Rolling 5 Past H&A 3rd Down Conversion %_Away_Team : -0.11820907750633301\n",
      "Rolling 5 Past H&A 3rd Down Conversion % Avg_Away_Team : -0.11820907750633299\n",
      "Rolling 5 Past H&A 3rd Down Conversion % Max_Away_Team : -0.09011866403751802\n",
      "Rolling 5 Past H&A 3rd Down Conversion % Min_Away_Team : -0.09496131904145529\n",
      "Rolling 3 Past H&A 3rd Down Conversion %_Away_Team : -0.10268108007774217\n",
      "Rolling 3 Past H&A 3rd Down Conversion % Avg_Away_Team : -0.10268108007774211\n",
      "Rolling 3 Past H&A 3rd Down Conversion % Max_Away_Team : -0.07357891907459474\n",
      "Rolling 3 Past H&A 3rd Down Conversion % Min_Away_Team : -0.0794790072508465\n",
      "Previous H&A 3rd Down Conversions %_Away_Team : -0.03837536330951131\n",
      "Rolling 5 Past H&A 4th Down Conversions_Away_Team : 0.07186938243488525\n",
      "Rolling 5 Past H&A 4th Down Conversions Avg_Away_Team : 0.07186938243488532\n",
      "Rolling 5 Past H&A 4th Down Conversions Max_Away_Team : 0.07564792854333226\n",
      "Rolling 5 Past H&A 4th Down Conversions Min_Away_Team : -0.0047020488727984215\n",
      "Rolling 3 Past H&A 4th Down Conversions_Away_Team : 0.03956564676134561\n",
      "Rolling 3 Past H&A 4th Down Conversions Avg_Away_Team : 0.03956564676134556\n",
      "Rolling 3 Past H&A 4th Down Conversions Max_Away_Team : 0.03571629480189984\n",
      "Rolling 3 Past H&A 4th Down Conversions Min_Away_Team : 0.022422466430784473\n",
      "Previous H&A 4th Down Conversions_Away_Team : 0.034752242847538806\n",
      "Rolling 5 Past H&A 4th Down Conversion Attempts_Away_Team : 0.10893773172905366\n",
      "Rolling 5 Past H&A 4th Down Conversion Attempts Avg_Away_Team : 0.10893773172905374\n",
      "Rolling 5 Past H&A 4th Down Conversion Attempts Max_Away_Team : 0.12250789161906929\n",
      "Rolling 5 Past H&A 4th Down Conversion Attempts Min_Away_Team : 0.06383919130642397\n",
      "Rolling 3 Past H&A 4th Down Conversion Attempts_Away_Team : 0.07810858871130776\n",
      "Rolling 3 Past H&A 4th Down Conversion Attempts Avg_Away_Team : 0.07810858871130782\n",
      "Rolling 3 Past H&A 4th Down Conversion Attempts Max_Away_Team : 0.07900500936794133\n",
      "Rolling 3 Past H&A 4th Down Conversion Attempts Min_Away_Team : 0.06643015581985787\n",
      "Previous H&A 4th Down Conversions Attempts_Away_Team : 0.054669068852501626\n",
      "Rolling 5 Past H&A 4th Down Conversion %_Away_Team : 0.031054614849826575\n",
      "Rolling 5 Past H&A 4th Down Conversion % Avg_Away_Team : 0.031054614849826585\n",
      "Rolling 5 Past H&A 4th Down Conversion % Max_Away_Team : 0.007074240571364228\n",
      "Rolling 5 Past H&A 4th Down Conversion % Min_Away_Team : -0.002332744645867334\n",
      "Rolling 3 Past H&A 4th Down Conversion %_Away_Team : 0.012973772041153634\n",
      "Rolling 3 Past H&A 4th Down Conversion % Avg_Away_Team : 0.01297377204115362\n",
      "Rolling 3 Past H&A 4th Down Conversion % Max_Away_Team : 0.003186442127950914\n",
      "Rolling 3 Past H&A 4th Down Conversion % Min_Away_Team : 0.038499895859693274\n",
      "Previous H&A 4th Down Conversions %_Away_Team : 0.03530345276693843\n",
      "Rolling 5 Past H&A Completions_Away_Team : 0.09626927189668252\n",
      "Rolling 5 Past H&A Completions Avg_Away_Team : 0.09626927189668255\n",
      "Rolling 5 Past H&A Completions Max_Away_Team : 0.09319246475443628\n",
      "Rolling 5 Past H&A Completions Min_Away_Team : 0.06166684845957047\n",
      "Rolling 3 Past H&A Completions_Away_Team : 0.07872658111061431\n",
      "Rolling 3 Past H&A Completions Avg_Away_Team : 0.0787265811106143\n",
      "Rolling 3 Past H&A Completions Max_Away_Team : 0.0775510941075519\n",
      "Rolling 3 Past H&A Completions Min_Away_Team : 0.05717654888164737\n",
      "Previous H&A Completions_Away_Team : 0.06235748827483372\n",
      "Rolling 5 Past H&A Completion Attempts_Away_Team : 0.15389419282622774\n",
      "Rolling 5 Past H&A Completion Attempts Avg_Away_Team : 0.15389419282622774\n",
      "Rolling 5 Past H&A Completion Attempts Max_Away_Team : 0.1439720698738538\n",
      "Rolling 5 Past H&A Completion Attempts Min_Away_Team : 0.12917560281050242\n",
      "Rolling 3 Past H&A Completion Attempts_Away_Team : 0.12925493727478118\n",
      "Rolling 3 Past H&A Completion Attempts Avg_Away_Team : 0.12925493727478107\n",
      "Rolling 3 Past H&A Completion Attempts Max_Away_Team : 0.11751428285102615\n",
      "Rolling 3 Past H&A Completion Attempts Min_Away_Team : 0.1202432839440117\n",
      "Previous H&A Completion Attempts_Away_Team : 0.09901096935467597\n",
      "Rolling 5 Past H&A Completion %_Away_Team : -0.0760356495066243\n",
      "Rolling 5 Past H&A Completion % Avg_Away_Team : -0.07603564950662434\n",
      "Rolling 5 Past H&A Completion % Max_Away_Team : -0.06276840804967039\n",
      "Rolling 5 Past H&A Completion % Min_Away_Team : -0.05241078742188312\n",
      "Rolling 3 Past H&A Completion %_Away_Team : -0.07688210823294986\n",
      "Rolling 3 Past H&A Completion % Avg_Away_Team : -0.07688210823294986\n",
      "Rolling 3 Past H&A Completion % Max_Away_Team : -0.08805022717864582\n",
      "Rolling 3 Past H&A Completion % Min_Away_Team : -0.047809818189062145\n",
      "Previous H&A Completion %_Away_Team : -0.051804589993465856\n",
      "Rolling 5 Past H&A Total Yards_Away_Team : -0.0065640441601191556\n",
      "Rolling 5 Past H&A Total Yards Avg_Away_Team : -0.006564044160119129\n",
      "Rolling 5 Past H&A Total Yards Max_Away_Team : 0.035032761655222476\n",
      "Rolling 5 Past H&A Total Yards Min_Away_Team : -0.04109936757215403\n",
      "Rolling 3 Past H&A Total Yards_Away_Team : -0.017462453247599107\n",
      "Rolling 3 Past H&A Total Yards Avg_Away_Team : -0.017462453247599125\n",
      "Rolling 3 Past H&A Total Yards Max_Away_Team : 0.007555642474832824\n",
      "Rolling 3 Past H&A Total Yards Min_Away_Team : -0.027213818029348476\n",
      "Previous H&A Total Yards_Away_Team : -0.02207983897379332\n",
      "Rolling 5 Past H&A Passing_Away_Team : 0.06121708250296727\n",
      "Rolling 5 Past H&A Passing Avg_Away_Team : 0.06121708250296729\n"
     ]
    },
    {
     "name": "stdout",
     "output_type": "stream",
     "text": [
      "Rolling 5 Past H&A Passing Max_Away_Team : 0.07411582325167548\n",
      "Rolling 5 Past H&A Passing Min_Away_Team : 0.04003039440377597\n",
      "Rolling 3 Past H&A Passing_Away_Team : 0.04225493631366825\n",
      "Rolling 3 Past H&A Passing Avg_Away_Team : 0.042254936313668286\n",
      "Rolling 3 Past H&A Passing Max_Away_Team : 0.03829466476858401\n",
      "Rolling 3 Past H&A Passing Min_Away_Team : 0.037104228341031074\n",
      "Previous H&A Passing_Away_Team : 0.02520277889424112\n",
      "Rolling 5 Past H&A Yards per Pass_Away_Team : -0.08239669366734091\n",
      "Rolling 5 Past H&A Yards per Pass Avg_Away_Team : -0.08239669366734097\n",
      "Rolling 5 Past H&A Yards per Pass Max_Away_Team : -0.10014567549403301\n",
      "Rolling 5 Past H&A Yards per Pass Min_Away_Team : -0.030667525115163716\n",
      "Rolling 3 Past H&A Yards per Pass_Away_Team : -0.07717557341116424\n",
      "Rolling 3 Past H&A Yards per Pass Avg_Away_Team : -0.07717557341116424\n",
      "Rolling 3 Past H&A Yards per Pass Max_Away_Team : -0.09078388999116609\n",
      "Rolling 3 Past H&A Yards per Pass Min_Away_Team : -0.04271240306669348\n",
      "Previous H&A Yards per Pass_Away_Team : -0.06462010674590044\n",
      "Rolling 5 Past H&A Rushing_Away_Team : -0.10323050788265975\n",
      "Rolling 5 Past H&A Rushing Avg_Away_Team : -0.10323050788265972\n",
      "Rolling 5 Past H&A Rushing Max_Away_Team : -0.036050528861726806\n",
      "Rolling 5 Past H&A Rushing Min_Away_Team : -0.07801320383996274\n",
      "Rolling 3 Past H&A Rushing_Away_Team : -0.09229627805573264\n",
      "Rolling 3 Past H&A Rushing Avg_Away_Team : -0.09229627805573261\n",
      "Rolling 3 Past H&A Rushing Max_Away_Team : -0.060407167171438056\n",
      "Rolling 3 Past H&A Rushing Min_Away_Team : -0.06277207611660134\n",
      "Previous H&A Rushing_Away_Team : -0.06673429545740261\n",
      "Rolling 5 Past H&A Rushing Attempts_Away_Team : -0.11334049768547329\n",
      "Rolling 5 Past H&A Rushing Attempts Avg_Away_Team : -0.11334049768547326\n",
      "Rolling 5 Past H&A Rushing Attempts Max_Away_Team : -0.030192883280963353\n",
      "Rolling 5 Past H&A Rushing Attempts Min_Away_Team : -0.1232328307409159\n",
      "Rolling 3 Past H&A Rushing Attempts_Away_Team : -0.0976000484467974\n",
      "Rolling 3 Past H&A Rushing Attempts Avg_Away_Team : -0.09760004844679733\n",
      "Rolling 3 Past H&A Rushing Attempts Max_Away_Team : -0.0628174144320323\n",
      "Rolling 3 Past H&A Rushing Attempts Min_Away_Team : -0.08056629644883562\n",
      "Previous H&A Rushing Attempts_Away_Team : -0.0488074321154044\n",
      "Rolling 5 Past H&A Yards per Rush_Away_Team : -0.08211223995165272\n",
      "Rolling 5 Past H&A Yards per Rush Avg_Away_Team : -0.08211223995165275\n",
      "Rolling 5 Past H&A Yards per Rush Max_Away_Team : -0.0001101179926741749\n",
      "Rolling 5 Past H&A Yards per Rush Min_Away_Team : -0.05287375323337941\n",
      "Rolling 3 Past H&A Yards per Rush_Away_Team : -0.07134653032418745\n",
      "Rolling 3 Past H&A Yards per Rush Avg_Away_Team : -0.07134653032418742\n",
      "Rolling 3 Past H&A Yards per Rush Max_Away_Team : -0.02518806377701736\n",
      "Rolling 3 Past H&A Yards per Rush Min_Away_Team : -0.049538697499465684\n",
      "Previous H&A Yards per Rush_Away_Team : -0.060052490230372534\n",
      "Rolling 5 Past H&A Penalties_Away_Team : 0.060055799026694896\n",
      "Rolling 5 Past H&A Penalties Avg_Away_Team : 0.060055799026694875\n",
      "Rolling 5 Past H&A Penalties Max_Away_Team : 0.08027482487801474\n",
      "Rolling 5 Past H&A Penalties Min_Away_Team : 0.0003805164131290382\n",
      "Rolling 3 Past H&A Penalties_Away_Team : 0.0684355338167796\n",
      "Rolling 3 Past H&A Penalties Avg_Away_Team : 0.06843553381677954\n",
      "Rolling 3 Past H&A Penalties Max_Away_Team : 0.08305200602698291\n",
      "Rolling 3 Past H&A Penalties Min_Away_Team : 0.04352953600781913\n",
      "Previous H&A Penalties_Away_Team : 0.04870622781187242\n",
      "Rolling 5 Past H&A Penalty Yards_Away_Team : 0.07137089764999766\n",
      "Rolling 5 Past H&A Penalty Yards Avg_Away_Team : 0.07137089764999754\n",
      "Rolling 5 Past H&A Penalty Yards Max_Away_Team : 0.08160280442074407\n",
      "Rolling 5 Past H&A Penalty Yards Min_Away_Team : -0.0016999265754044355\n",
      "Rolling 3 Past H&A Penalty Yards_Away_Team : 0.0653376211569637\n",
      "Rolling 3 Past H&A Penalty Yards Avg_Away_Team : 0.06533762115696372\n",
      "Rolling 3 Past H&A Penalty Yards Max_Away_Team : 0.07491419995319298\n",
      "Rolling 3 Past H&A Penalty Yards Min_Away_Team : 0.0261228078916976\n",
      "Previous H&A Penalty Yards_Away_Team : 0.05357933684579782\n",
      "Rolling 5 Past H&A Yards per Penalty_Away_Team : 0.11454337141892391\n",
      "Rolling 5 Past H&A Yards per Penalty Avg_Away_Team : 0.11454337141892384\n",
      "Rolling 5 Past H&A Yards per Penalty Max_Away_Team : 0.09262237839384696\n",
      "Rolling 5 Past H&A Yards per Penalty Min_Away_Team : 0.05964162919904918\n",
      "Rolling 3 Past H&A Yards per Penalty_Away_Team : 0.09138755686565074\n",
      "Rolling 3 Past H&A Yards per Penalty Avg_Away_Team : 0.09138755686565073\n",
      "Rolling 3 Past H&A Yards per Penalty Max_Away_Team : 0.06830881534278735\n",
      "Rolling 3 Past H&A Yards per Penalty Min_Away_Team : 0.06876596875018859\n",
      "Previous H&A Yards per Penalty_Away_Team : 0.08750367510146875\n",
      "Rolling 5 Past H&A Turnovers_Away_Team : 0.05853761223769313\n",
      "Rolling 5 Past H&A Turnovers Avg_Away_Team : 0.058537612237693125\n",
      "Rolling 5 Past H&A Turnovers Max_Away_Team : 0.03240817733846587\n",
      "Rolling 5 Past H&A Turnovers Min_Away_Team : 0.029064710284395123\n",
      "Rolling 3 Past H&A Turnovers_Away_Team : 0.028279451586738853\n",
      "Rolling 3 Past H&A Turnovers Avg_Away_Team : 0.02827945158673884\n",
      "Rolling 3 Past H&A Turnovers Max_Away_Team : 0.013084436458869423\n",
      "Rolling 3 Past H&A Turnovers Min_Away_Team : 0.0457583628348486\n",
      "Previous H&A Turnovers_Away_Team : 0.04540106787969172\n",
      "Rolling 5 Past H&A Fumbles Lost_Away_Team : -0.018391883821293437\n",
      "Rolling 5 Past H&A Fumbles Lost Avg_Away_Team : -0.01839188382129344\n",
      "Rolling 5 Past H&A Fumbles Lost Max_Away_Team : -0.0391973939664226\n",
      "Rolling 5 Past H&A Fumbles Lost Min_Away_Team : -0.003099357834260259\n",
      "Rolling 3 Past H&A Fumbles Lost_Away_Team : -0.04965274100132602\n",
      "Rolling 3 Past H&A Fumbles Lost Avg_Away_Team : -0.049652741001326044\n",
      "Rolling 3 Past H&A Fumbles Lost Max_Away_Team : -0.03794505632509581\n",
      "Rolling 3 Past H&A Fumbles Lost Min_Away_Team : -0.025073806334767204\n",
      "Previous H&A Fumbles Lost_Away_Team : -0.013583791088010735\n",
      "Rolling 5 Past H&A Interceptions Thrown_Away_Team : 0.09088937113958484\n",
      "Rolling 5 Past H&A Interceptions Thrown Avg_Away_Team : 0.09088937113958465\n",
      "Rolling 5 Past H&A Interceptions Thrown Max_Away_Team : 0.06183524694883499\n",
      "Rolling 5 Past H&A Interceptions Thrown Min_Away_Team : 0.0760573753478783\n",
      "Rolling 3 Past H&A Interceptions Thrown_Away_Team : 0.07976812638102555\n",
      "Rolling 3 Past H&A Interceptions Thrown Avg_Away_Team : 0.07976812638102561\n",
      "Rolling 3 Past H&A Interceptions Thrown Max_Away_Team : 0.05381121733405235\n",
      "Rolling 3 Past H&A Interceptions Thrown Min_Away_Team : 0.05978241033024439\n",
      "Previous H&A Interceptions Thrown_Away_Team : 0.07221407533775262\n",
      "Rolling 5 Past H&A Possession Time_Away_Team : 0.040949295180192385\n",
      "Rolling 5 Past H&A Possession Time Avg_Away_Team : 0.040949295180192434\n",
      "Rolling 5 Past H&A Possession Time Max_Away_Team : 0.03988619196317442\n",
      "Rolling 5 Past H&A Possession Time Min_Away_Team : 0.02461653934673404\n",
      "Rolling 3 Past H&A Possession Time_Away_Team : 0.0385774640773512\n",
      "Rolling 3 Past H&A Possession Time Avg_Away_Team : 0.03857746407735119\n",
      "Rolling 3 Past H&A Possession Time Max_Away_Team : 0.04654454097060842\n",
      "Rolling 3 Past H&A Possession Time Min_Away_Team : 0.040357945603063064\n",
      "Previous H&A Possession Time_Away_Team : 0.03296832713390219\n",
      "Rolling 5 Past H&A Q1 Score_Away_Team : -0.0726093104385632\n",
      "Rolling 5 Past H&A Q1 Score Avg_Away_Team : -0.07260931043856317\n",
      "Rolling 5 Past H&A Q1 Score Max_Away_Team : -0.1041495528469937\n",
      "Rolling 5 Past H&A Q1 Score Min_Away_Team : -0.011245169326220153\n",
      "Rolling 3 Past H&A Q1 Score_Away_Team : -0.07990292452350614\n",
      "Rolling 3 Past H&A Q1 Score Avg_Away_Team : -0.07990292452350613\n",
      "Rolling 3 Past H&A Q1 Score Max_Away_Team : -0.08596796113183655\n",
      "Rolling 3 Past H&A Q1 Score Min_Away_Team : -0.04952556923589863\n",
      "Previous H&A Q1 Score_Away_Team : -0.05728135123409425\n",
      "Rolling 5 Past H&A Q2 Score_Away_Team : -0.076815352137143\n",
      "Rolling 5 Past H&A Q2 Score Avg_Away_Team : -0.07681535213714294\n",
      "Rolling 5 Past H&A Q2 Score Max_Away_Team : -0.057358933379427775\n",
      "Rolling 5 Past H&A Q2 Score Min_Away_Team : -0.04859878808763865\n",
      "Rolling 3 Past H&A Q2 Score_Away_Team : -0.0728154876773231\n",
      "Rolling 3 Past H&A Q2 Score Avg_Away_Team : -0.07281548767732297\n",
      "Rolling 3 Past H&A Q2 Score Max_Away_Team : -0.06740867223645677\n",
      "Rolling 3 Past H&A Q2 Score Min_Away_Team : -0.030556505244512117\n",
      "Previous H&A Q2 Score_Away_Team : -0.08957346081568573\n",
      "Rolling 5 Past H&A Q3 Score_Away_Team : -0.09693234108930943\n",
      "Rolling 5 Past H&A Q3 Score Avg_Away_Team : -0.09693234108930944\n",
      "Rolling 5 Past H&A Q3 Score Max_Away_Team : -0.07752340455189177\n",
      "Rolling 5 Past H&A Q3 Score Min_Away_Team : -0.04871100845200379\n",
      "Rolling 3 Past H&A Q3 Score_Away_Team : -0.05351234340003874\n",
      "Rolling 3 Past H&A Q3 Score Avg_Away_Team : -0.05351234340003873\n",
      "Rolling 3 Past H&A Q3 Score Max_Away_Team : -0.03173966981080382\n",
      "Rolling 3 Past H&A Q3 Score Min_Away_Team : -0.03713450844153473\n",
      "Previous H&A Q3 Score_Away_Team : -0.0651967338066413\n",
      "Rolling 5 Past H&A Q4 Score_Away_Team : -0.03921606702954987\n",
      "Rolling 5 Past H&A Q4 Score Avg_Away_Team : -0.03921606702954986\n",
      "Rolling 5 Past H&A Q4 Score Max_Away_Team : -0.008353354712807536\n",
      "Rolling 5 Past H&A Q4 Score Min_Away_Team : -0.04236145273884762\n",
      "Rolling 3 Past H&A Q4 Score_Away_Team : -0.04463324548651063\n",
      "Rolling 3 Past H&A Q4 Score Avg_Away_Team : -0.044633245486510646\n",
      "Rolling 3 Past H&A Q4 Score Max_Away_Team : -0.027277590226999333\n",
      "Rolling 3 Past H&A Q4 Score Min_Away_Team : -0.027632097700413177\n",
      "Previous H&A Q4 Score_Away_Team : -0.024368200974888277\n",
      "Rolling 5 Past H&A Total Odds_Away_Team : 0.1944361883606458\n",
      "Rolling 5 Past H&A Total Odds Avg_Away_Team : 0.19443618836064577\n",
      "Rolling 5 Past H&A Total Odds Max_Away_Team : 0.18747025275097715\n",
      "Rolling 5 Past H&A Total Odds Min_Away_Team : 0.15508777806920646\n",
      "Rolling 3 Past H&A Total Odds_Away_Team : 0.1858597629907846\n",
      "Rolling 3 Past H&A Total Odds Avg_Away_Team : 0.1858597629907847\n",
      "Rolling 3 Past H&A Total Odds Max_Away_Team : 0.18367473227163397\n",
      "Rolling 3 Past H&A Total Odds Min_Away_Team : 0.1570445013147453\n",
      "Previous H&A Total Odds_Away_Team : 0.16051812399402418\n",
      "Rolling 5 Past H&A Spread_Away_Team : 0.25460273247626114\n",
      "Rolling 5 Past H&A Spread Avg_Away_Team : 0.25460273247626136\n",
      "Rolling 5 Past H&A Spread Max_Away_Team : 0.21951698409471437\n",
      "Rolling 5 Past H&A Spread Min_Away_Team : 0.23948963017353445\n",
      "Rolling 3 Past H&A Spread_Away_Team : 0.22917718922203142\n",
      "Rolling 3 Past H&A Spread Avg_Away_Team : 0.22917718922203134\n",
      "Rolling 3 Past H&A Spread Max_Away_Team : 0.2007855921230459\n",
      "Rolling 3 Past H&A Spread Min_Away_Team : 0.21158765556461165\n",
      "Previous H&A Spread_Away_Team : 0.18184544116515708\n",
      "Rolling 5 Past H&A Ranking_Away_Team : 0.24498620144231378\n",
      "Rolling 5 Past H&A Ranking Avg_Away_Team : 0.24498620144231412\n",
      "Rolling 5 Past H&A Ranking Max_Away_Team : 0.19774746402663443\n",
      "Rolling 5 Past H&A Ranking Min_Away_Team : 0.22121019401035433\n",
      "Rolling 3 Past H&A Ranking_Away_Team : 0.2399832725197851\n",
      "Rolling 3 Past H&A Ranking Avg_Away_Team : 0.23998327251978552\n",
      "Rolling 3 Past H&A Ranking Max_Away_Team : 0.21652675429868343\n",
      "Rolling 3 Past H&A Ranking Min_Away_Team : 0.23029789996683178\n",
      "Previous H&A Ranking_Away_Team : 0.2143232639243653\n",
      "Rolling 5 Past H&A ATS Win_Away_Team : -0.0006493285198369808\n",
      "Rolling 5 Past H&A ATS Win Avg_Away_Team : -0.00064932851983699\n",
      "Rolling 5 Past H&A ATS Win Max_Away_Team : 0.019510146811826775\n",
      "Rolling 5 Past H&A ATS Win Min_Away_Team : -0.015993478270889337\n",
      "Rolling 3 Past H&A ATS Win_Away_Team : 0.022933149611702924\n",
      "Rolling 3 Past H&A ATS Win Avg_Away_Team : 0.022933149611702862\n",
      "Rolling 3 Past H&A ATS Win Max_Away_Team : 0.012637630726360838\n",
      "Rolling 3 Past H&A ATS Win Min_Away_Team : 0.02429568441922435\n",
      "Previous H&A ATS Win_Away_Team : 0.037199823128252575\n",
      "Rolling 5 Past H&A ATS Loss_Away_Team : 0.010709434176209181\n",
      "Rolling 5 Past H&A ATS Loss Avg_Away_Team : 0.010709434176209173\n",
      "Rolling 5 Past H&A ATS Loss Max_Away_Team : 0.021766562751244303\n",
      "Rolling 5 Past H&A ATS Loss Min_Away_Team : -0.04108592366815491\n",
      "Rolling 3 Past H&A ATS Loss_Away_Team : -0.015818992692231172\n",
      "Rolling 3 Past H&A ATS Loss Avg_Away_Team : -0.015818992692231155\n",
      "Rolling 3 Past H&A ATS Loss Max_Away_Team : -0.030342275187447428\n",
      "Rolling 3 Past H&A ATS Loss Min_Away_Team : -0.018783287965991463\n",
      "Previous H&A ATS Loss_Away_Team : -0.028819940840208363\n",
      "Rolling 5 Past H&A ATS Push_Away_Team : -0.03066853095896945\n",
      "Rolling 5 Past H&A ATS Push Avg_Away_Team : -0.03066853095896948\n",
      "Rolling 5 Past H&A ATS Push Max_Away_Team : -0.039861615883013964\n",
      "Rolling 5 Past H&A ATS Push Min_Away_Team : nan\n",
      "Rolling 3 Past H&A ATS Push_Away_Team : -0.021057805698704767\n",
      "Rolling 3 Past H&A ATS Push Avg_Away_Team : -0.021057805698704787\n",
      "Rolling 3 Past H&A ATS Push Max_Away_Team : -0.020500077123164994\n",
      "Rolling 3 Past H&A ATS Push Min_Away_Team : nan\n",
      "Previous H&A ATS Push_Away_Team : -0.02326892416416284\n",
      "Rolling 5 Past H&A Over Odds_Away_Team : -5.3926875973690636e-05\n",
      "Rolling 5 Past H&A Over Odds Avg_Away_Team : -5.392687597370381e-05\n",
      "Rolling 5 Past H&A Over Odds Max_Away_Team : 0.0829870718270071\n",
      "Rolling 5 Past H&A Over Odds Min_Away_Team : -0.027687930270281755\n",
      "Rolling 3 Past H&A Over Odds_Away_Team : 0.003782983010246874\n",
      "Rolling 3 Past H&A Over Oddss Avg_Away_Team : 0.003782983010246749\n",
      "Rolling 3 Past H&A Over OddsMax_Away_Team : 0.05289468728035556\n",
      "Rolling 3 Past H&A Over Odds Min_Away_Team : -0.05108728243868117\n",
      "Previous H&A Over Odds_Away_Team : -0.01639870186542356\n",
      "Rolling 5 Past H&A Under Odds_Away_Team : 0.011098977508286777\n",
      "Rolling 5 Past H&A Under Odds Avg_Away_Team : 0.011098977508286947\n",
      "Rolling 5 Past H&A Under Odds Max_Away_Team : 0.027687930270281776\n",
      "Rolling 5 Past H&A Under Odds Min_Away_Team : -0.07996261597832695\n",
      "Rolling 3 Past H&A Under Odds_Away_Team : 0.010585480425190894\n",
      "Rolling 3 Past H&A Under Oddss Avg_Away_Team : 0.010585480425190951\n",
      "Rolling 3 Past H&A Under OddsMax_Away_Team : 0.06480936445343881\n",
      "Rolling 3 Past H&A Under Odds Min_Away_Team : -0.05435684314350792\n",
      "Previous H&A Under Odds_Away_Team : 0.024774104535496198\n",
      "Rolling 5 Past H&A Push Odds_Away_Team : -0.05398846124306492\n",
      "Rolling 5 Past H&A Push Odds Avg_Away_Team : -0.05398846124306488\n",
      "Rolling 5 Past H&A Push Odds Max_Away_Team : -0.05398846124306492\n"
     ]
    },
    {
     "name": "stdout",
     "output_type": "stream",
     "text": [
      "Rolling 5 Past H&A Push Odds Min_Away_Team : nan\n",
      "Rolling 3 Past H&A Push Odds_Away_Team : -0.06983294572029264\n",
      "Rolling 3 Past H&A Push Oddss Avg_Away_Team : -0.0698329457202926\n",
      "Rolling 3 Past H&A Push OddsMax_Away_Team : -0.06983294572029264\n",
      "Rolling 3 Past H&A Push Odds Min_Away_Team : nan\n",
      "Previous H&A Push Odds_Away_Team : -0.046300396867510696\n"
     ]
    }
   ],
   "source": [
    "for i in columns_list:\n",
    "     if df3[i].dtypes == 'float64':\n",
    "        corr = df3[i].corr(Prediction_Variable) \n",
    "        print(i,\":\",corr)\n",
    "        if corr > .3:\n",
    "            Home_High_Corr_Values.append(i)\n",
    "        if corr < -.3:\n",
    "            Home_High_Corr_Values.append(i)"
   ]
  },
  {
   "cell_type": "code",
   "execution_count": 20,
   "id": "00ff4183",
   "metadata": {},
   "outputs": [
    {
     "data": {
      "text/plain": [
       "['Home Team Spread_x',\n",
       " 'Away Team Spread_x',\n",
       " 'Total_x',\n",
       " 'Home Score_x_x',\n",
       " 'Rolling 5 Past H&A Score_Home_Team',\n",
       " 'Rolling 5 Past H&A Score Avg_Home_Team',\n",
       " 'Rolling 5 Past H&A 1st Downs_Home_Team',\n",
       " 'Rolling 5 Past H&A 1st Downs Avg_Home_Team',\n",
       " 'Rolling 5 Past H&A Total Yards_Home_Team',\n",
       " 'Rolling 5 Past H&A Total Yards Avg_Home_Team',\n",
       " 'Rolling 5 Past H&A Yards per Pass_Home_Team',\n",
       " 'Rolling 5 Past H&A Yards per Pass Avg_Home_Team',\n",
       " 'Rolling 5 Past H&A Spread_Home_Team',\n",
       " 'Rolling 5 Past H&A Spread Avg_Home_Team',\n",
       " 'Rolling 5 Past H&A Spread Min_Home_Team']"
      ]
     },
     "execution_count": 20,
     "metadata": {},
     "output_type": "execute_result"
    }
   ],
   "source": [
    "Home_High_Corr_Values"
   ]
  },
  {
   "cell_type": "code",
   "execution_count": 21,
   "id": "f826d293",
   "metadata": {},
   "outputs": [],
   "source": [
    "Home_High_Corr_Values.remove('Rolling 5 Past H&A Score_Home_Team')\n",
    "Home_High_Corr_Values.remove('Rolling 5 Past H&A 1st Downs_Home_Team')\n",
    "Home_High_Corr_Values.remove('Rolling 5 Past H&A Total Yards_Home_Team')\n",
    "Home_High_Corr_Values.remove('Rolling 5 Past H&A Yards per Pass_Home_Team')\n",
    "Home_High_Corr_Values.remove('Rolling 5 Past H&A Spread_Home_Team')\n",
    "Home_High_Corr_Values.append('Rolling 5 Past H&A HI REC yrds Avg_Home_Team')\n",
    "Home_High_Corr_Values.append('Rolling 5 Past H&A Conf T Wins_Home_Team')\n",
    "Home_High_Corr_Values.append('Rolling 5 Past H&A 3rd Down Conversion % Avg_Home_Team')\n",
    "Home_High_Corr_Values.append('Rolling 5 Past H&A Completion % Avg_Home_Team')\n",
    "Home_High_Corr_Values.append('Rolling 5 Past H&A Q1 Score Avg_Home_Team')\n",
    "Home_High_Corr_Values.append('Rolling 5 Past H&A Ranking Avg_Home_Team')\n",
    "Home_High_Corr_Values.append('Rolling 5 Past H&A Season T Losses_Away_Team')"
   ]
  },
  {
   "cell_type": "code",
   "execution_count": 22,
   "id": "c81e3284",
   "metadata": {},
   "outputs": [
    {
     "data": {
      "text/plain": [
       "['Home Team Spread_x',\n",
       " 'Away Team Spread_x',\n",
       " 'Total_x',\n",
       " 'Home Score_x_x',\n",
       " 'Rolling 5 Past H&A Score Avg_Home_Team',\n",
       " 'Rolling 5 Past H&A 1st Downs Avg_Home_Team',\n",
       " 'Rolling 5 Past H&A Total Yards Avg_Home_Team',\n",
       " 'Rolling 5 Past H&A Yards per Pass Avg_Home_Team',\n",
       " 'Rolling 5 Past H&A Spread Avg_Home_Team',\n",
       " 'Rolling 5 Past H&A Spread Min_Home_Team',\n",
       " 'Rolling 5 Past H&A HI REC yrds Avg_Home_Team',\n",
       " 'Rolling 5 Past H&A Conf T Wins_Home_Team',\n",
       " 'Rolling 5 Past H&A 3rd Down Conversion % Avg_Home_Team',\n",
       " 'Rolling 5 Past H&A Completion % Avg_Home_Team',\n",
       " 'Rolling 5 Past H&A Q1 Score Avg_Home_Team',\n",
       " 'Rolling 5 Past H&A Ranking Avg_Home_Team',\n",
       " 'Rolling 5 Past H&A Season T Losses_Away_Team']"
      ]
     },
     "execution_count": 22,
     "metadata": {},
     "output_type": "execute_result"
    }
   ],
   "source": [
    "Home_High_Corr_Values"
   ]
  },
  {
   "cell_type": "code",
   "execution_count": 23,
   "id": "7e28efb2",
   "metadata": {},
   "outputs": [],
   "source": [
    "Home_High_Corr_Values.append('Away Score_x_x')\n",
    "Home_High_Corr_Values.append('Rolling 5 Past H&A Score Avg_Away_Team')\n",
    "Home_High_Corr_Values.append('Rolling 5 Past H&A 1st Downs Avg_Away_Team')\n",
    "Home_High_Corr_Values.append('Rolling 5 Past H&A Total Yards Avg_Away_Team')\n",
    "Home_High_Corr_Values.append('Rolling 5 Past H&A Yards per Pass Avg_Away_Team')\n",
    "Home_High_Corr_Values.append('Rolling 5 Past H&A Spread Avg_Away_Team')\n",
    "Home_High_Corr_Values.append('Rolling 5 Past H&A Spread Min_Away_Team')\n",
    "\n",
    "Home_High_Corr_Values.append('Rolling 5 Past H&A HI REC yrds Avg_Away_Team')\n",
    "Home_High_Corr_Values.append('Rolling 5 Past H&A Conf T Wins_Away_Team')\n",
    "Home_High_Corr_Values.append('Rolling 5 Past H&A 3rd Down Conversion % Avg_Away_Team')\n",
    "Home_High_Corr_Values.append('Rolling 5 Past H&A Completion % Avg_Away_Team')\n",
    "Home_High_Corr_Values.append('Rolling 5 Past H&A Q1 Score Avg_Away_Team')\n",
    "Home_High_Corr_Values.append('Rolling 5 Past H&A Ranking Avg_Away_Team')\n",
    "Home_High_Corr_Values.append('Rolling 5 Past H&A Season T Losses_Home_Team')\n",
    "\n",
    "Home_High_Corr_Values.append('Home Team Ranking_x')\n",
    "Home_High_Corr_Values.append('Away Team Ranking_x')\n",
    "Home_High_Corr_Values.append('Previous H&A Ranking_Home_Team')\n",
    "Home_High_Corr_Values.append('Previous H&A Ranking_Away_Team')\n",
    "Home_High_Corr_Values.append('H Spread Outcome')\n",
    "Home_High_Corr_Values.append('Date')\n",
    "Home_High_Corr_Values.append('Home Team')\n",
    "Home_High_Corr_Values.append('Away Team')\n",
    "Home_High_Corr_Values.append('Year')"
   ]
  },
  {
   "cell_type": "code",
   "execution_count": 725,
   "id": "43366159",
   "metadata": {},
   "outputs": [],
   "source": [
    "df4 = df3[Home_High_Corr_Values]"
   ]
  },
  {
   "cell_type": "code",
   "execution_count": 25,
   "id": "b5e9bb39",
   "metadata": {},
   "outputs": [
    {
     "data": {
      "text/html": [
       "<div>\n",
       "<style scoped>\n",
       "    .dataframe tbody tr th:only-of-type {\n",
       "        vertical-align: middle;\n",
       "    }\n",
       "\n",
       "    .dataframe tbody tr th {\n",
       "        vertical-align: top;\n",
       "    }\n",
       "\n",
       "    .dataframe thead th {\n",
       "        text-align: right;\n",
       "    }\n",
       "</style>\n",
       "<table border=\"1\" class=\"dataframe\">\n",
       "  <thead>\n",
       "    <tr style=\"text-align: right;\">\n",
       "      <th></th>\n",
       "      <th>Home Team Spread_x</th>\n",
       "      <th>Away Team Spread_x</th>\n",
       "      <th>Total_x</th>\n",
       "      <th>Home Score_x_x</th>\n",
       "      <th>Rolling 5 Past H&amp;A Score Avg_Home_Team</th>\n",
       "      <th>Rolling 5 Past H&amp;A 1st Downs Avg_Home_Team</th>\n",
       "      <th>Rolling 5 Past H&amp;A Total Yards Avg_Home_Team</th>\n",
       "      <th>Rolling 5 Past H&amp;A Yards per Pass Avg_Home_Team</th>\n",
       "      <th>Rolling 5 Past H&amp;A Spread Avg_Home_Team</th>\n",
       "      <th>Rolling 5 Past H&amp;A Spread Min_Home_Team</th>\n",
       "      <th>...</th>\n",
       "      <th>Rolling 5 Past H&amp;A Season T Losses_Home_Team</th>\n",
       "      <th>Home Team Ranking_x</th>\n",
       "      <th>Away Team Ranking_x</th>\n",
       "      <th>Previous H&amp;A Ranking_Home_Team</th>\n",
       "      <th>Previous H&amp;A Ranking_Away_Team</th>\n",
       "      <th>H Spread Outcome</th>\n",
       "      <th>Date</th>\n",
       "      <th>Home Team</th>\n",
       "      <th>Away Team</th>\n",
       "      <th>Year</th>\n",
       "    </tr>\n",
       "  </thead>\n",
       "  <tbody>\n",
       "    <tr>\n",
       "      <th>1</th>\n",
       "      <td>6.5</td>\n",
       "      <td>-6.5</td>\n",
       "      <td>49.0</td>\n",
       "      <td>41.0</td>\n",
       "      <td>37.4</td>\n",
       "      <td>23.6</td>\n",
       "      <td>496.8</td>\n",
       "      <td>9.86</td>\n",
       "      <td>-22.3</td>\n",
       "      <td>-29.0</td>\n",
       "      <td>...</td>\n",
       "      <td>5.0</td>\n",
       "      <td>3</td>\n",
       "      <td>1</td>\n",
       "      <td>3.0</td>\n",
       "      <td>1.0</td>\n",
       "      <td>H_Spread_W</td>\n",
       "      <td>2021-12-04</td>\n",
       "      <td>Alabama</td>\n",
       "      <td>Georgia</td>\n",
       "      <td>2021</td>\n",
       "    </tr>\n",
       "    <tr>\n",
       "      <th>2</th>\n",
       "      <td>6.5</td>\n",
       "      <td>-6.5</td>\n",
       "      <td>27.0</td>\n",
       "      <td>27.0</td>\n",
       "      <td>22.8</td>\n",
       "      <td>20.0</td>\n",
       "      <td>358.2</td>\n",
       "      <td>6.18</td>\n",
       "      <td>11.1</td>\n",
       "      <td>2.0</td>\n",
       "      <td>...</td>\n",
       "      <td>21.0</td>\n",
       "      <td>99</td>\n",
       "      <td>15</td>\n",
       "      <td>99.0</td>\n",
       "      <td>11.0</td>\n",
       "      <td>H_Spread_W</td>\n",
       "      <td>2021-11-27</td>\n",
       "      <td>LSU</td>\n",
       "      <td>Texas A&amp;M</td>\n",
       "      <td>2021</td>\n",
       "    </tr>\n",
       "    <tr>\n",
       "      <th>3</th>\n",
       "      <td>19.5</td>\n",
       "      <td>-19.5</td>\n",
       "      <td>55.5</td>\n",
       "      <td>22.0</td>\n",
       "      <td>24.6</td>\n",
       "      <td>22.2</td>\n",
       "      <td>399.6</td>\n",
       "      <td>7.70</td>\n",
       "      <td>-1.3</td>\n",
       "      <td>-7.0</td>\n",
       "      <td>...</td>\n",
       "      <td>16.0</td>\n",
       "      <td>99</td>\n",
       "      <td>3</td>\n",
       "      <td>99.0</td>\n",
       "      <td>1.0</td>\n",
       "      <td>H_Spread_W</td>\n",
       "      <td>2021-11-27</td>\n",
       "      <td>Auburn</td>\n",
       "      <td>Alabama</td>\n",
       "      <td>2021</td>\n",
       "    </tr>\n",
       "    <tr>\n",
       "      <th>4</th>\n",
       "      <td>31.5</td>\n",
       "      <td>-31.5</td>\n",
       "      <td>63.5</td>\n",
       "      <td>21.0</td>\n",
       "      <td>17.6</td>\n",
       "      <td>16.2</td>\n",
       "      <td>313.8</td>\n",
       "      <td>6.28</td>\n",
       "      <td>22.5</td>\n",
       "      <td>16.0</td>\n",
       "      <td>...</td>\n",
       "      <td>35.0</td>\n",
       "      <td>99</td>\n",
       "      <td>99</td>\n",
       "      <td>99.0</td>\n",
       "      <td>99.0</td>\n",
       "      <td>H_Spread_W</td>\n",
       "      <td>2021-11-27</td>\n",
       "      <td>Vanderbilt</td>\n",
       "      <td>Tennessee</td>\n",
       "      <td>2021</td>\n",
       "    </tr>\n",
       "    <tr>\n",
       "      <th>5</th>\n",
       "      <td>-14.5</td>\n",
       "      <td>14.5</td>\n",
       "      <td>63.0</td>\n",
       "      <td>34.0</td>\n",
       "      <td>31.2</td>\n",
       "      <td>25.0</td>\n",
       "      <td>456.0</td>\n",
       "      <td>8.08</td>\n",
       "      <td>2.8</td>\n",
       "      <td>-4.5</td>\n",
       "      <td>...</td>\n",
       "      <td>15.0</td>\n",
       "      <td>25</td>\n",
       "      <td>99</td>\n",
       "      <td>21.0</td>\n",
       "      <td>99.0</td>\n",
       "      <td>H_Spread_W</td>\n",
       "      <td>2021-11-26</td>\n",
       "      <td>Arkansas</td>\n",
       "      <td>Missouri</td>\n",
       "      <td>2021</td>\n",
       "    </tr>\n",
       "  </tbody>\n",
       "</table>\n",
       "<p>5 rows × 40 columns</p>\n",
       "</div>"
      ],
      "text/plain": [
       "   Home Team Spread_x  Away Team Spread_x  Total_x  Home Score_x_x  \\\n",
       "1                 6.5                -6.5     49.0            41.0   \n",
       "2                 6.5                -6.5     27.0            27.0   \n",
       "3                19.5               -19.5     55.5            22.0   \n",
       "4                31.5               -31.5     63.5            21.0   \n",
       "5               -14.5                14.5     63.0            34.0   \n",
       "\n",
       "   Rolling 5 Past H&A Score Avg_Home_Team  \\\n",
       "1                                    37.4   \n",
       "2                                    22.8   \n",
       "3                                    24.6   \n",
       "4                                    17.6   \n",
       "5                                    31.2   \n",
       "\n",
       "   Rolling 5 Past H&A 1st Downs Avg_Home_Team  \\\n",
       "1                                        23.6   \n",
       "2                                        20.0   \n",
       "3                                        22.2   \n",
       "4                                        16.2   \n",
       "5                                        25.0   \n",
       "\n",
       "   Rolling 5 Past H&A Total Yards Avg_Home_Team  \\\n",
       "1                                         496.8   \n",
       "2                                         358.2   \n",
       "3                                         399.6   \n",
       "4                                         313.8   \n",
       "5                                         456.0   \n",
       "\n",
       "   Rolling 5 Past H&A Yards per Pass Avg_Home_Team  \\\n",
       "1                                             9.86   \n",
       "2                                             6.18   \n",
       "3                                             7.70   \n",
       "4                                             6.28   \n",
       "5                                             8.08   \n",
       "\n",
       "   Rolling 5 Past H&A Spread Avg_Home_Team  \\\n",
       "1                                    -22.3   \n",
       "2                                     11.1   \n",
       "3                                     -1.3   \n",
       "4                                     22.5   \n",
       "5                                      2.8   \n",
       "\n",
       "   Rolling 5 Past H&A Spread Min_Home_Team  ...  \\\n",
       "1                                    -29.0  ...   \n",
       "2                                      2.0  ...   \n",
       "3                                     -7.0  ...   \n",
       "4                                     16.0  ...   \n",
       "5                                     -4.5  ...   \n",
       "\n",
       "   Rolling 5 Past H&A Season T Losses_Home_Team  Home Team Ranking_x  \\\n",
       "1                                           5.0                    3   \n",
       "2                                          21.0                   99   \n",
       "3                                          16.0                   99   \n",
       "4                                          35.0                   99   \n",
       "5                                          15.0                   25   \n",
       "\n",
       "   Away Team Ranking_x  Previous H&A Ranking_Home_Team  \\\n",
       "1                    1                             3.0   \n",
       "2                   15                            99.0   \n",
       "3                    3                            99.0   \n",
       "4                   99                            99.0   \n",
       "5                   99                            21.0   \n",
       "\n",
       "   Previous H&A Ranking_Away_Team  H Spread Outcome       Date   Home Team  \\\n",
       "1                             1.0        H_Spread_W 2021-12-04     Alabama   \n",
       "2                            11.0        H_Spread_W 2021-11-27         LSU   \n",
       "3                             1.0        H_Spread_W 2021-11-27      Auburn   \n",
       "4                            99.0        H_Spread_W 2021-11-27  Vanderbilt   \n",
       "5                            99.0        H_Spread_W 2021-11-26    Arkansas   \n",
       "\n",
       "   Away Team  Year  \n",
       "1    Georgia  2021  \n",
       "2  Texas A&M  2021  \n",
       "3    Alabama  2021  \n",
       "4  Tennessee  2021  \n",
       "5   Missouri  2021  \n",
       "\n",
       "[5 rows x 40 columns]"
      ]
     },
     "execution_count": 25,
     "metadata": {},
     "output_type": "execute_result"
    }
   ],
   "source": [
    "df4.head()"
   ]
  },
  {
   "cell_type": "code",
   "execution_count": 26,
   "id": "f2ad1081",
   "metadata": {},
   "outputs": [
    {
     "data": {
      "text/plain": [
       "Index(['Home Team Spread_x', 'Away Team Spread_x', 'Total_x', 'Home Score_x_x',\n",
       "       'Rolling 5 Past H&A Score Avg_Home_Team',\n",
       "       'Rolling 5 Past H&A 1st Downs Avg_Home_Team',\n",
       "       'Rolling 5 Past H&A Total Yards Avg_Home_Team',\n",
       "       'Rolling 5 Past H&A Yards per Pass Avg_Home_Team',\n",
       "       'Rolling 5 Past H&A Spread Avg_Home_Team',\n",
       "       'Rolling 5 Past H&A Spread Min_Home_Team',\n",
       "       'Rolling 5 Past H&A HI REC yrds Avg_Home_Team',\n",
       "       'Rolling 5 Past H&A Conf T Wins_Home_Team',\n",
       "       'Rolling 5 Past H&A 3rd Down Conversion % Avg_Home_Team',\n",
       "       'Rolling 5 Past H&A Completion % Avg_Home_Team',\n",
       "       'Rolling 5 Past H&A Q1 Score Avg_Home_Team',\n",
       "       'Rolling 5 Past H&A Ranking Avg_Home_Team',\n",
       "       'Rolling 5 Past H&A Season T Losses_Away_Team', 'Away Score_x_x',\n",
       "       'Rolling 5 Past H&A Score Avg_Away_Team',\n",
       "       'Rolling 5 Past H&A 1st Downs Avg_Away_Team',\n",
       "       'Rolling 5 Past H&A Total Yards Avg_Away_Team',\n",
       "       'Rolling 5 Past H&A Yards per Pass Avg_Away_Team',\n",
       "       'Rolling 5 Past H&A Spread Avg_Away_Team',\n",
       "       'Rolling 5 Past H&A Spread Min_Away_Team',\n",
       "       'Rolling 5 Past H&A HI REC yrds Avg_Away_Team',\n",
       "       'Rolling 5 Past H&A Conf T Wins_Away_Team',\n",
       "       'Rolling 5 Past H&A 3rd Down Conversion % Avg_Away_Team',\n",
       "       'Rolling 5 Past H&A Completion % Avg_Away_Team',\n",
       "       'Rolling 5 Past H&A Q1 Score Avg_Away_Team',\n",
       "       'Rolling 5 Past H&A Ranking Avg_Away_Team',\n",
       "       'Rolling 5 Past H&A Season T Losses_Home_Team', 'Home Team Ranking_x',\n",
       "       'Away Team Ranking_x', 'Previous H&A Ranking_Home_Team',\n",
       "       'Previous H&A Ranking_Away_Team', 'H Spread Outcome', 'Date',\n",
       "       'Home Team', 'Away Team', 'Year'],\n",
       "      dtype='object')"
      ]
     },
     "execution_count": 26,
     "metadata": {},
     "output_type": "execute_result"
    }
   ],
   "source": [
    "df4.columns"
   ]
  },
  {
   "cell_type": "code",
   "execution_count": 27,
   "id": "b3dc4803",
   "metadata": {},
   "outputs": [
    {
     "data": {
      "text/plain": [
       "(976, 40)"
      ]
     },
     "execution_count": 27,
     "metadata": {},
     "output_type": "execute_result"
    }
   ],
   "source": [
    "df4.shape"
   ]
  },
  {
   "cell_type": "code",
   "execution_count": 28,
   "id": "33033fbc",
   "metadata": {},
   "outputs": [
    {
     "data": {
      "text/plain": [
       "Home Team Spread_x                                         0\n",
       "Away Team Spread_x                                         0\n",
       "Total_x                                                    0\n",
       "Home Score_x_x                                             0\n",
       "Rolling 5 Past H&A Score Avg_Home_Team                    35\n",
       "Rolling 5 Past H&A 1st Downs Avg_Home_Team                41\n",
       "Rolling 5 Past H&A Total Yards Avg_Home_Team              41\n",
       "Rolling 5 Past H&A Yards per Pass Avg_Home_Team           41\n",
       "Rolling 5 Past H&A Spread Avg_Home_Team                   35\n",
       "Rolling 5 Past H&A Spread Min_Home_Team                   35\n",
       "Rolling 5 Past H&A HI REC yrds Avg_Home_Team              35\n",
       "Rolling 5 Past H&A Conf T Wins_Home_Team                  35\n",
       "Rolling 5 Past H&A 3rd Down Conversion % Avg_Home_Team    41\n",
       "Rolling 5 Past H&A Completion % Avg_Home_Team             41\n",
       "Rolling 5 Past H&A Q1 Score Avg_Home_Team                 35\n",
       "Rolling 5 Past H&A Ranking Avg_Home_Team                  35\n",
       "Rolling 5 Past H&A Season T Losses_Away_Team              35\n",
       "Away Score_x_x                                             0\n",
       "Rolling 5 Past H&A Score Avg_Away_Team                    35\n",
       "Rolling 5 Past H&A 1st Downs Avg_Away_Team                39\n",
       "Rolling 5 Past H&A Total Yards Avg_Away_Team              39\n",
       "Rolling 5 Past H&A Yards per Pass Avg_Away_Team           39\n",
       "Rolling 5 Past H&A Spread Avg_Away_Team                   35\n",
       "Rolling 5 Past H&A Spread Min_Away_Team                   35\n",
       "Rolling 5 Past H&A HI REC yrds Avg_Away_Team              35\n",
       "Rolling 5 Past H&A Conf T Wins_Away_Team                  35\n",
       "Rolling 5 Past H&A 3rd Down Conversion % Avg_Away_Team    39\n",
       "Rolling 5 Past H&A Completion % Avg_Away_Team             39\n",
       "Rolling 5 Past H&A Q1 Score Avg_Away_Team                 35\n",
       "Rolling 5 Past H&A Ranking Avg_Away_Team                  35\n",
       "Rolling 5 Past H&A Season T Losses_Home_Team              35\n",
       "Home Team Ranking_x                                        0\n",
       "Away Team Ranking_x                                        0\n",
       "Previous H&A Ranking_Home_Team                             7\n",
       "Previous H&A Ranking_Away_Team                             7\n",
       "H Spread Outcome                                           0\n",
       "Date                                                       0\n",
       "Home Team                                                  0\n",
       "Away Team                                                  0\n",
       "Year                                                       0\n",
       "dtype: int64"
      ]
     },
     "execution_count": 28,
     "metadata": {},
     "output_type": "execute_result"
    }
   ],
   "source": [
    "df4.isnull().sum()"
   ]
  },
  {
   "cell_type": "code",
   "execution_count": 29,
   "id": "17673721",
   "metadata": {},
   "outputs": [],
   "source": [
    "#Removed all rows with null values "
   ]
  },
  {
   "cell_type": "code",
   "execution_count": 726,
   "id": "a7c8db19",
   "metadata": {},
   "outputs": [
    {
     "name": "stderr",
     "output_type": "stream",
     "text": [
      "<ipython-input-726-245837dc34b8>:1: SettingWithCopyWarning: \n",
      "A value is trying to be set on a copy of a slice from a DataFrame\n",
      "\n",
      "See the caveats in the documentation: https://pandas.pydata.org/pandas-docs/stable/user_guide/indexing.html#returning-a-view-versus-a-copy\n",
      "  df4.dropna(inplace=True)\n"
     ]
    }
   ],
   "source": [
    "df4.dropna(inplace=True)"
   ]
  },
  {
   "cell_type": "code",
   "execution_count": 31,
   "id": "3a3b651d",
   "metadata": {},
   "outputs": [
    {
     "data": {
      "text/plain": [
       "(928, 40)"
      ]
     },
     "execution_count": 31,
     "metadata": {},
     "output_type": "execute_result"
    }
   ],
   "source": [
    "df4.shape"
   ]
  },
  {
   "cell_type": "code",
   "execution_count": 32,
   "id": "c300ba6c",
   "metadata": {},
   "outputs": [],
   "source": [
    "#Removing rows with null values took the dataset from 976 rows to 928. "
   ]
  },
  {
   "cell_type": "code",
   "execution_count": 33,
   "id": "e468a5cc",
   "metadata": {},
   "outputs": [
    {
     "data": {
      "text/plain": [
       "0"
      ]
     },
     "execution_count": 33,
     "metadata": {},
     "output_type": "execute_result"
    }
   ],
   "source": [
    "df4.isnull().sum().max()"
   ]
  },
  {
   "cell_type": "code",
   "execution_count": 34,
   "id": "46d0d032",
   "metadata": {},
   "outputs": [
    {
     "data": {
      "text/plain": [
       "H_Spread_L       459\n",
       "H_Spread_W       442\n",
       "H_Spread_Push     27\n",
       "Name: H Spread Outcome, dtype: int64"
      ]
     },
     "execution_count": 34,
     "metadata": {},
     "output_type": "execute_result"
    }
   ],
   "source": [
    "df4['H Spread Outcome'].value_counts()"
   ]
  },
  {
   "cell_type": "code",
   "execution_count": 35,
   "id": "b55fdbdb",
   "metadata": {},
   "outputs": [
    {
     "name": "stdout",
     "output_type": "stream",
     "text": [
      "Home Spread Loss %:  0.49461206896551724 \n",
      "Home Spread Win %:  0.47629310344827586 \n",
      "Home Spread Push(tie) %:  0.029094827586206896\n"
     ]
    }
   ],
   "source": [
    "print('Home Spread Loss %: ',459/928 , '\\n' 'Home Spread Win %: ', 442/928 , '\\n' 'Home Spread Push(tie) %: ', 27/928)"
   ]
  },
  {
   "cell_type": "markdown",
   "id": "f615591f",
   "metadata": {},
   "source": [
    "# Checked data to identify how many rows of data were not outliers to ensure quality "
   ]
  },
  {
   "cell_type": "code",
   "execution_count": 36,
   "id": "f44c3d6f",
   "metadata": {},
   "outputs": [],
   "source": [
    "Describe_df = pd.DataFrame(df4.describe().T)"
   ]
  },
  {
   "cell_type": "code",
   "execution_count": 37,
   "id": "8e0763aa",
   "metadata": {},
   "outputs": [],
   "source": [
    "Describe_df['# Rows <> upper/lower'] = 0\n",
    "Describe_df['Upper'] = 0\n",
    "Describe_df['Lower'] = 0"
   ]
  },
  {
   "cell_type": "code",
   "execution_count": 38,
   "id": "d33ef8c0",
   "metadata": {},
   "outputs": [
    {
     "name": "stderr",
     "output_type": "stream",
     "text": [
      "<ipython-input-38-0fc6190579d4>:7: UserWarning: Boolean Series key will be reindexed to match DataFrame index.\n",
      "  count = df4[(df3[i] > lower) & (df4[i] < upper)]['Home Team'].count()\n",
      "<ipython-input-38-0fc6190579d4>:9: SettingWithCopyWarning: \n",
      "A value is trying to be set on a copy of a slice from a DataFrame\n",
      "\n",
      "See the caveats in the documentation: https://pandas.pydata.org/pandas-docs/stable/user_guide/indexing.html#returning-a-view-versus-a-copy\n",
      "  Describe_df['# Rows <> upper/lower'].loc[i] = count\n",
      "<ipython-input-38-0fc6190579d4>:10: SettingWithCopyWarning: \n",
      "A value is trying to be set on a copy of a slice from a DataFrame\n",
      "\n",
      "See the caveats in the documentation: https://pandas.pydata.org/pandas-docs/stable/user_guide/indexing.html#returning-a-view-versus-a-copy\n",
      "  Describe_df['Upper'].loc[i] = upper\n",
      "<ipython-input-38-0fc6190579d4>:11: SettingWithCopyWarning: \n",
      "A value is trying to be set on a copy of a slice from a DataFrame\n",
      "\n",
      "See the caveats in the documentation: https://pandas.pydata.org/pandas-docs/stable/user_guide/indexing.html#returning-a-view-versus-a-copy\n",
      "  Describe_df['Lower'].loc[i] = lower\n",
      "<ipython-input-38-0fc6190579d4>:7: UserWarning: Boolean Series key will be reindexed to match DataFrame index.\n",
      "  count = df4[(df3[i] > lower) & (df4[i] < upper)]['Home Team'].count()\n",
      "<ipython-input-38-0fc6190579d4>:9: SettingWithCopyWarning: \n",
      "A value is trying to be set on a copy of a slice from a DataFrame\n",
      "\n",
      "See the caveats in the documentation: https://pandas.pydata.org/pandas-docs/stable/user_guide/indexing.html#returning-a-view-versus-a-copy\n",
      "  Describe_df['# Rows <> upper/lower'].loc[i] = count\n",
      "<ipython-input-38-0fc6190579d4>:7: UserWarning: Boolean Series key will be reindexed to match DataFrame index.\n",
      "  count = df4[(df3[i] > lower) & (df4[i] < upper)]['Home Team'].count()\n",
      "<ipython-input-38-0fc6190579d4>:9: SettingWithCopyWarning: \n",
      "A value is trying to be set on a copy of a slice from a DataFrame\n",
      "\n",
      "See the caveats in the documentation: https://pandas.pydata.org/pandas-docs/stable/user_guide/indexing.html#returning-a-view-versus-a-copy\n",
      "  Describe_df['# Rows <> upper/lower'].loc[i] = count\n",
      "<ipython-input-38-0fc6190579d4>:7: UserWarning: Boolean Series key will be reindexed to match DataFrame index.\n",
      "  count = df4[(df3[i] > lower) & (df4[i] < upper)]['Home Team'].count()\n",
      "<ipython-input-38-0fc6190579d4>:9: SettingWithCopyWarning: \n",
      "A value is trying to be set on a copy of a slice from a DataFrame\n",
      "\n",
      "See the caveats in the documentation: https://pandas.pydata.org/pandas-docs/stable/user_guide/indexing.html#returning-a-view-versus-a-copy\n",
      "  Describe_df['# Rows <> upper/lower'].loc[i] = count\n",
      "<ipython-input-38-0fc6190579d4>:7: UserWarning: Boolean Series key will be reindexed to match DataFrame index.\n",
      "  count = df4[(df3[i] > lower) & (df4[i] < upper)]['Home Team'].count()\n",
      "<ipython-input-38-0fc6190579d4>:9: SettingWithCopyWarning: \n",
      "A value is trying to be set on a copy of a slice from a DataFrame\n",
      "\n",
      "See the caveats in the documentation: https://pandas.pydata.org/pandas-docs/stable/user_guide/indexing.html#returning-a-view-versus-a-copy\n",
      "  Describe_df['# Rows <> upper/lower'].loc[i] = count\n",
      "<ipython-input-38-0fc6190579d4>:7: UserWarning: Boolean Series key will be reindexed to match DataFrame index.\n",
      "  count = df4[(df3[i] > lower) & (df4[i] < upper)]['Home Team'].count()\n",
      "<ipython-input-38-0fc6190579d4>:9: SettingWithCopyWarning: \n",
      "A value is trying to be set on a copy of a slice from a DataFrame\n",
      "\n",
      "See the caveats in the documentation: https://pandas.pydata.org/pandas-docs/stable/user_guide/indexing.html#returning-a-view-versus-a-copy\n",
      "  Describe_df['# Rows <> upper/lower'].loc[i] = count\n",
      "<ipython-input-38-0fc6190579d4>:7: UserWarning: Boolean Series key will be reindexed to match DataFrame index.\n",
      "  count = df4[(df3[i] > lower) & (df4[i] < upper)]['Home Team'].count()\n",
      "<ipython-input-38-0fc6190579d4>:9: SettingWithCopyWarning: \n",
      "A value is trying to be set on a copy of a slice from a DataFrame\n",
      "\n",
      "See the caveats in the documentation: https://pandas.pydata.org/pandas-docs/stable/user_guide/indexing.html#returning-a-view-versus-a-copy\n",
      "  Describe_df['# Rows <> upper/lower'].loc[i] = count\n",
      "<ipython-input-38-0fc6190579d4>:7: UserWarning: Boolean Series key will be reindexed to match DataFrame index.\n",
      "  count = df4[(df3[i] > lower) & (df4[i] < upper)]['Home Team'].count()\n",
      "<ipython-input-38-0fc6190579d4>:9: SettingWithCopyWarning: \n",
      "A value is trying to be set on a copy of a slice from a DataFrame\n",
      "\n",
      "See the caveats in the documentation: https://pandas.pydata.org/pandas-docs/stable/user_guide/indexing.html#returning-a-view-versus-a-copy\n",
      "  Describe_df['# Rows <> upper/lower'].loc[i] = count\n",
      "<ipython-input-38-0fc6190579d4>:7: UserWarning: Boolean Series key will be reindexed to match DataFrame index.\n",
      "  count = df4[(df3[i] > lower) & (df4[i] < upper)]['Home Team'].count()\n",
      "<ipython-input-38-0fc6190579d4>:9: SettingWithCopyWarning: \n",
      "A value is trying to be set on a copy of a slice from a DataFrame\n",
      "\n",
      "See the caveats in the documentation: https://pandas.pydata.org/pandas-docs/stable/user_guide/indexing.html#returning-a-view-versus-a-copy\n",
      "  Describe_df['# Rows <> upper/lower'].loc[i] = count\n",
      "<ipython-input-38-0fc6190579d4>:7: UserWarning: Boolean Series key will be reindexed to match DataFrame index.\n",
      "  count = df4[(df3[i] > lower) & (df4[i] < upper)]['Home Team'].count()\n",
      "<ipython-input-38-0fc6190579d4>:9: SettingWithCopyWarning: \n",
      "A value is trying to be set on a copy of a slice from a DataFrame\n",
      "\n",
      "See the caveats in the documentation: https://pandas.pydata.org/pandas-docs/stable/user_guide/indexing.html#returning-a-view-versus-a-copy\n",
      "  Describe_df['# Rows <> upper/lower'].loc[i] = count\n",
      "<ipython-input-38-0fc6190579d4>:7: UserWarning: Boolean Series key will be reindexed to match DataFrame index.\n",
      "  count = df4[(df3[i] > lower) & (df4[i] < upper)]['Home Team'].count()\n",
      "<ipython-input-38-0fc6190579d4>:9: SettingWithCopyWarning: \n",
      "A value is trying to be set on a copy of a slice from a DataFrame\n",
      "\n",
      "See the caveats in the documentation: https://pandas.pydata.org/pandas-docs/stable/user_guide/indexing.html#returning-a-view-versus-a-copy\n",
      "  Describe_df['# Rows <> upper/lower'].loc[i] = count\n",
      "<ipython-input-38-0fc6190579d4>:7: UserWarning: Boolean Series key will be reindexed to match DataFrame index.\n",
      "  count = df4[(df3[i] > lower) & (df4[i] < upper)]['Home Team'].count()\n",
      "<ipython-input-38-0fc6190579d4>:9: SettingWithCopyWarning: \n",
      "A value is trying to be set on a copy of a slice from a DataFrame\n",
      "\n",
      "See the caveats in the documentation: https://pandas.pydata.org/pandas-docs/stable/user_guide/indexing.html#returning-a-view-versus-a-copy\n",
      "  Describe_df['# Rows <> upper/lower'].loc[i] = count\n",
      "<ipython-input-38-0fc6190579d4>:7: UserWarning: Boolean Series key will be reindexed to match DataFrame index.\n",
      "  count = df4[(df3[i] > lower) & (df4[i] < upper)]['Home Team'].count()\n",
      "<ipython-input-38-0fc6190579d4>:9: SettingWithCopyWarning: \n",
      "A value is trying to be set on a copy of a slice from a DataFrame\n",
      "\n",
      "See the caveats in the documentation: https://pandas.pydata.org/pandas-docs/stable/user_guide/indexing.html#returning-a-view-versus-a-copy\n",
      "  Describe_df['# Rows <> upper/lower'].loc[i] = count\n",
      "<ipython-input-38-0fc6190579d4>:7: UserWarning: Boolean Series key will be reindexed to match DataFrame index.\n",
      "  count = df4[(df3[i] > lower) & (df4[i] < upper)]['Home Team'].count()\n",
      "<ipython-input-38-0fc6190579d4>:9: SettingWithCopyWarning: \n",
      "A value is trying to be set on a copy of a slice from a DataFrame\n",
      "\n",
      "See the caveats in the documentation: https://pandas.pydata.org/pandas-docs/stable/user_guide/indexing.html#returning-a-view-versus-a-copy\n",
      "  Describe_df['# Rows <> upper/lower'].loc[i] = count\n",
      "<ipython-input-38-0fc6190579d4>:7: UserWarning: Boolean Series key will be reindexed to match DataFrame index.\n",
      "  count = df4[(df3[i] > lower) & (df4[i] < upper)]['Home Team'].count()\n",
      "<ipython-input-38-0fc6190579d4>:9: SettingWithCopyWarning: \n",
      "A value is trying to be set on a copy of a slice from a DataFrame\n",
      "\n",
      "See the caveats in the documentation: https://pandas.pydata.org/pandas-docs/stable/user_guide/indexing.html#returning-a-view-versus-a-copy\n",
      "  Describe_df['# Rows <> upper/lower'].loc[i] = count\n",
      "<ipython-input-38-0fc6190579d4>:7: UserWarning: Boolean Series key will be reindexed to match DataFrame index.\n",
      "  count = df4[(df3[i] > lower) & (df4[i] < upper)]['Home Team'].count()\n",
      "<ipython-input-38-0fc6190579d4>:9: SettingWithCopyWarning: \n",
      "A value is trying to be set on a copy of a slice from a DataFrame\n",
      "\n",
      "See the caveats in the documentation: https://pandas.pydata.org/pandas-docs/stable/user_guide/indexing.html#returning-a-view-versus-a-copy\n",
      "  Describe_df['# Rows <> upper/lower'].loc[i] = count\n",
      "<ipython-input-38-0fc6190579d4>:7: UserWarning: Boolean Series key will be reindexed to match DataFrame index.\n",
      "  count = df4[(df3[i] > lower) & (df4[i] < upper)]['Home Team'].count()\n",
      "<ipython-input-38-0fc6190579d4>:9: SettingWithCopyWarning: \n",
      "A value is trying to be set on a copy of a slice from a DataFrame\n",
      "\n",
      "See the caveats in the documentation: https://pandas.pydata.org/pandas-docs/stable/user_guide/indexing.html#returning-a-view-versus-a-copy\n",
      "  Describe_df['# Rows <> upper/lower'].loc[i] = count\n",
      "<ipython-input-38-0fc6190579d4>:7: UserWarning: Boolean Series key will be reindexed to match DataFrame index.\n",
      "  count = df4[(df3[i] > lower) & (df4[i] < upper)]['Home Team'].count()\n",
      "<ipython-input-38-0fc6190579d4>:9: SettingWithCopyWarning: \n",
      "A value is trying to be set on a copy of a slice from a DataFrame\n",
      "\n",
      "See the caveats in the documentation: https://pandas.pydata.org/pandas-docs/stable/user_guide/indexing.html#returning-a-view-versus-a-copy\n",
      "  Describe_df['# Rows <> upper/lower'].loc[i] = count\n",
      "<ipython-input-38-0fc6190579d4>:7: UserWarning: Boolean Series key will be reindexed to match DataFrame index.\n",
      "  count = df4[(df3[i] > lower) & (df4[i] < upper)]['Home Team'].count()\n",
      "<ipython-input-38-0fc6190579d4>:9: SettingWithCopyWarning: \n",
      "A value is trying to be set on a copy of a slice from a DataFrame\n",
      "\n",
      "See the caveats in the documentation: https://pandas.pydata.org/pandas-docs/stable/user_guide/indexing.html#returning-a-view-versus-a-copy\n",
      "  Describe_df['# Rows <> upper/lower'].loc[i] = count\n"
     ]
    },
    {
     "name": "stderr",
     "output_type": "stream",
     "text": [
      "<ipython-input-38-0fc6190579d4>:7: UserWarning: Boolean Series key will be reindexed to match DataFrame index.\n",
      "  count = df4[(df3[i] > lower) & (df4[i] < upper)]['Home Team'].count()\n",
      "<ipython-input-38-0fc6190579d4>:9: SettingWithCopyWarning: \n",
      "A value is trying to be set on a copy of a slice from a DataFrame\n",
      "\n",
      "See the caveats in the documentation: https://pandas.pydata.org/pandas-docs/stable/user_guide/indexing.html#returning-a-view-versus-a-copy\n",
      "  Describe_df['# Rows <> upper/lower'].loc[i] = count\n",
      "<ipython-input-38-0fc6190579d4>:7: UserWarning: Boolean Series key will be reindexed to match DataFrame index.\n",
      "  count = df4[(df3[i] > lower) & (df4[i] < upper)]['Home Team'].count()\n",
      "<ipython-input-38-0fc6190579d4>:9: SettingWithCopyWarning: \n",
      "A value is trying to be set on a copy of a slice from a DataFrame\n",
      "\n",
      "See the caveats in the documentation: https://pandas.pydata.org/pandas-docs/stable/user_guide/indexing.html#returning-a-view-versus-a-copy\n",
      "  Describe_df['# Rows <> upper/lower'].loc[i] = count\n",
      "<ipython-input-38-0fc6190579d4>:7: UserWarning: Boolean Series key will be reindexed to match DataFrame index.\n",
      "  count = df4[(df3[i] > lower) & (df4[i] < upper)]['Home Team'].count()\n",
      "<ipython-input-38-0fc6190579d4>:9: SettingWithCopyWarning: \n",
      "A value is trying to be set on a copy of a slice from a DataFrame\n",
      "\n",
      "See the caveats in the documentation: https://pandas.pydata.org/pandas-docs/stable/user_guide/indexing.html#returning-a-view-versus-a-copy\n",
      "  Describe_df['# Rows <> upper/lower'].loc[i] = count\n",
      "<ipython-input-38-0fc6190579d4>:7: UserWarning: Boolean Series key will be reindexed to match DataFrame index.\n",
      "  count = df4[(df3[i] > lower) & (df4[i] < upper)]['Home Team'].count()\n",
      "<ipython-input-38-0fc6190579d4>:9: SettingWithCopyWarning: \n",
      "A value is trying to be set on a copy of a slice from a DataFrame\n",
      "\n",
      "See the caveats in the documentation: https://pandas.pydata.org/pandas-docs/stable/user_guide/indexing.html#returning-a-view-versus-a-copy\n",
      "  Describe_df['# Rows <> upper/lower'].loc[i] = count\n",
      "<ipython-input-38-0fc6190579d4>:7: UserWarning: Boolean Series key will be reindexed to match DataFrame index.\n",
      "  count = df4[(df3[i] > lower) & (df4[i] < upper)]['Home Team'].count()\n",
      "<ipython-input-38-0fc6190579d4>:9: SettingWithCopyWarning: \n",
      "A value is trying to be set on a copy of a slice from a DataFrame\n",
      "\n",
      "See the caveats in the documentation: https://pandas.pydata.org/pandas-docs/stable/user_guide/indexing.html#returning-a-view-versus-a-copy\n",
      "  Describe_df['# Rows <> upper/lower'].loc[i] = count\n",
      "<ipython-input-38-0fc6190579d4>:7: UserWarning: Boolean Series key will be reindexed to match DataFrame index.\n",
      "  count = df4[(df3[i] > lower) & (df4[i] < upper)]['Home Team'].count()\n",
      "<ipython-input-38-0fc6190579d4>:9: SettingWithCopyWarning: \n",
      "A value is trying to be set on a copy of a slice from a DataFrame\n",
      "\n",
      "See the caveats in the documentation: https://pandas.pydata.org/pandas-docs/stable/user_guide/indexing.html#returning-a-view-versus-a-copy\n",
      "  Describe_df['# Rows <> upper/lower'].loc[i] = count\n",
      "<ipython-input-38-0fc6190579d4>:7: UserWarning: Boolean Series key will be reindexed to match DataFrame index.\n",
      "  count = df4[(df3[i] > lower) & (df4[i] < upper)]['Home Team'].count()\n",
      "<ipython-input-38-0fc6190579d4>:9: SettingWithCopyWarning: \n",
      "A value is trying to be set on a copy of a slice from a DataFrame\n",
      "\n",
      "See the caveats in the documentation: https://pandas.pydata.org/pandas-docs/stable/user_guide/indexing.html#returning-a-view-versus-a-copy\n",
      "  Describe_df['# Rows <> upper/lower'].loc[i] = count\n",
      "<ipython-input-38-0fc6190579d4>:7: UserWarning: Boolean Series key will be reindexed to match DataFrame index.\n",
      "  count = df4[(df3[i] > lower) & (df4[i] < upper)]['Home Team'].count()\n",
      "<ipython-input-38-0fc6190579d4>:9: SettingWithCopyWarning: \n",
      "A value is trying to be set on a copy of a slice from a DataFrame\n",
      "\n",
      "See the caveats in the documentation: https://pandas.pydata.org/pandas-docs/stable/user_guide/indexing.html#returning-a-view-versus-a-copy\n",
      "  Describe_df['# Rows <> upper/lower'].loc[i] = count\n",
      "<ipython-input-38-0fc6190579d4>:7: UserWarning: Boolean Series key will be reindexed to match DataFrame index.\n",
      "  count = df4[(df3[i] > lower) & (df4[i] < upper)]['Home Team'].count()\n",
      "<ipython-input-38-0fc6190579d4>:9: SettingWithCopyWarning: \n",
      "A value is trying to be set on a copy of a slice from a DataFrame\n",
      "\n",
      "See the caveats in the documentation: https://pandas.pydata.org/pandas-docs/stable/user_guide/indexing.html#returning-a-view-versus-a-copy\n",
      "  Describe_df['# Rows <> upper/lower'].loc[i] = count\n",
      "<ipython-input-38-0fc6190579d4>:7: UserWarning: Boolean Series key will be reindexed to match DataFrame index.\n",
      "  count = df4[(df3[i] > lower) & (df4[i] < upper)]['Home Team'].count()\n",
      "<ipython-input-38-0fc6190579d4>:9: SettingWithCopyWarning: \n",
      "A value is trying to be set on a copy of a slice from a DataFrame\n",
      "\n",
      "See the caveats in the documentation: https://pandas.pydata.org/pandas-docs/stable/user_guide/indexing.html#returning-a-view-versus-a-copy\n",
      "  Describe_df['# Rows <> upper/lower'].loc[i] = count\n",
      "<ipython-input-38-0fc6190579d4>:7: UserWarning: Boolean Series key will be reindexed to match DataFrame index.\n",
      "  count = df4[(df3[i] > lower) & (df4[i] < upper)]['Home Team'].count()\n",
      "<ipython-input-38-0fc6190579d4>:9: SettingWithCopyWarning: \n",
      "A value is trying to be set on a copy of a slice from a DataFrame\n",
      "\n",
      "See the caveats in the documentation: https://pandas.pydata.org/pandas-docs/stable/user_guide/indexing.html#returning-a-view-versus-a-copy\n",
      "  Describe_df['# Rows <> upper/lower'].loc[i] = count\n",
      "<ipython-input-38-0fc6190579d4>:7: UserWarning: Boolean Series key will be reindexed to match DataFrame index.\n",
      "  count = df4[(df3[i] > lower) & (df4[i] < upper)]['Home Team'].count()\n",
      "<ipython-input-38-0fc6190579d4>:9: SettingWithCopyWarning: \n",
      "A value is trying to be set on a copy of a slice from a DataFrame\n",
      "\n",
      "See the caveats in the documentation: https://pandas.pydata.org/pandas-docs/stable/user_guide/indexing.html#returning-a-view-versus-a-copy\n",
      "  Describe_df['# Rows <> upper/lower'].loc[i] = count\n",
      "<ipython-input-38-0fc6190579d4>:7: UserWarning: Boolean Series key will be reindexed to match DataFrame index.\n",
      "  count = df4[(df3[i] > lower) & (df4[i] < upper)]['Home Team'].count()\n",
      "<ipython-input-38-0fc6190579d4>:9: SettingWithCopyWarning: \n",
      "A value is trying to be set on a copy of a slice from a DataFrame\n",
      "\n",
      "See the caveats in the documentation: https://pandas.pydata.org/pandas-docs/stable/user_guide/indexing.html#returning-a-view-versus-a-copy\n",
      "  Describe_df['# Rows <> upper/lower'].loc[i] = count\n",
      "<ipython-input-38-0fc6190579d4>:7: UserWarning: Boolean Series key will be reindexed to match DataFrame index.\n",
      "  count = df4[(df3[i] > lower) & (df4[i] < upper)]['Home Team'].count()\n",
      "<ipython-input-38-0fc6190579d4>:9: SettingWithCopyWarning: \n",
      "A value is trying to be set on a copy of a slice from a DataFrame\n",
      "\n",
      "See the caveats in the documentation: https://pandas.pydata.org/pandas-docs/stable/user_guide/indexing.html#returning-a-view-versus-a-copy\n",
      "  Describe_df['# Rows <> upper/lower'].loc[i] = count\n"
     ]
    }
   ],
   "source": [
    "\n",
    "for i in df4.columns:\n",
    "    if df4[i].dtypes == 'float64':\n",
    "        mean = df4[i].mean()\n",
    "        std =df4[i].std()\n",
    "        lower = mean + (-3 *std)\n",
    "        upper = mean + (3*std)\n",
    "        count = df4[(df3[i] > lower) & (df4[i] < upper)]['Home Team'].count()\n",
    "        #print('Feature:',i, \"\\n\"' Rows: ', count,' Mean: ', mean,\"\\n\" ' Std: ', std, ' Upper: ', upper,' Lower: ', lower, )\n",
    "        Describe_df['# Rows <> upper/lower'].loc[i] = count\n",
    "        Describe_df['Upper'].loc[i] = upper\n",
    "        Describe_df['Lower'].loc[i] = lower\n",
    "        "
   ]
  },
  {
   "cell_type": "code",
   "execution_count": 39,
   "id": "3d2c2611",
   "metadata": {},
   "outputs": [],
   "source": [
    "#As shown below, we can see that for Home Team Spread_x that there are 928/928 rows within the upper and lower limits (mean +3 std / mean -3*std)\n",
    "\n",
    "#Overall there are few outliers, which will positively impact the model's performance. \n",
    "\n",
    "#(The 0's are due to being non-float-64 inputs, thus ignored in calculation)."
   ]
  },
  {
   "cell_type": "code",
   "execution_count": 40,
   "id": "89a07329",
   "metadata": {},
   "outputs": [
    {
     "data": {
      "text/html": [
       "<div>\n",
       "<style scoped>\n",
       "    .dataframe tbody tr th:only-of-type {\n",
       "        vertical-align: middle;\n",
       "    }\n",
       "\n",
       "    .dataframe tbody tr th {\n",
       "        vertical-align: top;\n",
       "    }\n",
       "\n",
       "    .dataframe thead th {\n",
       "        text-align: right;\n",
       "    }\n",
       "</style>\n",
       "<table border=\"1\" class=\"dataframe\">\n",
       "  <thead>\n",
       "    <tr style=\"text-align: right;\">\n",
       "      <th></th>\n",
       "      <th>count</th>\n",
       "      <th>mean</th>\n",
       "      <th>std</th>\n",
       "      <th>min</th>\n",
       "      <th>25%</th>\n",
       "      <th>50%</th>\n",
       "      <th>75%</th>\n",
       "      <th>max</th>\n",
       "      <th># Rows &lt;&gt; upper/lower</th>\n",
       "      <th>Upper</th>\n",
       "      <th>Lower</th>\n",
       "    </tr>\n",
       "  </thead>\n",
       "  <tbody>\n",
       "    <tr>\n",
       "      <th>Home Team Spread_x</th>\n",
       "      <td>928.0</td>\n",
       "      <td>-2.789332</td>\n",
       "      <td>13.285394</td>\n",
       "      <td>-41.500000</td>\n",
       "      <td>-12.500000</td>\n",
       "      <td>-3.000000</td>\n",
       "      <td>6.500000</td>\n",
       "      <td>36.000000</td>\n",
       "      <td>928</td>\n",
       "      <td>37.066849</td>\n",
       "      <td>-42.645513</td>\n",
       "    </tr>\n",
       "    <tr>\n",
       "      <th>Away Team Spread_x</th>\n",
       "      <td>928.0</td>\n",
       "      <td>2.789332</td>\n",
       "      <td>13.285394</td>\n",
       "      <td>-36.000000</td>\n",
       "      <td>-6.500000</td>\n",
       "      <td>3.000000</td>\n",
       "      <td>12.500000</td>\n",
       "      <td>41.500000</td>\n",
       "      <td>928</td>\n",
       "      <td>42.645513</td>\n",
       "      <td>-37.066849</td>\n",
       "    </tr>\n",
       "    <tr>\n",
       "      <th>Total_x</th>\n",
       "      <td>928.0</td>\n",
       "      <td>51.568966</td>\n",
       "      <td>8.111918</td>\n",
       "      <td>27.000000</td>\n",
       "      <td>45.500000</td>\n",
       "      <td>50.500000</td>\n",
       "      <td>56.500000</td>\n",
       "      <td>82.500000</td>\n",
       "      <td>922</td>\n",
       "      <td>75.904721</td>\n",
       "      <td>27.233210</td>\n",
       "    </tr>\n",
       "    <tr>\n",
       "      <th>Home Score_x_x</th>\n",
       "      <td>928.0</td>\n",
       "      <td>26.995690</td>\n",
       "      <td>13.461759</td>\n",
       "      <td>0.000000</td>\n",
       "      <td>17.000000</td>\n",
       "      <td>27.000000</td>\n",
       "      <td>37.000000</td>\n",
       "      <td>74.000000</td>\n",
       "      <td>927</td>\n",
       "      <td>67.380968</td>\n",
       "      <td>-13.389589</td>\n",
       "    </tr>\n",
       "    <tr>\n",
       "      <th>Rolling 5 Past H&amp;A Score Avg_Home_Team</th>\n",
       "      <td>928.0</td>\n",
       "      <td>25.568534</td>\n",
       "      <td>8.521880</td>\n",
       "      <td>6.600000</td>\n",
       "      <td>19.800000</td>\n",
       "      <td>24.800000</td>\n",
       "      <td>30.400000</td>\n",
       "      <td>52.200000</td>\n",
       "      <td>926</td>\n",
       "      <td>51.134175</td>\n",
       "      <td>0.002894</td>\n",
       "    </tr>\n",
       "    <tr>\n",
       "      <th>Rolling 5 Past H&amp;A 1st Downs Avg_Home_Team</th>\n",
       "      <td>928.0</td>\n",
       "      <td>19.651078</td>\n",
       "      <td>3.543245</td>\n",
       "      <td>9.400000</td>\n",
       "      <td>17.400000</td>\n",
       "      <td>19.400000</td>\n",
       "      <td>22.000000</td>\n",
       "      <td>31.000000</td>\n",
       "      <td>925</td>\n",
       "      <td>30.280812</td>\n",
       "      <td>9.021343</td>\n",
       "    </tr>\n",
       "    <tr>\n",
       "      <th>Rolling 5 Past H&amp;A Total Yards Avg_Home_Team</th>\n",
       "      <td>928.0</td>\n",
       "      <td>372.633621</td>\n",
       "      <td>75.668510</td>\n",
       "      <td>191.400000</td>\n",
       "      <td>320.150000</td>\n",
       "      <td>372.000000</td>\n",
       "      <td>422.050000</td>\n",
       "      <td>597.400000</td>\n",
       "      <td>928</td>\n",
       "      <td>599.639151</td>\n",
       "      <td>145.628091</td>\n",
       "    </tr>\n",
       "    <tr>\n",
       "      <th>Rolling 5 Past H&amp;A Yards per Pass Avg_Home_Team</th>\n",
       "      <td>928.0</td>\n",
       "      <td>7.223793</td>\n",
       "      <td>1.478296</td>\n",
       "      <td>3.600000</td>\n",
       "      <td>6.240000</td>\n",
       "      <td>7.140000</td>\n",
       "      <td>8.160000</td>\n",
       "      <td>12.860000</td>\n",
       "      <td>924</td>\n",
       "      <td>11.658680</td>\n",
       "      <td>2.788906</td>\n",
       "    </tr>\n",
       "    <tr>\n",
       "      <th>Rolling 5 Past H&amp;A Spread Avg_Home_Team</th>\n",
       "      <td>928.0</td>\n",
       "      <td>0.259052</td>\n",
       "      <td>9.646568</td>\n",
       "      <td>-29.500000</td>\n",
       "      <td>-6.200000</td>\n",
       "      <td>0.450000</td>\n",
       "      <td>7.100000</td>\n",
       "      <td>26.100000</td>\n",
       "      <td>926</td>\n",
       "      <td>29.198755</td>\n",
       "      <td>-28.680652</td>\n",
       "    </tr>\n",
       "    <tr>\n",
       "      <th>Rolling 5 Past H&amp;A Spread Min_Home_Team</th>\n",
       "      <td>928.0</td>\n",
       "      <td>-11.655711</td>\n",
       "      <td>10.701513</td>\n",
       "      <td>-41.500000</td>\n",
       "      <td>-18.000000</td>\n",
       "      <td>-12.000000</td>\n",
       "      <td>-3.500000</td>\n",
       "      <td>16.500000</td>\n",
       "      <td>928</td>\n",
       "      <td>20.448828</td>\n",
       "      <td>-43.760251</td>\n",
       "    </tr>\n",
       "    <tr>\n",
       "      <th>Rolling 5 Past H&amp;A HI REC yrds Avg_Home_Team</th>\n",
       "      <td>928.0</td>\n",
       "      <td>82.455908</td>\n",
       "      <td>24.512998</td>\n",
       "      <td>31.000000</td>\n",
       "      <td>64.750000</td>\n",
       "      <td>80.500000</td>\n",
       "      <td>97.050000</td>\n",
       "      <td>177.800000</td>\n",
       "      <td>920</td>\n",
       "      <td>155.994902</td>\n",
       "      <td>8.916914</td>\n",
       "    </tr>\n",
       "    <tr>\n",
       "      <th>Rolling 5 Past H&amp;A Conf T Wins_Home_Team</th>\n",
       "      <td>928.0</td>\n",
       "      <td>11.727371</td>\n",
       "      <td>7.357420</td>\n",
       "      <td>0.000000</td>\n",
       "      <td>6.000000</td>\n",
       "      <td>11.000000</td>\n",
       "      <td>16.000000</td>\n",
       "      <td>38.000000</td>\n",
       "      <td>920</td>\n",
       "      <td>33.799632</td>\n",
       "      <td>-10.344890</td>\n",
       "    </tr>\n",
       "    <tr>\n",
       "      <th>Rolling 5 Past H&amp;A 3rd Down Conversion % Avg_Home_Team</th>\n",
       "      <td>928.0</td>\n",
       "      <td>0.379492</td>\n",
       "      <td>0.080560</td>\n",
       "      <td>0.135321</td>\n",
       "      <td>0.325894</td>\n",
       "      <td>0.374659</td>\n",
       "      <td>0.426112</td>\n",
       "      <td>0.641868</td>\n",
       "      <td>922</td>\n",
       "      <td>0.621173</td>\n",
       "      <td>0.137812</td>\n",
       "    </tr>\n",
       "    <tr>\n",
       "      <th>Rolling 5 Past H&amp;A Completion % Avg_Home_Team</th>\n",
       "      <td>928.0</td>\n",
       "      <td>0.584386</td>\n",
       "      <td>0.069683</td>\n",
       "      <td>0.363158</td>\n",
       "      <td>0.539862</td>\n",
       "      <td>0.581028</td>\n",
       "      <td>0.632171</td>\n",
       "      <td>0.781593</td>\n",
       "      <td>927</td>\n",
       "      <td>0.793436</td>\n",
       "      <td>0.375336</td>\n",
       "    </tr>\n",
       "    <tr>\n",
       "      <th>Rolling 5 Past H&amp;A Q1 Score Avg_Home_Team</th>\n",
       "      <td>928.0</td>\n",
       "      <td>5.550431</td>\n",
       "      <td>3.031037</td>\n",
       "      <td>0.000000</td>\n",
       "      <td>3.400000</td>\n",
       "      <td>5.200000</td>\n",
       "      <td>7.000000</td>\n",
       "      <td>18.800000</td>\n",
       "      <td>914</td>\n",
       "      <td>14.643542</td>\n",
       "      <td>-3.542679</td>\n",
       "    </tr>\n",
       "    <tr>\n",
       "      <th>Rolling 5 Past H&amp;A Ranking Avg_Home_Team</th>\n",
       "      <td>928.0</td>\n",
       "      <td>57.667026</td>\n",
       "      <td>40.048462</td>\n",
       "      <td>1.000000</td>\n",
       "      <td>12.000000</td>\n",
       "      <td>65.800000</td>\n",
       "      <td>99.000000</td>\n",
       "      <td>99.000000</td>\n",
       "      <td>928</td>\n",
       "      <td>177.812412</td>\n",
       "      <td>-62.478360</td>\n",
       "    </tr>\n",
       "    <tr>\n",
       "      <th>Rolling 5 Past H&amp;A Season T Losses_Away_Team</th>\n",
       "      <td>928.0</td>\n",
       "      <td>13.302802</td>\n",
       "      <td>8.275848</td>\n",
       "      <td>0.000000</td>\n",
       "      <td>7.000000</td>\n",
       "      <td>13.000000</td>\n",
       "      <td>19.000000</td>\n",
       "      <td>40.000000</td>\n",
       "      <td>926</td>\n",
       "      <td>38.130345</td>\n",
       "      <td>-11.524742</td>\n",
       "    </tr>\n",
       "    <tr>\n",
       "      <th>Away Score_x_x</th>\n",
       "      <td>928.0</td>\n",
       "      <td>24.303879</td>\n",
       "      <td>13.972399</td>\n",
       "      <td>0.000000</td>\n",
       "      <td>14.000000</td>\n",
       "      <td>23.000000</td>\n",
       "      <td>34.000000</td>\n",
       "      <td>72.000000</td>\n",
       "      <td>927</td>\n",
       "      <td>66.221078</td>\n",
       "      <td>-17.613319</td>\n",
       "    </tr>\n",
       "    <tr>\n",
       "      <th>Rolling 5 Past H&amp;A Score Avg_Away_Team</th>\n",
       "      <td>928.0</td>\n",
       "      <td>25.680388</td>\n",
       "      <td>8.249871</td>\n",
       "      <td>6.600000</td>\n",
       "      <td>20.200000</td>\n",
       "      <td>25.200000</td>\n",
       "      <td>30.800000</td>\n",
       "      <td>53.800000</td>\n",
       "      <td>924</td>\n",
       "      <td>50.430001</td>\n",
       "      <td>0.930775</td>\n",
       "    </tr>\n",
       "    <tr>\n",
       "      <th>Rolling 5 Past H&amp;A 1st Downs Avg_Away_Team</th>\n",
       "      <td>928.0</td>\n",
       "      <td>19.725862</td>\n",
       "      <td>3.395895</td>\n",
       "      <td>9.200000</td>\n",
       "      <td>17.600000</td>\n",
       "      <td>19.600000</td>\n",
       "      <td>21.800000</td>\n",
       "      <td>31.400000</td>\n",
       "      <td>925</td>\n",
       "      <td>29.913547</td>\n",
       "      <td>9.538177</td>\n",
       "    </tr>\n",
       "    <tr>\n",
       "      <th>Rolling 5 Past H&amp;A Total Yards Avg_Away_Team</th>\n",
       "      <td>928.0</td>\n",
       "      <td>373.595259</td>\n",
       "      <td>73.299964</td>\n",
       "      <td>190.400000</td>\n",
       "      <td>328.850000</td>\n",
       "      <td>370.900000</td>\n",
       "      <td>421.250000</td>\n",
       "      <td>611.400000</td>\n",
       "      <td>926</td>\n",
       "      <td>593.495151</td>\n",
       "      <td>153.695367</td>\n",
       "    </tr>\n",
       "    <tr>\n",
       "      <th>Rolling 5 Past H&amp;A Yards per Pass Avg_Away_Team</th>\n",
       "      <td>928.0</td>\n",
       "      <td>7.250237</td>\n",
       "      <td>1.472734</td>\n",
       "      <td>3.380000</td>\n",
       "      <td>6.220000</td>\n",
       "      <td>7.180000</td>\n",
       "      <td>8.165000</td>\n",
       "      <td>13.640000</td>\n",
       "      <td>925</td>\n",
       "      <td>11.668439</td>\n",
       "      <td>2.832035</td>\n",
       "    </tr>\n",
       "    <tr>\n",
       "      <th>Rolling 5 Past H&amp;A Spread Avg_Away_Team</th>\n",
       "      <td>928.0</td>\n",
       "      <td>-0.408405</td>\n",
       "      <td>9.686150</td>\n",
       "      <td>-29.700000</td>\n",
       "      <td>-6.600000</td>\n",
       "      <td>-0.050000</td>\n",
       "      <td>6.800000</td>\n",
       "      <td>27.100000</td>\n",
       "      <td>927</td>\n",
       "      <td>28.650045</td>\n",
       "      <td>-29.466856</td>\n",
       "    </tr>\n",
       "    <tr>\n",
       "      <th>Rolling 5 Past H&amp;A Spread Min_Away_Team</th>\n",
       "      <td>928.0</td>\n",
       "      <td>-12.549569</td>\n",
       "      <td>10.591423</td>\n",
       "      <td>-41.500000</td>\n",
       "      <td>-18.500000</td>\n",
       "      <td>-13.000000</td>\n",
       "      <td>-5.000000</td>\n",
       "      <td>16.000000</td>\n",
       "      <td>928</td>\n",
       "      <td>19.224699</td>\n",
       "      <td>-44.323836</td>\n",
       "    </tr>\n",
       "    <tr>\n",
       "      <th>Rolling 5 Past H&amp;A HI REC yrds Avg_Away_Team</th>\n",
       "      <td>928.0</td>\n",
       "      <td>82.396776</td>\n",
       "      <td>24.041716</td>\n",
       "      <td>28.200000</td>\n",
       "      <td>65.950000</td>\n",
       "      <td>80.300000</td>\n",
       "      <td>96.800000</td>\n",
       "      <td>180.000000</td>\n",
       "      <td>922</td>\n",
       "      <td>154.521926</td>\n",
       "      <td>10.271627</td>\n",
       "    </tr>\n",
       "    <tr>\n",
       "      <th>Rolling 5 Past H&amp;A Conf T Wins_Away_Team</th>\n",
       "      <td>928.0</td>\n",
       "      <td>11.917026</td>\n",
       "      <td>7.602064</td>\n",
       "      <td>0.000000</td>\n",
       "      <td>6.000000</td>\n",
       "      <td>11.000000</td>\n",
       "      <td>16.000000</td>\n",
       "      <td>44.000000</td>\n",
       "      <td>924</td>\n",
       "      <td>34.723219</td>\n",
       "      <td>-10.889167</td>\n",
       "    </tr>\n",
       "    <tr>\n",
       "      <th>Rolling 5 Past H&amp;A 3rd Down Conversion % Avg_Away_Team</th>\n",
       "      <td>928.0</td>\n",
       "      <td>0.381697</td>\n",
       "      <td>0.077353</td>\n",
       "      <td>0.134222</td>\n",
       "      <td>0.328786</td>\n",
       "      <td>0.377871</td>\n",
       "      <td>0.429435</td>\n",
       "      <td>0.673359</td>\n",
       "      <td>924</td>\n",
       "      <td>0.613755</td>\n",
       "      <td>0.149639</td>\n",
       "    </tr>\n",
       "    <tr>\n",
       "      <th>Rolling 5 Past H&amp;A Completion % Avg_Away_Team</th>\n",
       "      <td>928.0</td>\n",
       "      <td>0.584175</td>\n",
       "      <td>0.067674</td>\n",
       "      <td>0.379942</td>\n",
       "      <td>0.541941</td>\n",
       "      <td>0.585694</td>\n",
       "      <td>0.630628</td>\n",
       "      <td>0.766055</td>\n",
       "      <td>927</td>\n",
       "      <td>0.787198</td>\n",
       "      <td>0.381152</td>\n",
       "    </tr>\n",
       "    <tr>\n",
       "      <th>Rolling 5 Past H&amp;A Q1 Score Avg_Away_Team</th>\n",
       "      <td>928.0</td>\n",
       "      <td>5.653017</td>\n",
       "      <td>3.023980</td>\n",
       "      <td>0.000000</td>\n",
       "      <td>3.400000</td>\n",
       "      <td>5.000000</td>\n",
       "      <td>7.400000</td>\n",
       "      <td>21.000000</td>\n",
       "      <td>917</td>\n",
       "      <td>14.724958</td>\n",
       "      <td>-3.418924</td>\n",
       "    </tr>\n",
       "    <tr>\n",
       "      <th>Rolling 5 Past H&amp;A Ranking Avg_Away_Team</th>\n",
       "      <td>928.0</td>\n",
       "      <td>58.641164</td>\n",
       "      <td>39.638082</td>\n",
       "      <td>1.000000</td>\n",
       "      <td>13.200000</td>\n",
       "      <td>66.800000</td>\n",
       "      <td>99.000000</td>\n",
       "      <td>99.000000</td>\n",
       "      <td>928</td>\n",
       "      <td>177.555410</td>\n",
       "      <td>-60.273082</td>\n",
       "    </tr>\n",
       "    <tr>\n",
       "      <th>Rolling 5 Past H&amp;A Season T Losses_Home_Team</th>\n",
       "      <td>928.0</td>\n",
       "      <td>13.346983</td>\n",
       "      <td>8.409957</td>\n",
       "      <td>0.000000</td>\n",
       "      <td>7.000000</td>\n",
       "      <td>12.000000</td>\n",
       "      <td>19.000000</td>\n",
       "      <td>40.000000</td>\n",
       "      <td>927</td>\n",
       "      <td>38.576852</td>\n",
       "      <td>-11.882887</td>\n",
       "    </tr>\n",
       "    <tr>\n",
       "      <th>Home Team Ranking_x</th>\n",
       "      <td>928.0</td>\n",
       "      <td>58.510776</td>\n",
       "      <td>44.433919</td>\n",
       "      <td>1.000000</td>\n",
       "      <td>10.000000</td>\n",
       "      <td>99.000000</td>\n",
       "      <td>99.000000</td>\n",
       "      <td>99.000000</td>\n",
       "      <td>0</td>\n",
       "      <td>0.000000</td>\n",
       "      <td>0.000000</td>\n",
       "    </tr>\n",
       "    <tr>\n",
       "      <th>Away Team Ranking_x</th>\n",
       "      <td>928.0</td>\n",
       "      <td>57.703664</td>\n",
       "      <td>44.457214</td>\n",
       "      <td>1.000000</td>\n",
       "      <td>10.000000</td>\n",
       "      <td>99.000000</td>\n",
       "      <td>99.000000</td>\n",
       "      <td>99.000000</td>\n",
       "      <td>0</td>\n",
       "      <td>0.000000</td>\n",
       "      <td>0.000000</td>\n",
       "    </tr>\n",
       "    <tr>\n",
       "      <th>Previous H&amp;A Ranking_Home_Team</th>\n",
       "      <td>928.0</td>\n",
       "      <td>57.417026</td>\n",
       "      <td>44.560682</td>\n",
       "      <td>1.000000</td>\n",
       "      <td>10.000000</td>\n",
       "      <td>99.000000</td>\n",
       "      <td>99.000000</td>\n",
       "      <td>99.000000</td>\n",
       "      <td>928</td>\n",
       "      <td>191.099072</td>\n",
       "      <td>-76.265020</td>\n",
       "    </tr>\n",
       "    <tr>\n",
       "      <th>Previous H&amp;A Ranking_Away_Team</th>\n",
       "      <td>928.0</td>\n",
       "      <td>58.734914</td>\n",
       "      <td>44.295136</td>\n",
       "      <td>1.000000</td>\n",
       "      <td>11.000000</td>\n",
       "      <td>99.000000</td>\n",
       "      <td>99.000000</td>\n",
       "      <td>99.000000</td>\n",
       "      <td>928</td>\n",
       "      <td>191.620323</td>\n",
       "      <td>-74.150495</td>\n",
       "    </tr>\n",
       "    <tr>\n",
       "      <th>Year</th>\n",
       "      <td>928.0</td>\n",
       "      <td>2013.322198</td>\n",
       "      <td>4.943768</td>\n",
       "      <td>2004.000000</td>\n",
       "      <td>2009.000000</td>\n",
       "      <td>2013.500000</td>\n",
       "      <td>2018.000000</td>\n",
       "      <td>2021.000000</td>\n",
       "      <td>0</td>\n",
       "      <td>0.000000</td>\n",
       "      <td>0.000000</td>\n",
       "    </tr>\n",
       "  </tbody>\n",
       "</table>\n",
       "</div>"
      ],
      "text/plain": [
       "                                                    count         mean  \\\n",
       "Home Team Spread_x                                  928.0    -2.789332   \n",
       "Away Team Spread_x                                  928.0     2.789332   \n",
       "Total_x                                             928.0    51.568966   \n",
       "Home Score_x_x                                      928.0    26.995690   \n",
       "Rolling 5 Past H&A Score Avg_Home_Team              928.0    25.568534   \n",
       "Rolling 5 Past H&A 1st Downs Avg_Home_Team          928.0    19.651078   \n",
       "Rolling 5 Past H&A Total Yards Avg_Home_Team        928.0   372.633621   \n",
       "Rolling 5 Past H&A Yards per Pass Avg_Home_Team     928.0     7.223793   \n",
       "Rolling 5 Past H&A Spread Avg_Home_Team             928.0     0.259052   \n",
       "Rolling 5 Past H&A Spread Min_Home_Team             928.0   -11.655711   \n",
       "Rolling 5 Past H&A HI REC yrds Avg_Home_Team        928.0    82.455908   \n",
       "Rolling 5 Past H&A Conf T Wins_Home_Team            928.0    11.727371   \n",
       "Rolling 5 Past H&A 3rd Down Conversion % Avg_Ho...  928.0     0.379492   \n",
       "Rolling 5 Past H&A Completion % Avg_Home_Team       928.0     0.584386   \n",
       "Rolling 5 Past H&A Q1 Score Avg_Home_Team           928.0     5.550431   \n",
       "Rolling 5 Past H&A Ranking Avg_Home_Team            928.0    57.667026   \n",
       "Rolling 5 Past H&A Season T Losses_Away_Team        928.0    13.302802   \n",
       "Away Score_x_x                                      928.0    24.303879   \n",
       "Rolling 5 Past H&A Score Avg_Away_Team              928.0    25.680388   \n",
       "Rolling 5 Past H&A 1st Downs Avg_Away_Team          928.0    19.725862   \n",
       "Rolling 5 Past H&A Total Yards Avg_Away_Team        928.0   373.595259   \n",
       "Rolling 5 Past H&A Yards per Pass Avg_Away_Team     928.0     7.250237   \n",
       "Rolling 5 Past H&A Spread Avg_Away_Team             928.0    -0.408405   \n",
       "Rolling 5 Past H&A Spread Min_Away_Team             928.0   -12.549569   \n",
       "Rolling 5 Past H&A HI REC yrds Avg_Away_Team        928.0    82.396776   \n",
       "Rolling 5 Past H&A Conf T Wins_Away_Team            928.0    11.917026   \n",
       "Rolling 5 Past H&A 3rd Down Conversion % Avg_Aw...  928.0     0.381697   \n",
       "Rolling 5 Past H&A Completion % Avg_Away_Team       928.0     0.584175   \n",
       "Rolling 5 Past H&A Q1 Score Avg_Away_Team           928.0     5.653017   \n",
       "Rolling 5 Past H&A Ranking Avg_Away_Team            928.0    58.641164   \n",
       "Rolling 5 Past H&A Season T Losses_Home_Team        928.0    13.346983   \n",
       "Home Team Ranking_x                                 928.0    58.510776   \n",
       "Away Team Ranking_x                                 928.0    57.703664   \n",
       "Previous H&A Ranking_Home_Team                      928.0    57.417026   \n",
       "Previous H&A Ranking_Away_Team                      928.0    58.734914   \n",
       "Year                                                928.0  2013.322198   \n",
       "\n",
       "                                                          std          min  \\\n",
       "Home Team Spread_x                                  13.285394   -41.500000   \n",
       "Away Team Spread_x                                  13.285394   -36.000000   \n",
       "Total_x                                              8.111918    27.000000   \n",
       "Home Score_x_x                                      13.461759     0.000000   \n",
       "Rolling 5 Past H&A Score Avg_Home_Team               8.521880     6.600000   \n",
       "Rolling 5 Past H&A 1st Downs Avg_Home_Team           3.543245     9.400000   \n",
       "Rolling 5 Past H&A Total Yards Avg_Home_Team        75.668510   191.400000   \n",
       "Rolling 5 Past H&A Yards per Pass Avg_Home_Team      1.478296     3.600000   \n",
       "Rolling 5 Past H&A Spread Avg_Home_Team              9.646568   -29.500000   \n",
       "Rolling 5 Past H&A Spread Min_Home_Team             10.701513   -41.500000   \n",
       "Rolling 5 Past H&A HI REC yrds Avg_Home_Team        24.512998    31.000000   \n",
       "Rolling 5 Past H&A Conf T Wins_Home_Team             7.357420     0.000000   \n",
       "Rolling 5 Past H&A 3rd Down Conversion % Avg_Ho...   0.080560     0.135321   \n",
       "Rolling 5 Past H&A Completion % Avg_Home_Team        0.069683     0.363158   \n",
       "Rolling 5 Past H&A Q1 Score Avg_Home_Team            3.031037     0.000000   \n",
       "Rolling 5 Past H&A Ranking Avg_Home_Team            40.048462     1.000000   \n",
       "Rolling 5 Past H&A Season T Losses_Away_Team         8.275848     0.000000   \n",
       "Away Score_x_x                                      13.972399     0.000000   \n",
       "Rolling 5 Past H&A Score Avg_Away_Team               8.249871     6.600000   \n",
       "Rolling 5 Past H&A 1st Downs Avg_Away_Team           3.395895     9.200000   \n",
       "Rolling 5 Past H&A Total Yards Avg_Away_Team        73.299964   190.400000   \n",
       "Rolling 5 Past H&A Yards per Pass Avg_Away_Team      1.472734     3.380000   \n",
       "Rolling 5 Past H&A Spread Avg_Away_Team              9.686150   -29.700000   \n",
       "Rolling 5 Past H&A Spread Min_Away_Team             10.591423   -41.500000   \n",
       "Rolling 5 Past H&A HI REC yrds Avg_Away_Team        24.041716    28.200000   \n",
       "Rolling 5 Past H&A Conf T Wins_Away_Team             7.602064     0.000000   \n",
       "Rolling 5 Past H&A 3rd Down Conversion % Avg_Aw...   0.077353     0.134222   \n",
       "Rolling 5 Past H&A Completion % Avg_Away_Team        0.067674     0.379942   \n",
       "Rolling 5 Past H&A Q1 Score Avg_Away_Team            3.023980     0.000000   \n",
       "Rolling 5 Past H&A Ranking Avg_Away_Team            39.638082     1.000000   \n",
       "Rolling 5 Past H&A Season T Losses_Home_Team         8.409957     0.000000   \n",
       "Home Team Ranking_x                                 44.433919     1.000000   \n",
       "Away Team Ranking_x                                 44.457214     1.000000   \n",
       "Previous H&A Ranking_Home_Team                      44.560682     1.000000   \n",
       "Previous H&A Ranking_Away_Team                      44.295136     1.000000   \n",
       "Year                                                 4.943768  2004.000000   \n",
       "\n",
       "                                                            25%          50%  \\\n",
       "Home Team Spread_x                                   -12.500000    -3.000000   \n",
       "Away Team Spread_x                                    -6.500000     3.000000   \n",
       "Total_x                                               45.500000    50.500000   \n",
       "Home Score_x_x                                        17.000000    27.000000   \n",
       "Rolling 5 Past H&A Score Avg_Home_Team                19.800000    24.800000   \n",
       "Rolling 5 Past H&A 1st Downs Avg_Home_Team            17.400000    19.400000   \n",
       "Rolling 5 Past H&A Total Yards Avg_Home_Team         320.150000   372.000000   \n",
       "Rolling 5 Past H&A Yards per Pass Avg_Home_Team        6.240000     7.140000   \n",
       "Rolling 5 Past H&A Spread Avg_Home_Team               -6.200000     0.450000   \n",
       "Rolling 5 Past H&A Spread Min_Home_Team              -18.000000   -12.000000   \n",
       "Rolling 5 Past H&A HI REC yrds Avg_Home_Team          64.750000    80.500000   \n",
       "Rolling 5 Past H&A Conf T Wins_Home_Team               6.000000    11.000000   \n",
       "Rolling 5 Past H&A 3rd Down Conversion % Avg_Ho...     0.325894     0.374659   \n",
       "Rolling 5 Past H&A Completion % Avg_Home_Team          0.539862     0.581028   \n",
       "Rolling 5 Past H&A Q1 Score Avg_Home_Team              3.400000     5.200000   \n",
       "Rolling 5 Past H&A Ranking Avg_Home_Team              12.000000    65.800000   \n",
       "Rolling 5 Past H&A Season T Losses_Away_Team           7.000000    13.000000   \n",
       "Away Score_x_x                                        14.000000    23.000000   \n",
       "Rolling 5 Past H&A Score Avg_Away_Team                20.200000    25.200000   \n",
       "Rolling 5 Past H&A 1st Downs Avg_Away_Team            17.600000    19.600000   \n",
       "Rolling 5 Past H&A Total Yards Avg_Away_Team         328.850000   370.900000   \n",
       "Rolling 5 Past H&A Yards per Pass Avg_Away_Team        6.220000     7.180000   \n",
       "Rolling 5 Past H&A Spread Avg_Away_Team               -6.600000    -0.050000   \n",
       "Rolling 5 Past H&A Spread Min_Away_Team              -18.500000   -13.000000   \n",
       "Rolling 5 Past H&A HI REC yrds Avg_Away_Team          65.950000    80.300000   \n",
       "Rolling 5 Past H&A Conf T Wins_Away_Team               6.000000    11.000000   \n",
       "Rolling 5 Past H&A 3rd Down Conversion % Avg_Aw...     0.328786     0.377871   \n",
       "Rolling 5 Past H&A Completion % Avg_Away_Team          0.541941     0.585694   \n",
       "Rolling 5 Past H&A Q1 Score Avg_Away_Team              3.400000     5.000000   \n",
       "Rolling 5 Past H&A Ranking Avg_Away_Team              13.200000    66.800000   \n",
       "Rolling 5 Past H&A Season T Losses_Home_Team           7.000000    12.000000   \n",
       "Home Team Ranking_x                                   10.000000    99.000000   \n",
       "Away Team Ranking_x                                   10.000000    99.000000   \n",
       "Previous H&A Ranking_Home_Team                        10.000000    99.000000   \n",
       "Previous H&A Ranking_Away_Team                        11.000000    99.000000   \n",
       "Year                                                2009.000000  2013.500000   \n",
       "\n",
       "                                                            75%          max  \\\n",
       "Home Team Spread_x                                     6.500000    36.000000   \n",
       "Away Team Spread_x                                    12.500000    41.500000   \n",
       "Total_x                                               56.500000    82.500000   \n",
       "Home Score_x_x                                        37.000000    74.000000   \n",
       "Rolling 5 Past H&A Score Avg_Home_Team                30.400000    52.200000   \n",
       "Rolling 5 Past H&A 1st Downs Avg_Home_Team            22.000000    31.000000   \n",
       "Rolling 5 Past H&A Total Yards Avg_Home_Team         422.050000   597.400000   \n",
       "Rolling 5 Past H&A Yards per Pass Avg_Home_Team        8.160000    12.860000   \n",
       "Rolling 5 Past H&A Spread Avg_Home_Team                7.100000    26.100000   \n",
       "Rolling 5 Past H&A Spread Min_Home_Team               -3.500000    16.500000   \n",
       "Rolling 5 Past H&A HI REC yrds Avg_Home_Team          97.050000   177.800000   \n",
       "Rolling 5 Past H&A Conf T Wins_Home_Team              16.000000    38.000000   \n",
       "Rolling 5 Past H&A 3rd Down Conversion % Avg_Ho...     0.426112     0.641868   \n",
       "Rolling 5 Past H&A Completion % Avg_Home_Team          0.632171     0.781593   \n",
       "Rolling 5 Past H&A Q1 Score Avg_Home_Team              7.000000    18.800000   \n",
       "Rolling 5 Past H&A Ranking Avg_Home_Team              99.000000    99.000000   \n",
       "Rolling 5 Past H&A Season T Losses_Away_Team          19.000000    40.000000   \n",
       "Away Score_x_x                                        34.000000    72.000000   \n",
       "Rolling 5 Past H&A Score Avg_Away_Team                30.800000    53.800000   \n",
       "Rolling 5 Past H&A 1st Downs Avg_Away_Team            21.800000    31.400000   \n",
       "Rolling 5 Past H&A Total Yards Avg_Away_Team         421.250000   611.400000   \n",
       "Rolling 5 Past H&A Yards per Pass Avg_Away_Team        8.165000    13.640000   \n",
       "Rolling 5 Past H&A Spread Avg_Away_Team                6.800000    27.100000   \n",
       "Rolling 5 Past H&A Spread Min_Away_Team               -5.000000    16.000000   \n",
       "Rolling 5 Past H&A HI REC yrds Avg_Away_Team          96.800000   180.000000   \n",
       "Rolling 5 Past H&A Conf T Wins_Away_Team              16.000000    44.000000   \n",
       "Rolling 5 Past H&A 3rd Down Conversion % Avg_Aw...     0.429435     0.673359   \n",
       "Rolling 5 Past H&A Completion % Avg_Away_Team          0.630628     0.766055   \n",
       "Rolling 5 Past H&A Q1 Score Avg_Away_Team              7.400000    21.000000   \n",
       "Rolling 5 Past H&A Ranking Avg_Away_Team              99.000000    99.000000   \n",
       "Rolling 5 Past H&A Season T Losses_Home_Team          19.000000    40.000000   \n",
       "Home Team Ranking_x                                   99.000000    99.000000   \n",
       "Away Team Ranking_x                                   99.000000    99.000000   \n",
       "Previous H&A Ranking_Home_Team                        99.000000    99.000000   \n",
       "Previous H&A Ranking_Away_Team                        99.000000    99.000000   \n",
       "Year                                                2018.000000  2021.000000   \n",
       "\n",
       "                                                    # Rows <> upper/lower  \\\n",
       "Home Team Spread_x                                                    928   \n",
       "Away Team Spread_x                                                    928   \n",
       "Total_x                                                               922   \n",
       "Home Score_x_x                                                        927   \n",
       "Rolling 5 Past H&A Score Avg_Home_Team                                926   \n",
       "Rolling 5 Past H&A 1st Downs Avg_Home_Team                            925   \n",
       "Rolling 5 Past H&A Total Yards Avg_Home_Team                          928   \n",
       "Rolling 5 Past H&A Yards per Pass Avg_Home_Team                       924   \n",
       "Rolling 5 Past H&A Spread Avg_Home_Team                               926   \n",
       "Rolling 5 Past H&A Spread Min_Home_Team                               928   \n",
       "Rolling 5 Past H&A HI REC yrds Avg_Home_Team                          920   \n",
       "Rolling 5 Past H&A Conf T Wins_Home_Team                              920   \n",
       "Rolling 5 Past H&A 3rd Down Conversion % Avg_Ho...                    922   \n",
       "Rolling 5 Past H&A Completion % Avg_Home_Team                         927   \n",
       "Rolling 5 Past H&A Q1 Score Avg_Home_Team                             914   \n",
       "Rolling 5 Past H&A Ranking Avg_Home_Team                              928   \n",
       "Rolling 5 Past H&A Season T Losses_Away_Team                          926   \n",
       "Away Score_x_x                                                        927   \n",
       "Rolling 5 Past H&A Score Avg_Away_Team                                924   \n",
       "Rolling 5 Past H&A 1st Downs Avg_Away_Team                            925   \n",
       "Rolling 5 Past H&A Total Yards Avg_Away_Team                          926   \n",
       "Rolling 5 Past H&A Yards per Pass Avg_Away_Team                       925   \n",
       "Rolling 5 Past H&A Spread Avg_Away_Team                               927   \n",
       "Rolling 5 Past H&A Spread Min_Away_Team                               928   \n",
       "Rolling 5 Past H&A HI REC yrds Avg_Away_Team                          922   \n",
       "Rolling 5 Past H&A Conf T Wins_Away_Team                              924   \n",
       "Rolling 5 Past H&A 3rd Down Conversion % Avg_Aw...                    924   \n",
       "Rolling 5 Past H&A Completion % Avg_Away_Team                         927   \n",
       "Rolling 5 Past H&A Q1 Score Avg_Away_Team                             917   \n",
       "Rolling 5 Past H&A Ranking Avg_Away_Team                              928   \n",
       "Rolling 5 Past H&A Season T Losses_Home_Team                          927   \n",
       "Home Team Ranking_x                                                     0   \n",
       "Away Team Ranking_x                                                     0   \n",
       "Previous H&A Ranking_Home_Team                                        928   \n",
       "Previous H&A Ranking_Away_Team                                        928   \n",
       "Year                                                                    0   \n",
       "\n",
       "                                                         Upper       Lower  \n",
       "Home Team Spread_x                                   37.066849  -42.645513  \n",
       "Away Team Spread_x                                   42.645513  -37.066849  \n",
       "Total_x                                              75.904721   27.233210  \n",
       "Home Score_x_x                                       67.380968  -13.389589  \n",
       "Rolling 5 Past H&A Score Avg_Home_Team               51.134175    0.002894  \n",
       "Rolling 5 Past H&A 1st Downs Avg_Home_Team           30.280812    9.021343  \n",
       "Rolling 5 Past H&A Total Yards Avg_Home_Team        599.639151  145.628091  \n",
       "Rolling 5 Past H&A Yards per Pass Avg_Home_Team      11.658680    2.788906  \n",
       "Rolling 5 Past H&A Spread Avg_Home_Team              29.198755  -28.680652  \n",
       "Rolling 5 Past H&A Spread Min_Home_Team              20.448828  -43.760251  \n",
       "Rolling 5 Past H&A HI REC yrds Avg_Home_Team        155.994902    8.916914  \n",
       "Rolling 5 Past H&A Conf T Wins_Home_Team             33.799632  -10.344890  \n",
       "Rolling 5 Past H&A 3rd Down Conversion % Avg_Ho...    0.621173    0.137812  \n",
       "Rolling 5 Past H&A Completion % Avg_Home_Team         0.793436    0.375336  \n",
       "Rolling 5 Past H&A Q1 Score Avg_Home_Team            14.643542   -3.542679  \n",
       "Rolling 5 Past H&A Ranking Avg_Home_Team            177.812412  -62.478360  \n",
       "Rolling 5 Past H&A Season T Losses_Away_Team         38.130345  -11.524742  \n",
       "Away Score_x_x                                       66.221078  -17.613319  \n",
       "Rolling 5 Past H&A Score Avg_Away_Team               50.430001    0.930775  \n",
       "Rolling 5 Past H&A 1st Downs Avg_Away_Team           29.913547    9.538177  \n",
       "Rolling 5 Past H&A Total Yards Avg_Away_Team        593.495151  153.695367  \n",
       "Rolling 5 Past H&A Yards per Pass Avg_Away_Team      11.668439    2.832035  \n",
       "Rolling 5 Past H&A Spread Avg_Away_Team              28.650045  -29.466856  \n",
       "Rolling 5 Past H&A Spread Min_Away_Team              19.224699  -44.323836  \n",
       "Rolling 5 Past H&A HI REC yrds Avg_Away_Team        154.521926   10.271627  \n",
       "Rolling 5 Past H&A Conf T Wins_Away_Team             34.723219  -10.889167  \n",
       "Rolling 5 Past H&A 3rd Down Conversion % Avg_Aw...    0.613755    0.149639  \n",
       "Rolling 5 Past H&A Completion % Avg_Away_Team         0.787198    0.381152  \n",
       "Rolling 5 Past H&A Q1 Score Avg_Away_Team            14.724958   -3.418924  \n",
       "Rolling 5 Past H&A Ranking Avg_Away_Team            177.555410  -60.273082  \n",
       "Rolling 5 Past H&A Season T Losses_Home_Team         38.576852  -11.882887  \n",
       "Home Team Ranking_x                                   0.000000    0.000000  \n",
       "Away Team Ranking_x                                   0.000000    0.000000  \n",
       "Previous H&A Ranking_Home_Team                      191.099072  -76.265020  \n",
       "Previous H&A Ranking_Away_Team                      191.620323  -74.150495  \n",
       "Year                                                  0.000000    0.000000  "
      ]
     },
     "execution_count": 40,
     "metadata": {},
     "output_type": "execute_result"
    }
   ],
   "source": [
    "Describe_df"
   ]
  },
  {
   "cell_type": "markdown",
   "id": "22ee4b9f",
   "metadata": {},
   "source": [
    "# Double checked the game distribution between teams below to ensure the matchups were evenly distributed"
   ]
  },
  {
   "cell_type": "code",
   "execution_count": 41,
   "id": "3c2d817f",
   "metadata": {},
   "outputs": [],
   "source": [
    "Team_Matchups = pd.DataFrame(columns=df4['Home Team'].unique(),index=df4['Home Team'].unique())"
   ]
  },
  {
   "cell_type": "code",
   "execution_count": 42,
   "id": "f0257226",
   "metadata": {},
   "outputs": [
    {
     "data": {
      "text/html": [
       "<div>\n",
       "<style scoped>\n",
       "    .dataframe tbody tr th:only-of-type {\n",
       "        vertical-align: middle;\n",
       "    }\n",
       "\n",
       "    .dataframe tbody tr th {\n",
       "        vertical-align: top;\n",
       "    }\n",
       "\n",
       "    .dataframe thead th {\n",
       "        text-align: right;\n",
       "    }\n",
       "</style>\n",
       "<table border=\"1\" class=\"dataframe\">\n",
       "  <thead>\n",
       "    <tr style=\"text-align: right;\">\n",
       "      <th></th>\n",
       "      <th>Alabama</th>\n",
       "      <th>LSU</th>\n",
       "      <th>Auburn</th>\n",
       "      <th>Vanderbilt</th>\n",
       "      <th>Arkansas</th>\n",
       "      <th>Mississippi State</th>\n",
       "      <th>South Carolina</th>\n",
       "      <th>Missouri</th>\n",
       "      <th>Ole Miss</th>\n",
       "      <th>Tennessee</th>\n",
       "      <th>Kentucky</th>\n",
       "      <th>Georgia</th>\n",
       "      <th>Texas A&amp;M</th>\n",
       "      <th>Florida</th>\n",
       "    </tr>\n",
       "  </thead>\n",
       "  <tbody>\n",
       "    <tr>\n",
       "      <th>Alabama</th>\n",
       "      <td>NaN</td>\n",
       "      <td>NaN</td>\n",
       "      <td>NaN</td>\n",
       "      <td>NaN</td>\n",
       "      <td>NaN</td>\n",
       "      <td>NaN</td>\n",
       "      <td>NaN</td>\n",
       "      <td>NaN</td>\n",
       "      <td>NaN</td>\n",
       "      <td>NaN</td>\n",
       "      <td>NaN</td>\n",
       "      <td>NaN</td>\n",
       "      <td>NaN</td>\n",
       "      <td>NaN</td>\n",
       "    </tr>\n",
       "    <tr>\n",
       "      <th>LSU</th>\n",
       "      <td>NaN</td>\n",
       "      <td>NaN</td>\n",
       "      <td>NaN</td>\n",
       "      <td>NaN</td>\n",
       "      <td>NaN</td>\n",
       "      <td>NaN</td>\n",
       "      <td>NaN</td>\n",
       "      <td>NaN</td>\n",
       "      <td>NaN</td>\n",
       "      <td>NaN</td>\n",
       "      <td>NaN</td>\n",
       "      <td>NaN</td>\n",
       "      <td>NaN</td>\n",
       "      <td>NaN</td>\n",
       "    </tr>\n",
       "    <tr>\n",
       "      <th>Auburn</th>\n",
       "      <td>NaN</td>\n",
       "      <td>NaN</td>\n",
       "      <td>NaN</td>\n",
       "      <td>NaN</td>\n",
       "      <td>NaN</td>\n",
       "      <td>NaN</td>\n",
       "      <td>NaN</td>\n",
       "      <td>NaN</td>\n",
       "      <td>NaN</td>\n",
       "      <td>NaN</td>\n",
       "      <td>NaN</td>\n",
       "      <td>NaN</td>\n",
       "      <td>NaN</td>\n",
       "      <td>NaN</td>\n",
       "    </tr>\n",
       "    <tr>\n",
       "      <th>Vanderbilt</th>\n",
       "      <td>NaN</td>\n",
       "      <td>NaN</td>\n",
       "      <td>NaN</td>\n",
       "      <td>NaN</td>\n",
       "      <td>NaN</td>\n",
       "      <td>NaN</td>\n",
       "      <td>NaN</td>\n",
       "      <td>NaN</td>\n",
       "      <td>NaN</td>\n",
       "      <td>NaN</td>\n",
       "      <td>NaN</td>\n",
       "      <td>NaN</td>\n",
       "      <td>NaN</td>\n",
       "      <td>NaN</td>\n",
       "    </tr>\n",
       "    <tr>\n",
       "      <th>Arkansas</th>\n",
       "      <td>NaN</td>\n",
       "      <td>NaN</td>\n",
       "      <td>NaN</td>\n",
       "      <td>NaN</td>\n",
       "      <td>NaN</td>\n",
       "      <td>NaN</td>\n",
       "      <td>NaN</td>\n",
       "      <td>NaN</td>\n",
       "      <td>NaN</td>\n",
       "      <td>NaN</td>\n",
       "      <td>NaN</td>\n",
       "      <td>NaN</td>\n",
       "      <td>NaN</td>\n",
       "      <td>NaN</td>\n",
       "    </tr>\n",
       "    <tr>\n",
       "      <th>Mississippi State</th>\n",
       "      <td>NaN</td>\n",
       "      <td>NaN</td>\n",
       "      <td>NaN</td>\n",
       "      <td>NaN</td>\n",
       "      <td>NaN</td>\n",
       "      <td>NaN</td>\n",
       "      <td>NaN</td>\n",
       "      <td>NaN</td>\n",
       "      <td>NaN</td>\n",
       "      <td>NaN</td>\n",
       "      <td>NaN</td>\n",
       "      <td>NaN</td>\n",
       "      <td>NaN</td>\n",
       "      <td>NaN</td>\n",
       "    </tr>\n",
       "    <tr>\n",
       "      <th>South Carolina</th>\n",
       "      <td>NaN</td>\n",
       "      <td>NaN</td>\n",
       "      <td>NaN</td>\n",
       "      <td>NaN</td>\n",
       "      <td>NaN</td>\n",
       "      <td>NaN</td>\n",
       "      <td>NaN</td>\n",
       "      <td>NaN</td>\n",
       "      <td>NaN</td>\n",
       "      <td>NaN</td>\n",
       "      <td>NaN</td>\n",
       "      <td>NaN</td>\n",
       "      <td>NaN</td>\n",
       "      <td>NaN</td>\n",
       "    </tr>\n",
       "    <tr>\n",
       "      <th>Missouri</th>\n",
       "      <td>NaN</td>\n",
       "      <td>NaN</td>\n",
       "      <td>NaN</td>\n",
       "      <td>NaN</td>\n",
       "      <td>NaN</td>\n",
       "      <td>NaN</td>\n",
       "      <td>NaN</td>\n",
       "      <td>NaN</td>\n",
       "      <td>NaN</td>\n",
       "      <td>NaN</td>\n",
       "      <td>NaN</td>\n",
       "      <td>NaN</td>\n",
       "      <td>NaN</td>\n",
       "      <td>NaN</td>\n",
       "    </tr>\n",
       "    <tr>\n",
       "      <th>Ole Miss</th>\n",
       "      <td>NaN</td>\n",
       "      <td>NaN</td>\n",
       "      <td>NaN</td>\n",
       "      <td>NaN</td>\n",
       "      <td>NaN</td>\n",
       "      <td>NaN</td>\n",
       "      <td>NaN</td>\n",
       "      <td>NaN</td>\n",
       "      <td>NaN</td>\n",
       "      <td>NaN</td>\n",
       "      <td>NaN</td>\n",
       "      <td>NaN</td>\n",
       "      <td>NaN</td>\n",
       "      <td>NaN</td>\n",
       "    </tr>\n",
       "    <tr>\n",
       "      <th>Tennessee</th>\n",
       "      <td>NaN</td>\n",
       "      <td>NaN</td>\n",
       "      <td>NaN</td>\n",
       "      <td>NaN</td>\n",
       "      <td>NaN</td>\n",
       "      <td>NaN</td>\n",
       "      <td>NaN</td>\n",
       "      <td>NaN</td>\n",
       "      <td>NaN</td>\n",
       "      <td>NaN</td>\n",
       "      <td>NaN</td>\n",
       "      <td>NaN</td>\n",
       "      <td>NaN</td>\n",
       "      <td>NaN</td>\n",
       "    </tr>\n",
       "    <tr>\n",
       "      <th>Kentucky</th>\n",
       "      <td>NaN</td>\n",
       "      <td>NaN</td>\n",
       "      <td>NaN</td>\n",
       "      <td>NaN</td>\n",
       "      <td>NaN</td>\n",
       "      <td>NaN</td>\n",
       "      <td>NaN</td>\n",
       "      <td>NaN</td>\n",
       "      <td>NaN</td>\n",
       "      <td>NaN</td>\n",
       "      <td>NaN</td>\n",
       "      <td>NaN</td>\n",
       "      <td>NaN</td>\n",
       "      <td>NaN</td>\n",
       "    </tr>\n",
       "    <tr>\n",
       "      <th>Georgia</th>\n",
       "      <td>NaN</td>\n",
       "      <td>NaN</td>\n",
       "      <td>NaN</td>\n",
       "      <td>NaN</td>\n",
       "      <td>NaN</td>\n",
       "      <td>NaN</td>\n",
       "      <td>NaN</td>\n",
       "      <td>NaN</td>\n",
       "      <td>NaN</td>\n",
       "      <td>NaN</td>\n",
       "      <td>NaN</td>\n",
       "      <td>NaN</td>\n",
       "      <td>NaN</td>\n",
       "      <td>NaN</td>\n",
       "    </tr>\n",
       "    <tr>\n",
       "      <th>Texas A&amp;M</th>\n",
       "      <td>NaN</td>\n",
       "      <td>NaN</td>\n",
       "      <td>NaN</td>\n",
       "      <td>NaN</td>\n",
       "      <td>NaN</td>\n",
       "      <td>NaN</td>\n",
       "      <td>NaN</td>\n",
       "      <td>NaN</td>\n",
       "      <td>NaN</td>\n",
       "      <td>NaN</td>\n",
       "      <td>NaN</td>\n",
       "      <td>NaN</td>\n",
       "      <td>NaN</td>\n",
       "      <td>NaN</td>\n",
       "    </tr>\n",
       "    <tr>\n",
       "      <th>Florida</th>\n",
       "      <td>NaN</td>\n",
       "      <td>NaN</td>\n",
       "      <td>NaN</td>\n",
       "      <td>NaN</td>\n",
       "      <td>NaN</td>\n",
       "      <td>NaN</td>\n",
       "      <td>NaN</td>\n",
       "      <td>NaN</td>\n",
       "      <td>NaN</td>\n",
       "      <td>NaN</td>\n",
       "      <td>NaN</td>\n",
       "      <td>NaN</td>\n",
       "      <td>NaN</td>\n",
       "      <td>NaN</td>\n",
       "    </tr>\n",
       "  </tbody>\n",
       "</table>\n",
       "</div>"
      ],
      "text/plain": [
       "                  Alabama  LSU Auburn Vanderbilt Arkansas Mississippi State  \\\n",
       "Alabama               NaN  NaN    NaN        NaN      NaN               NaN   \n",
       "LSU                   NaN  NaN    NaN        NaN      NaN               NaN   \n",
       "Auburn                NaN  NaN    NaN        NaN      NaN               NaN   \n",
       "Vanderbilt            NaN  NaN    NaN        NaN      NaN               NaN   \n",
       "Arkansas              NaN  NaN    NaN        NaN      NaN               NaN   \n",
       "Mississippi State     NaN  NaN    NaN        NaN      NaN               NaN   \n",
       "South Carolina        NaN  NaN    NaN        NaN      NaN               NaN   \n",
       "Missouri              NaN  NaN    NaN        NaN      NaN               NaN   \n",
       "Ole Miss              NaN  NaN    NaN        NaN      NaN               NaN   \n",
       "Tennessee             NaN  NaN    NaN        NaN      NaN               NaN   \n",
       "Kentucky              NaN  NaN    NaN        NaN      NaN               NaN   \n",
       "Georgia               NaN  NaN    NaN        NaN      NaN               NaN   \n",
       "Texas A&M             NaN  NaN    NaN        NaN      NaN               NaN   \n",
       "Florida               NaN  NaN    NaN        NaN      NaN               NaN   \n",
       "\n",
       "                  South Carolina Missouri Ole Miss Tennessee Kentucky Georgia  \\\n",
       "Alabama                      NaN      NaN      NaN       NaN      NaN     NaN   \n",
       "LSU                          NaN      NaN      NaN       NaN      NaN     NaN   \n",
       "Auburn                       NaN      NaN      NaN       NaN      NaN     NaN   \n",
       "Vanderbilt                   NaN      NaN      NaN       NaN      NaN     NaN   \n",
       "Arkansas                     NaN      NaN      NaN       NaN      NaN     NaN   \n",
       "Mississippi State            NaN      NaN      NaN       NaN      NaN     NaN   \n",
       "South Carolina               NaN      NaN      NaN       NaN      NaN     NaN   \n",
       "Missouri                     NaN      NaN      NaN       NaN      NaN     NaN   \n",
       "Ole Miss                     NaN      NaN      NaN       NaN      NaN     NaN   \n",
       "Tennessee                    NaN      NaN      NaN       NaN      NaN     NaN   \n",
       "Kentucky                     NaN      NaN      NaN       NaN      NaN     NaN   \n",
       "Georgia                      NaN      NaN      NaN       NaN      NaN     NaN   \n",
       "Texas A&M                    NaN      NaN      NaN       NaN      NaN     NaN   \n",
       "Florida                      NaN      NaN      NaN       NaN      NaN     NaN   \n",
       "\n",
       "                  Texas A&M Florida  \n",
       "Alabama                 NaN     NaN  \n",
       "LSU                     NaN     NaN  \n",
       "Auburn                  NaN     NaN  \n",
       "Vanderbilt              NaN     NaN  \n",
       "Arkansas                NaN     NaN  \n",
       "Mississippi State       NaN     NaN  \n",
       "South Carolina          NaN     NaN  \n",
       "Missouri                NaN     NaN  \n",
       "Ole Miss                NaN     NaN  \n",
       "Tennessee               NaN     NaN  \n",
       "Kentucky                NaN     NaN  \n",
       "Georgia                 NaN     NaN  \n",
       "Texas A&M               NaN     NaN  \n",
       "Florida                 NaN     NaN  "
      ]
     },
     "execution_count": 42,
     "metadata": {},
     "output_type": "execute_result"
    }
   ],
   "source": [
    "Team_Matchups"
   ]
  },
  {
   "cell_type": "code",
   "execution_count": 43,
   "id": "92a239e2",
   "metadata": {},
   "outputs": [],
   "source": [
    "Teams=df4['Home Team'].unique()"
   ]
  },
  {
   "cell_type": "code",
   "execution_count": 44,
   "id": "9f97e61a",
   "metadata": {},
   "outputs": [
    {
     "data": {
      "text/plain": [
       "array(['Alabama', 'LSU', 'Auburn', 'Vanderbilt', 'Arkansas',\n",
       "       'Mississippi State', 'South Carolina', 'Missouri', 'Ole Miss',\n",
       "       'Tennessee', 'Kentucky', 'Georgia', 'Texas A&M', 'Florida'],\n",
       "      dtype=object)"
      ]
     },
     "execution_count": 44,
     "metadata": {},
     "output_type": "execute_result"
    }
   ],
   "source": [
    "Teams"
   ]
  },
  {
   "cell_type": "code",
   "execution_count": 45,
   "id": "0884359f",
   "metadata": {},
   "outputs": [],
   "source": [
    "Teams2=Teams"
   ]
  },
  {
   "cell_type": "code",
   "execution_count": 46,
   "id": "65d8c17c",
   "metadata": {},
   "outputs": [],
   "source": [
    "Row = 0\n",
    "Column= 0\n",
    "Start = 0\n",
    "Stop = 14"
   ]
  },
  {
   "cell_type": "code",
   "execution_count": 47,
   "id": "f5a80d18",
   "metadata": {},
   "outputs": [],
   "source": [
    "while Column < Stop:\n",
    "        a  = df4[(df4['Home Team'] == Teams[Row]) & (df4['Away Team'] == Teams[Column])]\n",
    "        Team_Matchups.iloc[Row,Column] = a.shape[0]\n",
    "        Column = Column + 1"
   ]
  },
  {
   "cell_type": "code",
   "execution_count": 48,
   "id": "f56f5a90",
   "metadata": {},
   "outputs": [
    {
     "data": {
      "text/html": [
       "<div>\n",
       "<style scoped>\n",
       "    .dataframe tbody tr th:only-of-type {\n",
       "        vertical-align: middle;\n",
       "    }\n",
       "\n",
       "    .dataframe tbody tr th {\n",
       "        vertical-align: top;\n",
       "    }\n",
       "\n",
       "    .dataframe thead th {\n",
       "        text-align: right;\n",
       "    }\n",
       "</style>\n",
       "<table border=\"1\" class=\"dataframe\">\n",
       "  <thead>\n",
       "    <tr style=\"text-align: right;\">\n",
       "      <th></th>\n",
       "      <th>Alabama</th>\n",
       "      <th>LSU</th>\n",
       "      <th>Auburn</th>\n",
       "      <th>Vanderbilt</th>\n",
       "      <th>Arkansas</th>\n",
       "      <th>Mississippi State</th>\n",
       "      <th>South Carolina</th>\n",
       "      <th>Missouri</th>\n",
       "      <th>Ole Miss</th>\n",
       "      <th>Tennessee</th>\n",
       "      <th>Kentucky</th>\n",
       "      <th>Georgia</th>\n",
       "      <th>Texas A&amp;M</th>\n",
       "      <th>Florida</th>\n",
       "    </tr>\n",
       "  </thead>\n",
       "  <tbody>\n",
       "    <tr>\n",
       "      <th>Alabama</th>\n",
       "      <td>0</td>\n",
       "      <td>9</td>\n",
       "      <td>9</td>\n",
       "      <td>2</td>\n",
       "      <td>9</td>\n",
       "      <td>9</td>\n",
       "      <td>1</td>\n",
       "      <td>1</td>\n",
       "      <td>9</td>\n",
       "      <td>8</td>\n",
       "      <td>3</td>\n",
       "      <td>3</td>\n",
       "      <td>5</td>\n",
       "      <td>5</td>\n",
       "    </tr>\n",
       "    <tr>\n",
       "      <th>LSU</th>\n",
       "      <td>NaN</td>\n",
       "      <td>NaN</td>\n",
       "      <td>NaN</td>\n",
       "      <td>NaN</td>\n",
       "      <td>NaN</td>\n",
       "      <td>NaN</td>\n",
       "      <td>NaN</td>\n",
       "      <td>NaN</td>\n",
       "      <td>NaN</td>\n",
       "      <td>NaN</td>\n",
       "      <td>NaN</td>\n",
       "      <td>NaN</td>\n",
       "      <td>NaN</td>\n",
       "      <td>NaN</td>\n",
       "    </tr>\n",
       "    <tr>\n",
       "      <th>Auburn</th>\n",
       "      <td>NaN</td>\n",
       "      <td>NaN</td>\n",
       "      <td>NaN</td>\n",
       "      <td>NaN</td>\n",
       "      <td>NaN</td>\n",
       "      <td>NaN</td>\n",
       "      <td>NaN</td>\n",
       "      <td>NaN</td>\n",
       "      <td>NaN</td>\n",
       "      <td>NaN</td>\n",
       "      <td>NaN</td>\n",
       "      <td>NaN</td>\n",
       "      <td>NaN</td>\n",
       "      <td>NaN</td>\n",
       "    </tr>\n",
       "    <tr>\n",
       "      <th>Vanderbilt</th>\n",
       "      <td>NaN</td>\n",
       "      <td>NaN</td>\n",
       "      <td>NaN</td>\n",
       "      <td>NaN</td>\n",
       "      <td>NaN</td>\n",
       "      <td>NaN</td>\n",
       "      <td>NaN</td>\n",
       "      <td>NaN</td>\n",
       "      <td>NaN</td>\n",
       "      <td>NaN</td>\n",
       "      <td>NaN</td>\n",
       "      <td>NaN</td>\n",
       "      <td>NaN</td>\n",
       "      <td>NaN</td>\n",
       "    </tr>\n",
       "    <tr>\n",
       "      <th>Arkansas</th>\n",
       "      <td>NaN</td>\n",
       "      <td>NaN</td>\n",
       "      <td>NaN</td>\n",
       "      <td>NaN</td>\n",
       "      <td>NaN</td>\n",
       "      <td>NaN</td>\n",
       "      <td>NaN</td>\n",
       "      <td>NaN</td>\n",
       "      <td>NaN</td>\n",
       "      <td>NaN</td>\n",
       "      <td>NaN</td>\n",
       "      <td>NaN</td>\n",
       "      <td>NaN</td>\n",
       "      <td>NaN</td>\n",
       "    </tr>\n",
       "    <tr>\n",
       "      <th>Mississippi State</th>\n",
       "      <td>NaN</td>\n",
       "      <td>NaN</td>\n",
       "      <td>NaN</td>\n",
       "      <td>NaN</td>\n",
       "      <td>NaN</td>\n",
       "      <td>NaN</td>\n",
       "      <td>NaN</td>\n",
       "      <td>NaN</td>\n",
       "      <td>NaN</td>\n",
       "      <td>NaN</td>\n",
       "      <td>NaN</td>\n",
       "      <td>NaN</td>\n",
       "      <td>NaN</td>\n",
       "      <td>NaN</td>\n",
       "    </tr>\n",
       "    <tr>\n",
       "      <th>South Carolina</th>\n",
       "      <td>NaN</td>\n",
       "      <td>NaN</td>\n",
       "      <td>NaN</td>\n",
       "      <td>NaN</td>\n",
       "      <td>NaN</td>\n",
       "      <td>NaN</td>\n",
       "      <td>NaN</td>\n",
       "      <td>NaN</td>\n",
       "      <td>NaN</td>\n",
       "      <td>NaN</td>\n",
       "      <td>NaN</td>\n",
       "      <td>NaN</td>\n",
       "      <td>NaN</td>\n",
       "      <td>NaN</td>\n",
       "    </tr>\n",
       "    <tr>\n",
       "      <th>Missouri</th>\n",
       "      <td>NaN</td>\n",
       "      <td>NaN</td>\n",
       "      <td>NaN</td>\n",
       "      <td>NaN</td>\n",
       "      <td>NaN</td>\n",
       "      <td>NaN</td>\n",
       "      <td>NaN</td>\n",
       "      <td>NaN</td>\n",
       "      <td>NaN</td>\n",
       "      <td>NaN</td>\n",
       "      <td>NaN</td>\n",
       "      <td>NaN</td>\n",
       "      <td>NaN</td>\n",
       "      <td>NaN</td>\n",
       "    </tr>\n",
       "    <tr>\n",
       "      <th>Ole Miss</th>\n",
       "      <td>NaN</td>\n",
       "      <td>NaN</td>\n",
       "      <td>NaN</td>\n",
       "      <td>NaN</td>\n",
       "      <td>NaN</td>\n",
       "      <td>NaN</td>\n",
       "      <td>NaN</td>\n",
       "      <td>NaN</td>\n",
       "      <td>NaN</td>\n",
       "      <td>NaN</td>\n",
       "      <td>NaN</td>\n",
       "      <td>NaN</td>\n",
       "      <td>NaN</td>\n",
       "      <td>NaN</td>\n",
       "    </tr>\n",
       "    <tr>\n",
       "      <th>Tennessee</th>\n",
       "      <td>NaN</td>\n",
       "      <td>NaN</td>\n",
       "      <td>NaN</td>\n",
       "      <td>NaN</td>\n",
       "      <td>NaN</td>\n",
       "      <td>NaN</td>\n",
       "      <td>NaN</td>\n",
       "      <td>NaN</td>\n",
       "      <td>NaN</td>\n",
       "      <td>NaN</td>\n",
       "      <td>NaN</td>\n",
       "      <td>NaN</td>\n",
       "      <td>NaN</td>\n",
       "      <td>NaN</td>\n",
       "    </tr>\n",
       "    <tr>\n",
       "      <th>Kentucky</th>\n",
       "      <td>NaN</td>\n",
       "      <td>NaN</td>\n",
       "      <td>NaN</td>\n",
       "      <td>NaN</td>\n",
       "      <td>NaN</td>\n",
       "      <td>NaN</td>\n",
       "      <td>NaN</td>\n",
       "      <td>NaN</td>\n",
       "      <td>NaN</td>\n",
       "      <td>NaN</td>\n",
       "      <td>NaN</td>\n",
       "      <td>NaN</td>\n",
       "      <td>NaN</td>\n",
       "      <td>NaN</td>\n",
       "    </tr>\n",
       "    <tr>\n",
       "      <th>Georgia</th>\n",
       "      <td>NaN</td>\n",
       "      <td>NaN</td>\n",
       "      <td>NaN</td>\n",
       "      <td>NaN</td>\n",
       "      <td>NaN</td>\n",
       "      <td>NaN</td>\n",
       "      <td>NaN</td>\n",
       "      <td>NaN</td>\n",
       "      <td>NaN</td>\n",
       "      <td>NaN</td>\n",
       "      <td>NaN</td>\n",
       "      <td>NaN</td>\n",
       "      <td>NaN</td>\n",
       "      <td>NaN</td>\n",
       "    </tr>\n",
       "    <tr>\n",
       "      <th>Texas A&amp;M</th>\n",
       "      <td>NaN</td>\n",
       "      <td>NaN</td>\n",
       "      <td>NaN</td>\n",
       "      <td>NaN</td>\n",
       "      <td>NaN</td>\n",
       "      <td>NaN</td>\n",
       "      <td>NaN</td>\n",
       "      <td>NaN</td>\n",
       "      <td>NaN</td>\n",
       "      <td>NaN</td>\n",
       "      <td>NaN</td>\n",
       "      <td>NaN</td>\n",
       "      <td>NaN</td>\n",
       "      <td>NaN</td>\n",
       "    </tr>\n",
       "    <tr>\n",
       "      <th>Florida</th>\n",
       "      <td>NaN</td>\n",
       "      <td>NaN</td>\n",
       "      <td>NaN</td>\n",
       "      <td>NaN</td>\n",
       "      <td>NaN</td>\n",
       "      <td>NaN</td>\n",
       "      <td>NaN</td>\n",
       "      <td>NaN</td>\n",
       "      <td>NaN</td>\n",
       "      <td>NaN</td>\n",
       "      <td>NaN</td>\n",
       "      <td>NaN</td>\n",
       "      <td>NaN</td>\n",
       "      <td>NaN</td>\n",
       "    </tr>\n",
       "  </tbody>\n",
       "</table>\n",
       "</div>"
      ],
      "text/plain": [
       "                  Alabama  LSU Auburn Vanderbilt Arkansas Mississippi State  \\\n",
       "Alabama                 0    9      9          2        9                 9   \n",
       "LSU                   NaN  NaN    NaN        NaN      NaN               NaN   \n",
       "Auburn                NaN  NaN    NaN        NaN      NaN               NaN   \n",
       "Vanderbilt            NaN  NaN    NaN        NaN      NaN               NaN   \n",
       "Arkansas              NaN  NaN    NaN        NaN      NaN               NaN   \n",
       "Mississippi State     NaN  NaN    NaN        NaN      NaN               NaN   \n",
       "South Carolina        NaN  NaN    NaN        NaN      NaN               NaN   \n",
       "Missouri              NaN  NaN    NaN        NaN      NaN               NaN   \n",
       "Ole Miss              NaN  NaN    NaN        NaN      NaN               NaN   \n",
       "Tennessee             NaN  NaN    NaN        NaN      NaN               NaN   \n",
       "Kentucky              NaN  NaN    NaN        NaN      NaN               NaN   \n",
       "Georgia               NaN  NaN    NaN        NaN      NaN               NaN   \n",
       "Texas A&M             NaN  NaN    NaN        NaN      NaN               NaN   \n",
       "Florida               NaN  NaN    NaN        NaN      NaN               NaN   \n",
       "\n",
       "                  South Carolina Missouri Ole Miss Tennessee Kentucky Georgia  \\\n",
       "Alabama                        1        1        9         8        3       3   \n",
       "LSU                          NaN      NaN      NaN       NaN      NaN     NaN   \n",
       "Auburn                       NaN      NaN      NaN       NaN      NaN     NaN   \n",
       "Vanderbilt                   NaN      NaN      NaN       NaN      NaN     NaN   \n",
       "Arkansas                     NaN      NaN      NaN       NaN      NaN     NaN   \n",
       "Mississippi State            NaN      NaN      NaN       NaN      NaN     NaN   \n",
       "South Carolina               NaN      NaN      NaN       NaN      NaN     NaN   \n",
       "Missouri                     NaN      NaN      NaN       NaN      NaN     NaN   \n",
       "Ole Miss                     NaN      NaN      NaN       NaN      NaN     NaN   \n",
       "Tennessee                    NaN      NaN      NaN       NaN      NaN     NaN   \n",
       "Kentucky                     NaN      NaN      NaN       NaN      NaN     NaN   \n",
       "Georgia                      NaN      NaN      NaN       NaN      NaN     NaN   \n",
       "Texas A&M                    NaN      NaN      NaN       NaN      NaN     NaN   \n",
       "Florida                      NaN      NaN      NaN       NaN      NaN     NaN   \n",
       "\n",
       "                  Texas A&M Florida  \n",
       "Alabama                   5       5  \n",
       "LSU                     NaN     NaN  \n",
       "Auburn                  NaN     NaN  \n",
       "Vanderbilt              NaN     NaN  \n",
       "Arkansas                NaN     NaN  \n",
       "Mississippi State       NaN     NaN  \n",
       "South Carolina          NaN     NaN  \n",
       "Missouri                NaN     NaN  \n",
       "Ole Miss                NaN     NaN  \n",
       "Tennessee               NaN     NaN  \n",
       "Kentucky                NaN     NaN  \n",
       "Georgia                 NaN     NaN  \n",
       "Texas A&M               NaN     NaN  \n",
       "Florida                 NaN     NaN  "
      ]
     },
     "execution_count": 48,
     "metadata": {},
     "output_type": "execute_result"
    }
   ],
   "source": [
    "Team_Matchups"
   ]
  },
  {
   "cell_type": "code",
   "execution_count": 49,
   "id": "88dd1216",
   "metadata": {},
   "outputs": [],
   "source": [
    "Row =1\n",
    "Column =0\n",
    "while Column < Stop:\n",
    "        a  = df4[(df4['Home Team'] == Teams[Row]) & (df4['Away Team'] == Teams[Column])]\n",
    "        Team_Matchups.iloc[Row,Column] = a.shape[0]\n",
    "        Column = Column + 1"
   ]
  },
  {
   "cell_type": "code",
   "execution_count": 50,
   "id": "e3b3f502",
   "metadata": {},
   "outputs": [],
   "source": [
    "Row =2\n",
    "Column =0\n",
    "while Column < Stop:\n",
    "        a  = df4[(df4['Home Team'] == Teams[Row]) & (df4['Away Team'] == Teams[Column])]\n",
    "        Team_Matchups.iloc[Row,Column] = a.shape[0]\n",
    "        Column = Column + 1"
   ]
  },
  {
   "cell_type": "code",
   "execution_count": 51,
   "id": "4fca6f7b",
   "metadata": {},
   "outputs": [],
   "source": [
    "Row =3\n",
    "Column =0\n",
    "while Column < Stop:\n",
    "        a  = df4[(df4['Home Team'] == Teams[Row]) & (df4['Away Team'] == Teams[Column])]\n",
    "        Team_Matchups.iloc[Row,Column] = a.shape[0]\n",
    "        Column = Column + 1"
   ]
  },
  {
   "cell_type": "code",
   "execution_count": 52,
   "id": "329106cd",
   "metadata": {},
   "outputs": [],
   "source": [
    "Row =4\n",
    "Column =0\n",
    "while Column < Stop:\n",
    "        a  = df4[(df4['Home Team'] == Teams[Row]) & (df4['Away Team'] == Teams[Column])]\n",
    "        Team_Matchups.iloc[Row,Column] = a.shape[0]\n",
    "        Column = Column + 1"
   ]
  },
  {
   "cell_type": "code",
   "execution_count": 53,
   "id": "f8be96a7",
   "metadata": {},
   "outputs": [],
   "source": [
    "Row =5\n",
    "Column =0\n",
    "while Column < Stop:\n",
    "        a  = df4[(df4['Home Team'] == Teams[Row]) & (df4['Away Team'] == Teams[Column])]\n",
    "        Team_Matchups.iloc[Row,Column] = a.shape[0]\n",
    "        Column = Column + 1"
   ]
  },
  {
   "cell_type": "code",
   "execution_count": 54,
   "id": "429e2835",
   "metadata": {},
   "outputs": [],
   "source": [
    "Row =6\n",
    "Column =0\n",
    "while Column < Stop:\n",
    "        a  = df4[(df4['Home Team'] == Teams[Row]) & (df4['Away Team'] == Teams[Column])]\n",
    "        Team_Matchups.iloc[Row,Column] = a.shape[0]\n",
    "        Column = Column + 1"
   ]
  },
  {
   "cell_type": "code",
   "execution_count": 55,
   "id": "1f977d24",
   "metadata": {},
   "outputs": [],
   "source": [
    "Row =7\n",
    "Column =0\n",
    "while Column < Stop:\n",
    "        a  = df4[(df4['Home Team'] == Teams[Row]) & (df4['Away Team'] == Teams[Column])]\n",
    "        Team_Matchups.iloc[Row,Column] = a.shape[0]\n",
    "        Column = Column + 1"
   ]
  },
  {
   "cell_type": "code",
   "execution_count": 56,
   "id": "c9132a85",
   "metadata": {},
   "outputs": [],
   "source": [
    "Row =8\n",
    "Column =0\n",
    "while Column < Stop:\n",
    "        a  = df4[(df4['Home Team'] == Teams[Row]) & (df4['Away Team'] == Teams[Column])]\n",
    "        Team_Matchups.iloc[Row,Column] = a.shape[0]\n",
    "        Column = Column + 1"
   ]
  },
  {
   "cell_type": "code",
   "execution_count": 57,
   "id": "d9d8385b",
   "metadata": {},
   "outputs": [],
   "source": [
    "Row =9\n",
    "Column =0\n",
    "while Column < Stop:\n",
    "        a  = df4[(df4['Home Team'] == Teams[Row]) & (df4['Away Team'] == Teams[Column])]\n",
    "        Team_Matchups.iloc[Row,Column] = a.shape[0]\n",
    "        Column = Column + 1"
   ]
  },
  {
   "cell_type": "code",
   "execution_count": 58,
   "id": "a5f0c178",
   "metadata": {},
   "outputs": [],
   "source": [
    "Row =10\n",
    "Column =0\n",
    "while Column < Stop:\n",
    "        a  = df4[(df4['Home Team'] == Teams[Row]) & (df4['Away Team'] == Teams[Column])]\n",
    "        Team_Matchups.iloc[Row,Column] = a.shape[0]\n",
    "        Column = Column + 1"
   ]
  },
  {
   "cell_type": "code",
   "execution_count": 59,
   "id": "a59fef79",
   "metadata": {},
   "outputs": [],
   "source": [
    "Row =11\n",
    "Column =0\n",
    "while Column < Stop:\n",
    "        a  = df4[(df4['Home Team'] == Teams[Row]) & (df4['Away Team'] == Teams[Column])]\n",
    "        Team_Matchups.iloc[Row,Column] = a.shape[0]\n",
    "        Column = Column + 1"
   ]
  },
  {
   "cell_type": "code",
   "execution_count": 60,
   "id": "a7d9d7b3",
   "metadata": {},
   "outputs": [],
   "source": [
    "Row =12\n",
    "Column =0\n",
    "while Column < Stop:\n",
    "        a  = df4[(df4['Home Team'] == Teams[Row]) & (df4['Away Team'] == Teams[Column])]\n",
    "        Team_Matchups.iloc[Row,Column] = a.shape[0]\n",
    "        Column = Column + 1"
   ]
  },
  {
   "cell_type": "code",
   "execution_count": 61,
   "id": "5ed49614",
   "metadata": {},
   "outputs": [],
   "source": [
    "Row =13\n",
    "Column =0\n",
    "while Column < Stop:\n",
    "        a  = df4[(df4['Home Team'] == Teams[Row]) & (df4['Away Team'] == Teams[Column])]\n",
    "        Team_Matchups.iloc[Row,Column] = a.shape[0]\n",
    "        Column = Column + 1"
   ]
  },
  {
   "cell_type": "markdown",
   "id": "4ffbbf7a",
   "metadata": {},
   "source": [
    "# Team_Matchups shows the number of Home & Away games btwn each team. Rows  = Home Team , Column = Away Team"
   ]
  },
  {
   "cell_type": "code",
   "execution_count": 62,
   "id": "05a9a5bd",
   "metadata": {},
   "outputs": [],
   "source": [
    "#We can see that there are more matchups between some teams, although that is due to how the conference is divided as there are two sub-divisions within the SEC\n",
    "\n",
    "#e.g. There were 8 machups between Auburn & LSU where Auburn was the Home Team, and 9 where LSU was the home team. "
   ]
  },
  {
   "cell_type": "code",
   "execution_count": 63,
   "id": "e8ffe0d5",
   "metadata": {},
   "outputs": [
    {
     "data": {
      "text/html": [
       "<div>\n",
       "<style scoped>\n",
       "    .dataframe tbody tr th:only-of-type {\n",
       "        vertical-align: middle;\n",
       "    }\n",
       "\n",
       "    .dataframe tbody tr th {\n",
       "        vertical-align: top;\n",
       "    }\n",
       "\n",
       "    .dataframe thead th {\n",
       "        text-align: right;\n",
       "    }\n",
       "</style>\n",
       "<table border=\"1\" class=\"dataframe\">\n",
       "  <thead>\n",
       "    <tr style=\"text-align: right;\">\n",
       "      <th></th>\n",
       "      <th>Alabama</th>\n",
       "      <th>LSU</th>\n",
       "      <th>Auburn</th>\n",
       "      <th>Vanderbilt</th>\n",
       "      <th>Arkansas</th>\n",
       "      <th>Mississippi State</th>\n",
       "      <th>South Carolina</th>\n",
       "      <th>Missouri</th>\n",
       "      <th>Ole Miss</th>\n",
       "      <th>Tennessee</th>\n",
       "      <th>Kentucky</th>\n",
       "      <th>Georgia</th>\n",
       "      <th>Texas A&amp;M</th>\n",
       "      <th>Florida</th>\n",
       "    </tr>\n",
       "  </thead>\n",
       "  <tbody>\n",
       "    <tr>\n",
       "      <th>Alabama</th>\n",
       "      <td>0</td>\n",
       "      <td>9</td>\n",
       "      <td>9</td>\n",
       "      <td>2</td>\n",
       "      <td>9</td>\n",
       "      <td>9</td>\n",
       "      <td>1</td>\n",
       "      <td>1</td>\n",
       "      <td>9</td>\n",
       "      <td>8</td>\n",
       "      <td>3</td>\n",
       "      <td>3</td>\n",
       "      <td>5</td>\n",
       "      <td>5</td>\n",
       "    </tr>\n",
       "    <tr>\n",
       "      <th>LSU</th>\n",
       "      <td>9</td>\n",
       "      <td>0</td>\n",
       "      <td>9</td>\n",
       "      <td>1</td>\n",
       "      <td>9</td>\n",
       "      <td>8</td>\n",
       "      <td>3</td>\n",
       "      <td>1</td>\n",
       "      <td>9</td>\n",
       "      <td>3</td>\n",
       "      <td>3</td>\n",
       "      <td>4</td>\n",
       "      <td>5</td>\n",
       "      <td>9</td>\n",
       "    </tr>\n",
       "    <tr>\n",
       "      <th>Auburn</th>\n",
       "      <td>9</td>\n",
       "      <td>8</td>\n",
       "      <td>0</td>\n",
       "      <td>2</td>\n",
       "      <td>8</td>\n",
       "      <td>9</td>\n",
       "      <td>3</td>\n",
       "      <td>1</td>\n",
       "      <td>9</td>\n",
       "      <td>4</td>\n",
       "      <td>2</td>\n",
       "      <td>11</td>\n",
       "      <td>5</td>\n",
       "      <td>2</td>\n",
       "    </tr>\n",
       "    <tr>\n",
       "      <th>Vanderbilt</th>\n",
       "      <td>2</td>\n",
       "      <td>3</td>\n",
       "      <td>2</td>\n",
       "      <td>0</td>\n",
       "      <td>2</td>\n",
       "      <td>2</td>\n",
       "      <td>8</td>\n",
       "      <td>5</td>\n",
       "      <td>8</td>\n",
       "      <td>9</td>\n",
       "      <td>9</td>\n",
       "      <td>8</td>\n",
       "      <td>1</td>\n",
       "      <td>9</td>\n",
       "    </tr>\n",
       "    <tr>\n",
       "      <th>Arkansas</th>\n",
       "      <td>8</td>\n",
       "      <td>9</td>\n",
       "      <td>9</td>\n",
       "      <td>2</td>\n",
       "      <td>0</td>\n",
       "      <td>9</td>\n",
       "      <td>5</td>\n",
       "      <td>4</td>\n",
       "      <td>9</td>\n",
       "      <td>3</td>\n",
       "      <td>2</td>\n",
       "      <td>3</td>\n",
       "      <td>5</td>\n",
       "      <td>2</td>\n",
       "    </tr>\n",
       "    <tr>\n",
       "      <th>Mississippi State</th>\n",
       "      <td>9</td>\n",
       "      <td>9</td>\n",
       "      <td>8</td>\n",
       "      <td>3</td>\n",
       "      <td>9</td>\n",
       "      <td>0</td>\n",
       "      <td>3</td>\n",
       "      <td>1</td>\n",
       "      <td>9</td>\n",
       "      <td>2</td>\n",
       "      <td>8</td>\n",
       "      <td>2</td>\n",
       "      <td>5</td>\n",
       "      <td>2</td>\n",
       "    </tr>\n",
       "    <tr>\n",
       "      <th>South Carolina</th>\n",
       "      <td>3</td>\n",
       "      <td>1</td>\n",
       "      <td>5</td>\n",
       "      <td>9</td>\n",
       "      <td>5</td>\n",
       "      <td>2</td>\n",
       "      <td>0</td>\n",
       "      <td>5</td>\n",
       "      <td>1</td>\n",
       "      <td>9</td>\n",
       "      <td>8</td>\n",
       "      <td>8</td>\n",
       "      <td>4</td>\n",
       "      <td>9</td>\n",
       "    </tr>\n",
       "    <tr>\n",
       "      <th>Missouri</th>\n",
       "      <td>2</td>\n",
       "      <td>1</td>\n",
       "      <td>1</td>\n",
       "      <td>5</td>\n",
       "      <td>4</td>\n",
       "      <td>1</td>\n",
       "      <td>5</td>\n",
       "      <td>0</td>\n",
       "      <td>1</td>\n",
       "      <td>5</td>\n",
       "      <td>5</td>\n",
       "      <td>5</td>\n",
       "      <td>2</td>\n",
       "      <td>5</td>\n",
       "    </tr>\n",
       "    <tr>\n",
       "      <th>Ole Miss</th>\n",
       "      <td>8</td>\n",
       "      <td>9</td>\n",
       "      <td>8</td>\n",
       "      <td>8</td>\n",
       "      <td>9</td>\n",
       "      <td>9</td>\n",
       "      <td>3</td>\n",
       "      <td>1</td>\n",
       "      <td>0</td>\n",
       "      <td>2</td>\n",
       "      <td>1</td>\n",
       "      <td>3</td>\n",
       "      <td>6</td>\n",
       "      <td>2</td>\n",
       "    </tr>\n",
       "    <tr>\n",
       "      <th>Tennessee</th>\n",
       "      <td>8</td>\n",
       "      <td>3</td>\n",
       "      <td>2</td>\n",
       "      <td>8</td>\n",
       "      <td>2</td>\n",
       "      <td>2</td>\n",
       "      <td>9</td>\n",
       "      <td>5</td>\n",
       "      <td>3</td>\n",
       "      <td>0</td>\n",
       "      <td>8</td>\n",
       "      <td>9</td>\n",
       "      <td>1</td>\n",
       "      <td>8</td>\n",
       "    </tr>\n",
       "    <tr>\n",
       "      <th>Kentucky</th>\n",
       "      <td>2</td>\n",
       "      <td>2</td>\n",
       "      <td>3</td>\n",
       "      <td>9</td>\n",
       "      <td>2</td>\n",
       "      <td>8</td>\n",
       "      <td>8</td>\n",
       "      <td>5</td>\n",
       "      <td>4</td>\n",
       "      <td>9</td>\n",
       "      <td>0</td>\n",
       "      <td>9</td>\n",
       "      <td>0</td>\n",
       "      <td>8</td>\n",
       "    </tr>\n",
       "    <tr>\n",
       "      <th>Georgia</th>\n",
       "      <td>5</td>\n",
       "      <td>2</td>\n",
       "      <td>8</td>\n",
       "      <td>7</td>\n",
       "      <td>3</td>\n",
       "      <td>4</td>\n",
       "      <td>9</td>\n",
       "      <td>5</td>\n",
       "      <td>2</td>\n",
       "      <td>8</td>\n",
       "      <td>9</td>\n",
       "      <td>0</td>\n",
       "      <td>1</td>\n",
       "      <td>7</td>\n",
       "    </tr>\n",
       "    <tr>\n",
       "      <th>Texas A&amp;M</th>\n",
       "      <td>5</td>\n",
       "      <td>5</td>\n",
       "      <td>5</td>\n",
       "      <td>2</td>\n",
       "      <td>4</td>\n",
       "      <td>5</td>\n",
       "      <td>4</td>\n",
       "      <td>3</td>\n",
       "      <td>3</td>\n",
       "      <td>1</td>\n",
       "      <td>1</td>\n",
       "      <td>0</td>\n",
       "      <td>0</td>\n",
       "      <td>2</td>\n",
       "    </tr>\n",
       "    <tr>\n",
       "      <th>Florida</th>\n",
       "      <td>6</td>\n",
       "      <td>8</td>\n",
       "      <td>2</td>\n",
       "      <td>9</td>\n",
       "      <td>4</td>\n",
       "      <td>2</td>\n",
       "      <td>9</td>\n",
       "      <td>5</td>\n",
       "      <td>2</td>\n",
       "      <td>9</td>\n",
       "      <td>8</td>\n",
       "      <td>9</td>\n",
       "      <td>1</td>\n",
       "      <td>0</td>\n",
       "    </tr>\n",
       "  </tbody>\n",
       "</table>\n",
       "</div>"
      ],
      "text/plain": [
       "                  Alabama LSU Auburn Vanderbilt Arkansas Mississippi State  \\\n",
       "Alabama                 0   9      9          2        9                 9   \n",
       "LSU                     9   0      9          1        9                 8   \n",
       "Auburn                  9   8      0          2        8                 9   \n",
       "Vanderbilt              2   3      2          0        2                 2   \n",
       "Arkansas                8   9      9          2        0                 9   \n",
       "Mississippi State       9   9      8          3        9                 0   \n",
       "South Carolina          3   1      5          9        5                 2   \n",
       "Missouri                2   1      1          5        4                 1   \n",
       "Ole Miss                8   9      8          8        9                 9   \n",
       "Tennessee               8   3      2          8        2                 2   \n",
       "Kentucky                2   2      3          9        2                 8   \n",
       "Georgia                 5   2      8          7        3                 4   \n",
       "Texas A&M               5   5      5          2        4                 5   \n",
       "Florida                 6   8      2          9        4                 2   \n",
       "\n",
       "                  South Carolina Missouri Ole Miss Tennessee Kentucky Georgia  \\\n",
       "Alabama                        1        1        9         8        3       3   \n",
       "LSU                            3        1        9         3        3       4   \n",
       "Auburn                         3        1        9         4        2      11   \n",
       "Vanderbilt                     8        5        8         9        9       8   \n",
       "Arkansas                       5        4        9         3        2       3   \n",
       "Mississippi State              3        1        9         2        8       2   \n",
       "South Carolina                 0        5        1         9        8       8   \n",
       "Missouri                       5        0        1         5        5       5   \n",
       "Ole Miss                       3        1        0         2        1       3   \n",
       "Tennessee                      9        5        3         0        8       9   \n",
       "Kentucky                       8        5        4         9        0       9   \n",
       "Georgia                        9        5        2         8        9       0   \n",
       "Texas A&M                      4        3        3         1        1       0   \n",
       "Florida                        9        5        2         9        8       9   \n",
       "\n",
       "                  Texas A&M Florida  \n",
       "Alabama                   5       5  \n",
       "LSU                       5       9  \n",
       "Auburn                    5       2  \n",
       "Vanderbilt                1       9  \n",
       "Arkansas                  5       2  \n",
       "Mississippi State         5       2  \n",
       "South Carolina            4       9  \n",
       "Missouri                  2       5  \n",
       "Ole Miss                  6       2  \n",
       "Tennessee                 1       8  \n",
       "Kentucky                  0       8  \n",
       "Georgia                   1       7  \n",
       "Texas A&M                 0       2  \n",
       "Florida                   1       0  "
      ]
     },
     "execution_count": 63,
     "metadata": {},
     "output_type": "execute_result"
    }
   ],
   "source": [
    "Team_Matchups"
   ]
  },
  {
   "cell_type": "code",
   "execution_count": 64,
   "id": "cf7fb1eb",
   "metadata": {},
   "outputs": [
    {
     "data": {
      "text/html": [
       "<div>\n",
       "<style scoped>\n",
       "    .dataframe tbody tr th:only-of-type {\n",
       "        vertical-align: middle;\n",
       "    }\n",
       "\n",
       "    .dataframe tbody tr th {\n",
       "        vertical-align: top;\n",
       "    }\n",
       "\n",
       "    .dataframe thead th {\n",
       "        text-align: right;\n",
       "    }\n",
       "</style>\n",
       "<table border=\"1\" class=\"dataframe\">\n",
       "  <thead>\n",
       "    <tr style=\"text-align: right;\">\n",
       "      <th></th>\n",
       "      <th>Home Team Spread_x</th>\n",
       "      <th>Away Team Spread_x</th>\n",
       "      <th>Total_x</th>\n",
       "      <th>Home Score_x_x</th>\n",
       "      <th>Rolling 5 Past H&amp;A Score Avg_Home_Team</th>\n",
       "      <th>Rolling 5 Past H&amp;A 1st Downs Avg_Home_Team</th>\n",
       "      <th>Rolling 5 Past H&amp;A Total Yards Avg_Home_Team</th>\n",
       "      <th>Rolling 5 Past H&amp;A Yards per Pass Avg_Home_Team</th>\n",
       "      <th>Rolling 5 Past H&amp;A Spread Avg_Home_Team</th>\n",
       "      <th>Rolling 5 Past H&amp;A Spread Min_Home_Team</th>\n",
       "      <th>...</th>\n",
       "      <th>Rolling 5 Past H&amp;A Season T Losses_Home_Team</th>\n",
       "      <th>Home Team Ranking_x</th>\n",
       "      <th>Away Team Ranking_x</th>\n",
       "      <th>Previous H&amp;A Ranking_Home_Team</th>\n",
       "      <th>Previous H&amp;A Ranking_Away_Team</th>\n",
       "      <th>H Spread Outcome</th>\n",
       "      <th>Date</th>\n",
       "      <th>Home Team</th>\n",
       "      <th>Away Team</th>\n",
       "      <th>Year</th>\n",
       "    </tr>\n",
       "  </thead>\n",
       "  <tbody>\n",
       "    <tr>\n",
       "      <th>356</th>\n",
       "      <td>-18.0</td>\n",
       "      <td>18.0</td>\n",
       "      <td>41.5</td>\n",
       "      <td>53.0</td>\n",
       "      <td>30.0</td>\n",
       "      <td>21.2</td>\n",
       "      <td>409.8</td>\n",
       "      <td>7.06</td>\n",
       "      <td>-3.3</td>\n",
       "      <td>-17.0</td>\n",
       "      <td>...</td>\n",
       "      <td>19.0</td>\n",
       "      <td>99</td>\n",
       "      <td>99</td>\n",
       "      <td>99.0</td>\n",
       "      <td>99.0</td>\n",
       "      <td>H_Spread_W</td>\n",
       "      <td>2015-11-28</td>\n",
       "      <td>Tennessee</td>\n",
       "      <td>Vanderbilt</td>\n",
       "      <td>2015</td>\n",
       "    </tr>\n",
       "    <tr>\n",
       "      <th>176</th>\n",
       "      <td>-13.0</td>\n",
       "      <td>13.0</td>\n",
       "      <td>49.0</td>\n",
       "      <td>34.0</td>\n",
       "      <td>27.0</td>\n",
       "      <td>23.6</td>\n",
       "      <td>428.0</td>\n",
       "      <td>7.56</td>\n",
       "      <td>-5.0</td>\n",
       "      <td>-10.0</td>\n",
       "      <td>...</td>\n",
       "      <td>9.0</td>\n",
       "      <td>9</td>\n",
       "      <td>99</td>\n",
       "      <td>9.0</td>\n",
       "      <td>99.0</td>\n",
       "      <td>H_Spread_W</td>\n",
       "      <td>2019-09-21</td>\n",
       "      <td>Florida</td>\n",
       "      <td>Tennessee</td>\n",
       "      <td>2019</td>\n",
       "    </tr>\n",
       "    <tr>\n",
       "      <th>619</th>\n",
       "      <td>2.5</td>\n",
       "      <td>-2.5</td>\n",
       "      <td>61.0</td>\n",
       "      <td>42.0</td>\n",
       "      <td>34.6</td>\n",
       "      <td>20.4</td>\n",
       "      <td>435.2</td>\n",
       "      <td>9.92</td>\n",
       "      <td>-2.0</td>\n",
       "      <td>-20.0</td>\n",
       "      <td>...</td>\n",
       "      <td>9.0</td>\n",
       "      <td>18</td>\n",
       "      <td>14</td>\n",
       "      <td>14.0</td>\n",
       "      <td>99.0</td>\n",
       "      <td>H_Spread_W</td>\n",
       "      <td>2011-10-01</td>\n",
       "      <td>Arkansas</td>\n",
       "      <td>Texas A&amp;M</td>\n",
       "      <td>2011</td>\n",
       "    </tr>\n",
       "    <tr>\n",
       "      <th>730</th>\n",
       "      <td>-7.0</td>\n",
       "      <td>7.0</td>\n",
       "      <td>39.5</td>\n",
       "      <td>41.0</td>\n",
       "      <td>29.0</td>\n",
       "      <td>19.8</td>\n",
       "      <td>427.4</td>\n",
       "      <td>9.76</td>\n",
       "      <td>-6.8</td>\n",
       "      <td>-16.5</td>\n",
       "      <td>...</td>\n",
       "      <td>8.0</td>\n",
       "      <td>21</td>\n",
       "      <td>99</td>\n",
       "      <td>10.0</td>\n",
       "      <td>25.0</td>\n",
       "      <td>H_Spread_L</td>\n",
       "      <td>2009-09-12</td>\n",
       "      <td>Georgia</td>\n",
       "      <td>South Carolina</td>\n",
       "      <td>2009</td>\n",
       "    </tr>\n",
       "    <tr>\n",
       "      <th>281</th>\n",
       "      <td>3.0</td>\n",
       "      <td>-3.0</td>\n",
       "      <td>45.0</td>\n",
       "      <td>48.0</td>\n",
       "      <td>19.8</td>\n",
       "      <td>17.0</td>\n",
       "      <td>336.0</td>\n",
       "      <td>7.80</td>\n",
       "      <td>2.2</td>\n",
       "      <td>-5.5</td>\n",
       "      <td>...</td>\n",
       "      <td>12.0</td>\n",
       "      <td>99</td>\n",
       "      <td>99</td>\n",
       "      <td>99.0</td>\n",
       "      <td>99.0</td>\n",
       "      <td>H_Spread_W</td>\n",
       "      <td>2017-10-07</td>\n",
       "      <td>South Carolina</td>\n",
       "      <td>Arkansas</td>\n",
       "      <td>2017</td>\n",
       "    </tr>\n",
       "    <tr>\n",
       "      <th>416</th>\n",
       "      <td>-5.0</td>\n",
       "      <td>5.0</td>\n",
       "      <td>48.5</td>\n",
       "      <td>21.0</td>\n",
       "      <td>25.4</td>\n",
       "      <td>21.2</td>\n",
       "      <td>392.6</td>\n",
       "      <td>6.84</td>\n",
       "      <td>5.7</td>\n",
       "      <td>-11.0</td>\n",
       "      <td>...</td>\n",
       "      <td>22.0</td>\n",
       "      <td>99</td>\n",
       "      <td>20</td>\n",
       "      <td>99.0</td>\n",
       "      <td>99.0</td>\n",
       "      <td>H_Spread_L</td>\n",
       "      <td>2014-11-22</td>\n",
       "      <td>Tennessee</td>\n",
       "      <td>Missouri</td>\n",
       "      <td>2014</td>\n",
       "    </tr>\n",
       "    <tr>\n",
       "      <th>180</th>\n",
       "      <td>26.5</td>\n",
       "      <td>-26.5</td>\n",
       "      <td>59.5</td>\n",
       "      <td>23.0</td>\n",
       "      <td>33.2</td>\n",
       "      <td>18.4</td>\n",
       "      <td>389.6</td>\n",
       "      <td>8.56</td>\n",
       "      <td>0.3</td>\n",
       "      <td>-10.5</td>\n",
       "      <td>...</td>\n",
       "      <td>15.0</td>\n",
       "      <td>99</td>\n",
       "      <td>2</td>\n",
       "      <td>99.0</td>\n",
       "      <td>1.0</td>\n",
       "      <td>H_Spread_W</td>\n",
       "      <td>2019-09-14</td>\n",
       "      <td>South Carolina</td>\n",
       "      <td>Alabama</td>\n",
       "      <td>2019</td>\n",
       "    </tr>\n",
       "    <tr>\n",
       "      <th>5</th>\n",
       "      <td>-14.5</td>\n",
       "      <td>14.5</td>\n",
       "      <td>63.0</td>\n",
       "      <td>34.0</td>\n",
       "      <td>31.2</td>\n",
       "      <td>25.0</td>\n",
       "      <td>456.0</td>\n",
       "      <td>8.08</td>\n",
       "      <td>2.8</td>\n",
       "      <td>-4.5</td>\n",
       "      <td>...</td>\n",
       "      <td>15.0</td>\n",
       "      <td>25</td>\n",
       "      <td>99</td>\n",
       "      <td>21.0</td>\n",
       "      <td>99.0</td>\n",
       "      <td>H_Spread_W</td>\n",
       "      <td>2021-11-26</td>\n",
       "      <td>Arkansas</td>\n",
       "      <td>Missouri</td>\n",
       "      <td>2021</td>\n",
       "    </tr>\n",
       "    <tr>\n",
       "      <th>27</th>\n",
       "      <td>-25.0</td>\n",
       "      <td>25.0</td>\n",
       "      <td>68.0</td>\n",
       "      <td>52.0</td>\n",
       "      <td>42.4</td>\n",
       "      <td>25.2</td>\n",
       "      <td>490.4</td>\n",
       "      <td>9.20</td>\n",
       "      <td>-16.2</td>\n",
       "      <td>-18.5</td>\n",
       "      <td>...</td>\n",
       "      <td>2.0</td>\n",
       "      <td>4</td>\n",
       "      <td>99</td>\n",
       "      <td>5.0</td>\n",
       "      <td>99.0</td>\n",
       "      <td>H_Spread_W</td>\n",
       "      <td>2021-10-23</td>\n",
       "      <td>Alabama</td>\n",
       "      <td>Tennessee</td>\n",
       "      <td>2021</td>\n",
       "    </tr>\n",
       "    <tr>\n",
       "      <th>886</th>\n",
       "      <td>16.5</td>\n",
       "      <td>-16.5</td>\n",
       "      <td>39.5</td>\n",
       "      <td>7.0</td>\n",
       "      <td>10.6</td>\n",
       "      <td>15.0</td>\n",
       "      <td>285.0</td>\n",
       "      <td>6.02</td>\n",
       "      <td>9.5</td>\n",
       "      <td>-10.0</td>\n",
       "      <td>...</td>\n",
       "      <td>22.0</td>\n",
       "      <td>99</td>\n",
       "      <td>4</td>\n",
       "      <td>99.0</td>\n",
       "      <td>5.0</td>\n",
       "      <td>H_Spread_L</td>\n",
       "      <td>2005-11-19</td>\n",
       "      <td>Ole Miss</td>\n",
       "      <td>LSU</td>\n",
       "      <td>2005</td>\n",
       "    </tr>\n",
       "  </tbody>\n",
       "</table>\n",
       "<p>10 rows × 40 columns</p>\n",
       "</div>"
      ],
      "text/plain": [
       "     Home Team Spread_x  Away Team Spread_x  Total_x  Home Score_x_x  \\\n",
       "356               -18.0                18.0     41.5            53.0   \n",
       "176               -13.0                13.0     49.0            34.0   \n",
       "619                 2.5                -2.5     61.0            42.0   \n",
       "730                -7.0                 7.0     39.5            41.0   \n",
       "281                 3.0                -3.0     45.0            48.0   \n",
       "416                -5.0                 5.0     48.5            21.0   \n",
       "180                26.5               -26.5     59.5            23.0   \n",
       "5                 -14.5                14.5     63.0            34.0   \n",
       "27                -25.0                25.0     68.0            52.0   \n",
       "886                16.5               -16.5     39.5             7.0   \n",
       "\n",
       "     Rolling 5 Past H&A Score Avg_Home_Team  \\\n",
       "356                                    30.0   \n",
       "176                                    27.0   \n",
       "619                                    34.6   \n",
       "730                                    29.0   \n",
       "281                                    19.8   \n",
       "416                                    25.4   \n",
       "180                                    33.2   \n",
       "5                                      31.2   \n",
       "27                                     42.4   \n",
       "886                                    10.6   \n",
       "\n",
       "     Rolling 5 Past H&A 1st Downs Avg_Home_Team  \\\n",
       "356                                        21.2   \n",
       "176                                        23.6   \n",
       "619                                        20.4   \n",
       "730                                        19.8   \n",
       "281                                        17.0   \n",
       "416                                        21.2   \n",
       "180                                        18.4   \n",
       "5                                          25.0   \n",
       "27                                         25.2   \n",
       "886                                        15.0   \n",
       "\n",
       "     Rolling 5 Past H&A Total Yards Avg_Home_Team  \\\n",
       "356                                         409.8   \n",
       "176                                         428.0   \n",
       "619                                         435.2   \n",
       "730                                         427.4   \n",
       "281                                         336.0   \n",
       "416                                         392.6   \n",
       "180                                         389.6   \n",
       "5                                           456.0   \n",
       "27                                          490.4   \n",
       "886                                         285.0   \n",
       "\n",
       "     Rolling 5 Past H&A Yards per Pass Avg_Home_Team  \\\n",
       "356                                             7.06   \n",
       "176                                             7.56   \n",
       "619                                             9.92   \n",
       "730                                             9.76   \n",
       "281                                             7.80   \n",
       "416                                             6.84   \n",
       "180                                             8.56   \n",
       "5                                               8.08   \n",
       "27                                              9.20   \n",
       "886                                             6.02   \n",
       "\n",
       "     Rolling 5 Past H&A Spread Avg_Home_Team  \\\n",
       "356                                     -3.3   \n",
       "176                                     -5.0   \n",
       "619                                     -2.0   \n",
       "730                                     -6.8   \n",
       "281                                      2.2   \n",
       "416                                      5.7   \n",
       "180                                      0.3   \n",
       "5                                        2.8   \n",
       "27                                     -16.2   \n",
       "886                                      9.5   \n",
       "\n",
       "     Rolling 5 Past H&A Spread Min_Home_Team  ...  \\\n",
       "356                                    -17.0  ...   \n",
       "176                                    -10.0  ...   \n",
       "619                                    -20.0  ...   \n",
       "730                                    -16.5  ...   \n",
       "281                                     -5.5  ...   \n",
       "416                                    -11.0  ...   \n",
       "180                                    -10.5  ...   \n",
       "5                                       -4.5  ...   \n",
       "27                                     -18.5  ...   \n",
       "886                                    -10.0  ...   \n",
       "\n",
       "     Rolling 5 Past H&A Season T Losses_Home_Team  Home Team Ranking_x  \\\n",
       "356                                          19.0                   99   \n",
       "176                                           9.0                    9   \n",
       "619                                           9.0                   18   \n",
       "730                                           8.0                   21   \n",
       "281                                          12.0                   99   \n",
       "416                                          22.0                   99   \n",
       "180                                          15.0                   99   \n",
       "5                                            15.0                   25   \n",
       "27                                            2.0                    4   \n",
       "886                                          22.0                   99   \n",
       "\n",
       "     Away Team Ranking_x  Previous H&A Ranking_Home_Team  \\\n",
       "356                   99                            99.0   \n",
       "176                   99                             9.0   \n",
       "619                   14                            14.0   \n",
       "730                   99                            10.0   \n",
       "281                   99                            99.0   \n",
       "416                   20                            99.0   \n",
       "180                    2                            99.0   \n",
       "5                     99                            21.0   \n",
       "27                    99                             5.0   \n",
       "886                    4                            99.0   \n",
       "\n",
       "     Previous H&A Ranking_Away_Team  H Spread Outcome       Date  \\\n",
       "356                            99.0        H_Spread_W 2015-11-28   \n",
       "176                            99.0        H_Spread_W 2019-09-21   \n",
       "619                            99.0        H_Spread_W 2011-10-01   \n",
       "730                            25.0        H_Spread_L 2009-09-12   \n",
       "281                            99.0        H_Spread_W 2017-10-07   \n",
       "416                            99.0        H_Spread_L 2014-11-22   \n",
       "180                             1.0        H_Spread_W 2019-09-14   \n",
       "5                              99.0        H_Spread_W 2021-11-26   \n",
       "27                             99.0        H_Spread_W 2021-10-23   \n",
       "886                             5.0        H_Spread_L 2005-11-19   \n",
       "\n",
       "          Home Team       Away Team  Year  \n",
       "356       Tennessee      Vanderbilt  2015  \n",
       "176         Florida       Tennessee  2019  \n",
       "619        Arkansas       Texas A&M  2011  \n",
       "730         Georgia  South Carolina  2009  \n",
       "281  South Carolina        Arkansas  2017  \n",
       "416       Tennessee        Missouri  2014  \n",
       "180  South Carolina         Alabama  2019  \n",
       "5          Arkansas        Missouri  2021  \n",
       "27          Alabama       Tennessee  2021  \n",
       "886        Ole Miss             LSU  2005  \n",
       "\n",
       "[10 rows x 40 columns]"
      ]
     },
     "execution_count": 64,
     "metadata": {},
     "output_type": "execute_result"
    }
   ],
   "source": [
    "df4.sample(10)"
   ]
  },
  {
   "cell_type": "markdown",
   "id": "d2495905",
   "metadata": {},
   "source": [
    "# Dropped more columns to avoid over complications given the limited dataa"
   ]
  },
  {
   "cell_type": "code",
   "execution_count": 65,
   "id": "fb2e8e8f",
   "metadata": {},
   "outputs": [],
   "source": [
    "#decided to drop the home team, away team,Date,year given this is a limited datset already and didn't want to overcomplicate the decision tree "
   ]
  },
  {
   "cell_type": "code",
   "execution_count": 66,
   "id": "97414ac9",
   "metadata": {},
   "outputs": [
    {
     "name": "stderr",
     "output_type": "stream",
     "text": [
      "<ipython-input-66-4ad045b01259>:1: SettingWithCopyWarning: \n",
      "A value is trying to be set on a copy of a slice from a DataFrame\n",
      "\n",
      "See the caveats in the documentation: https://pandas.pydata.org/pandas-docs/stable/user_guide/indexing.html#returning-a-view-versus-a-copy\n",
      "  df4.drop('Home Team',inplace=True,axis=1)\n",
      "<ipython-input-66-4ad045b01259>:2: SettingWithCopyWarning: \n",
      "A value is trying to be set on a copy of a slice from a DataFrame\n",
      "\n",
      "See the caveats in the documentation: https://pandas.pydata.org/pandas-docs/stable/user_guide/indexing.html#returning-a-view-versus-a-copy\n",
      "  df4.drop('Away Team',inplace=True,axis=1)\n",
      "<ipython-input-66-4ad045b01259>:3: SettingWithCopyWarning: \n",
      "A value is trying to be set on a copy of a slice from a DataFrame\n",
      "\n",
      "See the caveats in the documentation: https://pandas.pydata.org/pandas-docs/stable/user_guide/indexing.html#returning-a-view-versus-a-copy\n",
      "  df4.drop('Date',inplace=True,axis=1)\n",
      "<ipython-input-66-4ad045b01259>:4: SettingWithCopyWarning: \n",
      "A value is trying to be set on a copy of a slice from a DataFrame\n",
      "\n",
      "See the caveats in the documentation: https://pandas.pydata.org/pandas-docs/stable/user_guide/indexing.html#returning-a-view-versus-a-copy\n",
      "  df4.drop('Year',inplace=True,axis=1)\n"
     ]
    }
   ],
   "source": [
    "df4.drop('Home Team',inplace=True,axis=1)\n",
    "df4.drop('Away Team',inplace=True,axis=1)\n",
    "df4.drop('Date',inplace=True,axis=1)\n",
    "df4.drop('Year',inplace=True,axis=1)"
   ]
  },
  {
   "cell_type": "code",
   "execution_count": 67,
   "id": "c241f84d",
   "metadata": {},
   "outputs": [
    {
     "data": {
      "text/plain": [
       "Index(['Home Team Spread_x', 'Away Team Spread_x', 'Total_x', 'Home Score_x_x',\n",
       "       'Rolling 5 Past H&A Score Avg_Home_Team',\n",
       "       'Rolling 5 Past H&A 1st Downs Avg_Home_Team',\n",
       "       'Rolling 5 Past H&A Total Yards Avg_Home_Team',\n",
       "       'Rolling 5 Past H&A Yards per Pass Avg_Home_Team',\n",
       "       'Rolling 5 Past H&A Spread Avg_Home_Team',\n",
       "       'Rolling 5 Past H&A Spread Min_Home_Team',\n",
       "       'Rolling 5 Past H&A HI REC yrds Avg_Home_Team',\n",
       "       'Rolling 5 Past H&A Conf T Wins_Home_Team',\n",
       "       'Rolling 5 Past H&A 3rd Down Conversion % Avg_Home_Team',\n",
       "       'Rolling 5 Past H&A Completion % Avg_Home_Team',\n",
       "       'Rolling 5 Past H&A Q1 Score Avg_Home_Team',\n",
       "       'Rolling 5 Past H&A Ranking Avg_Home_Team',\n",
       "       'Rolling 5 Past H&A Season T Losses_Away_Team', 'Away Score_x_x',\n",
       "       'Rolling 5 Past H&A Score Avg_Away_Team',\n",
       "       'Rolling 5 Past H&A 1st Downs Avg_Away_Team',\n",
       "       'Rolling 5 Past H&A Total Yards Avg_Away_Team',\n",
       "       'Rolling 5 Past H&A Yards per Pass Avg_Away_Team',\n",
       "       'Rolling 5 Past H&A Spread Avg_Away_Team',\n",
       "       'Rolling 5 Past H&A Spread Min_Away_Team',\n",
       "       'Rolling 5 Past H&A HI REC yrds Avg_Away_Team',\n",
       "       'Rolling 5 Past H&A Conf T Wins_Away_Team',\n",
       "       'Rolling 5 Past H&A 3rd Down Conversion % Avg_Away_Team',\n",
       "       'Rolling 5 Past H&A Completion % Avg_Away_Team',\n",
       "       'Rolling 5 Past H&A Q1 Score Avg_Away_Team',\n",
       "       'Rolling 5 Past H&A Ranking Avg_Away_Team',\n",
       "       'Rolling 5 Past H&A Season T Losses_Home_Team', 'Home Team Ranking_x',\n",
       "       'Away Team Ranking_x', 'Previous H&A Ranking_Home_Team',\n",
       "       'Previous H&A Ranking_Away_Team', 'H Spread Outcome'],\n",
       "      dtype='object')"
      ]
     },
     "execution_count": 67,
     "metadata": {},
     "output_type": "execute_result"
    }
   ],
   "source": [
    "df4.columns"
   ]
  },
  {
   "cell_type": "code",
   "execution_count": 68,
   "id": "76257fa9",
   "metadata": {},
   "outputs": [
    {
     "name": "stderr",
     "output_type": "stream",
     "text": [
      "<ipython-input-68-62d564fc7e78>:1: SettingWithCopyWarning: \n",
      "A value is trying to be set on a copy of a slice from a DataFrame\n",
      "\n",
      "See the caveats in the documentation: https://pandas.pydata.org/pandas-docs/stable/user_guide/indexing.html#returning-a-view-versus-a-copy\n",
      "  df4.drop('Away Score_x_x',inplace=True,axis=1)#Dropped actual scores, so only data that would have been available at the start of the game remains\n",
      "<ipython-input-68-62d564fc7e78>:2: SettingWithCopyWarning: \n",
      "A value is trying to be set on a copy of a slice from a DataFrame\n",
      "\n",
      "See the caveats in the documentation: https://pandas.pydata.org/pandas-docs/stable/user_guide/indexing.html#returning-a-view-versus-a-copy\n",
      "  df4.drop('Home Score_x_x',inplace=True,axis=1)\n"
     ]
    }
   ],
   "source": [
    "df4.drop('Away Score_x_x',inplace=True,axis=1)#Dropped actual scores, so only data that would have been available at the start of the game remains\n",
    "df4.drop('Home Score_x_x',inplace=True,axis=1)"
   ]
  },
  {
   "cell_type": "code",
   "execution_count": 69,
   "id": "514827e6",
   "metadata": {},
   "outputs": [
    {
     "data": {
      "text/plain": [
       "Index(['Home Team Spread_x', 'Away Team Spread_x', 'Total_x',\n",
       "       'Rolling 5 Past H&A Score Avg_Home_Team',\n",
       "       'Rolling 5 Past H&A 1st Downs Avg_Home_Team',\n",
       "       'Rolling 5 Past H&A Total Yards Avg_Home_Team',\n",
       "       'Rolling 5 Past H&A Yards per Pass Avg_Home_Team',\n",
       "       'Rolling 5 Past H&A Spread Avg_Home_Team',\n",
       "       'Rolling 5 Past H&A Spread Min_Home_Team',\n",
       "       'Rolling 5 Past H&A HI REC yrds Avg_Home_Team',\n",
       "       'Rolling 5 Past H&A Conf T Wins_Home_Team',\n",
       "       'Rolling 5 Past H&A 3rd Down Conversion % Avg_Home_Team',\n",
       "       'Rolling 5 Past H&A Completion % Avg_Home_Team',\n",
       "       'Rolling 5 Past H&A Q1 Score Avg_Home_Team',\n",
       "       'Rolling 5 Past H&A Ranking Avg_Home_Team',\n",
       "       'Rolling 5 Past H&A Season T Losses_Away_Team',\n",
       "       'Rolling 5 Past H&A Score Avg_Away_Team',\n",
       "       'Rolling 5 Past H&A 1st Downs Avg_Away_Team',\n",
       "       'Rolling 5 Past H&A Total Yards Avg_Away_Team',\n",
       "       'Rolling 5 Past H&A Yards per Pass Avg_Away_Team',\n",
       "       'Rolling 5 Past H&A Spread Avg_Away_Team',\n",
       "       'Rolling 5 Past H&A Spread Min_Away_Team',\n",
       "       'Rolling 5 Past H&A HI REC yrds Avg_Away_Team',\n",
       "       'Rolling 5 Past H&A Conf T Wins_Away_Team',\n",
       "       'Rolling 5 Past H&A 3rd Down Conversion % Avg_Away_Team',\n",
       "       'Rolling 5 Past H&A Completion % Avg_Away_Team',\n",
       "       'Rolling 5 Past H&A Q1 Score Avg_Away_Team',\n",
       "       'Rolling 5 Past H&A Ranking Avg_Away_Team',\n",
       "       'Rolling 5 Past H&A Season T Losses_Home_Team', 'Home Team Ranking_x',\n",
       "       'Away Team Ranking_x', 'Previous H&A Ranking_Home_Team',\n",
       "       'Previous H&A Ranking_Away_Team', 'H Spread Outcome'],\n",
       "      dtype='object')"
      ]
     },
     "execution_count": 69,
     "metadata": {},
     "output_type": "execute_result"
    }
   ],
   "source": [
    "df4.columns"
   ]
  },
  {
   "cell_type": "markdown",
   "id": "87fa3605",
   "metadata": {},
   "source": [
    "# Test Train Spit"
   ]
  },
  {
   "cell_type": "code",
   "execution_count": 116,
   "id": "74a23310",
   "metadata": {},
   "outputs": [],
   "source": [
    "X = df4.drop('H Spread Outcome',axis=1)\n",
    "# Create constants for X, so the model knows its bounds\n",
    "y = df4['H Spread Outcome']\n",
    "\n",
    "\n",
    "# Split the data\n",
    "X_train, X_test, y_train, y_test = train_test_split(X, y, test_size = 0.25, random_state = 42)"
   ]
  },
  {
   "cell_type": "code",
   "execution_count": 82,
   "id": "1ab8cad6",
   "metadata": {},
   "outputs": [
    {
     "data": {
      "text/plain": [
       "(696, 33)"
      ]
     },
     "execution_count": 82,
     "metadata": {},
     "output_type": "execute_result"
    }
   ],
   "source": [
    "X_train.shape"
   ]
  },
  {
   "cell_type": "code",
   "execution_count": 83,
   "id": "bd31f3f0",
   "metadata": {},
   "outputs": [
    {
     "data": {
      "text/plain": [
       "(696,)"
      ]
     },
     "execution_count": 83,
     "metadata": {},
     "output_type": "execute_result"
    }
   ],
   "source": [
    "y_train.shape"
   ]
  },
  {
   "cell_type": "code",
   "execution_count": 84,
   "id": "158bc69f",
   "metadata": {},
   "outputs": [
    {
     "data": {
      "text/plain": [
       "(232, 33)"
      ]
     },
     "execution_count": 84,
     "metadata": {},
     "output_type": "execute_result"
    }
   ],
   "source": [
    "X_test.shape"
   ]
  },
  {
   "cell_type": "code",
   "execution_count": 85,
   "id": "95b71674",
   "metadata": {},
   "outputs": [
    {
     "data": {
      "text/plain": [
       "(232,)"
      ]
     },
     "execution_count": 85,
     "metadata": {},
     "output_type": "execute_result"
    }
   ],
   "source": [
    "y_test.shape"
   ]
  },
  {
   "cell_type": "markdown",
   "id": "33fbb4d8",
   "metadata": {},
   "source": [
    "# Modeling"
   ]
  },
  {
   "cell_type": "code",
   "execution_count": 90,
   "id": "b7041a4b",
   "metadata": {},
   "outputs": [],
   "source": [
    "from sklearn.preprocessing import StandardScaler\n",
    "from sklearn.tree import DecisionTreeClassifier\n",
    "from sklearn.model_selection import GridSearchCV\n",
    "from sklearn.ensemble import RandomForestClassifier\n",
    "from sklearn import metrics"
   ]
  },
  {
   "cell_type": "code",
   "execution_count": 87,
   "id": "b5d6b7f1",
   "metadata": {},
   "outputs": [],
   "source": [
    "Scaler = StandardScaler()\n",
    "DT = DecisionTreeClassifier()"
   ]
  },
  {
   "cell_type": "code",
   "execution_count": 88,
   "id": "68b140a8",
   "metadata": {},
   "outputs": [
    {
     "data": {
      "text/plain": [
       "DecisionTreeClassifier()"
      ]
     },
     "execution_count": 88,
     "metadata": {},
     "output_type": "execute_result"
    }
   ],
   "source": [
    "DT.fit(X_train,y_train)"
   ]
  },
  {
   "cell_type": "code",
   "execution_count": 89,
   "id": "a5c23159",
   "metadata": {},
   "outputs": [],
   "source": [
    "y_pred = DT.predict(X_test)"
   ]
  },
  {
   "cell_type": "code",
   "execution_count": 92,
   "id": "c790ffc7",
   "metadata": {},
   "outputs": [
    {
     "data": {
      "text/plain": [
       "0.5043103448275862"
      ]
     },
     "execution_count": 92,
     "metadata": {},
     "output_type": "execute_result"
    }
   ],
   "source": [
    "metrics.accuracy_score(y_test, y_pred)"
   ]
  },
  {
   "cell_type": "markdown",
   "id": "ccd6902e",
   "metadata": {},
   "source": [
    "# Parameter Tuning via Gridsearch"
   ]
  },
  {
   "cell_type": "code",
   "execution_count": 178,
   "id": "0d0b523a",
   "metadata": {},
   "outputs": [],
   "source": [
    "parameters = {\n",
    "    'criterion': ['gini', 'entropy'],\n",
    "    'splitter': ['best','random'],\n",
    "    'max_depth': [1,2,3,4,5,10,15,20,30,40,41,43,45,45,47,50,60],\n",
    "    'min_samples_split': [2,3,5],\n",
    "    'min_samples_leaf':[1,3,5,10],\n",
    "}"
   ]
  },
  {
   "cell_type": "code",
   "execution_count": 179,
   "id": "e80f1da4",
   "metadata": {},
   "outputs": [],
   "source": [
    "DT = DecisionTreeClassifier()"
   ]
  },
  {
   "cell_type": "code",
   "execution_count": 180,
   "id": "d496681d",
   "metadata": {},
   "outputs": [
    {
     "data": {
      "text/plain": [
       "GridSearchCV(cv=5, estimator=DecisionTreeClassifier(),\n",
       "             param_grid={'criterion': ['gini', 'entropy'],\n",
       "                         'max_depth': [1, 2, 3, 4, 5, 10, 15, 20, 30, 40, 41,\n",
       "                                       43, 45, 45, 47, 50, 60],\n",
       "                         'min_samples_leaf': [1, 3, 5, 10],\n",
       "                         'min_samples_split': [2, 3, 5],\n",
       "                         'splitter': ['best', 'random']})"
      ]
     },
     "execution_count": 180,
     "metadata": {},
     "output_type": "execute_result"
    }
   ],
   "source": [
    "clf = GridSearchCV(DT,parameters,cv=5)\n",
    "clf.fit(X,y)"
   ]
  },
  {
   "cell_type": "code",
   "execution_count": 181,
   "id": "e704c458",
   "metadata": {},
   "outputs": [
    {
     "data": {
      "text/plain": [
       "{'criterion': 'entropy',\n",
       " 'max_depth': 20,\n",
       " 'min_samples_leaf': 3,\n",
       " 'min_samples_split': 3,\n",
       " 'splitter': 'random'}"
      ]
     },
     "execution_count": 181,
     "metadata": {},
     "output_type": "execute_result"
    }
   ],
   "source": [
    "clf.best_params_"
   ]
  },
  {
   "cell_type": "code",
   "execution_count": 128,
   "id": "c760025d",
   "metadata": {},
   "outputs": [],
   "source": [
    "best_params = clf.best_params_"
   ]
  },
  {
   "cell_type": "code",
   "execution_count": 123,
   "id": "92efb11d",
   "metadata": {},
   "outputs": [],
   "source": [
    "y_pred = clf.predict(X)"
   ]
  },
  {
   "cell_type": "code",
   "execution_count": 124,
   "id": "b7d6f628",
   "metadata": {},
   "outputs": [
    {
     "data": {
      "text/plain": [
       "0.6853448275862069"
      ]
     },
     "execution_count": 124,
     "metadata": {},
     "output_type": "execute_result"
    }
   ],
   "source": [
    "metrics.accuracy_score(y, y_pred)"
   ]
  },
  {
   "cell_type": "code",
   "execution_count": 125,
   "id": "cde6cbf0",
   "metadata": {},
   "outputs": [],
   "source": [
    "y_pred = clf.predict(X_test)"
   ]
  },
  {
   "cell_type": "code",
   "execution_count": 126,
   "id": "0089530a",
   "metadata": {},
   "outputs": [
    {
     "data": {
      "text/plain": [
       "0.6982758620689655"
      ]
     },
     "execution_count": 126,
     "metadata": {},
     "output_type": "execute_result"
    }
   ],
   "source": [
    "metrics.accuracy_score(y_test, y_pred)"
   ]
  },
  {
   "cell_type": "code",
   "execution_count": 289,
   "id": "5edead9c",
   "metadata": {},
   "outputs": [],
   "source": [
    "parameters = {\n",
    "    'criterion': ['gini', 'entropy'],\n",
    "    'splitter': ['best','random'],\n",
    "    'max_depth': [1,2,3,4,5,6,7,8,9,10,11,12,13,14,15,16,17,18,19,20,21,22,23,24,25,26],\n",
    "    'min_samples_split': [2,3,5],\n",
    "    'min_samples_leaf':[1,3,5,10],\n",
    "    'max_features': [1,5,10,15,20,25,30]\n",
    "}"
   ]
  },
  {
   "cell_type": "code",
   "execution_count": 290,
   "id": "3896b05e",
   "metadata": {},
   "outputs": [],
   "source": [
    "DT = DecisionTreeClassifier()"
   ]
  },
  {
   "cell_type": "code",
   "execution_count": 291,
   "id": "5a0bc15f",
   "metadata": {},
   "outputs": [
    {
     "data": {
      "text/plain": [
       "GridSearchCV(cv=5, estimator=DecisionTreeClassifier(),\n",
       "             param_grid={'criterion': ['gini', 'entropy'],\n",
       "                         'max_depth': [1, 2, 3, 4, 5, 6, 7, 8, 9, 10, 11, 12,\n",
       "                                       13, 14, 15, 16, 17, 18, 19, 20, 21, 22,\n",
       "                                       23, 24, 25, 26],\n",
       "                         'max_features': [1, 5, 10, 15, 20, 25, 30],\n",
       "                         'min_samples_leaf': [1, 3, 5, 10],\n",
       "                         'min_samples_split': [2, 3, 5],\n",
       "                         'splitter': ['best', 'random']})"
      ]
     },
     "execution_count": 291,
     "metadata": {},
     "output_type": "execute_result"
    }
   ],
   "source": [
    "clf = GridSearchCV(DT,parameters,cv=5)\n",
    "clf.fit(X,y)"
   ]
  },
  {
   "cell_type": "code",
   "execution_count": 292,
   "id": "5cd2e8e1",
   "metadata": {},
   "outputs": [
    {
     "data": {
      "text/plain": [
       "{'criterion': 'entropy',\n",
       " 'max_depth': 15,\n",
       " 'max_features': 10,\n",
       " 'min_samples_leaf': 5,\n",
       " 'min_samples_split': 3,\n",
       " 'splitter': 'random'}"
      ]
     },
     "execution_count": 292,
     "metadata": {},
     "output_type": "execute_result"
    }
   ],
   "source": [
    "clf.best_params_"
   ]
  },
  {
   "cell_type": "code",
   "execution_count": null,
   "id": "9dc1fca3",
   "metadata": {},
   "outputs": [],
   "source": []
  },
  {
   "cell_type": "markdown",
   "id": "c1a58dc6",
   "metadata": {},
   "source": [
    "# Decision Tree"
   ]
  },
  {
   "cell_type": "code",
   "execution_count": 293,
   "id": "4ffa60b6",
   "metadata": {},
   "outputs": [],
   "source": [
    "X = df4.drop('H Spread Outcome',axis=1)\n",
    "# Create constants for X, so the model knows its bounds\n",
    "y = df4['H Spread Outcome']\n",
    "\n",
    "\n",
    "# Split the data\n",
    "X_train, X_test, y_train, y_test = train_test_split(X, y, test_size = 0.25, random_state = 42)"
   ]
  },
  {
   "cell_type": "code",
   "execution_count": 299,
   "id": "686f4a4d",
   "metadata": {},
   "outputs": [],
   "source": [
    "# - achieved 55% DT = DecisionTreeClassifier(criterion = 'gini', max_depth=40, min_samples_leaf= 10, min_samples_split = 5,splitter='random',random_state=1234)\n",
    "DT = DecisionTreeClassifier(criterion = 'gini', max_depth=40, min_samples_leaf= 10, min_samples_split = 5,splitter='random',random_state=42)\n"
   ]
  },
  {
   "cell_type": "code",
   "execution_count": 300,
   "id": "9c924b81",
   "metadata": {},
   "outputs": [
    {
     "data": {
      "text/plain": [
       "DecisionTreeClassifier(max_depth=40, min_samples_leaf=10, min_samples_split=5,\n",
       "                       random_state=42, splitter='random')"
      ]
     },
     "execution_count": 300,
     "metadata": {},
     "output_type": "execute_result"
    }
   ],
   "source": [
    "DT.fit(X_train,y_train)"
   ]
  },
  {
   "cell_type": "code",
   "execution_count": 301,
   "id": "228b1f55",
   "metadata": {},
   "outputs": [],
   "source": [
    "y_pred = DT.predict(X_test)"
   ]
  },
  {
   "cell_type": "code",
   "execution_count": 302,
   "id": "3fcb7d9a",
   "metadata": {},
   "outputs": [
    {
     "data": {
      "text/plain": [
       "0.4870689655172414"
      ]
     },
     "execution_count": 302,
     "metadata": {},
     "output_type": "execute_result"
    }
   ],
   "source": [
    "metrics.accuracy_score(y_test, y_pred)"
   ]
  },
  {
   "cell_type": "code",
   "execution_count": 298,
   "id": "cd6389a9",
   "metadata": {},
   "outputs": [
    {
     "name": "stdout",
     "output_type": "stream",
     "text": [
      "               precision    recall  f1-score   support\n",
      "\n",
      "   H_Spread_L      0.559     0.550     0.555       120\n",
      "H_Spread_Push      0.167     0.167     0.167         6\n",
      "   H_Spread_W      0.472     0.481     0.477       106\n",
      "\n",
      "     accuracy                          0.509       232\n",
      "    macro avg      0.399     0.399     0.399       232\n",
      " weighted avg      0.509     0.509     0.509       232\n",
      "\n"
     ]
    }
   ],
   "source": [
    "print(metrics.classification_report(y_test, y_pred, digits=3))"
   ]
  },
  {
   "cell_type": "code",
   "execution_count": 202,
   "id": "a91e6c15",
   "metadata": {},
   "outputs": [
    {
     "data": {
      "text/plain": [
       "array([0.00535845, 0.00349761, 0.02237851, 0.03067911, 0.04890365,\n",
       "       0.02906883, 0.03401714, 0.00779782, 0.03095218, 0.04922583,\n",
       "       0.04802106, 0.00214338, 0.0472619 , 0.0156909 , 0.02215145,\n",
       "       0.02673734, 0.02627006, 0.04534034, 0.03086704, 0.07223061,\n",
       "       0.0300712 , 0.04844157, 0.02426241, 0.0137706 , 0.027266  ,\n",
       "       0.05392566, 0.05539647, 0.01365791, 0.01652718, 0.02151957,\n",
       "       0.02450337, 0.06098607, 0.01107877])"
      ]
     },
     "execution_count": 202,
     "metadata": {},
     "output_type": "execute_result"
    }
   ],
   "source": [
    "DT.feature_importances_"
   ]
  },
  {
   "cell_type": "code",
   "execution_count": 303,
   "id": "2e0b737c",
   "metadata": {},
   "outputs": [],
   "source": [
    "DT = DecisionTreeClassifier(criterion = 'gini', max_depth=13, min_samples_leaf= 1, min_samples_split = 3,splitter='random',random_state=42)"
   ]
  },
  {
   "cell_type": "code",
   "execution_count": 304,
   "id": "149ffc2c",
   "metadata": {},
   "outputs": [
    {
     "data": {
      "text/plain": [
       "DecisionTreeClassifier(max_depth=13, min_samples_split=3, random_state=42,\n",
       "                       splitter='random')"
      ]
     },
     "execution_count": 304,
     "metadata": {},
     "output_type": "execute_result"
    }
   ],
   "source": [
    "DT.fit(X_train,y_train)"
   ]
  },
  {
   "cell_type": "code",
   "execution_count": 305,
   "id": "d00bff21",
   "metadata": {},
   "outputs": [],
   "source": [
    "y_pred = DT.predict(X_test)"
   ]
  },
  {
   "cell_type": "code",
   "execution_count": 306,
   "id": "29b62edf",
   "metadata": {},
   "outputs": [
    {
     "data": {
      "text/plain": [
       "0.5"
      ]
     },
     "execution_count": 306,
     "metadata": {},
     "output_type": "execute_result"
    }
   ],
   "source": [
    "metrics.accuracy_score(y_test, y_pred)"
   ]
  },
  {
   "cell_type": "code",
   "execution_count": 307,
   "id": "7ea10004",
   "metadata": {},
   "outputs": [
    {
     "name": "stdout",
     "output_type": "stream",
     "text": [
      "               precision    recall  f1-score   support\n",
      "\n",
      "   H_Spread_L      0.561     0.500     0.529       120\n",
      "H_Spread_Push      0.111     0.167     0.133         6\n",
      "   H_Spread_W      0.474     0.519     0.495       106\n",
      "\n",
      "     accuracy                          0.500       232\n",
      "    macro avg      0.382     0.395     0.386       232\n",
      " weighted avg      0.510     0.500     0.503       232\n",
      "\n"
     ]
    }
   ],
   "source": [
    "print(metrics.classification_report(y_test, y_pred, digits=3))"
   ]
  },
  {
   "cell_type": "code",
   "execution_count": 308,
   "id": "bf9ea4d4",
   "metadata": {},
   "outputs": [
    {
     "data": {
      "text/plain": [
       "array([0.04696065, 0.0214861 , 0.04677761, 0.03379415, 0.02427147,\n",
       "       0.04034156, 0.04781401, 0.03557051, 0.0025949 , 0.02820298,\n",
       "       0.04571871, 0.04505857, 0.05457887, 0.01296852, 0.02572621,\n",
       "       0.01696658, 0.0269569 , 0.01949635, 0.06051273, 0.03554622,\n",
       "       0.01299277, 0.02580467, 0.02947192, 0.02162234, 0.03487032,\n",
       "       0.04316775, 0.03349721, 0.02899952, 0.02600276, 0.0291753 ,\n",
       "       0.00959383, 0.02072989, 0.0127281 ])"
      ]
     },
     "execution_count": 308,
     "metadata": {},
     "output_type": "execute_result"
    }
   ],
   "source": [
    "DT.feature_importances_"
   ]
  },
  {
   "cell_type": "code",
   "execution_count": 311,
   "id": "b110bd56",
   "metadata": {},
   "outputs": [],
   "source": [
    "DT = DecisionTreeClassifier(criterion = 'gini', max_depth=13,random_state=42)"
   ]
  },
  {
   "cell_type": "code",
   "execution_count": 315,
   "id": "7d4de221",
   "metadata": {},
   "outputs": [
    {
     "data": {
      "text/plain": [
       "DecisionTreeClassifier(max_depth=13, random_state=42)"
      ]
     },
     "execution_count": 315,
     "metadata": {},
     "output_type": "execute_result"
    }
   ],
   "source": [
    "DT.fit(X_train,y_train)"
   ]
  },
  {
   "cell_type": "code",
   "execution_count": 317,
   "id": "76eaf8c7",
   "metadata": {},
   "outputs": [],
   "source": [
    "y_pred=DT.predict(X_test)"
   ]
  },
  {
   "cell_type": "code",
   "execution_count": 318,
   "id": "8e86cf45",
   "metadata": {},
   "outputs": [
    {
     "name": "stdout",
     "output_type": "stream",
     "text": [
      "               precision    recall  f1-score   support\n",
      "\n",
      "   H_Spread_L      0.514     0.458     0.485       120\n",
      "H_Spread_Push      0.000     0.000     0.000         6\n",
      "   H_Spread_W      0.452     0.528     0.487       106\n",
      "\n",
      "     accuracy                          0.478       232\n",
      "    macro avg      0.322     0.329     0.324       232\n",
      " weighted avg      0.472     0.478     0.473       232\n",
      "\n"
     ]
    }
   ],
   "source": [
    "print(metrics.classification_report(y_test, y_pred, digits=3))"
   ]
  },
  {
   "cell_type": "code",
   "execution_count": 312,
   "id": "0208910b",
   "metadata": {},
   "outputs": [],
   "source": [
    "from sklearn.tree import plot_tree, export_text"
   ]
  },
  {
   "cell_type": "code",
   "execution_count": 319,
   "id": "6717342e",
   "metadata": {},
   "outputs": [
    {
     "data": {
      "text/plain": [
       "[Text(2511.0, 978.48, 'Total_x <= 73.75\\ngini = 0.529\\nsamples = 696\\nvalue = [339, 21, 336]'),\n",
       " Text(2232.0, 761.0400000000001, 'Rolling 5 Past H&A Spread Min_Home_Team <= -25.5\\ngini = 0.529\\nsamples = 688\\nvalue = [339, 21, 328]'),\n",
       " Text(1116.0, 543.6, 'Rolling 5 Past H&A 3rd Down Conversion % Avg_Away_Team <= 0.271\\ngini = 0.457\\nsamples = 68\\nvalue = [24, 0, 44]'),\n",
       " Text(558.0, 326.1600000000001, 'Rolling 5 Past H&A Conf T Wins_Away_Team <= 11.0\\ngini = 0.278\\nsamples = 6\\nvalue = [5, 0, 1]'),\n",
       " Text(279.0, 108.72000000000003, '\\n  (...)  \\n'),\n",
       " Text(837.0, 108.72000000000003, '\\n  (...)  \\n'),\n",
       " Text(1674.0, 326.1600000000001, 'Rolling 5 Past H&A Season T Losses_Home_Team <= 11.5\\ngini = 0.425\\nsamples = 62\\nvalue = [19, 0, 43]'),\n",
       " Text(1395.0, 108.72000000000003, '\\n  (...)  \\n'),\n",
       " Text(1953.0, 108.72000000000003, '\\n  (...)  \\n'),\n",
       " Text(3348.0, 543.6, 'Rolling 5 Past H&A 3rd Down Conversion % Avg_Away_Team <= 0.238\\ngini = 0.531\\nsamples = 620\\nvalue = [315, 21, 284]'),\n",
       " Text(2790.0, 326.1600000000001, 'Rolling 5 Past H&A 3rd Down Conversion % Avg_Home_Team <= 0.459\\ngini = 0.153\\nsamples = 12\\nvalue = [1, 0, 11]'),\n",
       " Text(2511.0, 108.72000000000003, '\\n  (...)  \\n'),\n",
       " Text(3069.0, 108.72000000000003, '\\n  (...)  \\n'),\n",
       " Text(3906.0, 326.1600000000001, 'Away Team Spread_x <= 13.25\\ngini = 0.53\\nsamples = 608\\nvalue = [314, 21, 273]'),\n",
       " Text(3627.0, 108.72000000000003, '\\n  (...)  \\n'),\n",
       " Text(4185.0, 108.72000000000003, '\\n  (...)  \\n'),\n",
       " Text(2790.0, 761.0400000000001, 'gini = 0.0\\nsamples = 8\\nvalue = [0, 0, 8]')]"
      ]
     },
     "execution_count": 319,
     "metadata": {},
     "output_type": "execute_result"
    },
    {
     "data": {
      "image/png": "[encoded data removed]",
      "text/plain": [
       "<Figure size 5760x1440 with 1 Axes>"
      ]
     },
     "metadata": {
      "needs_background": "light"
     },
     "output_type": "display_data"
    }
   ],
   "source": [
    "plt.figure(figsize=(80,20))\n",
    "plot_tree(DT,feature_names=X_train.columns,max_depth=3,filled=True)"
   ]
  },
  {
   "cell_type": "code",
   "execution_count": 323,
   "id": "d21adbd3",
   "metadata": {},
   "outputs": [
    {
     "data": {
      "text/plain": [
       "array([0.00990804, 0.04585716, 0.06854171, 0.01735833, 0.05760337,\n",
       "       0.13498032, 0.06713964, 0.01903211, 0.03591368, 0.01956536,\n",
       "       0.02076544, 0.04088066, 0.02612972, 0.02523618, 0.01227972,\n",
       "       0.        , 0.03620032, 0.05438299, 0.00743109, 0.01901694,\n",
       "       0.03371929, 0.        , 0.02555042, 0.00717286, 0.04016421,\n",
       "       0.03839204, 0.0343791 , 0.        , 0.0759915 , 0.0206695 ,\n",
       "       0.00573829, 0.        , 0.        ])"
      ]
     },
     "execution_count": 323,
     "metadata": {},
     "output_type": "execute_result"
    }
   ],
   "source": [
    "DT.feature_importances_"
   ]
  },
  {
   "cell_type": "code",
   "execution_count": 324,
   "id": "88fea207",
   "metadata": {},
   "outputs": [],
   "source": [
    "def plot_feature_importance(importance,names,model_type):\n",
    "\n",
    "#Create arrays from feature importance and feature names\n",
    "    feature_importance = np.array(importance)\n",
    "    feature_names = np.array(names)\n",
    "\n",
    "#Create a DataFrame using a Dictionary\n",
    "    data={'feature_names':feature_names,'feature_importance':feature_importance}\n",
    "    fi_df = pd.DataFrame(data)\n",
    "\n",
    "#Sort the DataFrame in order decreasing feature importance\n",
    "    fi_df.sort_values(by=['feature_importance'], ascending=False,inplace=True)\n",
    "\n",
    "#Define size of bar plot\n",
    "    plt.figure(figsize=(10,8))\n",
    "#Plot Searborn bar chart\n",
    "    sns.barplot(x=fi_df['feature_importance'], y=fi_df['feature_names'])\n",
    "#Add chart labels\n",
    "    plt.title(model_type + 'FEATURE IMPORTANCE')\n",
    "    plt.xlabel('FEATURE IMPORTANCE')\n",
    "    plt.ylabel('FEATURE NAMES')"
   ]
  },
  {
   "cell_type": "code",
   "execution_count": 325,
   "id": "926788f9",
   "metadata": {},
   "outputs": [
    {
     "data": {
      "image/png": "[encoded data removed]",
      "text/plain": [
       "<Figure size 720x576 with 1 Axes>"
      ]
     },
     "metadata": {
      "needs_background": "light"
     },
     "output_type": "display_data"
    }
   ],
   "source": [
    "plot_feature_importance(DT.feature_importances_,X_train.columns,'Decision Tree')"
   ]
  },
  {
   "cell_type": "code",
   "execution_count": 326,
   "id": "54932a68",
   "metadata": {},
   "outputs": [
    {
     "data": {
      "text/plain": [
       "Index(['Home Team Spread_x', 'Away Team Spread_x', 'Total_x',\n",
       "       'Rolling 5 Past H&A Score Avg_Home_Team',\n",
       "       'Rolling 5 Past H&A 1st Downs Avg_Home_Team',\n",
       "       'Rolling 5 Past H&A Total Yards Avg_Home_Team',\n",
       "       'Rolling 5 Past H&A Yards per Pass Avg_Home_Team',\n",
       "       'Rolling 5 Past H&A Spread Avg_Home_Team',\n",
       "       'Rolling 5 Past H&A Spread Min_Home_Team',\n",
       "       'Rolling 5 Past H&A HI REC yrds Avg_Home_Team',\n",
       "       'Rolling 5 Past H&A Conf T Wins_Home_Team',\n",
       "       'Rolling 5 Past H&A 3rd Down Conversion % Avg_Home_Team',\n",
       "       'Rolling 5 Past H&A Completion % Avg_Home_Team',\n",
       "       'Rolling 5 Past H&A Q1 Score Avg_Home_Team',\n",
       "       'Rolling 5 Past H&A Ranking Avg_Home_Team',\n",
       "       'Rolling 5 Past H&A Season T Losses_Away_Team',\n",
       "       'Rolling 5 Past H&A Score Avg_Away_Team',\n",
       "       'Rolling 5 Past H&A 1st Downs Avg_Away_Team',\n",
       "       'Rolling 5 Past H&A Total Yards Avg_Away_Team',\n",
       "       'Rolling 5 Past H&A Yards per Pass Avg_Away_Team',\n",
       "       'Rolling 5 Past H&A Spread Avg_Away_Team',\n",
       "       'Rolling 5 Past H&A Spread Min_Away_Team',\n",
       "       'Rolling 5 Past H&A HI REC yrds Avg_Away_Team',\n",
       "       'Rolling 5 Past H&A Conf T Wins_Away_Team',\n",
       "       'Rolling 5 Past H&A 3rd Down Conversion % Avg_Away_Team',\n",
       "       'Rolling 5 Past H&A Completion % Avg_Away_Team',\n",
       "       'Rolling 5 Past H&A Q1 Score Avg_Away_Team',\n",
       "       'Rolling 5 Past H&A Ranking Avg_Away_Team',\n",
       "       'Rolling 5 Past H&A Season T Losses_Home_Team', 'Home Team Ranking_x',\n",
       "       'Away Team Ranking_x', 'Previous H&A Ranking_Home_Team',\n",
       "       'Previous H&A Ranking_Away_Team'],\n",
       "      dtype='object')"
      ]
     },
     "execution_count": 326,
     "metadata": {},
     "output_type": "execute_result"
    }
   ],
   "source": [
    "X.columns"
   ]
  },
  {
   "cell_type": "code",
   "execution_count": 327,
   "id": "7c65a09e",
   "metadata": {},
   "outputs": [],
   "source": [
    "Home_Cols = [col for col in X.columns if 'Home' in col]"
   ]
  },
  {
   "cell_type": "code",
   "execution_count": 328,
   "id": "5e30800b",
   "metadata": {},
   "outputs": [
    {
     "data": {
      "text/plain": [
       "['Home Team Spread_x',\n",
       " 'Rolling 5 Past H&A Score Avg_Home_Team',\n",
       " 'Rolling 5 Past H&A 1st Downs Avg_Home_Team',\n",
       " 'Rolling 5 Past H&A Total Yards Avg_Home_Team',\n",
       " 'Rolling 5 Past H&A Yards per Pass Avg_Home_Team',\n",
       " 'Rolling 5 Past H&A Spread Avg_Home_Team',\n",
       " 'Rolling 5 Past H&A Spread Min_Home_Team',\n",
       " 'Rolling 5 Past H&A HI REC yrds Avg_Home_Team',\n",
       " 'Rolling 5 Past H&A Conf T Wins_Home_Team',\n",
       " 'Rolling 5 Past H&A 3rd Down Conversion % Avg_Home_Team',\n",
       " 'Rolling 5 Past H&A Completion % Avg_Home_Team',\n",
       " 'Rolling 5 Past H&A Q1 Score Avg_Home_Team',\n",
       " 'Rolling 5 Past H&A Ranking Avg_Home_Team',\n",
       " 'Rolling 5 Past H&A Season T Losses_Home_Team',\n",
       " 'Home Team Ranking_x',\n",
       " 'Previous H&A Ranking_Home_Team']"
      ]
     },
     "execution_count": 328,
     "metadata": {},
     "output_type": "execute_result"
    }
   ],
   "source": [
    "Home_Cols"
   ]
  },
  {
   "cell_type": "code",
   "execution_count": 329,
   "id": "bdb6986a",
   "metadata": {},
   "outputs": [],
   "source": [
    "X = df4[Home_Cols]\n",
    "\n",
    "# Create constants for X, so the model knows its bounds\n",
    "y = df4['H Spread Outcome']\n",
    "\n",
    "\n",
    "# Split the data\n",
    "X_train, X_test, y_train, y_test = train_test_split(X, y, test_size = 0.25, random_state = 42)"
   ]
  },
  {
   "cell_type": "code",
   "execution_count": 330,
   "id": "0fe62cb6",
   "metadata": {},
   "outputs": [],
   "source": [
    "DT = DecisionTreeClassifier(criterion = 'gini', max_depth=13,random_state=42)"
   ]
  },
  {
   "cell_type": "code",
   "execution_count": 331,
   "id": "cc9393a4",
   "metadata": {},
   "outputs": [
    {
     "data": {
      "text/plain": [
       "DecisionTreeClassifier(max_depth=13, random_state=42)"
      ]
     },
     "execution_count": 331,
     "metadata": {},
     "output_type": "execute_result"
    }
   ],
   "source": [
    "DT.fit(X_train,y_train)"
   ]
  },
  {
   "cell_type": "code",
   "execution_count": 332,
   "id": "cacd6222",
   "metadata": {},
   "outputs": [],
   "source": [
    "y_pred=DT.predict(X_test)"
   ]
  },
  {
   "cell_type": "code",
   "execution_count": 333,
   "id": "60ce1e8c",
   "metadata": {},
   "outputs": [
    {
     "name": "stdout",
     "output_type": "stream",
     "text": [
      "               precision    recall  f1-score   support\n",
      "\n",
      "   H_Spread_L      0.545     0.600     0.571       120\n",
      "H_Spread_Push      0.000     0.000     0.000         6\n",
      "   H_Spread_W      0.521     0.472     0.495       106\n",
      "\n",
      "     accuracy                          0.526       232\n",
      "    macro avg      0.355     0.357     0.355       232\n",
      " weighted avg      0.520     0.526     0.522       232\n",
      "\n"
     ]
    }
   ],
   "source": [
    "print(metrics.classification_report(y_test, y_pred, digits=3))"
   ]
  },
  {
   "cell_type": "code",
   "execution_count": 348,
   "id": "7c57a4ac",
   "metadata": {},
   "outputs": [],
   "source": [
    "Home_Cols.append('Total_x')\n",
    "X = df4[Home_Cols]\n",
    "\n",
    "# Create constants for X, so the model knows its bounds\n",
    "y = df4['H Spread Outcome']\n",
    "\n",
    "\n",
    "# Split the data\n",
    "#X_train, X_test, y_train, y_test = train_test_split(X, y, test_size = 0.25, random_state = 42)"
   ]
  },
  {
   "cell_type": "code",
   "execution_count": 349,
   "id": "fb5c177a",
   "metadata": {},
   "outputs": [],
   "source": [
    "parameters = {\n",
    "    'criterion': ['gini', 'entropy'],\n",
    "    'splitter': ['best','random'],\n",
    "    'max_depth': [1,2,3,4,5,6,7,8,9,10,11,12,13,14,15,16,17,18,19,20,21,22,23,24,25,26],\n",
    "    'min_samples_split': [2,3,5],\n",
    "    'min_samples_leaf':[1,3,5,10],\n",
    "    'max_features': [1,5,10,15]\n",
    "}"
   ]
  },
  {
   "cell_type": "code",
   "execution_count": 350,
   "id": "2a868ea2",
   "metadata": {},
   "outputs": [],
   "source": [
    "DT = DecisionTreeClassifier()"
   ]
  },
  {
   "cell_type": "code",
   "execution_count": 351,
   "id": "1051bf87",
   "metadata": {},
   "outputs": [
    {
     "data": {
      "text/plain": [
       "GridSearchCV(cv=5, estimator=DecisionTreeClassifier(),\n",
       "             param_grid={'criterion': ['gini', 'entropy'],\n",
       "                         'max_depth': [1, 2, 3, 4, 5, 6, 7, 8, 9, 10, 11, 12,\n",
       "                                       13, 14, 15, 16, 17, 18, 19, 20, 21, 22,\n",
       "                                       23, 24, 25, 26],\n",
       "                         'max_features': [1, 5, 10, 15],\n",
       "                         'min_samples_leaf': [1, 3, 5, 10],\n",
       "                         'min_samples_split': [2, 3, 5],\n",
       "                         'splitter': ['best', 'random']})"
      ]
     },
     "execution_count": 351,
     "metadata": {},
     "output_type": "execute_result"
    }
   ],
   "source": [
    "clf = GridSearchCV(DT,parameters,cv=5)\n",
    "clf.fit(X,y)"
   ]
  },
  {
   "cell_type": "code",
   "execution_count": 352,
   "id": "eaea69a5",
   "metadata": {},
   "outputs": [
    {
     "data": {
      "text/plain": [
       "{'criterion': 'entropy',\n",
       " 'max_depth': 18,\n",
       " 'max_features': 10,\n",
       " 'min_samples_leaf': 10,\n",
       " 'min_samples_split': 2,\n",
       " 'splitter': 'best'}"
      ]
     },
     "execution_count": 352,
     "metadata": {},
     "output_type": "execute_result"
    }
   ],
   "source": [
    "clf.best_params_"
   ]
  },
  {
   "cell_type": "code",
   "execution_count": 353,
   "id": "88a1b3e0",
   "metadata": {},
   "outputs": [],
   "source": [
    "DT = DecisionTreeClassifier(criterion = 'entropy', max_depth=18,max_features=10,min_samples_leaf=10,min_samples_split=2,splitter='best',random_state=42)\n",
    "\n"
   ]
  },
  {
   "cell_type": "code",
   "execution_count": 354,
   "id": "ac32f16f",
   "metadata": {},
   "outputs": [],
   "source": [
    "\n",
    "X = df4[Home_Cols]\n",
    "\n",
    "# Create constants for X, so the model knows its bounds\n",
    "y = df4['H Spread Outcome']\n",
    "\n",
    "\n",
    "# Split the data\n",
    "X_train, X_test, y_train, y_test = train_test_split(X, y, test_size = 0.25, random_state = 42)"
   ]
  },
  {
   "cell_type": "code",
   "execution_count": 355,
   "id": "3f027b1a",
   "metadata": {},
   "outputs": [
    {
     "data": {
      "text/plain": [
       "DecisionTreeClassifier(criterion='entropy', max_depth=18, max_features=10,\n",
       "                       min_samples_leaf=10, random_state=42)"
      ]
     },
     "execution_count": 355,
     "metadata": {},
     "output_type": "execute_result"
    }
   ],
   "source": [
    "DT.fit(X_train,y_train)"
   ]
  },
  {
   "cell_type": "code",
   "execution_count": 356,
   "id": "efbbb7f1",
   "metadata": {},
   "outputs": [],
   "source": [
    "y_pred=DT.predict(X_test)"
   ]
  },
  {
   "cell_type": "code",
   "execution_count": 357,
   "id": "35e22c28",
   "metadata": {},
   "outputs": [
    {
     "name": "stdout",
     "output_type": "stream",
     "text": [
      "               precision    recall  f1-score   support\n",
      "\n",
      "   H_Spread_L      0.511     0.592     0.548       120\n",
      "H_Spread_Push      0.000     0.000     0.000         6\n",
      "   H_Spread_W      0.462     0.406     0.432       106\n",
      "\n",
      "     accuracy                          0.491       232\n",
      "    macro avg      0.324     0.332     0.327       232\n",
      " weighted avg      0.475     0.491     0.481       232\n",
      "\n"
     ]
    },
    {
     "name": "stderr",
     "output_type": "stream",
     "text": [
      "/opt/anaconda3/lib/python3.8/site-packages/sklearn/metrics/_classification.py:1245: UndefinedMetricWarning: Precision and F-score are ill-defined and being set to 0.0 in labels with no predicted samples. Use `zero_division` parameter to control this behavior.\n",
      "  _warn_prf(average, modifier, msg_start, len(result))\n",
      "/opt/anaconda3/lib/python3.8/site-packages/sklearn/metrics/_classification.py:1245: UndefinedMetricWarning: Precision and F-score are ill-defined and being set to 0.0 in labels with no predicted samples. Use `zero_division` parameter to control this behavior.\n",
      "  _warn_prf(average, modifier, msg_start, len(result))\n",
      "/opt/anaconda3/lib/python3.8/site-packages/sklearn/metrics/_classification.py:1245: UndefinedMetricWarning: Precision and F-score are ill-defined and being set to 0.0 in labels with no predicted samples. Use `zero_division` parameter to control this behavior.\n",
      "  _warn_prf(average, modifier, msg_start, len(result))\n"
     ]
    }
   ],
   "source": [
    "print(metrics.classification_report(y_test, y_pred, digits=3))"
   ]
  },
  {
   "cell_type": "code",
   "execution_count": null,
   "id": "0a86aa9b",
   "metadata": {},
   "outputs": [],
   "source": []
  },
  {
   "cell_type": "code",
   "execution_count": 364,
   "id": "d7584fff",
   "metadata": {},
   "outputs": [
    {
     "data": {
      "text/plain": [
       "['Away Team Spread_x',\n",
       " 'Rolling 5 Past H&A Season T Losses_Away_Team',\n",
       " 'Rolling 5 Past H&A Score Avg_Away_Team',\n",
       " 'Rolling 5 Past H&A 1st Downs Avg_Away_Team',\n",
       " 'Rolling 5 Past H&A Total Yards Avg_Away_Team',\n",
       " 'Rolling 5 Past H&A Yards per Pass Avg_Away_Team',\n",
       " 'Rolling 5 Past H&A Spread Avg_Away_Team',\n",
       " 'Rolling 5 Past H&A Spread Min_Away_Team',\n",
       " 'Rolling 5 Past H&A HI REC yrds Avg_Away_Team',\n",
       " 'Rolling 5 Past H&A Conf T Wins_Away_Team',\n",
       " 'Rolling 5 Past H&A 3rd Down Conversion % Avg_Away_Team',\n",
       " 'Rolling 5 Past H&A Completion % Avg_Away_Team',\n",
       " 'Rolling 5 Past H&A Q1 Score Avg_Away_Team',\n",
       " 'Rolling 5 Past H&A Ranking Avg_Away_Team',\n",
       " 'Away Team Ranking_x',\n",
       " 'Previous H&A Ranking_Away_Team']"
      ]
     },
     "execution_count": 364,
     "metadata": {},
     "output_type": "execute_result"
    }
   ],
   "source": [
    "Away_Cols = [col for col in df4.columns if 'Away' in col]\n",
    "Away_Cols"
   ]
  },
  {
   "cell_type": "code",
   "execution_count": 365,
   "id": "44192530",
   "metadata": {},
   "outputs": [],
   "source": [
    "X = df4[Away_Cols]\n",
    "\n",
    "# Create constants for X, so the model knows its bounds\n",
    "y = df4['H Spread Outcome']\n",
    "\n",
    "\n",
    "# Split the data\n",
    "X_train, X_test, y_train, y_test = train_test_split(X, y, test_size = 0.25, random_state = 42)"
   ]
  },
  {
   "cell_type": "code",
   "execution_count": 366,
   "id": "685e3f08",
   "metadata": {},
   "outputs": [],
   "source": [
    "DT = DecisionTreeClassifier(criterion = 'entropy', max_depth=18,max_features=10,min_samples_leaf=10,min_samples_split=2,splitter='best',random_state=42)\n"
   ]
  },
  {
   "cell_type": "code",
   "execution_count": 367,
   "id": "bc7263e2",
   "metadata": {},
   "outputs": [
    {
     "data": {
      "text/plain": [
       "DecisionTreeClassifier(criterion='entropy', max_depth=18, max_features=10,\n",
       "                       min_samples_leaf=10, random_state=42)"
      ]
     },
     "execution_count": 367,
     "metadata": {},
     "output_type": "execute_result"
    }
   ],
   "source": [
    "DT.fit(X_train,y_train)"
   ]
  },
  {
   "cell_type": "code",
   "execution_count": 368,
   "id": "2543531b",
   "metadata": {},
   "outputs": [],
   "source": [
    "y_pred=DT.predict(X_test)"
   ]
  },
  {
   "cell_type": "code",
   "execution_count": 369,
   "id": "b051aceb",
   "metadata": {},
   "outputs": [
    {
     "name": "stdout",
     "output_type": "stream",
     "text": [
      "               precision    recall  f1-score   support\n",
      "\n",
      "   H_Spread_L      0.500     0.508     0.504       120\n",
      "H_Spread_Push      0.000     0.000     0.000         6\n",
      "   H_Spread_W      0.455     0.472     0.463       106\n",
      "\n",
      "     accuracy                          0.478       232\n",
      "    macro avg      0.318     0.327     0.322       232\n",
      " weighted avg      0.466     0.478     0.472       232\n",
      "\n"
     ]
    },
    {
     "name": "stderr",
     "output_type": "stream",
     "text": [
      "/opt/anaconda3/lib/python3.8/site-packages/sklearn/metrics/_classification.py:1245: UndefinedMetricWarning: Precision and F-score are ill-defined and being set to 0.0 in labels with no predicted samples. Use `zero_division` parameter to control this behavior.\n",
      "  _warn_prf(average, modifier, msg_start, len(result))\n",
      "/opt/anaconda3/lib/python3.8/site-packages/sklearn/metrics/_classification.py:1245: UndefinedMetricWarning: Precision and F-score are ill-defined and being set to 0.0 in labels with no predicted samples. Use `zero_division` parameter to control this behavior.\n",
      "  _warn_prf(average, modifier, msg_start, len(result))\n",
      "/opt/anaconda3/lib/python3.8/site-packages/sklearn/metrics/_classification.py:1245: UndefinedMetricWarning: Precision and F-score are ill-defined and being set to 0.0 in labels with no predicted samples. Use `zero_division` parameter to control this behavior.\n",
      "  _warn_prf(average, modifier, msg_start, len(result))\n"
     ]
    }
   ],
   "source": [
    "print(metrics.classification_report(y_test, y_pred, digits=3))"
   ]
  },
  {
   "cell_type": "code",
   "execution_count": 370,
   "id": "a923a1c4",
   "metadata": {},
   "outputs": [],
   "source": [
    "parameters = {\n",
    "    \n",
    "    'n_estimators': [50,100,150],\n",
    "    'criterion': ['entropy','gini'],\n",
    "    'max_depth': [10,30,50],\n",
    "    'min_samples_split':[5,10,15],\n",
    "    'min_samples_leaf': [3,10,20],\n",
    "    'max_leaf_nodes': [20,30,50]\n",
    "    \n",
    "}"
   ]
  },
  {
   "cell_type": "code",
   "execution_count": 372,
   "id": "a4b8151b",
   "metadata": {},
   "outputs": [],
   "source": [
    "RF = RandomForestClassifier()"
   ]
  },
  {
   "cell_type": "code",
   "execution_count": 373,
   "id": "797b3f19",
   "metadata": {},
   "outputs": [
    {
     "data": {
      "text/plain": [
       "GridSearchCV(cv=5, estimator=RandomForestClassifier(),\n",
       "             param_grid={'criterion': ['entropy', 'gini'],\n",
       "                         'max_depth': [10, 30, 50],\n",
       "                         'max_leaf_nodes': [20, 30, 50],\n",
       "                         'min_samples_leaf': [3, 10, 20],\n",
       "                         'min_samples_split': [5, 10, 15],\n",
       "                         'n_estimators': [50, 100, 150]})"
      ]
     },
     "execution_count": 373,
     "metadata": {},
     "output_type": "execute_result"
    }
   ],
   "source": [
    "clf = GridSearchCV(RF,parameters,cv=5)\n",
    "clf.fit(X,y)"
   ]
  },
  {
   "cell_type": "code",
   "execution_count": 379,
   "id": "32a6c1f7",
   "metadata": {},
   "outputs": [],
   "source": [
    "best_param= clf.best_params_"
   ]
  },
  {
   "cell_type": "code",
   "execution_count": 381,
   "id": "620973e6",
   "metadata": {},
   "outputs": [
    {
     "data": {
      "text/plain": [
       "{'criterion': 'entropy',\n",
       " 'max_depth': 10,\n",
       " 'max_leaf_nodes': 50,\n",
       " 'min_samples_leaf': 3,\n",
       " 'min_samples_split': 5,\n",
       " 'n_estimators': 50}"
      ]
     },
     "execution_count": 381,
     "metadata": {},
     "output_type": "execute_result"
    }
   ],
   "source": [
    "best_param"
   ]
  },
  {
   "cell_type": "code",
   "execution_count": 375,
   "id": "b5d724da",
   "metadata": {},
   "outputs": [],
   "source": [
    "X = df4[Away_Cols]\n",
    "\n",
    "# Create constants for X, so the model knows its bounds\n",
    "y = df4['H Spread Outcome']\n",
    "\n",
    "\n",
    "# Split the data\n",
    "X_train, X_test, y_train, y_test = train_test_split(X, y, test_size = 0.25, random_state = 42)"
   ]
  },
  {
   "cell_type": "code",
   "execution_count": 377,
   "id": "794545fc",
   "metadata": {},
   "outputs": [],
   "source": [
    "RF = RandomForestClassifier()"
   ]
  },
  {
   "cell_type": "code",
   "execution_count": 382,
   "id": "7d50c93c",
   "metadata": {},
   "outputs": [
    {
     "data": {
      "text/plain": [
       "RandomForestClassifier(criterion='entropy', max_depth=10, max_leaf_nodes=50,\n",
       "                       min_samples_leaf=3, min_samples_split=5,\n",
       "                       n_estimators=50)"
      ]
     },
     "execution_count": 382,
     "metadata": {},
     "output_type": "execute_result"
    }
   ],
   "source": [
    "RF.set_params(**best_param)"
   ]
  },
  {
   "cell_type": "code",
   "execution_count": 383,
   "id": "98b0afe4",
   "metadata": {},
   "outputs": [
    {
     "data": {
      "text/plain": [
       "RandomForestClassifier(criterion='entropy', max_depth=10, max_leaf_nodes=50,\n",
       "                       min_samples_leaf=3, min_samples_split=5,\n",
       "                       n_estimators=50)"
      ]
     },
     "execution_count": 383,
     "metadata": {},
     "output_type": "execute_result"
    }
   ],
   "source": [
    "RF.fit(X_train,y_train)"
   ]
  },
  {
   "cell_type": "code",
   "execution_count": 384,
   "id": "5281c9a6",
   "metadata": {},
   "outputs": [],
   "source": [
    "y_pred=RF.predict(X_test)"
   ]
  },
  {
   "cell_type": "code",
   "execution_count": 385,
   "id": "a920d426",
   "metadata": {},
   "outputs": [
    {
     "name": "stdout",
     "output_type": "stream",
     "text": [
      "               precision    recall  f1-score   support\n",
      "\n",
      "   H_Spread_L      0.518     0.492     0.504       120\n",
      "H_Spread_Push      0.000     0.000     0.000         6\n",
      "   H_Spread_W      0.441     0.491     0.464       106\n",
      "\n",
      "     accuracy                          0.478       232\n",
      "    macro avg      0.319     0.327     0.323       232\n",
      " weighted avg      0.469     0.478     0.473       232\n",
      "\n"
     ]
    },
    {
     "name": "stderr",
     "output_type": "stream",
     "text": [
      "/opt/anaconda3/lib/python3.8/site-packages/sklearn/metrics/_classification.py:1245: UndefinedMetricWarning: Precision and F-score are ill-defined and being set to 0.0 in labels with no predicted samples. Use `zero_division` parameter to control this behavior.\n",
      "  _warn_prf(average, modifier, msg_start, len(result))\n",
      "/opt/anaconda3/lib/python3.8/site-packages/sklearn/metrics/_classification.py:1245: UndefinedMetricWarning: Precision and F-score are ill-defined and being set to 0.0 in labels with no predicted samples. Use `zero_division` parameter to control this behavior.\n",
      "  _warn_prf(average, modifier, msg_start, len(result))\n",
      "/opt/anaconda3/lib/python3.8/site-packages/sklearn/metrics/_classification.py:1245: UndefinedMetricWarning: Precision and F-score are ill-defined and being set to 0.0 in labels with no predicted samples. Use `zero_division` parameter to control this behavior.\n",
      "  _warn_prf(average, modifier, msg_start, len(result))\n"
     ]
    }
   ],
   "source": [
    "print(metrics.classification_report(y_test, y_pred, digits=3))"
   ]
  },
  {
   "cell_type": "code",
   "execution_count": 386,
   "id": "fc7c3177",
   "metadata": {},
   "outputs": [
    {
     "data": {
      "text/plain": [
       "{'criterion': 'entropy',\n",
       " 'max_depth': 10,\n",
       " 'max_leaf_nodes': 50,\n",
       " 'min_samples_leaf': 3,\n",
       " 'min_samples_split': 5,\n",
       " 'n_estimators': 50}"
      ]
     },
     "execution_count": 386,
     "metadata": {},
     "output_type": "execute_result"
    }
   ],
   "source": [
    "best_param"
   ]
  },
  {
   "cell_type": "code",
   "execution_count": 387,
   "id": "cb230d06",
   "metadata": {},
   "outputs": [],
   "source": [
    "parameters = {\n",
    "    \n",
    "    'n_estimators': [50,100,150],\n",
    "    'max_depth': [2,3,10,15],\n",
    "    'min_samples_split':[2,3,5],\n",
    "    'min_samples_leaf': [1,3,5],\n",
    "    'max_leaf_nodes': [30,50,70]\n",
    "    \n",
    "}"
   ]
  },
  {
   "cell_type": "code",
   "execution_count": 404,
   "id": "dc0ce7c0",
   "metadata": {},
   "outputs": [
    {
     "data": {
      "text/html": [
       "<div>\n",
       "<style scoped>\n",
       "    .dataframe tbody tr th:only-of-type {\n",
       "        vertical-align: middle;\n",
       "    }\n",
       "\n",
       "    .dataframe tbody tr th {\n",
       "        vertical-align: top;\n",
       "    }\n",
       "\n",
       "    .dataframe thead th {\n",
       "        text-align: right;\n",
       "    }\n",
       "</style>\n",
       "<table border=\"1\" class=\"dataframe\">\n",
       "  <thead>\n",
       "    <tr style=\"text-align: right;\">\n",
       "      <th></th>\n",
       "      <th>Home Team Spread_x</th>\n",
       "      <th>Away Team Spread_x</th>\n",
       "      <th>Total_x</th>\n",
       "      <th>Rolling 5 Past H&amp;A Score Avg_Home_Team</th>\n",
       "      <th>Rolling 5 Past H&amp;A 1st Downs Avg_Home_Team</th>\n",
       "      <th>Rolling 5 Past H&amp;A Total Yards Avg_Home_Team</th>\n",
       "      <th>Rolling 5 Past H&amp;A Yards per Pass Avg_Home_Team</th>\n",
       "      <th>Rolling 5 Past H&amp;A Spread Avg_Home_Team</th>\n",
       "      <th>Rolling 5 Past H&amp;A Spread Min_Home_Team</th>\n",
       "      <th>Rolling 5 Past H&amp;A HI REC yrds Avg_Home_Team</th>\n",
       "      <th>...</th>\n",
       "      <th>Rolling 5 Past H&amp;A 3rd Down Conversion % Avg_Away_Team</th>\n",
       "      <th>Rolling 5 Past H&amp;A Completion % Avg_Away_Team</th>\n",
       "      <th>Rolling 5 Past H&amp;A Q1 Score Avg_Away_Team</th>\n",
       "      <th>Rolling 5 Past H&amp;A Ranking Avg_Away_Team</th>\n",
       "      <th>Rolling 5 Past H&amp;A Season T Losses_Home_Team</th>\n",
       "      <th>Home Team Ranking_x</th>\n",
       "      <th>Away Team Ranking_x</th>\n",
       "      <th>Previous H&amp;A Ranking_Home_Team</th>\n",
       "      <th>Previous H&amp;A Ranking_Away_Team</th>\n",
       "      <th>H Spread Outcome</th>\n",
       "    </tr>\n",
       "  </thead>\n",
       "  <tbody>\n",
       "    <tr>\n",
       "      <th>1</th>\n",
       "      <td>6.5</td>\n",
       "      <td>-6.5</td>\n",
       "      <td>49.0</td>\n",
       "      <td>37.4</td>\n",
       "      <td>23.6</td>\n",
       "      <td>496.8</td>\n",
       "      <td>9.86</td>\n",
       "      <td>-22.3</td>\n",
       "      <td>-29.0</td>\n",
       "      <td>148.0</td>\n",
       "      <td>...</td>\n",
       "      <td>0.395177</td>\n",
       "      <td>0.629171</td>\n",
       "      <td>3.4</td>\n",
       "      <td>1.2</td>\n",
       "      <td>5.0</td>\n",
       "      <td>3</td>\n",
       "      <td>1</td>\n",
       "      <td>3.0</td>\n",
       "      <td>1.0</td>\n",
       "      <td>H_Spread_W</td>\n",
       "    </tr>\n",
       "    <tr>\n",
       "      <th>2</th>\n",
       "      <td>6.5</td>\n",
       "      <td>-6.5</td>\n",
       "      <td>27.0</td>\n",
       "      <td>22.8</td>\n",
       "      <td>20.0</td>\n",
       "      <td>358.2</td>\n",
       "      <td>6.18</td>\n",
       "      <td>11.1</td>\n",
       "      <td>2.0</td>\n",
       "      <td>59.0</td>\n",
       "      <td>...</td>\n",
       "      <td>0.319011</td>\n",
       "      <td>0.549526</td>\n",
       "      <td>11.0</td>\n",
       "      <td>32.4</td>\n",
       "      <td>21.0</td>\n",
       "      <td>99</td>\n",
       "      <td>15</td>\n",
       "      <td>99.0</td>\n",
       "      <td>11.0</td>\n",
       "      <td>H_Spread_W</td>\n",
       "    </tr>\n",
       "    <tr>\n",
       "      <th>3</th>\n",
       "      <td>19.5</td>\n",
       "      <td>-19.5</td>\n",
       "      <td>55.5</td>\n",
       "      <td>24.6</td>\n",
       "      <td>22.2</td>\n",
       "      <td>399.6</td>\n",
       "      <td>7.70</td>\n",
       "      <td>-1.3</td>\n",
       "      <td>-7.0</td>\n",
       "      <td>85.6</td>\n",
       "      <td>...</td>\n",
       "      <td>0.565366</td>\n",
       "      <td>0.688440</td>\n",
       "      <td>6.2</td>\n",
       "      <td>2.6</td>\n",
       "      <td>16.0</td>\n",
       "      <td>99</td>\n",
       "      <td>3</td>\n",
       "      <td>99.0</td>\n",
       "      <td>1.0</td>\n",
       "      <td>H_Spread_W</td>\n",
       "    </tr>\n",
       "    <tr>\n",
       "      <th>4</th>\n",
       "      <td>31.5</td>\n",
       "      <td>-31.5</td>\n",
       "      <td>63.5</td>\n",
       "      <td>17.6</td>\n",
       "      <td>16.2</td>\n",
       "      <td>313.8</td>\n",
       "      <td>6.28</td>\n",
       "      <td>22.5</td>\n",
       "      <td>16.0</td>\n",
       "      <td>85.0</td>\n",
       "      <td>...</td>\n",
       "      <td>0.442828</td>\n",
       "      <td>0.682678</td>\n",
       "      <td>15.0</td>\n",
       "      <td>99.0</td>\n",
       "      <td>35.0</td>\n",
       "      <td>99</td>\n",
       "      <td>99</td>\n",
       "      <td>99.0</td>\n",
       "      <td>99.0</td>\n",
       "      <td>H_Spread_W</td>\n",
       "    </tr>\n",
       "    <tr>\n",
       "      <th>5</th>\n",
       "      <td>-14.5</td>\n",
       "      <td>14.5</td>\n",
       "      <td>63.0</td>\n",
       "      <td>31.2</td>\n",
       "      <td>25.0</td>\n",
       "      <td>456.0</td>\n",
       "      <td>8.08</td>\n",
       "      <td>2.8</td>\n",
       "      <td>-4.5</td>\n",
       "      <td>105.4</td>\n",
       "      <td>...</td>\n",
       "      <td>0.347843</td>\n",
       "      <td>0.662846</td>\n",
       "      <td>3.2</td>\n",
       "      <td>99.0</td>\n",
       "      <td>15.0</td>\n",
       "      <td>25</td>\n",
       "      <td>99</td>\n",
       "      <td>21.0</td>\n",
       "      <td>99.0</td>\n",
       "      <td>H_Spread_W</td>\n",
       "    </tr>\n",
       "  </tbody>\n",
       "</table>\n",
       "<p>5 rows × 34 columns</p>\n",
       "</div>"
      ],
      "text/plain": [
       "   Home Team Spread_x  Away Team Spread_x  Total_x  \\\n",
       "1                 6.5                -6.5     49.0   \n",
       "2                 6.5                -6.5     27.0   \n",
       "3                19.5               -19.5     55.5   \n",
       "4                31.5               -31.5     63.5   \n",
       "5               -14.5                14.5     63.0   \n",
       "\n",
       "   Rolling 5 Past H&A Score Avg_Home_Team  \\\n",
       "1                                    37.4   \n",
       "2                                    22.8   \n",
       "3                                    24.6   \n",
       "4                                    17.6   \n",
       "5                                    31.2   \n",
       "\n",
       "   Rolling 5 Past H&A 1st Downs Avg_Home_Team  \\\n",
       "1                                        23.6   \n",
       "2                                        20.0   \n",
       "3                                        22.2   \n",
       "4                                        16.2   \n",
       "5                                        25.0   \n",
       "\n",
       "   Rolling 5 Past H&A Total Yards Avg_Home_Team  \\\n",
       "1                                         496.8   \n",
       "2                                         358.2   \n",
       "3                                         399.6   \n",
       "4                                         313.8   \n",
       "5                                         456.0   \n",
       "\n",
       "   Rolling 5 Past H&A Yards per Pass Avg_Home_Team  \\\n",
       "1                                             9.86   \n",
       "2                                             6.18   \n",
       "3                                             7.70   \n",
       "4                                             6.28   \n",
       "5                                             8.08   \n",
       "\n",
       "   Rolling 5 Past H&A Spread Avg_Home_Team  \\\n",
       "1                                    -22.3   \n",
       "2                                     11.1   \n",
       "3                                     -1.3   \n",
       "4                                     22.5   \n",
       "5                                      2.8   \n",
       "\n",
       "   Rolling 5 Past H&A Spread Min_Home_Team  \\\n",
       "1                                    -29.0   \n",
       "2                                      2.0   \n",
       "3                                     -7.0   \n",
       "4                                     16.0   \n",
       "5                                     -4.5   \n",
       "\n",
       "   Rolling 5 Past H&A HI REC yrds Avg_Home_Team  ...  \\\n",
       "1                                         148.0  ...   \n",
       "2                                          59.0  ...   \n",
       "3                                          85.6  ...   \n",
       "4                                          85.0  ...   \n",
       "5                                         105.4  ...   \n",
       "\n",
       "   Rolling 5 Past H&A 3rd Down Conversion % Avg_Away_Team  \\\n",
       "1                                           0.395177        \n",
       "2                                           0.319011        \n",
       "3                                           0.565366        \n",
       "4                                           0.442828        \n",
       "5                                           0.347843        \n",
       "\n",
       "   Rolling 5 Past H&A Completion % Avg_Away_Team  \\\n",
       "1                                       0.629171   \n",
       "2                                       0.549526   \n",
       "3                                       0.688440   \n",
       "4                                       0.682678   \n",
       "5                                       0.662846   \n",
       "\n",
       "   Rolling 5 Past H&A Q1 Score Avg_Away_Team  \\\n",
       "1                                        3.4   \n",
       "2                                       11.0   \n",
       "3                                        6.2   \n",
       "4                                       15.0   \n",
       "5                                        3.2   \n",
       "\n",
       "   Rolling 5 Past H&A Ranking Avg_Away_Team  \\\n",
       "1                                       1.2   \n",
       "2                                      32.4   \n",
       "3                                       2.6   \n",
       "4                                      99.0   \n",
       "5                                      99.0   \n",
       "\n",
       "   Rolling 5 Past H&A Season T Losses_Home_Team  Home Team Ranking_x  \\\n",
       "1                                           5.0                    3   \n",
       "2                                          21.0                   99   \n",
       "3                                          16.0                   99   \n",
       "4                                          35.0                   99   \n",
       "5                                          15.0                   25   \n",
       "\n",
       "   Away Team Ranking_x  Previous H&A Ranking_Home_Team  \\\n",
       "1                    1                             3.0   \n",
       "2                   15                            99.0   \n",
       "3                    3                            99.0   \n",
       "4                   99                            99.0   \n",
       "5                   99                            21.0   \n",
       "\n",
       "   Previous H&A Ranking_Away_Team  H Spread Outcome  \n",
       "1                             1.0        H_Spread_W  \n",
       "2                            11.0        H_Spread_W  \n",
       "3                             1.0        H_Spread_W  \n",
       "4                            99.0        H_Spread_W  \n",
       "5                            99.0        H_Spread_W  \n",
       "\n",
       "[5 rows x 34 columns]"
      ]
     },
     "execution_count": 404,
     "metadata": {},
     "output_type": "execute_result"
    }
   ],
   "source": [
    "df4.head()"
   ]
  },
  {
   "cell_type": "code",
   "execution_count": 420,
   "id": "5bf93df5",
   "metadata": {},
   "outputs": [],
   "source": [
    "X= df4.drop('H Spread Outcome',axis=1)\n",
    "y= df4['H Spread Outcome']"
   ]
  },
  {
   "cell_type": "code",
   "execution_count": 421,
   "id": "6bace359",
   "metadata": {},
   "outputs": [],
   "source": [
    "RF = RandomForestClassifier()"
   ]
  },
  {
   "cell_type": "code",
   "execution_count": 408,
   "id": "927544b6",
   "metadata": {},
   "outputs": [
    {
     "data": {
      "text/plain": [
       "GridSearchCV(cv=5, estimator=RandomForestClassifier(),\n",
       "             param_grid={'max_depth': [2, 3, 10, 15],\n",
       "                         'max_leaf_nodes': [30, 50, 70],\n",
       "                         'min_samples_leaf': [1, 3, 5],\n",
       "                         'min_samples_split': [2, 3, 5],\n",
       "                         'n_estimators': [50, 100, 150]})"
      ]
     },
     "execution_count": 408,
     "metadata": {},
     "output_type": "execute_result"
    }
   ],
   "source": [
    "clf = GridSearchCV(RF,parameters,scoring = 'accuracy', cv=5)\n",
    "clf.fit(X,y)"
   ]
  },
  {
   "cell_type": "code",
   "execution_count": 409,
   "id": "c9051bc9",
   "metadata": {},
   "outputs": [],
   "source": [
    "best_param= clf.best_params_"
   ]
  },
  {
   "cell_type": "code",
   "execution_count": 410,
   "id": "eff66871",
   "metadata": {},
   "outputs": [
    {
     "data": {
      "text/plain": [
       "{'max_depth': 2,\n",
       " 'max_leaf_nodes': 70,\n",
       " 'min_samples_leaf': 3,\n",
       " 'min_samples_split': 3,\n",
       " 'n_estimators': 100}"
      ]
     },
     "execution_count": 410,
     "metadata": {},
     "output_type": "execute_result"
    }
   ],
   "source": [
    "best_param"
   ]
  },
  {
   "cell_type": "code",
   "execution_count": 422,
   "id": "7d83e09c",
   "metadata": {},
   "outputs": [],
   "source": [
    "X = X\n",
    "\n",
    "# Create constants for X, so the model knows its bounds\n",
    "y = y\n",
    "\n",
    "\n",
    "# Split the data\n",
    "X_train, X_test, y_train, y_test = train_test_split(X, y, test_size = 0.25, random_state = 42)"
   ]
  },
  {
   "cell_type": "code",
   "execution_count": 423,
   "id": "4f31fbde",
   "metadata": {},
   "outputs": [],
   "source": [
    "RF = RandomForestClassifier()"
   ]
  },
  {
   "cell_type": "code",
   "execution_count": 413,
   "id": "f6b85298",
   "metadata": {},
   "outputs": [
    {
     "data": {
      "text/plain": [
       "RandomForestClassifier(max_depth=2, max_leaf_nodes=70, min_samples_leaf=3,\n",
       "                       min_samples_split=3)"
      ]
     },
     "execution_count": 413,
     "metadata": {},
     "output_type": "execute_result"
    }
   ],
   "source": [
    "RF.set_params(**best_param)"
   ]
  },
  {
   "cell_type": "code",
   "execution_count": 424,
   "id": "b2324286",
   "metadata": {},
   "outputs": [
    {
     "data": {
      "text/plain": [
       "RandomForestClassifier()"
      ]
     },
     "execution_count": 424,
     "metadata": {},
     "output_type": "execute_result"
    }
   ],
   "source": [
    "RF.fit(X_train,y_train)"
   ]
  },
  {
   "cell_type": "code",
   "execution_count": 425,
   "id": "a23ed57b",
   "metadata": {},
   "outputs": [],
   "source": [
    "y_pred=RF.predict(X_test)"
   ]
  },
  {
   "cell_type": "code",
   "execution_count": 426,
   "id": "f1103486",
   "metadata": {},
   "outputs": [
    {
     "name": "stdout",
     "output_type": "stream",
     "text": [
      "               precision    recall  f1-score   support\n",
      "\n",
      "   H_Spread_L      0.571     0.633     0.601       120\n",
      "H_Spread_Push      0.000     0.000     0.000         6\n",
      "   H_Spread_W      0.495     0.462     0.478       106\n",
      "\n",
      "     accuracy                          0.539       232\n",
      "    macro avg      0.355     0.365     0.360       232\n",
      " weighted avg      0.522     0.539     0.529       232\n",
      "\n"
     ]
    },
    {
     "name": "stderr",
     "output_type": "stream",
     "text": [
      "/opt/anaconda3/lib/python3.8/site-packages/sklearn/metrics/_classification.py:1245: UndefinedMetricWarning: Precision and F-score are ill-defined and being set to 0.0 in labels with no predicted samples. Use `zero_division` parameter to control this behavior.\n",
      "  _warn_prf(average, modifier, msg_start, len(result))\n",
      "/opt/anaconda3/lib/python3.8/site-packages/sklearn/metrics/_classification.py:1245: UndefinedMetricWarning: Precision and F-score are ill-defined and being set to 0.0 in labels with no predicted samples. Use `zero_division` parameter to control this behavior.\n",
      "  _warn_prf(average, modifier, msg_start, len(result))\n",
      "/opt/anaconda3/lib/python3.8/site-packages/sklearn/metrics/_classification.py:1245: UndefinedMetricWarning: Precision and F-score are ill-defined and being set to 0.0 in labels with no predicted samples. Use `zero_division` parameter to control this behavior.\n",
      "  _warn_prf(average, modifier, msg_start, len(result))\n"
     ]
    }
   ],
   "source": [
    "print(metrics.classification_report(y_test, y_pred, digits=3))"
   ]
  },
  {
   "cell_type": "code",
   "execution_count": 430,
   "id": "9bc85902",
   "metadata": {},
   "outputs": [
    {
     "data": {
      "text/plain": [
       "33"
      ]
     },
     "execution_count": 430,
     "metadata": {},
     "output_type": "execute_result"
    }
   ],
   "source": [
    "RF.n_features_in_"
   ]
  },
  {
   "cell_type": "code",
   "execution_count": 432,
   "id": "4cf90ab4",
   "metadata": {},
   "outputs": [
    {
     "data": {
      "text/plain": [
       "1"
      ]
     },
     "execution_count": 432,
     "metadata": {},
     "output_type": "execute_result"
    }
   ],
   "source": [
    "RF.n_outputs_"
   ]
  },
  {
   "cell_type": "code",
   "execution_count": 433,
   "id": "0a835184",
   "metadata": {},
   "outputs": [
    {
     "data": {
      "text/plain": [
       "3"
      ]
     },
     "execution_count": 433,
     "metadata": {},
     "output_type": "execute_result"
    }
   ],
   "source": [
    "RF.n_classes_"
   ]
  },
  {
   "cell_type": "code",
   "execution_count": 438,
   "id": "9ee81a35",
   "metadata": {},
   "outputs": [
    {
     "data": {
      "text/plain": [
       "100"
      ]
     },
     "execution_count": 438,
     "metadata": {},
     "output_type": "execute_result"
    }
   ],
   "source": [
    "len(RF.estimators_)"
   ]
  },
  {
   "cell_type": "code",
   "execution_count": 427,
   "id": "65473688",
   "metadata": {},
   "outputs": [
    {
     "data": {
      "image/png": "[encoded data removed]",
      "text/plain": [
       "<Figure size 720x576 with 1 Axes>"
      ]
     },
     "metadata": {
      "needs_background": "light"
     },
     "output_type": "display_data"
    }
   ],
   "source": [
    "plot_feature_importance(RF.feature_importances_,X_train.columns,'RANDOM FOREST')"
   ]
  },
  {
   "cell_type": "code",
   "execution_count": 447,
   "id": "5e3f6f9f",
   "metadata": {},
   "outputs": [
    {
     "data": {
      "text/plain": [
       "Index(['Home Team Spread_x', 'Away Team Spread_x', 'Total_x',\n",
       "       'Rolling 5 Past H&A Score Avg_Home_Team',\n",
       "       'Rolling 5 Past H&A 1st Downs Avg_Home_Team',\n",
       "       'Rolling 5 Past H&A Total Yards Avg_Home_Team',\n",
       "       'Rolling 5 Past H&A Yards per Pass Avg_Home_Team',\n",
       "       'Rolling 5 Past H&A Spread Avg_Home_Team',\n",
       "       'Rolling 5 Past H&A Spread Min_Home_Team',\n",
       "       'Rolling 5 Past H&A HI REC yrds Avg_Home_Team',\n",
       "       'Rolling 5 Past H&A Conf T Wins_Home_Team',\n",
       "       'Rolling 5 Past H&A 3rd Down Conversion % Avg_Home_Team',\n",
       "       'Rolling 5 Past H&A Completion % Avg_Home_Team',\n",
       "       'Rolling 5 Past H&A Q1 Score Avg_Home_Team',\n",
       "       'Rolling 5 Past H&A Ranking Avg_Home_Team',\n",
       "       'Rolling 5 Past H&A Season T Losses_Away_Team',\n",
       "       'Rolling 5 Past H&A Score Avg_Away_Team',\n",
       "       'Rolling 5 Past H&A 1st Downs Avg_Away_Team',\n",
       "       'Rolling 5 Past H&A Total Yards Avg_Away_Team',\n",
       "       'Rolling 5 Past H&A Yards per Pass Avg_Away_Team',\n",
       "       'Rolling 5 Past H&A Spread Avg_Away_Team',\n",
       "       'Rolling 5 Past H&A Spread Min_Away_Team',\n",
       "       'Rolling 5 Past H&A HI REC yrds Avg_Away_Team',\n",
       "       'Rolling 5 Past H&A Conf T Wins_Away_Team',\n",
       "       'Rolling 5 Past H&A 3rd Down Conversion % Avg_Away_Team',\n",
       "       'Rolling 5 Past H&A Completion % Avg_Away_Team',\n",
       "       'Rolling 5 Past H&A Q1 Score Avg_Away_Team',\n",
       "       'Rolling 5 Past H&A Ranking Avg_Away_Team',\n",
       "       'Rolling 5 Past H&A Season T Losses_Home_Team', 'Home Team Ranking_x',\n",
       "       'Away Team Ranking_x', 'Previous H&A Ranking_Home_Team',\n",
       "       'Previous H&A Ranking_Away_Team'],\n",
       "      dtype='object')"
      ]
     },
     "execution_count": 447,
     "metadata": {},
     "output_type": "execute_result"
    }
   ],
   "source": [
    "X.columns"
   ]
  },
  {
   "cell_type": "markdown",
   "id": "e8b4ec04",
   "metadata": {},
   "source": [
    "# Ran another RF model without the ranking data included to compare results "
   ]
  },
  {
   "cell_type": "code",
   "execution_count": 445,
   "id": "a685e470",
   "metadata": {},
   "outputs": [],
   "source": [
    "X_new = X"
   ]
  },
  {
   "cell_type": "code",
   "execution_count": 452,
   "id": "adc1400a",
   "metadata": {},
   "outputs": [],
   "source": [
    "\n",
    "X_new.drop('Home Team Ranking_x',axis=1,inplace=True)\n",
    "X_new.drop('Away Team Ranking_x',axis=1,inplace=True)\n",
    "X_new.drop('Previous H&A Ranking_Home_Team',inplace=True,axis=1)\n",
    "X_new.drop('Previous H&A Ranking_Away_Team',inplace=True,axis=1)"
   ]
  },
  {
   "cell_type": "code",
   "execution_count": 456,
   "id": "24e87f44",
   "metadata": {},
   "outputs": [
    {
     "data": {
      "text/plain": [
       "Index(['Home Team Spread_x', 'Away Team Spread_x', 'Total_x',\n",
       "       'Rolling 5 Past H&A Score Avg_Home_Team',\n",
       "       'Rolling 5 Past H&A 1st Downs Avg_Home_Team',\n",
       "       'Rolling 5 Past H&A Total Yards Avg_Home_Team',\n",
       "       'Rolling 5 Past H&A Yards per Pass Avg_Home_Team',\n",
       "       'Rolling 5 Past H&A Spread Avg_Home_Team',\n",
       "       'Rolling 5 Past H&A Spread Min_Home_Team',\n",
       "       'Rolling 5 Past H&A HI REC yrds Avg_Home_Team',\n",
       "       'Rolling 5 Past H&A Conf T Wins_Home_Team',\n",
       "       'Rolling 5 Past H&A 3rd Down Conversion % Avg_Home_Team',\n",
       "       'Rolling 5 Past H&A Completion % Avg_Home_Team',\n",
       "       'Rolling 5 Past H&A Q1 Score Avg_Home_Team',\n",
       "       'Rolling 5 Past H&A Ranking Avg_Home_Team',\n",
       "       'Rolling 5 Past H&A Season T Losses_Away_Team',\n",
       "       'Rolling 5 Past H&A Score Avg_Away_Team',\n",
       "       'Rolling 5 Past H&A 1st Downs Avg_Away_Team',\n",
       "       'Rolling 5 Past H&A Total Yards Avg_Away_Team',\n",
       "       'Rolling 5 Past H&A Yards per Pass Avg_Away_Team',\n",
       "       'Rolling 5 Past H&A Spread Avg_Away_Team',\n",
       "       'Rolling 5 Past H&A Spread Min_Away_Team',\n",
       "       'Rolling 5 Past H&A HI REC yrds Avg_Away_Team',\n",
       "       'Rolling 5 Past H&A Conf T Wins_Away_Team',\n",
       "       'Rolling 5 Past H&A 3rd Down Conversion % Avg_Away_Team',\n",
       "       'Rolling 5 Past H&A Completion % Avg_Away_Team',\n",
       "       'Rolling 5 Past H&A Q1 Score Avg_Away_Team',\n",
       "       'Rolling 5 Past H&A Ranking Avg_Away_Team',\n",
       "       'Rolling 5 Past H&A Season T Losses_Home_Team'],\n",
       "      dtype='object')"
      ]
     },
     "execution_count": 456,
     "metadata": {},
     "output_type": "execute_result"
    }
   ],
   "source": [
    "X_new.columns"
   ]
  },
  {
   "cell_type": "code",
   "execution_count": 457,
   "id": "a23c817c",
   "metadata": {},
   "outputs": [],
   "source": [
    "#X = \n",
    "\n",
    "# Create constants for X, so the model knows its bounds\n",
    "#y = y\n",
    "\n",
    "\n",
    "# Split the data\n",
    "X_train, X_test, y_train, y_test = train_test_split(X_new, y, test_size = 0.25, random_state = 42)"
   ]
  },
  {
   "cell_type": "code",
   "execution_count": 458,
   "id": "12ee27aa",
   "metadata": {},
   "outputs": [],
   "source": [
    "RF = RandomForestClassifier()"
   ]
  },
  {
   "cell_type": "code",
   "execution_count": 459,
   "id": "3ac546bf",
   "metadata": {},
   "outputs": [
    {
     "data": {
      "text/plain": [
       "RandomForestClassifier()"
      ]
     },
     "execution_count": 459,
     "metadata": {},
     "output_type": "execute_result"
    }
   ],
   "source": [
    "RF.fit(X_train,y_train)"
   ]
  },
  {
   "cell_type": "code",
   "execution_count": 460,
   "id": "a82c165b",
   "metadata": {},
   "outputs": [],
   "source": [
    "y_pred = RF.predict(X_test)"
   ]
  },
  {
   "cell_type": "code",
   "execution_count": 461,
   "id": "e6cd59b7",
   "metadata": {},
   "outputs": [
    {
     "name": "stdout",
     "output_type": "stream",
     "text": [
      "               precision    recall  f1-score   support\n",
      "\n",
      "   H_Spread_L      0.495     0.458     0.476       120\n",
      "H_Spread_Push      0.000     0.000     0.000         6\n",
      "   H_Spread_W      0.430     0.491     0.458       106\n",
      "\n",
      "     accuracy                          0.461       232\n",
      "    macro avg      0.308     0.316     0.311       232\n",
      " weighted avg      0.453     0.461     0.456       232\n",
      "\n"
     ]
    },
    {
     "name": "stderr",
     "output_type": "stream",
     "text": [
      "/opt/anaconda3/lib/python3.8/site-packages/sklearn/metrics/_classification.py:1245: UndefinedMetricWarning: Precision and F-score are ill-defined and being set to 0.0 in labels with no predicted samples. Use `zero_division` parameter to control this behavior.\n",
      "  _warn_prf(average, modifier, msg_start, len(result))\n",
      "/opt/anaconda3/lib/python3.8/site-packages/sklearn/metrics/_classification.py:1245: UndefinedMetricWarning: Precision and F-score are ill-defined and being set to 0.0 in labels with no predicted samples. Use `zero_division` parameter to control this behavior.\n",
      "  _warn_prf(average, modifier, msg_start, len(result))\n",
      "/opt/anaconda3/lib/python3.8/site-packages/sklearn/metrics/_classification.py:1245: UndefinedMetricWarning: Precision and F-score are ill-defined and being set to 0.0 in labels with no predicted samples. Use `zero_division` parameter to control this behavior.\n",
      "  _warn_prf(average, modifier, msg_start, len(result))\n"
     ]
    }
   ],
   "source": [
    "print(metrics.classification_report(y_test, y_pred, digits=3))"
   ]
  },
  {
   "cell_type": "code",
   "execution_count": 463,
   "id": "015836bd",
   "metadata": {},
   "outputs": [],
   "source": [
    "X['Home Team'] = df3['Home Team']\n",
    "X['Away Team'] = df3['Away Team']"
   ]
  },
  {
   "cell_type": "code",
   "execution_count": 468,
   "id": "c0e46208",
   "metadata": {},
   "outputs": [],
   "source": [
    "X = pd.get_dummies(X,columns=['Home Team'],drop_first=True)"
   ]
  },
  {
   "cell_type": "code",
   "execution_count": 470,
   "id": "a2b56f31",
   "metadata": {},
   "outputs": [],
   "source": [
    "X= pd.get_dummies(X,columns=['Away Team'],drop_first=True)"
   ]
  },
  {
   "cell_type": "code",
   "execution_count": 471,
   "id": "3b744d4b",
   "metadata": {},
   "outputs": [],
   "source": [
    "X_train, X_test, y_train, y_test = train_test_split(X_new, y, test_size = 0.25, random_state = 42)"
   ]
  },
  {
   "cell_type": "code",
   "execution_count": 472,
   "id": "848d78de",
   "metadata": {},
   "outputs": [],
   "source": [
    "RF = RandomForestClassifier()"
   ]
  },
  {
   "cell_type": "code",
   "execution_count": 473,
   "id": "49089290",
   "metadata": {},
   "outputs": [
    {
     "data": {
      "text/plain": [
       "RandomForestClassifier()"
      ]
     },
     "execution_count": 473,
     "metadata": {},
     "output_type": "execute_result"
    }
   ],
   "source": [
    "RF.fit(X_train,y_train)"
   ]
  },
  {
   "cell_type": "code",
   "execution_count": 474,
   "id": "56ae20f6",
   "metadata": {},
   "outputs": [],
   "source": [
    "y_pred = RF.predict(X_test)"
   ]
  },
  {
   "cell_type": "code",
   "execution_count": 475,
   "id": "55fa5802",
   "metadata": {},
   "outputs": [
    {
     "name": "stdout",
     "output_type": "stream",
     "text": [
      "               precision    recall  f1-score   support\n",
      "\n",
      "   H_Spread_L      0.569     0.550     0.559       120\n",
      "H_Spread_Push      0.000     0.000     0.000         6\n",
      "   H_Spread_W      0.500     0.547     0.523       106\n",
      "\n",
      "     accuracy                          0.534       232\n",
      "    macro avg      0.356     0.366     0.361       232\n",
      " weighted avg      0.523     0.534     0.528       232\n",
      "\n"
     ]
    },
    {
     "name": "stderr",
     "output_type": "stream",
     "text": [
      "/opt/anaconda3/lib/python3.8/site-packages/sklearn/metrics/_classification.py:1245: UndefinedMetricWarning: Precision and F-score are ill-defined and being set to 0.0 in labels with no predicted samples. Use `zero_division` parameter to control this behavior.\n",
      "  _warn_prf(average, modifier, msg_start, len(result))\n",
      "/opt/anaconda3/lib/python3.8/site-packages/sklearn/metrics/_classification.py:1245: UndefinedMetricWarning: Precision and F-score are ill-defined and being set to 0.0 in labels with no predicted samples. Use `zero_division` parameter to control this behavior.\n",
      "  _warn_prf(average, modifier, msg_start, len(result))\n",
      "/opt/anaconda3/lib/python3.8/site-packages/sklearn/metrics/_classification.py:1245: UndefinedMetricWarning: Precision and F-score are ill-defined and being set to 0.0 in labels with no predicted samples. Use `zero_division` parameter to control this behavior.\n",
      "  _warn_prf(average, modifier, msg_start, len(result))\n"
     ]
    }
   ],
   "source": [
    "print(metrics.classification_report(y_test, y_pred, digits=3))"
   ]
  },
  {
   "cell_type": "code",
   "execution_count": 476,
   "id": "9c15297a",
   "metadata": {},
   "outputs": [
    {
     "data": {
      "text/plain": [
       "29"
      ]
     },
     "execution_count": 476,
     "metadata": {},
     "output_type": "execute_result"
    }
   ],
   "source": [
    "RF.n_features_in_"
   ]
  },
  {
   "cell_type": "code",
   "execution_count": 477,
   "id": "8c5ef852",
   "metadata": {},
   "outputs": [
    {
     "data": {
      "image/png": "[encoded data removed]",
      "text/plain": [
       "<Figure size 720x576 with 1 Axes>"
      ]
     },
     "metadata": {
      "needs_background": "light"
     },
     "output_type": "display_data"
    }
   ],
   "source": [
    "plot_feature_importance(RF.feature_importances_,X_train.columns,'RANDOM FOREST')"
   ]
  },
  {
   "cell_type": "code",
   "execution_count": 479,
   "id": "bde64002",
   "metadata": {},
   "outputs": [],
   "source": [
    "Home_Team_Cols = [col for col in X.columns if 'Home Team' in col]"
   ]
  },
  {
   "cell_type": "code",
   "execution_count": 480,
   "id": "12474d53",
   "metadata": {},
   "outputs": [],
   "source": [
    "X.drop(Home_Team_Cols,axis=1,inplace=True)"
   ]
  },
  {
   "cell_type": "code",
   "execution_count": 503,
   "id": "d111a12a",
   "metadata": {},
   "outputs": [],
   "source": [
    "X = df4"
   ]
  },
  {
   "cell_type": "code",
   "execution_count": 504,
   "id": "a8aa7ffe",
   "metadata": {},
   "outputs": [
    {
     "data": {
      "text/plain": [
       "Index(['Home Team Spread_x', 'Away Team Spread_x', 'Total_x', 'Home Score_x_x',\n",
       "       'Rolling 5 Past H&A Score Avg_Home_Team',\n",
       "       'Rolling 5 Past H&A 1st Downs Avg_Home_Team',\n",
       "       'Rolling 5 Past H&A Total Yards Avg_Home_Team',\n",
       "       'Rolling 5 Past H&A Yards per Pass Avg_Home_Team',\n",
       "       'Rolling 5 Past H&A Spread Avg_Home_Team',\n",
       "       'Rolling 5 Past H&A Spread Min_Home_Team',\n",
       "       'Rolling 5 Past H&A HI REC yrds Avg_Home_Team',\n",
       "       'Rolling 5 Past H&A Conf T Wins_Home_Team',\n",
       "       'Rolling 5 Past H&A 3rd Down Conversion % Avg_Home_Team',\n",
       "       'Rolling 5 Past H&A Completion % Avg_Home_Team',\n",
       "       'Rolling 5 Past H&A Q1 Score Avg_Home_Team',\n",
       "       'Rolling 5 Past H&A Ranking Avg_Home_Team',\n",
       "       'Rolling 5 Past H&A Season T Losses_Away_Team', 'Away Score_x_x',\n",
       "       'Rolling 5 Past H&A Score Avg_Away_Team',\n",
       "       'Rolling 5 Past H&A 1st Downs Avg_Away_Team',\n",
       "       'Rolling 5 Past H&A Total Yards Avg_Away_Team',\n",
       "       'Rolling 5 Past H&A Yards per Pass Avg_Away_Team',\n",
       "       'Rolling 5 Past H&A Spread Avg_Away_Team',\n",
       "       'Rolling 5 Past H&A Spread Min_Away_Team',\n",
       "       'Rolling 5 Past H&A HI REC yrds Avg_Away_Team',\n",
       "       'Rolling 5 Past H&A Conf T Wins_Away_Team',\n",
       "       'Rolling 5 Past H&A 3rd Down Conversion % Avg_Away_Team',\n",
       "       'Rolling 5 Past H&A Completion % Avg_Away_Team',\n",
       "       'Rolling 5 Past H&A Q1 Score Avg_Away_Team',\n",
       "       'Rolling 5 Past H&A Ranking Avg_Away_Team',\n",
       "       'Rolling 5 Past H&A Season T Losses_Home_Team', 'Home Team Ranking_x',\n",
       "       'Away Team Ranking_x', 'Previous H&A Ranking_Home_Team',\n",
       "       'Previous H&A Ranking_Away_Team', 'H Spread Outcome', 'Date',\n",
       "       'Home Team', 'Away Team', 'Year'],\n",
       "      dtype='object')"
      ]
     },
     "execution_count": 504,
     "metadata": {},
     "output_type": "execute_result"
    }
   ],
   "source": [
    "X.columns"
   ]
  },
  {
   "cell_type": "code",
   "execution_count": 505,
   "id": "5e6e9342",
   "metadata": {},
   "outputs": [
    {
     "name": "stderr",
     "output_type": "stream",
     "text": [
      "<ipython-input-505-e59e933ec043>:1: SettingWithCopyWarning: \n",
      "A value is trying to be set on a copy of a slice from a DataFrame\n",
      "\n",
      "See the caveats in the documentation: https://pandas.pydata.org/pandas-docs/stable/user_guide/indexing.html#returning-a-view-versus-a-copy\n",
      "  X.drop('Year',inplace=True,axis=1)\n",
      "<ipython-input-505-e59e933ec043>:3: SettingWithCopyWarning: \n",
      "A value is trying to be set on a copy of a slice from a DataFrame\n",
      "\n",
      "See the caveats in the documentation: https://pandas.pydata.org/pandas-docs/stable/user_guide/indexing.html#returning-a-view-versus-a-copy\n",
      "  X.drop('H Spread Outcome',inplace=True,axis=1)\n"
     ]
    }
   ],
   "source": [
    "X.drop('Year',inplace=True,axis=1)\n",
    "y= X['H Spread Outcome']\n",
    "X.drop('H Spread Outcome',inplace=True,axis=1)\n",
    "\n"
   ]
  },
  {
   "cell_type": "code",
   "execution_count": 506,
   "id": "880b7957",
   "metadata": {},
   "outputs": [
    {
     "name": "stderr",
     "output_type": "stream",
     "text": [
      "<ipython-input-506-6f425fce10be>:1: SettingWithCopyWarning: \n",
      "A value is trying to be set on a copy of a slice from a DataFrame\n",
      "\n",
      "See the caveats in the documentation: https://pandas.pydata.org/pandas-docs/stable/user_guide/indexing.html#returning-a-view-versus-a-copy\n",
      "  X.drop('Date',inplace=True,axis=1)\n",
      "<ipython-input-506-6f425fce10be>:2: SettingWithCopyWarning: \n",
      "A value is trying to be set on a copy of a slice from a DataFrame\n",
      "\n",
      "See the caveats in the documentation: https://pandas.pydata.org/pandas-docs/stable/user_guide/indexing.html#returning-a-view-versus-a-copy\n",
      "  X.drop('Home Team',inplace=True,axis=1)\n"
     ]
    }
   ],
   "source": [
    "X.drop('Date',inplace=True,axis=1)\n",
    "X.drop('Home Team',inplace=True,axis=1)"
   ]
  },
  {
   "cell_type": "code",
   "execution_count": 507,
   "id": "09683a1e",
   "metadata": {},
   "outputs": [
    {
     "name": "stderr",
     "output_type": "stream",
     "text": [
      "<ipython-input-507-92b6e1ccb119>:1: SettingWithCopyWarning: \n",
      "A value is trying to be set on a copy of a slice from a DataFrame\n",
      "\n",
      "See the caveats in the documentation: https://pandas.pydata.org/pandas-docs/stable/user_guide/indexing.html#returning-a-view-versus-a-copy\n",
      "  X.drop('Home Score_x_x',inplace=True,axis=1)\n",
      "<ipython-input-507-92b6e1ccb119>:2: SettingWithCopyWarning: \n",
      "A value is trying to be set on a copy of a slice from a DataFrame\n",
      "\n",
      "See the caveats in the documentation: https://pandas.pydata.org/pandas-docs/stable/user_guide/indexing.html#returning-a-view-versus-a-copy\n",
      "  X.drop('Away Score_x_x',inplace=True,axis=1)\n"
     ]
    }
   ],
   "source": [
    "X.drop('Home Score_x_x',inplace=True,axis=1)\n",
    "X.drop('Away Score_x_x',inplace=True,axis=1)"
   ]
  },
  {
   "cell_type": "code",
   "execution_count": 508,
   "id": "c5361472",
   "metadata": {},
   "outputs": [
    {
     "data": {
      "text/plain": [
       "Index(['Home Team Spread_x', 'Away Team Spread_x', 'Total_x',\n",
       "       'Rolling 5 Past H&A Score Avg_Home_Team',\n",
       "       'Rolling 5 Past H&A 1st Downs Avg_Home_Team',\n",
       "       'Rolling 5 Past H&A Total Yards Avg_Home_Team',\n",
       "       'Rolling 5 Past H&A Yards per Pass Avg_Home_Team',\n",
       "       'Rolling 5 Past H&A Spread Avg_Home_Team',\n",
       "       'Rolling 5 Past H&A Spread Min_Home_Team',\n",
       "       'Rolling 5 Past H&A HI REC yrds Avg_Home_Team',\n",
       "       'Rolling 5 Past H&A Conf T Wins_Home_Team',\n",
       "       'Rolling 5 Past H&A 3rd Down Conversion % Avg_Home_Team',\n",
       "       'Rolling 5 Past H&A Completion % Avg_Home_Team',\n",
       "       'Rolling 5 Past H&A Q1 Score Avg_Home_Team',\n",
       "       'Rolling 5 Past H&A Ranking Avg_Home_Team',\n",
       "       'Rolling 5 Past H&A Season T Losses_Away_Team',\n",
       "       'Rolling 5 Past H&A Score Avg_Away_Team',\n",
       "       'Rolling 5 Past H&A 1st Downs Avg_Away_Team',\n",
       "       'Rolling 5 Past H&A Total Yards Avg_Away_Team',\n",
       "       'Rolling 5 Past H&A Yards per Pass Avg_Away_Team',\n",
       "       'Rolling 5 Past H&A Spread Avg_Away_Team',\n",
       "       'Rolling 5 Past H&A Spread Min_Away_Team',\n",
       "       'Rolling 5 Past H&A HI REC yrds Avg_Away_Team',\n",
       "       'Rolling 5 Past H&A Conf T Wins_Away_Team',\n",
       "       'Rolling 5 Past H&A 3rd Down Conversion % Avg_Away_Team',\n",
       "       'Rolling 5 Past H&A Completion % Avg_Away_Team',\n",
       "       'Rolling 5 Past H&A Q1 Score Avg_Away_Team',\n",
       "       'Rolling 5 Past H&A Ranking Avg_Away_Team',\n",
       "       'Rolling 5 Past H&A Season T Losses_Home_Team', 'Home Team Ranking_x',\n",
       "       'Away Team Ranking_x', 'Previous H&A Ranking_Home_Team',\n",
       "       'Previous H&A Ranking_Away_Team', 'Away Team'],\n",
       "      dtype='object')"
      ]
     },
     "execution_count": 508,
     "metadata": {},
     "output_type": "execute_result"
    }
   ],
   "source": [
    "X.columns"
   ]
  },
  {
   "cell_type": "code",
   "execution_count": 509,
   "id": "1404cd54",
   "metadata": {},
   "outputs": [],
   "source": [
    "X= pd.get_dummies(X,columns=['Away Team'],drop_first=True)"
   ]
  },
  {
   "cell_type": "code",
   "execution_count": 510,
   "id": "4b2b104d",
   "metadata": {},
   "outputs": [
    {
     "data": {
      "text/plain": [
       "Index(['Home Team Spread_x', 'Away Team Spread_x', 'Total_x',\n",
       "       'Rolling 5 Past H&A Score Avg_Home_Team',\n",
       "       'Rolling 5 Past H&A 1st Downs Avg_Home_Team',\n",
       "       'Rolling 5 Past H&A Total Yards Avg_Home_Team',\n",
       "       'Rolling 5 Past H&A Yards per Pass Avg_Home_Team',\n",
       "       'Rolling 5 Past H&A Spread Avg_Home_Team',\n",
       "       'Rolling 5 Past H&A Spread Min_Home_Team',\n",
       "       'Rolling 5 Past H&A HI REC yrds Avg_Home_Team',\n",
       "       'Rolling 5 Past H&A Conf T Wins_Home_Team',\n",
       "       'Rolling 5 Past H&A 3rd Down Conversion % Avg_Home_Team',\n",
       "       'Rolling 5 Past H&A Completion % Avg_Home_Team',\n",
       "       'Rolling 5 Past H&A Q1 Score Avg_Home_Team',\n",
       "       'Rolling 5 Past H&A Ranking Avg_Home_Team',\n",
       "       'Rolling 5 Past H&A Season T Losses_Away_Team',\n",
       "       'Rolling 5 Past H&A Score Avg_Away_Team',\n",
       "       'Rolling 5 Past H&A 1st Downs Avg_Away_Team',\n",
       "       'Rolling 5 Past H&A Total Yards Avg_Away_Team',\n",
       "       'Rolling 5 Past H&A Yards per Pass Avg_Away_Team',\n",
       "       'Rolling 5 Past H&A Spread Avg_Away_Team',\n",
       "       'Rolling 5 Past H&A Spread Min_Away_Team',\n",
       "       'Rolling 5 Past H&A HI REC yrds Avg_Away_Team',\n",
       "       'Rolling 5 Past H&A Conf T Wins_Away_Team',\n",
       "       'Rolling 5 Past H&A 3rd Down Conversion % Avg_Away_Team',\n",
       "       'Rolling 5 Past H&A Completion % Avg_Away_Team',\n",
       "       'Rolling 5 Past H&A Q1 Score Avg_Away_Team',\n",
       "       'Rolling 5 Past H&A Ranking Avg_Away_Team',\n",
       "       'Rolling 5 Past H&A Season T Losses_Home_Team', 'Home Team Ranking_x',\n",
       "       'Away Team Ranking_x', 'Previous H&A Ranking_Home_Team',\n",
       "       'Previous H&A Ranking_Away_Team', 'Away Team_Arkansas',\n",
       "       'Away Team_Auburn', 'Away Team_Florida', 'Away Team_Georgia',\n",
       "       'Away Team_Kentucky', 'Away Team_LSU', 'Away Team_Mississippi State',\n",
       "       'Away Team_Missouri', 'Away Team_Ole Miss', 'Away Team_South Carolina',\n",
       "       'Away Team_Tennessee', 'Away Team_Texas A&M', 'Away Team_Vanderbilt'],\n",
       "      dtype='object')"
      ]
     },
     "execution_count": 510,
     "metadata": {},
     "output_type": "execute_result"
    }
   ],
   "source": [
    "X.columns"
   ]
  },
  {
   "cell_type": "code",
   "execution_count": 511,
   "id": "3e8f04a2",
   "metadata": {},
   "outputs": [],
   "source": [
    "X_train, X_test, y_train, y_test = train_test_split(X, y, test_size = 0.25, random_state = 42)"
   ]
  },
  {
   "cell_type": "code",
   "execution_count": 512,
   "id": "0604ad6c",
   "metadata": {},
   "outputs": [],
   "source": [
    "RF = RandomForestClassifier()"
   ]
  },
  {
   "cell_type": "code",
   "execution_count": 513,
   "id": "cf724f64",
   "metadata": {},
   "outputs": [
    {
     "data": {
      "text/plain": [
       "RandomForestClassifier()"
      ]
     },
     "execution_count": 513,
     "metadata": {},
     "output_type": "execute_result"
    }
   ],
   "source": [
    "RF.fit(X_train,y_train)"
   ]
  },
  {
   "cell_type": "code",
   "execution_count": 514,
   "id": "995bf2c1",
   "metadata": {},
   "outputs": [],
   "source": [
    "y_pred = RF.predict(X_test)"
   ]
  },
  {
   "cell_type": "code",
   "execution_count": 515,
   "id": "8e2cbfb7",
   "metadata": {},
   "outputs": [
    {
     "name": "stdout",
     "output_type": "stream",
     "text": [
      "               precision    recall  f1-score   support\n",
      "\n",
      "   H_Spread_L      0.524     0.550     0.537       120\n",
      "H_Spread_Push      0.000     0.000     0.000         6\n",
      "   H_Spread_W      0.462     0.462     0.462       106\n",
      "\n",
      "     accuracy                          0.496       232\n",
      "    macro avg      0.329     0.337     0.333       232\n",
      " weighted avg      0.482     0.496     0.489       232\n",
      "\n"
     ]
    },
    {
     "name": "stderr",
     "output_type": "stream",
     "text": [
      "/opt/anaconda3/lib/python3.8/site-packages/sklearn/metrics/_classification.py:1245: UndefinedMetricWarning: Precision and F-score are ill-defined and being set to 0.0 in labels with no predicted samples. Use `zero_division` parameter to control this behavior.\n",
      "  _warn_prf(average, modifier, msg_start, len(result))\n",
      "/opt/anaconda3/lib/python3.8/site-packages/sklearn/metrics/_classification.py:1245: UndefinedMetricWarning: Precision and F-score are ill-defined and being set to 0.0 in labels with no predicted samples. Use `zero_division` parameter to control this behavior.\n",
      "  _warn_prf(average, modifier, msg_start, len(result))\n",
      "/opt/anaconda3/lib/python3.8/site-packages/sklearn/metrics/_classification.py:1245: UndefinedMetricWarning: Precision and F-score are ill-defined and being set to 0.0 in labels with no predicted samples. Use `zero_division` parameter to control this behavior.\n",
      "  _warn_prf(average, modifier, msg_start, len(result))\n"
     ]
    }
   ],
   "source": [
    "print(metrics.classification_report(y_test, y_pred, digits=3))"
   ]
  },
  {
   "cell_type": "code",
   "execution_count": 520,
   "id": "ca0016a0",
   "metadata": {},
   "outputs": [],
   "source": [
    "X= df4"
   ]
  },
  {
   "cell_type": "code",
   "execution_count": 521,
   "id": "696d3e8d",
   "metadata": {},
   "outputs": [
    {
     "data": {
      "text/plain": [
       "Index(['Home Team Spread_x', 'Away Team Spread_x', 'Total_x', 'Home Score_x_x',\n",
       "       'Rolling 5 Past H&A Score Avg_Home_Team',\n",
       "       'Rolling 5 Past H&A 1st Downs Avg_Home_Team',\n",
       "       'Rolling 5 Past H&A Total Yards Avg_Home_Team',\n",
       "       'Rolling 5 Past H&A Yards per Pass Avg_Home_Team',\n",
       "       'Rolling 5 Past H&A Spread Avg_Home_Team',\n",
       "       'Rolling 5 Past H&A Spread Min_Home_Team',\n",
       "       'Rolling 5 Past H&A HI REC yrds Avg_Home_Team',\n",
       "       'Rolling 5 Past H&A Conf T Wins_Home_Team',\n",
       "       'Rolling 5 Past H&A 3rd Down Conversion % Avg_Home_Team',\n",
       "       'Rolling 5 Past H&A Completion % Avg_Home_Team',\n",
       "       'Rolling 5 Past H&A Q1 Score Avg_Home_Team',\n",
       "       'Rolling 5 Past H&A Ranking Avg_Home_Team',\n",
       "       'Rolling 5 Past H&A Season T Losses_Away_Team', 'Away Score_x_x',\n",
       "       'Rolling 5 Past H&A Score Avg_Away_Team',\n",
       "       'Rolling 5 Past H&A 1st Downs Avg_Away_Team',\n",
       "       'Rolling 5 Past H&A Total Yards Avg_Away_Team',\n",
       "       'Rolling 5 Past H&A Yards per Pass Avg_Away_Team',\n",
       "       'Rolling 5 Past H&A Spread Avg_Away_Team',\n",
       "       'Rolling 5 Past H&A Spread Min_Away_Team',\n",
       "       'Rolling 5 Past H&A HI REC yrds Avg_Away_Team',\n",
       "       'Rolling 5 Past H&A Conf T Wins_Away_Team',\n",
       "       'Rolling 5 Past H&A 3rd Down Conversion % Avg_Away_Team',\n",
       "       'Rolling 5 Past H&A Completion % Avg_Away_Team',\n",
       "       'Rolling 5 Past H&A Q1 Score Avg_Away_Team',\n",
       "       'Rolling 5 Past H&A Ranking Avg_Away_Team',\n",
       "       'Rolling 5 Past H&A Season T Losses_Home_Team', 'Home Team Ranking_x',\n",
       "       'Away Team Ranking_x', 'Previous H&A Ranking_Home_Team',\n",
       "       'Previous H&A Ranking_Away_Team', 'H Spread Outcome', 'Date',\n",
       "       'Home Team', 'Away Team', 'Year'],\n",
       "      dtype='object')"
      ]
     },
     "execution_count": 521,
     "metadata": {},
     "output_type": "execute_result"
    }
   ],
   "source": [
    "X.columns"
   ]
  },
  {
   "cell_type": "code",
   "execution_count": 522,
   "id": "cfc86521",
   "metadata": {},
   "outputs": [
    {
     "name": "stderr",
     "output_type": "stream",
     "text": [
      "<ipython-input-522-1d8c30b40e1b>:1: SettingWithCopyWarning: \n",
      "A value is trying to be set on a copy of a slice from a DataFrame\n",
      "\n",
      "See the caveats in the documentation: https://pandas.pydata.org/pandas-docs/stable/user_guide/indexing.html#returning-a-view-versus-a-copy\n",
      "  X.drop('Home Score_x_x',inplace=True,axis=1)\n",
      "<ipython-input-522-1d8c30b40e1b>:2: SettingWithCopyWarning: \n",
      "A value is trying to be set on a copy of a slice from a DataFrame\n",
      "\n",
      "See the caveats in the documentation: https://pandas.pydata.org/pandas-docs/stable/user_guide/indexing.html#returning-a-view-versus-a-copy\n",
      "  X.drop('Away Score_x_x',inplace=True,axis=1)\n",
      "<ipython-input-522-1d8c30b40e1b>:3: SettingWithCopyWarning: \n",
      "A value is trying to be set on a copy of a slice from a DataFrame\n",
      "\n",
      "See the caveats in the documentation: https://pandas.pydata.org/pandas-docs/stable/user_guide/indexing.html#returning-a-view-versus-a-copy\n",
      "  X.drop('Year',inplace=True,axis=1)\n",
      "<ipython-input-522-1d8c30b40e1b>:5: SettingWithCopyWarning: \n",
      "A value is trying to be set on a copy of a slice from a DataFrame\n",
      "\n",
      "See the caveats in the documentation: https://pandas.pydata.org/pandas-docs/stable/user_guide/indexing.html#returning-a-view-versus-a-copy\n",
      "  X.drop('H Spread Outcome',inplace=True,axis=1)\n",
      "<ipython-input-522-1d8c30b40e1b>:6: SettingWithCopyWarning: \n",
      "A value is trying to be set on a copy of a slice from a DataFrame\n",
      "\n",
      "See the caveats in the documentation: https://pandas.pydata.org/pandas-docs/stable/user_guide/indexing.html#returning-a-view-versus-a-copy\n",
      "  X.drop('Date',inplace=True,axis=1)\n"
     ]
    }
   ],
   "source": [
    "X.drop('Home Score_x_x',inplace=True,axis=1)\n",
    "X.drop('Away Score_x_x',inplace=True,axis=1)\n",
    "X.drop('Year',inplace=True,axis=1)\n",
    "y= X['H Spread Outcome']\n",
    "X.drop('H Spread Outcome',inplace=True,axis=1)\n",
    "X.drop('Date',inplace=True,axis=1)"
   ]
  },
  {
   "cell_type": "code",
   "execution_count": 535,
   "id": "d1ef61f9",
   "metadata": {},
   "outputs": [
    {
     "data": {
      "text/plain": [
       "Index(['Home Team Spread_x', 'Away Team Spread_x', 'Total_x',\n",
       "       'Rolling 5 Past H&A Score Avg_Home_Team',\n",
       "       'Rolling 5 Past H&A 1st Downs Avg_Home_Team',\n",
       "       'Rolling 5 Past H&A Total Yards Avg_Home_Team',\n",
       "       'Rolling 5 Past H&A Yards per Pass Avg_Home_Team',\n",
       "       'Rolling 5 Past H&A Spread Avg_Home_Team',\n",
       "       'Rolling 5 Past H&A Spread Min_Home_Team',\n",
       "       'Rolling 5 Past H&A HI REC yrds Avg_Home_Team',\n",
       "       'Rolling 5 Past H&A Conf T Wins_Home_Team',\n",
       "       'Rolling 5 Past H&A 3rd Down Conversion % Avg_Home_Team',\n",
       "       'Rolling 5 Past H&A Completion % Avg_Home_Team',\n",
       "       'Rolling 5 Past H&A Q1 Score Avg_Home_Team',\n",
       "       'Rolling 5 Past H&A Ranking Avg_Home_Team',\n",
       "       'Rolling 5 Past H&A Season T Losses_Away_Team',\n",
       "       'Rolling 5 Past H&A Score Avg_Away_Team',\n",
       "       'Rolling 5 Past H&A 1st Downs Avg_Away_Team',\n",
       "       'Rolling 5 Past H&A Total Yards Avg_Away_Team',\n",
       "       'Rolling 5 Past H&A Yards per Pass Avg_Away_Team',\n",
       "       'Rolling 5 Past H&A Spread Avg_Away_Team',\n",
       "       'Rolling 5 Past H&A Spread Min_Away_Team',\n",
       "       'Rolling 5 Past H&A HI REC yrds Avg_Away_Team',\n",
       "       'Rolling 5 Past H&A Conf T Wins_Away_Team',\n",
       "       'Rolling 5 Past H&A 3rd Down Conversion % Avg_Away_Team',\n",
       "       'Rolling 5 Past H&A Completion % Avg_Away_Team',\n",
       "       'Rolling 5 Past H&A Q1 Score Avg_Away_Team',\n",
       "       'Rolling 5 Past H&A Ranking Avg_Away_Team',\n",
       "       'Rolling 5 Past H&A Season T Losses_Home_Team', 'Home Team Ranking_x',\n",
       "       'Away Team Ranking_x', 'Previous H&A Ranking_Home_Team',\n",
       "       'Previous H&A Ranking_Away_Team', 'Home Team', 'Away Team',\n",
       "       'AlabamavsGeorgia'],\n",
       "      dtype='object')"
      ]
     },
     "execution_count": 535,
     "metadata": {},
     "output_type": "execute_result"
    }
   ],
   "source": [
    "X.columns"
   ]
  },
  {
   "cell_type": "code",
   "execution_count": 607,
   "id": "5ccdadb0",
   "metadata": {},
   "outputs": [],
   "source": [
    "X= df4"
   ]
  },
  {
   "cell_type": "code",
   "execution_count": 608,
   "id": "853d8f8a",
   "metadata": {},
   "outputs": [],
   "source": [
    "X_new = X[['Rolling 5 Past H&A Spread Avg_Away_Team',\n",
    "           'Rolling 5 Past H&A Spread Avg_Home_Team',\n",
    "           'Rolling 5 Past H&A 3rd Down Conversion % Avg_Away_Team',\n",
    "           'Rolling 5 Past H&A 3rd Down Conversion % Avg_Home_Team',\n",
    "          'Rolling 5 Past H&A Total Yards Avg_Away_Team',\n",
    "          'Rolling 5 Past H&A Total Yards Avg_Home_Team',\n",
    "          'H Spread Outcome',\n",
    "         'Rolling 5 Past H&A Score Avg_Away_Team',\n",
    "         'Rolling 5 Past H&A Score Avg_Home_Team',\n",
    "          'Home Team Spread_x']]\n",
    "\n",
    "\n"
   ]
  },
  {
   "cell_type": "code",
   "execution_count": 613,
   "id": "87adc083",
   "metadata": {},
   "outputs": [
    {
     "name": "stderr",
     "output_type": "stream",
     "text": [
      "<ipython-input-613-d44f8c480f48>:2: SettingWithCopyWarning: \n",
      "A value is trying to be set on a copy of a slice from a DataFrame.\n",
      "Try using .loc[row_indexer,col_indexer] = value instead\n",
      "\n",
      "See the caveats in the documentation: https://pandas.pydata.org/pandas-docs/stable/user_guide/indexing.html#returning-a-view-versus-a-copy\n",
      "  X_new2['Rolling_Spread_Diff']= X['Rolling 5 Past H&A Spread Avg_Away_Team'] - X['Rolling 5 Past H&A Spread Avg_Home_Team']\n",
      "<ipython-input-613-d44f8c480f48>:3: SettingWithCopyWarning: \n",
      "A value is trying to be set on a copy of a slice from a DataFrame.\n",
      "Try using .loc[row_indexer,col_indexer] = value instead\n",
      "\n",
      "See the caveats in the documentation: https://pandas.pydata.org/pandas-docs/stable/user_guide/indexing.html#returning-a-view-versus-a-copy\n",
      "  X_new2['Rolling_3rd_Diff']= X['Rolling 5 Past H&A 3rd Down Conversion % Avg_Away_Team'] - X['Rolling 5 Past H&A 3rd Down Conversion % Avg_Home_Team']\n",
      "<ipython-input-613-d44f8c480f48>:4: SettingWithCopyWarning: \n",
      "A value is trying to be set on a copy of a slice from a DataFrame.\n",
      "Try using .loc[row_indexer,col_indexer] = value instead\n",
      "\n",
      "See the caveats in the documentation: https://pandas.pydata.org/pandas-docs/stable/user_guide/indexing.html#returning-a-view-versus-a-copy\n",
      "  X_new2['Rolling_Yards_Diff']= X['Rolling 5 Past H&A Total Yards Avg_Away_Team'] - X['Rolling 5 Past H&A Total Yards Avg_Home_Team']\n",
      "<ipython-input-613-d44f8c480f48>:5: SettingWithCopyWarning: \n",
      "A value is trying to be set on a copy of a slice from a DataFrame.\n",
      "Try using .loc[row_indexer,col_indexer] = value instead\n",
      "\n",
      "See the caveats in the documentation: https://pandas.pydata.org/pandas-docs/stable/user_guide/indexing.html#returning-a-view-versus-a-copy\n",
      "  X_new2['Rolling_Yards_Diff']= X['Rolling 5 Past H&A Score Avg_Away_Team'] - X['Rolling 5 Past H&A Score Avg_Home_Team']\n",
      "<ipython-input-613-d44f8c480f48>:6: SettingWithCopyWarning: \n",
      "A value is trying to be set on a copy of a slice from a DataFrame.\n",
      "Try using .loc[row_indexer,col_indexer] = value instead\n",
      "\n",
      "See the caveats in the documentation: https://pandas.pydata.org/pandas-docs/stable/user_guide/indexing.html#returning-a-view-versus-a-copy\n",
      "  X_new2['Home Team Spread_x'] = X['Home Team Spread_x']\n",
      "<ipython-input-613-d44f8c480f48>:7: SettingWithCopyWarning: \n",
      "A value is trying to be set on a copy of a slice from a DataFrame.\n",
      "Try using .loc[row_indexer,col_indexer] = value instead\n",
      "\n",
      "See the caveats in the documentation: https://pandas.pydata.org/pandas-docs/stable/user_guide/indexing.html#returning-a-view-versus-a-copy\n",
      "  X_new2['Total_x'] = X['Total_x']\n"
     ]
    }
   ],
   "source": [
    "X_new2= X\n",
    "X_new2['Rolling_Spread_Diff']= X['Rolling 5 Past H&A Spread Avg_Away_Team'] - X['Rolling 5 Past H&A Spread Avg_Home_Team']\n",
    "X_new2['Rolling_3rd_Diff']= X['Rolling 5 Past H&A 3rd Down Conversion % Avg_Away_Team'] - X['Rolling 5 Past H&A 3rd Down Conversion % Avg_Home_Team']\n",
    "X_new2['Rolling_Yards_Diff']= X['Rolling 5 Past H&A Total Yards Avg_Away_Team'] - X['Rolling 5 Past H&A Total Yards Avg_Home_Team']  \n",
    "X_new2['Rolling_Yards_Diff']= X['Rolling 5 Past H&A Score Avg_Away_Team'] - X['Rolling 5 Past H&A Score Avg_Home_Team']  \n",
    "X_new2['Home Team Spread_x'] = X['Home Team Spread_x']\n",
    "X_new2['Total_x'] = X['Total_x']\n",
    "\n"
   ]
  },
  {
   "cell_type": "code",
   "execution_count": 614,
   "id": "1491d82c",
   "metadata": {},
   "outputs": [],
   "source": [
    "X_new2 = X_new2[['Total_x','Home Team Spread_x','Rolling_Yards_Diff','Rolling_Yards_Diff','Rolling_3rd_Diff','Rolling_Spread_Diff','H Spread Outcome']]"
   ]
  },
  {
   "cell_type": "code",
   "execution_count": 615,
   "id": "781d5347",
   "metadata": {},
   "outputs": [],
   "source": [
    "y=X_new2['H Spread Outcome']\n",
    "X=X_new2.drop('H Spread Outcome',axis=1)\n",
    "\n",
    "X_train, X_test, y_train, y_test = train_test_split(X, y, test_size = 0.25, random_state = 42)"
   ]
  },
  {
   "cell_type": "code",
   "execution_count": 616,
   "id": "6aafbb83",
   "metadata": {},
   "outputs": [],
   "source": [
    "RF = RandomForestClassifier()"
   ]
  },
  {
   "cell_type": "code",
   "execution_count": 617,
   "id": "df537a68",
   "metadata": {},
   "outputs": [
    {
     "data": {
      "text/plain": [
       "RandomForestClassifier()"
      ]
     },
     "execution_count": 617,
     "metadata": {},
     "output_type": "execute_result"
    }
   ],
   "source": [
    "RF.fit(X_train,y_train)"
   ]
  },
  {
   "cell_type": "code",
   "execution_count": 618,
   "id": "8ac96b74",
   "metadata": {},
   "outputs": [],
   "source": [
    "y_pred = RF.predict(X_test)"
   ]
  },
  {
   "cell_type": "code",
   "execution_count": 619,
   "id": "218cfbf9",
   "metadata": {},
   "outputs": [
    {
     "name": "stdout",
     "output_type": "stream",
     "text": [
      "               precision    recall  f1-score   support\n",
      "\n",
      "   H_Spread_L      0.486     0.425     0.453       120\n",
      "H_Spread_Push      0.000     0.000     0.000         6\n",
      "   H_Spread_W      0.425     0.509     0.464       106\n",
      "\n",
      "     accuracy                          0.453       232\n",
      "    macro avg      0.304     0.311     0.306       232\n",
      " weighted avg      0.446     0.453     0.446       232\n",
      "\n"
     ]
    },
    {
     "name": "stderr",
     "output_type": "stream",
     "text": [
      "/opt/anaconda3/lib/python3.8/site-packages/sklearn/metrics/_classification.py:1245: UndefinedMetricWarning: Precision and F-score are ill-defined and being set to 0.0 in labels with no predicted samples. Use `zero_division` parameter to control this behavior.\n",
      "  _warn_prf(average, modifier, msg_start, len(result))\n",
      "/opt/anaconda3/lib/python3.8/site-packages/sklearn/metrics/_classification.py:1245: UndefinedMetricWarning: Precision and F-score are ill-defined and being set to 0.0 in labels with no predicted samples. Use `zero_division` parameter to control this behavior.\n",
      "  _warn_prf(average, modifier, msg_start, len(result))\n",
      "/opt/anaconda3/lib/python3.8/site-packages/sklearn/metrics/_classification.py:1245: UndefinedMetricWarning: Precision and F-score are ill-defined and being set to 0.0 in labels with no predicted samples. Use `zero_division` parameter to control this behavior.\n",
      "  _warn_prf(average, modifier, msg_start, len(result))\n"
     ]
    }
   ],
   "source": [
    "print(metrics.classification_report(y_test, y_pred, digits=3))"
   ]
  },
  {
   "cell_type": "code",
   "execution_count": 620,
   "id": "0520c5ff",
   "metadata": {},
   "outputs": [
    {
     "data": {
      "text/plain": [
       "Index(['Total_x', 'Home Team Spread_x', 'Rolling_Yards_Diff',\n",
       "       'Rolling_Yards_Diff', 'Rolling_3rd_Diff', 'Rolling_Spread_Diff'],\n",
       "      dtype='object')"
      ]
     },
     "execution_count": 620,
     "metadata": {},
     "output_type": "execute_result"
    }
   ],
   "source": [
    "X.columns"
   ]
  },
  {
   "cell_type": "code",
   "execution_count": 627,
   "id": "f377a0ea",
   "metadata": {},
   "outputs": [],
   "source": [
    "DT = DecisionTreeClassifier()"
   ]
  },
  {
   "cell_type": "code",
   "execution_count": 628,
   "id": "d1d821ec",
   "metadata": {},
   "outputs": [],
   "source": [
    "scaler=StandardScaler()"
   ]
  },
  {
   "cell_type": "code",
   "execution_count": 630,
   "id": "7100e5c1",
   "metadata": {},
   "outputs": [
    {
     "ename": "AttributeError",
     "evalue": "'StandardScaler' object has no attribute 'DT'",
     "output_type": "error",
     "traceback": [
      "\u001b[0;31m---------------------------------------------------------------------------\u001b[0m",
      "\u001b[0;31mAttributeError\u001b[0m                            Traceback (most recent call last)",
      "\u001b[0;32m<ipython-input-630-c54766394fa4>\u001b[0m in \u001b[0;36m<module>\u001b[0;34m\u001b[0m\n\u001b[0;32m----> 1\u001b[0;31m \u001b[0mscaler\u001b[0m\u001b[0;34m.\u001b[0m\u001b[0mDT\u001b[0m\u001b[0;34m.\u001b[0m\u001b[0mfit\u001b[0m\u001b[0;34m(\u001b[0m\u001b[0mX_train\u001b[0m\u001b[0;34m,\u001b[0m\u001b[0my_train\u001b[0m\u001b[0;34m)\u001b[0m\u001b[0;34m\u001b[0m\u001b[0;34m\u001b[0m\u001b[0m\n\u001b[0m",
      "\u001b[0;31mAttributeError\u001b[0m: 'StandardScaler' object has no attribute 'DT'"
     ]
    }
   ],
   "source": [
    "scaler.DT.fit(X_train,y_train)"
   ]
  },
  {
   "cell_type": "code",
   "execution_count": 623,
   "id": "4c791d8e",
   "metadata": {},
   "outputs": [],
   "source": [
    "y_pred = DT.predict(X_test)"
   ]
  },
  {
   "cell_type": "code",
   "execution_count": 624,
   "id": "cdae3028",
   "metadata": {},
   "outputs": [],
   "source": [
    "y_pred = DT.predict(X_test)"
   ]
  },
  {
   "cell_type": "code",
   "execution_count": 625,
   "id": "be6bd748",
   "metadata": {},
   "outputs": [
    {
     "name": "stdout",
     "output_type": "stream",
     "text": [
      "               precision    recall  f1-score   support\n",
      "\n",
      "   H_Spread_L      0.491     0.450     0.470       120\n",
      "H_Spread_Push      0.000     0.000     0.000         6\n",
      "   H_Spread_W      0.462     0.462     0.462       106\n",
      "\n",
      "     accuracy                          0.444       232\n",
      "    macro avg      0.318     0.304     0.311       232\n",
      " weighted avg      0.465     0.444     0.454       232\n",
      "\n"
     ]
    }
   ],
   "source": [
    "print(metrics.classification_report(y_test, y_pred, digits=3))"
   ]
  },
  {
   "cell_type": "code",
   "execution_count": 626,
   "id": "6dc9963a",
   "metadata": {},
   "outputs": [
    {
     "data": {
      "text/html": [
       "<div>\n",
       "<style scoped>\n",
       "    .dataframe tbody tr th:only-of-type {\n",
       "        vertical-align: middle;\n",
       "    }\n",
       "\n",
       "    .dataframe tbody tr th {\n",
       "        vertical-align: top;\n",
       "    }\n",
       "\n",
       "    .dataframe thead th {\n",
       "        text-align: right;\n",
       "    }\n",
       "</style>\n",
       "<table border=\"1\" class=\"dataframe\">\n",
       "  <thead>\n",
       "    <tr style=\"text-align: right;\">\n",
       "      <th></th>\n",
       "      <th>Total_x</th>\n",
       "      <th>Home Team Spread_x</th>\n",
       "      <th>Rolling_Yards_Diff</th>\n",
       "      <th>Rolling_Yards_Diff</th>\n",
       "      <th>Rolling_3rd_Diff</th>\n",
       "      <th>Rolling_Spread_Diff</th>\n",
       "      <th>H Spread Outcome</th>\n",
       "    </tr>\n",
       "  </thead>\n",
       "  <tbody>\n",
       "    <tr>\n",
       "      <th>1</th>\n",
       "      <td>49.0</td>\n",
       "      <td>6.5</td>\n",
       "      <td>-1.0</td>\n",
       "      <td>-1.0</td>\n",
       "      <td>-0.148180</td>\n",
       "      <td>0.4</td>\n",
       "      <td>H_Spread_W</td>\n",
       "    </tr>\n",
       "    <tr>\n",
       "      <th>2</th>\n",
       "      <td>27.0</td>\n",
       "      <td>6.5</td>\n",
       "      <td>9.0</td>\n",
       "      <td>9.0</td>\n",
       "      <td>-0.046545</td>\n",
       "      <td>-14.8</td>\n",
       "      <td>H_Spread_W</td>\n",
       "    </tr>\n",
       "    <tr>\n",
       "      <th>3</th>\n",
       "      <td>55.5</td>\n",
       "      <td>19.5</td>\n",
       "      <td>15.6</td>\n",
       "      <td>15.6</td>\n",
       "      <td>0.176925</td>\n",
       "      <td>-20.8</td>\n",
       "      <td>H_Spread_W</td>\n",
       "    </tr>\n",
       "    <tr>\n",
       "      <th>4</th>\n",
       "      <td>63.5</td>\n",
       "      <td>31.5</td>\n",
       "      <td>13.8</td>\n",
       "      <td>13.8</td>\n",
       "      <td>0.123914</td>\n",
       "      <td>-15.7</td>\n",
       "      <td>H_Spread_W</td>\n",
       "    </tr>\n",
       "    <tr>\n",
       "      <th>5</th>\n",
       "      <td>63.0</td>\n",
       "      <td>-14.5</td>\n",
       "      <td>-8.8</td>\n",
       "      <td>-8.8</td>\n",
       "      <td>-0.082420</td>\n",
       "      <td>6.4</td>\n",
       "      <td>H_Spread_W</td>\n",
       "    </tr>\n",
       "    <tr>\n",
       "      <th>...</th>\n",
       "      <td>...</td>\n",
       "      <td>...</td>\n",
       "      <td>...</td>\n",
       "      <td>...</td>\n",
       "      <td>...</td>\n",
       "      <td>...</td>\n",
       "      <td>...</td>\n",
       "    </tr>\n",
       "    <tr>\n",
       "      <th>941</th>\n",
       "      <td>54.0</td>\n",
       "      <td>10.5</td>\n",
       "      <td>14.2</td>\n",
       "      <td>14.2</td>\n",
       "      <td>0.089809</td>\n",
       "      <td>-17.8</td>\n",
       "      <td>H_Spread_L</td>\n",
       "    </tr>\n",
       "    <tr>\n",
       "      <th>942</th>\n",
       "      <td>44.5</td>\n",
       "      <td>24.0</td>\n",
       "      <td>19.8</td>\n",
       "      <td>19.8</td>\n",
       "      <td>0.129804</td>\n",
       "      <td>-24.2</td>\n",
       "      <td>H_Spread_L</td>\n",
       "    </tr>\n",
       "    <tr>\n",
       "      <th>943</th>\n",
       "      <td>42.5</td>\n",
       "      <td>-17.0</td>\n",
       "      <td>-2.4</td>\n",
       "      <td>-2.4</td>\n",
       "      <td>0.023818</td>\n",
       "      <td>17.5</td>\n",
       "      <td>H_Spread_L</td>\n",
       "    </tr>\n",
       "    <tr>\n",
       "      <th>946</th>\n",
       "      <td>38.5</td>\n",
       "      <td>-1.0</td>\n",
       "      <td>-2.0</td>\n",
       "      <td>-2.0</td>\n",
       "      <td>0.000208</td>\n",
       "      <td>3.0</td>\n",
       "      <td>H_Spread_L</td>\n",
       "    </tr>\n",
       "    <tr>\n",
       "      <th>948</th>\n",
       "      <td>50.0</td>\n",
       "      <td>-6.0</td>\n",
       "      <td>2.6</td>\n",
       "      <td>2.6</td>\n",
       "      <td>0.029554</td>\n",
       "      <td>1.3</td>\n",
       "      <td>H_Spread_W</td>\n",
       "    </tr>\n",
       "  </tbody>\n",
       "</table>\n",
       "<p>928 rows × 7 columns</p>\n",
       "</div>"
      ],
      "text/plain": [
       "     Total_x  Home Team Spread_x  Rolling_Yards_Diff  Rolling_Yards_Diff  \\\n",
       "1       49.0                 6.5                -1.0                -1.0   \n",
       "2       27.0                 6.5                 9.0                 9.0   \n",
       "3       55.5                19.5                15.6                15.6   \n",
       "4       63.5                31.5                13.8                13.8   \n",
       "5       63.0               -14.5                -8.8                -8.8   \n",
       "..       ...                 ...                 ...                 ...   \n",
       "941     54.0                10.5                14.2                14.2   \n",
       "942     44.5                24.0                19.8                19.8   \n",
       "943     42.5               -17.0                -2.4                -2.4   \n",
       "946     38.5                -1.0                -2.0                -2.0   \n",
       "948     50.0                -6.0                 2.6                 2.6   \n",
       "\n",
       "     Rolling_3rd_Diff  Rolling_Spread_Diff H Spread Outcome  \n",
       "1           -0.148180                  0.4       H_Spread_W  \n",
       "2           -0.046545                -14.8       H_Spread_W  \n",
       "3            0.176925                -20.8       H_Spread_W  \n",
       "4            0.123914                -15.7       H_Spread_W  \n",
       "5           -0.082420                  6.4       H_Spread_W  \n",
       "..                ...                  ...              ...  \n",
       "941          0.089809                -17.8       H_Spread_L  \n",
       "942          0.129804                -24.2       H_Spread_L  \n",
       "943          0.023818                 17.5       H_Spread_L  \n",
       "946          0.000208                  3.0       H_Spread_L  \n",
       "948          0.029554                  1.3       H_Spread_W  \n",
       "\n",
       "[928 rows x 7 columns]"
      ]
     },
     "execution_count": 626,
     "metadata": {},
     "output_type": "execute_result"
    }
   ],
   "source": [
    "X_new2"
   ]
  },
  {
   "cell_type": "code",
   "execution_count": 631,
   "id": "1146532a",
   "metadata": {},
   "outputs": [],
   "source": [
    "from sklearn.neighbors import KNeighborsClassifier"
   ]
  },
  {
   "cell_type": "code",
   "execution_count": 668,
   "id": "9cbd77c8",
   "metadata": {},
   "outputs": [],
   "source": [
    "KNN = KNeighborsClassifier(n_neighbors=40)"
   ]
  },
  {
   "cell_type": "code",
   "execution_count": 669,
   "id": "0d519493",
   "metadata": {},
   "outputs": [
    {
     "data": {
      "text/plain": [
       "KNeighborsClassifier(n_neighbors=40)"
      ]
     },
     "execution_count": 669,
     "metadata": {},
     "output_type": "execute_result"
    }
   ],
   "source": [
    "KNN.fit(X_train,y_train)"
   ]
  },
  {
   "cell_type": "code",
   "execution_count": 670,
   "id": "caf66286",
   "metadata": {},
   "outputs": [],
   "source": [
    "y_pred= KNN.predict(X_test)"
   ]
  },
  {
   "cell_type": "code",
   "execution_count": 672,
   "id": "562250be",
   "metadata": {},
   "outputs": [
    {
     "name": "stdout",
     "output_type": "stream",
     "text": [
      "               precision    recall  f1-score   support\n",
      "\n",
      "   H_Spread_L      0.553     0.650     0.598       120\n",
      "H_Spread_Push      0.000     0.000     0.000         6\n",
      "   H_Spread_W      0.495     0.425     0.457       106\n",
      "\n",
      "     accuracy                          0.530       232\n",
      "    macro avg      0.349     0.358     0.352       232\n",
      " weighted avg      0.512     0.530     0.518       232\n",
      "\n"
     ]
    },
    {
     "name": "stderr",
     "output_type": "stream",
     "text": [
      "/opt/anaconda3/lib/python3.8/site-packages/sklearn/metrics/_classification.py:1245: UndefinedMetricWarning: Precision and F-score are ill-defined and being set to 0.0 in labels with no predicted samples. Use `zero_division` parameter to control this behavior.\n",
      "  _warn_prf(average, modifier, msg_start, len(result))\n",
      "/opt/anaconda3/lib/python3.8/site-packages/sklearn/metrics/_classification.py:1245: UndefinedMetricWarning: Precision and F-score are ill-defined and being set to 0.0 in labels with no predicted samples. Use `zero_division` parameter to control this behavior.\n",
      "  _warn_prf(average, modifier, msg_start, len(result))\n",
      "/opt/anaconda3/lib/python3.8/site-packages/sklearn/metrics/_classification.py:1245: UndefinedMetricWarning: Precision and F-score are ill-defined and being set to 0.0 in labels with no predicted samples. Use `zero_division` parameter to control this behavior.\n",
      "  _warn_prf(average, modifier, msg_start, len(result))\n"
     ]
    }
   ],
   "source": [
    "print(metrics.classification_report(y_test, y_pred, digits=3))"
   ]
  },
  {
   "cell_type": "code",
   "execution_count": 727,
   "id": "b4740de9",
   "metadata": {},
   "outputs": [
    {
     "data": {
      "text/plain": [
       "Index(['Home Team Spread_x', 'Away Team Spread_x', 'Total_x', 'Home Score_x_x',\n",
       "       'Rolling 5 Past H&A Score Avg_Home_Team',\n",
       "       'Rolling 5 Past H&A 1st Downs Avg_Home_Team',\n",
       "       'Rolling 5 Past H&A Total Yards Avg_Home_Team',\n",
       "       'Rolling 5 Past H&A Yards per Pass Avg_Home_Team',\n",
       "       'Rolling 5 Past H&A Spread Avg_Home_Team',\n",
       "       'Rolling 5 Past H&A Spread Min_Home_Team',\n",
       "       'Rolling 5 Past H&A HI REC yrds Avg_Home_Team',\n",
       "       'Rolling 5 Past H&A Conf T Wins_Home_Team',\n",
       "       'Rolling 5 Past H&A 3rd Down Conversion % Avg_Home_Team',\n",
       "       'Rolling 5 Past H&A Completion % Avg_Home_Team',\n",
       "       'Rolling 5 Past H&A Q1 Score Avg_Home_Team',\n",
       "       'Rolling 5 Past H&A Ranking Avg_Home_Team',\n",
       "       'Rolling 5 Past H&A Season T Losses_Away_Team', 'Away Score_x_x',\n",
       "       'Rolling 5 Past H&A Score Avg_Away_Team',\n",
       "       'Rolling 5 Past H&A 1st Downs Avg_Away_Team',\n",
       "       'Rolling 5 Past H&A Total Yards Avg_Away_Team',\n",
       "       'Rolling 5 Past H&A Yards per Pass Avg_Away_Team',\n",
       "       'Rolling 5 Past H&A Spread Avg_Away_Team',\n",
       "       'Rolling 5 Past H&A Spread Min_Away_Team',\n",
       "       'Rolling 5 Past H&A HI REC yrds Avg_Away_Team',\n",
       "       'Rolling 5 Past H&A Conf T Wins_Away_Team',\n",
       "       'Rolling 5 Past H&A 3rd Down Conversion % Avg_Away_Team',\n",
       "       'Rolling 5 Past H&A Completion % Avg_Away_Team',\n",
       "       'Rolling 5 Past H&A Q1 Score Avg_Away_Team',\n",
       "       'Rolling 5 Past H&A Ranking Avg_Away_Team',\n",
       "       'Rolling 5 Past H&A Season T Losses_Home_Team', 'Home Team Ranking_x',\n",
       "       'Away Team Ranking_x', 'Previous H&A Ranking_Home_Team',\n",
       "       'Previous H&A Ranking_Away_Team', 'H Spread Outcome', 'Date',\n",
       "       'Home Team', 'Away Team', 'Year'],\n",
       "      dtype='object')"
      ]
     },
     "execution_count": 727,
     "metadata": {},
     "output_type": "execute_result"
    }
   ],
   "source": [
    "X= df4 \n",
    "X.columns"
   ]
  },
  {
   "cell_type": "code",
   "execution_count": 728,
   "id": "e2236f69",
   "metadata": {},
   "outputs": [
    {
     "name": "stderr",
     "output_type": "stream",
     "text": [
      "<ipython-input-728-37748f4ccb0d>:1: SettingWithCopyWarning: \n",
      "A value is trying to be set on a copy of a slice from a DataFrame.\n",
      "Try using .loc[row_indexer,col_indexer] = value instead\n",
      "\n",
      "See the caveats in the documentation: https://pandas.pydata.org/pandas-docs/stable/user_guide/indexing.html#returning-a-view-versus-a-copy\n",
      "  X['Home_Spread_Outcome_NoPush'] = X.apply(lambda x: 'H_Spread_Win' if (x['H Spread Outcome'] == 'H_Spread_W') or (x['H Spread Outcome'] =='H_Spread_Push') else ('H_Spread_Loss'),axis=1)\n"
     ]
    }
   ],
   "source": [
    "X['Home_Spread_Outcome_NoPush'] = X.apply(lambda x: 'H_Spread_Win' if (x['H Spread Outcome'] == 'H_Spread_W') or (x['H Spread Outcome'] =='H_Spread_Push') else ('H_Spread_Loss'),axis=1)\n",
    "                                          \n",
    "                                          \n",
    "                                          \n",
    "                                          "
   ]
  },
  {
   "cell_type": "code",
   "execution_count": 736,
   "id": "4f7ae591",
   "metadata": {},
   "outputs": [
    {
     "name": "stderr",
     "output_type": "stream",
     "text": [
      "<ipython-input-736-cffc509d2686>:1: SettingWithCopyWarning: \n",
      "A value is trying to be set on a copy of a slice from a DataFrame\n",
      "\n",
      "See the caveats in the documentation: https://pandas.pydata.org/pandas-docs/stable/user_guide/indexing.html#returning-a-view-versus-a-copy\n",
      "  X.drop('Home Score_x_x',inplace=True,axis=1)\n",
      "<ipython-input-736-cffc509d2686>:2: SettingWithCopyWarning: \n",
      "A value is trying to be set on a copy of a slice from a DataFrame\n",
      "\n",
      "See the caveats in the documentation: https://pandas.pydata.org/pandas-docs/stable/user_guide/indexing.html#returning-a-view-versus-a-copy\n",
      "  X.drop('Away Score_x_x',inplace=True,axis=1)\n",
      "<ipython-input-736-cffc509d2686>:3: SettingWithCopyWarning: \n",
      "A value is trying to be set on a copy of a slice from a DataFrame\n",
      "\n",
      "See the caveats in the documentation: https://pandas.pydata.org/pandas-docs/stable/user_guide/indexing.html#returning-a-view-versus-a-copy\n",
      "  X.drop('Year',inplace=True,axis=1)\n",
      "<ipython-input-736-cffc509d2686>:5: SettingWithCopyWarning: \n",
      "A value is trying to be set on a copy of a slice from a DataFrame\n",
      "\n",
      "See the caveats in the documentation: https://pandas.pydata.org/pandas-docs/stable/user_guide/indexing.html#returning-a-view-versus-a-copy\n",
      "  X.drop('H Spread Outcome',inplace=True,axis=1)\n",
      "<ipython-input-736-cffc509d2686>:6: SettingWithCopyWarning: \n",
      "A value is trying to be set on a copy of a slice from a DataFrame\n",
      "\n",
      "See the caveats in the documentation: https://pandas.pydata.org/pandas-docs/stable/user_guide/indexing.html#returning-a-view-versus-a-copy\n",
      "  X.drop('Home_Spread_Outcome_NoPush',inplace=True,axis=1)\n",
      "<ipython-input-736-cffc509d2686>:7: SettingWithCopyWarning: \n",
      "A value is trying to be set on a copy of a slice from a DataFrame\n",
      "\n",
      "See the caveats in the documentation: https://pandas.pydata.org/pandas-docs/stable/user_guide/indexing.html#returning-a-view-versus-a-copy\n",
      "  X.drop('Date',inplace=True,axis=1)\n",
      "<ipython-input-736-cffc509d2686>:8: SettingWithCopyWarning: \n",
      "A value is trying to be set on a copy of a slice from a DataFrame\n",
      "\n",
      "See the caveats in the documentation: https://pandas.pydata.org/pandas-docs/stable/user_guide/indexing.html#returning-a-view-versus-a-copy\n",
      "  X.drop('Home Team',inplace=True,axis=1)\n",
      "<ipython-input-736-cffc509d2686>:9: SettingWithCopyWarning: \n",
      "A value is trying to be set on a copy of a slice from a DataFrame\n",
      "\n",
      "See the caveats in the documentation: https://pandas.pydata.org/pandas-docs/stable/user_guide/indexing.html#returning-a-view-versus-a-copy\n",
      "  X.drop('Away Team',inplace=True,axis=1)\n"
     ]
    }
   ],
   "source": [
    "X.drop('Home Score_x_x',inplace=True,axis=1)\n",
    "X.drop('Away Score_x_x',inplace=True,axis=1)\n",
    "X.drop('Year',inplace=True,axis=1)\n",
    "y= X['Home_Spread_Outcome_NoPush']\n",
    "X.drop('H Spread Outcome',inplace=True,axis=1)\n",
    "X.drop('Home_Spread_Outcome_NoPush',inplace=True,axis=1)\n",
    "X.drop('Date',inplace=True,axis=1)\n",
    "X.drop('Home Team',inplace=True,axis=1)\n",
    "X.drop('Away Team',inplace=True,axis=1)"
   ]
  },
  {
   "cell_type": "code",
   "execution_count": 737,
   "id": "ddd22719",
   "metadata": {},
   "outputs": [
    {
     "data": {
      "text/plain": [
       "Index(['Home Team Spread_x', 'Away Team Spread_x', 'Total_x',\n",
       "       'Rolling 5 Past H&A Score Avg_Home_Team',\n",
       "       'Rolling 5 Past H&A 1st Downs Avg_Home_Team',\n",
       "       'Rolling 5 Past H&A Total Yards Avg_Home_Team',\n",
       "       'Rolling 5 Past H&A Yards per Pass Avg_Home_Team',\n",
       "       'Rolling 5 Past H&A Spread Avg_Home_Team',\n",
       "       'Rolling 5 Past H&A Spread Min_Home_Team',\n",
       "       'Rolling 5 Past H&A HI REC yrds Avg_Home_Team',\n",
       "       'Rolling 5 Past H&A Conf T Wins_Home_Team',\n",
       "       'Rolling 5 Past H&A 3rd Down Conversion % Avg_Home_Team',\n",
       "       'Rolling 5 Past H&A Completion % Avg_Home_Team',\n",
       "       'Rolling 5 Past H&A Q1 Score Avg_Home_Team',\n",
       "       'Rolling 5 Past H&A Ranking Avg_Home_Team',\n",
       "       'Rolling 5 Past H&A Season T Losses_Away_Team',\n",
       "       'Rolling 5 Past H&A Score Avg_Away_Team',\n",
       "       'Rolling 5 Past H&A 1st Downs Avg_Away_Team',\n",
       "       'Rolling 5 Past H&A Total Yards Avg_Away_Team',\n",
       "       'Rolling 5 Past H&A Yards per Pass Avg_Away_Team',\n",
       "       'Rolling 5 Past H&A Spread Avg_Away_Team',\n",
       "       'Rolling 5 Past H&A Spread Min_Away_Team',\n",
       "       'Rolling 5 Past H&A HI REC yrds Avg_Away_Team',\n",
       "       'Rolling 5 Past H&A Conf T Wins_Away_Team',\n",
       "       'Rolling 5 Past H&A 3rd Down Conversion % Avg_Away_Team',\n",
       "       'Rolling 5 Past H&A Completion % Avg_Away_Team',\n",
       "       'Rolling 5 Past H&A Q1 Score Avg_Away_Team',\n",
       "       'Rolling 5 Past H&A Ranking Avg_Away_Team',\n",
       "       'Rolling 5 Past H&A Season T Losses_Home_Team', 'Home Team Ranking_x',\n",
       "       'Away Team Ranking_x', 'Previous H&A Ranking_Home_Team',\n",
       "       'Previous H&A Ranking_Away_Team'],\n",
       "      dtype='object')"
      ]
     },
     "execution_count": 737,
     "metadata": {},
     "output_type": "execute_result"
    }
   ],
   "source": [
    "X.columns"
   ]
  },
  {
   "cell_type": "code",
   "execution_count": 873,
   "id": "1b098c5a",
   "metadata": {},
   "outputs": [],
   "source": [
    "parameters = {\n",
    "    'n_neighbors' : [1,3,5,7,9,11,13,15,17,19,21,23,25,27,29,30,31,33,35,37,39,40,41,42,43,44,45,46,47,48,49,50]\n",
    "    \n",
    "}"
   ]
  },
  {
   "cell_type": "code",
   "execution_count": 910,
   "id": "3f96a1ef",
   "metadata": {},
   "outputs": [],
   "source": [
    "KNN = KNeighborsClassifier()"
   ]
  },
  {
   "cell_type": "code",
   "execution_count": 912,
   "id": "0ba4ffb8",
   "metadata": {},
   "outputs": [
    {
     "data": {
      "text/plain": [
       "GridSearchCV(cv=5, estimator=KNeighborsClassifier(),\n",
       "             param_grid={'n_neighbors': [1, 3, 5, 7, 9, 11, 13, 15, 17, 19, 21,\n",
       "                                         23, 25, 27, 29, 30, 31, 33, 35, 37, 39,\n",
       "                                         40, 41, 42, 43, 44, 45, 46, 47, 48, ...]},\n",
       "             scoring='balanced_accuracy')"
      ]
     },
     "execution_count": 912,
     "metadata": {},
     "output_type": "execute_result"
    }
   ],
   "source": [
    "clf = GridSearchCV(KNN,parameters,cv=5,scoring='balanced_accuracy')\n",
    "clf.fit(X,y)"
   ]
  },
  {
   "cell_type": "code",
   "execution_count": 913,
   "id": "1b34e54a",
   "metadata": {},
   "outputs": [],
   "source": [
    "best_param= clf.best_params_"
   ]
  },
  {
   "cell_type": "code",
   "execution_count": 914,
   "id": "fad35b7a",
   "metadata": {},
   "outputs": [
    {
     "data": {
      "text/plain": [
       "{'n_neighbors': 35}"
      ]
     },
     "execution_count": 914,
     "metadata": {},
     "output_type": "execute_result"
    }
   ],
   "source": [
    "best_param"
   ]
  },
  {
   "cell_type": "code",
   "execution_count": 915,
   "id": "e4dba9f9",
   "metadata": {},
   "outputs": [],
   "source": [
    "X_train, X_test, y_train, y_test = train_test_split(X, y, test_size = 0.25, random_state = 42)"
   ]
  },
  {
   "cell_type": "code",
   "execution_count": 920,
   "id": "a448171f",
   "metadata": {},
   "outputs": [],
   "source": [
    "KNN = KNeighborsClassifier(n_neighbors=50)"
   ]
  },
  {
   "cell_type": "code",
   "execution_count": 921,
   "id": "9295e055",
   "metadata": {},
   "outputs": [
    {
     "data": {
      "text/plain": [
       "KNeighborsClassifier(n_neighbors=50)"
      ]
     },
     "execution_count": 921,
     "metadata": {},
     "output_type": "execute_result"
    }
   ],
   "source": [
    "KNN.fit(X_train,y_train)"
   ]
  },
  {
   "cell_type": "code",
   "execution_count": 922,
   "id": "ed189701",
   "metadata": {},
   "outputs": [],
   "source": [
    "y_pred=KNN.predict(X_test)"
   ]
  },
  {
   "cell_type": "code",
   "execution_count": 923,
   "id": "e8beb35b",
   "metadata": {},
   "outputs": [
    {
     "name": "stdout",
     "output_type": "stream",
     "text": [
      "               precision    recall  f1-score   support\n",
      "\n",
      "H_Spread_Loss      0.581     0.600     0.590       120\n",
      " H_Spread_Win      0.556     0.536     0.545       112\n",
      "\n",
      "     accuracy                          0.569       232\n",
      "    macro avg      0.568     0.568     0.568       232\n",
      " weighted avg      0.569     0.569     0.569       232\n",
      "\n"
     ]
    }
   ],
   "source": [
    "print(metrics.classification_report(y_test, y_pred, digits=3))"
   ]
  },
  {
   "cell_type": "code",
   "execution_count": 816,
   "id": "068e4b21",
   "metadata": {},
   "outputs": [],
   "source": [
    "from sklearn import svm"
   ]
  },
  {
   "cell_type": "code",
   "execution_count": 744,
   "id": "fb6bbd50",
   "metadata": {},
   "outputs": [],
   "source": [
    "clf = svm.SVC(decision_function_shape='ovo')"
   ]
  },
  {
   "cell_type": "code",
   "execution_count": 745,
   "id": "f06f8ddf",
   "metadata": {},
   "outputs": [
    {
     "data": {
      "text/plain": [
       "SVC(decision_function_shape='ovo')"
      ]
     },
     "execution_count": 745,
     "metadata": {},
     "output_type": "execute_result"
    }
   ],
   "source": [
    "clf.fit(X_train, y_train)"
   ]
  },
  {
   "cell_type": "code",
   "execution_count": 746,
   "id": "0ad24ea7",
   "metadata": {},
   "outputs": [],
   "source": [
    "y_pred = clf.predict(X_test)\n"
   ]
  },
  {
   "cell_type": "code",
   "execution_count": 747,
   "id": "e8cae031",
   "metadata": {},
   "outputs": [
    {
     "name": "stdout",
     "output_type": "stream",
     "text": [
      "               precision    recall  f1-score   support\n",
      "\n",
      "H_Spread_Loss      0.510     0.408     0.454       120\n",
      " H_Spread_Win      0.478     0.580     0.524       112\n",
      "\n",
      "     accuracy                          0.491       232\n",
      "    macro avg      0.494     0.494     0.489       232\n",
      " weighted avg      0.495     0.491     0.488       232\n",
      "\n"
     ]
    }
   ],
   "source": [
    "print(metrics.classification_report(y_test, y_pred, digits=3))"
   ]
  },
  {
   "cell_type": "code",
   "execution_count": 748,
   "id": "47f7559e",
   "metadata": {},
   "outputs": [],
   "source": [
    "DT = DecisionTreeClassifier()"
   ]
  },
  {
   "cell_type": "code",
   "execution_count": 749,
   "id": "70b203f1",
   "metadata": {},
   "outputs": [
    {
     "data": {
      "text/plain": [
       "DecisionTreeClassifier()"
      ]
     },
     "execution_count": 749,
     "metadata": {},
     "output_type": "execute_result"
    }
   ],
   "source": [
    "DT.fit(X_train,y_train)"
   ]
  },
  {
   "cell_type": "code",
   "execution_count": 750,
   "id": "12afdda0",
   "metadata": {},
   "outputs": [],
   "source": [
    "y_pred=DT.predict(X_test)"
   ]
  },
  {
   "cell_type": "code",
   "execution_count": 751,
   "id": "18444a61",
   "metadata": {},
   "outputs": [
    {
     "name": "stdout",
     "output_type": "stream",
     "text": [
      "               precision    recall  f1-score   support\n",
      "\n",
      "H_Spread_Loss      0.461     0.442     0.451       120\n",
      " H_Spread_Win      0.427     0.446     0.437       112\n",
      "\n",
      "     accuracy                          0.444       232\n",
      "    macro avg      0.444     0.444     0.444       232\n",
      " weighted avg      0.445     0.444     0.444       232\n",
      "\n"
     ]
    }
   ],
   "source": [
    "print(metrics.classification_report(y_test, y_pred, digits=3))"
   ]
  },
  {
   "cell_type": "code",
   "execution_count": 752,
   "id": "7183f926",
   "metadata": {},
   "outputs": [],
   "source": [
    "RF = RandomForestClassifier()"
   ]
  },
  {
   "cell_type": "code",
   "execution_count": 753,
   "id": "77962b61",
   "metadata": {},
   "outputs": [
    {
     "data": {
      "text/plain": [
       "RandomForestClassifier()"
      ]
     },
     "execution_count": 753,
     "metadata": {},
     "output_type": "execute_result"
    }
   ],
   "source": [
    "RF.fit(X_train,y_train)"
   ]
  },
  {
   "cell_type": "code",
   "execution_count": 754,
   "id": "dd21cd37",
   "metadata": {},
   "outputs": [],
   "source": [
    "y_pred=RF.predict(X_test)"
   ]
  },
  {
   "cell_type": "code",
   "execution_count": 755,
   "id": "38f85984",
   "metadata": {},
   "outputs": [
    {
     "name": "stdout",
     "output_type": "stream",
     "text": [
      "               precision    recall  f1-score   support\n",
      "\n",
      "H_Spread_Loss      0.470     0.458     0.464       120\n",
      " H_Spread_Win      0.435     0.446     0.441       112\n",
      "\n",
      "     accuracy                          0.453       232\n",
      "    macro avg      0.452     0.452     0.452       232\n",
      " weighted avg      0.453     0.453     0.453       232\n",
      "\n"
     ]
    }
   ],
   "source": [
    "print(metrics.classification_report(y_test, y_pred, digits=3))"
   ]
  },
  {
   "cell_type": "code",
   "execution_count": null,
   "id": "2c28d07f",
   "metadata": {},
   "outputs": [],
   "source": []
  }
 ],
 "metadata": {
  "kernelspec": {
   "display_name": "Python 3",
   "language": "python",
   "name": "python3"
  },
  "language_info": {
   "codemirror_mode": {
    "name": "ipython",
    "version": 3
   },
   "file_extension": ".py",
   "mimetype": "text/x-python",
   "name": "python",
   "nbconvert_exporter": "python",
   "pygments_lexer": "ipython3",
   "version": "3.8.8"
  }
 },
 "nbformat": 4,
 "nbformat_minor": 5
}
